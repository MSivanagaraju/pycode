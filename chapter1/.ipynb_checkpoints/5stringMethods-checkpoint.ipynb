{
 "cells": [
  {
   "cell_type": "code",
   "execution_count": null,
   "id": "0775e256",
   "metadata": {},
   "outputs": [],
   "source": [
    "#capitalize"
   ]
  },
  {
   "cell_type": "code",
   "execution_count": null,
   "id": "8e462093",
   "metadata": {},
   "outputs": [],
   "source": [
    "help(str.capitalize)"
   ]
  },
  {
   "cell_type": "code",
   "execution_count": null,
   "id": "e93e8a4c",
   "metadata": {},
   "outputs": [],
   "source": [
    "v1=\"welcome\""
   ]
  },
  {
   "cell_type": "code",
   "execution_count": null,
   "id": "433c255a",
   "metadata": {},
   "outputs": [],
   "source": [
    "v1.capitalize()"
   ]
  },
  {
   "cell_type": "code",
   "execution_count": null,
   "id": "49ca6f57",
   "metadata": {},
   "outputs": [],
   "source": [
    "\"welcome to python\".capitalize()"
   ]
  },
  {
   "cell_type": "code",
   "execution_count": null,
   "id": "0ecd2fdd",
   "metadata": {},
   "outputs": [],
   "source": [
    "\"welcome to python. PYTHON is best for AI\".capitalize()"
   ]
  },
  {
   "cell_type": "code",
   "execution_count": null,
   "id": "e0e2d730",
   "metadata": {},
   "outputs": [],
   "source": [
    "\"WELCOME\".casefold()"
   ]
  },
  {
   "cell_type": "code",
   "execution_count": null,
   "id": "07c379f4",
   "metadata": {},
   "outputs": [],
   "source": [
    "#center"
   ]
  },
  {
   "cell_type": "code",
   "execution_count": null,
   "id": "8121fea6",
   "metadata": {},
   "outputs": [],
   "source": [
    "help(str.center)"
   ]
  },
  {
   "cell_type": "code",
   "execution_count": null,
   "id": "cf58cfa8",
   "metadata": {},
   "outputs": [],
   "source": [
    "v1=\"python\""
   ]
  },
  {
   "cell_type": "code",
   "execution_count": null,
   "id": "5b180031",
   "metadata": {},
   "outputs": [],
   "source": [
    "v1.center(31)"
   ]
  },
  {
   "cell_type": "code",
   "execution_count": null,
   "id": "c23a2420",
   "metadata": {},
   "outputs": [],
   "source": [
    "v1.center(31,'*')"
   ]
  },
  {
   "cell_type": "code",
   "execution_count": null,
   "id": "acd69501",
   "metadata": {},
   "outputs": [],
   "source": [
    "v1.center(31,'abc')"
   ]
  },
  {
   "cell_type": "code",
   "execution_count": null,
   "id": "98b123fb",
   "metadata": {},
   "outputs": [],
   "source": [
    "v1.center(31,'a')"
   ]
  },
  {
   "cell_type": "code",
   "execution_count": null,
   "id": "fdce447b",
   "metadata": {},
   "outputs": [],
   "source": [
    "v1.center(7,'*')"
   ]
  },
  {
   "cell_type": "code",
   "execution_count": null,
   "id": "e346157b",
   "metadata": {},
   "outputs": [],
   "source": [
    "v1=\"pytho\""
   ]
  },
  {
   "cell_type": "code",
   "execution_count": null,
   "id": "f773c135",
   "metadata": {},
   "outputs": [],
   "source": [
    "v1.center(6,'*')"
   ]
  },
  {
   "cell_type": "code",
   "execution_count": null,
   "id": "7a03d6a5",
   "metadata": {},
   "outputs": [],
   "source": [
    "v1=\"pyth\""
   ]
  },
  {
   "cell_type": "code",
   "execution_count": null,
   "id": "eeb215d4",
   "metadata": {},
   "outputs": [],
   "source": [
    "v1.center(4,\"*\")"
   ]
  },
  {
   "cell_type": "code",
   "execution_count": null,
   "id": "d3ce790c",
   "metadata": {},
   "outputs": [],
   "source": [
    "v1=\"python\""
   ]
  },
  {
   "cell_type": "code",
   "execution_count": null,
   "id": "1709792a",
   "metadata": {},
   "outputs": [],
   "source": [
    "v1.center(5,'*')"
   ]
  },
  {
   "cell_type": "code",
   "execution_count": null,
   "id": "ef9477d1",
   "metadata": {},
   "outputs": [],
   "source": [
    "#Count"
   ]
  },
  {
   "cell_type": "code",
   "execution_count": null,
   "id": "08be6d61",
   "metadata": {},
   "outputs": [],
   "source": [
    "help(str.count)"
   ]
  },
  {
   "cell_type": "code",
   "execution_count": null,
   "id": "8477b155",
   "metadata": {},
   "outputs": [],
   "source": [
    "v1=\"python is best programming\""
   ]
  },
  {
   "cell_type": "code",
   "execution_count": null,
   "id": "c9a3fd49",
   "metadata": {},
   "outputs": [],
   "source": [
    "v1.count(\"m\")"
   ]
  },
  {
   "cell_type": "code",
   "execution_count": null,
   "id": "e3fe7c5b",
   "metadata": {},
   "outputs": [],
   "source": [
    "v1=\"python is best programiming\""
   ]
  },
  {
   "cell_type": "code",
   "execution_count": null,
   "id": "d5e0d4b4",
   "metadata": {},
   "outputs": [],
   "source": [
    "v1.count(\"i\",8)"
   ]
  },
  {
   "cell_type": "code",
   "execution_count": null,
   "id": "b0bd45e1",
   "metadata": {},
   "outputs": [],
   "source": [
    "v1.count(\"i\",5,12)"
   ]
  },
  {
   "cell_type": "code",
   "execution_count": null,
   "id": "5e3798b1",
   "metadata": {},
   "outputs": [],
   "source": [
    "v1.count(\"i\",7,12)"
   ]
  },
  {
   "cell_type": "code",
   "execution_count": null,
   "id": "44095289",
   "metadata": {},
   "outputs": [],
   "source": [
    "v1.count(\"i\",4,7)"
   ]
  },
  {
   "cell_type": "code",
   "execution_count": null,
   "id": "eb637f0f",
   "metadata": {},
   "outputs": [],
   "source": [
    "#find"
   ]
  },
  {
   "cell_type": "code",
   "execution_count": null,
   "id": "12b16d13",
   "metadata": {},
   "outputs": [],
   "source": [
    "help(str.find)"
   ]
  },
  {
   "cell_type": "code",
   "execution_count": null,
   "id": "ba5a5367",
   "metadata": {},
   "outputs": [],
   "source": []
  },
  {
   "cell_type": "code",
   "execution_count": null,
   "id": "98877652",
   "metadata": {},
   "outputs": [],
   "source": [
    "v1=\"welcome\""
   ]
  },
  {
   "cell_type": "code",
   "execution_count": null,
   "id": "a74aa339",
   "metadata": {},
   "outputs": [],
   "source": [
    "v1.find(\"e\")"
   ]
  },
  {
   "cell_type": "code",
   "execution_count": null,
   "id": "546bc51d",
   "metadata": {},
   "outputs": [],
   "source": [
    "v1.find(\"e\",2)"
   ]
  },
  {
   "cell_type": "code",
   "execution_count": null,
   "id": "d9bf1b4c",
   "metadata": {},
   "outputs": [],
   "source": [
    "email1=\"raju123@gmail.com\""
   ]
  },
  {
   "cell_type": "code",
   "execution_count": null,
   "id": "cb6fb39e",
   "metadata": {},
   "outputs": [],
   "source": [
    "email.find('@')"
   ]
  },
  {
   "cell_type": "code",
   "execution_count": null,
   "id": "37ca91ab",
   "metadata": {},
   "outputs": [],
   "source": [
    "if email1.find(\"@\")>0:\n",
    "    print(\"Valid\")\n",
    "else:\n",
    "    print(\"NotValid\")"
   ]
  },
  {
   "cell_type": "code",
   "execution_count": null,
   "id": "6669d649",
   "metadata": {},
   "outputs": [],
   "source": [
    "email2=\"raju@123@gmail.com\""
   ]
  },
  {
   "cell_type": "code",
   "execution_count": null,
   "id": "6341f0b9",
   "metadata": {},
   "outputs": [],
   "source": [
    "if email2.find(\"@\")>0:\n",
    "    print(\"Valid\")\n",
    "else:\n",
    "    print(\"NotValid\")"
   ]
  },
  {
   "cell_type": "code",
   "execution_count": null,
   "id": "2ceaf24a",
   "metadata": {},
   "outputs": [],
   "source": [
    "email2.find(\"@\",email2.find(\"@\")+1)"
   ]
  },
  {
   "cell_type": "code",
   "execution_count": null,
   "id": "3843ca91",
   "metadata": {},
   "outputs": [],
   "source": [
    "if email2.find(\"@\",email2.find(\"@\")+1)==0:\n",
    "    print(\"Valid\")\n",
    "else:\n",
    "    print(\"NotValid\")"
   ]
  },
  {
   "cell_type": "code",
   "execution_count": null,
   "id": "792d5729",
   "metadata": {},
   "outputs": [],
   "source": [
    "v1=\"python programming\""
   ]
  },
  {
   "cell_type": "code",
   "execution_count": null,
   "id": "4c93f138",
   "metadata": {},
   "outputs": [],
   "source": [
    "v1.find(\"o\",6)"
   ]
  },
  {
   "cell_type": "code",
   "execution_count": null,
   "id": "44198fb0",
   "metadata": {},
   "outputs": [],
   "source": [
    "v1.find(\"o\",6,11)"
   ]
  },
  {
   "cell_type": "code",
   "execution_count": null,
   "id": "039f3b24",
   "metadata": {},
   "outputs": [],
   "source": [
    "v1.find(\"z\")"
   ]
  },
  {
   "cell_type": "code",
   "execution_count": null,
   "id": "34f2913f",
   "metadata": {},
   "outputs": [],
   "source": [
    "#index"
   ]
  },
  {
   "cell_type": "code",
   "execution_count": null,
   "id": "61a18546",
   "metadata": {},
   "outputs": [],
   "source": [
    "v1=\"welcome\""
   ]
  },
  {
   "cell_type": "code",
   "execution_count": null,
   "id": "c521afa4",
   "metadata": {},
   "outputs": [],
   "source": [
    "help(str.index)"
   ]
  },
  {
   "cell_type": "code",
   "execution_count": null,
   "id": "c63365fd",
   "metadata": {},
   "outputs": [],
   "source": [
    "v1.index(\"e\")"
   ]
  },
  {
   "cell_type": "code",
   "execution_count": null,
   "id": "9e4c83f0",
   "metadata": {},
   "outputs": [],
   "source": [
    "v1.index(\"z\")"
   ]
  },
  {
   "cell_type": "code",
   "execution_count": null,
   "id": "c4a3f51a",
   "metadata": {},
   "outputs": [],
   "source": [
    "#join"
   ]
  },
  {
   "cell_type": "code",
   "execution_count": null,
   "id": "8010dfc0",
   "metadata": {},
   "outputs": [],
   "source": [
    "\",\".join(\"welcome\")"
   ]
  },
  {
   "cell_type": "code",
   "execution_count": null,
   "id": "51ad988b",
   "metadata": {},
   "outputs": [],
   "source": [
    "\"@\".join(\"welcome\")"
   ]
  },
  {
   "cell_type": "code",
   "execution_count": null,
   "id": "dc2e56d8",
   "metadata": {},
   "outputs": [],
   "source": [
    "\"#\".join(\"w\")"
   ]
  },
  {
   "cell_type": "code",
   "execution_count": null,
   "id": "e036f95c",
   "metadata": {},
   "outputs": [],
   "source": [
    "\"$\".join(\"w \")"
   ]
  },
  {
   "cell_type": "code",
   "execution_count": null,
   "id": "e8d8d175",
   "metadata": {},
   "outputs": [],
   "source": [
    "\"#\".join(\"we\")"
   ]
  },
  {
   "cell_type": "code",
   "execution_count": null,
   "id": "41f5b0d0",
   "metadata": {},
   "outputs": [],
   "source": [
    "\"python\".join(\"123\")"
   ]
  },
  {
   "cell_type": "code",
   "execution_count": null,
   "id": "12803d79",
   "metadata": {},
   "outputs": [],
   "source": [
    "\"python\".join(\"123 \")"
   ]
  },
  {
   "cell_type": "code",
   "execution_count": null,
   "id": "0e35a6e1",
   "metadata": {},
   "outputs": [],
   "source": [
    "\"python\".join(123)"
   ]
  },
  {
   "cell_type": "code",
   "execution_count": null,
   "id": "252f3ecc",
   "metadata": {},
   "outputs": [],
   "source": [
    "\"python\".join([\"one\",'two'])"
   ]
  },
  {
   "cell_type": "code",
   "execution_count": null,
   "id": "fe89d878",
   "metadata": {},
   "outputs": [],
   "source": [
    "#replace"
   ]
  },
  {
   "cell_type": "code",
   "execution_count": null,
   "id": "bad6a8e3",
   "metadata": {},
   "outputs": [],
   "source": [
    "v1=\"walcoma\""
   ]
  },
  {
   "cell_type": "code",
   "execution_count": null,
   "id": "f05b19e6",
   "metadata": {},
   "outputs": [],
   "source": [
    "v1.replace('a','e')"
   ]
  },
  {
   "cell_type": "code",
   "execution_count": null,
   "id": "0f09c8f6",
   "metadata": {},
   "outputs": [],
   "source": [
    "v1"
   ]
  },
  {
   "cell_type": "code",
   "execution_count": null,
   "id": "817f6684",
   "metadata": {},
   "outputs": [],
   "source": [
    "\"walcoma\"[1]"
   ]
  },
  {
   "cell_type": "code",
   "execution_count": null,
   "id": "3a93d107",
   "metadata": {},
   "outputs": [],
   "source": [
    "\"walcoma\"[1]='e'"
   ]
  },
  {
   "cell_type": "code",
   "execution_count": null,
   "id": "ea3806d0",
   "metadata": {},
   "outputs": [],
   "source": [
    "v1=\"walcoma\""
   ]
  },
  {
   "cell_type": "code",
   "execution_count": null,
   "id": "f763881c",
   "metadata": {},
   "outputs": [],
   "source": [
    "id(v1)"
   ]
  },
  {
   "cell_type": "code",
   "execution_count": null,
   "id": "35933e5f",
   "metadata": {},
   "outputs": [],
   "source": [
    "v1=v1.replace('a','e')"
   ]
  },
  {
   "cell_type": "code",
   "execution_count": null,
   "id": "391a24b1",
   "metadata": {},
   "outputs": [],
   "source": [
    "v1"
   ]
  },
  {
   "cell_type": "code",
   "execution_count": null,
   "id": "c8b8a68a",
   "metadata": {},
   "outputs": [],
   "source": [
    "id(v1)"
   ]
  },
  {
   "cell_type": "code",
   "execution_count": null,
   "id": "199ea4c8",
   "metadata": {},
   "outputs": [],
   "source": [
    "a=10"
   ]
  },
  {
   "cell_type": "code",
   "execution_count": null,
   "id": "7c0ac4b9",
   "metadata": {},
   "outputs": [],
   "source": [
    "id(a)"
   ]
  },
  {
   "cell_type": "code",
   "execution_count": null,
   "id": "35cd2962",
   "metadata": {},
   "outputs": [],
   "source": [
    "a=20"
   ]
  },
  {
   "cell_type": "code",
   "execution_count": null,
   "id": "d5a051b5",
   "metadata": {},
   "outputs": [],
   "source": [
    "id(a)"
   ]
  },
  {
   "cell_type": "code",
   "execution_count": null,
   "id": "df53df64",
   "metadata": {},
   "outputs": [],
   "source": [
    "x=100"
   ]
  },
  {
   "cell_type": "code",
   "execution_count": null,
   "id": "409b57a7",
   "metadata": {},
   "outputs": [],
   "source": [
    "id(x)"
   ]
  },
  {
   "cell_type": "code",
   "execution_count": null,
   "id": "1c69e509",
   "metadata": {},
   "outputs": [],
   "source": [
    "x=200"
   ]
  },
  {
   "cell_type": "code",
   "execution_count": null,
   "id": "e44758c6",
   "metadata": {},
   "outputs": [],
   "source": [
    "id(x)"
   ]
  },
  {
   "cell_type": "code",
   "execution_count": null,
   "id": "37c710fa",
   "metadata": {},
   "outputs": [],
   "source": [
    "x=100"
   ]
  },
  {
   "cell_type": "code",
   "execution_count": null,
   "id": "18e331a7",
   "metadata": {},
   "outputs": [],
   "source": [
    "id(x)"
   ]
  },
  {
   "cell_type": "code",
   "execution_count": null,
   "id": "70aada20",
   "metadata": {},
   "outputs": [],
   "source": [
    "#isdigit"
   ]
  },
  {
   "cell_type": "code",
   "execution_count": null,
   "id": "516336e4",
   "metadata": {},
   "outputs": [],
   "source": [
    "\"abc123\".isdigit()"
   ]
  },
  {
   "cell_type": "code",
   "execution_count": null,
   "id": "02570b4a",
   "metadata": {},
   "outputs": [],
   "source": [
    "\"abc\".isdigit()"
   ]
  },
  {
   "cell_type": "code",
   "execution_count": null,
   "id": "f9146732",
   "metadata": {},
   "outputs": [],
   "source": [
    "\"100\".isdigit()"
   ]
  },
  {
   "cell_type": "code",
   "execution_count": null,
   "id": "93fdb7e5",
   "metadata": {},
   "outputs": [],
   "source": [
    "#isalnum"
   ]
  },
  {
   "cell_type": "code",
   "execution_count": null,
   "id": "0f9378ef",
   "metadata": {},
   "outputs": [],
   "source": [
    "\"abc123\".isalnum()"
   ]
  },
  {
   "cell_type": "code",
   "execution_count": null,
   "id": "e7454036",
   "metadata": {},
   "outputs": [],
   "source": [
    "\"abc\".isalnum()"
   ]
  },
  {
   "cell_type": "code",
   "execution_count": null,
   "id": "f80f4d80",
   "metadata": {},
   "outputs": [],
   "source": [
    "\"100\".isalnum()"
   ]
  },
  {
   "cell_type": "code",
   "execution_count": null,
   "id": "d0778997",
   "metadata": {},
   "outputs": [],
   "source": [
    "#isalph"
   ]
  },
  {
   "cell_type": "code",
   "execution_count": null,
   "id": "52443504",
   "metadata": {},
   "outputs": [],
   "source": [
    "\"abc123\".isalpha()"
   ]
  },
  {
   "cell_type": "code",
   "execution_count": null,
   "id": "79bb2ce5",
   "metadata": {},
   "outputs": [],
   "source": [
    "\"abc\".isalpha()"
   ]
  },
  {
   "cell_type": "code",
   "execution_count": null,
   "id": "a1011162",
   "metadata": {},
   "outputs": [],
   "source": [
    "\"100\".isalpha()"
   ]
  },
  {
   "cell_type": "code",
   "execution_count": null,
   "id": "786f5116",
   "metadata": {},
   "outputs": [],
   "source": []
  },
  {
   "cell_type": "code",
   "execution_count": null,
   "id": "3e2a0eeb",
   "metadata": {},
   "outputs": [],
   "source": []
  },
  {
   "cell_type": "code",
   "execution_count": null,
   "id": "023bd4db",
   "metadata": {},
   "outputs": [],
   "source": []
  },
  {
   "cell_type": "code",
   "execution_count": null,
   "id": "f579a817",
   "metadata": {},
   "outputs": [],
   "source": []
  },
  {
   "cell_type": "code",
   "execution_count": null,
   "id": "f10a7bd2",
   "metadata": {},
   "outputs": [],
   "source": []
  },
  {
   "cell_type": "code",
   "execution_count": null,
   "id": "6a5df53e",
   "metadata": {},
   "outputs": [],
   "source": []
  }
 ],
 "metadata": {
  "kernelspec": {
   "display_name": "Python 3 (ipykernel)",
   "language": "python",
   "name": "python3"
  },
  "language_info": {
   "codemirror_mode": {
    "name": "ipython",
    "version": 3
   },
   "file_extension": ".py",
   "mimetype": "text/x-python",
   "name": "python",
   "nbconvert_exporter": "python",
   "pygments_lexer": "ipython3",
   "version": "3.9.7"
  }
 },
 "nbformat": 4,
 "nbformat_minor": 5
}
