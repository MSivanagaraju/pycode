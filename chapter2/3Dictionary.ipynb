{
 "cells": [
  {
   "cell_type": "code",
   "execution_count": null,
   "id": "55e629de",
   "metadata": {},
   "outputs": [],
   "source": [
    "#Dictionary\n",
    "#key ==> value\n",
    "#keys are unique\n",
    "#values can be duplicate\n",
    "#no index in dictionary"
   ]
  },
  {
   "cell_type": "code",
   "execution_count": null,
   "id": "79b7e7fa",
   "metadata": {},
   "outputs": [],
   "source": [
    "#creating dictionary\n",
    "# dict = { key : value , key : value}"
   ]
  },
  {
   "cell_type": "code",
   "execution_count": 1,
   "id": "cd05dff1",
   "metadata": {},
   "outputs": [],
   "source": [
    "D1={1:100,2:200,3:300,4:400}\n",
    "D2={'a':'apple','b':'banana','c':'cherry','d':'dragon fruit'}\n",
    "D3={1:'sun',2:'mon',3:'tue',4:'wed',5:'thu',6:'fri',7:'sat'}\n",
    "students={101:['raju','python',5000],102:['ram','django',10000]}\n",
    "student_info={\n",
    "    101:{'name':'raju','course':'python','fee':5000},\n",
    "    102:{'name':'ravi','course':'django','fee':10000}\n",
    "             }"
   ]
  },
  {
   "cell_type": "code",
   "execution_count": 2,
   "id": "e606a768",
   "metadata": {},
   "outputs": [
    {
     "name": "stdout",
     "output_type": "stream",
     "text": [
      "{1: 100, 2: 200, 3: 300, 4: 400}\n"
     ]
    }
   ],
   "source": [
    "print(D1)"
   ]
  },
  {
   "cell_type": "code",
   "execution_count": 3,
   "id": "bb5e1a27",
   "metadata": {},
   "outputs": [
    {
     "name": "stdout",
     "output_type": "stream",
     "text": [
      "{'a': 'apple', 'b': 'banana', 'c': 'cherry', 'd': 'dragon fruit'}\n"
     ]
    }
   ],
   "source": [
    "print(D2)"
   ]
  },
  {
   "cell_type": "code",
   "execution_count": 4,
   "id": "cf90c220",
   "metadata": {},
   "outputs": [
    {
     "name": "stdout",
     "output_type": "stream",
     "text": [
      "{1: 'sun', 2: 'mon', 3: 'tue', 4: 'wed', 5: 'thu', 6: 'fri', 7: 'sat'}\n"
     ]
    }
   ],
   "source": [
    "print(D3)"
   ]
  },
  {
   "cell_type": "code",
   "execution_count": 5,
   "id": "8f2e7359",
   "metadata": {},
   "outputs": [
    {
     "name": "stdout",
     "output_type": "stream",
     "text": [
      "{101: ['raju', 'python', 5000], 102: ['ram', 'django', 10000]}\n"
     ]
    }
   ],
   "source": [
    "print(students)"
   ]
  },
  {
   "cell_type": "code",
   "execution_count": 6,
   "id": "20461803",
   "metadata": {},
   "outputs": [
    {
     "name": "stdout",
     "output_type": "stream",
     "text": [
      "{101: {'name': 'raju', 'course': 'python', 'fee': 5000}, 102: {'name': 'ravi', 'course': 'django', 'fee': 10000}}\n"
     ]
    }
   ],
   "source": [
    "print(student_info)"
   ]
  },
  {
   "cell_type": "code",
   "execution_count": 7,
   "id": "91f96b44",
   "metadata": {},
   "outputs": [
    {
     "data": {
      "text/plain": [
       "{1: 100, 2: 200, 3: 300, 4: 400}"
      ]
     },
     "execution_count": 7,
     "metadata": {},
     "output_type": "execute_result"
    }
   ],
   "source": [
    "D1"
   ]
  },
  {
   "cell_type": "code",
   "execution_count": 8,
   "id": "127d3cc5",
   "metadata": {},
   "outputs": [
    {
     "data": {
      "text/plain": [
       "100"
      ]
     },
     "execution_count": 8,
     "metadata": {},
     "output_type": "execute_result"
    }
   ],
   "source": [
    "D1[1]"
   ]
  },
  {
   "cell_type": "code",
   "execution_count": 9,
   "id": "9b5e508f",
   "metadata": {},
   "outputs": [
    {
     "data": {
      "text/plain": [
       "{'a': 'apple', 'b': 'banana', 'c': 'cherry', 'd': 'dragon fruit'}"
      ]
     },
     "execution_count": 9,
     "metadata": {},
     "output_type": "execute_result"
    }
   ],
   "source": [
    "D2"
   ]
  },
  {
   "cell_type": "code",
   "execution_count": 10,
   "id": "e4a3ec9b",
   "metadata": {},
   "outputs": [
    {
     "data": {
      "text/plain": [
       "'apple'"
      ]
     },
     "execution_count": 10,
     "metadata": {},
     "output_type": "execute_result"
    }
   ],
   "source": [
    "D2['a']"
   ]
  },
  {
   "cell_type": "code",
   "execution_count": 11,
   "id": "21d0db13",
   "metadata": {},
   "outputs": [
    {
     "data": {
      "text/plain": [
       "{1: 'sun', 2: 'mon', 3: 'tue', 4: 'wed', 5: 'thu', 6: 'fri', 7: 'sat'}"
      ]
     },
     "execution_count": 11,
     "metadata": {},
     "output_type": "execute_result"
    }
   ],
   "source": [
    "D3"
   ]
  },
  {
   "cell_type": "code",
   "execution_count": 12,
   "id": "8f89597d",
   "metadata": {},
   "outputs": [
    {
     "data": {
      "text/plain": [
       "'sun'"
      ]
     },
     "execution_count": 12,
     "metadata": {},
     "output_type": "execute_result"
    }
   ],
   "source": [
    "D3[1]"
   ]
  },
  {
   "cell_type": "code",
   "execution_count": 13,
   "id": "29667196",
   "metadata": {},
   "outputs": [
    {
     "data": {
      "text/plain": [
       "{101: ['raju', 'python', 5000], 102: ['ram', 'django', 10000]}"
      ]
     },
     "execution_count": 13,
     "metadata": {},
     "output_type": "execute_result"
    }
   ],
   "source": [
    "students"
   ]
  },
  {
   "cell_type": "code",
   "execution_count": 14,
   "id": "2310e887",
   "metadata": {},
   "outputs": [
    {
     "data": {
      "text/plain": [
       "['raju', 'python', 5000]"
      ]
     },
     "execution_count": 14,
     "metadata": {},
     "output_type": "execute_result"
    }
   ],
   "source": [
    "students[101]"
   ]
  },
  {
   "cell_type": "code",
   "execution_count": 15,
   "id": "02692faf",
   "metadata": {},
   "outputs": [
    {
     "data": {
      "text/plain": [
       "'raju'"
      ]
     },
     "execution_count": 15,
     "metadata": {},
     "output_type": "execute_result"
    }
   ],
   "source": [
    "students[101][0]"
   ]
  },
  {
   "cell_type": "code",
   "execution_count": 16,
   "id": "6b390b0b",
   "metadata": {},
   "outputs": [
    {
     "data": {
      "text/plain": [
       "'python'"
      ]
     },
     "execution_count": 16,
     "metadata": {},
     "output_type": "execute_result"
    }
   ],
   "source": [
    "students[101][1]"
   ]
  },
  {
   "cell_type": "code",
   "execution_count": 17,
   "id": "8a7b14dc",
   "metadata": {},
   "outputs": [
    {
     "data": {
      "text/plain": [
       "5000"
      ]
     },
     "execution_count": 17,
     "metadata": {},
     "output_type": "execute_result"
    }
   ],
   "source": [
    "students[101][2]"
   ]
  },
  {
   "cell_type": "code",
   "execution_count": 18,
   "id": "e5d5aab5",
   "metadata": {},
   "outputs": [
    {
     "data": {
      "text/plain": [
       "{101: {'name': 'raju', 'course': 'python', 'fee': 5000},\n",
       " 102: {'name': 'ravi', 'course': 'django', 'fee': 10000}}"
      ]
     },
     "execution_count": 18,
     "metadata": {},
     "output_type": "execute_result"
    }
   ],
   "source": [
    "student_info"
   ]
  },
  {
   "cell_type": "code",
   "execution_count": 19,
   "id": "71635d4f",
   "metadata": {},
   "outputs": [
    {
     "data": {
      "text/plain": [
       "{'name': 'raju', 'course': 'python', 'fee': 5000}"
      ]
     },
     "execution_count": 19,
     "metadata": {},
     "output_type": "execute_result"
    }
   ],
   "source": [
    "student_info[101]"
   ]
  },
  {
   "cell_type": "code",
   "execution_count": 20,
   "id": "1de57bb6",
   "metadata": {},
   "outputs": [
    {
     "data": {
      "text/plain": [
       "'raju'"
      ]
     },
     "execution_count": 20,
     "metadata": {},
     "output_type": "execute_result"
    }
   ],
   "source": [
    "student_info[101]['name']"
   ]
  },
  {
   "cell_type": "code",
   "execution_count": 21,
   "id": "d1d48f22",
   "metadata": {},
   "outputs": [
    {
     "data": {
      "text/plain": [
       "'python'"
      ]
     },
     "execution_count": 21,
     "metadata": {},
     "output_type": "execute_result"
    }
   ],
   "source": [
    "student_info[101]['course']"
   ]
  },
  {
   "cell_type": "code",
   "execution_count": 22,
   "id": "c5ad3a66",
   "metadata": {},
   "outputs": [
    {
     "data": {
      "text/plain": [
       "'p'"
      ]
     },
     "execution_count": 22,
     "metadata": {},
     "output_type": "execute_result"
    }
   ],
   "source": [
    "student_info[101]['course'][0]"
   ]
  },
  {
   "cell_type": "code",
   "execution_count": 23,
   "id": "f1517087",
   "metadata": {},
   "outputs": [],
   "source": [
    "a='apple'\n",
    "b='banana'\n",
    "c='cherry'"
   ]
  },
  {
   "cell_type": "code",
   "execution_count": 24,
   "id": "1f4ecc1a",
   "metadata": {},
   "outputs": [],
   "source": [
    "D4={1:a,2:b,3:c}"
   ]
  },
  {
   "cell_type": "code",
   "execution_count": 25,
   "id": "31268602",
   "metadata": {},
   "outputs": [
    {
     "data": {
      "text/plain": [
       "{1: 'apple', 2: 'banana', 3: 'cherry'}"
      ]
     },
     "execution_count": 25,
     "metadata": {},
     "output_type": "execute_result"
    }
   ],
   "source": [
    "D4"
   ]
  },
  {
   "cell_type": "code",
   "execution_count": 26,
   "id": "c537c542",
   "metadata": {},
   "outputs": [
    {
     "name": "stdout",
     "output_type": "stream",
     "text": [
      "{1: 300, 2: 200, 3: 340, 4: 400}\n"
     ]
    }
   ],
   "source": [
    "#duplicate keys not allowed\n",
    "D4 = {1:100,2:200,1:300,3:340,4:400}\n",
    "print(D4)"
   ]
  },
  {
   "cell_type": "code",
   "execution_count": null,
   "id": "a616f515",
   "metadata": {},
   "outputs": [],
   "source": [
    "#creating empty dictionary"
   ]
  },
  {
   "cell_type": "code",
   "execution_count": 27,
   "id": "55c5195b",
   "metadata": {},
   "outputs": [
    {
     "data": {
      "text/plain": [
       "dict"
      ]
     },
     "execution_count": 27,
     "metadata": {},
     "output_type": "execute_result"
    }
   ],
   "source": [
    "#method 1\n",
    "D5 = {}\n",
    "type(D5)"
   ]
  },
  {
   "cell_type": "code",
   "execution_count": 28,
   "id": "30b32b44",
   "metadata": {},
   "outputs": [
    {
     "name": "stdout",
     "output_type": "stream",
     "text": [
      "{}\n"
     ]
    }
   ],
   "source": [
    "print(D5)"
   ]
  },
  {
   "cell_type": "code",
   "execution_count": 29,
   "id": "fd942ba6",
   "metadata": {},
   "outputs": [
    {
     "data": {
      "text/plain": [
       "type"
      ]
     },
     "execution_count": 29,
     "metadata": {},
     "output_type": "execute_result"
    }
   ],
   "source": [
    "type(dict)"
   ]
  },
  {
   "cell_type": "code",
   "execution_count": 30,
   "id": "a1999885",
   "metadata": {},
   "outputs": [
    {
     "name": "stdout",
     "output_type": "stream",
     "text": [
      "<class 'dict'>\n",
      "{}\n"
     ]
    }
   ],
   "source": [
    "#method 2 : creating dictionary with dict class\n",
    "D6 = dict()\n",
    "print(type(D6))\n",
    "print(D6)"
   ]
  },
  {
   "cell_type": "code",
   "execution_count": 31,
   "id": "e1267fb3",
   "metadata": {},
   "outputs": [],
   "source": [
    "D2={'a':'apple','b':'banana','c':'cherry','d':'dragon fruit'}"
   ]
  },
  {
   "cell_type": "code",
   "execution_count": 32,
   "id": "cda69ecf",
   "metadata": {},
   "outputs": [
    {
     "data": {
      "text/plain": [
       "{'a': 'apple', 'b': 'banana', 'c': 'cherry', 'd': 'dragon fruit'}"
      ]
     },
     "execution_count": 32,
     "metadata": {},
     "output_type": "execute_result"
    }
   ],
   "source": [
    "D2"
   ]
  },
  {
   "cell_type": "code",
   "execution_count": 33,
   "id": "86cbf6d7",
   "metadata": {},
   "outputs": [],
   "source": [
    "D2['a']='apricot'"
   ]
  },
  {
   "cell_type": "code",
   "execution_count": 34,
   "id": "54e61f1f",
   "metadata": {},
   "outputs": [
    {
     "data": {
      "text/plain": [
       "{'a': 'apricot', 'b': 'banana', 'c': 'cherry', 'd': 'dragon fruit'}"
      ]
     },
     "execution_count": 34,
     "metadata": {},
     "output_type": "execute_result"
    }
   ],
   "source": [
    "D2"
   ]
  },
  {
   "cell_type": "code",
   "execution_count": 35,
   "id": "0e976144",
   "metadata": {},
   "outputs": [
    {
     "data": {
      "text/plain": [
       "{1: 100, 2: 200, 3: 300, 4: 400}"
      ]
     },
     "execution_count": 35,
     "metadata": {},
     "output_type": "execute_result"
    }
   ],
   "source": [
    "D1"
   ]
  },
  {
   "cell_type": "code",
   "execution_count": 36,
   "id": "84c4d55a",
   "metadata": {},
   "outputs": [
    {
     "data": {
      "text/plain": [
       "{1: 1000, 2: 200, 3: 300, 4: 400}"
      ]
     },
     "execution_count": 36,
     "metadata": {},
     "output_type": "execute_result"
    }
   ],
   "source": [
    "D1[1]=1000\n",
    "D1"
   ]
  },
  {
   "cell_type": "code",
   "execution_count": 37,
   "id": "7213dbf1",
   "metadata": {},
   "outputs": [
    {
     "data": {
      "text/plain": [
       "{1: 1000, 2: 200, 3: 300, 4: 400, 5: 500}"
      ]
     },
     "execution_count": 37,
     "metadata": {},
     "output_type": "execute_result"
    }
   ],
   "source": [
    "D1[5]=500\n",
    "D1"
   ]
  },
  {
   "cell_type": "code",
   "execution_count": 38,
   "id": "f21e2c56",
   "metadata": {},
   "outputs": [
    {
     "data": {
      "text/plain": [
       "dict"
      ]
     },
     "execution_count": 38,
     "metadata": {},
     "output_type": "execute_result"
    }
   ],
   "source": [
    "type(D1)"
   ]
  },
  {
   "cell_type": "code",
   "execution_count": 39,
   "id": "ad0e8471",
   "metadata": {},
   "outputs": [
    {
     "data": {
      "text/plain": [
       "int"
      ]
     },
     "execution_count": 39,
     "metadata": {},
     "output_type": "execute_result"
    }
   ],
   "source": [
    "type(D1[1])"
   ]
  },
  {
   "cell_type": "code",
   "execution_count": 40,
   "id": "841140c7",
   "metadata": {},
   "outputs": [
    {
     "data": {
      "text/plain": [
       "{'a': 'apricot', 'b': 'banana', 'c': 'cherry', 'd': 'dragon fruit'}"
      ]
     },
     "execution_count": 40,
     "metadata": {},
     "output_type": "execute_result"
    }
   ],
   "source": [
    "D2"
   ]
  },
  {
   "cell_type": "code",
   "execution_count": 41,
   "id": "66397553",
   "metadata": {},
   "outputs": [
    {
     "name": "stdout",
     "output_type": "stream",
     "text": [
      "Pretty printing has been turned OFF\n"
     ]
    }
   ],
   "source": [
    "pprint"
   ]
  },
  {
   "cell_type": "code",
   "execution_count": 42,
   "id": "d6f59041",
   "metadata": {},
   "outputs": [
    {
     "data": {
      "text/plain": [
       "['__class__', '__class_getitem__', '__contains__', '__delattr__', '__delitem__', '__dir__', '__doc__', '__eq__', '__format__', '__ge__', '__getattribute__', '__getitem__', '__gt__', '__hash__', '__init__', '__init_subclass__', '__ior__', '__iter__', '__le__', '__len__', '__lt__', '__ne__', '__new__', '__or__', '__reduce__', '__reduce_ex__', '__repr__', '__reversed__', '__ror__', '__setattr__', '__setitem__', '__sizeof__', '__str__', '__subclasshook__', 'clear', 'copy', 'fromkeys', 'get', 'items', 'keys', 'pop', 'popitem', 'setdefault', 'update', 'values']"
      ]
     },
     "execution_count": 42,
     "metadata": {},
     "output_type": "execute_result"
    }
   ],
   "source": [
    "dir(D2)"
   ]
  },
  {
   "cell_type": "raw",
   "id": "72cf0ea7",
   "metadata": {},
   "source": [
    "#dictionary method\n",
    "'clear', 'copy', 'fromkeys', 'get', 'items', 'keys', 'pop', 'popitem', 'setdefault', 'update', \n",
    "'values'"
   ]
  },
  {
   "cell_type": "code",
   "execution_count": 43,
   "id": "ebb69b68",
   "metadata": {},
   "outputs": [],
   "source": [
    "D1={1:100,2:200,3:300}"
   ]
  },
  {
   "cell_type": "code",
   "execution_count": 44,
   "id": "2479aff5",
   "metadata": {},
   "outputs": [
    {
     "name": "stdout",
     "output_type": "stream",
     "text": [
      "{1: 100, 2: 200, 3: 300}\n",
      "{}\n"
     ]
    }
   ],
   "source": [
    "#clear\n",
    "print(D1)\n",
    "D1.clear()\n",
    "print(D1)"
   ]
  },
  {
   "cell_type": "code",
   "execution_count": 45,
   "id": "b574b56d",
   "metadata": {},
   "outputs": [
    {
     "data": {
      "text/plain": [
       "{1: 100, 2: 200, 3: 300}"
      ]
     },
     "execution_count": 45,
     "metadata": {},
     "output_type": "execute_result"
    }
   ],
   "source": [
    "#copy\n",
    "D1={1:100,2:200,3:300}\n",
    "D1"
   ]
  },
  {
   "cell_type": "code",
   "execution_count": 46,
   "id": "cec43d81",
   "metadata": {},
   "outputs": [
    {
     "name": "stdout",
     "output_type": "stream",
     "text": [
      "{1: 100, 2: 200, 3: 300}\n",
      "{1: 100, 2: 200, 3: 300}\n"
     ]
    }
   ],
   "source": [
    "print(D1)\n",
    "D2 = D1.copy()\n",
    "print(D2)"
   ]
  },
  {
   "cell_type": "code",
   "execution_count": 47,
   "id": "cb3c542b",
   "metadata": {},
   "outputs": [
    {
     "name": "stdout",
     "output_type": "stream",
     "text": [
      "{1: 100, 2: 200, 3: 300}\n",
      "{1: 100, 2: 200, 3: 300}\n"
     ]
    }
   ],
   "source": [
    "print(D1)\n",
    "D3 = dict.copy(D1)\n",
    "print(D3)"
   ]
  },
  {
   "cell_type": "code",
   "execution_count": 48,
   "id": "769d64ca",
   "metadata": {},
   "outputs": [
    {
     "data": {
      "text/plain": [
       "3039142243264"
      ]
     },
     "execution_count": 48,
     "metadata": {},
     "output_type": "execute_result"
    }
   ],
   "source": [
    "id(D1)"
   ]
  },
  {
   "cell_type": "code",
   "execution_count": 49,
   "id": "bd81e098",
   "metadata": {},
   "outputs": [
    {
     "data": {
      "text/plain": [
       "3039142270848"
      ]
     },
     "execution_count": 49,
     "metadata": {},
     "output_type": "execute_result"
    }
   ],
   "source": [
    "id(D2)"
   ]
  },
  {
   "cell_type": "code",
   "execution_count": 50,
   "id": "5de1a68f",
   "metadata": {},
   "outputs": [
    {
     "name": "stdout",
     "output_type": "stream",
     "text": [
      "{1: 100, 2: 200, 3: 300}\n"
     ]
    }
   ],
   "source": [
    "D4=D3\n",
    "print(D4)"
   ]
  },
  {
   "cell_type": "code",
   "execution_count": 51,
   "id": "5b57baff",
   "metadata": {},
   "outputs": [
    {
     "data": {
      "text/plain": [
       "3039142271360"
      ]
     },
     "execution_count": 51,
     "metadata": {},
     "output_type": "execute_result"
    }
   ],
   "source": [
    "id(D3)"
   ]
  },
  {
   "cell_type": "code",
   "execution_count": 52,
   "id": "b1479468",
   "metadata": {},
   "outputs": [
    {
     "data": {
      "text/plain": [
       "3039142271360"
      ]
     },
     "execution_count": 52,
     "metadata": {},
     "output_type": "execute_result"
    }
   ],
   "source": [
    "id(D4)"
   ]
  },
  {
   "cell_type": "code",
   "execution_count": 53,
   "id": "c62e290f",
   "metadata": {},
   "outputs": [
    {
     "data": {
      "text/plain": [
       "{1: 100, 2: 200, 3: 300}"
      ]
     },
     "execution_count": 53,
     "metadata": {},
     "output_type": "execute_result"
    }
   ],
   "source": [
    "D3"
   ]
  },
  {
   "cell_type": "code",
   "execution_count": 54,
   "id": "866ff9bc",
   "metadata": {},
   "outputs": [
    {
     "data": {
      "text/plain": [
       "{1: 100, 2: 200, 3: 300}"
      ]
     },
     "execution_count": 54,
     "metadata": {},
     "output_type": "execute_result"
    }
   ],
   "source": [
    "D4"
   ]
  },
  {
   "cell_type": "code",
   "execution_count": 55,
   "id": "70c3e063",
   "metadata": {},
   "outputs": [
    {
     "data": {
      "text/plain": [
       "100"
      ]
     },
     "execution_count": 55,
     "metadata": {},
     "output_type": "execute_result"
    }
   ],
   "source": [
    "D3[1]"
   ]
  },
  {
   "cell_type": "code",
   "execution_count": 56,
   "id": "90435240",
   "metadata": {},
   "outputs": [
    {
     "data": {
      "text/plain": [
       "100"
      ]
     },
     "execution_count": 56,
     "metadata": {},
     "output_type": "execute_result"
    }
   ],
   "source": [
    "D4[1]"
   ]
  },
  {
   "cell_type": "code",
   "execution_count": 57,
   "id": "20d1d00a",
   "metadata": {},
   "outputs": [],
   "source": [
    "D3[1]=1000"
   ]
  },
  {
   "cell_type": "code",
   "execution_count": 58,
   "id": "23418934",
   "metadata": {},
   "outputs": [
    {
     "data": {
      "text/plain": [
       "1000"
      ]
     },
     "execution_count": 58,
     "metadata": {},
     "output_type": "execute_result"
    }
   ],
   "source": [
    "D3[1]"
   ]
  },
  {
   "cell_type": "code",
   "execution_count": 59,
   "id": "dd3b5a42",
   "metadata": {},
   "outputs": [
    {
     "data": {
      "text/plain": [
       "1000"
      ]
     },
     "execution_count": 59,
     "metadata": {},
     "output_type": "execute_result"
    }
   ],
   "source": [
    "D4[1]"
   ]
  },
  {
   "cell_type": "code",
   "execution_count": 60,
   "id": "bae96f26",
   "metadata": {},
   "outputs": [
    {
     "data": {
      "text/plain": [
       "{1: 1000, 2: 200, 3: 300}"
      ]
     },
     "execution_count": 60,
     "metadata": {},
     "output_type": "execute_result"
    }
   ],
   "source": [
    "D3"
   ]
  },
  {
   "cell_type": "code",
   "execution_count": 61,
   "id": "d77b5f45",
   "metadata": {},
   "outputs": [
    {
     "data": {
      "text/plain": [
       "{1: 1000, 2: 200, 3: 300}"
      ]
     },
     "execution_count": 61,
     "metadata": {},
     "output_type": "execute_result"
    }
   ],
   "source": [
    "D4"
   ]
  },
  {
   "cell_type": "code",
   "execution_count": 62,
   "id": "3af93fb1",
   "metadata": {},
   "outputs": [],
   "source": [
    "#fromkeys\n",
    "sids = [101,102,103,104,105]"
   ]
  },
  {
   "cell_type": "code",
   "execution_count": 63,
   "id": "8bbcd8bc",
   "metadata": {},
   "outputs": [
    {
     "name": "stdout",
     "output_type": "stream",
     "text": [
      "{101: None, 102: None, 103: None, 104: None, 105: None}\n"
     ]
    }
   ],
   "source": [
    "studentsinfo1 = dict.fromkeys(sids)\n",
    "print(studentsinfo1)"
   ]
  },
  {
   "cell_type": "code",
   "execution_count": 64,
   "id": "e216205e",
   "metadata": {},
   "outputs": [
    {
     "name": "stdout",
     "output_type": "stream",
     "text": [
      "{101: 'No Name', 102: 'No Name', 103: 'No Name', 104: 'No Name', 105: 'No Name'}\n"
     ]
    }
   ],
   "source": [
    "studentsinfo2 = dict.fromkeys(sids,'No Name')\n",
    "print(studentsinfo2)"
   ]
  },
  {
   "cell_type": "code",
   "execution_count": 65,
   "id": "2064fac5",
   "metadata": {},
   "outputs": [],
   "source": [
    "pids = (101,102,103,104,105)"
   ]
  },
  {
   "cell_type": "code",
   "execution_count": 66,
   "id": "22267260",
   "metadata": {},
   "outputs": [
    {
     "data": {
      "text/plain": [
       "{101: 'Pname', 102: 'Pname', 103: 'Pname', 104: 'Pname', 105: 'Pname'}"
      ]
     },
     "execution_count": 66,
     "metadata": {},
     "output_type": "execute_result"
    }
   ],
   "source": [
    "product_info = dict.fromkeys(pids,'Pname')\n",
    "product_info"
   ]
  },
  {
   "cell_type": "code",
   "execution_count": 67,
   "id": "50b73fae",
   "metadata": {},
   "outputs": [],
   "source": [
    "chars = \"welcome\""
   ]
  },
  {
   "cell_type": "code",
   "execution_count": 68,
   "id": "8300da02",
   "metadata": {},
   "outputs": [
    {
     "data": {
      "text/plain": [
       "{'w': 'No Ascii', 'e': 'No Ascii', 'l': 'No Ascii', 'c': 'No Ascii', 'o': 'No Ascii', 'm': 'No Ascii'}"
      ]
     },
     "execution_count": 68,
     "metadata": {},
     "output_type": "execute_result"
    }
   ],
   "source": [
    "chars_info = dict.fromkeys(chars,'No Ascii')\n",
    "chars_info"
   ]
  },
  {
   "cell_type": "code",
   "execution_count": 69,
   "id": "8031062e",
   "metadata": {},
   "outputs": [
    {
     "data": {
      "text/plain": [
       "{'w': 0, 'e': 0, 'l': 0, 'c': 0, 'o': 0, 'm': 0}"
      ]
     },
     "execution_count": 69,
     "metadata": {},
     "output_type": "execute_result"
    }
   ],
   "source": [
    "chars_info2 = dict.fromkeys(chars,0)\n",
    "chars_info2"
   ]
  },
  {
   "cell_type": "code",
   "execution_count": null,
   "id": "bad65057",
   "metadata": {},
   "outputs": [],
   "source": []
  },
  {
   "cell_type": "code",
   "execution_count": 70,
   "id": "a60b25e3",
   "metadata": {},
   "outputs": [],
   "source": [
    "D1={1:100,2:200,3:300}"
   ]
  },
  {
   "cell_type": "code",
   "execution_count": 71,
   "id": "135d877d",
   "metadata": {},
   "outputs": [
    {
     "data": {
      "text/plain": [
       "{1: 'Value', 2: 'Value', 3: 'Value'}"
      ]
     },
     "execution_count": 71,
     "metadata": {},
     "output_type": "execute_result"
    }
   ],
   "source": [
    "digit_info = dict.fromkeys(D1,'Value')\n",
    "digit_info"
   ]
  },
  {
   "cell_type": "code",
   "execution_count": 72,
   "id": "1ce39b23",
   "metadata": {},
   "outputs": [],
   "source": [
    "#get\n",
    "D1={'a': 'apple', 'b': 'banana', 'c': 'cherry'}"
   ]
  },
  {
   "cell_type": "code",
   "execution_count": 73,
   "id": "a1061121",
   "metadata": {},
   "outputs": [
    {
     "data": {
      "text/plain": [
       "{'a': 'apple', 'b': 'banana', 'c': 'cherry'}"
      ]
     },
     "execution_count": 73,
     "metadata": {},
     "output_type": "execute_result"
    }
   ],
   "source": [
    "D1"
   ]
  },
  {
   "cell_type": "code",
   "execution_count": 74,
   "id": "046d170b",
   "metadata": {},
   "outputs": [
    {
     "data": {
      "text/plain": [
       "'apple'"
      ]
     },
     "execution_count": 74,
     "metadata": {},
     "output_type": "execute_result"
    }
   ],
   "source": [
    "D1.get('a')"
   ]
  },
  {
   "cell_type": "code",
   "execution_count": 75,
   "id": "a99216b1",
   "metadata": {},
   "outputs": [
    {
     "name": "stdout",
     "output_type": "stream",
     "text": [
      "None\n"
     ]
    }
   ],
   "source": [
    "print(D1.get('d'))"
   ]
  },
  {
   "cell_type": "code",
   "execution_count": 76,
   "id": "6a3198b8",
   "metadata": {},
   "outputs": [
    {
     "data": {
      "text/plain": [
       "'Given Key is not Existed'"
      ]
     },
     "execution_count": 76,
     "metadata": {},
     "output_type": "execute_result"
    }
   ],
   "source": [
    "D1.get('d','Given Key is not Existed')"
   ]
  },
  {
   "cell_type": "code",
   "execution_count": 77,
   "id": "44ba7857",
   "metadata": {},
   "outputs": [
    {
     "data": {
      "text/plain": [
       "'apple'"
      ]
     },
     "execution_count": 77,
     "metadata": {},
     "output_type": "execute_result"
    }
   ],
   "source": [
    "D1['a']"
   ]
  },
  {
   "cell_type": "code",
   "execution_count": 78,
   "id": "7bba54b6",
   "metadata": {},
   "outputs": [
    {
     "ename": "KeyError",
     "evalue": "'d'",
     "output_type": "error",
     "traceback": [
      "\u001b[1;31m---------------------------------------------------------------------------\u001b[0m",
      "\u001b[1;31mKeyError\u001b[0m                                  Traceback (most recent call last)",
      "\u001b[1;32m~\\AppData\\Local\\Temp/ipykernel_24304/1008461127.py\u001b[0m in \u001b[0;36m<module>\u001b[1;34m\u001b[0m\n\u001b[1;32m----> 1\u001b[1;33m \u001b[0mD1\u001b[0m\u001b[1;33m[\u001b[0m\u001b[1;34m'd'\u001b[0m\u001b[1;33m]\u001b[0m\u001b[1;33m\u001b[0m\u001b[1;33m\u001b[0m\u001b[0m\n\u001b[0m",
      "\u001b[1;31mKeyError\u001b[0m: 'd'"
     ]
    }
   ],
   "source": [
    "D1['d']"
   ]
  },
  {
   "cell_type": "code",
   "execution_count": 79,
   "id": "a5b3ebba",
   "metadata": {},
   "outputs": [],
   "source": [
    "#items\n",
    "days={1:'sun',2:'mon',3:'tue',4:'wed',5:'thu',6:'fri',7:'sat'}"
   ]
  },
  {
   "cell_type": "code",
   "execution_count": 80,
   "id": "6310e853",
   "metadata": {},
   "outputs": [
    {
     "data": {
      "text/plain": [
       "'sun'"
      ]
     },
     "execution_count": 80,
     "metadata": {},
     "output_type": "execute_result"
    }
   ],
   "source": [
    "days[1]"
   ]
  },
  {
   "cell_type": "code",
   "execution_count": 81,
   "id": "0962797e",
   "metadata": {},
   "outputs": [
    {
     "data": {
      "text/plain": [
       "dict_items([(1, 'sun'), (2, 'mon'), (3, 'tue'), (4, 'wed'), (5, 'thu'), (6, 'fri'), (7, 'sat')])"
      ]
     },
     "execution_count": 81,
     "metadata": {},
     "output_type": "execute_result"
    }
   ],
   "source": [
    "days.items()  #it creates a dict_items object which contains items(key and value)"
   ]
  },
  {
   "cell_type": "code",
   "execution_count": 82,
   "id": "453117ad",
   "metadata": {},
   "outputs": [
    {
     "ename": "TypeError",
     "evalue": "'dict_items' object is not subscriptable",
     "output_type": "error",
     "traceback": [
      "\u001b[1;31m---------------------------------------------------------------------------\u001b[0m",
      "\u001b[1;31mTypeError\u001b[0m                                 Traceback (most recent call last)",
      "\u001b[1;32m~\\AppData\\Local\\Temp/ipykernel_24304/3836007157.py\u001b[0m in \u001b[0;36m<module>\u001b[1;34m\u001b[0m\n\u001b[0;32m      1\u001b[0m \u001b[1;31m#dict_items object does not have index\u001b[0m\u001b[1;33m\u001b[0m\u001b[1;33m\u001b[0m\u001b[0m\n\u001b[1;32m----> 2\u001b[1;33m \u001b[0mdays\u001b[0m\u001b[1;33m.\u001b[0m\u001b[0mitems\u001b[0m\u001b[1;33m(\u001b[0m\u001b[1;33m)\u001b[0m\u001b[1;33m[\u001b[0m\u001b[1;36m0\u001b[0m\u001b[1;33m]\u001b[0m\u001b[1;33m\u001b[0m\u001b[1;33m\u001b[0m\u001b[0m\n\u001b[0m",
      "\u001b[1;31mTypeError\u001b[0m: 'dict_items' object is not subscriptable"
     ]
    }
   ],
   "source": [
    "#dict_items object does not have index\n",
    "days.items()[0]"
   ]
  },
  {
   "cell_type": "code",
   "execution_count": 83,
   "id": "75b4a4a0",
   "metadata": {},
   "outputs": [
    {
     "ename": "TypeError",
     "evalue": "'dict_items' object is not subscriptable",
     "output_type": "error",
     "traceback": [
      "\u001b[1;31m---------------------------------------------------------------------------\u001b[0m",
      "\u001b[1;31mTypeError\u001b[0m                                 Traceback (most recent call last)",
      "\u001b[1;32m~\\AppData\\Local\\Temp/ipykernel_24304/4117587939.py\u001b[0m in \u001b[0;36m<module>\u001b[1;34m\u001b[0m\n\u001b[0;32m      1\u001b[0m \u001b[1;31m#dict_items object does not apply any slicing\u001b[0m\u001b[1;33m\u001b[0m\u001b[1;33m\u001b[0m\u001b[0m\n\u001b[1;32m----> 2\u001b[1;33m \u001b[0mdays\u001b[0m\u001b[1;33m.\u001b[0m\u001b[0mitems\u001b[0m\u001b[1;33m(\u001b[0m\u001b[1;33m)\u001b[0m\u001b[1;33m[\u001b[0m\u001b[1;33m:\u001b[0m\u001b[1;33m]\u001b[0m\u001b[1;33m\u001b[0m\u001b[1;33m\u001b[0m\u001b[0m\n\u001b[0m",
      "\u001b[1;31mTypeError\u001b[0m: 'dict_items' object is not subscriptable"
     ]
    }
   ],
   "source": [
    "#dict_items object does not apply any slicing\n",
    "days.items()[:]"
   ]
  },
  {
   "cell_type": "code",
   "execution_count": 84,
   "id": "34fdf29a",
   "metadata": {},
   "outputs": [
    {
     "name": "stdout",
     "output_type": "stream",
     "text": [
      "(1, 'sun')\n",
      "(2, 'mon')\n",
      "(3, 'tue')\n",
      "(4, 'wed')\n",
      "(5, 'thu')\n",
      "(6, 'fri')\n",
      "(7, 'sat')\n"
     ]
    }
   ],
   "source": [
    "for i in days.items():\n",
    "    print(i)"
   ]
  },
  {
   "cell_type": "code",
   "execution_count": 85,
   "id": "ae4f8e46",
   "metadata": {},
   "outputs": [],
   "source": [
    "dictItems = days.items()"
   ]
  },
  {
   "cell_type": "code",
   "execution_count": 86,
   "id": "113b0c3b",
   "metadata": {},
   "outputs": [
    {
     "data": {
      "text/plain": [
       "<class 'dict_items'>"
      ]
     },
     "execution_count": 86,
     "metadata": {},
     "output_type": "execute_result"
    }
   ],
   "source": [
    "type(dictItems)"
   ]
  },
  {
   "cell_type": "code",
   "execution_count": 87,
   "id": "ebc42167",
   "metadata": {},
   "outputs": [
    {
     "ename": "TypeError",
     "evalue": "'dict_items' object is not subscriptable",
     "output_type": "error",
     "traceback": [
      "\u001b[1;31m---------------------------------------------------------------------------\u001b[0m",
      "\u001b[1;31mTypeError\u001b[0m                                 Traceback (most recent call last)",
      "\u001b[1;32m~\\AppData\\Local\\Temp/ipykernel_24304/3670025142.py\u001b[0m in \u001b[0;36m<module>\u001b[1;34m\u001b[0m\n\u001b[1;32m----> 1\u001b[1;33m \u001b[0mdictItems\u001b[0m\u001b[1;33m[\u001b[0m\u001b[1;36m0\u001b[0m\u001b[1;33m]\u001b[0m\u001b[1;33m\u001b[0m\u001b[1;33m\u001b[0m\u001b[0m\n\u001b[0m",
      "\u001b[1;31mTypeError\u001b[0m: 'dict_items' object is not subscriptable"
     ]
    }
   ],
   "source": [
    "dictItems[0]"
   ]
  },
  {
   "cell_type": "code",
   "execution_count": 88,
   "id": "bcce5aa3",
   "metadata": {},
   "outputs": [
    {
     "ename": "TypeError",
     "evalue": "'dict_items' object is not subscriptable",
     "output_type": "error",
     "traceback": [
      "\u001b[1;31m---------------------------------------------------------------------------\u001b[0m",
      "\u001b[1;31mTypeError\u001b[0m                                 Traceback (most recent call last)",
      "\u001b[1;32m~\\AppData\\Local\\Temp/ipykernel_24304/3782716772.py\u001b[0m in \u001b[0;36m<module>\u001b[1;34m\u001b[0m\n\u001b[1;32m----> 1\u001b[1;33m \u001b[0mdictItems\u001b[0m\u001b[1;33m[\u001b[0m\u001b[1;33m:\u001b[0m\u001b[1;33m]\u001b[0m\u001b[1;33m\u001b[0m\u001b[1;33m\u001b[0m\u001b[0m\n\u001b[0m",
      "\u001b[1;31mTypeError\u001b[0m: 'dict_items' object is not subscriptable"
     ]
    }
   ],
   "source": [
    "dictItems[:]"
   ]
  },
  {
   "cell_type": "code",
   "execution_count": 91,
   "id": "238abfab",
   "metadata": {},
   "outputs": [
    {
     "name": "stdout",
     "output_type": "stream",
     "text": [
      "Pretty printing has been turned OFF\n"
     ]
    }
   ],
   "source": [
    "pprint"
   ]
  },
  {
   "cell_type": "code",
   "execution_count": 92,
   "id": "7bf2a094",
   "metadata": {},
   "outputs": [
    {
     "data": {
      "text/plain": [
       "['__and__', '__class__', '__contains__', '__delattr__', '__dir__', '__doc__', '__eq__', '__format__', '__ge__', '__getattribute__', '__gt__', '__hash__', '__init__', '__init_subclass__', '__iter__', '__le__', '__len__', '__lt__', '__ne__', '__new__', '__or__', '__rand__', '__reduce__', '__reduce_ex__', '__repr__', '__reversed__', '__ror__', '__rsub__', '__rxor__', '__setattr__', '__sizeof__', '__str__', '__sub__', '__subclasshook__', '__xor__', 'isdisjoint']"
      ]
     },
     "execution_count": 92,
     "metadata": {},
     "output_type": "execute_result"
    }
   ],
   "source": [
    "dir(dictItems)"
   ]
  },
  {
   "cell_type": "code",
   "execution_count": 93,
   "id": "c112b9e6",
   "metadata": {},
   "outputs": [
    {
     "name": "stdout",
     "output_type": "stream",
     "text": [
      "Help on built-in function isdisjoint:\n",
      "\n",
      "isdisjoint(...) method of builtins.dict_items instance\n",
      "    Return True if the view and the given iterable have a null intersection.\n",
      "\n"
     ]
    }
   ],
   "source": [
    "help(dictItems.isdisjoint)"
   ]
  },
  {
   "cell_type": "code",
   "execution_count": 94,
   "id": "5523b78c",
   "metadata": {},
   "outputs": [],
   "source": [
    "D1={1:'sun'}"
   ]
  },
  {
   "cell_type": "code",
   "execution_count": 95,
   "id": "bdc2f0dd",
   "metadata": {},
   "outputs": [
    {
     "data": {
      "text/plain": [
       "True"
      ]
     },
     "execution_count": 95,
     "metadata": {},
     "output_type": "execute_result"
    }
   ],
   "source": [
    "dictItems.isdisjoint({1:'sun'})"
   ]
  },
  {
   "cell_type": "code",
   "execution_count": 96,
   "id": "2f20cdd5",
   "metadata": {},
   "outputs": [
    {
     "name": "stdout",
     "output_type": "stream",
     "text": [
      "(1, 'sun'),(2, 'mon'),(3, 'tue'),(4, 'wed'),(5, 'thu'),(6, 'fri'),(7, 'sat'),"
     ]
    }
   ],
   "source": [
    "for i in dictItems:\n",
    "    print(i,end=\",\")"
   ]
  },
  {
   "cell_type": "code",
   "execution_count": 97,
   "id": "42440515",
   "metadata": {},
   "outputs": [
    {
     "name": "stdout",
     "output_type": "stream",
     "text": [
      "1\n",
      "2\n",
      "3\n",
      "4\n",
      "5\n",
      "6\n",
      "7\n"
     ]
    }
   ],
   "source": [
    "for i in dictItems:\n",
    "    print(i[0])"
   ]
  },
  {
   "cell_type": "code",
   "execution_count": 98,
   "id": "da6263bf",
   "metadata": {},
   "outputs": [
    {
     "name": "stdout",
     "output_type": "stream",
     "text": [
      "sun\n",
      "mon\n",
      "tue\n",
      "wed\n",
      "thu\n",
      "fri\n",
      "sat\n"
     ]
    }
   ],
   "source": [
    "for i in dictItems:\n",
    "    print(i[1])"
   ]
  },
  {
   "cell_type": "code",
   "execution_count": 99,
   "id": "385c1b6f",
   "metadata": {},
   "outputs": [
    {
     "name": "stdout",
     "output_type": "stream",
     "text": [
      "1 sun\n",
      "2 mon\n",
      "3 tue\n",
      "4 wed\n",
      "5 thu\n",
      "6 fri\n",
      "7 sat\n"
     ]
    }
   ],
   "source": [
    "for i in dictItems:\n",
    "    print(i[0],i[1])"
   ]
  },
  {
   "cell_type": "code",
   "execution_count": 100,
   "id": "6d89ee58",
   "metadata": {},
   "outputs": [
    {
     "data": {
      "text/plain": [
       "{1: 'sun', 2: 'mon', 3: 'tue', 4: 'wed', 5: 'thu', 6: 'fri', 7: 'sat'}"
      ]
     },
     "execution_count": 100,
     "metadata": {},
     "output_type": "execute_result"
    }
   ],
   "source": [
    "#keys\n",
    "days"
   ]
  },
  {
   "cell_type": "code",
   "execution_count": 101,
   "id": "f87b7adf",
   "metadata": {},
   "outputs": [
    {
     "data": {
      "text/plain": [
       "dict_keys([1, 2, 3, 4, 5, 6, 7])"
      ]
     },
     "execution_count": 101,
     "metadata": {},
     "output_type": "execute_result"
    }
   ],
   "source": [
    "days.keys()"
   ]
  },
  {
   "cell_type": "code",
   "execution_count": 102,
   "id": "8fa96729",
   "metadata": {},
   "outputs": [
    {
     "ename": "TypeError",
     "evalue": "'dict_keys' object is not subscriptable",
     "output_type": "error",
     "traceback": [
      "\u001b[1;31m---------------------------------------------------------------------------\u001b[0m",
      "\u001b[1;31mTypeError\u001b[0m                                 Traceback (most recent call last)",
      "\u001b[1;32m~\\AppData\\Local\\Temp/ipykernel_24304/2376969710.py\u001b[0m in \u001b[0;36m<module>\u001b[1;34m\u001b[0m\n\u001b[1;32m----> 1\u001b[1;33m \u001b[0mdays\u001b[0m\u001b[1;33m.\u001b[0m\u001b[0mkeys\u001b[0m\u001b[1;33m(\u001b[0m\u001b[1;33m)\u001b[0m\u001b[1;33m[\u001b[0m\u001b[1;36m0\u001b[0m\u001b[1;33m]\u001b[0m\u001b[1;33m\u001b[0m\u001b[1;33m\u001b[0m\u001b[0m\n\u001b[0m",
      "\u001b[1;31mTypeError\u001b[0m: 'dict_keys' object is not subscriptable"
     ]
    }
   ],
   "source": [
    "days.keys()[0]"
   ]
  },
  {
   "cell_type": "code",
   "execution_count": 103,
   "id": "55379f19",
   "metadata": {},
   "outputs": [
    {
     "ename": "TypeError",
     "evalue": "'dict_keys' object is not subscriptable",
     "output_type": "error",
     "traceback": [
      "\u001b[1;31m---------------------------------------------------------------------------\u001b[0m",
      "\u001b[1;31mTypeError\u001b[0m                                 Traceback (most recent call last)",
      "\u001b[1;32m~\\AppData\\Local\\Temp/ipykernel_24304/4276456102.py\u001b[0m in \u001b[0;36m<module>\u001b[1;34m\u001b[0m\n\u001b[1;32m----> 1\u001b[1;33m \u001b[0mdays\u001b[0m\u001b[1;33m.\u001b[0m\u001b[0mkeys\u001b[0m\u001b[1;33m(\u001b[0m\u001b[1;33m)\u001b[0m\u001b[1;33m[\u001b[0m\u001b[1;33m:\u001b[0m\u001b[1;33m]\u001b[0m\u001b[1;33m\u001b[0m\u001b[1;33m\u001b[0m\u001b[0m\n\u001b[0m",
      "\u001b[1;31mTypeError\u001b[0m: 'dict_keys' object is not subscriptable"
     ]
    }
   ],
   "source": [
    "days.keys()[:]"
   ]
  },
  {
   "cell_type": "code",
   "execution_count": 105,
   "id": "ddff29d6",
   "metadata": {},
   "outputs": [
    {
     "name": "stdout",
     "output_type": "stream",
     "text": [
      "1\n",
      "2\n",
      "3\n",
      "4\n",
      "5\n",
      "6\n",
      "7\n"
     ]
    }
   ],
   "source": [
    "for key in days.keys():\n",
    "    print(key)"
   ]
  },
  {
   "cell_type": "code",
   "execution_count": 106,
   "id": "04433fa1",
   "metadata": {},
   "outputs": [
    {
     "name": "stdout",
     "output_type": "stream",
     "text": [
      "1\n",
      "2\n",
      "3\n",
      "4\n",
      "5\n",
      "6\n",
      "7\n"
     ]
    }
   ],
   "source": [
    "for i in days:\n",
    "    print(i)"
   ]
  },
  {
   "cell_type": "code",
   "execution_count": 118,
   "id": "e52c199a",
   "metadata": {},
   "outputs": [],
   "source": [
    "#values\n",
    "days={1:'sun',2:'mon',3:'tue',4:'wed',5:'thu',6:'fri',7:'sat'}"
   ]
  },
  {
   "cell_type": "code",
   "execution_count": 119,
   "id": "29ba91a0",
   "metadata": {},
   "outputs": [
    {
     "data": {
      "text/plain": [
       "{1: 'sun', 2: 'mon', 3: 'tue', 4: 'wed', 5: 'thu', 6: 'fri', 7: 'sat'}"
      ]
     },
     "execution_count": 119,
     "metadata": {},
     "output_type": "execute_result"
    }
   ],
   "source": [
    "days"
   ]
  },
  {
   "cell_type": "code",
   "execution_count": 120,
   "id": "50e8ad03",
   "metadata": {},
   "outputs": [
    {
     "data": {
      "text/plain": [
       "dict_values(['sun', 'mon', 'tue', 'wed', 'thu', 'fri', 'sat'])"
      ]
     },
     "execution_count": 120,
     "metadata": {},
     "output_type": "execute_result"
    }
   ],
   "source": [
    "days.values()"
   ]
  },
  {
   "cell_type": "code",
   "execution_count": 121,
   "id": "5ff3f5bc",
   "metadata": {},
   "outputs": [
    {
     "name": "stdout",
     "output_type": "stream",
     "text": [
      "sun\n",
      "mon\n",
      "tue\n",
      "wed\n",
      "thu\n",
      "fri\n",
      "sat\n"
     ]
    }
   ],
   "source": [
    "for value in days.values():\n",
    "    print(value)"
   ]
  },
  {
   "cell_type": "code",
   "execution_count": 110,
   "id": "e042f629",
   "metadata": {},
   "outputs": [
    {
     "data": {
      "text/plain": [
       "{1: 'sun', 2: 'mon', 3: 'tue', 4: 'wed', 5: 'thu', 6: 'fri', 7: 'sat'}"
      ]
     },
     "execution_count": 110,
     "metadata": {},
     "output_type": "execute_result"
    }
   ],
   "source": [
    "days"
   ]
  },
  {
   "cell_type": "code",
   "execution_count": 111,
   "id": "dbd701a5",
   "metadata": {},
   "outputs": [
    {
     "data": {
      "text/plain": [
       "True"
      ]
     },
     "execution_count": 111,
     "metadata": {},
     "output_type": "execute_result"
    }
   ],
   "source": [
    "1 in days"
   ]
  },
  {
   "cell_type": "code",
   "execution_count": 112,
   "id": "f250a219",
   "metadata": {},
   "outputs": [
    {
     "name": "stdout",
     "output_type": "stream",
     "text": [
      "1\n",
      "2\n",
      "3\n",
      "4\n",
      "5\n",
      "6\n",
      "7\n"
     ]
    }
   ],
   "source": [
    "for i in days:\n",
    "    print(i)"
   ]
  },
  {
   "cell_type": "code",
   "execution_count": 113,
   "id": "c93959b1",
   "metadata": {},
   "outputs": [
    {
     "data": {
      "text/plain": [
       "{1: 'sun', 2: 'mon', 3: 'tue', 4: 'wed', 5: 'thu', 6: 'fri', 7: 'sat'}"
      ]
     },
     "execution_count": 113,
     "metadata": {},
     "output_type": "execute_result"
    }
   ],
   "source": [
    "#pop\n",
    "days"
   ]
  },
  {
   "cell_type": "code",
   "execution_count": 114,
   "id": "1e1cd0b3",
   "metadata": {},
   "outputs": [
    {
     "data": {
      "text/plain": [
       "{1: 'sun', 2: 'mon', 3: 'tue', 4: 'wed', 6: 'fri', 7: 'sat'}"
      ]
     },
     "execution_count": 114,
     "metadata": {},
     "output_type": "execute_result"
    }
   ],
   "source": [
    "days.pop(5)\n",
    "days"
   ]
  },
  {
   "cell_type": "code",
   "execution_count": 115,
   "id": "5c7e40db",
   "metadata": {},
   "outputs": [
    {
     "data": {
      "text/plain": [
       "{1: 'sun', 2: 'mon', 4: 'wed', 6: 'fri', 7: 'sat'}"
      ]
     },
     "execution_count": 115,
     "metadata": {},
     "output_type": "execute_result"
    }
   ],
   "source": [
    "days.pop(3)\n",
    "days"
   ]
  },
  {
   "cell_type": "code",
   "execution_count": 116,
   "id": "389d0430",
   "metadata": {},
   "outputs": [
    {
     "ename": "TypeError",
     "evalue": "pop expected at least 1 argument, got 0",
     "output_type": "error",
     "traceback": [
      "\u001b[1;31m---------------------------------------------------------------------------\u001b[0m",
      "\u001b[1;31mTypeError\u001b[0m                                 Traceback (most recent call last)",
      "\u001b[1;32m~\\AppData\\Local\\Temp/ipykernel_24304/245229489.py\u001b[0m in \u001b[0;36m<module>\u001b[1;34m\u001b[0m\n\u001b[1;32m----> 1\u001b[1;33m \u001b[0mdays\u001b[0m\u001b[1;33m.\u001b[0m\u001b[0mpop\u001b[0m\u001b[1;33m(\u001b[0m\u001b[1;33m)\u001b[0m\u001b[1;33m\u001b[0m\u001b[1;33m\u001b[0m\u001b[0m\n\u001b[0m",
      "\u001b[1;31mTypeError\u001b[0m: pop expected at least 1 argument, got 0"
     ]
    }
   ],
   "source": [
    "days.pop()"
   ]
  },
  {
   "cell_type": "code",
   "execution_count": 122,
   "id": "f405b01f",
   "metadata": {},
   "outputs": [],
   "source": [
    "#popitem\n",
    "days={1:'sun',2:'mon',3:'tue',4:'wed',5:'thu',6:'fri',7:'sat'}"
   ]
  },
  {
   "cell_type": "code",
   "execution_count": 123,
   "id": "5bd60e4b",
   "metadata": {},
   "outputs": [
    {
     "data": {
      "text/plain": [
       "{1: 'sun', 2: 'mon', 3: 'tue', 4: 'wed', 5: 'thu', 6: 'fri', 7: 'sat'}"
      ]
     },
     "execution_count": 123,
     "metadata": {},
     "output_type": "execute_result"
    }
   ],
   "source": [
    "days"
   ]
  },
  {
   "cell_type": "code",
   "execution_count": 124,
   "id": "b9cb4900",
   "metadata": {},
   "outputs": [
    {
     "data": {
      "text/plain": [
       "{1: 'sun', 2: 'mon', 3: 'tue', 4: 'wed', 5: 'thu', 6: 'fri'}"
      ]
     },
     "execution_count": 124,
     "metadata": {},
     "output_type": "execute_result"
    }
   ],
   "source": [
    "days.popitem()\n",
    "days"
   ]
  },
  {
   "cell_type": "code",
   "execution_count": 125,
   "id": "93290391",
   "metadata": {},
   "outputs": [
    {
     "data": {
      "text/plain": [
       "{1: 'sun', 2: 'mon', 3: 'tue', 4: 'wed', 5: 'thu'}"
      ]
     },
     "execution_count": 125,
     "metadata": {},
     "output_type": "execute_result"
    }
   ],
   "source": [
    "days.popitem()\n",
    "days"
   ]
  },
  {
   "cell_type": "code",
   "execution_count": 126,
   "id": "f9883731",
   "metadata": {},
   "outputs": [
    {
     "name": "stdout",
     "output_type": "stream",
     "text": [
      "Help on built-in function popitem:\n",
      "\n",
      "popitem() method of builtins.dict instance\n",
      "    Remove and return a (key, value) pair as a 2-tuple.\n",
      "    \n",
      "    Pairs are returned in LIFO (last-in, first-out) order.\n",
      "    Raises KeyError if the dict is empty.\n",
      "\n"
     ]
    }
   ],
   "source": [
    "help(days.popitem)"
   ]
  },
  {
   "cell_type": "code",
   "execution_count": 127,
   "id": "9820399d",
   "metadata": {},
   "outputs": [],
   "source": [
    "#setdefault\n",
    "d1 = {1:100,2:200}"
   ]
  },
  {
   "cell_type": "code",
   "execution_count": 128,
   "id": "b991c9f7",
   "metadata": {},
   "outputs": [],
   "source": [
    "d1[3]=300"
   ]
  },
  {
   "cell_type": "code",
   "execution_count": 129,
   "id": "b7c3375b",
   "metadata": {},
   "outputs": [
    {
     "data": {
      "text/plain": [
       "{1: 100, 2: 200, 3: 300}"
      ]
     },
     "execution_count": 129,
     "metadata": {},
     "output_type": "execute_result"
    }
   ],
   "source": [
    "d1"
   ]
  },
  {
   "cell_type": "code",
   "execution_count": 130,
   "id": "a9a52a89",
   "metadata": {},
   "outputs": [],
   "source": [
    "d1[3]=330"
   ]
  },
  {
   "cell_type": "code",
   "execution_count": 131,
   "id": "02a81794",
   "metadata": {},
   "outputs": [
    {
     "data": {
      "text/plain": [
       "{1: 100, 2: 200, 3: 330}"
      ]
     },
     "execution_count": 131,
     "metadata": {},
     "output_type": "execute_result"
    }
   ],
   "source": [
    "d1"
   ]
  },
  {
   "cell_type": "code",
   "execution_count": 132,
   "id": "16d5d187",
   "metadata": {},
   "outputs": [
    {
     "data": {
      "text/plain": [
       "{1: 'sun', 2: 'mon', 3: 'tue', 4: 'wed', 5: 'thu'}"
      ]
     },
     "execution_count": 132,
     "metadata": {},
     "output_type": "execute_result"
    }
   ],
   "source": [
    "days"
   ]
  },
  {
   "cell_type": "code",
   "execution_count": 133,
   "id": "f1c5b95b",
   "metadata": {},
   "outputs": [
    {
     "data": {
      "text/plain": [
       "{1: 'sun', 2: 'mon', 3: 'tue', 4: 'wed', 5: 'thu'}"
      ]
     },
     "execution_count": 133,
     "metadata": {},
     "output_type": "execute_result"
    }
   ],
   "source": [
    "days.setdefault(1,'sunday')\n",
    "days"
   ]
  },
  {
   "cell_type": "code",
   "execution_count": 134,
   "id": "0e5f2a5d",
   "metadata": {},
   "outputs": [
    {
     "data": {
      "text/plain": [
       "{1: 'sun', 2: 'mon', 3: 'tue', 4: 'wed', 5: 'thu'}"
      ]
     },
     "execution_count": 134,
     "metadata": {},
     "output_type": "execute_result"
    }
   ],
   "source": [
    "days.setdefault(3,'tuesday')\n",
    "days"
   ]
  },
  {
   "cell_type": "code",
   "execution_count": 135,
   "id": "e7029fdb",
   "metadata": {},
   "outputs": [
    {
     "data": {
      "text/plain": [
       "{1: 'sunday', 2: 'mon', 3: 'tue', 4: 'wed', 5: 'thu'}"
      ]
     },
     "execution_count": 135,
     "metadata": {},
     "output_type": "execute_result"
    }
   ],
   "source": [
    "days[1]='sunday'\n",
    "days"
   ]
  },
  {
   "cell_type": "code",
   "execution_count": 136,
   "id": "e773f2b5",
   "metadata": {},
   "outputs": [
    {
     "data": {
      "text/plain": [
       "{1: 100, 2: 200, 3: 330}"
      ]
     },
     "execution_count": 136,
     "metadata": {},
     "output_type": "execute_result"
    }
   ],
   "source": [
    "d1"
   ]
  },
  {
   "cell_type": "code",
   "execution_count": 137,
   "id": "d56a2b3e",
   "metadata": {},
   "outputs": [
    {
     "data": {
      "text/plain": [
       "400"
      ]
     },
     "execution_count": 137,
     "metadata": {},
     "output_type": "execute_result"
    }
   ],
   "source": [
    "d1.setdefault(4,400)"
   ]
  },
  {
   "cell_type": "code",
   "execution_count": 138,
   "id": "e571342b",
   "metadata": {},
   "outputs": [
    {
     "data": {
      "text/plain": [
       "{1: 100, 2: 200, 3: 330, 4: 400}"
      ]
     },
     "execution_count": 138,
     "metadata": {},
     "output_type": "execute_result"
    }
   ],
   "source": [
    "d1"
   ]
  },
  {
   "cell_type": "code",
   "execution_count": 139,
   "id": "84f4f046",
   "metadata": {},
   "outputs": [
    {
     "data": {
      "text/plain": [
       "200"
      ]
     },
     "execution_count": 139,
     "metadata": {},
     "output_type": "execute_result"
    }
   ],
   "source": [
    "d1.setdefault(2,220)"
   ]
  },
  {
   "cell_type": "code",
   "execution_count": 140,
   "id": "e9b41e26",
   "metadata": {},
   "outputs": [
    {
     "data": {
      "text/plain": [
       "{1: 100, 2: 200, 3: 330, 4: 400}"
      ]
     },
     "execution_count": 140,
     "metadata": {},
     "output_type": "execute_result"
    }
   ],
   "source": [
    "d1"
   ]
  },
  {
   "cell_type": "code",
   "execution_count": 141,
   "id": "63fd4e30",
   "metadata": {},
   "outputs": [],
   "source": [
    "#update\n",
    "D1={1:100,2:200,3:300}"
   ]
  },
  {
   "cell_type": "code",
   "execution_count": 142,
   "id": "59e16770",
   "metadata": {},
   "outputs": [],
   "source": [
    "D2={3:250,4:400,5:500}"
   ]
  },
  {
   "cell_type": "code",
   "execution_count": 143,
   "id": "2289d93c",
   "metadata": {},
   "outputs": [
    {
     "data": {
      "text/plain": [
       "{3: 300, 4: 400, 5: 500, 1: 100, 2: 200}"
      ]
     },
     "execution_count": 143,
     "metadata": {},
     "output_type": "execute_result"
    }
   ],
   "source": [
    "D2.update(D1)\n",
    "D2"
   ]
  },
  {
   "cell_type": "code",
   "execution_count": 144,
   "id": "a26a3e8c",
   "metadata": {},
   "outputs": [],
   "source": [
    "D2.update({6:600,7:700})"
   ]
  },
  {
   "cell_type": "code",
   "execution_count": 145,
   "id": "8eb887c0",
   "metadata": {},
   "outputs": [
    {
     "data": {
      "text/plain": [
       "{3: 300, 4: 400, 5: 500, 1: 100, 2: 200, 6: 600, 7: 700}"
      ]
     },
     "execution_count": 145,
     "metadata": {},
     "output_type": "execute_result"
    }
   ],
   "source": [
    "D2"
   ]
  },
  {
   "cell_type": "code",
   "execution_count": null,
   "id": "0eb6553c",
   "metadata": {},
   "outputs": [],
   "source": []
  },
  {
   "cell_type": "code",
   "execution_count": null,
   "id": "d6ae6f05",
   "metadata": {},
   "outputs": [],
   "source": []
  },
  {
   "cell_type": "code",
   "execution_count": null,
   "id": "8b727cc0",
   "metadata": {},
   "outputs": [],
   "source": []
  },
  {
   "cell_type": "code",
   "execution_count": null,
   "id": "32bbed81",
   "metadata": {},
   "outputs": [],
   "source": []
  }
 ],
 "metadata": {
  "kernelspec": {
   "display_name": "Python 3 (ipykernel)",
   "language": "python",
   "name": "python3"
  },
  "language_info": {
   "codemirror_mode": {
    "name": "ipython",
    "version": 3
   },
   "file_extension": ".py",
   "mimetype": "text/x-python",
   "name": "python",
   "nbconvert_exporter": "python",
   "pygments_lexer": "ipython3",
   "version": "3.9.7"
  }
 },
 "nbformat": 4,
 "nbformat_minor": 5
}
