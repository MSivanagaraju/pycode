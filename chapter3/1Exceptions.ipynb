{
 "cells": [
  {
   "cell_type": "code",
   "execution_count": null,
   "id": "f8b569b5",
   "metadata": {},
   "outputs": [],
   "source": [
    "#Exceptions\n",
    "#try....except...else....finally\n",
    "#try block should contain error code\n",
    "#except this block will execute when there is error which is mentioned in exception\n",
    "#else : this block will execute when there is no error\n",
    "#finally: this block will execute always\n",
    "#case1 : error is existed \n",
    "#case2 : no error \n",
    "#case3 : error existed but not handle by except block(becasue error not mentioned)"
   ]
  },
  {
   "cell_type": "raw",
   "id": "17200737",
   "metadata": {},
   "source": [
    "try:\n",
    "    error code\n",
    "except(er1,er2,...,ern):\n",
    "    exception code\n",
    "else:\n",
    "    code will execute when there is no error\n",
    "finally:\n",
    "    code will execute always"
   ]
  },
  {
   "cell_type": "raw",
   "id": "2fbb074f",
   "metadata": {},
   "source": [
    "#case1 : error is existed \n",
    "try:\n",
    "    error code\n",
    "except(er1,er2,...,ern):\n",
    "    exception code\n",
    "finally:\n",
    "    code will execute always"
   ]
  },
  {
   "cell_type": "raw",
   "id": "c318f2d5",
   "metadata": {},
   "source": [
    "#case2 : no error \n",
    "try:\n",
    "    error code\n",
    "else:\n",
    "    code will execute when there is no error\n",
    "finally:\n",
    "    code will execute always"
   ]
  },
  {
   "cell_type": "raw",
   "id": "bd0786dd",
   "metadata": {},
   "source": [
    "#case3 : error existed but not handle by except block(becasue error not mentioned)\n",
    "try:\n",
    "    error code\n",
    "finally:\n",
    "    code will execute always"
   ]
  },
  {
   "cell_type": "code",
   "execution_count": null,
   "id": "591dd061",
   "metadata": {},
   "outputs": [],
   "source": [
    "print(\"Hi\"+100)"
   ]
  },
  {
   "cell_type": "code",
   "execution_count": null,
   "id": "c9fc858f",
   "metadata": {},
   "outputs": [],
   "source": [
    "print(100+'hi')"
   ]
  },
  {
   "cell_type": "code",
   "execution_count": null,
   "id": "c6ebb58b",
   "metadata": {},
   "outputs": [],
   "source": [
    "#else and finally block are optional\n",
    "try:\n",
    "    print(\"Hi\"+100)\n",
    "except(TypeError):\n",
    "    print(\"Both should be Integer or Strings\")"
   ]
  },
  {
   "cell_type": "code",
   "execution_count": null,
   "id": "750b3f32",
   "metadata": {},
   "outputs": [],
   "source": [
    "v1=input(\"Enter something = \")\n",
    "type(v1)"
   ]
  },
  {
   "cell_type": "code",
   "execution_count": null,
   "id": "19c4cbba",
   "metadata": {},
   "outputs": [],
   "source": [
    "v1 = int(input(\"Enter a value = \"))\n",
    "print(v1)\n",
    "print(type(v1))"
   ]
  },
  {
   "cell_type": "code",
   "execution_count": null,
   "id": "d5949c5b",
   "metadata": {},
   "outputs": [],
   "source": [
    "try:\n",
    "    v1 = int(input(\"Enter a value = \"))  # 100, 10.45, hi\n",
    "except(ValueError):\n",
    "    print(\"Strings and Float values can not be converted into Integer\")\n",
    "else:\n",
    "    print(\"Your Entered value is {}\".format(v1))\n",
    "finally:\n",
    "    print(\"Thanks\")"
   ]
  },
  {
   "cell_type": "code",
   "execution_count": null,
   "id": "75dedc41",
   "metadata": {},
   "outputs": [],
   "source": [
    "L1=[10,20,30,40,50]"
   ]
  },
  {
   "cell_type": "code",
   "execution_count": null,
   "id": "8e5f6713",
   "metadata": {},
   "outputs": [],
   "source": [
    "L1[8]"
   ]
  },
  {
   "cell_type": "code",
   "execution_count": null,
   "id": "d5307839",
   "metadata": {},
   "outputs": [],
   "source": [
    "D1={'a':'apple','b':'banana'}"
   ]
  },
  {
   "cell_type": "code",
   "execution_count": null,
   "id": "96ff6e25",
   "metadata": {},
   "outputs": [],
   "source": [
    "D1['c']"
   ]
  },
  {
   "cell_type": "code",
   "execution_count": null,
   "id": "3c15c88a",
   "metadata": {},
   "outputs": [],
   "source": [
    "import time"
   ]
  },
  {
   "cell_type": "code",
   "execution_count": null,
   "id": "34b15b90",
   "metadata": {},
   "outputs": [],
   "source": [
    "type(time)"
   ]
  },
  {
   "cell_type": "code",
   "execution_count": null,
   "id": "b96d153c",
   "metadata": {},
   "outputs": [],
   "source": [
    "for i in range(1,1000):\n",
    "    print(i)\n",
    "    time.sleep(3)"
   ]
  },
  {
   "cell_type": "code",
   "execution_count": null,
   "id": "075ecc7b",
   "metadata": {},
   "outputs": [],
   "source": [
    "15/0"
   ]
  },
  {
   "cell_type": "code",
   "execution_count": null,
   "id": "587df933",
   "metadata": {},
   "outputs": [],
   "source": [
    "print(\"hi\"+100)"
   ]
  },
  {
   "cell_type": "code",
   "execution_count": null,
   "id": "dfd9799e",
   "metadata": {},
   "outputs": [],
   "source": [
    "try:\n",
    "    print(\"hi\"+100)\n",
    "except(Exception):\n",
    "    print(\"Unknown Error\")"
   ]
  },
  {
   "cell_type": "code",
   "execution_count": null,
   "id": "13b7c04d",
   "metadata": {},
   "outputs": [],
   "source": [
    "try:\n",
    "    print(\"hi\"+100)\n",
    "except Exception as err:\n",
    "    print(\"Unknown Error\")"
   ]
  },
  {
   "cell_type": "code",
   "execution_count": null,
   "id": "e2b7fd82",
   "metadata": {},
   "outputs": [],
   "source": [
    "try:\n",
    "    print(\"hi\"+100)\n",
    "except Exception as err:\n",
    "    print(err.with_traceback)"
   ]
  },
  {
   "cell_type": "code",
   "execution_count": null,
   "id": "3bf3c137",
   "metadata": {},
   "outputs": [],
   "source": [
    "print(\"hi\"+100)"
   ]
  },
  {
   "cell_type": "code",
   "execution_count": null,
   "id": "895d1aea",
   "metadata": {},
   "outputs": [],
   "source": [
    "try:\n",
    "    print(\"hi\"+100)\n",
    "except Exception as err:\n",
    "    print(err.args)"
   ]
  },
  {
   "cell_type": "code",
   "execution_count": null,
   "id": "ec5228b6",
   "metadata": {},
   "outputs": [],
   "source": [
    "try:\n",
    "    print(\"hi\"+100)\n",
    "except Exception:\n",
    "    print(Exception.with_traceback)"
   ]
  },
  {
   "cell_type": "code",
   "execution_count": null,
   "id": "0e02a811",
   "metadata": {},
   "outputs": [],
   "source": [
    "import builtins"
   ]
  },
  {
   "cell_type": "code",
   "execution_count": null,
   "id": "5e83e92a",
   "metadata": {},
   "outputs": [],
   "source": [
    "type(builtins)"
   ]
  },
  {
   "cell_type": "code",
   "execution_count": null,
   "id": "db453c9e",
   "metadata": {},
   "outputs": [],
   "source": [
    "import builtingss"
   ]
  },
  {
   "cell_type": "code",
   "execution_count": null,
   "id": "ec207339",
   "metadata": {},
   "outputs": [],
   "source": [
    "pprint"
   ]
  },
  {
   "cell_type": "code",
   "execution_count": null,
   "id": "b47d8e63",
   "metadata": {},
   "outputs": [],
   "source": [
    "dir(builtins)"
   ]
  },
  {
   "cell_type": "code",
   "execution_count": null,
   "id": "c7ed6550",
   "metadata": {},
   "outputs": [],
   "source": [
    "m"
   ]
  },
  {
   "cell_type": "code",
   "execution_count": null,
   "id": "4caf8fbc",
   "metadata": {},
   "outputs": [],
   "source": [
    "D1={1:'apple',2:'banana'}"
   ]
  },
  {
   "cell_type": "code",
   "execution_count": null,
   "id": "1fc35807",
   "metadata": {},
   "outputs": [],
   "source": [
    "D1[1]"
   ]
  },
  {
   "cell_type": "code",
   "execution_count": null,
   "id": "ad2c77e0",
   "metadata": {},
   "outputs": [],
   "source": [
    "D1[\"a\"]"
   ]
  },
  {
   "cell_type": "code",
   "execution_count": null,
   "id": "36100755",
   "metadata": {},
   "outputs": [],
   "source": [
    "D1[3]"
   ]
  },
  {
   "cell_type": "code",
   "execution_count": null,
   "id": "759d7fe3",
   "metadata": {},
   "outputs": [],
   "source": [
    "key=int(input(\"Enter Key = \"))\n",
    "D1[key]"
   ]
  },
  {
   "cell_type": "code",
   "execution_count": null,
   "id": "1ab0222f",
   "metadata": {},
   "outputs": [],
   "source": [
    "key=int(input(\"Enter Key = \"))\n",
    "D1[key]"
   ]
  },
  {
   "cell_type": "code",
   "execution_count": null,
   "id": "074d60cd",
   "metadata": {},
   "outputs": [],
   "source": [
    "try:\n",
    "    key=int(input(\"Enter Key = \"))\n",
    "    value=D1[key]\n",
    "except(KeyError,ValueError):\n",
    "    print(\"Key is not existed\")\n",
    "else:\n",
    "    print(value)"
   ]
  },
  {
   "cell_type": "code",
   "execution_count": null,
   "id": "5262be50",
   "metadata": {},
   "outputs": [],
   "source": [
    "try:\n",
    "    key=int(input(\"Enter Key = \"))\n",
    "    value = D1[key]\n",
    "except(KeyError):\n",
    "    print(\"Key should be either 1 or 2\")\n",
    "except(ValueError):\n",
    "    print(\"Key should be Integer only\")\n",
    "else:\n",
    "    print(value)\n",
    "finally:\n",
    "    print(\"Thanks\")"
   ]
  },
  {
   "cell_type": "code",
   "execution_count": null,
   "id": "8f9181af",
   "metadata": {},
   "outputs": [],
   "source": [
    "D1={1:100,'1':200}"
   ]
  },
  {
   "cell_type": "code",
   "execution_count": null,
   "id": "4cce888e",
   "metadata": {},
   "outputs": [],
   "source": [
    "D1[1]"
   ]
  },
  {
   "cell_type": "code",
   "execution_count": null,
   "id": "18fbf750",
   "metadata": {},
   "outputs": [],
   "source": [
    "D1['1']"
   ]
  },
  {
   "cell_type": "code",
   "execution_count": null,
   "id": "d2a7b830",
   "metadata": {},
   "outputs": [],
   "source": [
    "key=input(\"Enter Key = \")\n",
    "if key==\"1\":\n",
    "    print(D1[key])\n",
    "else:\n",
    "    print(D1[key])"
   ]
  },
  {
   "cell_type": "code",
   "execution_count": null,
   "id": "5e03d7e5",
   "metadata": {},
   "outputs": [],
   "source": [
    "key=int(input(\"Enter Key = \"))\n",
    "D1[key]"
   ]
  },
  {
   "cell_type": "code",
   "execution_count": null,
   "id": "00ba5285",
   "metadata": {},
   "outputs": [],
   "source": [
    "D1={1:100,'a':200}"
   ]
  },
  {
   "cell_type": "code",
   "execution_count": null,
   "id": "a7231a07",
   "metadata": {},
   "outputs": [],
   "source": [
    "key=input(\"Enter Key = \")\n",
    "D1[key]"
   ]
  },
  {
   "cell_type": "code",
   "execution_count": null,
   "id": "5aae801d",
   "metadata": {},
   "outputs": [],
   "source": [
    "key=int(input(\"Enter Key = \"))\n",
    "D1[key]"
   ]
  },
  {
   "cell_type": "code",
   "execution_count": null,
   "id": "d71a66d2",
   "metadata": {},
   "outputs": [],
   "source": [
    "\"100\".isdigit()"
   ]
  },
  {
   "cell_type": "code",
   "execution_count": null,
   "id": "482664be",
   "metadata": {},
   "outputs": [],
   "source": [
    "key = input(\"Enter a Key = \")\n",
    "if key.isdigit():\n",
    "    key=int(key)\n",
    "    print(D1[key])\n",
    "else:\n",
    "    print(D1[key])"
   ]
  },
  {
   "cell_type": "code",
   "execution_count": null,
   "id": "18e353b6",
   "metadata": {},
   "outputs": [],
   "source": []
  },
  {
   "cell_type": "code",
   "execution_count": null,
   "id": "4db5e3e3",
   "metadata": {},
   "outputs": [],
   "source": []
  },
  {
   "cell_type": "code",
   "execution_count": null,
   "id": "a61c7757",
   "metadata": {},
   "outputs": [],
   "source": []
  },
  {
   "cell_type": "code",
   "execution_count": null,
   "id": "371b2227",
   "metadata": {},
   "outputs": [],
   "source": []
  },
  {
   "cell_type": "code",
   "execution_count": null,
   "id": "d54c6fd9",
   "metadata": {},
   "outputs": [],
   "source": []
  }
 ],
 "metadata": {
  "kernelspec": {
   "display_name": "Python 3 (ipykernel)",
   "language": "python",
   "name": "python3"
  },
  "language_info": {
   "codemirror_mode": {
    "name": "ipython",
    "version": 3
   },
   "file_extension": ".py",
   "mimetype": "text/x-python",
   "name": "python",
   "nbconvert_exporter": "python",
   "pygments_lexer": "ipython3",
   "version": "3.9.7"
  }
 },
 "nbformat": 4,
 "nbformat_minor": 5
}
