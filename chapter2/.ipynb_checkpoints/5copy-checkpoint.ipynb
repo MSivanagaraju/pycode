{
 "cells": [
  {
   "cell_type": "code",
   "execution_count": 1,
   "id": "b15083a0",
   "metadata": {},
   "outputs": [],
   "source": [
    "#copy.py  => softcopy, deep copy, shallow copy\n",
    "import copy"
   ]
  },
  {
   "cell_type": "code",
   "execution_count": 2,
   "id": "7671a3ba",
   "metadata": {},
   "outputs": [
    {
     "data": {
      "text/plain": [
       "module"
      ]
     },
     "execution_count": 2,
     "metadata": {},
     "output_type": "execute_result"
    }
   ],
   "source": [
    "type(copy)"
   ]
  },
  {
   "cell_type": "code",
   "execution_count": 3,
   "id": "32bb65f4",
   "metadata": {},
   "outputs": [],
   "source": [
    "a=10"
   ]
  },
  {
   "cell_type": "code",
   "execution_count": 4,
   "id": "498eba26",
   "metadata": {},
   "outputs": [
    {
     "data": {
      "text/plain": [
       "2727991405136"
      ]
     },
     "execution_count": 4,
     "metadata": {},
     "output_type": "execute_result"
    }
   ],
   "source": [
    "id(a)"
   ]
  },
  {
   "cell_type": "code",
   "execution_count": 5,
   "id": "a540351f",
   "metadata": {},
   "outputs": [],
   "source": [
    "b=a"
   ]
  },
  {
   "cell_type": "code",
   "execution_count": 6,
   "id": "b2ea164a",
   "metadata": {},
   "outputs": [
    {
     "data": {
      "text/plain": [
       "10"
      ]
     },
     "execution_count": 6,
     "metadata": {},
     "output_type": "execute_result"
    }
   ],
   "source": [
    "b"
   ]
  },
  {
   "cell_type": "code",
   "execution_count": 7,
   "id": "e6c4be45",
   "metadata": {},
   "outputs": [
    {
     "data": {
      "text/plain": [
       "2727991405136"
      ]
     },
     "execution_count": 7,
     "metadata": {},
     "output_type": "execute_result"
    }
   ],
   "source": [
    "id(b)"
   ]
  },
  {
   "cell_type": "code",
   "execution_count": 8,
   "id": "ecf1c8ff",
   "metadata": {},
   "outputs": [],
   "source": [
    "del a"
   ]
  },
  {
   "cell_type": "code",
   "execution_count": 9,
   "id": "79e61dd6",
   "metadata": {},
   "outputs": [
    {
     "ename": "NameError",
     "evalue": "name 'a' is not defined",
     "output_type": "error",
     "traceback": [
      "\u001b[1;31m---------------------------------------------------------------------------\u001b[0m",
      "\u001b[1;31mNameError\u001b[0m                                 Traceback (most recent call last)",
      "\u001b[1;32m~\\AppData\\Local\\Temp/ipykernel_13300/2167009006.py\u001b[0m in \u001b[0;36m<module>\u001b[1;34m\u001b[0m\n\u001b[1;32m----> 1\u001b[1;33m \u001b[0ma\u001b[0m\u001b[1;33m\u001b[0m\u001b[1;33m\u001b[0m\u001b[0m\n\u001b[0m",
      "\u001b[1;31mNameError\u001b[0m: name 'a' is not defined"
     ]
    }
   ],
   "source": [
    "a"
   ]
  },
  {
   "cell_type": "code",
   "execution_count": 10,
   "id": "bb1889bf",
   "metadata": {},
   "outputs": [
    {
     "data": {
      "text/plain": [
       "10"
      ]
     },
     "execution_count": 10,
     "metadata": {},
     "output_type": "execute_result"
    }
   ],
   "source": [
    "b"
   ]
  },
  {
   "cell_type": "code",
   "execution_count": 11,
   "id": "2238dcd7",
   "metadata": {},
   "outputs": [
    {
     "data": {
      "text/plain": [
       "2727991405136"
      ]
     },
     "execution_count": 11,
     "metadata": {},
     "output_type": "execute_result"
    }
   ],
   "source": [
    "id(b)"
   ]
  },
  {
   "cell_type": "code",
   "execution_count": 12,
   "id": "7298cd28",
   "metadata": {},
   "outputs": [],
   "source": [
    "a=111"
   ]
  },
  {
   "cell_type": "code",
   "execution_count": 13,
   "id": "c3da9c33",
   "metadata": {},
   "outputs": [
    {
     "data": {
      "text/plain": [
       "2727991596848"
      ]
     },
     "execution_count": 13,
     "metadata": {},
     "output_type": "execute_result"
    }
   ],
   "source": [
    "id(a)"
   ]
  },
  {
   "cell_type": "code",
   "execution_count": 14,
   "id": "b70fae1b",
   "metadata": {},
   "outputs": [
    {
     "data": {
      "text/plain": [
       "111"
      ]
     },
     "execution_count": 14,
     "metadata": {},
     "output_type": "execute_result"
    }
   ],
   "source": [
    "a"
   ]
  },
  {
   "cell_type": "code",
   "execution_count": 15,
   "id": "7d8a5ce8",
   "metadata": {},
   "outputs": [],
   "source": [
    "b=copy.deepcopy(a)"
   ]
  },
  {
   "cell_type": "code",
   "execution_count": 16,
   "id": "a44024cd",
   "metadata": {},
   "outputs": [
    {
     "data": {
      "text/plain": [
       "111"
      ]
     },
     "execution_count": 16,
     "metadata": {},
     "output_type": "execute_result"
    }
   ],
   "source": [
    "b"
   ]
  },
  {
   "cell_type": "code",
   "execution_count": 17,
   "id": "9c6fa647",
   "metadata": {},
   "outputs": [
    {
     "data": {
      "text/plain": [
       "2727991596848"
      ]
     },
     "execution_count": 17,
     "metadata": {},
     "output_type": "execute_result"
    }
   ],
   "source": [
    "id(b)"
   ]
  },
  {
   "cell_type": "code",
   "execution_count": 18,
   "id": "09194143",
   "metadata": {},
   "outputs": [],
   "source": [
    "del a"
   ]
  },
  {
   "cell_type": "code",
   "execution_count": 19,
   "id": "99072e04",
   "metadata": {},
   "outputs": [
    {
     "ename": "NameError",
     "evalue": "name 'a' is not defined",
     "output_type": "error",
     "traceback": [
      "\u001b[1;31m---------------------------------------------------------------------------\u001b[0m",
      "\u001b[1;31mNameError\u001b[0m                                 Traceback (most recent call last)",
      "\u001b[1;32m~\\AppData\\Local\\Temp/ipykernel_13300/2167009006.py\u001b[0m in \u001b[0;36m<module>\u001b[1;34m\u001b[0m\n\u001b[1;32m----> 1\u001b[1;33m \u001b[0ma\u001b[0m\u001b[1;33m\u001b[0m\u001b[1;33m\u001b[0m\u001b[0m\n\u001b[0m",
      "\u001b[1;31mNameError\u001b[0m: name 'a' is not defined"
     ]
    }
   ],
   "source": [
    "a"
   ]
  },
  {
   "cell_type": "code",
   "execution_count": 20,
   "id": "b8f6b380",
   "metadata": {},
   "outputs": [
    {
     "data": {
      "text/plain": [
       "111"
      ]
     },
     "execution_count": 20,
     "metadata": {},
     "output_type": "execute_result"
    }
   ],
   "source": [
    "b"
   ]
  },
  {
   "cell_type": "code",
   "execution_count": 21,
   "id": "1ade6d4f",
   "metadata": {},
   "outputs": [
    {
     "data": {
      "text/plain": [
       "2727991596848"
      ]
     },
     "execution_count": 21,
     "metadata": {},
     "output_type": "execute_result"
    }
   ],
   "source": [
    "id(b)"
   ]
  },
  {
   "cell_type": "code",
   "execution_count": 22,
   "id": "601c3cf2",
   "metadata": {},
   "outputs": [],
   "source": [
    "L1 = [10,20]"
   ]
  },
  {
   "cell_type": "code",
   "execution_count": 23,
   "id": "a89b8cc5",
   "metadata": {},
   "outputs": [
    {
     "data": {
      "text/plain": [
       "2728072123840"
      ]
     },
     "execution_count": 23,
     "metadata": {},
     "output_type": "execute_result"
    }
   ],
   "source": [
    "id(L1)"
   ]
  },
  {
   "cell_type": "code",
   "execution_count": 24,
   "id": "7dad0652",
   "metadata": {},
   "outputs": [],
   "source": [
    "L2 = [10,20]"
   ]
  },
  {
   "cell_type": "code",
   "execution_count": 25,
   "id": "daa72174",
   "metadata": {},
   "outputs": [
    {
     "data": {
      "text/plain": [
       "2728072121920"
      ]
     },
     "execution_count": 25,
     "metadata": {},
     "output_type": "execute_result"
    }
   ],
   "source": [
    "id(L2)"
   ]
  },
  {
   "cell_type": "code",
   "execution_count": 26,
   "id": "b56770d5",
   "metadata": {},
   "outputs": [
    {
     "data": {
      "text/plain": [
       "10"
      ]
     },
     "execution_count": 26,
     "metadata": {},
     "output_type": "execute_result"
    }
   ],
   "source": [
    "L1[0]"
   ]
  },
  {
   "cell_type": "code",
   "execution_count": 27,
   "id": "79cb6bfd",
   "metadata": {},
   "outputs": [
    {
     "data": {
      "text/plain": [
       "2727991405136"
      ]
     },
     "execution_count": 27,
     "metadata": {},
     "output_type": "execute_result"
    }
   ],
   "source": [
    "id(L1[0])"
   ]
  },
  {
   "cell_type": "code",
   "execution_count": 28,
   "id": "85b6982d",
   "metadata": {},
   "outputs": [
    {
     "data": {
      "text/plain": [
       "10"
      ]
     },
     "execution_count": 28,
     "metadata": {},
     "output_type": "execute_result"
    }
   ],
   "source": [
    "L2[0]"
   ]
  },
  {
   "cell_type": "code",
   "execution_count": 29,
   "id": "4ae1c2ab",
   "metadata": {},
   "outputs": [
    {
     "data": {
      "text/plain": [
       "2727991405136"
      ]
     },
     "execution_count": 29,
     "metadata": {},
     "output_type": "execute_result"
    }
   ],
   "source": [
    "id(L2[0])"
   ]
  },
  {
   "cell_type": "code",
   "execution_count": 30,
   "id": "97a06675",
   "metadata": {},
   "outputs": [],
   "source": [
    "L1[0]=11"
   ]
  },
  {
   "cell_type": "code",
   "execution_count": 31,
   "id": "331c0fe3",
   "metadata": {},
   "outputs": [
    {
     "data": {
      "text/plain": [
       "[11, 20]"
      ]
     },
     "execution_count": 31,
     "metadata": {},
     "output_type": "execute_result"
    }
   ],
   "source": [
    "L1"
   ]
  },
  {
   "cell_type": "code",
   "execution_count": 32,
   "id": "467e943d",
   "metadata": {},
   "outputs": [
    {
     "data": {
      "text/plain": [
       "2727991405168"
      ]
     },
     "execution_count": 32,
     "metadata": {},
     "output_type": "execute_result"
    }
   ],
   "source": [
    "id(L1[0])"
   ]
  },
  {
   "cell_type": "code",
   "execution_count": 33,
   "id": "ad7d8f99",
   "metadata": {},
   "outputs": [
    {
     "data": {
      "text/plain": [
       "2727991405136"
      ]
     },
     "execution_count": 33,
     "metadata": {},
     "output_type": "execute_result"
    }
   ],
   "source": [
    "id(L2[0])"
   ]
  },
  {
   "cell_type": "code",
   "execution_count": 34,
   "id": "28e8d851",
   "metadata": {},
   "outputs": [
    {
     "data": {
      "text/plain": [
       "[11, 20]"
      ]
     },
     "execution_count": 34,
     "metadata": {},
     "output_type": "execute_result"
    }
   ],
   "source": [
    "L1"
   ]
  },
  {
   "cell_type": "code",
   "execution_count": 35,
   "id": "0fd68091",
   "metadata": {},
   "outputs": [
    {
     "data": {
      "text/plain": [
       "[10, 20]"
      ]
     },
     "execution_count": 35,
     "metadata": {},
     "output_type": "execute_result"
    }
   ],
   "source": [
    "L2"
   ]
  },
  {
   "cell_type": "code",
   "execution_count": 36,
   "id": "1fcbce33",
   "metadata": {},
   "outputs": [],
   "source": [
    "L3 = [100,200,300]"
   ]
  },
  {
   "cell_type": "code",
   "execution_count": 37,
   "id": "86b132b8",
   "metadata": {},
   "outputs": [],
   "source": [
    "L4 = L3  #softcopy"
   ]
  },
  {
   "cell_type": "code",
   "execution_count": 38,
   "id": "adb73682",
   "metadata": {},
   "outputs": [
    {
     "data": {
      "text/plain": [
       "2728072172864"
      ]
     },
     "execution_count": 38,
     "metadata": {},
     "output_type": "execute_result"
    }
   ],
   "source": [
    "id(L3)"
   ]
  },
  {
   "cell_type": "code",
   "execution_count": 39,
   "id": "dcd245af",
   "metadata": {},
   "outputs": [
    {
     "data": {
      "text/plain": [
       "2728072172864"
      ]
     },
     "execution_count": 39,
     "metadata": {},
     "output_type": "execute_result"
    }
   ],
   "source": [
    "id(L4)"
   ]
  },
  {
   "cell_type": "code",
   "execution_count": 40,
   "id": "b4a13776",
   "metadata": {},
   "outputs": [
    {
     "data": {
      "text/plain": [
       "100"
      ]
     },
     "execution_count": 40,
     "metadata": {},
     "output_type": "execute_result"
    }
   ],
   "source": [
    "L3[0]"
   ]
  },
  {
   "cell_type": "code",
   "execution_count": 41,
   "id": "7e157802",
   "metadata": {},
   "outputs": [
    {
     "data": {
      "text/plain": [
       "100"
      ]
     },
     "execution_count": 41,
     "metadata": {},
     "output_type": "execute_result"
    }
   ],
   "source": [
    "L4[0]"
   ]
  },
  {
   "cell_type": "code",
   "execution_count": 42,
   "id": "6f252292",
   "metadata": {},
   "outputs": [
    {
     "data": {
      "text/plain": [
       "2727991596496"
      ]
     },
     "execution_count": 42,
     "metadata": {},
     "output_type": "execute_result"
    }
   ],
   "source": [
    "id(L3[0])"
   ]
  },
  {
   "cell_type": "code",
   "execution_count": 43,
   "id": "364cda2e",
   "metadata": {},
   "outputs": [
    {
     "data": {
      "text/plain": [
       "2727991596496"
      ]
     },
     "execution_count": 43,
     "metadata": {},
     "output_type": "execute_result"
    }
   ],
   "source": [
    "id(L4[0])"
   ]
  },
  {
   "cell_type": "code",
   "execution_count": 44,
   "id": "2f90b50b",
   "metadata": {},
   "outputs": [],
   "source": [
    "del L3"
   ]
  },
  {
   "cell_type": "code",
   "execution_count": 45,
   "id": "796b6d26",
   "metadata": {},
   "outputs": [
    {
     "ename": "NameError",
     "evalue": "name 'L3' is not defined",
     "output_type": "error",
     "traceback": [
      "\u001b[1;31m---------------------------------------------------------------------------\u001b[0m",
      "\u001b[1;31mNameError\u001b[0m                                 Traceback (most recent call last)",
      "\u001b[1;32m~\\AppData\\Local\\Temp/ipykernel_13300/165489496.py\u001b[0m in \u001b[0;36m<module>\u001b[1;34m\u001b[0m\n\u001b[1;32m----> 1\u001b[1;33m \u001b[0mL3\u001b[0m\u001b[1;33m\u001b[0m\u001b[1;33m\u001b[0m\u001b[0m\n\u001b[0m",
      "\u001b[1;31mNameError\u001b[0m: name 'L3' is not defined"
     ]
    }
   ],
   "source": [
    "L3"
   ]
  },
  {
   "cell_type": "code",
   "execution_count": 46,
   "id": "6e98d3bd",
   "metadata": {},
   "outputs": [
    {
     "data": {
      "text/plain": [
       "[100, 200, 300]"
      ]
     },
     "execution_count": 46,
     "metadata": {},
     "output_type": "execute_result"
    }
   ],
   "source": [
    "L4"
   ]
  },
  {
   "cell_type": "code",
   "execution_count": 47,
   "id": "dea59d5d",
   "metadata": {},
   "outputs": [],
   "source": [
    "L3 = [1,2,3]"
   ]
  },
  {
   "cell_type": "code",
   "execution_count": 48,
   "id": "5bd80443",
   "metadata": {},
   "outputs": [],
   "source": [
    "L11 = [[11,22],[33,44]]"
   ]
  },
  {
   "cell_type": "code",
   "execution_count": 49,
   "id": "56f408c2",
   "metadata": {},
   "outputs": [],
   "source": [
    "L22 = L11"
   ]
  },
  {
   "cell_type": "code",
   "execution_count": 50,
   "id": "617d68aa",
   "metadata": {},
   "outputs": [
    {
     "data": {
      "text/plain": [
       "2728072955264"
      ]
     },
     "execution_count": 50,
     "metadata": {},
     "output_type": "execute_result"
    }
   ],
   "source": [
    "id(L11)"
   ]
  },
  {
   "cell_type": "code",
   "execution_count": 51,
   "id": "5285beb0",
   "metadata": {},
   "outputs": [
    {
     "data": {
      "text/plain": [
       "2728072955264"
      ]
     },
     "execution_count": 51,
     "metadata": {},
     "output_type": "execute_result"
    }
   ],
   "source": [
    "id(L22)"
   ]
  },
  {
   "cell_type": "code",
   "execution_count": 52,
   "id": "cfe22013",
   "metadata": {},
   "outputs": [
    {
     "data": {
      "text/plain": [
       "2728072956672"
      ]
     },
     "execution_count": 52,
     "metadata": {},
     "output_type": "execute_result"
    }
   ],
   "source": [
    "id(L11[0])"
   ]
  },
  {
   "cell_type": "code",
   "execution_count": 53,
   "id": "d10268ac",
   "metadata": {},
   "outputs": [
    {
     "data": {
      "text/plain": [
       "2728072956672"
      ]
     },
     "execution_count": 53,
     "metadata": {},
     "output_type": "execute_result"
    }
   ],
   "source": [
    "id(L22[0])"
   ]
  },
  {
   "cell_type": "code",
   "execution_count": 54,
   "id": "0c6f4a76",
   "metadata": {},
   "outputs": [],
   "source": [
    "del L11"
   ]
  },
  {
   "cell_type": "code",
   "execution_count": 55,
   "id": "cb93d0bc",
   "metadata": {},
   "outputs": [
    {
     "ename": "NameError",
     "evalue": "name 'L11' is not defined",
     "output_type": "error",
     "traceback": [
      "\u001b[1;31m---------------------------------------------------------------------------\u001b[0m",
      "\u001b[1;31mNameError\u001b[0m                                 Traceback (most recent call last)",
      "\u001b[1;32m~\\AppData\\Local\\Temp/ipykernel_13300/255616595.py\u001b[0m in \u001b[0;36m<module>\u001b[1;34m\u001b[0m\n\u001b[1;32m----> 1\u001b[1;33m \u001b[0mL11\u001b[0m\u001b[1;33m\u001b[0m\u001b[1;33m\u001b[0m\u001b[0m\n\u001b[0m",
      "\u001b[1;31mNameError\u001b[0m: name 'L11' is not defined"
     ]
    }
   ],
   "source": [
    "L11"
   ]
  },
  {
   "cell_type": "code",
   "execution_count": 56,
   "id": "25e9cb0a",
   "metadata": {},
   "outputs": [
    {
     "data": {
      "text/plain": [
       "[[11, 22], [33, 44]]"
      ]
     },
     "execution_count": 56,
     "metadata": {},
     "output_type": "execute_result"
    }
   ],
   "source": [
    "L22"
   ]
  },
  {
   "cell_type": "code",
   "execution_count": 57,
   "id": "3cca2ffc",
   "metadata": {},
   "outputs": [],
   "source": [
    "L11 = [[11,22],[33,44]]"
   ]
  },
  {
   "cell_type": "code",
   "execution_count": 58,
   "id": "c810c0bb",
   "metadata": {},
   "outputs": [
    {
     "name": "stdout",
     "output_type": "stream",
     "text": [
      "2728072168256\n",
      "2728072956096\n",
      "2727991405168\n"
     ]
    }
   ],
   "source": [
    "print(id(L11))\n",
    "print(id(L11[0]))\n",
    "print(id(L11[0][0]))"
   ]
  },
  {
   "cell_type": "code",
   "execution_count": 59,
   "id": "9df6216c",
   "metadata": {},
   "outputs": [],
   "source": [
    "L33 = copy.deepcopy(L11)  #deepcopy"
   ]
  },
  {
   "cell_type": "code",
   "execution_count": 60,
   "id": "02d81788",
   "metadata": {},
   "outputs": [
    {
     "name": "stdout",
     "output_type": "stream",
     "text": [
      "2728071912064\n",
      "2728072956224\n",
      "2727991405168\n"
     ]
    }
   ],
   "source": [
    "print(id(L33))\n",
    "print(id(L33[0]))\n",
    "print(id(L33[0][0]))"
   ]
  },
  {
   "cell_type": "code",
   "execution_count": 61,
   "id": "58d119a2",
   "metadata": {},
   "outputs": [],
   "source": [
    "#shallow copy\n",
    "L44 = copy.copy(L11)"
   ]
  },
  {
   "cell_type": "code",
   "execution_count": 63,
   "id": "fe973afd",
   "metadata": {},
   "outputs": [
    {
     "name": "stdout",
     "output_type": "stream",
     "text": [
      "2728072168256\n",
      "2728072956096\n",
      "2727991405168\n"
     ]
    }
   ],
   "source": [
    "print(id(L11))\n",
    "print(id(L11[0]))\n",
    "print(id(L11[0][0]))"
   ]
  },
  {
   "cell_type": "code",
   "execution_count": 62,
   "id": "a38ec97f",
   "metadata": {},
   "outputs": [
    {
     "name": "stdout",
     "output_type": "stream",
     "text": [
      "2728072145216\n",
      "2728072956096\n",
      "2727991405168\n"
     ]
    }
   ],
   "source": [
    "print(id(L44))\n",
    "print(id(L44[0]))\n",
    "print(id(L44[0][0]))"
   ]
  },
  {
   "cell_type": "code",
   "execution_count": null,
   "id": "0fdbc5b2",
   "metadata": {},
   "outputs": [],
   "source": []
  },
  {
   "cell_type": "code",
   "execution_count": null,
   "id": "e67b2ac0",
   "metadata": {},
   "outputs": [],
   "source": []
  }
 ],
 "metadata": {
  "kernelspec": {
   "display_name": "Python 3 (ipykernel)",
   "language": "python",
   "name": "python3"
  },
  "language_info": {
   "codemirror_mode": {
    "name": "ipython",
    "version": 3
   },
   "file_extension": ".py",
   "mimetype": "text/x-python",
   "name": "python",
   "nbconvert_exporter": "python",
   "pygments_lexer": "ipython3",
   "version": "3.9.7"
  }
 },
 "nbformat": 4,
 "nbformat_minor": 5
}
