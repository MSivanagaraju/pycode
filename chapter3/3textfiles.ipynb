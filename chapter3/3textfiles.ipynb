{
 "cells": [
  {
   "cell_type": "code",
   "execution_count": null,
   "id": "cd14752f",
   "metadata": {},
   "outputs": [],
   "source": [
    "#reading files data"
   ]
  },
  {
   "cell_type": "raw",
   "id": "02000e8d",
   "metadata": {},
   "source": [
    "#Mode\n",
    "read        =>  r , r+, rb, rb+\n",
    "write       =>  w , w+, wb, wb+\n",
    "append      =>  a , a+, ab, ab+"
   ]
  },
  {
   "cell_type": "raw",
   "id": "c2166e93",
   "metadata": {},
   "source": [
    "#modes\n",
    "read , write , append\n",
    "read   = > read only  r, r+(read and write), rb, rb+(read and write binary)\n",
    "write  = > write only w, w+(write and read), wb, wb+(write and read binary)\n",
    "append = > append(adding text to an existing file) a, a+, ab, ab+ "
   ]
  },
  {
   "cell_type": "code",
   "execution_count": null,
   "id": "a2e98e71",
   "metadata": {},
   "outputs": [],
   "source": [
    "#open is function to read file \n",
    "#open(path,mode)"
   ]
  },
  {
   "cell_type": "code",
   "execution_count": null,
   "id": "aca1160f",
   "metadata": {},
   "outputs": [],
   "source": [
    "type(open)"
   ]
  },
  {
   "cell_type": "code",
   "execution_count": null,
   "id": "77c68877",
   "metadata": {
    "scrolled": true
   },
   "outputs": [],
   "source": [
    "fobj1 = open('D:\\pfiles\\file1.txt',\"r\")"
   ]
  },
  {
   "cell_type": "code",
   "execution_count": null,
   "id": "1080c137",
   "metadata": {},
   "outputs": [],
   "source": [
    "fobj1 = open('D:\\\\pfiles\\\\file1.txt',\"r\")"
   ]
  },
  {
   "cell_type": "code",
   "execution_count": null,
   "id": "abd8ff40",
   "metadata": {},
   "outputs": [],
   "source": [
    "fobj2 = open(r'D:\\pfiles\\file1.txt',\"r\")"
   ]
  },
  {
   "cell_type": "code",
   "execution_count": null,
   "id": "bf4e0520",
   "metadata": {},
   "outputs": [],
   "source": [
    "fobj3 = open('D:/pfiles/file1.txt',\"r\")"
   ]
  },
  {
   "cell_type": "code",
   "execution_count": null,
   "id": "c8187a9d",
   "metadata": {},
   "outputs": [],
   "source": [
    "fname = 'D:/pfiles/file1.txt'"
   ]
  },
  {
   "cell_type": "code",
   "execution_count": null,
   "id": "2310698c",
   "metadata": {},
   "outputs": [],
   "source": [
    "fobj4 = open(fname)"
   ]
  },
  {
   "cell_type": "code",
   "execution_count": null,
   "id": "1c09b8a6",
   "metadata": {},
   "outputs": [],
   "source": [
    "fobj4.close()"
   ]
  },
  {
   "cell_type": "code",
   "execution_count": null,
   "id": "7b638257",
   "metadata": {},
   "outputs": [],
   "source": [
    "fname"
   ]
  },
  {
   "cell_type": "code",
   "execution_count": null,
   "id": "5cc5b7c6",
   "metadata": {},
   "outputs": [],
   "source": [
    "fobj = open(fname)"
   ]
  },
  {
   "cell_type": "code",
   "execution_count": null,
   "id": "bd67b628",
   "metadata": {},
   "outputs": [],
   "source": [
    "print(fobj.name)\n",
    "print(fobj.closed)\n",
    "print(fobj.mode)\n",
    "print(fobj.fileno())\n",
    "print(fobj.writable())\n",
    "print(fobj.readable())\n",
    "print(fobj.seekable())\n",
    "print(fobj.close())  # None\n",
    "print(fobj.closed)"
   ]
  },
  {
   "cell_type": "code",
   "execution_count": null,
   "id": "c9baf93d",
   "metadata": {},
   "outputs": [],
   "source": [
    "fname"
   ]
  },
  {
   "cell_type": "code",
   "execution_count": null,
   "id": "f1554686",
   "metadata": {},
   "outputs": [],
   "source": [
    "fobj1 = open(fname,'r')"
   ]
  },
  {
   "cell_type": "code",
   "execution_count": null,
   "id": "7edad506",
   "metadata": {},
   "outputs": [],
   "source": [
    "fobj1.read(7)"
   ]
  },
  {
   "cell_type": "code",
   "execution_count": null,
   "id": "5bda7ef5",
   "metadata": {},
   "outputs": [],
   "source": [
    "fobj1.tell()"
   ]
  },
  {
   "cell_type": "code",
   "execution_count": null,
   "id": "d6ca83ae",
   "metadata": {},
   "outputs": [],
   "source": [
    "fobj1.read(4)"
   ]
  },
  {
   "cell_type": "code",
   "execution_count": null,
   "id": "6644799d",
   "metadata": {},
   "outputs": [],
   "source": [
    "fobj1.tell()"
   ]
  },
  {
   "cell_type": "code",
   "execution_count": null,
   "id": "f1fa4500",
   "metadata": {},
   "outputs": [],
   "source": [
    "fobj1.seek(5)"
   ]
  },
  {
   "cell_type": "code",
   "execution_count": null,
   "id": "9c8982dc",
   "metadata": {},
   "outputs": [],
   "source": [
    "fobj1.tell()"
   ]
  },
  {
   "cell_type": "code",
   "execution_count": null,
   "id": "6ef1aad4",
   "metadata": {},
   "outputs": [],
   "source": [
    "fobj1.read(3)"
   ]
  },
  {
   "cell_type": "code",
   "execution_count": null,
   "id": "10108349",
   "metadata": {},
   "outputs": [],
   "source": [
    "fobj1.tell()"
   ]
  },
  {
   "cell_type": "code",
   "execution_count": null,
   "id": "626f0442",
   "metadata": {},
   "outputs": [],
   "source": [
    "fobj1.close()"
   ]
  },
  {
   "cell_type": "code",
   "execution_count": null,
   "id": "dbb5d28d",
   "metadata": {},
   "outputs": [],
   "source": [
    "fobj1.read(4)"
   ]
  },
  {
   "cell_type": "code",
   "execution_count": null,
   "id": "6e50c5d3",
   "metadata": {},
   "outputs": [],
   "source": [
    "fname"
   ]
  },
  {
   "cell_type": "code",
   "execution_count": null,
   "id": "6c9b233b",
   "metadata": {},
   "outputs": [],
   "source": [
    "fobj2 = open(fname)"
   ]
  },
  {
   "cell_type": "code",
   "execution_count": null,
   "id": "f66676ba",
   "metadata": {},
   "outputs": [],
   "source": [
    "fobj2.read()"
   ]
  },
  {
   "cell_type": "code",
   "execution_count": null,
   "id": "8748b886",
   "metadata": {},
   "outputs": [],
   "source": [
    "fobj2.tell()"
   ]
  },
  {
   "cell_type": "code",
   "execution_count": null,
   "id": "a3fa3c53",
   "metadata": {},
   "outputs": [],
   "source": [
    "fobj2.read(2)"
   ]
  },
  {
   "cell_type": "code",
   "execution_count": null,
   "id": "90edf49f",
   "metadata": {},
   "outputs": [],
   "source": [
    "fobj2.seek(0)"
   ]
  },
  {
   "cell_type": "code",
   "execution_count": null,
   "id": "6f224943",
   "metadata": {},
   "outputs": [],
   "source": [
    "print(fobj2.read())"
   ]
  },
  {
   "cell_type": "code",
   "execution_count": null,
   "id": "1d25f908",
   "metadata": {},
   "outputs": [],
   "source": [
    "fobj2.tell()"
   ]
  },
  {
   "cell_type": "code",
   "execution_count": null,
   "id": "27b84385",
   "metadata": {},
   "outputs": [],
   "source": [
    "fobj2.seek(0)"
   ]
  },
  {
   "cell_type": "code",
   "execution_count": null,
   "id": "3547fce0",
   "metadata": {},
   "outputs": [],
   "source": [
    "filedata = fobj2.read()"
   ]
  },
  {
   "cell_type": "code",
   "execution_count": null,
   "id": "ddfbca9e",
   "metadata": {},
   "outputs": [],
   "source": [
    "filedata"
   ]
  },
  {
   "cell_type": "code",
   "execution_count": null,
   "id": "6b9df424",
   "metadata": {},
   "outputs": [],
   "source": [
    "type(filedata)"
   ]
  },
  {
   "cell_type": "code",
   "execution_count": null,
   "id": "e7485b57",
   "metadata": {},
   "outputs": [],
   "source": [
    "fname = 'D:/pfiles/file2.txt'"
   ]
  },
  {
   "cell_type": "code",
   "execution_count": null,
   "id": "a76d7dee",
   "metadata": {},
   "outputs": [],
   "source": [
    "fobj3 = open(fname)"
   ]
  },
  {
   "cell_type": "code",
   "execution_count": null,
   "id": "aa18e3ac",
   "metadata": {},
   "outputs": [],
   "source": [
    "fobj3.readline()"
   ]
  },
  {
   "cell_type": "code",
   "execution_count": null,
   "id": "c3e4627e",
   "metadata": {},
   "outputs": [],
   "source": [
    "fobj3.readline()"
   ]
  },
  {
   "cell_type": "code",
   "execution_count": null,
   "id": "e90877c7",
   "metadata": {},
   "outputs": [],
   "source": [
    "fobj3.close()"
   ]
  },
  {
   "cell_type": "code",
   "execution_count": null,
   "id": "34afaa1b",
   "metadata": {},
   "outputs": [],
   "source": [
    "fobj4 = open(fname)"
   ]
  },
  {
   "cell_type": "code",
   "execution_count": null,
   "id": "5b65ffbe",
   "metadata": {},
   "outputs": [],
   "source": [
    "fobj4.readline()"
   ]
  },
  {
   "cell_type": "code",
   "execution_count": null,
   "id": "202bbfd9",
   "metadata": {},
   "outputs": [],
   "source": [
    "fobj4.readline(32)"
   ]
  },
  {
   "cell_type": "code",
   "execution_count": null,
   "id": "97f32ef4",
   "metadata": {},
   "outputs": [],
   "source": [
    "fobj4.readline(2)"
   ]
  },
  {
   "cell_type": "code",
   "execution_count": null,
   "id": "3c1869c8",
   "metadata": {},
   "outputs": [],
   "source": [
    "fobj4.readline(2)"
   ]
  },
  {
   "cell_type": "code",
   "execution_count": null,
   "id": "c5f66a83",
   "metadata": {},
   "outputs": [],
   "source": [
    "fobj4.readline()"
   ]
  },
  {
   "cell_type": "code",
   "execution_count": null,
   "id": "0f07b2bf",
   "metadata": {},
   "outputs": [],
   "source": [
    "fobj4.readline()"
   ]
  },
  {
   "cell_type": "code",
   "execution_count": null,
   "id": "4fbd31bf",
   "metadata": {},
   "outputs": [],
   "source": [
    "fobj4.close()"
   ]
  },
  {
   "cell_type": "code",
   "execution_count": null,
   "id": "d0669884",
   "metadata": {},
   "outputs": [],
   "source": [
    "fobj4 = open(fname)"
   ]
  },
  {
   "cell_type": "code",
   "execution_count": null,
   "id": "f4fd5890",
   "metadata": {},
   "outputs": [],
   "source": [
    "fobj4.readlines()"
   ]
  },
  {
   "cell_type": "code",
   "execution_count": null,
   "id": "4056139c",
   "metadata": {},
   "outputs": [],
   "source": [
    "fobj4.readlines()"
   ]
  },
  {
   "cell_type": "code",
   "execution_count": null,
   "id": "a59bd05e",
   "metadata": {},
   "outputs": [],
   "source": [
    "fobj4.seek(0)"
   ]
  },
  {
   "cell_type": "code",
   "execution_count": null,
   "id": "eda08197",
   "metadata": {},
   "outputs": [],
   "source": [
    "fobj4.readlines()"
   ]
  },
  {
   "cell_type": "code",
   "execution_count": null,
   "id": "d3d08c56",
   "metadata": {},
   "outputs": [],
   "source": [
    "fobj4.seek(0)"
   ]
  },
  {
   "cell_type": "code",
   "execution_count": null,
   "id": "f17fd7b8",
   "metadata": {},
   "outputs": [],
   "source": [
    "myfiledata = fobj4.readlines()"
   ]
  },
  {
   "cell_type": "code",
   "execution_count": null,
   "id": "e8b8baec",
   "metadata": {},
   "outputs": [],
   "source": [
    "type(myfiledata)"
   ]
  },
  {
   "cell_type": "code",
   "execution_count": null,
   "id": "f2ff2b8e",
   "metadata": {},
   "outputs": [],
   "source": [
    "myfiledata[0]"
   ]
  },
  {
   "cell_type": "code",
   "execution_count": null,
   "id": "66511340",
   "metadata": {},
   "outputs": [],
   "source": [
    "myfiledata[:]"
   ]
  },
  {
   "cell_type": "code",
   "execution_count": null,
   "id": "93a47578",
   "metadata": {},
   "outputs": [],
   "source": [
    "myfiledata[-1]"
   ]
  },
  {
   "cell_type": "code",
   "execution_count": null,
   "id": "7bfe0e86",
   "metadata": {},
   "outputs": [],
   "source": [
    "myfiledata[-1:-4:-1]"
   ]
  },
  {
   "cell_type": "code",
   "execution_count": null,
   "id": "ce3058c9",
   "metadata": {},
   "outputs": [],
   "source": [
    "fname = 'D:/pfiles/file2.txt'"
   ]
  },
  {
   "cell_type": "code",
   "execution_count": null,
   "id": "8d322a8b",
   "metadata": {},
   "outputs": [],
   "source": [
    "fobj = open(fname)"
   ]
  },
  {
   "cell_type": "code",
   "execution_count": null,
   "id": "bf2f27e4",
   "metadata": {},
   "outputs": [],
   "source": [
    "for i in fobj:\n",
    "    print(i)"
   ]
  },
  {
   "cell_type": "code",
   "execution_count": null,
   "id": "e0a3d95b",
   "metadata": {},
   "outputs": [],
   "source": [
    "for i in fobj:\n",
    "    print(i)"
   ]
  },
  {
   "cell_type": "code",
   "execution_count": null,
   "id": "1895ed12",
   "metadata": {},
   "outputs": [],
   "source": [
    "for i in open(fname):\n",
    "    print(i)"
   ]
  },
  {
   "cell_type": "code",
   "execution_count": null,
   "id": "ad25eb33",
   "metadata": {},
   "outputs": [],
   "source": [
    "fname = 'D:/pfiles/students.txt'"
   ]
  },
  {
   "cell_type": "code",
   "execution_count": null,
   "id": "c741b345",
   "metadata": {},
   "outputs": [],
   "source": [
    "for i in open(fname):\n",
    "    print(i)"
   ]
  },
  {
   "cell_type": "code",
   "execution_count": null,
   "id": "7b1cd20a",
   "metadata": {},
   "outputs": [],
   "source": [
    "\"e\" in \"welcome\""
   ]
  },
  {
   "cell_type": "code",
   "execution_count": null,
   "id": "b545b2b3",
   "metadata": {},
   "outputs": [],
   "source": [
    "\"python\" in \"101,raju,python,8000\""
   ]
  },
  {
   "cell_type": "code",
   "execution_count": null,
   "id": "24c52cf5",
   "metadata": {},
   "outputs": [],
   "source": [
    "fname"
   ]
  },
  {
   "cell_type": "code",
   "execution_count": null,
   "id": "15fdab66",
   "metadata": {},
   "outputs": [],
   "source": [
    "# diplay students information who joined for python\n",
    "course = input(\"Enter Course Name = \") # python\n",
    "fobj = open(fname)\n",
    "for i in fobj:\n",
    "    if course in i:\n",
    "        print(i)"
   ]
  },
  {
   "cell_type": "code",
   "execution_count": null,
   "id": "102db12b",
   "metadata": {},
   "outputs": [],
   "source": [
    "import re"
   ]
  },
  {
   "cell_type": "code",
   "execution_count": null,
   "id": "efe419d8",
   "metadata": {},
   "outputs": [],
   "source": [
    "# diplay students information who joined for python\n",
    "course = input(\"Enter Course Name = \") # python\n",
    "fobj = open(fname)\n",
    "for i in fobj:\n",
    "    if re.search(course,i,re.I):\n",
    "        print(i)"
   ]
  },
  {
   "cell_type": "code",
   "execution_count": null,
   "id": "50334b80",
   "metadata": {},
   "outputs": [],
   "source": [
    "# diplay students information who joined for python\n",
    "course = input(\"Enter Course Name = \") # python,c++\n",
    "fobj = open(fname)\n",
    "for i in fobj:\n",
    "    if re.search(course,i,re.I):\n",
    "        print(i)"
   ]
  },
  {
   "cell_type": "code",
   "execution_count": null,
   "id": "933861f7",
   "metadata": {},
   "outputs": [],
   "source": [
    "# diplay students information who joined for python\n",
    "course = input(\"Enter Course Name = \") # python,c++\n",
    "fobj = open(fname)\n",
    "for i in fobj:\n",
    "    if re.search(re.escape(course),i,re.I):\n",
    "        print(i)"
   ]
  },
  {
   "cell_type": "code",
   "execution_count": null,
   "id": "c810c23c",
   "metadata": {},
   "outputs": [],
   "source": [
    "re.findall('[0-9]{4}',\"101,raju,python,8000\")"
   ]
  },
  {
   "cell_type": "code",
   "execution_count": null,
   "id": "62e4f472",
   "metadata": {},
   "outputs": [],
   "source": [
    "# diplay fees\n",
    "fobj = open(fname)\n",
    "for i in fobj:\n",
    "    print(re.findall('[0-9]{4}',i))"
   ]
  },
  {
   "cell_type": "code",
   "execution_count": null,
   "id": "9b128cea",
   "metadata": {},
   "outputs": [],
   "source": [
    "# diplay students information who joined for python\n",
    "course = input(\"Enter Course Name = \") # python, c++\n",
    "fobj = open(fname)\n",
    "for i in fobj:\n",
    "    if re.search(re.escape(course),i,re.I):\n",
    "        print(i)"
   ]
  },
  {
   "cell_type": "code",
   "execution_count": null,
   "id": "1fd2d4fd",
   "metadata": {},
   "outputs": [],
   "source": [
    "# diplay students information who joined for python\n",
    "course = input(\"Enter Course Name = \") # python, c++, javascript\n",
    "fobj = open(fname)\n",
    "for i in fobj:\n",
    "    if re.search(re.escape(course),i,re.I):\n",
    "        print(i)"
   ]
  },
  {
   "cell_type": "code",
   "execution_count": null,
   "id": "c56d73de",
   "metadata": {},
   "outputs": [],
   "source": [
    "\"  wel  come  \".replace(\" \",\"\")"
   ]
  },
  {
   "cell_type": "code",
   "execution_count": null,
   "id": "0fcb4eaa",
   "metadata": {},
   "outputs": [],
   "source": [
    "\"101,raju,java script,8000\".split(\",\")"
   ]
  },
  {
   "cell_type": "code",
   "execution_count": null,
   "id": "88f88f19",
   "metadata": {},
   "outputs": [],
   "source": [
    "\"101,raju,java script,8000\".split(\",\")[2]"
   ]
  },
  {
   "cell_type": "code",
   "execution_count": null,
   "id": "e2b3fdcb",
   "metadata": {},
   "outputs": [],
   "source": [
    "\"101,raju,java script,8000\".split(\",\")[2].replace(\" \",\"\")"
   ]
  },
  {
   "cell_type": "code",
   "execution_count": null,
   "id": "8354aa85",
   "metadata": {},
   "outputs": [],
   "source": [
    "# diplay students information who joined for python\n",
    "course = input(\"Enter Course Name = \").replace(\" \",\"\") # python, c++, javascript , java script\n",
    "fobj = open(fname)\n",
    "for i in fobj:\n",
    "    if re.search(re.escape(course),i.split(\",\")[2].replace(\" \",\"\"),re.I):\n",
    "        print(i)"
   ]
  },
  {
   "cell_type": "code",
   "execution_count": null,
   "id": "bb745491",
   "metadata": {},
   "outputs": [],
   "source": [
    "# diplay students information who joined for python\n",
    "course = input(\"Enter Course Name = \").replace(\" \",\"\") # python, c++, javascript , java script\n",
    "fobj = open(fname)\n",
    "for i in fobj:\n",
    "    if re.fullmatch(re.escape(course),i.split(\",\")[2].replace(\" \",\"\"),re.I):\n",
    "        print(i)"
   ]
  },
  {
   "cell_type": "code",
   "execution_count": null,
   "id": "a7a679c1",
   "metadata": {},
   "outputs": [],
   "source": [
    "fname"
   ]
  },
  {
   "cell_type": "code",
   "execution_count": null,
   "id": "09488d47",
   "metadata": {},
   "outputs": [],
   "source": [
    "# count number of students joined a specific course\n",
    "fobj = open(fname)\n",
    "course = input(\"Enter course Name = \") # python\n",
    "cnt=0\n",
    "for i in fobj:\n",
    "    if re.fullmatch(re.escape(course),i.split(\",\")[2].replace(\" \",\"\"),re.I):\n",
    "        cnt+=1\n",
    "else:\n",
    "    print(\"Total students joined for {} = {}\".format(course,cnt))"
   ]
  },
  {
   "cell_type": "code",
   "execution_count": null,
   "id": "f1fbac04",
   "metadata": {},
   "outputs": [],
   "source": [
    "\"101,raju,java script,8000\".split(\",\")"
   ]
  },
  {
   "cell_type": "code",
   "execution_count": null,
   "id": "57bab87f",
   "metadata": {},
   "outputs": [],
   "source": [
    "\"101,raju,java script,8000\".split(\",\")[3]"
   ]
  },
  {
   "cell_type": "code",
   "execution_count": null,
   "id": "f5894e95",
   "metadata": {},
   "outputs": [],
   "source": [
    "int(\"101,raju,java script,8000\".split(\",\")[3])"
   ]
  },
  {
   "cell_type": "code",
   "execution_count": null,
   "id": "3181b1c9",
   "metadata": {},
   "outputs": [],
   "source": [
    "# Total revenue for given course\n",
    "fobj = open(fname)\n",
    "course = input(\"Enter course Name = \") # python\n",
    "rev=0\n",
    "for i in fobj:\n",
    "    if re.fullmatch(re.escape(course),i.split(\",\")[2].replace(\" \",\"\"),re.I):\n",
    "        rev=rev+int(i.split(\",\")[3])\n",
    "else:\n",
    "    print(\"Total Revenue for {} = {}\".format(course,rev))"
   ]
  },
  {
   "cell_type": "code",
   "execution_count": null,
   "id": "7aa4eb96",
   "metadata": {},
   "outputs": [],
   "source": [
    "# Total no of students and revenue for given course\n",
    "fobj = open(fname)\n",
    "course = input(\"Enter course Name = \") # python\n",
    "rev=0\n",
    "cnt=0\n",
    "for i in fobj:\n",
    "    if re.search(re.escape(course),i.split(\",\")[2].replace(\" \",\"\"),re.I):\n",
    "        rev+=int(i.split(\",\")[3])\n",
    "        cnt+=1\n",
    "else:\n",
    "    print(\"Total students joined for {}={} and Revenue is {}\".format(course,cnt,rev))"
   ]
  },
  {
   "cell_type": "code",
   "execution_count": null,
   "id": "b5b85300",
   "metadata": {},
   "outputs": [],
   "source": [
    "fname"
   ]
  },
  {
   "cell_type": "code",
   "execution_count": null,
   "id": "ea3f3a49",
   "metadata": {},
   "outputs": [],
   "source": [
    "# Total no of students and revenue for given course\n",
    "fobj = open('D:/pfiles/students123.txt')\n",
    "course = input(\"Enter course Name = \").replace(\" \",\"\") # python\n",
    "rev=0\n",
    "cnt=0\n",
    "for i in fobj:\n",
    "    if re.fullmatch(re.escape(course),i.split(\",\")[2].replace(\" \",\"\"),re.I):\n",
    "        rev+=int(i.split(\",\")[3])\n",
    "        cnt+=1\n",
    "if cnt==0:\n",
    "    print(\"Given course is not existed\")\n",
    "else:\n",
    "    print(\"Total students joined for {}={} and Revenue is {}\".format(course,cnt,rev))"
   ]
  },
  {
   "cell_type": "code",
   "execution_count": null,
   "id": "12aa4842",
   "metadata": {},
   "outputs": [],
   "source": [
    "try:\n",
    "    fobj = open('D:/pfiles/students123456.txt')\n",
    "except(FileNotFoundError):\n",
    "    print(\"Given file is not existed in path\")\n",
    "else:\n",
    "    course = input(\"Enter Course Name = \").replace(\" \",\"\")\n",
    "    rev=0\n",
    "    for i in fobj:\n",
    "        if re.fullmatch(re.escape(course),i.split(\",\")[2].replace(\" \",\"\"),re.I):\n",
    "            rev+=int(i.split(\",\")[3])\n",
    "    if rev==0:\n",
    "        print(\"Given Course is not existed\")\n",
    "    else:\n",
    "        print(\"Total Revenue for {} = {}\".format(course,rev))\n",
    "finally:\n",
    "    fobj.close()"
   ]
  },
  {
   "cell_type": "code",
   "execution_count": null,
   "id": "88e96173",
   "metadata": {},
   "outputs": [],
   "source": [
    "try:\n",
    "    fobj = open('D:/pfiles/students.txt')\n",
    "except(FileNotFoundError):\n",
    "    print(\"Given file is not existed in path\")\n",
    "else:\n",
    "    course = input(\"Enter Course Name = \").replace(\" \",\"\")\n",
    "    rev=0\n",
    "    for i in fobj:\n",
    "        if re.fullmatch(re.escape(course),i.split(\",\")[2].replace(\" \",\"\"),re.I):\n",
    "            rev+=int(i.split(\",\")[3])\n",
    "    if rev==0:\n",
    "        print(\"Given Course is not existed\")\n",
    "    else:\n",
    "        print(\"Total Revenue for {} = {}\".format(course,rev))\n",
    "finally:\n",
    "    fobj.close()"
   ]
  },
  {
   "cell_type": "code",
   "execution_count": null,
   "id": "3ef4585e",
   "metadata": {},
   "outputs": [],
   "source": [
    "def findcourserev(file,course):\n",
    "    try:\n",
    "        global fobj\n",
    "        fobj = open(file)\n",
    "    except(FileNotFoundError):\n",
    "        print(\"Given file is not existed in path\")\n",
    "    else:\n",
    "        course = course.replace(\" \",\"\")\n",
    "        rev=0\n",
    "        for i in fobj:\n",
    "            if re.search(re.escape(course),i.split(\",\")[2].replace(\" \",\"\"),re.I):\n",
    "                rev+=int(i.split(\",\")[3])\n",
    "        if rev==0:\n",
    "            print(\"Given Course is not existed\")\n",
    "        else:\n",
    "            print(\"Total Revenue for {} = {}\".format(course,rev))\n",
    "    finally:\n",
    "        fobj.close()"
   ]
  },
  {
   "cell_type": "code",
   "execution_count": null,
   "id": "3d19a831",
   "metadata": {},
   "outputs": [],
   "source": [
    "file = 'D:/pfiles/students.txt'"
   ]
  },
  {
   "cell_type": "code",
   "execution_count": null,
   "id": "8900c9a8",
   "metadata": {},
   "outputs": [],
   "source": [
    "findcourserev(file,'java')"
   ]
  },
  {
   "cell_type": "code",
   "execution_count": null,
   "id": "b739584d",
   "metadata": {},
   "outputs": [],
   "source": [
    "course = input(\"Enter course Name = \")\n",
    "findcourserev(file,course)"
   ]
  },
  {
   "cell_type": "code",
   "execution_count": null,
   "id": "b214bd12",
   "metadata": {},
   "outputs": [],
   "source": [
    "#Write"
   ]
  },
  {
   "cell_type": "code",
   "execution_count": 1,
   "id": "bbd37e5c",
   "metadata": {},
   "outputs": [],
   "source": [
    "fobj = open(\"D:/pfiles/file1.txt\",\"w\")"
   ]
  },
  {
   "cell_type": "code",
   "execution_count": 2,
   "id": "f6a35749",
   "metadata": {},
   "outputs": [
    {
     "data": {
      "text/plain": [
       "23"
      ]
     },
     "execution_count": 2,
     "metadata": {},
     "output_type": "execute_result"
    }
   ],
   "source": [
    "fobj.write(\"Welcome to Python Files\")"
   ]
  },
  {
   "cell_type": "code",
   "execution_count": 3,
   "id": "19f77335",
   "metadata": {},
   "outputs": [],
   "source": [
    "fobj.close()"
   ]
  },
  {
   "cell_type": "code",
   "execution_count": 4,
   "id": "1d9bbcb4",
   "metadata": {},
   "outputs": [],
   "source": [
    "fobj1 = open(\"D:/pfiles/file1.txt\",\"w\")"
   ]
  },
  {
   "cell_type": "code",
   "execution_count": 5,
   "id": "d1eacb22",
   "metadata": {},
   "outputs": [
    {
     "data": {
      "text/plain": [
       "20"
      ]
     },
     "execution_count": 5,
     "metadata": {},
     "output_type": "execute_result"
    }
   ],
   "source": [
    "fobj1.write(\"Good Morning World!!\")"
   ]
  },
  {
   "cell_type": "code",
   "execution_count": 6,
   "id": "9466c62d",
   "metadata": {},
   "outputs": [],
   "source": [
    "fobj1.close()"
   ]
  },
  {
   "cell_type": "code",
   "execution_count": 7,
   "id": "7487a6b9",
   "metadata": {},
   "outputs": [],
   "source": [
    "fobj1 = open(\"D:/pfiles/file1.txt\",\"w\")"
   ]
  },
  {
   "cell_type": "code",
   "execution_count": null,
   "id": "5b0f228d",
   "metadata": {},
   "outputs": [],
   "source": [
    "help(fobj1.writelines)"
   ]
  },
  {
   "cell_type": "code",
   "execution_count": 8,
   "id": "351992e4",
   "metadata": {},
   "outputs": [],
   "source": [
    "fobj1.writelines([\"python\\n\",'javascript\\n',\"django\"])"
   ]
  },
  {
   "cell_type": "code",
   "execution_count": 9,
   "id": "6b53dfae",
   "metadata": {},
   "outputs": [],
   "source": [
    "fobj1.close()"
   ]
  },
  {
   "cell_type": "code",
   "execution_count": 10,
   "id": "3455a4a3",
   "metadata": {},
   "outputs": [
    {
     "data": {
      "text/plain": [
       "type"
      ]
     },
     "execution_count": 10,
     "metadata": {},
     "output_type": "execute_result"
    }
   ],
   "source": [
    "type(Exception)"
   ]
  },
  {
   "cell_type": "code",
   "execution_count": 12,
   "id": "47d218ef",
   "metadata": {},
   "outputs": [],
   "source": [
    "#userdefined exception\n",
    "class CourseNotFound(Exception):\n",
    "    pass"
   ]
  },
  {
   "cell_type": "code",
   "execution_count": 13,
   "id": "3783d3a5",
   "metadata": {},
   "outputs": [
    {
     "ename": "CourseNotFound",
     "evalue": "",
     "output_type": "error",
     "traceback": [
      "\u001b[1;31m---------------------------------------------------------------------------\u001b[0m",
      "\u001b[1;31mCourseNotFound\u001b[0m                            Traceback (most recent call last)",
      "\u001b[1;32m~\\AppData\\Local\\Temp/ipykernel_8564/3528989278.py\u001b[0m in \u001b[0;36m<module>\u001b[1;34m\u001b[0m\n\u001b[1;32m----> 1\u001b[1;33m \u001b[1;32mraise\u001b[0m \u001b[0mCourseNotFound\u001b[0m\u001b[1;33m\u001b[0m\u001b[1;33m\u001b[0m\u001b[0m\n\u001b[0m",
      "\u001b[1;31mCourseNotFound\u001b[0m: "
     ]
    }
   ],
   "source": [
    "raise CourseNotFound"
   ]
  },
  {
   "cell_type": "code",
   "execution_count": 14,
   "id": "a9e9bdff",
   "metadata": {},
   "outputs": [
    {
     "ename": "NameError",
     "evalue": "name 'InvalidFee' is not defined",
     "output_type": "error",
     "traceback": [
      "\u001b[1;31m---------------------------------------------------------------------------\u001b[0m",
      "\u001b[1;31mNameError\u001b[0m                                 Traceback (most recent call last)",
      "\u001b[1;32m~\\AppData\\Local\\Temp/ipykernel_8564/3044319717.py\u001b[0m in \u001b[0;36m<module>\u001b[1;34m\u001b[0m\n\u001b[1;32m----> 1\u001b[1;33m \u001b[1;32mraise\u001b[0m \u001b[0mInvalidFee\u001b[0m\u001b[1;33m\u001b[0m\u001b[1;33m\u001b[0m\u001b[0m\n\u001b[0m",
      "\u001b[1;31mNameError\u001b[0m: name 'InvalidFee' is not defined"
     ]
    }
   ],
   "source": [
    "raise InvalidFee"
   ]
  },
  {
   "cell_type": "code",
   "execution_count": 15,
   "id": "17877168",
   "metadata": {},
   "outputs": [],
   "source": [
    "courses = {'python':10000,'react':8000,'javascript':5000,'django':12000}"
   ]
  },
  {
   "cell_type": "code",
   "execution_count": 16,
   "id": "fcaf6ada",
   "metadata": {},
   "outputs": [
    {
     "name": "stdout",
     "output_type": "stream",
     "text": [
      "python\n",
      "react\n",
      "javascript\n",
      "django\n"
     ]
    }
   ],
   "source": [
    "for course in courses:\n",
    "    print(course)"
   ]
  },
  {
   "cell_type": "code",
   "execution_count": 17,
   "id": "bc7ad1bf",
   "metadata": {},
   "outputs": [
    {
     "data": {
      "text/plain": [
       "True"
      ]
     },
     "execution_count": 17,
     "metadata": {},
     "output_type": "execute_result"
    }
   ],
   "source": [
    "\"react\" in courses"
   ]
  },
  {
   "cell_type": "code",
   "execution_count": 18,
   "id": "0b494e78",
   "metadata": {},
   "outputs": [],
   "source": [
    "import re"
   ]
  },
  {
   "cell_type": "code",
   "execution_count": 21,
   "id": "bb6f11bc",
   "metadata": {},
   "outputs": [
    {
     "name": "stdout",
     "output_type": "stream",
     "text": [
      "Given File D:/pfiles/students123.txt is not existed\n"
     ]
    }
   ],
   "source": [
    "fname = \"D:/pfiles/students.txt\"\n",
    "try:\n",
    "    fobj = open(fname)\n",
    "    course = input(\"Enter Course Name = \") # python\n",
    "    if course not in courses:\n",
    "        raise CourseNotFound\n",
    "except(FileNotFoundError):\n",
    "    print(\"Given File {} is not existed\".format(fname))\n",
    "except(CourseNotFound):\n",
    "    print(\"Given course {} is not existed\".format(course))\n",
    "else:\n",
    "    rev=0\n",
    "    for i in fobj:\n",
    "        if re.fullmatch(re.escape(course),i.split(\",\")[2].replace(\" \",\"\"),re.I):\n",
    "            rev+=int(i.split(\",\")[3])\n",
    "    else:\n",
    "        print(\"Total Revenue for {} = {}\".format(course,rev))\n",
    "finally:\n",
    "    fobj.close()"
   ]
  },
  {
   "cell_type": "code",
   "execution_count": null,
   "id": "208d2d93",
   "metadata": {},
   "outputs": [],
   "source": [
    "#contex manager"
   ]
  },
  {
   "cell_type": "code",
   "execution_count": 23,
   "id": "e89bdf18",
   "metadata": {},
   "outputs": [],
   "source": [
    "fname = \"D:/pfiles/students.txt\""
   ]
  },
  {
   "cell_type": "code",
   "execution_count": 24,
   "id": "cee00e66",
   "metadata": {},
   "outputs": [],
   "source": [
    "fobj = open(fname)"
   ]
  },
  {
   "cell_type": "code",
   "execution_count": 25,
   "id": "5ccf9b9b",
   "metadata": {},
   "outputs": [
    {
     "data": {
      "text/plain": [
       "'101,raju,python,9000\\n'"
      ]
     },
     "execution_count": 25,
     "metadata": {},
     "output_type": "execute_result"
    }
   ],
   "source": [
    "fobj.readline()"
   ]
  },
  {
   "cell_type": "code",
   "execution_count": 26,
   "id": "79e8028a",
   "metadata": {},
   "outputs": [
    {
     "name": "stdout",
     "output_type": "stream",
     "text": [
      "102,irfan,java,5000\n",
      "\n",
      "103,ramesh,PYTHON,7500\n",
      "\n",
      "104,ramu,java,4500\n",
      "\n",
      "105,somu,c++,3500\n",
      "\n",
      "106,ramesh,Python,7500\n",
      "\n",
      "107,tullan,java script,4000\n",
      "\n",
      "108,ramana,c,2000\n",
      "\n",
      "109,ramana,JAVAscript,2800\n",
      "\n",
      "110,ramesh,django,3000\n",
      "\n",
      "111,manish,SCALA,2500\n",
      "\n",
      "112,somu,c,2000\n",
      "\n",
      "113,raghu,c++,3400\n",
      "\n",
      "114,dilip,javascript,3500\n",
      "\n",
      "115,mohan,aws,14000\n",
      "\n",
      "116,kasi,java,5000\n",
      "\n",
      "117,krishna,AWS,7000\n",
      "\n",
      "118,sunder,python,8000\n"
     ]
    }
   ],
   "source": [
    "for i in fobj:\n",
    "    print(i)"
   ]
  },
  {
   "cell_type": "code",
   "execution_count": 27,
   "id": "459b9823",
   "metadata": {},
   "outputs": [
    {
     "data": {
      "text/plain": [
       "False"
      ]
     },
     "execution_count": 27,
     "metadata": {},
     "output_type": "execute_result"
    }
   ],
   "source": [
    "fobj.closed"
   ]
  },
  {
   "cell_type": "code",
   "execution_count": 28,
   "id": "c266fc00",
   "metadata": {},
   "outputs": [],
   "source": [
    "fobj.close()"
   ]
  },
  {
   "cell_type": "code",
   "execution_count": 29,
   "id": "8b58779e",
   "metadata": {},
   "outputs": [
    {
     "data": {
      "text/plain": [
       "True"
      ]
     },
     "execution_count": 29,
     "metadata": {},
     "output_type": "execute_result"
    }
   ],
   "source": [
    "fobj.closed"
   ]
  },
  {
   "cell_type": "code",
   "execution_count": 30,
   "id": "bb61e45b",
   "metadata": {},
   "outputs": [
    {
     "name": "stdout",
     "output_type": "stream",
     "text": [
      "101,raju,python,9000\n",
      "\n",
      "102,irfan,java,5000\n",
      "\n",
      "103,ramesh,PYTHON,7500\n",
      "\n",
      "104,ramu,java,4500\n",
      "\n",
      "105,somu,c++,3500\n",
      "\n",
      "106,ramesh,Python,7500\n",
      "\n",
      "107,tullan,java script,4000\n",
      "\n",
      "108,ramana,c,2000\n",
      "\n",
      "109,ramana,JAVAscript,2800\n",
      "\n",
      "110,ramesh,django,3000\n",
      "\n",
      "111,manish,SCALA,2500\n",
      "\n",
      "112,somu,c,2000\n",
      "\n",
      "113,raghu,c++,3400\n",
      "\n",
      "114,dilip,javascript,3500\n",
      "\n",
      "115,mohan,aws,14000\n",
      "\n",
      "116,kasi,java,5000\n",
      "\n",
      "117,krishna,AWS,7000\n",
      "\n",
      "118,sunder,python,8000\n"
     ]
    }
   ],
   "source": [
    "#context manager\n",
    "with open(fname) as fobj:\n",
    "    for i in fobj:\n",
    "        print(i)"
   ]
  },
  {
   "cell_type": "code",
   "execution_count": 31,
   "id": "c8805aac",
   "metadata": {},
   "outputs": [
    {
     "data": {
      "text/plain": [
       "True"
      ]
     },
     "execution_count": 31,
     "metadata": {},
     "output_type": "execute_result"
    }
   ],
   "source": [
    "fobj.closed"
   ]
  },
  {
   "cell_type": "code",
   "execution_count": null,
   "id": "a8775065",
   "metadata": {},
   "outputs": [],
   "source": []
  },
  {
   "cell_type": "code",
   "execution_count": 34,
   "id": "0574c680",
   "metadata": {},
   "outputs": [],
   "source": [
    "fname1 = \"D:/pfiles/students.txt\""
   ]
  },
  {
   "cell_type": "code",
   "execution_count": 35,
   "id": "798d0ada",
   "metadata": {},
   "outputs": [],
   "source": [
    "fname2 = \"D:/pfiles/students2.txt\""
   ]
  },
  {
   "cell_type": "code",
   "execution_count": null,
   "id": "58373107",
   "metadata": {},
   "outputs": [],
   "source": []
  },
  {
   "cell_type": "code",
   "execution_count": 36,
   "id": "b12f9c35",
   "metadata": {},
   "outputs": [],
   "source": [
    "with open(fname1) as fobj1:\n",
    "    with open(fname2,\"w\") as fobj2:\n",
    "        for i in fobj1:\n",
    "            fobj2.write(i)"
   ]
  },
  {
   "cell_type": "code",
   "execution_count": 37,
   "id": "1f6ade09",
   "metadata": {},
   "outputs": [
    {
     "data": {
      "text/plain": [
       "True"
      ]
     },
     "execution_count": 37,
     "metadata": {},
     "output_type": "execute_result"
    }
   ],
   "source": [
    "fobj1.closed"
   ]
  },
  {
   "cell_type": "code",
   "execution_count": 38,
   "id": "6f776db1",
   "metadata": {},
   "outputs": [
    {
     "data": {
      "text/plain": [
       "True"
      ]
     },
     "execution_count": 38,
     "metadata": {},
     "output_type": "execute_result"
    }
   ],
   "source": [
    "fobj2.closed"
   ]
  },
  {
   "cell_type": "code",
   "execution_count": null,
   "id": "6bbcd5db",
   "metadata": {},
   "outputs": [],
   "source": [
    "#read and write mode  ==> r+"
   ]
  },
  {
   "cell_type": "code",
   "execution_count": 39,
   "id": "5ac64d7a",
   "metadata": {},
   "outputs": [],
   "source": [
    "fname = \"D:/pfiles/file1.txt\""
   ]
  },
  {
   "cell_type": "code",
   "execution_count": 40,
   "id": "706eb7a1",
   "metadata": {},
   "outputs": [],
   "source": [
    "fobj = open(fname,\"r+\")"
   ]
  },
  {
   "cell_type": "code",
   "execution_count": 41,
   "id": "8776f91b",
   "metadata": {},
   "outputs": [
    {
     "data": {
      "text/plain": [
       "'python\\n'"
      ]
     },
     "execution_count": 41,
     "metadata": {},
     "output_type": "execute_result"
    }
   ],
   "source": [
    "fobj.readline()"
   ]
  },
  {
   "cell_type": "code",
   "execution_count": 42,
   "id": "e1efc9a0",
   "metadata": {},
   "outputs": [
    {
     "data": {
      "text/plain": [
       "8"
      ]
     },
     "execution_count": 42,
     "metadata": {},
     "output_type": "execute_result"
    }
   ],
   "source": [
    "fobj.tell()"
   ]
  },
  {
   "cell_type": "code",
   "execution_count": 43,
   "id": "7cc1e649",
   "metadata": {},
   "outputs": [
    {
     "data": {
      "text/plain": [
       "5"
      ]
     },
     "execution_count": 43,
     "metadata": {},
     "output_type": "execute_result"
    }
   ],
   "source": [
    "fobj.write(\"Flask\")"
   ]
  },
  {
   "cell_type": "code",
   "execution_count": 44,
   "id": "27826723",
   "metadata": {},
   "outputs": [],
   "source": [
    "fobj.close()"
   ]
  },
  {
   "cell_type": "code",
   "execution_count": null,
   "id": "3b26f4c1",
   "metadata": {},
   "outputs": [],
   "source": [
    "#r+ without reading write "
   ]
  },
  {
   "cell_type": "code",
   "execution_count": 45,
   "id": "118fbca7",
   "metadata": {},
   "outputs": [],
   "source": [
    "fobj = open(fname,\"r+\")"
   ]
  },
  {
   "cell_type": "code",
   "execution_count": 46,
   "id": "306a01da",
   "metadata": {},
   "outputs": [
    {
     "data": {
      "text/plain": [
       "0"
      ]
     },
     "execution_count": 46,
     "metadata": {},
     "output_type": "execute_result"
    }
   ],
   "source": [
    "fobj.tell()"
   ]
  },
  {
   "cell_type": "code",
   "execution_count": 47,
   "id": "fe8aa7ae",
   "metadata": {},
   "outputs": [
    {
     "data": {
      "text/plain": [
       "7"
      ]
     },
     "execution_count": 47,
     "metadata": {},
     "output_type": "execute_result"
    }
   ],
   "source": [
    "fobj.write(\"GraphQL\")"
   ]
  },
  {
   "cell_type": "code",
   "execution_count": 48,
   "id": "17704f83",
   "metadata": {},
   "outputs": [
    {
     "data": {
      "text/plain": [
       "7"
      ]
     },
     "execution_count": 48,
     "metadata": {},
     "output_type": "execute_result"
    }
   ],
   "source": [
    "fobj.tell()"
   ]
  },
  {
   "cell_type": "code",
   "execution_count": 49,
   "id": "5b98ffea",
   "metadata": {},
   "outputs": [],
   "source": [
    "fobj.close()"
   ]
  },
  {
   "cell_type": "code",
   "execution_count": null,
   "id": "398584c6",
   "metadata": {},
   "outputs": [],
   "source": [
    "#r+ can not write new file"
   ]
  },
  {
   "cell_type": "code",
   "execution_count": 50,
   "id": "d79da76f",
   "metadata": {},
   "outputs": [
    {
     "ename": "FileNotFoundError",
     "evalue": "[Errno 2] No such file or directory: 'D:/pfiles/file8798.txt'",
     "output_type": "error",
     "traceback": [
      "\u001b[1;31m---------------------------------------------------------------------------\u001b[0m",
      "\u001b[1;31mFileNotFoundError\u001b[0m                         Traceback (most recent call last)",
      "\u001b[1;32m~\\AppData\\Local\\Temp/ipykernel_8564/1196745877.py\u001b[0m in \u001b[0;36m<module>\u001b[1;34m\u001b[0m\n\u001b[1;32m----> 1\u001b[1;33m \u001b[0mfobj\u001b[0m \u001b[1;33m=\u001b[0m \u001b[0mopen\u001b[0m\u001b[1;33m(\u001b[0m\u001b[1;34m\"D:/pfiles/file8798.txt\"\u001b[0m\u001b[1;33m,\u001b[0m\u001b[1;34m\"r+\"\u001b[0m\u001b[1;33m)\u001b[0m\u001b[1;33m\u001b[0m\u001b[1;33m\u001b[0m\u001b[0m\n\u001b[0m",
      "\u001b[1;31mFileNotFoundError\u001b[0m: [Errno 2] No such file or directory: 'D:/pfiles/file8798.txt'"
     ]
    }
   ],
   "source": [
    "fobj = open(\"D:/pfiles/file8798.txt\",\"r+\")"
   ]
  },
  {
   "cell_type": "code",
   "execution_count": null,
   "id": "299d31ca",
   "metadata": {},
   "outputs": [],
   "source": [
    "#w+ write and read"
   ]
  },
  {
   "cell_type": "code",
   "execution_count": 51,
   "id": "9c570cb5",
   "metadata": {},
   "outputs": [],
   "source": [
    "fobj = open('D:/pfiles/file5.txt',\"w+\")"
   ]
  },
  {
   "cell_type": "code",
   "execution_count": 52,
   "id": "baf44d48",
   "metadata": {},
   "outputs": [
    {
     "data": {
      "text/plain": [
       "23"
      ]
     },
     "execution_count": 52,
     "metadata": {},
     "output_type": "execute_result"
    }
   ],
   "source": [
    "fobj.write(\"welcome to python files\")"
   ]
  },
  {
   "cell_type": "code",
   "execution_count": 53,
   "id": "effa8e70",
   "metadata": {},
   "outputs": [
    {
     "data": {
      "text/plain": [
       "23"
      ]
     },
     "execution_count": 53,
     "metadata": {},
     "output_type": "execute_result"
    }
   ],
   "source": [
    "fobj.tell()"
   ]
  },
  {
   "cell_type": "code",
   "execution_count": 54,
   "id": "2d72e9f4",
   "metadata": {},
   "outputs": [
    {
     "data": {
      "text/plain": [
       "''"
      ]
     },
     "execution_count": 54,
     "metadata": {},
     "output_type": "execute_result"
    }
   ],
   "source": [
    "fobj.read()"
   ]
  },
  {
   "cell_type": "code",
   "execution_count": 55,
   "id": "576f75b7",
   "metadata": {},
   "outputs": [
    {
     "data": {
      "text/plain": [
       "0"
      ]
     },
     "execution_count": 55,
     "metadata": {},
     "output_type": "execute_result"
    }
   ],
   "source": [
    "fobj.seek(0)"
   ]
  },
  {
   "cell_type": "code",
   "execution_count": 56,
   "id": "94aaea3f",
   "metadata": {},
   "outputs": [
    {
     "data": {
      "text/plain": [
       "'welcome to python files'"
      ]
     },
     "execution_count": 56,
     "metadata": {},
     "output_type": "execute_result"
    }
   ],
   "source": [
    "fobj.read()"
   ]
  },
  {
   "cell_type": "code",
   "execution_count": 57,
   "id": "c33efe29",
   "metadata": {},
   "outputs": [
    {
     "data": {
      "text/plain": [
       "0"
      ]
     },
     "execution_count": 57,
     "metadata": {},
     "output_type": "execute_result"
    }
   ],
   "source": [
    "fobj.seek(0)"
   ]
  },
  {
   "cell_type": "code",
   "execution_count": 58,
   "id": "a9917240",
   "metadata": {},
   "outputs": [
    {
     "data": {
      "text/plain": [
       "7"
      ]
     },
     "execution_count": 58,
     "metadata": {},
     "output_type": "execute_result"
    }
   ],
   "source": [
    "fobj.write(\"Morning\")"
   ]
  },
  {
   "cell_type": "code",
   "execution_count": 59,
   "id": "b405d14f",
   "metadata": {},
   "outputs": [],
   "source": [
    "fobj.close()"
   ]
  },
  {
   "cell_type": "code",
   "execution_count": null,
   "id": "54578a70",
   "metadata": {},
   "outputs": [],
   "source": [
    "#append: adding new data"
   ]
  },
  {
   "cell_type": "code",
   "execution_count": 60,
   "id": "53a9459b",
   "metadata": {},
   "outputs": [],
   "source": [
    "fname = 'D:/pfiles/file5.txt'"
   ]
  },
  {
   "cell_type": "code",
   "execution_count": 61,
   "id": "fd3b77e2",
   "metadata": {},
   "outputs": [],
   "source": [
    "fobj = open(fname,\"a\")"
   ]
  },
  {
   "cell_type": "code",
   "execution_count": 62,
   "id": "641f3194",
   "metadata": {},
   "outputs": [
    {
     "data": {
      "text/plain": [
       "10"
      ]
     },
     "execution_count": 62,
     "metadata": {},
     "output_type": "execute_result"
    }
   ],
   "source": [
    "fobj.write(\"\\njavscript\")"
   ]
  },
  {
   "cell_type": "code",
   "execution_count": 63,
   "id": "9334d0de",
   "metadata": {},
   "outputs": [],
   "source": [
    "fobj.close()"
   ]
  },
  {
   "cell_type": "code",
   "execution_count": null,
   "id": "7a5279bc",
   "metadata": {},
   "outputs": [],
   "source": [
    "#example2"
   ]
  },
  {
   "cell_type": "code",
   "execution_count": 64,
   "id": "3f4f164f",
   "metadata": {},
   "outputs": [
    {
     "data": {
      "text/plain": [
       "'D:/pfiles/file5.txt'"
      ]
     },
     "execution_count": 64,
     "metadata": {},
     "output_type": "execute_result"
    }
   ],
   "source": [
    "fname"
   ]
  },
  {
   "cell_type": "code",
   "execution_count": 66,
   "id": "ee16623d",
   "metadata": {},
   "outputs": [],
   "source": [
    "fobj = open(fname,\"a\")"
   ]
  },
  {
   "cell_type": "code",
   "execution_count": 67,
   "id": "688ae2a6",
   "metadata": {},
   "outputs": [
    {
     "data": {
      "text/plain": [
       "0"
      ]
     },
     "execution_count": 67,
     "metadata": {},
     "output_type": "execute_result"
    }
   ],
   "source": [
    "fobj.seek(0)"
   ]
  },
  {
   "cell_type": "code",
   "execution_count": 68,
   "id": "64a2359b",
   "metadata": {},
   "outputs": [
    {
     "ename": "UnsupportedOperation",
     "evalue": "not readable",
     "output_type": "error",
     "traceback": [
      "\u001b[1;31m---------------------------------------------------------------------------\u001b[0m",
      "\u001b[1;31mUnsupportedOperation\u001b[0m                      Traceback (most recent call last)",
      "\u001b[1;32m~\\AppData\\Local\\Temp/ipykernel_8564/3875495213.py\u001b[0m in \u001b[0;36m<module>\u001b[1;34m\u001b[0m\n\u001b[1;32m----> 1\u001b[1;33m \u001b[0mfobj\u001b[0m\u001b[1;33m.\u001b[0m\u001b[0mread\u001b[0m\u001b[1;33m(\u001b[0m\u001b[1;33m)\u001b[0m\u001b[1;33m\u001b[0m\u001b[1;33m\u001b[0m\u001b[0m\n\u001b[0m",
      "\u001b[1;31mUnsupportedOperation\u001b[0m: not readable"
     ]
    }
   ],
   "source": [
    "fobj.read()"
   ]
  },
  {
   "cell_type": "code",
   "execution_count": 69,
   "id": "836d48c3",
   "metadata": {},
   "outputs": [
    {
     "data": {
      "text/plain": [
       "False"
      ]
     },
     "execution_count": 69,
     "metadata": {},
     "output_type": "execute_result"
    }
   ],
   "source": [
    "fobj.readable()"
   ]
  },
  {
   "cell_type": "code",
   "execution_count": 70,
   "id": "042dd556",
   "metadata": {},
   "outputs": [
    {
     "data": {
      "text/plain": [
       "4"
      ]
     },
     "execution_count": 70,
     "metadata": {},
     "output_type": "execute_result"
    }
   ],
   "source": [
    "fobj.write(\"\\nNLP\")"
   ]
  },
  {
   "cell_type": "code",
   "execution_count": 71,
   "id": "38ea7a85",
   "metadata": {},
   "outputs": [],
   "source": [
    "fobj.close()"
   ]
  },
  {
   "cell_type": "code",
   "execution_count": null,
   "id": "5bd6ecca",
   "metadata": {},
   "outputs": [],
   "source": [
    "#example3"
   ]
  },
  {
   "cell_type": "code",
   "execution_count": 72,
   "id": "084c1ebc",
   "metadata": {},
   "outputs": [
    {
     "ename": "NameError",
     "evalue": "name 'UnsupportedOperation' is not defined",
     "output_type": "error",
     "traceback": [
      "\u001b[1;31m---------------------------------------------------------------------------\u001b[0m",
      "\u001b[1;31mUnsupportedOperation\u001b[0m                      Traceback (most recent call last)",
      "\u001b[1;32m~\\AppData\\Local\\Temp/ipykernel_8564/1171540034.py\u001b[0m in \u001b[0;36m<module>\u001b[1;34m\u001b[0m\n\u001b[0;32m      2\u001b[0m     \u001b[0mfobj\u001b[0m \u001b[1;33m=\u001b[0m \u001b[0mopen\u001b[0m\u001b[1;33m(\u001b[0m\u001b[0mfname\u001b[0m\u001b[1;33m,\u001b[0m\u001b[1;34m\"a\"\u001b[0m\u001b[1;33m)\u001b[0m\u001b[1;33m\u001b[0m\u001b[1;33m\u001b[0m\u001b[0m\n\u001b[1;32m----> 3\u001b[1;33m     \u001b[0mfobj\u001b[0m\u001b[1;33m.\u001b[0m\u001b[0mread\u001b[0m\u001b[1;33m(\u001b[0m\u001b[1;33m)\u001b[0m\u001b[1;33m\u001b[0m\u001b[1;33m\u001b[0m\u001b[0m\n\u001b[0m\u001b[0;32m      4\u001b[0m \u001b[1;32mexcept\u001b[0m\u001b[1;33m(\u001b[0m\u001b[0mUnsupportedOperation\u001b[0m\u001b[1;33m)\u001b[0m\u001b[1;33m:\u001b[0m\u001b[1;33m\u001b[0m\u001b[1;33m\u001b[0m\u001b[0m\n",
      "\u001b[1;31mUnsupportedOperation\u001b[0m: not readable",
      "\nDuring handling of the above exception, another exception occurred:\n",
      "\u001b[1;31mNameError\u001b[0m                                 Traceback (most recent call last)",
      "\u001b[1;32m~\\AppData\\Local\\Temp/ipykernel_8564/1171540034.py\u001b[0m in \u001b[0;36m<module>\u001b[1;34m\u001b[0m\n\u001b[0;32m      2\u001b[0m     \u001b[0mfobj\u001b[0m \u001b[1;33m=\u001b[0m \u001b[0mopen\u001b[0m\u001b[1;33m(\u001b[0m\u001b[0mfname\u001b[0m\u001b[1;33m,\u001b[0m\u001b[1;34m\"a\"\u001b[0m\u001b[1;33m)\u001b[0m\u001b[1;33m\u001b[0m\u001b[1;33m\u001b[0m\u001b[0m\n\u001b[0;32m      3\u001b[0m     \u001b[0mfobj\u001b[0m\u001b[1;33m.\u001b[0m\u001b[0mread\u001b[0m\u001b[1;33m(\u001b[0m\u001b[1;33m)\u001b[0m\u001b[1;33m\u001b[0m\u001b[1;33m\u001b[0m\u001b[0m\n\u001b[1;32m----> 4\u001b[1;33m \u001b[1;32mexcept\u001b[0m\u001b[1;33m(\u001b[0m\u001b[0mUnsupportedOperation\u001b[0m\u001b[1;33m)\u001b[0m\u001b[1;33m:\u001b[0m\u001b[1;33m\u001b[0m\u001b[1;33m\u001b[0m\u001b[0m\n\u001b[0m\u001b[0;32m      5\u001b[0m     \u001b[0mprint\u001b[0m\u001b[1;33m(\u001b[0m\u001b[1;34m\"Reading is not possible if file is opened in append mode\"\u001b[0m\u001b[1;33m)\u001b[0m\u001b[1;33m\u001b[0m\u001b[1;33m\u001b[0m\u001b[0m\n",
      "\u001b[1;31mNameError\u001b[0m: name 'UnsupportedOperation' is not defined"
     ]
    }
   ],
   "source": [
    "try:\n",
    "    fobj = open(fname,\"a\")\n",
    "    fobj.read()\n",
    "except(UnsupportedOperation):\n",
    "    print(\"Reading is not possible if file is opened in append mode\")"
   ]
  },
  {
   "cell_type": "code",
   "execution_count": null,
   "id": "e11958e8",
   "metadata": {},
   "outputs": [],
   "source": [
    "#example4"
   ]
  },
  {
   "cell_type": "code",
   "execution_count": 73,
   "id": "d8f934d7",
   "metadata": {},
   "outputs": [],
   "source": [
    "import builtins"
   ]
  },
  {
   "cell_type": "code",
   "execution_count": 74,
   "id": "24a343df",
   "metadata": {},
   "outputs": [
    {
     "name": "stdout",
     "output_type": "stream",
     "text": [
      "Pretty printing has been turned OFF\n"
     ]
    }
   ],
   "source": [
    "pprint"
   ]
  },
  {
   "cell_type": "code",
   "execution_count": 75,
   "id": "dc5e2505",
   "metadata": {},
   "outputs": [
    {
     "data": {
      "text/plain": [
       "['ArithmeticError', 'AssertionError', 'AttributeError', 'BaseException', 'BlockingIOError', 'BrokenPipeError', 'BufferError', 'BytesWarning', 'ChildProcessError', 'ConnectionAbortedError', 'ConnectionError', 'ConnectionRefusedError', 'ConnectionResetError', 'DeprecationWarning', 'EOFError', 'Ellipsis', 'EnvironmentError', 'Exception', 'False', 'FileExistsError', 'FileNotFoundError', 'FloatingPointError', 'FutureWarning', 'GeneratorExit', 'IOError', 'ImportError', 'ImportWarning', 'IndentationError', 'IndexError', 'InterruptedError', 'IsADirectoryError', 'KeyError', 'KeyboardInterrupt', 'LookupError', 'MemoryError', 'ModuleNotFoundError', 'NameError', 'None', 'NotADirectoryError', 'NotImplemented', 'NotImplementedError', 'OSError', 'OverflowError', 'PendingDeprecationWarning', 'PermissionError', 'ProcessLookupError', 'RecursionError', 'ReferenceError', 'ResourceWarning', 'RuntimeError', 'RuntimeWarning', 'StopAsyncIteration', 'StopIteration', 'SyntaxError', 'SyntaxWarning', 'SystemError', 'SystemExit', 'TabError', 'TimeoutError', 'True', 'TypeError', 'UnboundLocalError', 'UnicodeDecodeError', 'UnicodeEncodeError', 'UnicodeError', 'UnicodeTranslateError', 'UnicodeWarning', 'UserWarning', 'ValueError', 'Warning', 'WindowsError', 'ZeroDivisionError', '__IPYTHON__', '__build_class__', '__debug__', '__doc__', '__import__', '__loader__', '__name__', '__package__', '__spec__', 'abs', 'all', 'any', 'ascii', 'bin', 'bool', 'breakpoint', 'bytearray', 'bytes', 'callable', 'chr', 'classmethod', 'compile', 'complex', 'copyright', 'credits', 'delattr', 'dict', 'dir', 'display', 'divmod', 'enumerate', 'eval', 'exec', 'execfile', 'filter', 'float', 'format', 'frozenset', 'get_ipython', 'getattr', 'globals', 'hasattr', 'hash', 'help', 'hex', 'id', 'input', 'int', 'isinstance', 'issubclass', 'iter', 'len', 'license', 'list', 'locals', 'map', 'max', 'memoryview', 'min', 'next', 'object', 'oct', 'open', 'ord', 'pow', 'print', 'property', 'range', 'repr', 'reversed', 'round', 'runfile', 'set', 'setattr', 'slice', 'sorted', 'staticmethod', 'str', 'sum', 'super', 'tuple', 'type', 'vars', 'zip']"
      ]
     },
     "execution_count": 75,
     "metadata": {},
     "output_type": "execute_result"
    }
   ],
   "source": [
    "dir(builtins)"
   ]
  },
  {
   "cell_type": "code",
   "execution_count": 76,
   "id": "ec073748",
   "metadata": {},
   "outputs": [],
   "source": [
    "class UnsupportedOperation(Exception):\n",
    "    pass"
   ]
  },
  {
   "cell_type": "code",
   "execution_count": 77,
   "id": "ffeca2f0",
   "metadata": {},
   "outputs": [
    {
     "name": "stdout",
     "output_type": "stream",
     "text": [
      "Your can not read this file because it is in a=append mode\n"
     ]
    }
   ],
   "source": [
    "try:\n",
    "    fobj = open(fname,\"a\")\n",
    "    if not fobj.readable():\n",
    "        raise UnsupportedOperation\n",
    "except(FileNotFoundError):\n",
    "    print(\"Given file {} is not existed\".format(fname))\n",
    "except(UnsupportedOperation):\n",
    "    print(\"Your can not read this file because it is in {}=append mode\".format(fobj.mode))\n",
    "else:\n",
    "    data = fobj.read()\n",
    "    print(data)\n",
    "finally:\n",
    "    fobj.close()"
   ]
  },
  {
   "cell_type": "code",
   "execution_count": null,
   "id": "9851c17e",
   "metadata": {},
   "outputs": [],
   "source": [
    "#example3 => if there is no file it will create new file"
   ]
  },
  {
   "cell_type": "code",
   "execution_count": 78,
   "id": "2ee68139",
   "metadata": {},
   "outputs": [],
   "source": [
    "fobj = open('D:/pfiles/file6.txt','a')"
   ]
  },
  {
   "cell_type": "code",
   "execution_count": 79,
   "id": "3be6f4aa",
   "metadata": {},
   "outputs": [],
   "source": [
    "fobj.close()"
   ]
  },
  {
   "cell_type": "code",
   "execution_count": null,
   "id": "a4e634f9",
   "metadata": {},
   "outputs": [],
   "source": [
    "#append+ => a+"
   ]
  },
  {
   "cell_type": "code",
   "execution_count": 80,
   "id": "0760ef58",
   "metadata": {},
   "outputs": [],
   "source": [
    "fobj = open('D:/pfiles/file5.txt','a+')"
   ]
  },
  {
   "cell_type": "code",
   "execution_count": 81,
   "id": "8bc810d2",
   "metadata": {},
   "outputs": [
    {
     "data": {
      "text/plain": [
       "7"
      ]
     },
     "execution_count": 81,
     "metadata": {},
     "output_type": "execute_result"
    }
   ],
   "source": [
    "fobj.write(\"\\npandas\")"
   ]
  },
  {
   "cell_type": "code",
   "execution_count": 82,
   "id": "a9227ac6",
   "metadata": {},
   "outputs": [
    {
     "data": {
      "text/plain": [
       "''"
      ]
     },
     "execution_count": 82,
     "metadata": {},
     "output_type": "execute_result"
    }
   ],
   "source": [
    "fobj.read()"
   ]
  },
  {
   "cell_type": "code",
   "execution_count": 83,
   "id": "25df1b0b",
   "metadata": {},
   "outputs": [
    {
     "data": {
      "text/plain": [
       "0"
      ]
     },
     "execution_count": 83,
     "metadata": {},
     "output_type": "execute_result"
    }
   ],
   "source": [
    "fobj.seek(0)"
   ]
  },
  {
   "cell_type": "code",
   "execution_count": 84,
   "id": "cfb7f803",
   "metadata": {},
   "outputs": [
    {
     "data": {
      "text/plain": [
       "'Morning to python files\\njavscript\\nNLP\\npandas'"
      ]
     },
     "execution_count": 84,
     "metadata": {},
     "output_type": "execute_result"
    }
   ],
   "source": [
    "fobj.read()"
   ]
  },
  {
   "cell_type": "code",
   "execution_count": 85,
   "id": "e0432e1a",
   "metadata": {},
   "outputs": [],
   "source": [
    "fobj.close()"
   ]
  },
  {
   "cell_type": "code",
   "execution_count": null,
   "id": "87178ce7",
   "metadata": {},
   "outputs": [],
   "source": [
    "#Handling binary data"
   ]
  },
  {
   "cell_type": "code",
   "execution_count": 86,
   "id": "f5d44959",
   "metadata": {},
   "outputs": [],
   "source": [
    "fobj1 = open(\"D:/pfiles/sample.pdf\",\"rb\")\n",
    "fobj2 = open(\"D:/pfiles/sample2.pdf\",\"wb\")"
   ]
  },
  {
   "cell_type": "code",
   "execution_count": 87,
   "id": "81d9c865",
   "metadata": {},
   "outputs": [],
   "source": [
    "pdfdata = fobj1.read()"
   ]
  },
  {
   "cell_type": "code",
   "execution_count": 88,
   "id": "183ff3c6",
   "metadata": {},
   "outputs": [
    {
     "data": {
      "text/plain": [
       "<class 'bytes'>"
      ]
     },
     "execution_count": 88,
     "metadata": {},
     "output_type": "execute_result"
    }
   ],
   "source": [
    "type(pdfdata)"
   ]
  },
  {
   "cell_type": "code",
   "execution_count": 89,
   "id": "f70a9c21",
   "metadata": {},
   "outputs": [
    {
     "data": {
      "text/plain": [
       "69399"
      ]
     },
     "execution_count": 89,
     "metadata": {},
     "output_type": "execute_result"
    }
   ],
   "source": [
    "fobj2.write(pdfdata)"
   ]
  },
  {
   "cell_type": "code",
   "execution_count": 90,
   "id": "c2a92773",
   "metadata": {},
   "outputs": [],
   "source": [
    "fobj2.close()"
   ]
  },
  {
   "cell_type": "code",
   "execution_count": 91,
   "id": "0f972d22",
   "metadata": {},
   "outputs": [],
   "source": [
    "fobj1.close()"
   ]
  },
  {
   "cell_type": "code",
   "execution_count": null,
   "id": "d2e12057",
   "metadata": {},
   "outputs": [],
   "source": [
    "#Example2"
   ]
  },
  {
   "cell_type": "code",
   "execution_count": 92,
   "id": "657cdb7a",
   "metadata": {},
   "outputs": [],
   "source": [
    "fobj1 = open(\"D:/pfiles/tommy.jpg\",\"rb\")\n",
    "fobj2 = open(\"D:/pfiles/tommy2.jpg\",\"wb\")\n",
    "fobj3 = open(\"D:/pfiles/tommy3.jpg\",\"wb\")"
   ]
  },
  {
   "cell_type": "code",
   "execution_count": 93,
   "id": "23252297",
   "metadata": {},
   "outputs": [],
   "source": [
    "imagedata = fobj1.read()"
   ]
  },
  {
   "cell_type": "code",
   "execution_count": 94,
   "id": "2b0a1793",
   "metadata": {},
   "outputs": [
    {
     "data": {
      "text/plain": [
       "72972"
      ]
     },
     "execution_count": 94,
     "metadata": {},
     "output_type": "execute_result"
    }
   ],
   "source": [
    "fobj2.write(imagedata)"
   ]
  },
  {
   "cell_type": "code",
   "execution_count": 95,
   "id": "2971d2a1",
   "metadata": {},
   "outputs": [],
   "source": [
    "fobj2.close()"
   ]
  },
  {
   "cell_type": "code",
   "execution_count": 96,
   "id": "c17b61f1",
   "metadata": {},
   "outputs": [
    {
     "data": {
      "text/plain": [
       "0"
      ]
     },
     "execution_count": 96,
     "metadata": {},
     "output_type": "execute_result"
    }
   ],
   "source": [
    "fobj1.seek(0)"
   ]
  },
  {
   "cell_type": "code",
   "execution_count": 97,
   "id": "baafd84e",
   "metadata": {},
   "outputs": [],
   "source": [
    "imagedata2 = fobj1.read(45000)"
   ]
  },
  {
   "cell_type": "code",
   "execution_count": 98,
   "id": "09d43cba",
   "metadata": {},
   "outputs": [
    {
     "data": {
      "text/plain": [
       "45000"
      ]
     },
     "execution_count": 98,
     "metadata": {},
     "output_type": "execute_result"
    }
   ],
   "source": [
    "fobj3.write(imagedata2)"
   ]
  },
  {
   "cell_type": "code",
   "execution_count": 99,
   "id": "d0a2287f",
   "metadata": {},
   "outputs": [],
   "source": [
    "fobj3.close()"
   ]
  },
  {
   "cell_type": "code",
   "execution_count": 100,
   "id": "be593ec7",
   "metadata": {},
   "outputs": [],
   "source": [
    "fobj1.close()"
   ]
  },
  {
   "cell_type": "code",
   "execution_count": null,
   "id": "f17463b9",
   "metadata": {},
   "outputs": [],
   "source": [
    "#flush"
   ]
  },
  {
   "cell_type": "code",
   "execution_count": 101,
   "id": "1889cedf",
   "metadata": {},
   "outputs": [],
   "source": [
    "fname = \"D:/pfiles/file66.txt\""
   ]
  },
  {
   "cell_type": "code",
   "execution_count": 102,
   "id": "37f70a54",
   "metadata": {},
   "outputs": [],
   "source": [
    "fobj = open(fname,\"w\")"
   ]
  },
  {
   "cell_type": "code",
   "execution_count": 103,
   "id": "62b06cf4",
   "metadata": {},
   "outputs": [
    {
     "data": {
      "text/plain": [
       "7"
      ]
     },
     "execution_count": 103,
     "metadata": {},
     "output_type": "execute_result"
    }
   ],
   "source": [
    "fobj.write(\"python\\n\")"
   ]
  },
  {
   "cell_type": "code",
   "execution_count": 104,
   "id": "59df7512",
   "metadata": {},
   "outputs": [],
   "source": [
    "fobj.flush()"
   ]
  },
  {
   "cell_type": "code",
   "execution_count": 105,
   "id": "c9174566",
   "metadata": {},
   "outputs": [
    {
     "data": {
      "text/plain": [
       "7"
      ]
     },
     "execution_count": 105,
     "metadata": {},
     "output_type": "execute_result"
    }
   ],
   "source": [
    "fobj.write(\"django\\n\")"
   ]
  },
  {
   "cell_type": "code",
   "execution_count": 106,
   "id": "027061f3",
   "metadata": {},
   "outputs": [],
   "source": [
    "fobj.flush()"
   ]
  },
  {
   "cell_type": "code",
   "execution_count": 107,
   "id": "c8a2af01",
   "metadata": {},
   "outputs": [
    {
     "data": {
      "text/plain": [
       "7"
      ]
     },
     "execution_count": 107,
     "metadata": {},
     "output_type": "execute_result"
    }
   ],
   "source": [
    "fobj.write(\"nodejs\\n\")"
   ]
  },
  {
   "cell_type": "code",
   "execution_count": 108,
   "id": "4560036a",
   "metadata": {},
   "outputs": [],
   "source": [
    "fobj.close()"
   ]
  },
  {
   "cell_type": "code",
   "execution_count": null,
   "id": "c0c471c9",
   "metadata": {},
   "outputs": [],
   "source": []
  }
 ],
 "metadata": {
  "kernelspec": {
   "display_name": "Python 3 (ipykernel)",
   "language": "python",
   "name": "python3"
  },
  "language_info": {
   "codemirror_mode": {
    "name": "ipython",
    "version": 3
   },
   "file_extension": ".py",
   "mimetype": "text/x-python",
   "name": "python",
   "nbconvert_exporter": "python",
   "pygments_lexer": "ipython3",
   "version": "3.9.7"
  }
 },
 "nbformat": 4,
 "nbformat_minor": 5
}
