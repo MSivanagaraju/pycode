{
 "cells": [
  {
   "cell_type": "code",
   "execution_count": null,
   "id": "eaf2ef0b",
   "metadata": {},
   "outputs": [],
   "source": [
    "#clouser and decorator"
   ]
  },
  {
   "cell_type": "code",
   "execution_count": 1,
   "id": "2dc7e8e1",
   "metadata": {},
   "outputs": [],
   "source": [
    "L1 = [1,2,3,4,5]"
   ]
  },
  {
   "cell_type": "code",
   "execution_count": 2,
   "id": "e7796388",
   "metadata": {},
   "outputs": [],
   "source": [
    "def f1():\n",
    "    return L1"
   ]
  },
  {
   "cell_type": "code",
   "execution_count": 3,
   "id": "a7527bf1",
   "metadata": {},
   "outputs": [
    {
     "data": {
      "text/plain": [
       "[1, 2, 3, 4, 5]"
      ]
     },
     "execution_count": 3,
     "metadata": {},
     "output_type": "execute_result"
    }
   ],
   "source": [
    "f1()"
   ]
  },
  {
   "cell_type": "code",
   "execution_count": 4,
   "id": "fe0aaa7e",
   "metadata": {},
   "outputs": [
    {
     "data": {
      "text/plain": [
       "2443105464672"
      ]
     },
     "execution_count": 4,
     "metadata": {},
     "output_type": "execute_result"
    }
   ],
   "source": [
    "id(f1)"
   ]
  },
  {
   "cell_type": "code",
   "execution_count": 5,
   "id": "6ff26f3f",
   "metadata": {},
   "outputs": [],
   "source": [
    "def f2():\n",
    "    return \"welcome\""
   ]
  },
  {
   "cell_type": "code",
   "execution_count": 6,
   "id": "1e057997",
   "metadata": {},
   "outputs": [
    {
     "data": {
      "text/plain": [
       "'welcome'"
      ]
     },
     "execution_count": 6,
     "metadata": {},
     "output_type": "execute_result"
    }
   ],
   "source": [
    "f2()"
   ]
  },
  {
   "cell_type": "code",
   "execution_count": 7,
   "id": "d70af359",
   "metadata": {},
   "outputs": [
    {
     "name": "stdout",
     "output_type": "stream",
     "text": [
      "[1, 2, 3, 4, 5]\n"
     ]
    }
   ],
   "source": [
    "v1 = f1()\n",
    "print(v1)"
   ]
  },
  {
   "cell_type": "code",
   "execution_count": 8,
   "id": "119b4d79",
   "metadata": {},
   "outputs": [
    {
     "data": {
      "text/plain": [
       "list"
      ]
     },
     "execution_count": 8,
     "metadata": {},
     "output_type": "execute_result"
    }
   ],
   "source": [
    "type(v1)"
   ]
  },
  {
   "cell_type": "code",
   "execution_count": 9,
   "id": "78cf54a0",
   "metadata": {},
   "outputs": [],
   "source": [
    "f3 = f2"
   ]
  },
  {
   "cell_type": "code",
   "execution_count": 10,
   "id": "6b3fa579",
   "metadata": {},
   "outputs": [
    {
     "data": {
      "text/plain": [
       "function"
      ]
     },
     "execution_count": 10,
     "metadata": {},
     "output_type": "execute_result"
    }
   ],
   "source": [
    "type(f2)"
   ]
  },
  {
   "cell_type": "code",
   "execution_count": 11,
   "id": "15f51e11",
   "metadata": {},
   "outputs": [
    {
     "data": {
      "text/plain": [
       "function"
      ]
     },
     "execution_count": 11,
     "metadata": {},
     "output_type": "execute_result"
    }
   ],
   "source": [
    "type(f3)"
   ]
  },
  {
   "cell_type": "code",
   "execution_count": 12,
   "id": "67174a98",
   "metadata": {},
   "outputs": [
    {
     "data": {
      "text/plain": [
       "'welcome'"
      ]
     },
     "execution_count": 12,
     "metadata": {},
     "output_type": "execute_result"
    }
   ],
   "source": [
    "f2()"
   ]
  },
  {
   "cell_type": "code",
   "execution_count": 13,
   "id": "ac4eb3b2",
   "metadata": {},
   "outputs": [
    {
     "data": {
      "text/plain": [
       "'welcome'"
      ]
     },
     "execution_count": 13,
     "metadata": {},
     "output_type": "execute_result"
    }
   ],
   "source": [
    "f3()"
   ]
  },
  {
   "cell_type": "code",
   "execution_count": 14,
   "id": "a1a9b4ea",
   "metadata": {},
   "outputs": [
    {
     "data": {
      "text/plain": [
       "2443105464816"
      ]
     },
     "execution_count": 14,
     "metadata": {},
     "output_type": "execute_result"
    }
   ],
   "source": [
    "id(f2)"
   ]
  },
  {
   "cell_type": "code",
   "execution_count": 15,
   "id": "12489003",
   "metadata": {},
   "outputs": [
    {
     "data": {
      "text/plain": [
       "2443105464816"
      ]
     },
     "execution_count": 15,
     "metadata": {},
     "output_type": "execute_result"
    }
   ],
   "source": [
    "id(f3)"
   ]
  },
  {
   "cell_type": "code",
   "execution_count": 16,
   "id": "5d66951c",
   "metadata": {},
   "outputs": [
    {
     "ename": "TypeError",
     "evalue": "f2() takes 0 positional arguments but 1 was given",
     "output_type": "error",
     "traceback": [
      "\u001b[1;31m---------------------------------------------------------------------------\u001b[0m",
      "\u001b[1;31mTypeError\u001b[0m                                 Traceback (most recent call last)",
      "\u001b[1;32m~\\AppData\\Local\\Temp/ipykernel_24132/4067224610.py\u001b[0m in \u001b[0;36m<module>\u001b[1;34m\u001b[0m\n\u001b[1;32m----> 1\u001b[1;33m \u001b[0mf2\u001b[0m\u001b[1;33m(\u001b[0m\u001b[1;36m100\u001b[0m\u001b[1;33m)\u001b[0m\u001b[1;33m\u001b[0m\u001b[1;33m\u001b[0m\u001b[0m\n\u001b[0m",
      "\u001b[1;31mTypeError\u001b[0m: f2() takes 0 positional arguments but 1 was given"
     ]
    }
   ],
   "source": [
    "f2(100)"
   ]
  },
  {
   "cell_type": "code",
   "execution_count": 17,
   "id": "c21a3ef3",
   "metadata": {},
   "outputs": [
    {
     "ename": "TypeError",
     "evalue": "f2() takes 0 positional arguments but 1 was given",
     "output_type": "error",
     "traceback": [
      "\u001b[1;31m---------------------------------------------------------------------------\u001b[0m",
      "\u001b[1;31mTypeError\u001b[0m                                 Traceback (most recent call last)",
      "\u001b[1;32m~\\AppData\\Local\\Temp/ipykernel_24132/2854721732.py\u001b[0m in \u001b[0;36m<module>\u001b[1;34m\u001b[0m\n\u001b[1;32m----> 1\u001b[1;33m \u001b[0mf3\u001b[0m\u001b[1;33m(\u001b[0m\u001b[1;36m100\u001b[0m\u001b[1;33m)\u001b[0m\u001b[1;33m\u001b[0m\u001b[1;33m\u001b[0m\u001b[0m\n\u001b[0m",
      "\u001b[1;31mTypeError\u001b[0m: f2() takes 0 positional arguments but 1 was given"
     ]
    }
   ],
   "source": [
    "f3(100)"
   ]
  },
  {
   "cell_type": "code",
   "execution_count": 18,
   "id": "75553426",
   "metadata": {},
   "outputs": [],
   "source": [
    "def f4():\n",
    "    def f5():\n",
    "        return \"welcome\""
   ]
  },
  {
   "cell_type": "code",
   "execution_count": 19,
   "id": "17fbd3c2",
   "metadata": {},
   "outputs": [
    {
     "ename": "NameError",
     "evalue": "name 'f5' is not defined",
     "output_type": "error",
     "traceback": [
      "\u001b[1;31m---------------------------------------------------------------------------\u001b[0m",
      "\u001b[1;31mNameError\u001b[0m                                 Traceback (most recent call last)",
      "\u001b[1;32m~\\AppData\\Local\\Temp/ipykernel_24132/257402558.py\u001b[0m in \u001b[0;36m<module>\u001b[1;34m\u001b[0m\n\u001b[1;32m----> 1\u001b[1;33m \u001b[0mf5\u001b[0m\u001b[1;33m(\u001b[0m\u001b[1;33m)\u001b[0m\u001b[1;33m\u001b[0m\u001b[1;33m\u001b[0m\u001b[0m\n\u001b[0m",
      "\u001b[1;31mNameError\u001b[0m: name 'f5' is not defined"
     ]
    }
   ],
   "source": [
    "f5()"
   ]
  },
  {
   "cell_type": "code",
   "execution_count": 20,
   "id": "3e032e3b",
   "metadata": {},
   "outputs": [],
   "source": [
    "f4()"
   ]
  },
  {
   "cell_type": "code",
   "execution_count": 21,
   "id": "efa1aa9a",
   "metadata": {},
   "outputs": [
    {
     "name": "stdout",
     "output_type": "stream",
     "text": [
      "None\n"
     ]
    }
   ],
   "source": [
    "print(f4())"
   ]
  },
  {
   "cell_type": "code",
   "execution_count": 22,
   "id": "c3313459",
   "metadata": {},
   "outputs": [],
   "source": [
    "def f4():\n",
    "    def f5():\n",
    "        return \"welcome\"\n",
    "    f5()"
   ]
  },
  {
   "cell_type": "code",
   "execution_count": 23,
   "id": "b7ebcf72",
   "metadata": {},
   "outputs": [
    {
     "name": "stdout",
     "output_type": "stream",
     "text": [
      "None\n"
     ]
    }
   ],
   "source": [
    "print(f4())"
   ]
  },
  {
   "cell_type": "code",
   "execution_count": 24,
   "id": "201bb01b",
   "metadata": {},
   "outputs": [],
   "source": [
    "def f4():\n",
    "    def f5():\n",
    "        return \"welcome\"\n",
    "    print(f5())"
   ]
  },
  {
   "cell_type": "code",
   "execution_count": 25,
   "id": "0e2bf207",
   "metadata": {},
   "outputs": [
    {
     "name": "stdout",
     "output_type": "stream",
     "text": [
      "welcome\n"
     ]
    }
   ],
   "source": [
    "f4()"
   ]
  },
  {
   "cell_type": "code",
   "execution_count": 26,
   "id": "65271c80",
   "metadata": {},
   "outputs": [
    {
     "name": "stdout",
     "output_type": "stream",
     "text": [
      "welcome\n",
      "None\n"
     ]
    }
   ],
   "source": [
    "print(f4())"
   ]
  },
  {
   "cell_type": "code",
   "execution_count": 32,
   "id": "fe44aaf2",
   "metadata": {},
   "outputs": [],
   "source": [
    "def f4():\n",
    "    def f5():\n",
    "        return \"Good Morning\"\n",
    "    return f5()"
   ]
  },
  {
   "cell_type": "code",
   "execution_count": 33,
   "id": "ec8bd87f",
   "metadata": {},
   "outputs": [
    {
     "data": {
      "text/plain": [
       "'Good Morning'"
      ]
     },
     "execution_count": 33,
     "metadata": {},
     "output_type": "execute_result"
    }
   ],
   "source": [
    "f4()"
   ]
  },
  {
   "cell_type": "code",
   "execution_count": 34,
   "id": "e0ab9843",
   "metadata": {},
   "outputs": [],
   "source": [
    "v1 = f4()"
   ]
  },
  {
   "cell_type": "code",
   "execution_count": 35,
   "id": "06dc569e",
   "metadata": {},
   "outputs": [
    {
     "name": "stdout",
     "output_type": "stream",
     "text": [
      "Good Morning\n"
     ]
    }
   ],
   "source": [
    "print(v1)"
   ]
  },
  {
   "cell_type": "code",
   "execution_count": 36,
   "id": "3982dc8b",
   "metadata": {},
   "outputs": [],
   "source": [
    "def f4():\n",
    "    def f5():\n",
    "        return \"Good Morning\"\n",
    "    return f5"
   ]
  },
  {
   "cell_type": "code",
   "execution_count": 37,
   "id": "d08b9f3a",
   "metadata": {},
   "outputs": [
    {
     "data": {
      "text/plain": [
       "<function __main__.f4.<locals>.f5()>"
      ]
     },
     "execution_count": 37,
     "metadata": {},
     "output_type": "execute_result"
    }
   ],
   "source": [
    "f4()"
   ]
  },
  {
   "cell_type": "code",
   "execution_count": 38,
   "id": "7a5c1a66",
   "metadata": {},
   "outputs": [
    {
     "ename": "NameError",
     "evalue": "name 'f5' is not defined",
     "output_type": "error",
     "traceback": [
      "\u001b[1;31m---------------------------------------------------------------------------\u001b[0m",
      "\u001b[1;31mNameError\u001b[0m                                 Traceback (most recent call last)",
      "\u001b[1;32m~\\AppData\\Local\\Temp/ipykernel_24132/257402558.py\u001b[0m in \u001b[0;36m<module>\u001b[1;34m\u001b[0m\n\u001b[1;32m----> 1\u001b[1;33m \u001b[0mf5\u001b[0m\u001b[1;33m(\u001b[0m\u001b[1;33m)\u001b[0m\u001b[1;33m\u001b[0m\u001b[1;33m\u001b[0m\u001b[0m\n\u001b[0m",
      "\u001b[1;31mNameError\u001b[0m: name 'f5' is not defined"
     ]
    }
   ],
   "source": [
    "f5()"
   ]
  },
  {
   "cell_type": "code",
   "execution_count": 39,
   "id": "d6321075",
   "metadata": {},
   "outputs": [],
   "source": [
    "#f6=f5\n",
    "f6 = f4()"
   ]
  },
  {
   "cell_type": "code",
   "execution_count": 40,
   "id": "09a37853",
   "metadata": {},
   "outputs": [
    {
     "data": {
      "text/plain": [
       "function"
      ]
     },
     "execution_count": 40,
     "metadata": {},
     "output_type": "execute_result"
    }
   ],
   "source": [
    "type(f6)"
   ]
  },
  {
   "cell_type": "code",
   "execution_count": 41,
   "id": "61e3b006",
   "metadata": {},
   "outputs": [
    {
     "data": {
      "text/plain": [
       "'Good Morning'"
      ]
     },
     "execution_count": 41,
     "metadata": {},
     "output_type": "execute_result"
    }
   ],
   "source": [
    "f6()"
   ]
  },
  {
   "cell_type": "code",
   "execution_count": 42,
   "id": "c3afbc57",
   "metadata": {},
   "outputs": [
    {
     "ename": "TypeError",
     "evalue": "f5() takes 0 positional arguments but 1 was given",
     "output_type": "error",
     "traceback": [
      "\u001b[1;31m---------------------------------------------------------------------------\u001b[0m",
      "\u001b[1;31mTypeError\u001b[0m                                 Traceback (most recent call last)",
      "\u001b[1;32m~\\AppData\\Local\\Temp/ipykernel_24132/2477961375.py\u001b[0m in \u001b[0;36m<module>\u001b[1;34m\u001b[0m\n\u001b[1;32m----> 1\u001b[1;33m \u001b[0mf6\u001b[0m\u001b[1;33m(\u001b[0m\u001b[1;36m100\u001b[0m\u001b[1;33m)\u001b[0m\u001b[1;33m\u001b[0m\u001b[1;33m\u001b[0m\u001b[0m\n\u001b[0m",
      "\u001b[1;31mTypeError\u001b[0m: f5() takes 0 positional arguments but 1 was given"
     ]
    }
   ],
   "source": [
    "f6(100)"
   ]
  },
  {
   "cell_type": "code",
   "execution_count": 43,
   "id": "04c69175",
   "metadata": {},
   "outputs": [],
   "source": [
    "def discount(d):\n",
    "    def sales(p):\n",
    "        return p-(p/100*d)\n",
    "    return sales"
   ]
  },
  {
   "cell_type": "code",
   "execution_count": 44,
   "id": "58b01ae3",
   "metadata": {},
   "outputs": [],
   "source": [
    "daily_sales = discount(10)"
   ]
  },
  {
   "cell_type": "code",
   "execution_count": 45,
   "id": "7a32a447",
   "metadata": {},
   "outputs": [
    {
     "data": {
      "text/plain": [
       "function"
      ]
     },
     "execution_count": 45,
     "metadata": {},
     "output_type": "execute_result"
    }
   ],
   "source": [
    "type(daily_sales)"
   ]
  },
  {
   "cell_type": "code",
   "execution_count": 46,
   "id": "c22d7d27",
   "metadata": {},
   "outputs": [
    {
     "data": {
      "text/plain": [
       "900.0"
      ]
     },
     "execution_count": 46,
     "metadata": {},
     "output_type": "execute_result"
    }
   ],
   "source": [
    "daily_sales(1000)"
   ]
  },
  {
   "cell_type": "code",
   "execution_count": 47,
   "id": "97104561",
   "metadata": {},
   "outputs": [],
   "source": [
    "weekly_sales = discount(20)"
   ]
  },
  {
   "cell_type": "code",
   "execution_count": 48,
   "id": "8ecd07c0",
   "metadata": {},
   "outputs": [
    {
     "data": {
      "text/plain": [
       "800.0"
      ]
     },
     "execution_count": 48,
     "metadata": {},
     "output_type": "execute_result"
    }
   ],
   "source": [
    "weekly_sales(1000)"
   ]
  },
  {
   "cell_type": "code",
   "execution_count": 50,
   "id": "043c9018",
   "metadata": {},
   "outputs": [
    {
     "name": "stdout",
     "output_type": "stream",
     "text": [
      "Enter Daymon\n",
      "900.0\n"
     ]
    }
   ],
   "source": [
    "day = input(\"Enter Day\")\n",
    "if day in ['sat','sun']:\n",
    "    print(weekly_sales(1000))\n",
    "else:\n",
    "    print(daily_sales(1000))"
   ]
  },
  {
   "cell_type": "code",
   "execution_count": 51,
   "id": "4ebd4217",
   "metadata": {},
   "outputs": [],
   "source": [
    "import datetime"
   ]
  },
  {
   "cell_type": "code",
   "execution_count": 52,
   "id": "e6959108",
   "metadata": {},
   "outputs": [
    {
     "data": {
      "text/plain": [
       "datetime.date(2022, 10, 17)"
      ]
     },
     "execution_count": 52,
     "metadata": {},
     "output_type": "execute_result"
    }
   ],
   "source": [
    "datetime.date.today()"
   ]
  },
  {
   "cell_type": "code",
   "execution_count": 53,
   "id": "f31c0f7d",
   "metadata": {},
   "outputs": [],
   "source": [
    "d=datetime.date.today()"
   ]
  },
  {
   "cell_type": "code",
   "execution_count": 54,
   "id": "162850f5",
   "metadata": {},
   "outputs": [
    {
     "data": {
      "text/plain": [
       "0"
      ]
     },
     "execution_count": 54,
     "metadata": {},
     "output_type": "execute_result"
    }
   ],
   "source": [
    "d.weekday()"
   ]
  },
  {
   "cell_type": "code",
   "execution_count": 55,
   "id": "5001322d",
   "metadata": {},
   "outputs": [
    {
     "data": {
      "text/plain": [
       "1"
      ]
     },
     "execution_count": 55,
     "metadata": {},
     "output_type": "execute_result"
    }
   ],
   "source": [
    "d.isoweekday()"
   ]
  },
  {
   "cell_type": "code",
   "execution_count": 56,
   "id": "abafd8eb",
   "metadata": {},
   "outputs": [],
   "source": [
    "d=datetime.datetime.now()"
   ]
  },
  {
   "cell_type": "code",
   "execution_count": 57,
   "id": "25dc8cb2",
   "metadata": {},
   "outputs": [
    {
     "data": {
      "text/plain": [
       "17"
      ]
     },
     "execution_count": 57,
     "metadata": {},
     "output_type": "execute_result"
    }
   ],
   "source": [
    "d.day"
   ]
  },
  {
   "cell_type": "code",
   "execution_count": 58,
   "id": "e64dda58",
   "metadata": {},
   "outputs": [
    {
     "data": {
      "text/plain": [
       "1"
      ]
     },
     "execution_count": 58,
     "metadata": {},
     "output_type": "execute_result"
    }
   ],
   "source": [
    "d.isoweekday()"
   ]
  },
  {
   "cell_type": "code",
   "execution_count": 59,
   "id": "d3a23e9a",
   "metadata": {},
   "outputs": [
    {
     "name": "stdout",
     "output_type": "stream",
     "text": [
      "Enter Total Price = 2000\n",
      "1800.0\n"
     ]
    }
   ],
   "source": [
    "import datetime\n",
    "d=datetime.date.today()\n",
    "price = int(input(\"Enter Total Price = \"))\n",
    "if d.isoweekday() in [1,2,3,4,5]:\n",
    "    print(daily_sales(price))\n",
    "else:\n",
    "    print(weekly_sales(price))"
   ]
  },
  {
   "cell_type": "code",
   "execution_count": null,
   "id": "a0378304",
   "metadata": {},
   "outputs": [],
   "source": [
    "#decorator"
   ]
  },
  {
   "cell_type": "code",
   "execution_count": 60,
   "id": "798ddb12",
   "metadata": {},
   "outputs": [],
   "source": [
    "def login():\n",
    "    print(\"login completed successfully\")"
   ]
  },
  {
   "cell_type": "code",
   "execution_count": 62,
   "id": "21e01276",
   "metadata": {},
   "outputs": [
    {
     "name": "stdout",
     "output_type": "stream",
     "text": [
      "login completed successfully\n"
     ]
    }
   ],
   "source": [
    "login()"
   ]
  },
  {
   "cell_type": "code",
   "execution_count": 61,
   "id": "cddba713",
   "metadata": {},
   "outputs": [],
   "source": [
    "def logout():\n",
    "    print(\"Logout Done\")"
   ]
  },
  {
   "cell_type": "code",
   "execution_count": 63,
   "id": "11d8b07e",
   "metadata": {},
   "outputs": [
    {
     "name": "stdout",
     "output_type": "stream",
     "text": [
      "Logout Done\n"
     ]
    }
   ],
   "source": [
    "logout()"
   ]
  },
  {
   "cell_type": "code",
   "execution_count": 65,
   "id": "625cd5b6",
   "metadata": {},
   "outputs": [],
   "source": [
    "def f1(fun):\n",
    "    print(\"***********************\")\n",
    "    fun()\n",
    "    print(\"#######################\")"
   ]
  },
  {
   "cell_type": "code",
   "execution_count": 66,
   "id": "69a921d4",
   "metadata": {},
   "outputs": [
    {
     "name": "stdout",
     "output_type": "stream",
     "text": [
      "***********************\n",
      "login completed successfully\n",
      "#######################\n"
     ]
    }
   ],
   "source": [
    "f1(login)"
   ]
  },
  {
   "cell_type": "code",
   "execution_count": 67,
   "id": "4493cdd0",
   "metadata": {},
   "outputs": [
    {
     "name": "stdout",
     "output_type": "stream",
     "text": [
      "***********************\n",
      "Logout Done\n",
      "#######################\n"
     ]
    }
   ],
   "source": [
    "f1(logout)"
   ]
  },
  {
   "cell_type": "code",
   "execution_count": 68,
   "id": "e13d4452",
   "metadata": {},
   "outputs": [],
   "source": [
    "def f2(fun):\n",
    "    def f3():\n",
    "        print(\"****************************\")\n",
    "        fun()\n",
    "        print(\"############################\")\n",
    "    return f3"
   ]
  },
  {
   "cell_type": "code",
   "execution_count": 69,
   "id": "c584fc63",
   "metadata": {},
   "outputs": [],
   "source": [
    "obj1 = f2(login)"
   ]
  },
  {
   "cell_type": "code",
   "execution_count": 70,
   "id": "2559381e",
   "metadata": {},
   "outputs": [
    {
     "name": "stdout",
     "output_type": "stream",
     "text": [
      "****************************\n",
      "login completed successfully\n",
      "############################\n"
     ]
    }
   ],
   "source": [
    "obj1()"
   ]
  },
  {
   "cell_type": "code",
   "execution_count": 71,
   "id": "17686e89",
   "metadata": {},
   "outputs": [],
   "source": [
    "obj2 = f2(logout)"
   ]
  },
  {
   "cell_type": "code",
   "execution_count": 72,
   "id": "67bdc587",
   "metadata": {},
   "outputs": [
    {
     "name": "stdout",
     "output_type": "stream",
     "text": [
      "****************************\n",
      "Logout Done\n",
      "############################\n"
     ]
    }
   ],
   "source": [
    "obj2()"
   ]
  },
  {
   "cell_type": "code",
   "execution_count": 73,
   "id": "b9619898",
   "metadata": {},
   "outputs": [],
   "source": [
    "def f2(fun):\n",
    "    def f3():\n",
    "        print(\"****************************\")\n",
    "        fun()\n",
    "        print(\"############################\")\n",
    "    return f3"
   ]
  },
  {
   "cell_type": "code",
   "execution_count": 74,
   "id": "7cc95267",
   "metadata": {},
   "outputs": [],
   "source": [
    "def login():\n",
    "    print(\"login completed successfully\")"
   ]
  },
  {
   "cell_type": "code",
   "execution_count": 75,
   "id": "57e51b0b",
   "metadata": {},
   "outputs": [
    {
     "name": "stdout",
     "output_type": "stream",
     "text": [
      "login completed successfully\n"
     ]
    }
   ],
   "source": [
    "login()"
   ]
  },
  {
   "cell_type": "code",
   "execution_count": 76,
   "id": "a824b74b",
   "metadata": {},
   "outputs": [],
   "source": [
    "@f2\n",
    "def login2():\n",
    "    print(\"login completed successfully\")"
   ]
  },
  {
   "cell_type": "code",
   "execution_count": 77,
   "id": "47724d02",
   "metadata": {},
   "outputs": [
    {
     "name": "stdout",
     "output_type": "stream",
     "text": [
      "****************************\n",
      "login completed successfully\n",
      "############################\n"
     ]
    }
   ],
   "source": [
    "login2()"
   ]
  },
  {
   "cell_type": "raw",
   "id": "329dfeb8",
   "metadata": {},
   "source": [
    "login2 = f2(login2)"
   ]
  },
  {
   "cell_type": "code",
   "execution_count": 78,
   "id": "98a81e91",
   "metadata": {},
   "outputs": [
    {
     "ename": "TypeError",
     "evalue": "f3() takes 0 positional arguments but 1 was given",
     "output_type": "error",
     "traceback": [
      "\u001b[1;31m---------------------------------------------------------------------------\u001b[0m",
      "\u001b[1;31mTypeError\u001b[0m                                 Traceback (most recent call last)",
      "\u001b[1;32m~\\AppData\\Local\\Temp/ipykernel_24132/4204764557.py\u001b[0m in \u001b[0;36m<module>\u001b[1;34m\u001b[0m\n\u001b[1;32m----> 1\u001b[1;33m \u001b[0mlogin2\u001b[0m\u001b[1;33m(\u001b[0m\u001b[1;36m123\u001b[0m\u001b[1;33m)\u001b[0m\u001b[1;33m\u001b[0m\u001b[1;33m\u001b[0m\u001b[0m\n\u001b[0m",
      "\u001b[1;31mTypeError\u001b[0m: f3() takes 0 positional arguments but 1 was given"
     ]
    }
   ],
   "source": [
    "login2(123)"
   ]
  },
  {
   "cell_type": "code",
   "execution_count": 79,
   "id": "192ae2b5",
   "metadata": {},
   "outputs": [],
   "source": [
    "#logout2 = f2(logout2)\n",
    "@f2\n",
    "def logout2():\n",
    "    print(\"Logout Done\")"
   ]
  },
  {
   "cell_type": "code",
   "execution_count": 80,
   "id": "7fc5a10d",
   "metadata": {},
   "outputs": [
    {
     "name": "stdout",
     "output_type": "stream",
     "text": [
      "****************************\n",
      "Logout Done\n",
      "############################\n"
     ]
    }
   ],
   "source": [
    "logout2()"
   ]
  },
  {
   "cell_type": "code",
   "execution_count": 81,
   "id": "6fbae4c1",
   "metadata": {},
   "outputs": [
    {
     "data": {
      "text/plain": [
       "function"
      ]
     },
     "execution_count": 81,
     "metadata": {},
     "output_type": "execute_result"
    }
   ],
   "source": [
    "type(logout2)"
   ]
  },
  {
   "cell_type": "code",
   "execution_count": 82,
   "id": "591a3907",
   "metadata": {},
   "outputs": [
    {
     "ename": "TypeError",
     "evalue": "f3() takes 0 positional arguments but 1 was given",
     "output_type": "error",
     "traceback": [
      "\u001b[1;31m---------------------------------------------------------------------------\u001b[0m",
      "\u001b[1;31mTypeError\u001b[0m                                 Traceback (most recent call last)",
      "\u001b[1;32m~\\AppData\\Local\\Temp/ipykernel_24132/3751927444.py\u001b[0m in \u001b[0;36m<module>\u001b[1;34m\u001b[0m\n\u001b[1;32m----> 1\u001b[1;33m \u001b[0mlogout2\u001b[0m\u001b[1;33m(\u001b[0m\u001b[1;34m\"jdlkfsj\"\u001b[0m\u001b[1;33m)\u001b[0m\u001b[1;33m\u001b[0m\u001b[1;33m\u001b[0m\u001b[0m\n\u001b[0m",
      "\u001b[1;31mTypeError\u001b[0m: f3() takes 0 positional arguments but 1 was given"
     ]
    }
   ],
   "source": [
    "logout2(\"jdlkfsj\")"
   ]
  },
  {
   "cell_type": "code",
   "execution_count": null,
   "id": "2b2331d7",
   "metadata": {},
   "outputs": [],
   "source": []
  }
 ],
 "metadata": {
  "kernelspec": {
   "display_name": "Python 3 (ipykernel)",
   "language": "python",
   "name": "python3"
  },
  "language_info": {
   "codemirror_mode": {
    "name": "ipython",
    "version": 3
   },
   "file_extension": ".py",
   "mimetype": "text/x-python",
   "name": "python",
   "nbconvert_exporter": "python",
   "pygments_lexer": "ipython3",
   "version": "3.9.7"
  }
 },
 "nbformat": 4,
 "nbformat_minor": 5
}
