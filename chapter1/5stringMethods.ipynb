{
 "cells": [
  {
   "cell_type": "code",
   "execution_count": null,
   "id": "0775e256",
   "metadata": {},
   "outputs": [],
   "source": [
    "#String Methods\n",
    "#capitalize"
   ]
  },
  {
   "cell_type": "code",
   "execution_count": 1,
   "id": "8e462093",
   "metadata": {},
   "outputs": [
    {
     "name": "stdout",
     "output_type": "stream",
     "text": [
      "Help on method_descriptor:\n",
      "\n",
      "capitalize(self, /)\n",
      "    Return a capitalized version of the string.\n",
      "    \n",
      "    More specifically, make the first character have upper case and the rest lower\n",
      "    case.\n",
      "\n"
     ]
    }
   ],
   "source": [
    "help(str.capitalize)"
   ]
  },
  {
   "cell_type": "code",
   "execution_count": 2,
   "id": "1139dd37",
   "metadata": {},
   "outputs": [
    {
     "data": {
      "text/plain": [
       "'Welcome'"
      ]
     },
     "execution_count": 2,
     "metadata": {},
     "output_type": "execute_result"
    }
   ],
   "source": [
    "\"welcome\".capitalize()"
   ]
  },
  {
   "cell_type": "code",
   "execution_count": 3,
   "id": "86beb6f6",
   "metadata": {},
   "outputs": [
    {
     "data": {
      "text/plain": [
       "'Welcome'"
      ]
     },
     "execution_count": 3,
     "metadata": {},
     "output_type": "execute_result"
    }
   ],
   "source": [
    "\"WELCOME\".capitalize()"
   ]
  },
  {
   "cell_type": "code",
   "execution_count": 4,
   "id": "e93e8a4c",
   "metadata": {},
   "outputs": [],
   "source": [
    "v1=\"welcome\""
   ]
  },
  {
   "cell_type": "code",
   "execution_count": 5,
   "id": "433c255a",
   "metadata": {},
   "outputs": [
    {
     "data": {
      "text/plain": [
       "'Welcome'"
      ]
     },
     "execution_count": 5,
     "metadata": {},
     "output_type": "execute_result"
    }
   ],
   "source": [
    "v1.capitalize()"
   ]
  },
  {
   "cell_type": "code",
   "execution_count": 6,
   "id": "3f523e1f",
   "metadata": {},
   "outputs": [],
   "source": [
    "v1=\"WELCOME\""
   ]
  },
  {
   "cell_type": "code",
   "execution_count": 7,
   "id": "bab0b49a",
   "metadata": {},
   "outputs": [
    {
     "data": {
      "text/plain": [
       "'Welcome'"
      ]
     },
     "execution_count": 7,
     "metadata": {},
     "output_type": "execute_result"
    }
   ],
   "source": [
    "v1.capitalize()"
   ]
  },
  {
   "cell_type": "code",
   "execution_count": 8,
   "id": "49ca6f57",
   "metadata": {},
   "outputs": [
    {
     "data": {
      "text/plain": [
       "'Welcome to python'"
      ]
     },
     "execution_count": 8,
     "metadata": {},
     "output_type": "execute_result"
    }
   ],
   "source": [
    "\"welcome to python\".capitalize()"
   ]
  },
  {
   "cell_type": "code",
   "execution_count": 9,
   "id": "0ecd2fdd",
   "metadata": {},
   "outputs": [
    {
     "data": {
      "text/plain": [
       "'Welcome to python. python is best for ai'"
      ]
     },
     "execution_count": 9,
     "metadata": {},
     "output_type": "execute_result"
    }
   ],
   "source": [
    "\"welcome to python. PYTHON is best for AI\".capitalize()"
   ]
  },
  {
   "cell_type": "code",
   "execution_count": null,
   "id": "2eb190be",
   "metadata": {},
   "outputs": [],
   "source": [
    "#casefold"
   ]
  },
  {
   "cell_type": "code",
   "execution_count": null,
   "id": "936799c6",
   "metadata": {},
   "outputs": [],
   "source": [
    "help(str.casefold)"
   ]
  },
  {
   "cell_type": "code",
   "execution_count": 10,
   "id": "ccea452d",
   "metadata": {},
   "outputs": [
    {
     "data": {
      "text/plain": [
       "'welcome'"
      ]
     },
     "execution_count": 10,
     "metadata": {},
     "output_type": "execute_result"
    }
   ],
   "source": [
    "\"WELCOME\".casefold()"
   ]
  },
  {
   "cell_type": "code",
   "execution_count": 11,
   "id": "b179978d",
   "metadata": {},
   "outputs": [
    {
     "data": {
      "text/plain": [
       "'welcome'"
      ]
     },
     "execution_count": 11,
     "metadata": {},
     "output_type": "execute_result"
    }
   ],
   "source": [
    "\"welcome\".casefold()"
   ]
  },
  {
   "cell_type": "code",
   "execution_count": 12,
   "id": "884362f5",
   "metadata": {},
   "outputs": [
    {
     "data": {
      "text/plain": [
       "'welcome'"
      ]
     },
     "execution_count": 12,
     "metadata": {},
     "output_type": "execute_result"
    }
   ],
   "source": [
    "\"WeLcOmE\".casefold()"
   ]
  },
  {
   "cell_type": "code",
   "execution_count": 13,
   "id": "fa8121f1",
   "metadata": {},
   "outputs": [
    {
     "data": {
      "text/plain": [
       "True"
      ]
     },
     "execution_count": 13,
     "metadata": {},
     "output_type": "execute_result"
    }
   ],
   "source": [
    "\"welcome\"==\"WELCOME\".casefold()"
   ]
  },
  {
   "cell_type": "code",
   "execution_count": 14,
   "id": "48c3a496",
   "metadata": {},
   "outputs": [
    {
     "data": {
      "text/plain": [
       "'welcome to python'"
      ]
     },
     "execution_count": 14,
     "metadata": {},
     "output_type": "execute_result"
    }
   ],
   "source": [
    "\"welcome to Python\".casefold()"
   ]
  },
  {
   "cell_type": "code",
   "execution_count": 15,
   "id": "e0e2d730",
   "metadata": {},
   "outputs": [
    {
     "data": {
      "text/plain": [
       "'welcome to python programming'"
      ]
     },
     "execution_count": 15,
     "metadata": {},
     "output_type": "execute_result"
    }
   ],
   "source": [
    "\"WELCOME to python Programming\".casefold()"
   ]
  },
  {
   "cell_type": "code",
   "execution_count": null,
   "id": "07c379f4",
   "metadata": {},
   "outputs": [],
   "source": [
    "#center"
   ]
  },
  {
   "cell_type": "code",
   "execution_count": null,
   "id": "8121fea6",
   "metadata": {},
   "outputs": [],
   "source": [
    "help(str.center)"
   ]
  },
  {
   "cell_type": "code",
   "execution_count": 16,
   "id": "cf58cfa8",
   "metadata": {},
   "outputs": [],
   "source": [
    "v1=\"python\""
   ]
  },
  {
   "cell_type": "code",
   "execution_count": 17,
   "id": "5b180031",
   "metadata": {},
   "outputs": [
    {
     "data": {
      "text/plain": [
       "'             python            '"
      ]
     },
     "execution_count": 17,
     "metadata": {},
     "output_type": "execute_result"
    }
   ],
   "source": [
    "v1.center(31)"
   ]
  },
  {
   "cell_type": "code",
   "execution_count": 22,
   "id": "c23a2420",
   "metadata": {},
   "outputs": [
    {
     "data": {
      "text/plain": [
       "'*************python************'"
      ]
     },
     "execution_count": 22,
     "metadata": {},
     "output_type": "execute_result"
    }
   ],
   "source": [
    "v1.center(31,'*')"
   ]
  },
  {
   "cell_type": "code",
   "execution_count": 23,
   "id": "acd69501",
   "metadata": {},
   "outputs": [
    {
     "ename": "TypeError",
     "evalue": "The fill character must be exactly one character long",
     "output_type": "error",
     "traceback": [
      "\u001b[1;31m---------------------------------------------------------------------------\u001b[0m",
      "\u001b[1;31mTypeError\u001b[0m                                 Traceback (most recent call last)",
      "\u001b[1;32m~\\AppData\\Local\\Temp/ipykernel_21656/1733753518.py\u001b[0m in \u001b[0;36m<module>\u001b[1;34m\u001b[0m\n\u001b[1;32m----> 1\u001b[1;33m \u001b[0mv1\u001b[0m\u001b[1;33m.\u001b[0m\u001b[0mcenter\u001b[0m\u001b[1;33m(\u001b[0m\u001b[1;36m31\u001b[0m\u001b[1;33m,\u001b[0m\u001b[1;34m'abc'\u001b[0m\u001b[1;33m)\u001b[0m\u001b[1;33m\u001b[0m\u001b[1;33m\u001b[0m\u001b[0m\n\u001b[0m",
      "\u001b[1;31mTypeError\u001b[0m: The fill character must be exactly one character long"
     ]
    }
   ],
   "source": [
    "v1.center(31,'abc')"
   ]
  },
  {
   "cell_type": "code",
   "execution_count": 24,
   "id": "98b123fb",
   "metadata": {},
   "outputs": [
    {
     "data": {
      "text/plain": [
       "'aaaaaaaaaaaaapythonaaaaaaaaaaaa'"
      ]
     },
     "execution_count": 24,
     "metadata": {},
     "output_type": "execute_result"
    }
   ],
   "source": [
    "v1.center(31,'a')"
   ]
  },
  {
   "cell_type": "code",
   "execution_count": 27,
   "id": "fdce447b",
   "metadata": {},
   "outputs": [
    {
     "data": {
      "text/plain": [
       "'*python'"
      ]
     },
     "execution_count": 27,
     "metadata": {},
     "output_type": "execute_result"
    }
   ],
   "source": [
    "v1.center(7,'*')"
   ]
  },
  {
   "cell_type": "code",
   "execution_count": 28,
   "id": "e346157b",
   "metadata": {},
   "outputs": [],
   "source": [
    "v1=\"pytho\""
   ]
  },
  {
   "cell_type": "code",
   "execution_count": 29,
   "id": "f773c135",
   "metadata": {},
   "outputs": [
    {
     "data": {
      "text/plain": [
       "'pytho*'"
      ]
     },
     "execution_count": 29,
     "metadata": {},
     "output_type": "execute_result"
    }
   ],
   "source": [
    "v1.center(6,'*')"
   ]
  },
  {
   "cell_type": "code",
   "execution_count": 30,
   "id": "7a03d6a5",
   "metadata": {},
   "outputs": [],
   "source": [
    "v1=\"pyth\""
   ]
  },
  {
   "cell_type": "code",
   "execution_count": 31,
   "id": "eeb215d4",
   "metadata": {},
   "outputs": [
    {
     "data": {
      "text/plain": [
       "'**pyth*'"
      ]
     },
     "execution_count": 31,
     "metadata": {},
     "output_type": "execute_result"
    }
   ],
   "source": [
    "v1.center(7,\"*\")"
   ]
  },
  {
   "cell_type": "code",
   "execution_count": 32,
   "id": "d3ce790c",
   "metadata": {},
   "outputs": [],
   "source": [
    "v1=\"python\""
   ]
  },
  {
   "cell_type": "code",
   "execution_count": 34,
   "id": "1709792a",
   "metadata": {},
   "outputs": [
    {
     "data": {
      "text/plain": [
       "'python'"
      ]
     },
     "execution_count": 34,
     "metadata": {},
     "output_type": "execute_result"
    }
   ],
   "source": [
    "v1.center(5,'*')"
   ]
  },
  {
   "cell_type": "code",
   "execution_count": null,
   "id": "ef9477d1",
   "metadata": {},
   "outputs": [],
   "source": [
    "#Count"
   ]
  },
  {
   "cell_type": "code",
   "execution_count": null,
   "id": "08be6d61",
   "metadata": {},
   "outputs": [],
   "source": [
    "help(str.count)"
   ]
  },
  {
   "cell_type": "code",
   "execution_count": 35,
   "id": "8477b155",
   "metadata": {},
   "outputs": [],
   "source": [
    "v1=\"python is best programming\""
   ]
  },
  {
   "cell_type": "code",
   "execution_count": 36,
   "id": "c9a3fd49",
   "metadata": {},
   "outputs": [
    {
     "data": {
      "text/plain": [
       "2"
      ]
     },
     "execution_count": 36,
     "metadata": {},
     "output_type": "execute_result"
    }
   ],
   "source": [
    "v1.count(\"m\")"
   ]
  },
  {
   "cell_type": "code",
   "execution_count": 37,
   "id": "e3fe7c5b",
   "metadata": {},
   "outputs": [],
   "source": [
    "v1=\"python is beist programiming\""
   ]
  },
  {
   "cell_type": "code",
   "execution_count": 38,
   "id": "934c6bc2",
   "metadata": {},
   "outputs": [
    {
     "data": {
      "text/plain": [
       "4"
      ]
     },
     "execution_count": 38,
     "metadata": {},
     "output_type": "execute_result"
    }
   ],
   "source": [
    "v1.count(\"i\")"
   ]
  },
  {
   "cell_type": "code",
   "execution_count": 42,
   "id": "d5e0d4b4",
   "metadata": {},
   "outputs": [
    {
     "data": {
      "text/plain": [
       "3"
      ]
     },
     "execution_count": 42,
     "metadata": {},
     "output_type": "execute_result"
    }
   ],
   "source": [
    "v1.count(\"i\",12)"
   ]
  },
  {
   "cell_type": "code",
   "execution_count": 43,
   "id": "b0bd45e1",
   "metadata": {},
   "outputs": [
    {
     "data": {
      "text/plain": [
       "1"
      ]
     },
     "execution_count": 43,
     "metadata": {},
     "output_type": "execute_result"
    }
   ],
   "source": [
    "v1.count(\"i\",5,12)"
   ]
  },
  {
   "cell_type": "code",
   "execution_count": 44,
   "id": "5e3798b1",
   "metadata": {},
   "outputs": [
    {
     "data": {
      "text/plain": [
       "1"
      ]
     },
     "execution_count": 44,
     "metadata": {},
     "output_type": "execute_result"
    }
   ],
   "source": [
    "v1.count(\"i\",7,12)"
   ]
  },
  {
   "cell_type": "code",
   "execution_count": 45,
   "id": "44095289",
   "metadata": {},
   "outputs": [
    {
     "data": {
      "text/plain": [
       "0"
      ]
     },
     "execution_count": 45,
     "metadata": {},
     "output_type": "execute_result"
    }
   ],
   "source": [
    "v1.count(\"i\",4,7)"
   ]
  },
  {
   "cell_type": "code",
   "execution_count": null,
   "id": "527eba8e",
   "metadata": {},
   "outputs": [],
   "source": [
    "#endswith"
   ]
  },
  {
   "cell_type": "code",
   "execution_count": null,
   "id": "bf495cae",
   "metadata": {},
   "outputs": [],
   "source": [
    "help(str.endswith)"
   ]
  },
  {
   "cell_type": "code",
   "execution_count": 46,
   "id": "3fb10ae8",
   "metadata": {},
   "outputs": [],
   "source": [
    "v1=\"python#\""
   ]
  },
  {
   "cell_type": "code",
   "execution_count": 47,
   "id": "6d494764",
   "metadata": {},
   "outputs": [
    {
     "data": {
      "text/plain": [
       "True"
      ]
     },
     "execution_count": 47,
     "metadata": {},
     "output_type": "execute_result"
    }
   ],
   "source": [
    "v1.endswith(\"#\")"
   ]
  },
  {
   "cell_type": "code",
   "execution_count": 48,
   "id": "506690cc",
   "metadata": {},
   "outputs": [],
   "source": [
    "v1=\"python$ is very good programming# language for AI#\""
   ]
  },
  {
   "cell_type": "code",
   "execution_count": 49,
   "id": "4ae12941",
   "metadata": {},
   "outputs": [
    {
     "data": {
      "text/plain": [
       "True"
      ]
     },
     "execution_count": 49,
     "metadata": {},
     "output_type": "execute_result"
    }
   ],
   "source": [
    "v1.endswith(\"#\",10)"
   ]
  },
  {
   "cell_type": "code",
   "execution_count": 50,
   "id": "692b2d37",
   "metadata": {},
   "outputs": [
    {
     "data": {
      "text/plain": [
       "True"
      ]
     },
     "execution_count": 50,
     "metadata": {},
     "output_type": "execute_result"
    }
   ],
   "source": [
    "v1.endswith(\"$\",1,7)"
   ]
  },
  {
   "cell_type": "code",
   "execution_count": 51,
   "id": "e30b14ce",
   "metadata": {},
   "outputs": [],
   "source": [
    "v1=(\"python\",\"javascript\",\"django\")"
   ]
  },
  {
   "cell_type": "code",
   "execution_count": 52,
   "id": "00be82dd",
   "metadata": {},
   "outputs": [],
   "source": [
    "str1=\"react is used to develop rich frontend\""
   ]
  },
  {
   "cell_type": "code",
   "execution_count": 53,
   "id": "fce8cc96",
   "metadata": {},
   "outputs": [
    {
     "data": {
      "text/plain": [
       "True"
      ]
     },
     "execution_count": 53,
     "metadata": {},
     "output_type": "execute_result"
    }
   ],
   "source": [
    "str1.endswith('frontend')"
   ]
  },
  {
   "cell_type": "code",
   "execution_count": 55,
   "id": "dae0860a",
   "metadata": {},
   "outputs": [
    {
     "data": {
      "text/plain": [
       "False"
      ]
     },
     "execution_count": 55,
     "metadata": {},
     "output_type": "execute_result"
    }
   ],
   "source": [
    "str1.endswith(v1)"
   ]
  },
  {
   "cell_type": "code",
   "execution_count": 56,
   "id": "2be79035",
   "metadata": {},
   "outputs": [],
   "source": [
    "v1=(\"python\",\"javascript\",\"django\")"
   ]
  },
  {
   "cell_type": "code",
   "execution_count": 57,
   "id": "6c8a1d18",
   "metadata": {},
   "outputs": [],
   "source": [
    "str1=\"front end development is easy with javascript\""
   ]
  },
  {
   "cell_type": "code",
   "execution_count": 58,
   "id": "90474e20",
   "metadata": {},
   "outputs": [
    {
     "data": {
      "text/plain": [
       "True"
      ]
     },
     "execution_count": 58,
     "metadata": {},
     "output_type": "execute_result"
    }
   ],
   "source": [
    "str1.endswith(v1)"
   ]
  },
  {
   "cell_type": "code",
   "execution_count": 59,
   "id": "389717f6",
   "metadata": {},
   "outputs": [],
   "source": [
    "str2=\"front end development is easy with django\""
   ]
  },
  {
   "cell_type": "code",
   "execution_count": 60,
   "id": "e618edd6",
   "metadata": {},
   "outputs": [
    {
     "data": {
      "text/plain": [
       "True"
      ]
     },
     "execution_count": 60,
     "metadata": {},
     "output_type": "execute_result"
    }
   ],
   "source": [
    "str2.endswith(v1)"
   ]
  },
  {
   "cell_type": "code",
   "execution_count": 61,
   "id": "465936f9",
   "metadata": {},
   "outputs": [],
   "source": [
    "str3=\"front end development is easy with java\""
   ]
  },
  {
   "cell_type": "code",
   "execution_count": 62,
   "id": "e61f5102",
   "metadata": {},
   "outputs": [
    {
     "data": {
      "text/plain": [
       "False"
      ]
     },
     "execution_count": 62,
     "metadata": {},
     "output_type": "execute_result"
    }
   ],
   "source": [
    "str3.endswith(v1)"
   ]
  },
  {
   "cell_type": "code",
   "execution_count": null,
   "id": "ee73633a",
   "metadata": {},
   "outputs": [],
   "source": [
    "#expandtabs"
   ]
  },
  {
   "cell_type": "code",
   "execution_count": null,
   "id": "b7a99ebd",
   "metadata": {},
   "outputs": [],
   "source": [
    "help(str.expandtabs)"
   ]
  },
  {
   "cell_type": "code",
   "execution_count": 63,
   "id": "b72d7c2d",
   "metadata": {},
   "outputs": [],
   "source": [
    "str1 = \"python\\tdjango\\treact\""
   ]
  },
  {
   "cell_type": "code",
   "execution_count": 64,
   "id": "bd6bb940",
   "metadata": {},
   "outputs": [
    {
     "name": "stdout",
     "output_type": "stream",
     "text": [
      "python\tdjango\treact\n"
     ]
    }
   ],
   "source": [
    "print(str1)"
   ]
  },
  {
   "cell_type": "code",
   "execution_count": 67,
   "id": "babffd8d",
   "metadata": {},
   "outputs": [
    {
     "data": {
      "text/plain": [
       "'python    django    react'"
      ]
     },
     "execution_count": 67,
     "metadata": {},
     "output_type": "execute_result"
    }
   ],
   "source": [
    "str1.expandtabs(10)"
   ]
  },
  {
   "cell_type": "code",
   "execution_count": 68,
   "id": "c301eaa1",
   "metadata": {},
   "outputs": [
    {
     "name": "stdout",
     "output_type": "stream",
     "text": [
      "python  django  react\n"
     ]
    }
   ],
   "source": [
    "print(str1.expandtabs())"
   ]
  },
  {
   "cell_type": "code",
   "execution_count": 72,
   "id": "84dd5d8b",
   "metadata": {},
   "outputs": [
    {
     "data": {
      "text/plain": [
       "'python                   django                   react'"
      ]
     },
     "execution_count": 72,
     "metadata": {},
     "output_type": "execute_result"
    }
   ],
   "source": [
    "str1.expandtabs(25)"
   ]
  },
  {
   "cell_type": "code",
   "execution_count": null,
   "id": "076f5492",
   "metadata": {},
   "outputs": [],
   "source": [
    "#encode"
   ]
  },
  {
   "cell_type": "code",
   "execution_count": 74,
   "id": "0bf57a35",
   "metadata": {},
   "outputs": [
    {
     "data": {
      "text/plain": [
       "b'welcome'"
      ]
     },
     "execution_count": 74,
     "metadata": {},
     "output_type": "execute_result"
    }
   ],
   "source": [
    "'welcome'.encode()"
   ]
  },
  {
   "cell_type": "code",
   "execution_count": 75,
   "id": "7639a185",
   "metadata": {},
   "outputs": [
    {
     "data": {
      "text/plain": [
       "119"
      ]
     },
     "execution_count": 75,
     "metadata": {},
     "output_type": "execute_result"
    }
   ],
   "source": [
    "b'welcome'[0]"
   ]
  },
  {
   "cell_type": "code",
   "execution_count": 76,
   "id": "fca54f36",
   "metadata": {},
   "outputs": [
    {
     "name": "stdout",
     "output_type": "stream",
     "text": [
      "119,101,108,99,111,109,101,"
     ]
    }
   ],
   "source": [
    "for i in 'welcome'.encode():\n",
    "    print(i,end=',')"
   ]
  },
  {
   "cell_type": "code",
   "execution_count": 77,
   "id": "6b787bfa",
   "metadata": {},
   "outputs": [
    {
     "data": {
      "text/plain": [
       "b'welcome'"
      ]
     },
     "execution_count": 77,
     "metadata": {},
     "output_type": "execute_result"
    }
   ],
   "source": [
    "'welcome'.encode(encoding='UTF-8')"
   ]
  },
  {
   "cell_type": "code",
   "execution_count": 78,
   "id": "2991bac3",
   "metadata": {},
   "outputs": [
    {
     "data": {
      "text/plain": [
       "b'\\xff\\xfew\\x00e\\x00l\\x00c\\x00o\\x00m\\x00e\\x00'"
      ]
     },
     "execution_count": 78,
     "metadata": {},
     "output_type": "execute_result"
    }
   ],
   "source": [
    "'welcome'.encode(encoding='UTF-16')"
   ]
  },
  {
   "cell_type": "code",
   "execution_count": 79,
   "id": "3e5758b2",
   "metadata": {},
   "outputs": [
    {
     "name": "stdout",
     "output_type": "stream",
     "text": [
      "255 254 119 0 101 0 108 0 99 0 111 0 109 0 101 0 "
     ]
    }
   ],
   "source": [
    "for i in 'welcome'.encode(encoding='UTF-16'):\n",
    "    print(i,end=\" \")"
   ]
  },
  {
   "cell_type": "code",
   "execution_count": 80,
   "id": "b3da5f77",
   "metadata": {},
   "outputs": [
    {
     "data": {
      "text/plain": [
       "b'\\xff\\xfe\\x00\\x00w\\x00\\x00\\x00e\\x00\\x00\\x00l\\x00\\x00\\x00c\\x00\\x00\\x00o\\x00\\x00\\x00m\\x00\\x00\\x00e\\x00\\x00\\x00'"
      ]
     },
     "execution_count": 80,
     "metadata": {},
     "output_type": "execute_result"
    }
   ],
   "source": [
    "'welcome'.encode(encoding='UTF-32')"
   ]
  },
  {
   "cell_type": "code",
   "execution_count": 81,
   "id": "071f0637",
   "metadata": {},
   "outputs": [
    {
     "name": "stdout",
     "output_type": "stream",
     "text": [
      "255 254 0 0 119 0 0 0 101 0 0 0 108 0 0 0 99 0 0 0 111 0 0 0 109 0 0 0 101 0 0 0 "
     ]
    }
   ],
   "source": [
    "for i in 'welcome'.encode(encoding='UTF-32'):\n",
    "    print(i,end=\" \")"
   ]
  },
  {
   "cell_type": "code",
   "execution_count": 82,
   "id": "491f8318",
   "metadata": {},
   "outputs": [
    {
     "ename": "LookupError",
     "evalue": "unknown encoding: UTF-64",
     "output_type": "error",
     "traceback": [
      "\u001b[1;31m---------------------------------------------------------------------------\u001b[0m",
      "\u001b[1;31mLookupError\u001b[0m                               Traceback (most recent call last)",
      "\u001b[1;32m~\\AppData\\Local\\Temp/ipykernel_21656/1727120885.py\u001b[0m in \u001b[0;36m<module>\u001b[1;34m\u001b[0m\n\u001b[1;32m----> 1\u001b[1;33m \u001b[1;34m'welcome'\u001b[0m\u001b[1;33m.\u001b[0m\u001b[0mencode\u001b[0m\u001b[1;33m(\u001b[0m\u001b[0mencoding\u001b[0m\u001b[1;33m=\u001b[0m\u001b[1;34m'UTF-64'\u001b[0m\u001b[1;33m)\u001b[0m\u001b[1;33m\u001b[0m\u001b[1;33m\u001b[0m\u001b[0m\n\u001b[0m",
      "\u001b[1;31mLookupError\u001b[0m: unknown encoding: UTF-64"
     ]
    }
   ],
   "source": [
    "'welcome'.encode(encoding='UTF-64')"
   ]
  },
  {
   "cell_type": "code",
   "execution_count": null,
   "id": "eb637f0f",
   "metadata": {},
   "outputs": [],
   "source": [
    "#find"
   ]
  },
  {
   "cell_type": "code",
   "execution_count": null,
   "id": "12b16d13",
   "metadata": {},
   "outputs": [],
   "source": [
    "help(str.find)"
   ]
  },
  {
   "cell_type": "code",
   "execution_count": 83,
   "id": "98877652",
   "metadata": {},
   "outputs": [],
   "source": [
    "v1=\"welcome\""
   ]
  },
  {
   "cell_type": "code",
   "execution_count": 84,
   "id": "a74aa339",
   "metadata": {},
   "outputs": [
    {
     "data": {
      "text/plain": [
       "1"
      ]
     },
     "execution_count": 84,
     "metadata": {},
     "output_type": "execute_result"
    }
   ],
   "source": [
    "v1.find(\"e\")"
   ]
  },
  {
   "cell_type": "code",
   "execution_count": 85,
   "id": "546bc51d",
   "metadata": {},
   "outputs": [
    {
     "data": {
      "text/plain": [
       "6"
      ]
     },
     "execution_count": 85,
     "metadata": {},
     "output_type": "execute_result"
    }
   ],
   "source": [
    "v1.find(\"e\",3)"
   ]
  },
  {
   "cell_type": "code",
   "execution_count": 86,
   "id": "ad0d8a58",
   "metadata": {},
   "outputs": [
    {
     "data": {
      "text/plain": [
       "-1"
      ]
     },
     "execution_count": 86,
     "metadata": {},
     "output_type": "execute_result"
    }
   ],
   "source": [
    "v1.find(\"t\",3)"
   ]
  },
  {
   "cell_type": "code",
   "execution_count": 87,
   "id": "d9bf1b4c",
   "metadata": {},
   "outputs": [],
   "source": [
    "email1=\"raju123@gmail.com\""
   ]
  },
  {
   "cell_type": "code",
   "execution_count": 88,
   "id": "de874a48",
   "metadata": {},
   "outputs": [],
   "source": [
    "email2=\"raju1234gmail.com\""
   ]
  },
  {
   "cell_type": "code",
   "execution_count": 89,
   "id": "cb6fb39e",
   "metadata": {},
   "outputs": [
    {
     "data": {
      "text/plain": [
       "7"
      ]
     },
     "execution_count": 89,
     "metadata": {},
     "output_type": "execute_result"
    }
   ],
   "source": [
    "email1.find('@')"
   ]
  },
  {
   "cell_type": "code",
   "execution_count": 90,
   "id": "b0b6f074",
   "metadata": {},
   "outputs": [
    {
     "data": {
      "text/plain": [
       "True"
      ]
     },
     "execution_count": 90,
     "metadata": {},
     "output_type": "execute_result"
    }
   ],
   "source": [
    "email1.find(\"@\")>0"
   ]
  },
  {
   "cell_type": "code",
   "execution_count": 91,
   "id": "37ca91ab",
   "metadata": {},
   "outputs": [
    {
     "name": "stdout",
     "output_type": "stream",
     "text": [
      "Valid\n"
     ]
    }
   ],
   "source": [
    "if email1.find(\"@\")>0:\n",
    "    print(\"Valid\")\n",
    "else:\n",
    "    print(\"NotValid\")"
   ]
  },
  {
   "cell_type": "code",
   "execution_count": 92,
   "id": "847f047a",
   "metadata": {},
   "outputs": [
    {
     "data": {
      "text/plain": [
       "-1"
      ]
     },
     "execution_count": 92,
     "metadata": {},
     "output_type": "execute_result"
    }
   ],
   "source": [
    "email2.find(\"@\")"
   ]
  },
  {
   "cell_type": "code",
   "execution_count": 93,
   "id": "aa49bd45",
   "metadata": {},
   "outputs": [
    {
     "name": "stdout",
     "output_type": "stream",
     "text": [
      "NotValid\n"
     ]
    }
   ],
   "source": [
    "if email2.find(\"@\")>0:\n",
    "    print(\"Valid\")\n",
    "else:\n",
    "    print(\"NotValid\")"
   ]
  },
  {
   "cell_type": "code",
   "execution_count": 96,
   "id": "6669d649",
   "metadata": {},
   "outputs": [],
   "source": [
    "email2=\"raju@123@gmail.com\""
   ]
  },
  {
   "cell_type": "code",
   "execution_count": 97,
   "id": "6341f0b9",
   "metadata": {},
   "outputs": [
    {
     "name": "stdout",
     "output_type": "stream",
     "text": [
      "Valid\n"
     ]
    }
   ],
   "source": [
    "if email2.find(\"@\")>0:\n",
    "    print(\"Valid\")\n",
    "else:\n",
    "    print(\"NotValid\")"
   ]
  },
  {
   "cell_type": "code",
   "execution_count": 98,
   "id": "02a82d2f",
   "metadata": {},
   "outputs": [
    {
     "data": {
      "text/plain": [
       "4"
      ]
     },
     "execution_count": 98,
     "metadata": {},
     "output_type": "execute_result"
    }
   ],
   "source": [
    "email2.find(\"@\")"
   ]
  },
  {
   "cell_type": "code",
   "execution_count": 99,
   "id": "e18cf5ff",
   "metadata": {
    "scrolled": true
   },
   "outputs": [
    {
     "data": {
      "text/plain": [
       "5"
      ]
     },
     "execution_count": 99,
     "metadata": {},
     "output_type": "execute_result"
    }
   ],
   "source": [
    "email2.find(\"@\")+1"
   ]
  },
  {
   "cell_type": "code",
   "execution_count": 100,
   "id": "2ceaf24a",
   "metadata": {},
   "outputs": [
    {
     "data": {
      "text/plain": [
       "8"
      ]
     },
     "execution_count": 100,
     "metadata": {},
     "output_type": "execute_result"
    }
   ],
   "source": [
    "email2.find(\"@\",email2.find(\"@\")+1)"
   ]
  },
  {
   "cell_type": "code",
   "execution_count": 102,
   "id": "3843ca91",
   "metadata": {},
   "outputs": [
    {
     "name": "stdout",
     "output_type": "stream",
     "text": [
      "Not Valid\n"
     ]
    }
   ],
   "source": [
    "if email2.find(\"@\",email2.find(\"@\")+1)>0:\n",
    "    print(\"Not Valid\")\n",
    "else:\n",
    "    print(\"Valid\")"
   ]
  },
  {
   "cell_type": "code",
   "execution_count": 103,
   "id": "792d5729",
   "metadata": {},
   "outputs": [],
   "source": [
    "v1=\"python programming\""
   ]
  },
  {
   "cell_type": "code",
   "execution_count": 104,
   "id": "4c93f138",
   "metadata": {},
   "outputs": [
    {
     "data": {
      "text/plain": [
       "9"
      ]
     },
     "execution_count": 104,
     "metadata": {},
     "output_type": "execute_result"
    }
   ],
   "source": [
    "v1.find(\"o\",6)"
   ]
  },
  {
   "cell_type": "code",
   "execution_count": 105,
   "id": "44198fb0",
   "metadata": {},
   "outputs": [
    {
     "data": {
      "text/plain": [
       "9"
      ]
     },
     "execution_count": 105,
     "metadata": {},
     "output_type": "execute_result"
    }
   ],
   "source": [
    "v1.find(\"o\",6,11)"
   ]
  },
  {
   "cell_type": "code",
   "execution_count": 107,
   "id": "039f3b24",
   "metadata": {},
   "outputs": [
    {
     "data": {
      "text/plain": [
       "-1"
      ]
     },
     "execution_count": 107,
     "metadata": {},
     "output_type": "execute_result"
    }
   ],
   "source": [
    "v1.find(\"z\")"
   ]
  },
  {
   "cell_type": "code",
   "execution_count": 109,
   "id": "f7077a45",
   "metadata": {},
   "outputs": [
    {
     "name": "stdout",
     "output_type": "stream",
     "text": [
      "Enter your email address = raju@raju@gmail.com\n",
      "Invalid\n"
     ]
    }
   ],
   "source": [
    "email=input(\"Enter your email address = \")\n",
    "if email.find(\"@\")>0:\n",
    "    if email.find(\"@\",email.find(\"@\")+1)>0:\n",
    "        print(\"Invalid\")\n",
    "    else:\n",
    "        print(\"Valid\")"
   ]
  },
  {
   "cell_type": "code",
   "execution_count": null,
   "id": "34f2913f",
   "metadata": {},
   "outputs": [],
   "source": [
    "#index"
   ]
  },
  {
   "cell_type": "code",
   "execution_count": 110,
   "id": "61a18546",
   "metadata": {},
   "outputs": [],
   "source": [
    "v1=\"welcome\""
   ]
  },
  {
   "cell_type": "code",
   "execution_count": 111,
   "id": "c521afa4",
   "metadata": {},
   "outputs": [
    {
     "name": "stdout",
     "output_type": "stream",
     "text": [
      "Help on method_descriptor:\n",
      "\n",
      "index(...)\n",
      "    S.index(sub[, start[, end]]) -> int\n",
      "    \n",
      "    Return the lowest index in S where substring sub is found,\n",
      "    such that sub is contained within S[start:end].  Optional\n",
      "    arguments start and end are interpreted as in slice notation.\n",
      "    \n",
      "    Raises ValueError when the substring is not found.\n",
      "\n"
     ]
    }
   ],
   "source": [
    "help(str.index)"
   ]
  },
  {
   "cell_type": "code",
   "execution_count": 112,
   "id": "c63365fd",
   "metadata": {},
   "outputs": [
    {
     "data": {
      "text/plain": [
       "1"
      ]
     },
     "execution_count": 112,
     "metadata": {},
     "output_type": "execute_result"
    }
   ],
   "source": [
    "v1.index(\"e\")"
   ]
  },
  {
   "cell_type": "code",
   "execution_count": 113,
   "id": "9e4c83f0",
   "metadata": {},
   "outputs": [
    {
     "ename": "ValueError",
     "evalue": "substring not found",
     "output_type": "error",
     "traceback": [
      "\u001b[1;31m---------------------------------------------------------------------------\u001b[0m",
      "\u001b[1;31mValueError\u001b[0m                                Traceback (most recent call last)",
      "\u001b[1;32m~\\AppData\\Local\\Temp/ipykernel_21656/3648037867.py\u001b[0m in \u001b[0;36m<module>\u001b[1;34m\u001b[0m\n\u001b[1;32m----> 1\u001b[1;33m \u001b[0mv1\u001b[0m\u001b[1;33m.\u001b[0m\u001b[0mindex\u001b[0m\u001b[1;33m(\u001b[0m\u001b[1;34m\"z\"\u001b[0m\u001b[1;33m)\u001b[0m\u001b[1;33m\u001b[0m\u001b[1;33m\u001b[0m\u001b[0m\n\u001b[0m",
      "\u001b[1;31mValueError\u001b[0m: substring not found"
     ]
    }
   ],
   "source": [
    "v1.index(\"z\")"
   ]
  },
  {
   "cell_type": "code",
   "execution_count": 114,
   "id": "4602524c",
   "metadata": {},
   "outputs": [
    {
     "data": {
      "text/plain": [
       "3"
      ]
     },
     "execution_count": 114,
     "metadata": {},
     "output_type": "execute_result"
    }
   ],
   "source": [
    "v1.index(\"c\",1,5)"
   ]
  },
  {
   "cell_type": "code",
   "execution_count": null,
   "id": "c4a3f51a",
   "metadata": {},
   "outputs": [],
   "source": [
    "#join"
   ]
  },
  {
   "cell_type": "code",
   "execution_count": null,
   "id": "8ef280d5",
   "metadata": {},
   "outputs": [],
   "source": [
    "help(str.join)"
   ]
  },
  {
   "cell_type": "code",
   "execution_count": 115,
   "id": "8010dfc0",
   "metadata": {},
   "outputs": [
    {
     "data": {
      "text/plain": [
       "'w,e,l,c,o,m,e'"
      ]
     },
     "execution_count": 115,
     "metadata": {},
     "output_type": "execute_result"
    }
   ],
   "source": [
    "\",\".join(\"welcome\")"
   ]
  },
  {
   "cell_type": "code",
   "execution_count": 120,
   "id": "51ad988b",
   "metadata": {},
   "outputs": [
    {
     "data": {
      "text/plain": [
       "'w@e@l@c@o@m@e'"
      ]
     },
     "execution_count": 120,
     "metadata": {},
     "output_type": "execute_result"
    }
   ],
   "source": [
    "\"@\".join(\"welcome\")"
   ]
  },
  {
   "cell_type": "code",
   "execution_count": 117,
   "id": "dc2e56d8",
   "metadata": {},
   "outputs": [
    {
     "data": {
      "text/plain": [
       "'w'"
      ]
     },
     "execution_count": 117,
     "metadata": {},
     "output_type": "execute_result"
    }
   ],
   "source": [
    "\"#\".join(\"w\")"
   ]
  },
  {
   "cell_type": "code",
   "execution_count": 118,
   "id": "e036f95c",
   "metadata": {},
   "outputs": [
    {
     "data": {
      "text/plain": [
       "'w$ '"
      ]
     },
     "execution_count": 118,
     "metadata": {},
     "output_type": "execute_result"
    }
   ],
   "source": [
    "\"$\".join(\"w \")"
   ]
  },
  {
   "cell_type": "code",
   "execution_count": 121,
   "id": "e8d8d175",
   "metadata": {},
   "outputs": [
    {
     "data": {
      "text/plain": [
       "'w#e'"
      ]
     },
     "execution_count": 121,
     "metadata": {},
     "output_type": "execute_result"
    }
   ],
   "source": [
    "\"#\".join(\"we\")"
   ]
  },
  {
   "cell_type": "code",
   "execution_count": 122,
   "id": "41f5b0d0",
   "metadata": {},
   "outputs": [
    {
     "data": {
      "text/plain": [
       "'1python2python3'"
      ]
     },
     "execution_count": 122,
     "metadata": {},
     "output_type": "execute_result"
    }
   ],
   "source": [
    "\"python\".join(\"123\")"
   ]
  },
  {
   "cell_type": "code",
   "execution_count": 123,
   "id": "12803d79",
   "metadata": {},
   "outputs": [
    {
     "data": {
      "text/plain": [
       "'1python2python3python '"
      ]
     },
     "execution_count": 123,
     "metadata": {},
     "output_type": "execute_result"
    }
   ],
   "source": [
    "\"python\".join(\"123 \")"
   ]
  },
  {
   "cell_type": "code",
   "execution_count": 125,
   "id": "0e35a6e1",
   "metadata": {},
   "outputs": [
    {
     "ename": "TypeError",
     "evalue": "can only join an iterable",
     "output_type": "error",
     "traceback": [
      "\u001b[1;31m---------------------------------------------------------------------------\u001b[0m",
      "\u001b[1;31mTypeError\u001b[0m                                 Traceback (most recent call last)",
      "\u001b[1;32m~\\AppData\\Local\\Temp/ipykernel_21656/2963422626.py\u001b[0m in \u001b[0;36m<module>\u001b[1;34m\u001b[0m\n\u001b[1;32m----> 1\u001b[1;33m \u001b[1;34m\"python\"\u001b[0m\u001b[1;33m.\u001b[0m\u001b[0mjoin\u001b[0m\u001b[1;33m(\u001b[0m\u001b[1;36m123\u001b[0m\u001b[1;33m)\u001b[0m\u001b[1;33m\u001b[0m\u001b[1;33m\u001b[0m\u001b[0m\n\u001b[0m",
      "\u001b[1;31mTypeError\u001b[0m: can only join an iterable"
     ]
    }
   ],
   "source": [
    "\"python\".join(123)"
   ]
  },
  {
   "cell_type": "code",
   "execution_count": 130,
   "id": "c8574cad",
   "metadata": {},
   "outputs": [
    {
     "data": {
      "text/plain": [
       "'1python2python3python4'"
      ]
     },
     "execution_count": 130,
     "metadata": {},
     "output_type": "execute_result"
    }
   ],
   "source": [
    "\"python\".join([\"1\",\"2\",\"3\",\"4\"])"
   ]
  },
  {
   "cell_type": "code",
   "execution_count": 131,
   "id": "252f3ecc",
   "metadata": {},
   "outputs": [
    {
     "data": {
      "text/plain": [
       "'onepythontwo'"
      ]
     },
     "execution_count": 131,
     "metadata": {},
     "output_type": "execute_result"
    }
   ],
   "source": [
    "\"python\".join([\"one\",'two'])"
   ]
  },
  {
   "cell_type": "code",
   "execution_count": 132,
   "id": "fe4b60fe",
   "metadata": {},
   "outputs": [
    {
     "ename": "TypeError",
     "evalue": "sequence item 0: expected str instance, int found",
     "output_type": "error",
     "traceback": [
      "\u001b[1;31m---------------------------------------------------------------------------\u001b[0m",
      "\u001b[1;31mTypeError\u001b[0m                                 Traceback (most recent call last)",
      "\u001b[1;32m~\\AppData\\Local\\Temp/ipykernel_21656/672943366.py\u001b[0m in \u001b[0;36m<module>\u001b[1;34m\u001b[0m\n\u001b[1;32m----> 1\u001b[1;33m \u001b[1;34m\"python\"\u001b[0m\u001b[1;33m.\u001b[0m\u001b[0mjoin\u001b[0m\u001b[1;33m(\u001b[0m\u001b[1;33m[\u001b[0m\u001b[1;36m1\u001b[0m\u001b[1;33m,\u001b[0m\u001b[1;36m2\u001b[0m\u001b[1;33m]\u001b[0m\u001b[1;33m)\u001b[0m\u001b[1;33m\u001b[0m\u001b[1;33m\u001b[0m\u001b[0m\n\u001b[0m",
      "\u001b[1;31mTypeError\u001b[0m: sequence item 0: expected str instance, int found"
     ]
    }
   ],
   "source": [
    "\"python\".join([1,2])"
   ]
  },
  {
   "cell_type": "code",
   "execution_count": null,
   "id": "fe89d878",
   "metadata": {},
   "outputs": [],
   "source": [
    "#replace"
   ]
  },
  {
   "cell_type": "code",
   "execution_count": 133,
   "id": "bad6a8e3",
   "metadata": {},
   "outputs": [],
   "source": [
    "v1=\"walcoma\""
   ]
  },
  {
   "cell_type": "code",
   "execution_count": 134,
   "id": "f05b19e6",
   "metadata": {},
   "outputs": [
    {
     "data": {
      "text/plain": [
       "'welcome'"
      ]
     },
     "execution_count": 134,
     "metadata": {},
     "output_type": "execute_result"
    }
   ],
   "source": [
    "v1.replace('a','e')"
   ]
  },
  {
   "cell_type": "code",
   "execution_count": 135,
   "id": "0f09c8f6",
   "metadata": {},
   "outputs": [
    {
     "data": {
      "text/plain": [
       "'walcoma'"
      ]
     },
     "execution_count": 135,
     "metadata": {},
     "output_type": "execute_result"
    }
   ],
   "source": [
    "v1"
   ]
  },
  {
   "cell_type": "code",
   "execution_count": 136,
   "id": "817f6684",
   "metadata": {},
   "outputs": [
    {
     "data": {
      "text/plain": [
       "'a'"
      ]
     },
     "execution_count": 136,
     "metadata": {},
     "output_type": "execute_result"
    }
   ],
   "source": [
    "\"walcoma\"[1]"
   ]
  },
  {
   "cell_type": "code",
   "execution_count": 137,
   "id": "3a93d107",
   "metadata": {},
   "outputs": [
    {
     "ename": "TypeError",
     "evalue": "'str' object does not support item assignment",
     "output_type": "error",
     "traceback": [
      "\u001b[1;31m---------------------------------------------------------------------------\u001b[0m",
      "\u001b[1;31mTypeError\u001b[0m                                 Traceback (most recent call last)",
      "\u001b[1;32m~\\AppData\\Local\\Temp/ipykernel_21656/2756961497.py\u001b[0m in \u001b[0;36m<module>\u001b[1;34m\u001b[0m\n\u001b[1;32m----> 1\u001b[1;33m \u001b[1;34m\"walcoma\"\u001b[0m\u001b[1;33m[\u001b[0m\u001b[1;36m1\u001b[0m\u001b[1;33m]\u001b[0m\u001b[1;33m=\u001b[0m\u001b[1;34m'e'\u001b[0m\u001b[1;33m\u001b[0m\u001b[1;33m\u001b[0m\u001b[0m\n\u001b[0m",
      "\u001b[1;31mTypeError\u001b[0m: 'str' object does not support item assignment"
     ]
    }
   ],
   "source": [
    "\"walcoma\"[1]='e'"
   ]
  },
  {
   "cell_type": "code",
   "execution_count": 138,
   "id": "ea3806d0",
   "metadata": {},
   "outputs": [],
   "source": [
    "v1=\"walcoma\""
   ]
  },
  {
   "cell_type": "code",
   "execution_count": 139,
   "id": "f763881c",
   "metadata": {},
   "outputs": [
    {
     "data": {
      "text/plain": [
       "2340668574512"
      ]
     },
     "execution_count": 139,
     "metadata": {},
     "output_type": "execute_result"
    }
   ],
   "source": [
    "id(v1)"
   ]
  },
  {
   "cell_type": "code",
   "execution_count": 140,
   "id": "35933e5f",
   "metadata": {},
   "outputs": [],
   "source": [
    "v1=v1.replace('a','e')"
   ]
  },
  {
   "cell_type": "code",
   "execution_count": 141,
   "id": "391a24b1",
   "metadata": {},
   "outputs": [
    {
     "data": {
      "text/plain": [
       "'welcome'"
      ]
     },
     "execution_count": 141,
     "metadata": {},
     "output_type": "execute_result"
    }
   ],
   "source": [
    "v1"
   ]
  },
  {
   "cell_type": "code",
   "execution_count": 142,
   "id": "c8b8a68a",
   "metadata": {},
   "outputs": [
    {
     "data": {
      "text/plain": [
       "2340668580080"
      ]
     },
     "execution_count": 142,
     "metadata": {},
     "output_type": "execute_result"
    }
   ],
   "source": [
    "id(v1)"
   ]
  },
  {
   "cell_type": "code",
   "execution_count": 143,
   "id": "199ea4c8",
   "metadata": {},
   "outputs": [],
   "source": [
    "a=10"
   ]
  },
  {
   "cell_type": "code",
   "execution_count": 144,
   "id": "7c0ac4b9",
   "metadata": {},
   "outputs": [
    {
     "data": {
      "text/plain": [
       "2340563544656"
      ]
     },
     "execution_count": 144,
     "metadata": {},
     "output_type": "execute_result"
    }
   ],
   "source": [
    "id(a)"
   ]
  },
  {
   "cell_type": "code",
   "execution_count": 145,
   "id": "35cd2962",
   "metadata": {},
   "outputs": [],
   "source": [
    "a=20"
   ]
  },
  {
   "cell_type": "code",
   "execution_count": 146,
   "id": "d5a051b5",
   "metadata": {},
   "outputs": [
    {
     "data": {
      "text/plain": [
       "2340563544976"
      ]
     },
     "execution_count": 146,
     "metadata": {},
     "output_type": "execute_result"
    }
   ],
   "source": [
    "id(a)"
   ]
  },
  {
   "cell_type": "code",
   "execution_count": 147,
   "id": "df53df64",
   "metadata": {},
   "outputs": [],
   "source": [
    "x=100"
   ]
  },
  {
   "cell_type": "code",
   "execution_count": 148,
   "id": "409b57a7",
   "metadata": {},
   "outputs": [
    {
     "data": {
      "text/plain": [
       "2340563736016"
      ]
     },
     "execution_count": 148,
     "metadata": {},
     "output_type": "execute_result"
    }
   ],
   "source": [
    "id(x)"
   ]
  },
  {
   "cell_type": "code",
   "execution_count": 149,
   "id": "1c69e509",
   "metadata": {},
   "outputs": [],
   "source": [
    "x=200"
   ]
  },
  {
   "cell_type": "code",
   "execution_count": 150,
   "id": "e44758c6",
   "metadata": {},
   "outputs": [
    {
     "data": {
      "text/plain": [
       "2340563739280"
      ]
     },
     "execution_count": 150,
     "metadata": {},
     "output_type": "execute_result"
    }
   ],
   "source": [
    "id(x)"
   ]
  },
  {
   "cell_type": "code",
   "execution_count": 151,
   "id": "37c710fa",
   "metadata": {},
   "outputs": [],
   "source": [
    "x=100"
   ]
  },
  {
   "cell_type": "code",
   "execution_count": 152,
   "id": "18e331a7",
   "metadata": {},
   "outputs": [
    {
     "data": {
      "text/plain": [
       "2340563736016"
      ]
     },
     "execution_count": 152,
     "metadata": {},
     "output_type": "execute_result"
    }
   ],
   "source": [
    "id(x)"
   ]
  },
  {
   "cell_type": "code",
   "execution_count": null,
   "id": "70aada20",
   "metadata": {},
   "outputs": [],
   "source": [
    "#isdigit"
   ]
  },
  {
   "cell_type": "code",
   "execution_count": 153,
   "id": "516336e4",
   "metadata": {},
   "outputs": [
    {
     "data": {
      "text/plain": [
       "False"
      ]
     },
     "execution_count": 153,
     "metadata": {},
     "output_type": "execute_result"
    }
   ],
   "source": [
    "\"abc123\".isdigit()"
   ]
  },
  {
   "cell_type": "code",
   "execution_count": 154,
   "id": "02570b4a",
   "metadata": {},
   "outputs": [
    {
     "data": {
      "text/plain": [
       "False"
      ]
     },
     "execution_count": 154,
     "metadata": {},
     "output_type": "execute_result"
    }
   ],
   "source": [
    "\"abc\".isdigit()"
   ]
  },
  {
   "cell_type": "code",
   "execution_count": 155,
   "id": "f9146732",
   "metadata": {},
   "outputs": [
    {
     "data": {
      "text/plain": [
       "True"
      ]
     },
     "execution_count": 155,
     "metadata": {},
     "output_type": "execute_result"
    }
   ],
   "source": [
    "\"100\".isdigit()"
   ]
  },
  {
   "cell_type": "code",
   "execution_count": null,
   "id": "93fdb7e5",
   "metadata": {},
   "outputs": [],
   "source": [
    "#isalnum"
   ]
  },
  {
   "cell_type": "code",
   "execution_count": 156,
   "id": "0f9378ef",
   "metadata": {},
   "outputs": [
    {
     "data": {
      "text/plain": [
       "True"
      ]
     },
     "execution_count": 156,
     "metadata": {},
     "output_type": "execute_result"
    }
   ],
   "source": [
    "\"abc123\".isalnum()"
   ]
  },
  {
   "cell_type": "code",
   "execution_count": 157,
   "id": "e7454036",
   "metadata": {},
   "outputs": [
    {
     "data": {
      "text/plain": [
       "True"
      ]
     },
     "execution_count": 157,
     "metadata": {},
     "output_type": "execute_result"
    }
   ],
   "source": [
    "\"abc\".isalnum()"
   ]
  },
  {
   "cell_type": "code",
   "execution_count": 158,
   "id": "f80f4d80",
   "metadata": {},
   "outputs": [
    {
     "data": {
      "text/plain": [
       "True"
      ]
     },
     "execution_count": 158,
     "metadata": {},
     "output_type": "execute_result"
    }
   ],
   "source": [
    "\"100\".isalnum()"
   ]
  },
  {
   "cell_type": "code",
   "execution_count": null,
   "id": "d0778997",
   "metadata": {},
   "outputs": [],
   "source": [
    "#isalph"
   ]
  },
  {
   "cell_type": "code",
   "execution_count": 159,
   "id": "52443504",
   "metadata": {},
   "outputs": [
    {
     "data": {
      "text/plain": [
       "False"
      ]
     },
     "execution_count": 159,
     "metadata": {},
     "output_type": "execute_result"
    }
   ],
   "source": [
    "\"abc123\".isalpha()"
   ]
  },
  {
   "cell_type": "code",
   "execution_count": 160,
   "id": "79bb2ce5",
   "metadata": {},
   "outputs": [
    {
     "data": {
      "text/plain": [
       "True"
      ]
     },
     "execution_count": 160,
     "metadata": {},
     "output_type": "execute_result"
    }
   ],
   "source": [
    "\"abc\".isalpha()"
   ]
  },
  {
   "cell_type": "code",
   "execution_count": 161,
   "id": "a1011162",
   "metadata": {},
   "outputs": [
    {
     "data": {
      "text/plain": [
       "False"
      ]
     },
     "execution_count": 161,
     "metadata": {},
     "output_type": "execute_result"
    }
   ],
   "source": [
    "\"100\".isalpha()"
   ]
  },
  {
   "cell_type": "code",
   "execution_count": null,
   "id": "786f5116",
   "metadata": {},
   "outputs": [],
   "source": [
    "#islower"
   ]
  },
  {
   "cell_type": "code",
   "execution_count": 162,
   "id": "3e2a0eeb",
   "metadata": {},
   "outputs": [
    {
     "data": {
      "text/plain": [
       "True"
      ]
     },
     "execution_count": 162,
     "metadata": {},
     "output_type": "execute_result"
    }
   ],
   "source": [
    "\"abc\".islower()"
   ]
  },
  {
   "cell_type": "code",
   "execution_count": 163,
   "id": "09ff909d",
   "metadata": {},
   "outputs": [
    {
     "data": {
      "text/plain": [
       "False"
      ]
     },
     "execution_count": 163,
     "metadata": {},
     "output_type": "execute_result"
    }
   ],
   "source": [
    "\"ABC\".islower()"
   ]
  },
  {
   "cell_type": "code",
   "execution_count": null,
   "id": "00d1d987",
   "metadata": {},
   "outputs": [],
   "source": [
    "#isupper"
   ]
  },
  {
   "cell_type": "code",
   "execution_count": 164,
   "id": "e82a3d81",
   "metadata": {},
   "outputs": [
    {
     "data": {
      "text/plain": [
       "False"
      ]
     },
     "execution_count": 164,
     "metadata": {},
     "output_type": "execute_result"
    }
   ],
   "source": [
    "\"abc\".isupper()"
   ]
  },
  {
   "cell_type": "code",
   "execution_count": 166,
   "id": "4ec41ad9",
   "metadata": {},
   "outputs": [
    {
     "data": {
      "text/plain": [
       "True"
      ]
     },
     "execution_count": 166,
     "metadata": {},
     "output_type": "execute_result"
    }
   ],
   "source": [
    "\"ABC\".isupper()"
   ]
  },
  {
   "cell_type": "code",
   "execution_count": null,
   "id": "01c38d1b",
   "metadata": {},
   "outputs": [],
   "source": [
    "#isnumeric"
   ]
  },
  {
   "cell_type": "code",
   "execution_count": 1,
   "id": "9452e929",
   "metadata": {},
   "outputs": [
    {
     "name": "stdout",
     "output_type": "stream",
     "text": [
      "Help on method_descriptor:\n",
      "\n",
      "isnumeric(self, /)\n",
      "    Return True if the string is a numeric string, False otherwise.\n",
      "    \n",
      "    A string is numeric if all characters in the string are numeric and there is at\n",
      "    least one character in the string.\n",
      "\n"
     ]
    }
   ],
   "source": [
    "help(str.isnumeric)"
   ]
  },
  {
   "cell_type": "code",
   "execution_count": 2,
   "id": "3dbe6614",
   "metadata": {},
   "outputs": [
    {
     "name": "stdout",
     "output_type": "stream",
     "text": [
      "Help on method_descriptor:\n",
      "\n",
      "isdigit(self, /)\n",
      "    Return True if the string is a digit string, False otherwise.\n",
      "    \n",
      "    A string is a digit string if all characters in the string are digits and there\n",
      "    is at least one character in the string.\n",
      "\n"
     ]
    }
   ],
   "source": [
    "help(str.isdigit)"
   ]
  },
  {
   "cell_type": "code",
   "execution_count": 3,
   "id": "023bd4db",
   "metadata": {},
   "outputs": [
    {
     "data": {
      "text/plain": [
       "True"
      ]
     },
     "execution_count": 3,
     "metadata": {},
     "output_type": "execute_result"
    }
   ],
   "source": [
    "\"100\".isnumeric()"
   ]
  },
  {
   "cell_type": "code",
   "execution_count": 4,
   "id": "a8a08a42",
   "metadata": {},
   "outputs": [
    {
     "data": {
      "text/plain": [
       "False"
      ]
     },
     "execution_count": 4,
     "metadata": {},
     "output_type": "execute_result"
    }
   ],
   "source": [
    "\"100A\".isnumeric()"
   ]
  },
  {
   "cell_type": "code",
   "execution_count": 5,
   "id": "332c584e",
   "metadata": {},
   "outputs": [
    {
     "data": {
      "text/plain": [
       "True"
      ]
     },
     "execution_count": 5,
     "metadata": {},
     "output_type": "execute_result"
    }
   ],
   "source": [
    "\"1\".isnumeric()"
   ]
  },
  {
   "cell_type": "code",
   "execution_count": 6,
   "id": "f579a817",
   "metadata": {},
   "outputs": [
    {
     "data": {
      "text/plain": [
       "False"
      ]
     },
     "execution_count": 6,
     "metadata": {},
     "output_type": "execute_result"
    }
   ],
   "source": [
    "\"\".isnumeric()"
   ]
  },
  {
   "cell_type": "code",
   "execution_count": 7,
   "id": "6a5df53e",
   "metadata": {},
   "outputs": [
    {
     "data": {
      "text/plain": [
       "False"
      ]
     },
     "execution_count": 7,
     "metadata": {},
     "output_type": "execute_result"
    }
   ],
   "source": [
    "\"1/2321\".isnumeric()"
   ]
  },
  {
   "cell_type": "code",
   "execution_count": 8,
   "id": "5fc30e27",
   "metadata": {},
   "outputs": [
    {
     "data": {
      "text/plain": [
       "False"
      ]
     },
     "execution_count": 8,
     "metadata": {},
     "output_type": "execute_result"
    }
   ],
   "source": [
    "\"1/2321\".isdigit()"
   ]
  },
  {
   "cell_type": "code",
   "execution_count": 9,
   "id": "fb184778",
   "metadata": {},
   "outputs": [
    {
     "data": {
      "text/plain": [
       "False"
      ]
     },
     "execution_count": 9,
     "metadata": {},
     "output_type": "execute_result"
    }
   ],
   "source": [
    "\"5%3\".isdigit()"
   ]
  },
  {
   "cell_type": "code",
   "execution_count": 10,
   "id": "8d6cecfd",
   "metadata": {},
   "outputs": [
    {
     "data": {
      "text/plain": [
       "False"
      ]
     },
     "execution_count": 10,
     "metadata": {},
     "output_type": "execute_result"
    }
   ],
   "source": [
    "\"5%3\".isnumeric()"
   ]
  },
  {
   "cell_type": "code",
   "execution_count": 11,
   "id": "4a29d9fc",
   "metadata": {},
   "outputs": [
    {
     "data": {
      "text/plain": [
       "True"
      ]
     },
     "execution_count": 11,
     "metadata": {},
     "output_type": "execute_result"
    }
   ],
   "source": [
    "\"100\".isdigit()"
   ]
  },
  {
   "cell_type": "code",
   "execution_count": null,
   "id": "6ea066d6",
   "metadata": {},
   "outputs": [],
   "source": [
    "#ljust"
   ]
  },
  {
   "cell_type": "code",
   "execution_count": 12,
   "id": "e828b1ab",
   "metadata": {},
   "outputs": [
    {
     "data": {
      "text/plain": [
       "'abc  '"
      ]
     },
     "execution_count": 12,
     "metadata": {},
     "output_type": "execute_result"
    }
   ],
   "source": [
    "\"abc\".ljust(5)"
   ]
  },
  {
   "cell_type": "code",
   "execution_count": 13,
   "id": "95487af6",
   "metadata": {},
   "outputs": [
    {
     "data": {
      "text/plain": [
       "'abc            '"
      ]
     },
     "execution_count": 13,
     "metadata": {},
     "output_type": "execute_result"
    }
   ],
   "source": [
    "\"abc\".ljust(15)"
   ]
  },
  {
   "cell_type": "code",
   "execution_count": 15,
   "id": "f525d09e",
   "metadata": {},
   "outputs": [
    {
     "data": {
      "text/plain": [
       "'abc*******'"
      ]
     },
     "execution_count": 15,
     "metadata": {},
     "output_type": "execute_result"
    }
   ],
   "source": [
    "\"abc\".ljust(10,\"*\")"
   ]
  },
  {
   "cell_type": "code",
   "execution_count": null,
   "id": "20bdc005",
   "metadata": {},
   "outputs": [],
   "source": [
    "#rjust"
   ]
  },
  {
   "cell_type": "code",
   "execution_count": 16,
   "id": "0254872e",
   "metadata": {},
   "outputs": [
    {
     "data": {
      "text/plain": [
       "'  abc'"
      ]
     },
     "execution_count": 16,
     "metadata": {},
     "output_type": "execute_result"
    }
   ],
   "source": [
    "\"abc\".rjust(5)"
   ]
  },
  {
   "cell_type": "code",
   "execution_count": 17,
   "id": "d07fc9a4",
   "metadata": {},
   "outputs": [
    {
     "data": {
      "text/plain": [
       "'************abc'"
      ]
     },
     "execution_count": 17,
     "metadata": {},
     "output_type": "execute_result"
    }
   ],
   "source": [
    "\"abc\".rjust(15,\"*\")"
   ]
  },
  {
   "cell_type": "code",
   "execution_count": null,
   "id": "c17afc9c",
   "metadata": {},
   "outputs": [],
   "source": [
    "#lower"
   ]
  },
  {
   "cell_type": "code",
   "execution_count": 18,
   "id": "e2df25ed",
   "metadata": {},
   "outputs": [
    {
     "data": {
      "text/plain": [
       "'abc'"
      ]
     },
     "execution_count": 18,
     "metadata": {},
     "output_type": "execute_result"
    }
   ],
   "source": [
    "\"ABC\".lower()"
   ]
  },
  {
   "cell_type": "code",
   "execution_count": null,
   "id": "17f99a11",
   "metadata": {},
   "outputs": [],
   "source": [
    "#upper"
   ]
  },
  {
   "cell_type": "code",
   "execution_count": 19,
   "id": "c675c5c5",
   "metadata": {},
   "outputs": [
    {
     "data": {
      "text/plain": [
       "'ABC'"
      ]
     },
     "execution_count": 19,
     "metadata": {},
     "output_type": "execute_result"
    }
   ],
   "source": [
    "\"abc\".upper()"
   ]
  },
  {
   "cell_type": "code",
   "execution_count": null,
   "id": "74c077fb",
   "metadata": {},
   "outputs": [],
   "source": [
    "#swapcase"
   ]
  },
  {
   "cell_type": "code",
   "execution_count": 20,
   "id": "24f0e175",
   "metadata": {},
   "outputs": [
    {
     "data": {
      "text/plain": [
       "'AbC'"
      ]
     },
     "execution_count": 20,
     "metadata": {},
     "output_type": "execute_result"
    }
   ],
   "source": [
    "\"aBc\".swapcase()"
   ]
  },
  {
   "cell_type": "code",
   "execution_count": null,
   "id": "a353ce5b",
   "metadata": {},
   "outputs": [],
   "source": [
    "#lstrip"
   ]
  },
  {
   "cell_type": "code",
   "execution_count": 21,
   "id": "7f929a6f",
   "metadata": {},
   "outputs": [
    {
     "data": {
      "text/plain": [
       "'abc'"
      ]
     },
     "execution_count": 21,
     "metadata": {},
     "output_type": "execute_result"
    }
   ],
   "source": [
    "\"   abc\".lstrip()"
   ]
  },
  {
   "cell_type": "code",
   "execution_count": 22,
   "id": "d9152be9",
   "metadata": {},
   "outputs": [
    {
     "data": {
      "text/plain": [
       "'abc'"
      ]
     },
     "execution_count": 22,
     "metadata": {},
     "output_type": "execute_result"
    }
   ],
   "source": [
    "\"$$$$abc\".lstrip('$')"
   ]
  },
  {
   "cell_type": "code",
   "execution_count": 23,
   "id": "9b8c294e",
   "metadata": {},
   "outputs": [
    {
     "data": {
      "text/plain": [
       "'123'"
      ]
     },
     "execution_count": 23,
     "metadata": {},
     "output_type": "execute_result"
    }
   ],
   "source": [
    "\"AAAAB123\".lstrip('AB')"
   ]
  },
  {
   "cell_type": "code",
   "execution_count": null,
   "id": "5f739355",
   "metadata": {},
   "outputs": [],
   "source": [
    "#rstrip"
   ]
  },
  {
   "cell_type": "code",
   "execution_count": 24,
   "id": "c60f4884",
   "metadata": {},
   "outputs": [
    {
     "data": {
      "text/plain": [
       "'abc'"
      ]
     },
     "execution_count": 24,
     "metadata": {},
     "output_type": "execute_result"
    }
   ],
   "source": [
    "\"abc   \".rstrip()"
   ]
  },
  {
   "cell_type": "code",
   "execution_count": 25,
   "id": "3f27011e",
   "metadata": {},
   "outputs": [
    {
     "data": {
      "text/plain": [
       "'abc'"
      ]
     },
     "execution_count": 25,
     "metadata": {},
     "output_type": "execute_result"
    }
   ],
   "source": [
    "\"abc****\".rstrip(\"*\")"
   ]
  },
  {
   "cell_type": "code",
   "execution_count": null,
   "id": "a3d70f51",
   "metadata": {},
   "outputs": [],
   "source": [
    "#strip"
   ]
  },
  {
   "cell_type": "code",
   "execution_count": 26,
   "id": "0d3ca322",
   "metadata": {},
   "outputs": [
    {
     "data": {
      "text/plain": [
       "'abc'"
      ]
     },
     "execution_count": 26,
     "metadata": {},
     "output_type": "execute_result"
    }
   ],
   "source": [
    "\"   abc   \".strip()"
   ]
  },
  {
   "cell_type": "code",
   "execution_count": 27,
   "id": "132c1059",
   "metadata": {},
   "outputs": [
    {
     "data": {
      "text/plain": [
       "'abc'"
      ]
     },
     "execution_count": 27,
     "metadata": {},
     "output_type": "execute_result"
    }
   ],
   "source": [
    "\"****abc*****\".strip(\"*\")"
   ]
  },
  {
   "cell_type": "code",
   "execution_count": 28,
   "id": "717d1c4e",
   "metadata": {},
   "outputs": [
    {
     "data": {
      "text/plain": [
       "'abc*****'"
      ]
     },
     "execution_count": 28,
     "metadata": {},
     "output_type": "execute_result"
    }
   ],
   "source": [
    "\"$$$$$$abc*****\".lstrip(\"$\")"
   ]
  },
  {
   "cell_type": "code",
   "execution_count": 29,
   "id": "3327ab38",
   "metadata": {},
   "outputs": [
    {
     "data": {
      "text/plain": [
       "'abc'"
      ]
     },
     "execution_count": 29,
     "metadata": {},
     "output_type": "execute_result"
    }
   ],
   "source": [
    "\"$$$$$$abc*****\".lstrip(\"$\").rstrip(\"*\")"
   ]
  },
  {
   "cell_type": "code",
   "execution_count": 30,
   "id": "ad42fac9",
   "metadata": {},
   "outputs": [
    {
     "data": {
      "text/plain": [
       "'w el   co me'"
      ]
     },
     "execution_count": 30,
     "metadata": {},
     "output_type": "execute_result"
    }
   ],
   "source": [
    "\"   w el   co me   \".strip()"
   ]
  },
  {
   "cell_type": "code",
   "execution_count": 31,
   "id": "18be4c0f",
   "metadata": {},
   "outputs": [
    {
     "data": {
      "text/plain": [
       "'welcome'"
      ]
     },
     "execution_count": 31,
     "metadata": {},
     "output_type": "execute_result"
    }
   ],
   "source": [
    "\"   w el   co me   \".replace(\" \",\"\")"
   ]
  },
  {
   "cell_type": "code",
   "execution_count": null,
   "id": "f4c47b45",
   "metadata": {},
   "outputs": [],
   "source": [
    "#string format"
   ]
  },
  {
   "cell_type": "code",
   "execution_count": 32,
   "id": "69a50b88",
   "metadata": {},
   "outputs": [],
   "source": [
    "d1 = {'name':'Ravi','exp':3,'job':'fullstack'}"
   ]
  },
  {
   "cell_type": "code",
   "execution_count": 35,
   "id": "9e199f0c",
   "metadata": {},
   "outputs": [],
   "source": [
    "str1 = \"I am {name} having {exp} experience and working as {job} developer\""
   ]
  },
  {
   "cell_type": "code",
   "execution_count": 36,
   "id": "de9aa9d5",
   "metadata": {},
   "outputs": [
    {
     "data": {
      "text/plain": [
       "'I am Ravi having 3 experience and working as fullstack developer'"
      ]
     },
     "execution_count": 36,
     "metadata": {},
     "output_type": "execute_result"
    }
   ],
   "source": [
    "str1.format_map(d1)"
   ]
  },
  {
   "cell_type": "code",
   "execution_count": null,
   "id": "998c7661",
   "metadata": {},
   "outputs": [],
   "source": []
  },
  {
   "cell_type": "code",
   "execution_count": null,
   "id": "3d55d245",
   "metadata": {},
   "outputs": [],
   "source": []
  },
  {
   "cell_type": "code",
   "execution_count": null,
   "id": "5f6c590c",
   "metadata": {},
   "outputs": [],
   "source": []
  }
 ],
 "metadata": {
  "kernelspec": {
   "display_name": "Python 3 (ipykernel)",
   "language": "python",
   "name": "python3"
  },
  "language_info": {
   "codemirror_mode": {
    "name": "ipython",
    "version": 3
   },
   "file_extension": ".py",
   "mimetype": "text/x-python",
   "name": "python",
   "nbconvert_exporter": "python",
   "pygments_lexer": "ipython3",
   "version": "3.9.7"
  }
 },
 "nbformat": 4,
 "nbformat_minor": 5
}
