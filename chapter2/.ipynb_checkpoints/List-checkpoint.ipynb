{
 "cells": [
  {
   "cell_type": "code",
   "execution_count": null,
   "id": "81c36f4f",
   "metadata": {},
   "outputs": [],
   "source": [
    "#list is collection of elements of different datatypes"
   ]
  },
  {
   "cell_type": "code",
   "execution_count": 1,
   "id": "3c61b94b",
   "metadata": {},
   "outputs": [],
   "source": [
    "L1 = [10,20,30,40,50]"
   ]
  },
  {
   "cell_type": "code",
   "execution_count": 2,
   "id": "45ccd491",
   "metadata": {},
   "outputs": [
    {
     "data": {
      "text/plain": [
       "list"
      ]
     },
     "execution_count": 2,
     "metadata": {},
     "output_type": "execute_result"
    }
   ],
   "source": [
    "type(L1)"
   ]
  },
  {
   "cell_type": "code",
   "execution_count": 3,
   "id": "07bfcd75",
   "metadata": {},
   "outputs": [],
   "source": [
    "L2 = [\"python\",\"django\",'react','mongodb']"
   ]
  },
  {
   "cell_type": "code",
   "execution_count": 4,
   "id": "d8d0bfaf",
   "metadata": {},
   "outputs": [
    {
     "data": {
      "text/plain": [
       "list"
      ]
     },
     "execution_count": 4,
     "metadata": {},
     "output_type": "execute_result"
    }
   ],
   "source": [
    "type(L2)"
   ]
  },
  {
   "cell_type": "code",
   "execution_count": 5,
   "id": "c09be04e",
   "metadata": {},
   "outputs": [],
   "source": [
    "L3=[10.45,10.67,10,54]"
   ]
  },
  {
   "cell_type": "code",
   "execution_count": 6,
   "id": "db103795",
   "metadata": {},
   "outputs": [
    {
     "data": {
      "text/plain": [
       "list"
      ]
     },
     "execution_count": 6,
     "metadata": {},
     "output_type": "execute_result"
    }
   ],
   "source": [
    "type(L3)"
   ]
  },
  {
   "cell_type": "code",
   "execution_count": 7,
   "id": "cc7d1925",
   "metadata": {},
   "outputs": [],
   "source": [
    "L4 = [100,'Python',10.45]"
   ]
  },
  {
   "cell_type": "code",
   "execution_count": 8,
   "id": "b468b1d5",
   "metadata": {},
   "outputs": [
    {
     "data": {
      "text/plain": [
       "list"
      ]
     },
     "execution_count": 8,
     "metadata": {},
     "output_type": "execute_result"
    }
   ],
   "source": [
    "type(L4)"
   ]
  },
  {
   "cell_type": "code",
   "execution_count": 9,
   "id": "cd0dc7b2",
   "metadata": {},
   "outputs": [
    {
     "name": "stdout",
     "output_type": "stream",
     "text": [
      "Pretty printing has been turned OFF\n"
     ]
    }
   ],
   "source": [
    "pprint"
   ]
  },
  {
   "cell_type": "code",
   "execution_count": 10,
   "id": "bb03c53c",
   "metadata": {},
   "outputs": [
    {
     "data": {
      "text/plain": [
       "['__add__', '__class__', '__class_getitem__', '__contains__', '__delattr__', '__delitem__', '__dir__', '__doc__', '__eq__', '__format__', '__ge__', '__getattribute__', '__getitem__', '__gt__', '__hash__', '__iadd__', '__imul__', '__init__', '__init_subclass__', '__iter__', '__le__', '__len__', '__lt__', '__mul__', '__ne__', '__new__', '__reduce__', '__reduce_ex__', '__repr__', '__reversed__', '__rmul__', '__setattr__', '__setitem__', '__sizeof__', '__str__', '__subclasshook__', 'append', 'clear', 'copy', 'count', 'extend', 'index', 'insert', 'pop', 'remove', 'reverse', 'sort']"
      ]
     },
     "execution_count": 10,
     "metadata": {},
     "output_type": "execute_result"
    }
   ],
   "source": [
    "dir(L1)"
   ]
  },
  {
   "cell_type": "code",
   "execution_count": 11,
   "id": "681caa2d",
   "metadata": {},
   "outputs": [
    {
     "data": {
      "text/plain": [
       "[10, 20, 30, 40, 50]"
      ]
     },
     "execution_count": 11,
     "metadata": {},
     "output_type": "execute_result"
    }
   ],
   "source": [
    "L1"
   ]
  },
  {
   "cell_type": "code",
   "execution_count": null,
   "id": "1974c38b",
   "metadata": {},
   "outputs": [],
   "source": [
    "#indexing on List"
   ]
  },
  {
   "cell_type": "code",
   "execution_count": 12,
   "id": "5a0343e4",
   "metadata": {},
   "outputs": [
    {
     "data": {
      "text/plain": [
       "10"
      ]
     },
     "execution_count": 12,
     "metadata": {},
     "output_type": "execute_result"
    }
   ],
   "source": [
    "L1[0]"
   ]
  },
  {
   "cell_type": "code",
   "execution_count": 13,
   "id": "9b084211",
   "metadata": {},
   "outputs": [
    {
     "data": {
      "text/plain": [
       "2146717126400"
      ]
     },
     "execution_count": 13,
     "metadata": {},
     "output_type": "execute_result"
    }
   ],
   "source": [
    "id(L1)"
   ]
  },
  {
   "cell_type": "code",
   "execution_count": 14,
   "id": "1c577a3e",
   "metadata": {},
   "outputs": [
    {
     "data": {
      "text/plain": [
       "2146636163664"
      ]
     },
     "execution_count": 14,
     "metadata": {},
     "output_type": "execute_result"
    }
   ],
   "source": [
    "id(L1[0])"
   ]
  },
  {
   "cell_type": "code",
   "execution_count": null,
   "id": "9374332f",
   "metadata": {},
   "outputs": [],
   "source": [
    "#slicing on List"
   ]
  },
  {
   "cell_type": "code",
   "execution_count": 15,
   "id": "6c2b80bd",
   "metadata": {},
   "outputs": [
    {
     "data": {
      "text/plain": [
       "[10, 20, 30, 40, 50]"
      ]
     },
     "execution_count": 15,
     "metadata": {},
     "output_type": "execute_result"
    }
   ],
   "source": [
    "L1[:]"
   ]
  },
  {
   "cell_type": "code",
   "execution_count": 16,
   "id": "b97aa848",
   "metadata": {},
   "outputs": [
    {
     "data": {
      "text/plain": [
       "[10, 20, 30, 40, 50]"
      ]
     },
     "execution_count": 16,
     "metadata": {},
     "output_type": "execute_result"
    }
   ],
   "source": [
    "L1[::]"
   ]
  },
  {
   "cell_type": "code",
   "execution_count": 17,
   "id": "8d9e8f98",
   "metadata": {},
   "outputs": [
    {
     "data": {
      "text/plain": [
       "[10, 20, 30, 40, 50]"
      ]
     },
     "execution_count": 17,
     "metadata": {},
     "output_type": "execute_result"
    }
   ],
   "source": [
    "L1[::1]"
   ]
  },
  {
   "cell_type": "code",
   "execution_count": 18,
   "id": "92a3d840",
   "metadata": {},
   "outputs": [
    {
     "data": {
      "text/plain": [
       "[10, 30, 50]"
      ]
     },
     "execution_count": 18,
     "metadata": {},
     "output_type": "execute_result"
    }
   ],
   "source": [
    "L1[::2]"
   ]
  },
  {
   "cell_type": "code",
   "execution_count": 20,
   "id": "079cad2a",
   "metadata": {},
   "outputs": [
    {
     "data": {
      "text/plain": [
       "[50, 40, 30, 20, 10]"
      ]
     },
     "execution_count": 20,
     "metadata": {},
     "output_type": "execute_result"
    }
   ],
   "source": [
    "L1[::-1]"
   ]
  },
  {
   "cell_type": "code",
   "execution_count": 21,
   "id": "a8e8b8a9",
   "metadata": {},
   "outputs": [
    {
     "data": {
      "text/plain": [
       "[50, 30, 10]"
      ]
     },
     "execution_count": 21,
     "metadata": {},
     "output_type": "execute_result"
    }
   ],
   "source": [
    "L1[::-2]"
   ]
  },
  {
   "cell_type": "code",
   "execution_count": 22,
   "id": "73d27da4",
   "metadata": {},
   "outputs": [
    {
     "data": {
      "text/plain": [
       "[100, 'Python', 10.45]"
      ]
     },
     "execution_count": 22,
     "metadata": {},
     "output_type": "execute_result"
    }
   ],
   "source": [
    "L4"
   ]
  },
  {
   "cell_type": "code",
   "execution_count": 23,
   "id": "153e347c",
   "metadata": {},
   "outputs": [
    {
     "data": {
      "text/plain": [
       "<class 'list'>"
      ]
     },
     "execution_count": 23,
     "metadata": {},
     "output_type": "execute_result"
    }
   ],
   "source": [
    "type(L4)"
   ]
  },
  {
   "cell_type": "code",
   "execution_count": 24,
   "id": "9397d7a3",
   "metadata": {},
   "outputs": [
    {
     "data": {
      "text/plain": [
       "<class 'int'>"
      ]
     },
     "execution_count": 24,
     "metadata": {},
     "output_type": "execute_result"
    }
   ],
   "source": [
    "type(L4[0])"
   ]
  },
  {
   "cell_type": "code",
   "execution_count": 25,
   "id": "897a6bb8",
   "metadata": {},
   "outputs": [
    {
     "data": {
      "text/plain": [
       "[10, 20, 30, 40, 50]"
      ]
     },
     "execution_count": 25,
     "metadata": {},
     "output_type": "execute_result"
    }
   ],
   "source": [
    "L1"
   ]
  },
  {
   "cell_type": "code",
   "execution_count": 26,
   "id": "9a75581e",
   "metadata": {},
   "outputs": [
    {
     "name": "stdout",
     "output_type": "stream",
     "text": [
      "10\n",
      "20\n",
      "30\n",
      "40\n",
      "50\n"
     ]
    }
   ],
   "source": [
    "for i in L1:\n",
    "    print(i)"
   ]
  },
  {
   "cell_type": "code",
   "execution_count": 27,
   "id": "c13118a0",
   "metadata": {},
   "outputs": [
    {
     "data": {
      "text/plain": [
       "2146636163664"
      ]
     },
     "execution_count": 27,
     "metadata": {},
     "output_type": "execute_result"
    }
   ],
   "source": [
    "id(L1[0])"
   ]
  },
  {
   "cell_type": "code",
   "execution_count": null,
   "id": "ad74bf40",
   "metadata": {},
   "outputs": [],
   "source": []
  },
  {
   "cell_type": "code",
   "execution_count": null,
   "id": "a11d705b",
   "metadata": {},
   "outputs": [],
   "source": []
  }
 ],
 "metadata": {
  "kernelspec": {
   "display_name": "Python 3 (ipykernel)",
   "language": "python",
   "name": "python3"
  },
  "language_info": {
   "codemirror_mode": {
    "name": "ipython",
    "version": 3
   },
   "file_extension": ".py",
   "mimetype": "text/x-python",
   "name": "python",
   "nbconvert_exporter": "python",
   "pygments_lexer": "ipython3",
   "version": "3.9.7"
  }
 },
 "nbformat": 4,
 "nbformat_minor": 5
}
