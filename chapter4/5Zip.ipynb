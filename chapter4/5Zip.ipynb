{
 "cells": [
  {
   "cell_type": "code",
   "execution_count": null,
   "id": "f3741bd6",
   "metadata": {},
   "outputs": [],
   "source": [
    "#zip"
   ]
  },
  {
   "cell_type": "code",
   "execution_count": 1,
   "id": "befcfd2b",
   "metadata": {},
   "outputs": [],
   "source": [
    "cids = [101,102,103,104,105]\n",
    "courses = ['python','reactjs','django','javascript','nodejs']"
   ]
  },
  {
   "cell_type": "code",
   "execution_count": 2,
   "id": "83cc721a",
   "metadata": {},
   "outputs": [
    {
     "ename": "ValueError",
     "evalue": "too many values to unpack (expected 2)",
     "output_type": "error",
     "traceback": [
      "\u001b[1;31m---------------------------------------------------------------------------\u001b[0m",
      "\u001b[1;31mValueError\u001b[0m                                Traceback (most recent call last)",
      "\u001b[1;32m~\\AppData\\Local\\Temp/ipykernel_5804/664061657.py\u001b[0m in \u001b[0;36m<module>\u001b[1;34m\u001b[0m\n\u001b[1;32m----> 1\u001b[1;33m \u001b[1;32mfor\u001b[0m \u001b[0mid\u001b[0m\u001b[1;33m,\u001b[0m\u001b[0mcourse\u001b[0m \u001b[1;32min\u001b[0m \u001b[0mcids\u001b[0m\u001b[1;33m,\u001b[0m\u001b[0mcourses\u001b[0m\u001b[1;33m:\u001b[0m\u001b[1;33m\u001b[0m\u001b[1;33m\u001b[0m\u001b[0m\n\u001b[0m\u001b[0;32m      2\u001b[0m     \u001b[0mprint\u001b[0m\u001b[1;33m(\u001b[0m\u001b[0mid\u001b[0m\u001b[1;33m,\u001b[0m\u001b[0mcourse\u001b[0m\u001b[1;33m)\u001b[0m\u001b[1;33m\u001b[0m\u001b[1;33m\u001b[0m\u001b[0m\n",
      "\u001b[1;31mValueError\u001b[0m: too many values to unpack (expected 2)"
     ]
    }
   ],
   "source": [
    "for id,course in cids,courses:\n",
    "    print(id,course)"
   ]
  },
  {
   "cell_type": "code",
   "execution_count": 3,
   "id": "813a91cd",
   "metadata": {},
   "outputs": [
    {
     "name": "stdout",
     "output_type": "stream",
     "text": [
      "[101, 102, 103, 104, 105]\n",
      "['python', 'reactjs', 'django', 'javascript', 'nodejs']\n"
     ]
    }
   ],
   "source": [
    "for students in cids,courses:\n",
    "    print(students)"
   ]
  },
  {
   "cell_type": "code",
   "execution_count": 4,
   "id": "37f7420f",
   "metadata": {},
   "outputs": [
    {
     "name": "stdout",
     "output_type": "stream",
     "text": [
      "101\n",
      "python\n"
     ]
    }
   ],
   "source": [
    "for students in cids,courses:\n",
    "    print(students[0])"
   ]
  },
  {
   "cell_type": "code",
   "execution_count": 5,
   "id": "f4f2db44",
   "metadata": {},
   "outputs": [],
   "source": [
    "course_info = [[101,'javascript'],[102,'django']]"
   ]
  },
  {
   "cell_type": "code",
   "execution_count": 6,
   "id": "03a41d5f",
   "metadata": {},
   "outputs": [
    {
     "name": "stdout",
     "output_type": "stream",
     "text": [
      "101 javascript\n",
      "102 django\n"
     ]
    }
   ],
   "source": [
    "for cid,course in course_info:\n",
    "    print(cid,course)"
   ]
  },
  {
   "cell_type": "code",
   "execution_count": 7,
   "id": "53af3756",
   "metadata": {},
   "outputs": [],
   "source": [
    "#unpacking\n",
    "cid,course = [101,'javascript']"
   ]
  },
  {
   "cell_type": "code",
   "execution_count": 8,
   "id": "877e3fc6",
   "metadata": {},
   "outputs": [
    {
     "name": "stdout",
     "output_type": "stream",
     "text": [
      "101 javascript\n"
     ]
    }
   ],
   "source": [
    "print(cid,course)"
   ]
  },
  {
   "cell_type": "code",
   "execution_count": 9,
   "id": "0ba60cdc",
   "metadata": {},
   "outputs": [
    {
     "name": "stdout",
     "output_type": "stream",
     "text": [
      "101 python\n",
      "101 reactjs\n",
      "101 django\n",
      "101 javascript\n",
      "101 nodejs\n",
      "102 python\n",
      "102 reactjs\n",
      "102 django\n",
      "102 javascript\n",
      "102 nodejs\n",
      "103 python\n",
      "103 reactjs\n",
      "103 django\n",
      "103 javascript\n",
      "103 nodejs\n",
      "104 python\n",
      "104 reactjs\n",
      "104 django\n",
      "104 javascript\n",
      "104 nodejs\n",
      "105 python\n",
      "105 reactjs\n",
      "105 django\n",
      "105 javascript\n",
      "105 nodejs\n"
     ]
    }
   ],
   "source": [
    "for cid in cids:\n",
    "    for course in courses:\n",
    "        print(cid,course)"
   ]
  },
  {
   "cell_type": "code",
   "execution_count": 10,
   "id": "1f06446d",
   "metadata": {},
   "outputs": [
    {
     "name": "stdout",
     "output_type": "stream",
     "text": [
      "101 102 103 104 105\n"
     ]
    }
   ],
   "source": [
    "print(*cids)"
   ]
  },
  {
   "cell_type": "code",
   "execution_count": 11,
   "id": "5f74e481",
   "metadata": {},
   "outputs": [
    {
     "name": "stdout",
     "output_type": "stream",
     "text": [
      "python reactjs django javascript nodejs\n"
     ]
    }
   ],
   "source": [
    "print(*courses)"
   ]
  },
  {
   "cell_type": "code",
   "execution_count": 12,
   "id": "91c2774e",
   "metadata": {},
   "outputs": [
    {
     "ename": "TypeError",
     "evalue": "cannot unpack non-iterable int object",
     "output_type": "error",
     "traceback": [
      "\u001b[1;31m---------------------------------------------------------------------------\u001b[0m",
      "\u001b[1;31mTypeError\u001b[0m                                 Traceback (most recent call last)",
      "\u001b[1;32m~\\AppData\\Local\\Temp/ipykernel_5804/1207064978.py\u001b[0m in \u001b[0;36m<module>\u001b[1;34m\u001b[0m\n\u001b[1;32m----> 1\u001b[1;33m \u001b[1;32mfor\u001b[0m \u001b[0mi\u001b[0m\u001b[1;33m,\u001b[0m\u001b[0mj\u001b[0m \u001b[1;32min\u001b[0m \u001b[1;33m*\u001b[0m\u001b[0mcids\u001b[0m\u001b[1;33m,\u001b[0m\u001b[1;33m*\u001b[0m\u001b[0mcourses\u001b[0m\u001b[1;33m:\u001b[0m\u001b[1;33m\u001b[0m\u001b[1;33m\u001b[0m\u001b[0m\n\u001b[0m\u001b[0;32m      2\u001b[0m     \u001b[0mprint\u001b[0m\u001b[1;33m(\u001b[0m\u001b[0mi\u001b[0m\u001b[1;33m,\u001b[0m\u001b[0mj\u001b[0m\u001b[1;33m)\u001b[0m\u001b[1;33m\u001b[0m\u001b[1;33m\u001b[0m\u001b[0m\n",
      "\u001b[1;31mTypeError\u001b[0m: cannot unpack non-iterable int object"
     ]
    }
   ],
   "source": [
    "for i,j in *cids,*courses:\n",
    "    print(i,j)"
   ]
  },
  {
   "cell_type": "code",
   "execution_count": 13,
   "id": "48892263",
   "metadata": {},
   "outputs": [
    {
     "ename": "TypeError",
     "evalue": "list expected at most 1 argument, got 10",
     "output_type": "error",
     "traceback": [
      "\u001b[1;31m---------------------------------------------------------------------------\u001b[0m",
      "\u001b[1;31mTypeError\u001b[0m                                 Traceback (most recent call last)",
      "\u001b[1;32m~\\AppData\\Local\\Temp/ipykernel_5804/1041839625.py\u001b[0m in \u001b[0;36m<module>\u001b[1;34m\u001b[0m\n\u001b[1;32m----> 1\u001b[1;33m \u001b[0mlist\u001b[0m\u001b[1;33m(\u001b[0m\u001b[1;33m*\u001b[0m\u001b[0mcids\u001b[0m\u001b[1;33m,\u001b[0m\u001b[1;33m*\u001b[0m\u001b[0mcourses\u001b[0m\u001b[1;33m)\u001b[0m\u001b[1;33m\u001b[0m\u001b[1;33m\u001b[0m\u001b[0m\n\u001b[0m",
      "\u001b[1;31mTypeError\u001b[0m: list expected at most 1 argument, got 10"
     ]
    }
   ],
   "source": [
    "list(*cids,*courses)"
   ]
  },
  {
   "cell_type": "code",
   "execution_count": 14,
   "id": "39fe0204",
   "metadata": {},
   "outputs": [
    {
     "data": {
      "text/plain": [
       "type"
      ]
     },
     "execution_count": 14,
     "metadata": {},
     "output_type": "execute_result"
    }
   ],
   "source": [
    "type(zip)"
   ]
  },
  {
   "cell_type": "code",
   "execution_count": 15,
   "id": "81b7cbe6",
   "metadata": {},
   "outputs": [
    {
     "name": "stdout",
     "output_type": "stream",
     "text": [
      "101 python\n",
      "102 reactjs\n",
      "103 django\n",
      "104 javascript\n",
      "105 nodejs\n"
     ]
    }
   ],
   "source": [
    "for cid,course in zip(cids,courses):\n",
    "    print(cid,course)"
   ]
  },
  {
   "cell_type": "code",
   "execution_count": 16,
   "id": "025a9dba",
   "metadata": {},
   "outputs": [],
   "source": [
    "fees = (10000,5000,12000,4000,8000)"
   ]
  },
  {
   "cell_type": "code",
   "execution_count": 17,
   "id": "ff9e8ee7",
   "metadata": {
    "scrolled": true
   },
   "outputs": [
    {
     "name": "stdout",
     "output_type": "stream",
     "text": [
      "101 python 10000\n",
      "102 reactjs 5000\n",
      "103 django 12000\n",
      "104 javascript 4000\n",
      "105 nodejs 8000\n"
     ]
    }
   ],
   "source": [
    "for cid,course,fee in zip(cids,courses,fees):\n",
    "    print(cid,course,fee)"
   ]
  },
  {
   "cell_type": "code",
   "execution_count": 18,
   "id": "c3246f88",
   "metadata": {},
   "outputs": [],
   "source": [
    "fees = (10000,5000,12000,4000)"
   ]
  },
  {
   "cell_type": "code",
   "execution_count": 19,
   "id": "3c442156",
   "metadata": {},
   "outputs": [
    {
     "name": "stdout",
     "output_type": "stream",
     "text": [
      "101 python 10000\n",
      "102 reactjs 5000\n",
      "103 django 12000\n",
      "104 javascript 4000\n"
     ]
    }
   ],
   "source": [
    "for id,course,fee in zip(cids,courses,fees):\n",
    "    print(id,course,fee)"
   ]
  },
  {
   "cell_type": "code",
   "execution_count": 20,
   "id": "d69ec736",
   "metadata": {},
   "outputs": [
    {
     "name": "stdout",
     "output_type": "stream",
     "text": [
      "(101, 'python', 10000)\n",
      "(102, 'reactjs', 5000)\n",
      "(103, 'django', 12000)\n",
      "(104, 'javascript', 4000)\n"
     ]
    }
   ],
   "source": [
    "for i in zip(cids,courses,fees):\n",
    "    print(i)"
   ]
  },
  {
   "cell_type": "code",
   "execution_count": 21,
   "id": "c9038de2",
   "metadata": {},
   "outputs": [],
   "source": [
    "fees = (10000,5000,12000,4000,8000)"
   ]
  },
  {
   "cell_type": "code",
   "execution_count": 22,
   "id": "065fd6fa",
   "metadata": {},
   "outputs": [
    {
     "name": "stdout",
     "output_type": "stream",
     "text": [
      "60001 ('python', 10000)\n",
      "60002 ('reactjs', 5000)\n",
      "60003 ('django', 12000)\n",
      "60004 ('javascript', 4000)\n",
      "60005 ('nodejs', 8000)\n"
     ]
    }
   ],
   "source": [
    "for course,fee in enumerate(zip(courses,fees),60001):\n",
    "    print(course,fee)"
   ]
  },
  {
   "cell_type": "code",
   "execution_count": 23,
   "id": "a2777848",
   "metadata": {},
   "outputs": [
    {
     "name": "stdout",
     "output_type": "stream",
     "text": [
      "1001 (101, 'python', 10000)\n",
      "1002 (102, 'reactjs', 5000)\n",
      "1003 (103, 'django', 12000)\n",
      "1004 (104, 'javascript', 4000)\n",
      "1005 (105, 'nodejs', 8000)\n"
     ]
    }
   ],
   "source": [
    "for i,j in enumerate(zip(cids,courses,fees),1001):\n",
    "    print(i,j)"
   ]
  },
  {
   "cell_type": "code",
   "execution_count": 24,
   "id": "b5737722",
   "metadata": {},
   "outputs": [
    {
     "name": "stdout",
     "output_type": "stream",
     "text": [
      "1001 101 python 10000\n",
      "1002 102 reactjs 5000\n",
      "1003 103 django 12000\n",
      "1004 104 javascript 4000\n",
      "1005 105 nodejs 8000\n"
     ]
    }
   ],
   "source": [
    "for i,j in enumerate(zip(cids,courses,fees),1001):\n",
    "    print(i,j[0],j[1],j[2])"
   ]
  },
  {
   "cell_type": "code",
   "execution_count": 25,
   "id": "1b143ff8",
   "metadata": {},
   "outputs": [
    {
     "name": "stdout",
     "output_type": "stream",
     "text": [
      "1001 101 python 10000\n",
      "1002 102 reactjs 5000\n",
      "1003 103 django 12000\n",
      "1004 104 javascript 4000\n",
      "1005 105 nodejs 8000\n"
     ]
    }
   ],
   "source": [
    "for i,j in enumerate(zip(cids,courses,fees),1001):\n",
    "    print(i,*j)"
   ]
  },
  {
   "cell_type": "code",
   "execution_count": null,
   "id": "bee46f77",
   "metadata": {},
   "outputs": [],
   "source": [
    "zobj1 = zip(cids,courses,fees)"
   ]
  },
  {
   "cell_type": "code",
   "execution_count": null,
   "id": "6005c753",
   "metadata": {},
   "outputs": [],
   "source": [
    "for i in zobj1:\n",
    "    print(i)"
   ]
  },
  {
   "cell_type": "code",
   "execution_count": null,
   "id": "ebedd085",
   "metadata": {},
   "outputs": [],
   "source": [
    "for i in zobj1:\n",
    "    print(*i)"
   ]
  },
  {
   "cell_type": "code",
   "execution_count": null,
   "id": "101ac6cb",
   "metadata": {},
   "outputs": [],
   "source": [
    "pprint"
   ]
  },
  {
   "cell_type": "code",
   "execution_count": null,
   "id": "0bcd8834",
   "metadata": {},
   "outputs": [],
   "source": [
    "dir(zobj1)"
   ]
  },
  {
   "cell_type": "code",
   "execution_count": null,
   "id": "56762134",
   "metadata": {},
   "outputs": [],
   "source": [
    "zobj1 = zip(cids,courses,fees)"
   ]
  },
  {
   "cell_type": "code",
   "execution_count": null,
   "id": "5d3b60f8",
   "metadata": {},
   "outputs": [],
   "source": [
    "next(zobj1)"
   ]
  },
  {
   "cell_type": "code",
   "execution_count": null,
   "id": "f6531e21",
   "metadata": {},
   "outputs": [],
   "source": [
    "next(zobj1)"
   ]
  },
  {
   "cell_type": "code",
   "execution_count": null,
   "id": "f69aa5d0",
   "metadata": {},
   "outputs": [],
   "source": [
    "for i in zobj1:\n",
    "    print(i)"
   ]
  },
  {
   "cell_type": "code",
   "execution_count": null,
   "id": "85a45f8a",
   "metadata": {},
   "outputs": [],
   "source": [
    "for i in zobj1:\n",
    "    print(i)"
   ]
  },
  {
   "cell_type": "code",
   "execution_count": null,
   "id": "18bdfcab",
   "metadata": {},
   "outputs": [],
   "source": [
    "zobj1 = zip(cids,courses,fees)"
   ]
  },
  {
   "cell_type": "code",
   "execution_count": null,
   "id": "6ff63bdb",
   "metadata": {},
   "outputs": [],
   "source": [
    "zobj1.__next__()"
   ]
  },
  {
   "cell_type": "code",
   "execution_count": null,
   "id": "e450de70",
   "metadata": {},
   "outputs": [],
   "source": []
  },
  {
   "cell_type": "code",
   "execution_count": null,
   "id": "bea31bff",
   "metadata": {},
   "outputs": [],
   "source": []
  },
  {
   "cell_type": "code",
   "execution_count": null,
   "id": "857c5e27",
   "metadata": {},
   "outputs": [],
   "source": []
  }
 ],
 "metadata": {
  "kernelspec": {
   "display_name": "Python 3 (ipykernel)",
   "language": "python",
   "name": "python3"
  },
  "language_info": {
   "codemirror_mode": {
    "name": "ipython",
    "version": 3
   },
   "file_extension": ".py",
   "mimetype": "text/x-python",
   "name": "python",
   "nbconvert_exporter": "python",
   "pygments_lexer": "ipython3",
   "version": "3.9.7"
  }
 },
 "nbformat": 4,
 "nbformat_minor": 5
}
