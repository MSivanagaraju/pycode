{
 "cells": [
  {
   "cell_type": "code",
   "execution_count": 4,
   "id": "aebe0c53",
   "metadata": {},
   "outputs": [],
   "source": [
    "#variables\n",
    "#loosely typed variables\n",
    "#python we can use as basic caliculator"
   ]
  },
  {
   "cell_type": "code",
   "execution_count": 6,
   "id": "f47ca465",
   "metadata": {},
   "outputs": [],
   "source": [
    "v1 = 100"
   ]
  },
  {
   "cell_type": "code",
   "execution_count": 7,
   "id": "d820bbdf",
   "metadata": {},
   "outputs": [
    {
     "name": "stdout",
     "output_type": "stream",
     "text": [
      "100\n"
     ]
    }
   ],
   "source": [
    "print(v1)"
   ]
  },
  {
   "cell_type": "code",
   "execution_count": 8,
   "id": "84814bd6",
   "metadata": {},
   "outputs": [
    {
     "ename": "SyntaxError",
     "evalue": "invalid syntax (Temp/ipykernel_9416/547968179.py, line 1)",
     "output_type": "error",
     "traceback": [
      "\u001b[1;36m  File \u001b[1;32m\"C:\\Users\\User\\AppData\\Local\\Temp/ipykernel_9416/547968179.py\"\u001b[1;36m, line \u001b[1;32m1\u001b[0m\n\u001b[1;33m    1v = 100\u001b[0m\n\u001b[1;37m     ^\u001b[0m\n\u001b[1;31mSyntaxError\u001b[0m\u001b[1;31m:\u001b[0m invalid syntax\n"
     ]
    }
   ],
   "source": [
    "1v = 100"
   ]
  },
  {
   "cell_type": "code",
   "execution_count": 9,
   "id": "e514b82b",
   "metadata": {},
   "outputs": [
    {
     "ename": "SyntaxError",
     "evalue": "invalid syntax (Temp/ipykernel_9416/3794103731.py, line 1)",
     "output_type": "error",
     "traceback": [
      "\u001b[1;36m  File \u001b[1;32m\"C:\\Users\\User\\AppData\\Local\\Temp/ipykernel_9416/3794103731.py\"\u001b[1;36m, line \u001b[1;32m1\u001b[0m\n\u001b[1;33m    $v1 = 100\u001b[0m\n\u001b[1;37m    ^\u001b[0m\n\u001b[1;31mSyntaxError\u001b[0m\u001b[1;31m:\u001b[0m invalid syntax\n"
     ]
    }
   ],
   "source": [
    "$v1 = 100"
   ]
  },
  {
   "cell_type": "code",
   "execution_count": 10,
   "id": "dd74f280",
   "metadata": {},
   "outputs": [
    {
     "ename": "SyntaxError",
     "evalue": "invalid syntax (Temp/ipykernel_9416/2183505497.py, line 1)",
     "output_type": "error",
     "traceback": [
      "\u001b[1;36m  File \u001b[1;32m\"C:\\Users\\User\\AppData\\Local\\Temp/ipykernel_9416/2183505497.py\"\u001b[1;36m, line \u001b[1;32m1\u001b[0m\n\u001b[1;33m    v1$ = 100\u001b[0m\n\u001b[1;37m      ^\u001b[0m\n\u001b[1;31mSyntaxError\u001b[0m\u001b[1;31m:\u001b[0m invalid syntax\n"
     ]
    }
   ],
   "source": [
    "v1$ = 100"
   ]
  },
  {
   "cell_type": "code",
   "execution_count": 11,
   "id": "f99e7a81",
   "metadata": {},
   "outputs": [],
   "source": [
    "_v1 = 111"
   ]
  },
  {
   "cell_type": "code",
   "execution_count": 12,
   "id": "f4e61a0b",
   "metadata": {},
   "outputs": [
    {
     "name": "stdout",
     "output_type": "stream",
     "text": [
      "111\n"
     ]
    }
   ],
   "source": [
    "print(_v1)"
   ]
  },
  {
   "cell_type": "code",
   "execution_count": 13,
   "id": "5b11e6ef",
   "metadata": {},
   "outputs": [],
   "source": [
    "_ = 222"
   ]
  },
  {
   "cell_type": "code",
   "execution_count": 14,
   "id": "7b9810a8",
   "metadata": {},
   "outputs": [
    {
     "name": "stdout",
     "output_type": "stream",
     "text": [
      "222\n"
     ]
    }
   ],
   "source": [
    "print(_)"
   ]
  },
  {
   "cell_type": "code",
   "execution_count": 15,
   "id": "d91f420c",
   "metadata": {},
   "outputs": [],
   "source": [
    "#to get the address of variable\n",
    "v1 = 100"
   ]
  },
  {
   "cell_type": "code",
   "execution_count": 16,
   "id": "cc2d5f47",
   "metadata": {},
   "outputs": [
    {
     "name": "stdout",
     "output_type": "stream",
     "text": [
      "100\n"
     ]
    }
   ],
   "source": [
    "print(v1)"
   ]
  },
  {
   "cell_type": "code",
   "execution_count": 17,
   "id": "63adb02c",
   "metadata": {},
   "outputs": [
    {
     "data": {
      "text/plain": [
       "2712421094864"
      ]
     },
     "execution_count": 17,
     "metadata": {},
     "output_type": "execute_result"
    }
   ],
   "source": [
    "id(v1)"
   ]
  },
  {
   "cell_type": "code",
   "execution_count": 18,
   "id": "41c9ba73",
   "metadata": {},
   "outputs": [],
   "source": [
    "#loosely typed variables"
   ]
  },
  {
   "cell_type": "code",
   "execution_count": 19,
   "id": "424bad1f",
   "metadata": {},
   "outputs": [],
   "source": [
    "a=100"
   ]
  },
  {
   "cell_type": "code",
   "execution_count": 20,
   "id": "514cf4dc",
   "metadata": {},
   "outputs": [],
   "source": [
    "a=\"hi\""
   ]
  },
  {
   "cell_type": "code",
   "execution_count": 21,
   "id": "539c5272",
   "metadata": {},
   "outputs": [],
   "source": [
    "a=10.45"
   ]
  },
  {
   "cell_type": "code",
   "execution_count": 22,
   "id": "026daf1d",
   "metadata": {},
   "outputs": [
    {
     "name": "stdout",
     "output_type": "stream",
     "text": [
      "10.45\n"
     ]
    }
   ],
   "source": [
    "print(a)"
   ]
  },
  {
   "cell_type": "raw",
   "id": "78a8a3b3",
   "metadata": {},
   "source": [
    "#Data types\n",
    "integer(all numerics), Float(all decimals), string(single or double quoted data) , NoneType(None), Boolean(True,False)"
   ]
  },
  {
   "cell_type": "code",
   "execution_count": 23,
   "id": "bb757fe0",
   "metadata": {},
   "outputs": [
    {
     "data": {
      "text/plain": [
       "int"
      ]
     },
     "execution_count": 23,
     "metadata": {},
     "output_type": "execute_result"
    }
   ],
   "source": [
    "v1 = 100\n",
    "type(v1)"
   ]
  },
  {
   "cell_type": "code",
   "execution_count": 25,
   "id": "5bd53b9d",
   "metadata": {},
   "outputs": [
    {
     "data": {
      "text/plain": [
       "float"
      ]
     },
     "execution_count": 25,
     "metadata": {},
     "output_type": "execute_result"
    }
   ],
   "source": [
    "v2=10.45\n",
    "type(v2)"
   ]
  },
  {
   "cell_type": "code",
   "execution_count": 26,
   "id": "1b07f31c",
   "metadata": {},
   "outputs": [],
   "source": [
    "v3=\"welcome\"\n",
    "v4='Good Morning'"
   ]
  },
  {
   "cell_type": "code",
   "execution_count": 27,
   "id": "788d5a3a",
   "metadata": {},
   "outputs": [
    {
     "data": {
      "text/plain": [
       "str"
      ]
     },
     "execution_count": 27,
     "metadata": {},
     "output_type": "execute_result"
    }
   ],
   "source": [
    "type(v3)"
   ]
  },
  {
   "cell_type": "code",
   "execution_count": 28,
   "id": "8e93613d",
   "metadata": {},
   "outputs": [
    {
     "data": {
      "text/plain": [
       "str"
      ]
     },
     "execution_count": 28,
     "metadata": {},
     "output_type": "execute_result"
    }
   ],
   "source": [
    "type(v4)"
   ]
  },
  {
   "cell_type": "code",
   "execution_count": 30,
   "id": "76757a20",
   "metadata": {},
   "outputs": [
    {
     "data": {
      "text/plain": [
       "NoneType"
      ]
     },
     "execution_count": 30,
     "metadata": {},
     "output_type": "execute_result"
    }
   ],
   "source": [
    "v5 = None\n",
    "type(v5)"
   ]
  },
  {
   "cell_type": "code",
   "execution_count": 31,
   "id": "0f248a04",
   "metadata": {},
   "outputs": [
    {
     "data": {
      "text/plain": [
       "bool"
      ]
     },
     "execution_count": 31,
     "metadata": {},
     "output_type": "execute_result"
    }
   ],
   "source": [
    "v6 = True\n",
    "type(v6)"
   ]
  },
  {
   "cell_type": "code",
   "execution_count": 32,
   "id": "fd363721",
   "metadata": {},
   "outputs": [
    {
     "data": {
      "text/plain": [
       "bool"
      ]
     },
     "execution_count": 32,
     "metadata": {},
     "output_type": "execute_result"
    }
   ],
   "source": [
    "v7=False\n",
    "type(v7)"
   ]
  },
  {
   "cell_type": "code",
   "execution_count": null,
   "id": "334d50f9",
   "metadata": {},
   "outputs": [],
   "source": [
    "#Operators\n",
    "#python is acts like basic caliculator\n",
    "#arthematic , relational , logical , comparision , assignment , "
   ]
  },
  {
   "cell_type": "code",
   "execution_count": 33,
   "id": "12d02eef",
   "metadata": {},
   "outputs": [
    {
     "data": {
      "text/plain": [
       "2"
      ]
     },
     "execution_count": 33,
     "metadata": {},
     "output_type": "execute_result"
    }
   ],
   "source": [
    "1+1"
   ]
  },
  {
   "cell_type": "code",
   "execution_count": 34,
   "id": "6c4d959d",
   "metadata": {},
   "outputs": [
    {
     "data": {
      "text/plain": [
       "4"
      ]
     },
     "execution_count": 34,
     "metadata": {},
     "output_type": "execute_result"
    }
   ],
   "source": [
    "2*2"
   ]
  },
  {
   "cell_type": "code",
   "execution_count": null,
   "id": "93071306",
   "metadata": {},
   "outputs": [],
   "source": [
    "#arthematic\n",
    "# + , - , * , / , % , ** , //"
   ]
  },
  {
   "cell_type": "code",
   "execution_count": 35,
   "id": "524f4280",
   "metadata": {},
   "outputs": [
    {
     "name": "stdout",
     "output_type": "stream",
     "text": [
      "20\n"
     ]
    }
   ],
   "source": [
    "print(10+10)"
   ]
  },
  {
   "cell_type": "code",
   "execution_count": 36,
   "id": "5b9ee156",
   "metadata": {},
   "outputs": [
    {
     "name": "stdout",
     "output_type": "stream",
     "text": [
      "8\n"
     ]
    }
   ],
   "source": [
    "print(10-2)"
   ]
  },
  {
   "cell_type": "code",
   "execution_count": 37,
   "id": "190647e6",
   "metadata": {},
   "outputs": [
    {
     "name": "stdout",
     "output_type": "stream",
     "text": [
      "6\n"
     ]
    }
   ],
   "source": [
    "print(2*3)"
   ]
  },
  {
   "cell_type": "code",
   "execution_count": 40,
   "id": "65ccede6",
   "metadata": {},
   "outputs": [
    {
     "name": "stdout",
     "output_type": "stream",
     "text": [
      "8\n"
     ]
    }
   ],
   "source": [
    "print(2**3)"
   ]
  },
  {
   "cell_type": "code",
   "execution_count": 42,
   "id": "f9101e86",
   "metadata": {},
   "outputs": [
    {
     "name": "stdout",
     "output_type": "stream",
     "text": [
      "4.0\n"
     ]
    }
   ],
   "source": [
    "print(16**(1/2))"
   ]
  },
  {
   "cell_type": "code",
   "execution_count": 43,
   "id": "1390c52f",
   "metadata": {},
   "outputs": [
    {
     "data": {
      "text/plain": [
       "2.0"
      ]
     },
     "execution_count": 43,
     "metadata": {},
     "output_type": "execute_result"
    }
   ],
   "source": [
    "8**(1/3)"
   ]
  },
  {
   "cell_type": "code",
   "execution_count": 38,
   "id": "83c380b2",
   "metadata": {},
   "outputs": [
    {
     "name": "stdout",
     "output_type": "stream",
     "text": [
      "5.666666666666667\n"
     ]
    }
   ],
   "source": [
    "print(17/3)"
   ]
  },
  {
   "cell_type": "code",
   "execution_count": 39,
   "id": "4f2f722a",
   "metadata": {},
   "outputs": [
    {
     "name": "stdout",
     "output_type": "stream",
     "text": [
      "5\n"
     ]
    }
   ],
   "source": [
    "print(17//3)"
   ]
  },
  {
   "cell_type": "code",
   "execution_count": 44,
   "id": "53851ebd",
   "metadata": {},
   "outputs": [
    {
     "name": "stdout",
     "output_type": "stream",
     "text": [
      "1\n"
     ]
    }
   ],
   "source": [
    "#remainder\n",
    "print(5%2)"
   ]
  },
  {
   "cell_type": "raw",
   "id": "fbdb7b1d",
   "metadata": {},
   "source": [
    "#comparison => output of any comparison is boolean value(True or False)\n",
    "> , < , == , != , >=, <=, is"
   ]
  },
  {
   "cell_type": "code",
   "execution_count": 45,
   "id": "d6446c72",
   "metadata": {},
   "outputs": [
    {
     "name": "stdout",
     "output_type": "stream",
     "text": [
      "True\n"
     ]
    }
   ],
   "source": [
    "print(5>3)"
   ]
  },
  {
   "cell_type": "code",
   "execution_count": 46,
   "id": "bd7cc9af",
   "metadata": {},
   "outputs": [
    {
     "name": "stdout",
     "output_type": "stream",
     "text": [
      "False\n"
     ]
    }
   ],
   "source": [
    "print(5<3)"
   ]
  },
  {
   "cell_type": "code",
   "execution_count": 47,
   "id": "dd507dfb",
   "metadata": {},
   "outputs": [
    {
     "name": "stdout",
     "output_type": "stream",
     "text": [
      "False\n"
     ]
    }
   ],
   "source": [
    "print(5==3)"
   ]
  },
  {
   "cell_type": "code",
   "execution_count": 48,
   "id": "ead19b4c",
   "metadata": {},
   "outputs": [
    {
     "name": "stdout",
     "output_type": "stream",
     "text": [
      "True\n"
     ]
    }
   ],
   "source": [
    "print(5==5)"
   ]
  },
  {
   "cell_type": "code",
   "execution_count": 49,
   "id": "156e4464",
   "metadata": {},
   "outputs": [
    {
     "name": "stdout",
     "output_type": "stream",
     "text": [
      "True\n"
     ]
    }
   ],
   "source": [
    "print(5==5.0)"
   ]
  },
  {
   "cell_type": "code",
   "execution_count": 50,
   "id": "170b357b",
   "metadata": {},
   "outputs": [
    {
     "name": "stdout",
     "output_type": "stream",
     "text": [
      "False\n"
     ]
    }
   ],
   "source": [
    "print(5==\"5\")"
   ]
  },
  {
   "cell_type": "code",
   "execution_count": 51,
   "id": "8938d58d",
   "metadata": {},
   "outputs": [
    {
     "name": "stdout",
     "output_type": "stream",
     "text": [
      "False\n"
     ]
    }
   ],
   "source": [
    "print(5>5)"
   ]
  },
  {
   "cell_type": "code",
   "execution_count": 52,
   "id": "1a311ef9",
   "metadata": {},
   "outputs": [
    {
     "name": "stdout",
     "output_type": "stream",
     "text": [
      "True\n"
     ]
    }
   ],
   "source": [
    "print(5>=5)"
   ]
  },
  {
   "cell_type": "code",
   "execution_count": 53,
   "id": "38e4b065",
   "metadata": {},
   "outputs": [
    {
     "name": "stdout",
     "output_type": "stream",
     "text": [
      "False\n"
     ]
    }
   ],
   "source": [
    "print(5!=5)"
   ]
  },
  {
   "cell_type": "code",
   "execution_count": null,
   "id": "6decda26",
   "metadata": {},
   "outputs": [],
   "source": [
    "# is operator or is not"
   ]
  },
  {
   "cell_type": "code",
   "execution_count": 54,
   "id": "2b1efbbf",
   "metadata": {},
   "outputs": [
    {
     "name": "stdout",
     "output_type": "stream",
     "text": [
      "True\n"
     ]
    }
   ],
   "source": [
    "print(5==5)"
   ]
  },
  {
   "cell_type": "code",
   "execution_count": 55,
   "id": "6a23c900",
   "metadata": {},
   "outputs": [
    {
     "name": "stdout",
     "output_type": "stream",
     "text": [
      "True\n"
     ]
    }
   ],
   "source": [
    "print(5==5.0)"
   ]
  },
  {
   "cell_type": "code",
   "execution_count": 56,
   "id": "20e82130",
   "metadata": {},
   "outputs": [
    {
     "name": "stdout",
     "output_type": "stream",
     "text": [
      "True\n"
     ]
    },
    {
     "name": "stderr",
     "output_type": "stream",
     "text": [
      "<>:1: SyntaxWarning: \"is\" with a literal. Did you mean \"==\"?\n",
      "<>:1: SyntaxWarning: \"is\" with a literal. Did you mean \"==\"?\n",
      "C:\\Users\\User\\AppData\\Local\\Temp/ipykernel_9416/2244629256.py:1: SyntaxWarning: \"is\" with a literal. Did you mean \"==\"?\n",
      "  print(5 is 5)\n"
     ]
    }
   ],
   "source": [
    "print(5 is 5)"
   ]
  },
  {
   "cell_type": "code",
   "execution_count": 57,
   "id": "55f044e0",
   "metadata": {},
   "outputs": [
    {
     "name": "stdout",
     "output_type": "stream",
     "text": [
      "False\n"
     ]
    },
    {
     "name": "stderr",
     "output_type": "stream",
     "text": [
      "<>:1: SyntaxWarning: \"is\" with a literal. Did you mean \"==\"?\n",
      "<>:1: SyntaxWarning: \"is\" with a literal. Did you mean \"==\"?\n",
      "C:\\Users\\User\\AppData\\Local\\Temp/ipykernel_9416/3611934553.py:1: SyntaxWarning: \"is\" with a literal. Did you mean \"==\"?\n",
      "  print(5 is 5.0)\n"
     ]
    }
   ],
   "source": [
    "print(5 is 5.0)"
   ]
  },
  {
   "cell_type": "code",
   "execution_count": 58,
   "id": "d5d22c6b",
   "metadata": {},
   "outputs": [
    {
     "name": "stdout",
     "output_type": "stream",
     "text": [
      "True\n"
     ]
    },
    {
     "name": "stderr",
     "output_type": "stream",
     "text": [
      "<>:1: SyntaxWarning: \"is not\" with a literal. Did you mean \"!=\"?\n",
      "<>:1: SyntaxWarning: \"is not\" with a literal. Did you mean \"!=\"?\n",
      "C:\\Users\\User\\AppData\\Local\\Temp/ipykernel_9416/701066915.py:1: SyntaxWarning: \"is not\" with a literal. Did you mean \"!=\"?\n",
      "  print(5 is not 5.0)\n"
     ]
    }
   ],
   "source": [
    "print(5 is not 5.0)"
   ]
  },
  {
   "cell_type": "raw",
   "id": "fa0b1b62",
   "metadata": {},
   "source": [
    "#logical operators => and , or "
   ]
  },
  {
   "cell_type": "raw",
   "id": "d69c64fd",
   "metadata": {},
   "source": [
    "# and operator\n",
    "True and True => True\n",
    "True and False = False\n",
    "False and True = False\n",
    "False and False = False"
   ]
  },
  {
   "cell_type": "code",
   "execution_count": 59,
   "id": "914e071f",
   "metadata": {},
   "outputs": [
    {
     "name": "stdout",
     "output_type": "stream",
     "text": [
      "True\n"
     ]
    }
   ],
   "source": [
    "print(5>3 and 3<5)"
   ]
  },
  {
   "cell_type": "raw",
   "id": "eb9470ab",
   "metadata": {},
   "source": [
    "#or operator\n",
    "True or True => True\n",
    "True or False = True\n",
    "False or True = True\n",
    "False or False = False"
   ]
  },
  {
   "cell_type": "code",
   "execution_count": 61,
   "id": "30e90cd1",
   "metadata": {},
   "outputs": [
    {
     "name": "stdout",
     "output_type": "stream",
     "text": [
      "True\n",
      "False\n"
     ]
    }
   ],
   "source": [
    "print(5>3 or 3>5)\n",
    "print(5<3 or 3>5)"
   ]
  },
  {
   "cell_type": "code",
   "execution_count": null,
   "id": "99c19273",
   "metadata": {},
   "outputs": [],
   "source": [
    "#List operator  => in , not in"
   ]
  },
  {
   "cell_type": "code",
   "execution_count": 62,
   "id": "fd9848ec",
   "metadata": {},
   "outputs": [
    {
     "data": {
      "text/plain": [
       "True"
      ]
     },
     "execution_count": 62,
     "metadata": {},
     "output_type": "execute_result"
    }
   ],
   "source": [
    "\"e\" in \"welcome\""
   ]
  },
  {
   "cell_type": "code",
   "execution_count": 63,
   "id": "3e424f42",
   "metadata": {},
   "outputs": [
    {
     "data": {
      "text/plain": [
       "False"
      ]
     },
     "execution_count": 63,
     "metadata": {},
     "output_type": "execute_result"
    }
   ],
   "source": [
    "\"e\" not in \"welcome\""
   ]
  },
  {
   "cell_type": "code",
   "execution_count": 64,
   "id": "59e520d0",
   "metadata": {},
   "outputs": [
    {
     "data": {
      "text/plain": [
       "True"
      ]
     },
     "execution_count": 64,
     "metadata": {},
     "output_type": "execute_result"
    }
   ],
   "source": [
    "\"z\" not in \"welcome\""
   ]
  },
  {
   "cell_type": "raw",
   "id": "c335eac2",
   "metadata": {},
   "source": [
    "#Assignment operator\n",
    "= , += , -=, *=, /=, //=, **="
   ]
  },
  {
   "cell_type": "code",
   "execution_count": null,
   "id": "37bdb43f",
   "metadata": {},
   "outputs": [],
   "source": []
  },
  {
   "cell_type": "code",
   "execution_count": null,
   "id": "34fed5b7",
   "metadata": {},
   "outputs": [],
   "source": []
  },
  {
   "cell_type": "code",
   "execution_count": null,
   "id": "80eea1f9",
   "metadata": {},
   "outputs": [],
   "source": []
  },
  {
   "cell_type": "code",
   "execution_count": null,
   "id": "06300430",
   "metadata": {},
   "outputs": [],
   "source": []
  },
  {
   "cell_type": "code",
   "execution_count": null,
   "id": "3231fd4d",
   "metadata": {},
   "outputs": [],
   "source": []
  }
 ],
 "metadata": {
  "kernelspec": {
   "display_name": "Python 3 (ipykernel)",
   "language": "python",
   "name": "python3"
  },
  "language_info": {
   "codemirror_mode": {
    "name": "ipython",
    "version": 3
   },
   "file_extension": ".py",
   "mimetype": "text/x-python",
   "name": "python",
   "nbconvert_exporter": "python",
   "pygments_lexer": "ipython3",
   "version": "3.9.7"
  }
 },
 "nbformat": 4,
 "nbformat_minor": 5
}
