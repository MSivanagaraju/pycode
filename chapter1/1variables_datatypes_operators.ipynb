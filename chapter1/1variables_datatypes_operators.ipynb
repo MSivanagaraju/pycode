{
 "cells": [
  {
   "cell_type": "code",
   "execution_count": null,
   "id": "e356a191",
   "metadata": {},
   "outputs": [],
   "source": [
    "#variables\n",
    "#loosely typed variables\n",
    "#python we can use as basic caliculator"
   ]
  },
  {
   "cell_type": "code",
   "execution_count": 1,
   "id": "c55ca193",
   "metadata": {},
   "outputs": [],
   "source": [
    "v1 = 100"
   ]
  },
  {
   "cell_type": "code",
   "execution_count": 2,
   "id": "08fae25e",
   "metadata": {},
   "outputs": [
    {
     "name": "stdout",
     "output_type": "stream",
     "text": [
      "100\n"
     ]
    }
   ],
   "source": [
    "print(v1)"
   ]
  },
  {
   "cell_type": "code",
   "execution_count": 3,
   "id": "7e9f2977",
   "metadata": {},
   "outputs": [
    {
     "name": "stdout",
     "output_type": "stream",
     "text": [
      "v1\n"
     ]
    }
   ],
   "source": [
    "print('v1')"
   ]
  },
  {
   "cell_type": "code",
   "execution_count": 4,
   "id": "30d8f608",
   "metadata": {},
   "outputs": [
    {
     "ename": "NameError",
     "evalue": "name 'v2' is not defined",
     "output_type": "error",
     "traceback": [
      "\u001b[1;31m---------------------------------------------------------------------------\u001b[0m",
      "\u001b[1;31mNameError\u001b[0m                                 Traceback (most recent call last)",
      "\u001b[1;32m~\\AppData\\Local\\Temp/ipykernel_18524/3110517955.py\u001b[0m in \u001b[0;36m<module>\u001b[1;34m\u001b[0m\n\u001b[1;32m----> 1\u001b[1;33m \u001b[0mprint\u001b[0m\u001b[1;33m(\u001b[0m\u001b[0mv2\u001b[0m\u001b[1;33m)\u001b[0m\u001b[1;33m\u001b[0m\u001b[1;33m\u001b[0m\u001b[0m\n\u001b[0m",
      "\u001b[1;31mNameError\u001b[0m: name 'v2' is not defined"
     ]
    }
   ],
   "source": [
    "print(v2)"
   ]
  },
  {
   "cell_type": "code",
   "execution_count": 5,
   "id": "3717f575",
   "metadata": {},
   "outputs": [
    {
     "ename": "SyntaxError",
     "evalue": "invalid syntax (Temp/ipykernel_18524/547968179.py, line 1)",
     "output_type": "error",
     "traceback": [
      "\u001b[1;36m  File \u001b[1;32m\"C:\\Users\\User\\AppData\\Local\\Temp/ipykernel_18524/547968179.py\"\u001b[1;36m, line \u001b[1;32m1\u001b[0m\n\u001b[1;33m    1v = 100\u001b[0m\n\u001b[1;37m     ^\u001b[0m\n\u001b[1;31mSyntaxError\u001b[0m\u001b[1;31m:\u001b[0m invalid syntax\n"
     ]
    }
   ],
   "source": [
    "1v = 100"
   ]
  },
  {
   "cell_type": "code",
   "execution_count": 6,
   "id": "ec67c566",
   "metadata": {},
   "outputs": [
    {
     "ename": "SyntaxError",
     "evalue": "invalid syntax (Temp/ipykernel_18524/3794103731.py, line 1)",
     "output_type": "error",
     "traceback": [
      "\u001b[1;36m  File \u001b[1;32m\"C:\\Users\\User\\AppData\\Local\\Temp/ipykernel_18524/3794103731.py\"\u001b[1;36m, line \u001b[1;32m1\u001b[0m\n\u001b[1;33m    $v1 = 100\u001b[0m\n\u001b[1;37m    ^\u001b[0m\n\u001b[1;31mSyntaxError\u001b[0m\u001b[1;31m:\u001b[0m invalid syntax\n"
     ]
    }
   ],
   "source": [
    "$v1 = 100"
   ]
  },
  {
   "cell_type": "code",
   "execution_count": 7,
   "id": "682260e0",
   "metadata": {},
   "outputs": [
    {
     "ename": "SyntaxError",
     "evalue": "invalid syntax (Temp/ipykernel_18524/2183505497.py, line 1)",
     "output_type": "error",
     "traceback": [
      "\u001b[1;36m  File \u001b[1;32m\"C:\\Users\\User\\AppData\\Local\\Temp/ipykernel_18524/2183505497.py\"\u001b[1;36m, line \u001b[1;32m1\u001b[0m\n\u001b[1;33m    v1$ = 100\u001b[0m\n\u001b[1;37m      ^\u001b[0m\n\u001b[1;31mSyntaxError\u001b[0m\u001b[1;31m:\u001b[0m invalid syntax\n"
     ]
    }
   ],
   "source": [
    "v1$ = 100"
   ]
  },
  {
   "cell_type": "code",
   "execution_count": 8,
   "id": "c49fa2b8",
   "metadata": {},
   "outputs": [
    {
     "ename": "SyntaxError",
     "evalue": "invalid syntax (Temp/ipykernel_18524/2703067502.py, line 1)",
     "output_type": "error",
     "traceback": [
      "\u001b[1;36m  File \u001b[1;32m\"C:\\Users\\User\\AppData\\Local\\Temp/ipykernel_18524/2703067502.py\"\u001b[1;36m, line \u001b[1;32m1\u001b[0m\n\u001b[1;33m    print(v1$)\u001b[0m\n\u001b[1;37m            ^\u001b[0m\n\u001b[1;31mSyntaxError\u001b[0m\u001b[1;31m:\u001b[0m invalid syntax\n"
     ]
    }
   ],
   "source": [
    "print(v1$)"
   ]
  },
  {
   "cell_type": "code",
   "execution_count": 9,
   "id": "ad7f1b8b",
   "metadata": {},
   "outputs": [
    {
     "ename": "SyntaxError",
     "evalue": "invalid syntax (Temp/ipykernel_18524/2704544811.py, line 1)",
     "output_type": "error",
     "traceback": [
      "\u001b[1;36m  File \u001b[1;32m\"C:\\Users\\User\\AppData\\Local\\Temp/ipykernel_18524/2704544811.py\"\u001b[1;36m, line \u001b[1;32m1\u001b[0m\n\u001b[1;33m    v1@ = 100\u001b[0m\n\u001b[1;37m        ^\u001b[0m\n\u001b[1;31mSyntaxError\u001b[0m\u001b[1;31m:\u001b[0m invalid syntax\n"
     ]
    }
   ],
   "source": [
    "v1@ = 100"
   ]
  },
  {
   "cell_type": "code",
   "execution_count": 10,
   "id": "879060e5",
   "metadata": {},
   "outputs": [],
   "source": [
    "_v1 = 111"
   ]
  },
  {
   "cell_type": "code",
   "execution_count": 11,
   "id": "91652a5d",
   "metadata": {},
   "outputs": [
    {
     "name": "stdout",
     "output_type": "stream",
     "text": [
      "111\n"
     ]
    }
   ],
   "source": [
    "print(_v1)"
   ]
  },
  {
   "cell_type": "code",
   "execution_count": 12,
   "id": "c0705ee6",
   "metadata": {},
   "outputs": [],
   "source": [
    "_ = 222"
   ]
  },
  {
   "cell_type": "code",
   "execution_count": 13,
   "id": "a7451690",
   "metadata": {},
   "outputs": [
    {
     "name": "stdout",
     "output_type": "stream",
     "text": [
      "222\n"
     ]
    }
   ],
   "source": [
    "print(_)"
   ]
  },
  {
   "cell_type": "code",
   "execution_count": 14,
   "id": "8c1c5461",
   "metadata": {},
   "outputs": [],
   "source": [
    "__v1 = 333"
   ]
  },
  {
   "cell_type": "code",
   "execution_count": 15,
   "id": "157dd532",
   "metadata": {},
   "outputs": [
    {
     "name": "stdout",
     "output_type": "stream",
     "text": [
      "333\n"
     ]
    }
   ],
   "source": [
    "print(__v1)"
   ]
  },
  {
   "cell_type": "code",
   "execution_count": 16,
   "id": "8a665e56",
   "metadata": {},
   "outputs": [],
   "source": [
    "__v1__ = 444"
   ]
  },
  {
   "cell_type": "code",
   "execution_count": 17,
   "id": "d83357c0",
   "metadata": {},
   "outputs": [
    {
     "name": "stdout",
     "output_type": "stream",
     "text": [
      "444\n"
     ]
    }
   ],
   "source": [
    "print(__v1__)"
   ]
  },
  {
   "cell_type": "code",
   "execution_count": 18,
   "id": "70d6b290",
   "metadata": {},
   "outputs": [],
   "source": [
    "#to get the address of variable\n",
    "v1 = 100"
   ]
  },
  {
   "cell_type": "code",
   "execution_count": 19,
   "id": "d842857b",
   "metadata": {},
   "outputs": [
    {
     "name": "stdout",
     "output_type": "stream",
     "text": [
      "100\n"
     ]
    }
   ],
   "source": [
    "print(v1)"
   ]
  },
  {
   "cell_type": "code",
   "execution_count": 20,
   "id": "90c7314f",
   "metadata": {},
   "outputs": [
    {
     "data": {
      "text/plain": [
       "1374789522896"
      ]
     },
     "execution_count": 20,
     "metadata": {},
     "output_type": "execute_result"
    }
   ],
   "source": [
    "id(v1)"
   ]
  },
  {
   "cell_type": "code",
   "execution_count": 21,
   "id": "2dee6dac",
   "metadata": {},
   "outputs": [
    {
     "data": {
      "text/plain": [
       "int"
      ]
     },
     "execution_count": 21,
     "metadata": {},
     "output_type": "execute_result"
    }
   ],
   "source": [
    "type(v1)"
   ]
  },
  {
   "cell_type": "code",
   "execution_count": null,
   "id": "6e29927c",
   "metadata": {},
   "outputs": [],
   "source": [
    "#loosely typed variables\n",
    "#a int; strongly typed variables\n",
    "#b float;"
   ]
  },
  {
   "cell_type": "code",
   "execution_count": 22,
   "id": "45c9db51",
   "metadata": {},
   "outputs": [],
   "source": [
    "a=100"
   ]
  },
  {
   "cell_type": "code",
   "execution_count": 23,
   "id": "fb6a9346",
   "metadata": {},
   "outputs": [],
   "source": [
    "a='welcome'"
   ]
  },
  {
   "cell_type": "code",
   "execution_count": 24,
   "id": "0b00f6bc",
   "metadata": {},
   "outputs": [],
   "source": [
    "a=10.45"
   ]
  },
  {
   "cell_type": "code",
   "execution_count": 25,
   "id": "b6c79bfa",
   "metadata": {},
   "outputs": [
    {
     "name": "stdout",
     "output_type": "stream",
     "text": [
      "10.45\n"
     ]
    }
   ],
   "source": [
    "print(a)"
   ]
  },
  {
   "cell_type": "code",
   "execution_count": 26,
   "id": "411711cd",
   "metadata": {},
   "outputs": [
    {
     "name": "stdout",
     "output_type": "stream",
     "text": [
      "10.45\n"
     ]
    },
    {
     "data": {
      "text/plain": [
       "1374871494768"
      ]
     },
     "execution_count": 26,
     "metadata": {},
     "output_type": "execute_result"
    }
   ],
   "source": [
    "print(a)\n",
    "id(a)"
   ]
  },
  {
   "cell_type": "code",
   "execution_count": 27,
   "id": "b87225a8",
   "metadata": {},
   "outputs": [],
   "source": [
    "a=\"hi\""
   ]
  },
  {
   "cell_type": "code",
   "execution_count": 28,
   "id": "fba1cd09",
   "metadata": {},
   "outputs": [
    {
     "name": "stdout",
     "output_type": "stream",
     "text": [
      "hi\n"
     ]
    },
    {
     "data": {
      "text/plain": [
       "1374798490608"
      ]
     },
     "execution_count": 28,
     "metadata": {},
     "output_type": "execute_result"
    }
   ],
   "source": [
    "print(a)\n",
    "id(a)"
   ]
  },
  {
   "cell_type": "code",
   "execution_count": 29,
   "id": "9ae79286",
   "metadata": {},
   "outputs": [],
   "source": [
    "a=10.45"
   ]
  },
  {
   "cell_type": "code",
   "execution_count": 30,
   "id": "c8ea4887",
   "metadata": {},
   "outputs": [
    {
     "name": "stdout",
     "output_type": "stream",
     "text": [
      "10.45\n"
     ]
    },
    {
     "data": {
      "text/plain": [
       "1374871495568"
      ]
     },
     "execution_count": 30,
     "metadata": {},
     "output_type": "execute_result"
    }
   ],
   "source": [
    "print(a)\n",
    "id(a)"
   ]
  },
  {
   "cell_type": "raw",
   "id": "fe7f4829",
   "metadata": {},
   "source": [
    "#Data types\n",
    "integer(all numerics), Float(all decimals), string(single or double quoted data) , NoneType(None), Boolean(True,False)"
   ]
  },
  {
   "cell_type": "code",
   "execution_count": 31,
   "id": "938abfcf",
   "metadata": {},
   "outputs": [
    {
     "data": {
      "text/plain": [
       "int"
      ]
     },
     "execution_count": 31,
     "metadata": {},
     "output_type": "execute_result"
    }
   ],
   "source": [
    "v1 = 100\n",
    "type(v1)"
   ]
  },
  {
   "cell_type": "code",
   "execution_count": 32,
   "id": "4eaec188",
   "metadata": {},
   "outputs": [
    {
     "data": {
      "text/plain": [
       "float"
      ]
     },
     "execution_count": 32,
     "metadata": {},
     "output_type": "execute_result"
    }
   ],
   "source": [
    "v2=10.45\n",
    "type(v2)"
   ]
  },
  {
   "cell_type": "code",
   "execution_count": 33,
   "id": "ece2b12f",
   "metadata": {},
   "outputs": [],
   "source": [
    "v3=\"welcome\"\n",
    "v4='Good Morning'"
   ]
  },
  {
   "cell_type": "code",
   "execution_count": 34,
   "id": "1f962e75",
   "metadata": {},
   "outputs": [
    {
     "data": {
      "text/plain": [
       "str"
      ]
     },
     "execution_count": 34,
     "metadata": {},
     "output_type": "execute_result"
    }
   ],
   "source": [
    "type(v3)"
   ]
  },
  {
   "cell_type": "code",
   "execution_count": 35,
   "id": "9c544963",
   "metadata": {},
   "outputs": [
    {
     "data": {
      "text/plain": [
       "str"
      ]
     },
     "execution_count": 35,
     "metadata": {},
     "output_type": "execute_result"
    }
   ],
   "source": [
    "type(v4)"
   ]
  },
  {
   "cell_type": "code",
   "execution_count": 36,
   "id": "66d4e396",
   "metadata": {},
   "outputs": [
    {
     "data": {
      "text/plain": [
       "NoneType"
      ]
     },
     "execution_count": 36,
     "metadata": {},
     "output_type": "execute_result"
    }
   ],
   "source": [
    "v5 = None\n",
    "type(v5)"
   ]
  },
  {
   "cell_type": "code",
   "execution_count": 37,
   "id": "6f219001",
   "metadata": {},
   "outputs": [
    {
     "data": {
      "text/plain": [
       "bool"
      ]
     },
     "execution_count": 37,
     "metadata": {},
     "output_type": "execute_result"
    }
   ],
   "source": [
    "v6 = True\n",
    "type(v6)"
   ]
  },
  {
   "cell_type": "code",
   "execution_count": 38,
   "id": "d975f176",
   "metadata": {},
   "outputs": [
    {
     "data": {
      "text/plain": [
       "bool"
      ]
     },
     "execution_count": 38,
     "metadata": {},
     "output_type": "execute_result"
    }
   ],
   "source": [
    "v7=False\n",
    "type(v7)"
   ]
  },
  {
   "cell_type": "code",
   "execution_count": 39,
   "id": "df815f41",
   "metadata": {},
   "outputs": [],
   "source": [
    "v8=\"100\"\n",
    "v9='10.46'"
   ]
  },
  {
   "cell_type": "code",
   "execution_count": 40,
   "id": "19035d97",
   "metadata": {},
   "outputs": [
    {
     "data": {
      "text/plain": [
       "str"
      ]
     },
     "execution_count": 40,
     "metadata": {},
     "output_type": "execute_result"
    }
   ],
   "source": [
    "type(v8)"
   ]
  },
  {
   "cell_type": "code",
   "execution_count": 41,
   "id": "688d3216",
   "metadata": {},
   "outputs": [
    {
     "data": {
      "text/plain": [
       "str"
      ]
     },
     "execution_count": 41,
     "metadata": {},
     "output_type": "execute_result"
    }
   ],
   "source": [
    "type(v9)"
   ]
  },
  {
   "cell_type": "code",
   "execution_count": 42,
   "id": "5750f8dd",
   "metadata": {},
   "outputs": [],
   "source": [
    "a=b'welcome'"
   ]
  },
  {
   "cell_type": "code",
   "execution_count": 43,
   "id": "754cba41",
   "metadata": {},
   "outputs": [
    {
     "name": "stdout",
     "output_type": "stream",
     "text": [
      "b'welcome'\n"
     ]
    },
    {
     "data": {
      "text/plain": [
       "bytes"
      ]
     },
     "execution_count": 43,
     "metadata": {},
     "output_type": "execute_result"
    }
   ],
   "source": [
    "print(a)\n",
    "type(a)"
   ]
  },
  {
   "cell_type": "code",
   "execution_count": 44,
   "id": "4e11bacb",
   "metadata": {},
   "outputs": [
    {
     "data": {
      "text/plain": [
       "16"
      ]
     },
     "execution_count": 44,
     "metadata": {},
     "output_type": "execute_result"
    }
   ],
   "source": [
    "pow(4,2)"
   ]
  },
  {
   "cell_type": "code",
   "execution_count": 45,
   "id": "8f49915a",
   "metadata": {},
   "outputs": [
    {
     "data": {
      "text/plain": [
       "(1.2246467991473532e-16+2j)"
      ]
     },
     "execution_count": 45,
     "metadata": {},
     "output_type": "execute_result"
    }
   ],
   "source": [
    "pow(-4,1/2)"
   ]
  },
  {
   "cell_type": "code",
   "execution_count": 46,
   "id": "42712ad7",
   "metadata": {},
   "outputs": [
    {
     "data": {
      "text/plain": [
       "complex"
      ]
     },
     "execution_count": 46,
     "metadata": {},
     "output_type": "execute_result"
    }
   ],
   "source": [
    "type(pow(-4,1/2))"
   ]
  },
  {
   "cell_type": "code",
   "execution_count": null,
   "id": "08c8b338",
   "metadata": {},
   "outputs": [],
   "source": [
    "#Operators\n",
    "#python is acts like basic caliculator\n",
    "#arthematic , relational , logical , comparision , assignment , "
   ]
  },
  {
   "cell_type": "code",
   "execution_count": null,
   "id": "4c90f430",
   "metadata": {},
   "outputs": [],
   "source": [
    "#arthematic\n",
    "# + , - , * , / , % , ** , //"
   ]
  },
  {
   "cell_type": "code",
   "execution_count": 47,
   "id": "d87e7615",
   "metadata": {},
   "outputs": [
    {
     "name": "stdout",
     "output_type": "stream",
     "text": [
      "20\n"
     ]
    }
   ],
   "source": [
    "print(10+10)"
   ]
  },
  {
   "cell_type": "code",
   "execution_count": 48,
   "id": "88ae64c1",
   "metadata": {},
   "outputs": [
    {
     "name": "stdout",
     "output_type": "stream",
     "text": [
      "8\n"
     ]
    }
   ],
   "source": [
    "print(10-2)"
   ]
  },
  {
   "cell_type": "code",
   "execution_count": 49,
   "id": "31df40eb",
   "metadata": {},
   "outputs": [
    {
     "name": "stdout",
     "output_type": "stream",
     "text": [
      "6\n"
     ]
    }
   ],
   "source": [
    "print(2*3)"
   ]
  },
  {
   "cell_type": "code",
   "execution_count": 50,
   "id": "2b7d264c",
   "metadata": {},
   "outputs": [
    {
     "name": "stdout",
     "output_type": "stream",
     "text": [
      "8\n"
     ]
    }
   ],
   "source": [
    "print(2**3)"
   ]
  },
  {
   "cell_type": "code",
   "execution_count": 51,
   "id": "ccb3f419",
   "metadata": {},
   "outputs": [
    {
     "name": "stdout",
     "output_type": "stream",
     "text": [
      "4.0\n"
     ]
    }
   ],
   "source": [
    "print(16**(1/2))"
   ]
  },
  {
   "cell_type": "code",
   "execution_count": 52,
   "id": "8808b2c8",
   "metadata": {},
   "outputs": [
    {
     "data": {
      "text/plain": [
       "2.0"
      ]
     },
     "execution_count": 52,
     "metadata": {},
     "output_type": "execute_result"
    }
   ],
   "source": [
    "8**(1/3)"
   ]
  },
  {
   "cell_type": "code",
   "execution_count": 53,
   "id": "8da93af9",
   "metadata": {},
   "outputs": [
    {
     "name": "stdout",
     "output_type": "stream",
     "text": [
      "5.666666666666667\n"
     ]
    }
   ],
   "source": [
    "print(17/3)"
   ]
  },
  {
   "cell_type": "code",
   "execution_count": 54,
   "id": "49ab61b8",
   "metadata": {},
   "outputs": [
    {
     "name": "stdout",
     "output_type": "stream",
     "text": [
      "5\n"
     ]
    }
   ],
   "source": [
    "#floor division\n",
    "print(17//3)"
   ]
  },
  {
   "cell_type": "code",
   "execution_count": 55,
   "id": "d1f8413c",
   "metadata": {},
   "outputs": [
    {
     "name": "stdout",
     "output_type": "stream",
     "text": [
      "1\n"
     ]
    }
   ],
   "source": [
    "#remainder\n",
    "print(5%2)"
   ]
  },
  {
   "cell_type": "code",
   "execution_count": 56,
   "id": "6c939d03",
   "metadata": {},
   "outputs": [
    {
     "name": "stdout",
     "output_type": "stream",
     "text": [
      "HelloPython\n"
     ]
    }
   ],
   "source": [
    "print(\"Hello\"+\"Python\") #concatenation"
   ]
  },
  {
   "cell_type": "code",
   "execution_count": 57,
   "id": "a8010de7",
   "metadata": {},
   "outputs": [
    {
     "name": "stdout",
     "output_type": "stream",
     "text": [
      "20\n"
     ]
    }
   ],
   "source": [
    "print(10+10)"
   ]
  },
  {
   "cell_type": "code",
   "execution_count": 58,
   "id": "7eb16641",
   "metadata": {},
   "outputs": [
    {
     "name": "stdout",
     "output_type": "stream",
     "text": [
      "20.45\n"
     ]
    }
   ],
   "source": [
    "print(10+10.45)"
   ]
  },
  {
   "cell_type": "code",
   "execution_count": 59,
   "id": "9554d331",
   "metadata": {},
   "outputs": [
    {
     "ename": "TypeError",
     "evalue": "unsupported operand type(s) for +: 'int' and 'str'",
     "output_type": "error",
     "traceback": [
      "\u001b[1;31m---------------------------------------------------------------------------\u001b[0m",
      "\u001b[1;31mTypeError\u001b[0m                                 Traceback (most recent call last)",
      "\u001b[1;32m~\\AppData\\Local\\Temp/ipykernel_18524/603298481.py\u001b[0m in \u001b[0;36m<module>\u001b[1;34m\u001b[0m\n\u001b[1;32m----> 1\u001b[1;33m \u001b[0mprint\u001b[0m\u001b[1;33m(\u001b[0m\u001b[1;36m10\u001b[0m\u001b[1;33m+\u001b[0m\u001b[1;34m\"hi\"\u001b[0m\u001b[1;33m)\u001b[0m\u001b[1;33m\u001b[0m\u001b[1;33m\u001b[0m\u001b[0m\n\u001b[0m",
      "\u001b[1;31mTypeError\u001b[0m: unsupported operand type(s) for +: 'int' and 'str'"
     ]
    }
   ],
   "source": [
    "print(10+\"hi\")"
   ]
  },
  {
   "cell_type": "code",
   "execution_count": 60,
   "id": "04cd5992",
   "metadata": {},
   "outputs": [
    {
     "name": "stdout",
     "output_type": "stream",
     "text": [
      "10 hi\n"
     ]
    }
   ],
   "source": [
    "print(10,'hi')"
   ]
  },
  {
   "cell_type": "raw",
   "id": "8eca5441",
   "metadata": {},
   "source": [
    "#comparison => output of any comparison is boolean value(True or False)\n",
    "> , < , == , != , >=, <=, is"
   ]
  },
  {
   "cell_type": "code",
   "execution_count": 61,
   "id": "c391d8ab",
   "metadata": {},
   "outputs": [
    {
     "name": "stdout",
     "output_type": "stream",
     "text": [
      "True\n"
     ]
    }
   ],
   "source": [
    "print(5>3)"
   ]
  },
  {
   "cell_type": "code",
   "execution_count": 62,
   "id": "056e240a",
   "metadata": {},
   "outputs": [
    {
     "name": "stdout",
     "output_type": "stream",
     "text": [
      "False\n"
     ]
    }
   ],
   "source": [
    "print(5<3)"
   ]
  },
  {
   "cell_type": "code",
   "execution_count": 63,
   "id": "b8708188",
   "metadata": {},
   "outputs": [
    {
     "name": "stdout",
     "output_type": "stream",
     "text": [
      "False\n"
     ]
    }
   ],
   "source": [
    "print(5==3)"
   ]
  },
  {
   "cell_type": "code",
   "execution_count": 64,
   "id": "b1181c45",
   "metadata": {},
   "outputs": [
    {
     "name": "stdout",
     "output_type": "stream",
     "text": [
      "True\n"
     ]
    }
   ],
   "source": [
    "print(5==5)"
   ]
  },
  {
   "cell_type": "code",
   "execution_count": 65,
   "id": "8f3ddbf3",
   "metadata": {},
   "outputs": [
    {
     "name": "stdout",
     "output_type": "stream",
     "text": [
      "True\n"
     ]
    }
   ],
   "source": [
    "print(5==5.0)"
   ]
  },
  {
   "cell_type": "code",
   "execution_count": 66,
   "id": "73545d3c",
   "metadata": {},
   "outputs": [
    {
     "name": "stdout",
     "output_type": "stream",
     "text": [
      "False\n"
     ]
    }
   ],
   "source": [
    "print(5==\"5\")"
   ]
  },
  {
   "cell_type": "code",
   "execution_count": 67,
   "id": "f63196c5",
   "metadata": {},
   "outputs": [
    {
     "name": "stdout",
     "output_type": "stream",
     "text": [
      "False\n"
     ]
    }
   ],
   "source": [
    "print(5>5)"
   ]
  },
  {
   "cell_type": "code",
   "execution_count": 68,
   "id": "a051e178",
   "metadata": {},
   "outputs": [
    {
     "name": "stdout",
     "output_type": "stream",
     "text": [
      "True\n"
     ]
    }
   ],
   "source": [
    "print(5>=5)"
   ]
  },
  {
   "cell_type": "code",
   "execution_count": 69,
   "id": "8bd8f90b",
   "metadata": {},
   "outputs": [
    {
     "name": "stdout",
     "output_type": "stream",
     "text": [
      "False\n"
     ]
    }
   ],
   "source": [
    "print(5!=5)"
   ]
  },
  {
   "cell_type": "code",
   "execution_count": null,
   "id": "b48da876",
   "metadata": {},
   "outputs": [],
   "source": [
    "# \"is\" operator or is not"
   ]
  },
  {
   "cell_type": "code",
   "execution_count": 70,
   "id": "76e41ffc",
   "metadata": {},
   "outputs": [
    {
     "name": "stdout",
     "output_type": "stream",
     "text": [
      "True\n"
     ]
    }
   ],
   "source": [
    "print(5==5)"
   ]
  },
  {
   "cell_type": "code",
   "execution_count": 71,
   "id": "ad9ce877",
   "metadata": {},
   "outputs": [
    {
     "name": "stdout",
     "output_type": "stream",
     "text": [
      "True\n"
     ]
    }
   ],
   "source": [
    "print(5==5.0)"
   ]
  },
  {
   "cell_type": "code",
   "execution_count": 72,
   "id": "3d4ca7af",
   "metadata": {},
   "outputs": [
    {
     "name": "stdout",
     "output_type": "stream",
     "text": [
      "True\n"
     ]
    },
    {
     "name": "stderr",
     "output_type": "stream",
     "text": [
      "<>:1: SyntaxWarning: \"is\" with a literal. Did you mean \"==\"?\n",
      "<>:1: SyntaxWarning: \"is\" with a literal. Did you mean \"==\"?\n",
      "C:\\Users\\User\\AppData\\Local\\Temp/ipykernel_18524/2244629256.py:1: SyntaxWarning: \"is\" with a literal. Did you mean \"==\"?\n",
      "  print(5 is 5)\n"
     ]
    }
   ],
   "source": [
    "print(5 is 5)"
   ]
  },
  {
   "cell_type": "code",
   "execution_count": 73,
   "id": "1fb46bf8",
   "metadata": {},
   "outputs": [
    {
     "name": "stdout",
     "output_type": "stream",
     "text": [
      "False\n"
     ]
    },
    {
     "name": "stderr",
     "output_type": "stream",
     "text": [
      "<>:1: SyntaxWarning: \"is\" with a literal. Did you mean \"==\"?\n",
      "<>:1: SyntaxWarning: \"is\" with a literal. Did you mean \"==\"?\n",
      "C:\\Users\\User\\AppData\\Local\\Temp/ipykernel_18524/3611934553.py:1: SyntaxWarning: \"is\" with a literal. Did you mean \"==\"?\n",
      "  print(5 is 5.0)\n"
     ]
    }
   ],
   "source": [
    "print(5 is 5.0)"
   ]
  },
  {
   "cell_type": "code",
   "execution_count": 74,
   "id": "ad5fdb11",
   "metadata": {},
   "outputs": [
    {
     "name": "stdout",
     "output_type": "stream",
     "text": [
      "True\n"
     ]
    },
    {
     "name": "stderr",
     "output_type": "stream",
     "text": [
      "<>:1: SyntaxWarning: \"is not\" with a literal. Did you mean \"!=\"?\n",
      "<>:1: SyntaxWarning: \"is not\" with a literal. Did you mean \"!=\"?\n",
      "C:\\Users\\User\\AppData\\Local\\Temp/ipykernel_18524/701066915.py:1: SyntaxWarning: \"is not\" with a literal. Did you mean \"!=\"?\n",
      "  print(5 is not 5.0)\n"
     ]
    }
   ],
   "source": [
    "print(5 is not 5.0)"
   ]
  },
  {
   "cell_type": "raw",
   "id": "f5c0a811",
   "metadata": {},
   "source": [
    "#logical operators => and , or "
   ]
  },
  {
   "cell_type": "raw",
   "id": "50a28d59",
   "metadata": {},
   "source": [
    "# and operator\n",
    "True and True => True\n",
    "True and False = False\n",
    "False and True = False\n",
    "False and False = False"
   ]
  },
  {
   "cell_type": "code",
   "execution_count": 76,
   "id": "28ce6531",
   "metadata": {},
   "outputs": [
    {
     "name": "stdout",
     "output_type": "stream",
     "text": [
      "True\n",
      "False\n",
      "False\n"
     ]
    }
   ],
   "source": [
    "print(5>3 and 3<5)\n",
    "print(5>3 and 3>5)\n",
    "print(3>5 and 5>3)"
   ]
  },
  {
   "cell_type": "raw",
   "id": "0c0d20c2",
   "metadata": {},
   "source": [
    "#or operator\n",
    "True or True => True\n",
    "True or False = True\n",
    "False or True = True\n",
    "False or False = False"
   ]
  },
  {
   "cell_type": "code",
   "execution_count": 77,
   "id": "6335106e",
   "metadata": {},
   "outputs": [
    {
     "name": "stdout",
     "output_type": "stream",
     "text": [
      "True\n",
      "True\n",
      "False\n"
     ]
    }
   ],
   "source": [
    "print(5>3 or 3>5)\n",
    "print(5<3 or 3<5)\n",
    "print(5<3 or 3>5)"
   ]
  },
  {
   "cell_type": "code",
   "execution_count": null,
   "id": "ce6068d1",
   "metadata": {},
   "outputs": [],
   "source": [
    "#List operator  => in , not in"
   ]
  },
  {
   "cell_type": "code",
   "execution_count": 78,
   "id": "0392bb90",
   "metadata": {},
   "outputs": [
    {
     "data": {
      "text/plain": [
       "True"
      ]
     },
     "execution_count": 78,
     "metadata": {},
     "output_type": "execute_result"
    }
   ],
   "source": [
    "\"e\" in \"welcome\""
   ]
  },
  {
   "cell_type": "code",
   "execution_count": 79,
   "id": "a20de5c1",
   "metadata": {},
   "outputs": [
    {
     "data": {
      "text/plain": [
       "False"
      ]
     },
     "execution_count": 79,
     "metadata": {},
     "output_type": "execute_result"
    }
   ],
   "source": [
    "\"e\" not in \"welcome\""
   ]
  },
  {
   "cell_type": "code",
   "execution_count": 80,
   "id": "97728aa7",
   "metadata": {},
   "outputs": [
    {
     "data": {
      "text/plain": [
       "True"
      ]
     },
     "execution_count": 80,
     "metadata": {},
     "output_type": "execute_result"
    }
   ],
   "source": [
    "\"z\" not in \"welcome\""
   ]
  },
  {
   "cell_type": "code",
   "execution_count": 81,
   "id": "b0c26371",
   "metadata": {},
   "outputs": [
    {
     "ename": "TypeError",
     "evalue": "argument of type 'int' is not iterable",
     "output_type": "error",
     "traceback": [
      "\u001b[1;31m---------------------------------------------------------------------------\u001b[0m",
      "\u001b[1;31mTypeError\u001b[0m                                 Traceback (most recent call last)",
      "\u001b[1;32m~\\AppData\\Local\\Temp/ipykernel_18524/3916461219.py\u001b[0m in \u001b[0;36m<module>\u001b[1;34m\u001b[0m\n\u001b[1;32m----> 1\u001b[1;33m \u001b[1;36m10\u001b[0m \u001b[1;32min\u001b[0m \u001b[1;36m100\u001b[0m\u001b[1;33m\u001b[0m\u001b[1;33m\u001b[0m\u001b[0m\n\u001b[0m",
      "\u001b[1;31mTypeError\u001b[0m: argument of type 'int' is not iterable"
     ]
    }
   ],
   "source": [
    "10 in 100"
   ]
  },
  {
   "cell_type": "code",
   "execution_count": 82,
   "id": "519ec41e",
   "metadata": {},
   "outputs": [
    {
     "data": {
      "text/plain": [
       "True"
      ]
     },
     "execution_count": 82,
     "metadata": {},
     "output_type": "execute_result"
    }
   ],
   "source": [
    "\"10\" in \"100\""
   ]
  },
  {
   "cell_type": "code",
   "execution_count": 83,
   "id": "d63c7a02",
   "metadata": {},
   "outputs": [
    {
     "data": {
      "text/plain": [
       "True"
      ]
     },
     "execution_count": 83,
     "metadata": {},
     "output_type": "execute_result"
    }
   ],
   "source": [
    "\"10\" in \"6001000\""
   ]
  },
  {
   "cell_type": "raw",
   "id": "ebec32be",
   "metadata": {},
   "source": [
    "#Assignment operator\n",
    "= , += , -=, *=, /=, //=, **="
   ]
  },
  {
   "cell_type": "code",
   "execution_count": 84,
   "id": "145609ae",
   "metadata": {},
   "outputs": [
    {
     "name": "stdout",
     "output_type": "stream",
     "text": [
      "10\n"
     ]
    }
   ],
   "source": [
    "v1 = 10\n",
    "print(v1)"
   ]
  },
  {
   "cell_type": "code",
   "execution_count": 85,
   "id": "cb8bf21a",
   "metadata": {},
   "outputs": [
    {
     "name": "stdout",
     "output_type": "stream",
     "text": [
      "10\n",
      "25\n"
     ]
    }
   ],
   "source": [
    "v2=10\n",
    "print(v2)\n",
    "v2=v2+15\n",
    "print(v2)"
   ]
  },
  {
   "cell_type": "code",
   "execution_count": 86,
   "id": "afb0c8fd",
   "metadata": {},
   "outputs": [
    {
     "name": "stdout",
     "output_type": "stream",
     "text": [
      "25\n"
     ]
    }
   ],
   "source": [
    "v3=10\n",
    "v3+=15 #augmented assignment  => v3 = v3 + 15\n",
    "print(v3)"
   ]
  },
  {
   "cell_type": "code",
   "execution_count": 87,
   "id": "1850e5c8",
   "metadata": {},
   "outputs": [
    {
     "name": "stdout",
     "output_type": "stream",
     "text": [
      "5\n"
     ]
    }
   ],
   "source": [
    "v4=10\n",
    "v4-=5\n",
    "print(v4)"
   ]
  },
  {
   "cell_type": "code",
   "execution_count": 88,
   "id": "491a8793",
   "metadata": {},
   "outputs": [
    {
     "name": "stdout",
     "output_type": "stream",
     "text": [
      "15\n"
     ]
    }
   ],
   "source": [
    "v5=5\n",
    "v5*=3  # v5 = v5*3\n",
    "print(v5)"
   ]
  },
  {
   "cell_type": "code",
   "execution_count": 89,
   "id": "ea09488e",
   "metadata": {},
   "outputs": [
    {
     "name": "stdout",
     "output_type": "stream",
     "text": [
      "3.3333333333333335\n"
     ]
    }
   ],
   "source": [
    "v6=10\n",
    "v6/=3\n",
    "print(v6)"
   ]
  },
  {
   "cell_type": "code",
   "execution_count": 90,
   "id": "977011fd",
   "metadata": {},
   "outputs": [
    {
     "name": "stdout",
     "output_type": "stream",
     "text": [
      "3\n"
     ]
    }
   ],
   "source": [
    "v7=10\n",
    "v7//=3\n",
    "print(v7)"
   ]
  },
  {
   "cell_type": "code",
   "execution_count": 91,
   "id": "337f3877",
   "metadata": {},
   "outputs": [
    {
     "data": {
      "text/plain": [
       "16"
      ]
     },
     "execution_count": 91,
     "metadata": {},
     "output_type": "execute_result"
    }
   ],
   "source": [
    "2**4"
   ]
  },
  {
   "cell_type": "code",
   "execution_count": 92,
   "id": "b994a230",
   "metadata": {},
   "outputs": [
    {
     "name": "stdout",
     "output_type": "stream",
     "text": [
      "16\n"
     ]
    }
   ],
   "source": [
    "v1=2\n",
    "v1**=4 # v8 = v8**4\n",
    "print(v1)"
   ]
  },
  {
   "cell_type": "code",
   "execution_count": null,
   "id": "a5cc37c2",
   "metadata": {},
   "outputs": [],
   "source": [
    "#single and double quotes"
   ]
  },
  {
   "cell_type": "code",
   "execution_count": 93,
   "id": "47d98082",
   "metadata": {},
   "outputs": [
    {
     "name": "stdout",
     "output_type": "stream",
     "text": [
      "welcome to python classes\n"
     ]
    }
   ],
   "source": [
    "print('welcome to python classes')"
   ]
  },
  {
   "cell_type": "code",
   "execution_count": 94,
   "id": "b631a4df",
   "metadata": {},
   "outputs": [
    {
     "name": "stdout",
     "output_type": "stream",
     "text": [
      "welcome to python classes\n"
     ]
    }
   ],
   "source": [
    "print(\"welcome to python classes\")"
   ]
  },
  {
   "cell_type": "code",
   "execution_count": 95,
   "id": "d0c47fab",
   "metadata": {},
   "outputs": [
    {
     "ename": "SyntaxError",
     "evalue": "invalid syntax (Temp/ipykernel_18524/2074167259.py, line 1)",
     "output_type": "error",
     "traceback": [
      "\u001b[1;36m  File \u001b[1;32m\"C:\\Users\\User\\AppData\\Local\\Temp/ipykernel_18524/2074167259.py\"\u001b[1;36m, line \u001b[1;32m1\u001b[0m\n\u001b[1;33m    print('welcome to python's classes')\u001b[0m\n\u001b[1;37m                             ^\u001b[0m\n\u001b[1;31mSyntaxError\u001b[0m\u001b[1;31m:\u001b[0m invalid syntax\n"
     ]
    }
   ],
   "source": [
    "print('welcome to python's classes')"
   ]
  },
  {
   "cell_type": "code",
   "execution_count": 96,
   "id": "ccc22c75",
   "metadata": {},
   "outputs": [
    {
     "name": "stdout",
     "output_type": "stream",
     "text": [
      "welcome to python's classes\n"
     ]
    }
   ],
   "source": [
    "# \\ escape character\n",
    "print('welcome to python\\'s classes')"
   ]
  },
  {
   "cell_type": "code",
   "execution_count": 97,
   "id": "fc27d76c",
   "metadata": {},
   "outputs": [
    {
     "name": "stdout",
     "output_type": "stream",
     "text": [
      "welcome to python's classes\n"
     ]
    }
   ],
   "source": [
    "print(\"welcome to python's classes\")"
   ]
  },
  {
   "cell_type": "code",
   "execution_count": 98,
   "id": "82369df1",
   "metadata": {},
   "outputs": [
    {
     "ename": "SyntaxError",
     "evalue": "invalid syntax (Temp/ipykernel_18524/3787895714.py, line 1)",
     "output_type": "error",
     "traceback": [
      "\u001b[1;36m  File \u001b[1;32m\"C:\\Users\\User\\AppData\\Local\\Temp/ipykernel_18524/3787895714.py\"\u001b[1;36m, line \u001b[1;32m1\u001b[0m\n\u001b[1;33m    print(\"welcome to python\"s classes\")\u001b[0m\n\u001b[1;37m                             ^\u001b[0m\n\u001b[1;31mSyntaxError\u001b[0m\u001b[1;31m:\u001b[0m invalid syntax\n"
     ]
    }
   ],
   "source": [
    "print(\"welcome to python\"s classes\")"
   ]
  },
  {
   "cell_type": "code",
   "execution_count": 99,
   "id": "b4d2a43e",
   "metadata": {},
   "outputs": [
    {
     "name": "stdout",
     "output_type": "stream",
     "text": [
      "welcome to python\"s classes\n"
     ]
    }
   ],
   "source": [
    "print(\"welcome to python\\\"s classes\")"
   ]
  },
  {
   "cell_type": "code",
   "execution_count": 100,
   "id": "7e0a1212",
   "metadata": {},
   "outputs": [
    {
     "name": "stdout",
     "output_type": "stream",
     "text": [
      "welcome to python\" classes\n"
     ]
    }
   ],
   "source": [
    "print('welcome to python\" classes')"
   ]
  },
  {
   "cell_type": "code",
   "execution_count": 101,
   "id": "67928681",
   "metadata": {},
   "outputs": [
    {
     "name": "stdout",
     "output_type": "stream",
     "text": [
      "hello100\n"
     ]
    }
   ],
   "source": [
    "print(\"hello100\")"
   ]
  },
  {
   "cell_type": "code",
   "execution_count": 102,
   "id": "3209339d",
   "metadata": {},
   "outputs": [
    {
     "name": "stdout",
     "output_type": "stream",
     "text": [
      "100\n"
     ]
    }
   ],
   "source": [
    "print(\"100\")"
   ]
  },
  {
   "cell_type": "code",
   "execution_count": 103,
   "id": "d4f95075",
   "metadata": {},
   "outputs": [
    {
     "name": "stdout",
     "output_type": "stream",
     "text": [
      "10.45\n"
     ]
    }
   ],
   "source": [
    "print(\"10.45\")"
   ]
  },
  {
   "cell_type": "raw",
   "id": "0e1f4955",
   "metadata": {},
   "source": [
    "#type conversion\n",
    "int , float , string "
   ]
  },
  {
   "cell_type": "code",
   "execution_count": 104,
   "id": "28c6cdf4",
   "metadata": {},
   "outputs": [],
   "source": [
    "#int conversion\n",
    "v1=100"
   ]
  },
  {
   "cell_type": "code",
   "execution_count": 105,
   "id": "6bf5886b",
   "metadata": {},
   "outputs": [
    {
     "data": {
      "text/plain": [
       "'100'"
      ]
     },
     "execution_count": 105,
     "metadata": {},
     "output_type": "execute_result"
    }
   ],
   "source": [
    "str(v1)"
   ]
  },
  {
   "cell_type": "code",
   "execution_count": 106,
   "id": "6e493f47",
   "metadata": {},
   "outputs": [
    {
     "data": {
      "text/plain": [
       "100.0"
      ]
     },
     "execution_count": 106,
     "metadata": {},
     "output_type": "execute_result"
    }
   ],
   "source": [
    "float(v1)"
   ]
  },
  {
   "cell_type": "code",
   "execution_count": 107,
   "id": "7259fbc3",
   "metadata": {},
   "outputs": [
    {
     "data": {
      "text/plain": [
       "True"
      ]
     },
     "execution_count": 107,
     "metadata": {},
     "output_type": "execute_result"
    }
   ],
   "source": [
    "bool(v1)"
   ]
  },
  {
   "cell_type": "code",
   "execution_count": 108,
   "id": "1609aad2",
   "metadata": {},
   "outputs": [],
   "source": [
    "v2=10.45"
   ]
  },
  {
   "cell_type": "code",
   "execution_count": 109,
   "id": "5a9c7dfe",
   "metadata": {},
   "outputs": [
    {
     "data": {
      "text/plain": [
       "'10.45'"
      ]
     },
     "execution_count": 109,
     "metadata": {},
     "output_type": "execute_result"
    }
   ],
   "source": [
    "str(v2)"
   ]
  },
  {
   "cell_type": "code",
   "execution_count": 110,
   "id": "1e05ef42",
   "metadata": {},
   "outputs": [
    {
     "data": {
      "text/plain": [
       "10"
      ]
     },
     "execution_count": 110,
     "metadata": {},
     "output_type": "execute_result"
    }
   ],
   "source": [
    "int(v2)"
   ]
  },
  {
   "cell_type": "code",
   "execution_count": 111,
   "id": "e9bc825d",
   "metadata": {},
   "outputs": [],
   "source": [
    "v3=\"hi\""
   ]
  },
  {
   "cell_type": "code",
   "execution_count": 112,
   "id": "e13590e0",
   "metadata": {},
   "outputs": [
    {
     "ename": "ValueError",
     "evalue": "invalid literal for int() with base 10: 'hi'",
     "output_type": "error",
     "traceback": [
      "\u001b[1;31m---------------------------------------------------------------------------\u001b[0m",
      "\u001b[1;31mValueError\u001b[0m                                Traceback (most recent call last)",
      "\u001b[1;32m~\\AppData\\Local\\Temp/ipykernel_18524/3282414284.py\u001b[0m in \u001b[0;36m<module>\u001b[1;34m\u001b[0m\n\u001b[1;32m----> 1\u001b[1;33m \u001b[0mint\u001b[0m\u001b[1;33m(\u001b[0m\u001b[0mv3\u001b[0m\u001b[1;33m)\u001b[0m\u001b[1;33m\u001b[0m\u001b[1;33m\u001b[0m\u001b[0m\n\u001b[0m",
      "\u001b[1;31mValueError\u001b[0m: invalid literal for int() with base 10: 'hi'"
     ]
    }
   ],
   "source": [
    "int(v3)"
   ]
  },
  {
   "cell_type": "code",
   "execution_count": 113,
   "id": "d0f6a442",
   "metadata": {},
   "outputs": [
    {
     "ename": "ValueError",
     "evalue": "could not convert string to float: 'hi'",
     "output_type": "error",
     "traceback": [
      "\u001b[1;31m---------------------------------------------------------------------------\u001b[0m",
      "\u001b[1;31mValueError\u001b[0m                                Traceback (most recent call last)",
      "\u001b[1;32m~\\AppData\\Local\\Temp/ipykernel_18524/3824121224.py\u001b[0m in \u001b[0;36m<module>\u001b[1;34m\u001b[0m\n\u001b[1;32m----> 1\u001b[1;33m \u001b[0mfloat\u001b[0m\u001b[1;33m(\u001b[0m\u001b[0mv3\u001b[0m\u001b[1;33m)\u001b[0m\u001b[1;33m\u001b[0m\u001b[1;33m\u001b[0m\u001b[0m\n\u001b[0m",
      "\u001b[1;31mValueError\u001b[0m: could not convert string to float: 'hi'"
     ]
    }
   ],
   "source": [
    "float(v3)"
   ]
  },
  {
   "cell_type": "code",
   "execution_count": 114,
   "id": "a0294345",
   "metadata": {},
   "outputs": [],
   "source": [
    "v4=\"100\""
   ]
  },
  {
   "cell_type": "code",
   "execution_count": 115,
   "id": "64ff90da",
   "metadata": {},
   "outputs": [
    {
     "data": {
      "text/plain": [
       "100"
      ]
     },
     "execution_count": 115,
     "metadata": {},
     "output_type": "execute_result"
    }
   ],
   "source": [
    "int(v4)"
   ]
  },
  {
   "cell_type": "code",
   "execution_count": 116,
   "id": "b9b1fec2",
   "metadata": {},
   "outputs": [
    {
     "data": {
      "text/plain": [
       "100.0"
      ]
     },
     "execution_count": 116,
     "metadata": {},
     "output_type": "execute_result"
    }
   ],
   "source": [
    "float(v4)"
   ]
  },
  {
   "cell_type": "code",
   "execution_count": 117,
   "id": "ff7f28c6",
   "metadata": {},
   "outputs": [],
   "source": [
    "v4=\"10.45\""
   ]
  },
  {
   "cell_type": "code",
   "execution_count": 118,
   "id": "1575d394",
   "metadata": {},
   "outputs": [
    {
     "ename": "ValueError",
     "evalue": "invalid literal for int() with base 10: '10.45'",
     "output_type": "error",
     "traceback": [
      "\u001b[1;31m---------------------------------------------------------------------------\u001b[0m",
      "\u001b[1;31mValueError\u001b[0m                                Traceback (most recent call last)",
      "\u001b[1;32m~\\AppData\\Local\\Temp/ipykernel_18524/3195057810.py\u001b[0m in \u001b[0;36m<module>\u001b[1;34m\u001b[0m\n\u001b[1;32m----> 1\u001b[1;33m \u001b[0mint\u001b[0m\u001b[1;33m(\u001b[0m\u001b[0mv4\u001b[0m\u001b[1;33m)\u001b[0m\u001b[1;33m\u001b[0m\u001b[1;33m\u001b[0m\u001b[0m\n\u001b[0m",
      "\u001b[1;31mValueError\u001b[0m: invalid literal for int() with base 10: '10.45'"
     ]
    }
   ],
   "source": [
    "int(v4)"
   ]
  },
  {
   "cell_type": "code",
   "execution_count": 119,
   "id": "b9714ce2",
   "metadata": {},
   "outputs": [
    {
     "data": {
      "text/plain": [
       "10.45"
      ]
     },
     "execution_count": 119,
     "metadata": {},
     "output_type": "execute_result"
    }
   ],
   "source": [
    "float(v4)"
   ]
  },
  {
   "cell_type": "code",
   "execution_count": 120,
   "id": "efaaa590",
   "metadata": {},
   "outputs": [
    {
     "data": {
      "text/plain": [
       "10"
      ]
     },
     "execution_count": 120,
     "metadata": {},
     "output_type": "execute_result"
    }
   ],
   "source": [
    "int(float(v4))"
   ]
  },
  {
   "cell_type": "markdown",
   "id": "0fc3c619",
   "metadata": {},
   "source": [
    "# Indexing and slicing"
   ]
  },
  {
   "cell_type": "code",
   "execution_count": 121,
   "id": "f255c400",
   "metadata": {},
   "outputs": [
    {
     "name": "stdout",
     "output_type": "stream",
     "text": [
      "10\n"
     ]
    }
   ],
   "source": [
    "v1 = 10\n",
    "print(v1)"
   ]
  },
  {
   "cell_type": "code",
   "execution_count": 122,
   "id": "df5a42a2",
   "metadata": {},
   "outputs": [
    {
     "data": {
      "text/plain": [
       "1374789331536"
      ]
     },
     "execution_count": 122,
     "metadata": {},
     "output_type": "execute_result"
    }
   ],
   "source": [
    "id(v1)"
   ]
  },
  {
   "cell_type": "code",
   "execution_count": 123,
   "id": "17f6d83c",
   "metadata": {},
   "outputs": [
    {
     "name": "stdout",
     "output_type": "stream",
     "text": [
      "10\n"
     ]
    }
   ],
   "source": [
    "print(v1)"
   ]
  },
  {
   "cell_type": "code",
   "execution_count": 124,
   "id": "a3ec3382",
   "metadata": {},
   "outputs": [
    {
     "name": "stdout",
     "output_type": "stream",
     "text": [
      "python\n"
     ]
    }
   ],
   "source": [
    "v2 = \"python\"\n",
    "print(v2)"
   ]
  },
  {
   "cell_type": "code",
   "execution_count": null,
   "id": "40d1532d",
   "metadata": {},
   "outputs": [],
   "source": [
    "#indexing "
   ]
  },
  {
   "cell_type": "code",
   "execution_count": 125,
   "id": "e6ddedbf",
   "metadata": {},
   "outputs": [
    {
     "data": {
      "text/plain": [
       "1374833409776"
      ]
     },
     "execution_count": 125,
     "metadata": {},
     "output_type": "execute_result"
    }
   ],
   "source": [
    "id(v2)"
   ]
  },
  {
   "cell_type": "code",
   "execution_count": 126,
   "id": "3369a137",
   "metadata": {},
   "outputs": [
    {
     "data": {
      "text/plain": [
       "'p'"
      ]
     },
     "execution_count": 126,
     "metadata": {},
     "output_type": "execute_result"
    }
   ],
   "source": [
    "v2[0]"
   ]
  },
  {
   "cell_type": "code",
   "execution_count": 127,
   "id": "f62bdc0a",
   "metadata": {},
   "outputs": [
    {
     "data": {
      "text/plain": [
       "'p'"
      ]
     },
     "execution_count": 127,
     "metadata": {},
     "output_type": "execute_result"
    }
   ],
   "source": [
    "v2[-6]"
   ]
  },
  {
   "cell_type": "code",
   "execution_count": 128,
   "id": "70c34be3",
   "metadata": {},
   "outputs": [
    {
     "data": {
      "text/plain": [
       "1374789790768"
      ]
     },
     "execution_count": 128,
     "metadata": {},
     "output_type": "execute_result"
    }
   ],
   "source": [
    "id(v2[0])"
   ]
  },
  {
   "cell_type": "code",
   "execution_count": 129,
   "id": "7d927000",
   "metadata": {},
   "outputs": [
    {
     "data": {
      "text/plain": [
       "'python'"
      ]
     },
     "execution_count": 129,
     "metadata": {},
     "output_type": "execute_result"
    }
   ],
   "source": [
    "v2"
   ]
  },
  {
   "cell_type": "code",
   "execution_count": 130,
   "id": "356de2c6",
   "metadata": {},
   "outputs": [
    {
     "data": {
      "text/plain": [
       "'y'"
      ]
     },
     "execution_count": 130,
     "metadata": {},
     "output_type": "execute_result"
    }
   ],
   "source": [
    "v2[1]"
   ]
  },
  {
   "cell_type": "code",
   "execution_count": 131,
   "id": "9c01e5fd",
   "metadata": {},
   "outputs": [
    {
     "data": {
      "text/plain": [
       "'p'"
      ]
     },
     "execution_count": 131,
     "metadata": {},
     "output_type": "execute_result"
    }
   ],
   "source": [
    "v2[-6]"
   ]
  },
  {
   "cell_type": "code",
   "execution_count": 132,
   "id": "a4937cdb",
   "metadata": {},
   "outputs": [
    {
     "data": {
      "text/plain": [
       "1374833409776"
      ]
     },
     "execution_count": 132,
     "metadata": {},
     "output_type": "execute_result"
    }
   ],
   "source": [
    "id(v2)"
   ]
  },
  {
   "cell_type": "code",
   "execution_count": 133,
   "id": "be683736",
   "metadata": {},
   "outputs": [
    {
     "data": {
      "text/plain": [
       "1374789790768"
      ]
     },
     "execution_count": 133,
     "metadata": {},
     "output_type": "execute_result"
    }
   ],
   "source": [
    "id(v2[0])"
   ]
  },
  {
   "cell_type": "code",
   "execution_count": 134,
   "id": "1c4a0780",
   "metadata": {},
   "outputs": [
    {
     "data": {
      "text/plain": [
       "1374789790768"
      ]
     },
     "execution_count": 134,
     "metadata": {},
     "output_type": "execute_result"
    }
   ],
   "source": [
    "id(v2[-6])"
   ]
  },
  {
   "cell_type": "code",
   "execution_count": 135,
   "id": "c15b4901",
   "metadata": {},
   "outputs": [
    {
     "data": {
      "text/plain": [
       "1374789790768"
      ]
     },
     "execution_count": 135,
     "metadata": {},
     "output_type": "execute_result"
    }
   ],
   "source": [
    "id(v2[0])"
   ]
  },
  {
   "cell_type": "code",
   "execution_count": 136,
   "id": "028642f2",
   "metadata": {},
   "outputs": [],
   "source": [
    "x='p'"
   ]
  },
  {
   "cell_type": "code",
   "execution_count": 137,
   "id": "f9b2474f",
   "metadata": {},
   "outputs": [
    {
     "data": {
      "text/plain": [
       "1374789790768"
      ]
     },
     "execution_count": 137,
     "metadata": {},
     "output_type": "execute_result"
    }
   ],
   "source": [
    "id(x)"
   ]
  },
  {
   "cell_type": "raw",
   "id": "cb47204a",
   "metadata": {},
   "source": [
    "#slicing: it is used to retrive more than one element\n",
    "object [ start=0 : stop=end : step=1 ]"
   ]
  },
  {
   "cell_type": "code",
   "execution_count": 138,
   "id": "2e3bd22c",
   "metadata": {},
   "outputs": [],
   "source": [
    "v2 = \"welcome\""
   ]
  },
  {
   "cell_type": "code",
   "execution_count": 139,
   "id": "e74c60fc",
   "metadata": {},
   "outputs": [
    {
     "data": {
      "text/plain": [
       "'welcome'"
      ]
     },
     "execution_count": 139,
     "metadata": {},
     "output_type": "execute_result"
    }
   ],
   "source": [
    "v2"
   ]
  },
  {
   "cell_type": "code",
   "execution_count": 140,
   "id": "d25b6374",
   "metadata": {},
   "outputs": [
    {
     "data": {
      "text/plain": [
       "'welcome'"
      ]
     },
     "execution_count": 140,
     "metadata": {},
     "output_type": "execute_result"
    }
   ],
   "source": [
    "v2[:]  # v2[0:end:1]  next = start + step"
   ]
  },
  {
   "cell_type": "code",
   "execution_count": 141,
   "id": "e9dc1597",
   "metadata": {},
   "outputs": [
    {
     "data": {
      "text/plain": [
       "'welcome'"
      ]
     },
     "execution_count": 141,
     "metadata": {},
     "output_type": "execute_result"
    }
   ],
   "source": [
    "v2[::] # v2[0:end:1]  next = start + step"
   ]
  },
  {
   "cell_type": "code",
   "execution_count": 142,
   "id": "ba53f097",
   "metadata": {},
   "outputs": [
    {
     "data": {
      "text/plain": [
       "'welcome'"
      ]
     },
     "execution_count": 142,
     "metadata": {},
     "output_type": "execute_result"
    }
   ],
   "source": [
    "v2[::1] # v2[0:end:1]  next = start + step"
   ]
  },
  {
   "cell_type": "code",
   "execution_count": 143,
   "id": "04a141e0",
   "metadata": {},
   "outputs": [
    {
     "data": {
      "text/plain": [
       "'wloe'"
      ]
     },
     "execution_count": 143,
     "metadata": {},
     "output_type": "execute_result"
    }
   ],
   "source": [
    "v2[::2] # v2[0:end:2]  next = start + step"
   ]
  },
  {
   "cell_type": "code",
   "execution_count": 144,
   "id": "6c6df0b5",
   "metadata": {},
   "outputs": [
    {
     "data": {
      "text/plain": [
       "'wce'"
      ]
     },
     "execution_count": 144,
     "metadata": {},
     "output_type": "execute_result"
    }
   ],
   "source": [
    "v2[::3] # v2[0:end:3]  next = start + step"
   ]
  },
  {
   "cell_type": "code",
   "execution_count": 145,
   "id": "4913bef4",
   "metadata": {},
   "outputs": [
    {
     "data": {
      "text/plain": [
       "'welc'"
      ]
     },
     "execution_count": 145,
     "metadata": {},
     "output_type": "execute_result"
    }
   ],
   "source": [
    "v2[:4] # v2[0:4:1] ==> 0(w),1(e),2(l),3(c)"
   ]
  },
  {
   "cell_type": "raw",
   "id": "1c77e503",
   "metadata": {},
   "source": [
    "v2 = \"welcome\"\n",
    "0123456\n",
    "welcome\n",
    "-7-6-5-4-3-2-1"
   ]
  },
  {
   "cell_type": "code",
   "execution_count": 146,
   "id": "338aa627",
   "metadata": {},
   "outputs": [
    {
     "data": {
      "text/plain": [
       "'come'"
      ]
     },
     "execution_count": 146,
     "metadata": {},
     "output_type": "execute_result"
    }
   ],
   "source": [
    "v2[3:]  # v2[3:end:1] => 3,4,5,6,7,8,9,10,11"
   ]
  },
  {
   "cell_type": "code",
   "execution_count": 147,
   "id": "b832e1b5",
   "metadata": {},
   "outputs": [
    {
     "data": {
      "text/plain": [
       "'cm'"
      ]
     },
     "execution_count": 147,
     "metadata": {},
     "output_type": "execute_result"
    }
   ],
   "source": [
    "v2[3::2]  # v2[3:end:2] => 3,5,7,9,11"
   ]
  },
  {
   "cell_type": "code",
   "execution_count": 148,
   "id": "a31f5281",
   "metadata": {},
   "outputs": [
    {
     "data": {
      "text/plain": [
       "'lco'"
      ]
     },
     "execution_count": 148,
     "metadata": {},
     "output_type": "execute_result"
    }
   ],
   "source": [
    "v2[2:5]"
   ]
  },
  {
   "cell_type": "code",
   "execution_count": 149,
   "id": "5fab7515",
   "metadata": {},
   "outputs": [],
   "source": [
    "v3=\"welcome to python\""
   ]
  },
  {
   "cell_type": "code",
   "execution_count": 150,
   "id": "106c861c",
   "metadata": {},
   "outputs": [
    {
     "data": {
      "text/plain": [
       "'welcome to python'"
      ]
     },
     "execution_count": 150,
     "metadata": {},
     "output_type": "execute_result"
    }
   ],
   "source": [
    "v3[::]"
   ]
  },
  {
   "cell_type": "code",
   "execution_count": 151,
   "id": "cf451ec4",
   "metadata": {},
   "outputs": [
    {
     "data": {
      "text/plain": [
       "'welcome to python'"
      ]
     },
     "execution_count": 151,
     "metadata": {},
     "output_type": "execute_result"
    }
   ],
   "source": [
    "v3[::1]"
   ]
  },
  {
   "cell_type": "code",
   "execution_count": 152,
   "id": "1f8a722c",
   "metadata": {},
   "outputs": [
    {
     "data": {
      "text/plain": [
       "'wloet yhn'"
      ]
     },
     "execution_count": 152,
     "metadata": {},
     "output_type": "execute_result"
    }
   ],
   "source": [
    "v3[::2]"
   ]
  },
  {
   "cell_type": "code",
   "execution_count": 153,
   "id": "c5ff50ea",
   "metadata": {},
   "outputs": [
    {
     "data": {
      "text/plain": [
       "''"
      ]
     },
     "execution_count": 153,
     "metadata": {},
     "output_type": "execute_result"
    }
   ],
   "source": [
    "v3[7:2:1] # 7,8,9,10,..."
   ]
  },
  {
   "cell_type": "code",
   "execution_count": 154,
   "id": "e51a2fa2",
   "metadata": {},
   "outputs": [
    {
     "data": {
      "text/plain": [
       "' emoc'"
      ]
     },
     "execution_count": 154,
     "metadata": {},
     "output_type": "execute_result"
    }
   ],
   "source": [
    "v3[7:2:-1] # 7,6,5,4,3,2"
   ]
  },
  {
   "cell_type": "code",
   "execution_count": 155,
   "id": "ab6d0d59",
   "metadata": {},
   "outputs": [],
   "source": [
    "v2 = \"welcome\""
   ]
  },
  {
   "cell_type": "code",
   "execution_count": 156,
   "id": "218b3281",
   "metadata": {},
   "outputs": [
    {
     "data": {
      "text/plain": [
       "'welcome'"
      ]
     },
     "execution_count": 156,
     "metadata": {},
     "output_type": "execute_result"
    }
   ],
   "source": [
    "v2"
   ]
  },
  {
   "cell_type": "code",
   "execution_count": 157,
   "id": "9fc2e93a",
   "metadata": {},
   "outputs": [
    {
     "data": {
      "text/plain": [
       "'emoclew'"
      ]
     },
     "execution_count": 157,
     "metadata": {},
     "output_type": "execute_result"
    }
   ],
   "source": [
    "v2[::-1]  # "
   ]
  },
  {
   "cell_type": "code",
   "execution_count": 160,
   "id": "cd23b82b",
   "metadata": {},
   "outputs": [
    {
     "data": {
      "text/plain": [
       "'emo'"
      ]
     },
     "execution_count": 160,
     "metadata": {},
     "output_type": "execute_result"
    }
   ],
   "source": [
    "v2[:3:-1]  "
   ]
  },
  {
   "cell_type": "code",
   "execution_count": 161,
   "id": "83f937f1",
   "metadata": {},
   "outputs": [
    {
     "data": {
      "text/plain": [
       "'madam'"
      ]
     },
     "execution_count": 161,
     "metadata": {},
     "output_type": "execute_result"
    }
   ],
   "source": [
    "\"madam\"[::-1]"
   ]
  },
  {
   "cell_type": "code",
   "execution_count": 162,
   "id": "ab6d861d",
   "metadata": {},
   "outputs": [
    {
     "data": {
      "text/plain": [
       "True"
      ]
     },
     "execution_count": 162,
     "metadata": {},
     "output_type": "execute_result"
    }
   ],
   "source": [
    "'madam'=='madam'[::-1]"
   ]
  },
  {
   "cell_type": "code",
   "execution_count": 163,
   "id": "edfb5c45",
   "metadata": {},
   "outputs": [
    {
     "data": {
      "text/plain": [
       "7"
      ]
     },
     "execution_count": 163,
     "metadata": {},
     "output_type": "execute_result"
    }
   ],
   "source": [
    "len(\"welcome\")"
   ]
  },
  {
   "cell_type": "code",
   "execution_count": 164,
   "id": "df4d5171",
   "metadata": {},
   "outputs": [],
   "source": [
    "v1=8347979739"
   ]
  },
  {
   "cell_type": "code",
   "execution_count": 165,
   "id": "6c076e9b",
   "metadata": {},
   "outputs": [
    {
     "ename": "TypeError",
     "evalue": "object of type 'int' has no len()",
     "output_type": "error",
     "traceback": [
      "\u001b[1;31m---------------------------------------------------------------------------\u001b[0m",
      "\u001b[1;31mTypeError\u001b[0m                                 Traceback (most recent call last)",
      "\u001b[1;32m~\\AppData\\Local\\Temp/ipykernel_18524/4219307623.py\u001b[0m in \u001b[0;36m<module>\u001b[1;34m\u001b[0m\n\u001b[1;32m----> 1\u001b[1;33m \u001b[0mlen\u001b[0m\u001b[1;33m(\u001b[0m\u001b[0mv1\u001b[0m\u001b[1;33m)\u001b[0m\u001b[1;33m\u001b[0m\u001b[1;33m\u001b[0m\u001b[0m\n\u001b[0m",
      "\u001b[1;31mTypeError\u001b[0m: object of type 'int' has no len()"
     ]
    }
   ],
   "source": [
    "len(v1)"
   ]
  },
  {
   "cell_type": "code",
   "execution_count": 166,
   "id": "5226636d",
   "metadata": {},
   "outputs": [
    {
     "data": {
      "text/plain": [
       "10"
      ]
     },
     "execution_count": 166,
     "metadata": {},
     "output_type": "execute_result"
    }
   ],
   "source": [
    "len(str(v1))"
   ]
  },
  {
   "cell_type": "code",
   "execution_count": 167,
   "id": "443f9c68",
   "metadata": {},
   "outputs": [
    {
     "data": {
      "text/plain": [
       "True"
      ]
     },
     "execution_count": 167,
     "metadata": {},
     "output_type": "execute_result"
    }
   ],
   "source": [
    "len(str(v1))==10"
   ]
  },
  {
   "cell_type": "code",
   "execution_count": null,
   "id": "13c1c123",
   "metadata": {},
   "outputs": [],
   "source": []
  }
 ],
 "metadata": {
  "kernelspec": {
   "display_name": "Python 3 (ipykernel)",
   "language": "python",
   "name": "python3"
  },
  "language_info": {
   "codemirror_mode": {
    "name": "ipython",
    "version": 3
   },
   "file_extension": ".py",
   "mimetype": "text/x-python",
   "name": "python",
   "nbconvert_exporter": "python",
   "pygments_lexer": "ipython3",
   "version": "3.9.7"
  }
 },
 "nbformat": 4,
 "nbformat_minor": 5
}
