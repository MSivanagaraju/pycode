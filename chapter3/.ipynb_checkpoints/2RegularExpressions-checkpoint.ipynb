{
 "cells": [
  {
   "cell_type": "code",
   "execution_count": null,
   "id": "480d7bd3",
   "metadata": {},
   "outputs": [],
   "source": [
    "#Regular Expression"
   ]
  },
  {
   "cell_type": "code",
   "execution_count": null,
   "id": "96f747f9",
   "metadata": {},
   "outputs": [],
   "source": [
    "# Meta Characters\n",
    "# special squences\n",
    "# methods(split,finall,compile,escape,sub,subn,fullmatch)"
   ]
  },
  {
   "cell_type": "code",
   "execution_count": 1,
   "id": "bd6d16d2",
   "metadata": {},
   "outputs": [
    {
     "name": "stdout",
     "output_type": "stream",
     "text": [
      "Are you coming for today class ? = yes\n",
      "Take Rest\n"
     ]
    }
   ],
   "source": [
    "ans = input(\"Are you coming for today class ? = \") #yes , YES, YeS, YEs, i am coming yes\n",
    "if ans=='Yes':\n",
    "    print(\"Welcome\")\n",
    "else:\n",
    "    print(\"Take Rest\")"
   ]
  },
  {
   "cell_type": "code",
   "execution_count": 2,
   "id": "5fed1111",
   "metadata": {},
   "outputs": [],
   "source": [
    "import re"
   ]
  },
  {
   "cell_type": "code",
   "execution_count": 3,
   "id": "caf78d98",
   "metadata": {},
   "outputs": [
    {
     "data": {
      "text/plain": [
       "module"
      ]
     },
     "execution_count": 3,
     "metadata": {},
     "output_type": "execute_result"
    }
   ],
   "source": [
    "type(re)"
   ]
  },
  {
   "cell_type": "code",
   "execution_count": 4,
   "id": "40dc18b9",
   "metadata": {},
   "outputs": [
    {
     "name": "stdout",
     "output_type": "stream",
     "text": [
      "Pretty printing has been turned OFF\n"
     ]
    }
   ],
   "source": [
    "pprint"
   ]
  },
  {
   "cell_type": "code",
   "execution_count": 5,
   "id": "a6d398f9",
   "metadata": {},
   "outputs": [
    {
     "data": {
      "text/plain": [
       "['A', 'ASCII', 'DEBUG', 'DOTALL', 'I', 'IGNORECASE', 'L', 'LOCALE', 'M', 'MULTILINE', 'Match', 'Pattern', 'RegexFlag', 'S', 'Scanner', 'T', 'TEMPLATE', 'U', 'UNICODE', 'VERBOSE', 'X', '_MAXCACHE', '__all__', '__builtins__', '__cached__', '__doc__', '__file__', '__loader__', '__name__', '__package__', '__spec__', '__version__', '_cache', '_compile', '_compile_repl', '_expand', '_locale', '_pickle', '_special_chars_map', '_subx', 'compile', 'copyreg', 'enum', 'error', 'escape', 'findall', 'finditer', 'fullmatch', 'functools', 'match', 'purge', 'search', 'split', 'sre_compile', 'sre_parse', 'sub', 'subn', 'template']"
      ]
     },
     "execution_count": 5,
     "metadata": {},
     "output_type": "execute_result"
    }
   ],
   "source": [
    "dir(re)"
   ]
  },
  {
   "cell_type": "code",
   "execution_count": 6,
   "id": "782b7d62",
   "metadata": {},
   "outputs": [
    {
     "data": {
      "text/plain": [
       "<class 'function'>"
      ]
     },
     "execution_count": 6,
     "metadata": {},
     "output_type": "execute_result"
    }
   ],
   "source": [
    "type(re.match)"
   ]
  },
  {
   "cell_type": "code",
   "execution_count": null,
   "id": "414e867a",
   "metadata": {},
   "outputs": [],
   "source": [
    "re.match(pattern,string,flags=None)"
   ]
  },
  {
   "cell_type": "code",
   "execution_count": 7,
   "id": "c53ce353",
   "metadata": {},
   "outputs": [],
   "source": [
    "str1 = \"python is better than java for AI applications\""
   ]
  },
  {
   "cell_type": "code",
   "execution_count": 13,
   "id": "297b61c7",
   "metadata": {},
   "outputs": [
    {
     "name": "stdout",
     "output_type": "stream",
     "text": [
      "<re.Match object; span=(0, 6), match='python'>\n",
      "None\n",
      "None\n",
      "<re.Match object; span=(0, 6), match='python'>\n",
      "<re.Match object; span=(0, 6), match='python'>\n"
     ]
    }
   ],
   "source": [
    "#match\n",
    "print(re.match('python',str1))\n",
    "print(re.match('java',str1))\n",
    "print(re.match('PYTHON',str1))\n",
    "print(re.match('PYTHON',str1,flags=re.I))\n",
    "print(re.match('PYTHON',str1,flags=re.IGNORECASE))"
   ]
  },
  {
   "cell_type": "code",
   "execution_count": 18,
   "id": "b3785751",
   "metadata": {},
   "outputs": [
    {
     "name": "stdout",
     "output_type": "stream",
     "text": [
      "<re.Match object; span=(0, 6), match='python'>\n",
      "<re.Match object; span=(22, 26), match='java'>\n",
      "None\n",
      "<re.Match object; span=(22, 26), match='java'>\n",
      "<re.Match object; span=(22, 26), match='java'>\n"
     ]
    }
   ],
   "source": [
    "#search\n",
    "print(re.search('python',str1))\n",
    "print(re.search('java',str1))\n",
    "print(re.search('JAVA',str1))\n",
    "print(re.search('JAVA',str1,re.I))\n",
    "print(re.search('JAVA',str1,re.IGNORECASE))"
   ]
  },
  {
   "cell_type": "code",
   "execution_count": 24,
   "id": "84ec3950",
   "metadata": {},
   "outputs": [
    {
     "name": "stdout",
     "output_type": "stream",
     "text": [
      "Are you coming for today class ? = lgkjeoiruefndv ;l lj yes ljfsldfjs al\n",
      "Welcome\n"
     ]
    }
   ],
   "source": [
    "ans = input(\"Are you coming for today class ? = \") #yes , YES, YeS, YEs, i am coming yes\n",
    "if re.search('yes',ans,re.I):\n",
    "    print(\"Welcome\")\n",
    "else:\n",
    "    print(\"Take Rest\")"
   ]
  },
  {
   "cell_type": "code",
   "execution_count": null,
   "id": "332b7ed3",
   "metadata": {},
   "outputs": [],
   "source": [
    "#patterns design with meta characters\n",
    "# []   ^   $   {m,n}  (str1|str2)  .  ?  *  "
   ]
  },
  {
   "cell_type": "code",
   "execution_count": null,
   "id": "d7e07439",
   "metadata": {},
   "outputs": [],
   "source": [
    "#[0-9] it matches at least one digit in given string"
   ]
  },
  {
   "cell_type": "code",
   "execution_count": 30,
   "id": "0c2cbe31",
   "metadata": {},
   "outputs": [
    {
     "name": "stdout",
     "output_type": "stream",
     "text": [
      "Enter string value = ABC1UYRUTYUT\n",
      "Matched\n"
     ]
    }
   ],
   "source": [
    "str1 = input(\"Enter string value = \")\n",
    "if re.search('[0-9]',str1):\n",
    "    print(\"Matched\")\n",
    "else:\n",
    "    print(\"Not Matched\")"
   ]
  },
  {
   "cell_type": "code",
   "execution_count": 2,
   "id": "235e305e",
   "metadata": {},
   "outputs": [],
   "source": [
    "import re"
   ]
  },
  {
   "cell_type": "code",
   "execution_count": 5,
   "id": "e40f7de4",
   "metadata": {},
   "outputs": [
    {
     "name": "stdout",
     "output_type": "stream",
     "text": [
      "Enter string value = ghgfhf67bcvb\n",
      "Matched\n"
     ]
    }
   ],
   "source": [
    "#[0-9][0-9] it matches at least two digits in given string\n",
    "str1 = input(\"Enter string value = \")\n",
    "if re.search('[0-9][0-9]',str1):\n",
    "    print(\"Matched\")\n",
    "else:\n",
    "    print(\"Not Matched\")"
   ]
  },
  {
   "cell_type": "code",
   "execution_count": 8,
   "id": "742c6bb6",
   "metadata": {},
   "outputs": [
    {
     "name": "stdout",
     "output_type": "stream",
     "text": [
      "Enter string value = gdssfsd\n",
      "Matched\n"
     ]
    }
   ],
   "source": [
    "#[a-z] it matches at least one alphabet in given string\n",
    "str1 = input(\"Enter string value = \")\n",
    "if re.search('[a-z]',str1):\n",
    "    print(\"Matched\")\n",
    "else:\n",
    "    print(\"Not Matched\")"
   ]
  },
  {
   "cell_type": "code",
   "execution_count": 12,
   "id": "9fa0b2ac",
   "metadata": {},
   "outputs": [
    {
     "name": "stdout",
     "output_type": "stream",
     "text": [
      "Enter string value = dfkjsl6456440\n",
      "Not Matched\n"
     ]
    }
   ],
   "source": [
    "#^[0-9] it matches at least one digit in given string at \n",
    "str1 = input(\"Enter string value = \")\n",
    "if re.search('^[0-9]',str1):\n",
    "    print(\"Matched\")\n",
    "else:\n",
    "    print(\"Not Matched\")"
   ]
  },
  {
   "cell_type": "code",
   "execution_count": 19,
   "id": "ced05726",
   "metadata": {},
   "outputs": [
    {
     "name": "stdout",
     "output_type": "stream",
     "text": [
      "Enter string value = 634564564$5654\n",
      "Matched\n"
     ]
    }
   ],
   "source": [
    "#[^0-9] it matches at least one character except [0-9]\n",
    "str1 = input(\"Enter string value = \")\n",
    "if re.search('[^0-9]',str1):\n",
    "    print(\"Matched\")\n",
    "else:\n",
    "    print(\"Not Matched\")"
   ]
  },
  {
   "cell_type": "code",
   "execution_count": 24,
   "id": "e651835d",
   "metadata": {},
   "outputs": [
    {
     "name": "stdout",
     "output_type": "stream",
     "text": [
      "Enter string value = gf\n",
      "Not Matched\n"
     ]
    }
   ],
   "source": [
    "#[^a-z] it matches at least one character except [a-z]\n",
    "str1 = input(\"Enter string value = \")\n",
    "if re.search('[^a-z]',str1):\n",
    "    print(\"Matched\")\n",
    "else:\n",
    "    print(\"Not Matched\")"
   ]
  },
  {
   "cell_type": "code",
   "execution_count": 21,
   "id": "100471ee",
   "metadata": {},
   "outputs": [
    {
     "name": "stdout",
     "output_type": "stream",
     "text": [
      "Enter string value = gkldfj6dlkjs4353sldfkj\n",
      "Not Matched\n"
     ]
    }
   ],
   "source": [
    "#[0-9]$ it matches at least one digit at last of given string\n",
    "str1 = input(\"Enter string value = \")\n",
    "if re.search('[0-9]$',str1):\n",
    "    print(\"Matched\")\n",
    "else:\n",
    "    print(\"Not Matched\")"
   ]
  },
  {
   "cell_type": "code",
   "execution_count": 29,
   "id": "52e72e71",
   "metadata": {},
   "outputs": [
    {
     "name": "stdout",
     "output_type": "stream",
     "text": [
      "Enter string value = 56dgs\n",
      "Not Matched\n"
     ]
    }
   ],
   "source": [
    "#^[0-9]$ it accepts only single digit number\n",
    "str1 = input(\"Enter string value = \")\n",
    "if re.search('^[0-9]$',str1):\n",
    "    print(\"Matched\")\n",
    "else:\n",
    "    print(\"Not Matched\")"
   ]
  },
  {
   "cell_type": "code",
   "execution_count": 32,
   "id": "6385df57",
   "metadata": {},
   "outputs": [
    {
     "name": "stdout",
     "output_type": "stream",
     "text": [
      "Enter string value = 456\n",
      "Not Matched\n"
     ]
    }
   ],
   "source": [
    "#^[0-9][0-9]$ it accepts two digit numbers\n",
    "str1 = input(\"Enter string value = \")\n",
    "if re.search('^[0-9][0-9]$',str1):\n",
    "    print(\"Matched\")\n",
    "else:\n",
    "    print(\"Not Matched\")"
   ]
  },
  {
   "cell_type": "code",
   "execution_count": 34,
   "id": "e7f53ee7",
   "metadata": {},
   "outputs": [
    {
     "name": "stdout",
     "output_type": "stream",
     "text": [
      "Enter string value = 0000000000\n",
      "Matched\n"
     ]
    }
   ],
   "source": [
    "#10 digit mobile number\n",
    "str1 = input(\"Enter string value = \")\n",
    "if re.search('^[0-9][0-9][0-9][0-9][0-9][0-9][0-9][0-9][0-9][0-9]$',str1):\n",
    "    print(\"Matched\")\n",
    "else:\n",
    "    print(\"Not Matched\")"
   ]
  },
  {
   "cell_type": "code",
   "execution_count": 38,
   "id": "f1bef0a4",
   "metadata": {},
   "outputs": [
    {
     "name": "stdout",
     "output_type": "stream",
     "text": [
      "Enter string value = ljdflks\n",
      "Not Matched\n"
     ]
    }
   ],
   "source": [
    "# + will allow repetetions here it accepts only any number of digits\n",
    "str1 = input(\"Enter string value = \")\n",
    "if re.search('^[0-9]+$',str1):\n",
    "    print(\"Matched\")\n",
    "else:\n",
    "    print(\"Not Matched\")"
   ]
  },
  {
   "cell_type": "code",
   "execution_count": 42,
   "id": "c5318efc",
   "metadata": {},
   "outputs": [
    {
     "name": "stdout",
     "output_type": "stream",
     "text": [
      "Enter string value = 0000000000\n",
      "Matched\n"
     ]
    }
   ],
   "source": [
    "# {10} will allow repetetions for 10 times only here it accepts only 10 digits\n",
    "str1 = input(\"Enter string value = \")\n",
    "if re.search('^[0-9]{10}$',str1):\n",
    "    print(\"Matched\")\n",
    "else:\n",
    "    print(\"Not Matched\")"
   ]
  },
  {
   "cell_type": "code",
   "execution_count": 44,
   "id": "b1d02ce0",
   "metadata": {},
   "outputs": [
    {
     "name": "stdout",
     "output_type": "stream",
     "text": [
      "Enter string value = 8564543267\n",
      "Matched\n"
     ]
    }
   ],
   "source": [
    "# 10 digit indian mobile numbers\n",
    "str1 = input(\"Enter string value = \")\n",
    "if re.search('^[6789][0-9]{9}$',str1):\n",
    "    print(\"Matched\")\n",
    "else:\n",
    "    print(\"Not Matched\")"
   ]
  },
  {
   "cell_type": "code",
   "execution_count": 50,
   "id": "5a4d6009",
   "metadata": {},
   "outputs": [
    {
     "name": "stdout",
     "output_type": "stream",
     "text": [
      "Enter string value = 455645654\n",
      "Matched\n"
     ]
    }
   ],
   "source": [
    "# 5 or more than 5 digit numbers\n",
    "str1 = input(\"Enter string value = \")\n",
    "if re.search('^[0-9]{5,}$',str1):\n",
    "    print(\"Matched\")\n",
    "else:\n",
    "    print(\"Not Matched\")"
   ]
  },
  {
   "cell_type": "code",
   "execution_count": 60,
   "id": "b6bd6800",
   "metadata": {},
   "outputs": [
    {
     "name": "stdout",
     "output_type": "stream",
     "text": [
      "Enter string value = 1275\n",
      "Not Matched\n"
     ]
    }
   ],
   "source": [
    "# \n",
    "str1 = input(\"Enter string value = \")\n",
    "if re.search('^[1-5]{3,6}$',str1):\n",
    "    print(\"Matched\")\n",
    "else:\n",
    "    print(\"Not Matched\")"
   ]
  },
  {
   "cell_type": "code",
   "execution_count": 65,
   "id": "ccebc4f4",
   "metadata": {},
   "outputs": [
    {
     "name": "stdout",
     "output_type": "stream",
     "text": [
      "Enter string value = php\n",
      "Not Matched\n"
     ]
    }
   ],
   "source": [
    "# \n",
    "str1 = input(\"Enter string value = \")\n",
    "if re.search('(python|javascript|django|reactjs|nodejs)',str1):\n",
    "    print(\"Matched\")\n",
    "else:\n",
    "    print(\"Not Matched\")"
   ]
  },
  {
   "cell_type": "code",
   "execution_count": 76,
   "id": "d1ee2d95",
   "metadata": {},
   "outputs": [
    {
     "name": "stdout",
     "output_type": "stream",
     "text": [
      "Enter string value = 6e#\n",
      "Matched\n"
     ]
    }
   ],
   "source": [
    "# .\n",
    "str1 = input(\"Enter string value = \")\n",
    "if re.search('^[0-9].$',str1):\n",
    "    print(\"Matched\")\n",
    "else:\n",
    "    print(\"Not Matched\")"
   ]
  },
  {
   "cell_type": "code",
   "execution_count": null,
   "id": "f09dd0af",
   "metadata": {},
   "outputs": [],
   "source": [
    "# .\n",
    "str1 = input(\"Enter string value = \")\n",
    "if re.search('^[0-9]..$',str1):\n",
    "    print(\"Matched\")\n",
    "else:\n",
    "    print(\"Not Matched\")"
   ]
  },
  {
   "cell_type": "code",
   "execution_count": 78,
   "id": "7af9fd17",
   "metadata": {},
   "outputs": [
    {
     "name": "stdout",
     "output_type": "stream",
     "text": [
      "Enter string value = 4fg6\n",
      "Not Matched\n"
     ]
    }
   ],
   "source": [
    "# .\n",
    "str1 = input(\"Enter string value = \")\n",
    "if re.search('^[0-9].[0-9]$',str1):\n",
    "    print(\"Matched\")\n",
    "else:\n",
    "    print(\"Not Matched\")"
   ]
  },
  {
   "cell_type": "code",
   "execution_count": 87,
   "id": "79fcd7ee",
   "metadata": {},
   "outputs": [
    {
     "name": "stdout",
     "output_type": "stream",
     "text": [
      "Enter string value = python#\n",
      "Matched\n"
     ]
    }
   ],
   "source": [
    "# ?\n",
    "str1 = input(\"Enter string value = \")\n",
    "if re.search('^python#?$',str1):\n",
    "    print(\"Matched\")\n",
    "else:\n",
    "    print(\"Not Matched\")"
   ]
  },
  {
   "cell_type": "code",
   "execution_count": 93,
   "id": "3e6b9075",
   "metadata": {},
   "outputs": [
    {
     "name": "stdout",
     "output_type": "stream",
     "text": [
      "Enter string value = python1234\n",
      "Not Matched\n"
     ]
    }
   ],
   "source": [
    "# ?\n",
    "str1 = input(\"Enter string value = \")\n",
    "if re.search('^python[1234]?$',str1):\n",
    "    print(\"Matched\")\n",
    "else:\n",
    "    print(\"Not Matched\")"
   ]
  },
  {
   "cell_type": "code",
   "execution_count": 96,
   "id": "f1c5c9bf",
   "metadata": {},
   "outputs": [
    {
     "name": "stdout",
     "output_type": "stream",
     "text": [
      "Enter string value = pyth\n",
      "Not Matched\n"
     ]
    }
   ],
   "source": [
    "# *\n",
    "str1 = input(\"Enter string value = \") # python , python# \n",
    "if re.search('^python#*$',str1):\n",
    "    print(\"Matched\")\n",
    "else:\n",
    "    print(\"Not Matched\")"
   ]
  },
  {
   "cell_type": "code",
   "execution_count": 104,
   "id": "dc8dc0e5",
   "metadata": {},
   "outputs": [
    {
     "name": "stdout",
     "output_type": "stream",
     "text": [
      "Enter string value = python1234\n",
      "Matched\n"
     ]
    }
   ],
   "source": [
    "str1 = input(\"Enter string value = \")\n",
    "if re.search('^python[1234]*$',str1):\n",
    "    print(\"Matched\")\n",
    "else:\n",
    "    print(\"Not Matched\")"
   ]
  },
  {
   "cell_type": "code",
   "execution_count": null,
   "id": "359f3f94",
   "metadata": {},
   "outputs": [],
   "source": [
    "#special sequences\n",
    "# \\d \\D \\s \\S \\w \\W"
   ]
  },
  {
   "cell_type": "code",
   "execution_count": 1,
   "id": "72c69c90",
   "metadata": {},
   "outputs": [],
   "source": [
    "import re"
   ]
  },
  {
   "cell_type": "code",
   "execution_count": 13,
   "id": "f1f2f642",
   "metadata": {},
   "outputs": [
    {
     "name": "stdout",
     "output_type": "stream",
     "text": [
      "Enter String value = 4\n",
      "Matched\n"
     ]
    }
   ],
   "source": [
    "#\\d == [0-9]\n",
    "str1 = input(\"Enter String value = \")\n",
    "if re.search('^\\d$',str1):\n",
    "    print(\"Matched\")\n",
    "else:\n",
    "    print(\"Not Matched\")"
   ]
  },
  {
   "cell_type": "code",
   "execution_count": 20,
   "id": "036ef286",
   "metadata": {},
   "outputs": [
    {
     "name": "stdout",
     "output_type": "stream",
     "text": [
      "Enter String value = 76567\n",
      "Matched\n"
     ]
    }
   ],
   "source": [
    "#\\d == [0-9]\n",
    "str1 = input(\"Enter String value = \")\n",
    "if re.search('^\\d$',str1):\n",
    "    print(\"Matched\")\n",
    "else:\n",
    "    print(\"Not Matched\")"
   ]
  },
  {
   "cell_type": "code",
   "execution_count": 23,
   "id": "37e6dbb3",
   "metadata": {},
   "outputs": [
    {
     "name": "stdout",
     "output_type": "stream",
     "text": [
      "Enter String value = 5\n",
      "Not Matched\n"
     ]
    }
   ],
   "source": [
    "#\\D == [^0-9]\n",
    "str1 = input(\"Enter String value = \")\n",
    "if re.search('^\\D$',str1):\n",
    "    print(\"Matched\")\n",
    "else:\n",
    "    print(\"Not Matched\")"
   ]
  },
  {
   "cell_type": "code",
   "execution_count": 31,
   "id": "42fa410c",
   "metadata": {},
   "outputs": [
    {
     "name": "stdout",
     "output_type": "stream",
     "text": [
      "Enter String value =  \n",
      "Matched\n"
     ]
    }
   ],
   "source": [
    "#\\s == \n",
    "str1 = input(\"Enter String value = \")\n",
    "if re.search('^\\s$',str1):\n",
    "    print(\"Matched\")\n",
    "else:\n",
    "    print(\"Not Matched\")"
   ]
  },
  {
   "cell_type": "code",
   "execution_count": 35,
   "id": "26865dd4",
   "metadata": {},
   "outputs": [
    {
     "name": "stdout",
     "output_type": "stream",
     "text": [
      "Enter String value =  \n",
      "Not Matched\n"
     ]
    }
   ],
   "source": [
    "#\\S == \n",
    "str1 = input(\"Enter String value = \")\n",
    "if re.search('^\\S$',str1):\n",
    "    print(\"Matched\")\n",
    "else:\n",
    "    print(\"Not Matched\")"
   ]
  },
  {
   "cell_type": "code",
   "execution_count": 41,
   "id": "6cb13dfb",
   "metadata": {},
   "outputs": [
    {
     "name": "stdout",
     "output_type": "stream",
     "text": [
      "Enter String value =  \n",
      "Not Matched\n"
     ]
    }
   ],
   "source": [
    "#\\w == [a-z0-9_]\n",
    "str1 = input(\"Enter String value = \")\n",
    "if re.search('^\\w$',str1):\n",
    "    print(\"Matched\")\n",
    "else:\n",
    "    print(\"Not Matched\")"
   ]
  },
  {
   "cell_type": "code",
   "execution_count": 48,
   "id": "7018269a",
   "metadata": {},
   "outputs": [
    {
     "name": "stdout",
     "output_type": "stream",
     "text": [
      "Enter String value = /\n",
      "Matched\n"
     ]
    }
   ],
   "source": [
    "#\\W == [^a-z0-9_]\n",
    "str1 = input(\"Enter String value = \")\n",
    "if re.search('^\\W$',str1):\n",
    "    print(\"Matched\")\n",
    "else:\n",
    "    print(\"Not Matched\")"
   ]
  },
  {
   "cell_type": "code",
   "execution_count": 52,
   "id": "90fee47e",
   "metadata": {},
   "outputs": [
    {
     "name": "stdout",
     "output_type": "stream",
     "text": [
      "Enter String value = f\n",
      "Matched\n"
     ]
    }
   ],
   "source": [
    "#\\w == [a-z0-9_]\n",
    "str1 = input(\"Enter String value = \")\n",
    "if re.search('^[0-9a-z]$',str1):\n",
    "    print(\"Matched\")\n",
    "else:\n",
    "    print(\"Not Matched\")"
   ]
  },
  {
   "cell_type": "raw",
   "id": "1ca43333",
   "metadata": {},
   "source": [
    "#regular expression for email address\n",
    "#rules\n",
    "1. should not start with number or special character\n",
    "2. only one @ \n",
    "3. only one . after @\n",
    "4. before @ min length 3 and max 25\n",
    "5. before @ _ , . , - are allowed\n",
    "6. between @ and . only characters min length = 3 and max length=10 \n",
    "7. after . characters only min = 2 and max=4"
   ]
  },
  {
   "cell_type": "code",
   "execution_count": 58,
   "id": "280d6de4",
   "metadata": {},
   "outputs": [
    {
     "name": "stdout",
     "output_type": "stream",
     "text": [
      "Enter valid email address = raju_raju@gmail9com\n",
      "Not Matched\n"
     ]
    }
   ],
   "source": [
    "email = input(\"Enter valid email address = \")\n",
    "if re.search('^[a-z][a-z0-9_.-]{2,24}@[a-z]{3,10}\\.[a-z]{2,4}$',email,re.I):\n",
    "    print(\"Matched\")\n",
    "else:\n",
    "    print(\"Not Matched\")"
   ]
  },
  {
   "cell_type": "code",
   "execution_count": null,
   "id": "bb037a35",
   "metadata": {},
   "outputs": [],
   "source": [
    "#re.compile"
   ]
  },
  {
   "cell_type": "code",
   "execution_count": 62,
   "id": "4a990e64",
   "metadata": {},
   "outputs": [],
   "source": [
    "email_check = re.compile('^[a-z][a-z0-9_.-]{2,24}@[a-z]{3,10}\\.[a-z]{2,4}$',re.I)"
   ]
  },
  {
   "cell_type": "code",
   "execution_count": 63,
   "id": "50d41e78",
   "metadata": {},
   "outputs": [
    {
     "name": "stdout",
     "output_type": "stream",
     "text": [
      "Enter valid email address = RAJU@GMAIL.COM\n",
      "Matched\n"
     ]
    }
   ],
   "source": [
    "email = input(\"Enter valid email address = \")\n",
    "if email_check.search(email):\n",
    "    print(\"Matched\")\n",
    "else:\n",
    "    print(\"Not Matched\")"
   ]
  },
  {
   "cell_type": "code",
   "execution_count": null,
   "id": "7e69e0cc",
   "metadata": {},
   "outputs": [],
   "source": [
    "#sub and subn"
   ]
  },
  {
   "cell_type": "code",
   "execution_count": 64,
   "id": "0b7738b1",
   "metadata": {},
   "outputs": [],
   "source": [
    "str1 = \"Bombay is financial Bombay Capital of India, bombay is Bombay gateway of india \\\n",
    "for British,BOMBAY called bombai also\""
   ]
  },
  {
   "cell_type": "code",
   "execution_count": 65,
   "id": "58935c07",
   "metadata": {},
   "outputs": [
    {
     "name": "stdout",
     "output_type": "stream",
     "text": [
      "Mumbai is financial Bombay Capital of India, bombay is Bombay gateway of india for British,BOMBAY called bombai also\n"
     ]
    }
   ],
   "source": [
    "print(re.sub('Bombay','Mumbai',str1,count=1))"
   ]
  },
  {
   "cell_type": "code",
   "execution_count": 68,
   "id": "b405d056",
   "metadata": {},
   "outputs": [
    {
     "name": "stdout",
     "output_type": "stream",
     "text": [
      "Mumbai is financial Mumbai Capital of India, bombay is Bombay gateway of india for British,BOMBAY called bombai also\n"
     ]
    }
   ],
   "source": [
    "print(re.sub('Bombay','Mumbai',str1,count=2))"
   ]
  },
  {
   "cell_type": "code",
   "execution_count": 69,
   "id": "4727555d",
   "metadata": {},
   "outputs": [
    {
     "name": "stdout",
     "output_type": "stream",
     "text": [
      "Mumbai is financial Mumbai Capital of India, bombay is Mumbai gateway of india for British,BOMBAY called bombai also\n"
     ]
    }
   ],
   "source": [
    "print(re.sub('Bombay','Mumbai',str1,count=0))"
   ]
  },
  {
   "cell_type": "code",
   "execution_count": 70,
   "id": "ae1388cc",
   "metadata": {},
   "outputs": [
    {
     "name": "stdout",
     "output_type": "stream",
     "text": [
      "Mumbai is financial Mumbai Capital of India, Mumbai is Mumbai gateway of india for British,Mumbai called bombai also\n"
     ]
    }
   ],
   "source": [
    "print(re.sub('Bombay','Mumbai',str1,count=0,flags=re.I))"
   ]
  },
  {
   "cell_type": "code",
   "execution_count": 73,
   "id": "bca45032",
   "metadata": {},
   "outputs": [
    {
     "name": "stdout",
     "output_type": "stream",
     "text": [
      "Mumbai is financial Mumbai Capital of India, Mumbai is Mumbai gateway of india for British,Mumbai called Mumbai also\n"
     ]
    }
   ],
   "source": [
    "print(re.sub('(Bombay|bombai)','Mumbai',str1,flags=re.I))"
   ]
  },
  {
   "cell_type": "code",
   "execution_count": 72,
   "id": "d9707722",
   "metadata": {},
   "outputs": [
    {
     "name": "stdout",
     "output_type": "stream",
     "text": [
      "('Mumbai is financial Mumbai Capital of India, Mumbai is Mumbai gateway of india for British,Mumbai called Mumbai also', 6)\n"
     ]
    }
   ],
   "source": [
    "print(re.subn('(Bombay|bombai)','Mumbai',str1,count=0,flags=re.I))"
   ]
  },
  {
   "cell_type": "raw",
   "id": "e15593fe",
   "metadata": {},
   "source": [
    "#re.escape\n",
    "\"python.org\""
   ]
  },
  {
   "cell_type": "code",
   "execution_count": 74,
   "id": "34ded725",
   "metadata": {},
   "outputs": [
    {
     "name": "stdout",
     "output_type": "stream",
     "text": [
      "raju\\.raju\n"
     ]
    }
   ],
   "source": [
    "print(re.escape(\"raju.raju\"))"
   ]
  },
  {
   "cell_type": "code",
   "execution_count": 87,
   "id": "1ffc38d7",
   "metadata": {},
   "outputs": [
    {
     "name": "stdout",
     "output_type": "stream",
     "text": [
      "Enter string value = python.org\n",
      "Matched\n"
     ]
    }
   ],
   "source": [
    "str1 = input(\"Enter string value = \")\n",
    "if re.search(re.escape(\"python.org\"),str1,re.I):\n",
    "    print(\"Matched\")\n",
    "else:\n",
    "    print(\"Not Matched\")"
   ]
  },
  {
   "cell_type": "code",
   "execution_count": 1,
   "id": "94d1ceee",
   "metadata": {},
   "outputs": [],
   "source": [
    "import re"
   ]
  },
  {
   "cell_type": "code",
   "execution_count": null,
   "id": "0dc2f746",
   "metadata": {},
   "outputs": [],
   "source": [
    "#re.split"
   ]
  },
  {
   "cell_type": "code",
   "execution_count": 2,
   "id": "b346ddec",
   "metadata": {},
   "outputs": [
    {
     "name": "stdout",
     "output_type": "stream",
     "text": [
      "Help on function split in module re:\n",
      "\n",
      "split(pattern, string, maxsplit=0, flags=0)\n",
      "    Split the source string by the occurrences of the pattern,\n",
      "    returning a list containing the resulting substrings.  If\n",
      "    capturing parentheses are used in pattern, then the text of all\n",
      "    groups in the pattern are also returned as part of the resulting\n",
      "    list.  If maxsplit is nonzero, at most maxsplit splits occur,\n",
      "    and the remainder of the string is returned as the final element\n",
      "    of the list.\n",
      "\n"
     ]
    }
   ],
   "source": [
    "help(re.split)"
   ]
  },
  {
   "cell_type": "code",
   "execution_count": 3,
   "id": "a08d0a74",
   "metadata": {},
   "outputs": [
    {
     "data": {
      "text/plain": [
       "['wel4come', 'to', 'pythonxprogramming', 'lan5guage']"
      ]
     },
     "execution_count": 3,
     "metadata": {},
     "output_type": "execute_result"
    }
   ],
   "source": [
    "re.split(\"X\",\"wel4comeXtoXpythonxprogrammingXlan5guage\")"
   ]
  },
  {
   "cell_type": "code",
   "execution_count": 4,
   "id": "2e2ddf9b",
   "metadata": {},
   "outputs": [
    {
     "data": {
      "text/plain": [
       "['wel4come', 'to', 'python', 'programming', 'lan5guage']"
      ]
     },
     "execution_count": 4,
     "metadata": {},
     "output_type": "execute_result"
    }
   ],
   "source": [
    "re.split(\"X\",\"wel4comeXtoXpythonxprogrammingXlan5guage\",maxsplit=0,flags=re.I)"
   ]
  },
  {
   "cell_type": "code",
   "execution_count": 5,
   "id": "c9076875",
   "metadata": {},
   "outputs": [
    {
     "data": {
      "text/plain": [
       "['wel4come', 'to', 'pythonxprogrammingXlan5guage']"
      ]
     },
     "execution_count": 5,
     "metadata": {},
     "output_type": "execute_result"
    }
   ],
   "source": [
    "re.split(\"X\",\"wel4comeXtoXpythonxprogrammingXlan5guage\",maxsplit=2,flags=re.I)"
   ]
  },
  {
   "cell_type": "code",
   "execution_count": null,
   "id": "a1f4339e",
   "metadata": {},
   "outputs": [],
   "source": [
    "#re.fullmatch"
   ]
  },
  {
   "cell_type": "code",
   "execution_count": 9,
   "id": "ce13c4b2",
   "metadata": {},
   "outputs": [
    {
     "name": "stdout",
     "output_type": "stream",
     "text": [
      "Enter a string value :5t\n",
      "Not Matched\n"
     ]
    }
   ],
   "source": [
    "str1=input(\"Enter a string value :\")\n",
    "if re.search(\"^[0-9]$\",str1):\n",
    "    print(\"Matched\")\n",
    "else:\n",
    "    print(\"Not Matched\")"
   ]
  },
  {
   "cell_type": "code",
   "execution_count": 10,
   "id": "4219b0aa",
   "metadata": {},
   "outputs": [
    {
     "name": "stdout",
     "output_type": "stream",
     "text": [
      "Enter a string value :5kgjdf\n",
      "Not Matched\n"
     ]
    }
   ],
   "source": [
    "str1=input(\"Enter a string value :\")\n",
    "if re.fullmatch(\"[0-9]\",str1):\n",
    "    print(\"Matched\")\n",
    "else:\n",
    "    print(\"Not Matched\")"
   ]
  },
  {
   "cell_type": "code",
   "execution_count": null,
   "id": "5e5a88a9",
   "metadata": {},
   "outputs": [],
   "source": [
    "#re.findall"
   ]
  },
  {
   "cell_type": "code",
   "execution_count": 12,
   "id": "c8481ab2",
   "metadata": {},
   "outputs": [
    {
     "data": {
      "text/plain": [
       "['w',\n",
       " 'e',\n",
       " 'l',\n",
       " 'c',\n",
       " 'o',\n",
       " 'm',\n",
       " 'e',\n",
       " 'X',\n",
       " 't',\n",
       " 'o',\n",
       " 'p',\n",
       " 'y',\n",
       " 't',\n",
       " 'h',\n",
       " 'o',\n",
       " '_',\n",
       " 'n',\n",
       " 'x',\n",
       " 'p',\n",
       " 'r',\n",
       " 'o',\n",
       " 'g',\n",
       " 'r',\n",
       " 'a',\n",
       " 'm',\n",
       " 'm',\n",
       " 'i',\n",
       " 'n',\n",
       " 'g',\n",
       " 'l',\n",
       " 'a',\n",
       " 'n',\n",
       " 'g',\n",
       " 'u',\n",
       " 'a',\n",
       " 'g',\n",
       " 'e']"
      ]
     },
     "execution_count": 12,
     "metadata": {},
     "output_type": "execute_result"
    }
   ],
   "source": [
    "re.findall(\"\\w\",\"wel#comeXto@pytho_nxpro%gramming&lan$guage\")"
   ]
  },
  {
   "cell_type": "code",
   "execution_count": 13,
   "id": "b474521c",
   "metadata": {},
   "outputs": [
    {
     "data": {
      "text/plain": [
       "['#', '@', '%', '&', '$']"
      ]
     },
     "execution_count": 13,
     "metadata": {},
     "output_type": "execute_result"
    }
   ],
   "source": [
    "re.findall(\"\\W\",\"wel#comeXto@pytho_nxpro%gramming&lan$guage\")"
   ]
  },
  {
   "cell_type": "code",
   "execution_count": 14,
   "id": "571aeeea",
   "metadata": {},
   "outputs": [
    {
     "data": {
      "text/plain": [
       "['1', '2', '3', '5', '6']"
      ]
     },
     "execution_count": 14,
     "metadata": {},
     "output_type": "execute_result"
    }
   ],
   "source": [
    "re.findall(\"\\d\",\"wel#com123eXto@pytho_n5xpro%gram6ming&lan$guage\")"
   ]
  },
  {
   "cell_type": "code",
   "execution_count": 15,
   "id": "0900c4de",
   "metadata": {},
   "outputs": [
    {
     "data": {
      "text/plain": [
       "['123', '5', '6']"
      ]
     },
     "execution_count": 15,
     "metadata": {},
     "output_type": "execute_result"
    }
   ],
   "source": [
    "re.findall(\"\\d+\",\"wel#com123eXto@pytho_n5xpro%gram6ming&lan$guage\")"
   ]
  },
  {
   "cell_type": "code",
   "execution_count": null,
   "id": "cb05e008",
   "metadata": {},
   "outputs": [],
   "source": [
    "re.findall(\"\\d+\",\"wel#com123eXto@pytho_n5xpro%gram6ming&lan$guage\")"
   ]
  },
  {
   "cell_type": "code",
   "execution_count": null,
   "id": "eb0c36ec",
   "metadata": {},
   "outputs": [],
   "source": [
    "#groups and grouping"
   ]
  },
  {
   "cell_type": "code",
   "execution_count": null,
   "id": "ae21a0bc",
   "metadata": {},
   "outputs": [],
   "source": [
    "#sample US phone number 123-123-4567"
   ]
  },
  {
   "cell_type": "code",
   "execution_count": 45,
   "id": "63593c0c",
   "metadata": {},
   "outputs": [],
   "source": [
    "contact1 = re.search(\"(\\d{3})-(\\d{3})-(\\d{4})\",\"123-321-4567\")"
   ]
  },
  {
   "cell_type": "code",
   "execution_count": 34,
   "id": "82ccd405",
   "metadata": {},
   "outputs": [
    {
     "data": {
      "text/plain": [
       "{}"
      ]
     },
     "execution_count": 34,
     "metadata": {},
     "output_type": "execute_result"
    }
   ],
   "source": [
    "contact1.groupdict()"
   ]
  },
  {
   "cell_type": "code",
   "execution_count": 35,
   "id": "d640cdf3",
   "metadata": {},
   "outputs": [
    {
     "data": {
      "text/plain": [
       "('123', '321', '4567')"
      ]
     },
     "execution_count": 35,
     "metadata": {},
     "output_type": "execute_result"
    }
   ],
   "source": [
    "contact1.groups()"
   ]
  },
  {
   "cell_type": "code",
   "execution_count": 39,
   "id": "5805798d",
   "metadata": {},
   "outputs": [
    {
     "data": {
      "text/plain": [
       "'123-321-4567'"
      ]
     },
     "execution_count": 39,
     "metadata": {},
     "output_type": "execute_result"
    }
   ],
   "source": [
    "contact1.group(0)"
   ]
  },
  {
   "cell_type": "code",
   "execution_count": 40,
   "id": "d93791c1",
   "metadata": {},
   "outputs": [
    {
     "data": {
      "text/plain": [
       "'123'"
      ]
     },
     "execution_count": 40,
     "metadata": {},
     "output_type": "execute_result"
    }
   ],
   "source": [
    "contact1.group(1)"
   ]
  },
  {
   "cell_type": "code",
   "execution_count": 41,
   "id": "6d1dce86",
   "metadata": {},
   "outputs": [
    {
     "data": {
      "text/plain": [
       "'321'"
      ]
     },
     "execution_count": 41,
     "metadata": {},
     "output_type": "execute_result"
    }
   ],
   "source": [
    "contact1.group(2)"
   ]
  },
  {
   "cell_type": "code",
   "execution_count": 42,
   "id": "ae3ef0ac",
   "metadata": {},
   "outputs": [
    {
     "data": {
      "text/plain": [
       "'4567'"
      ]
     },
     "execution_count": 42,
     "metadata": {},
     "output_type": "execute_result"
    }
   ],
   "source": [
    "contact1.group(3)"
   ]
  },
  {
   "cell_type": "code",
   "execution_count": null,
   "id": "bd8838a8",
   "metadata": {},
   "outputs": [],
   "source": [
    "#groupdictionary"
   ]
  },
  {
   "cell_type": "code",
   "execution_count": 44,
   "id": "f4cd677f",
   "metadata": {},
   "outputs": [],
   "source": [
    "contact2 = re.search(\"(?P<CityCode>\\d{3})-(?P<AreaCode>\\d{3})-(?P<ContactNumber>\\d{4})\",\"123-321-4567\")"
   ]
  },
  {
   "cell_type": "code",
   "execution_count": 46,
   "id": "128860d6",
   "metadata": {},
   "outputs": [
    {
     "data": {
      "text/plain": [
       "{'CityCode': '123', 'AreaCode': '321', 'ContactNumber': '4567'}"
      ]
     },
     "execution_count": 46,
     "metadata": {},
     "output_type": "execute_result"
    }
   ],
   "source": [
    "contact2.groupdict()"
   ]
  },
  {
   "cell_type": "code",
   "execution_count": 47,
   "id": "58734a84",
   "metadata": {},
   "outputs": [
    {
     "data": {
      "text/plain": [
       "'123'"
      ]
     },
     "execution_count": 47,
     "metadata": {},
     "output_type": "execute_result"
    }
   ],
   "source": [
    "contact2.groupdict()['CityCode']"
   ]
  },
  {
   "cell_type": "code",
   "execution_count": 48,
   "id": "371f0f1b",
   "metadata": {},
   "outputs": [
    {
     "data": {
      "text/plain": [
       "'4567'"
      ]
     },
     "execution_count": 48,
     "metadata": {},
     "output_type": "execute_result"
    }
   ],
   "source": [
    "contact2.groupdict()['ContactNumber']"
   ]
  },
  {
   "cell_type": "code",
   "execution_count": 49,
   "id": "06667f06",
   "metadata": {},
   "outputs": [
    {
     "data": {
      "text/plain": [
       "('123', '321', '4567')"
      ]
     },
     "execution_count": 49,
     "metadata": {},
     "output_type": "execute_result"
    }
   ],
   "source": [
    "contact2.groups()"
   ]
  },
  {
   "cell_type": "code",
   "execution_count": 50,
   "id": "308952d6",
   "metadata": {},
   "outputs": [
    {
     "data": {
      "text/plain": [
       "'123-321-4567'"
      ]
     },
     "execution_count": 50,
     "metadata": {},
     "output_type": "execute_result"
    }
   ],
   "source": [
    "contact2.group(0)"
   ]
  },
  {
   "cell_type": "code",
   "execution_count": 51,
   "id": "5247b97f",
   "metadata": {},
   "outputs": [
    {
     "data": {
      "text/plain": [
       "'123'"
      ]
     },
     "execution_count": 51,
     "metadata": {},
     "output_type": "execute_result"
    }
   ],
   "source": [
    "contact2.group(1)"
   ]
  },
  {
   "cell_type": "code",
   "execution_count": 52,
   "id": "5a3d61f3",
   "metadata": {},
   "outputs": [
    {
     "data": {
      "text/plain": [
       "'321'"
      ]
     },
     "execution_count": 52,
     "metadata": {},
     "output_type": "execute_result"
    }
   ],
   "source": [
    "contact2.group(2)"
   ]
  },
  {
   "cell_type": "code",
   "execution_count": 53,
   "id": "be66424d",
   "metadata": {},
   "outputs": [],
   "source": [
    "mobile_numbers = [\n",
    "    \"654-657-6576\",\n",
    "    \"435-654-6745\",\n",
    "    \"234-765-7356\",\n",
    "    \"654-453-4856\",\n",
    "    \"947-546-8836\",\n",
    "    \"463-768-3665\",\n",
    "    \"654-604-6045\",\n",
    "    \"204-765-7306\",\n",
    "]"
   ]
  },
  {
   "cell_type": "code",
   "execution_count": 54,
   "id": "41eeea3a",
   "metadata": {},
   "outputs": [
    {
     "name": "stdout",
     "output_type": "stream",
     "text": [
      "654-657-6576\n",
      "435-654-6745\n",
      "234-765-7356\n",
      "654-453-4856\n",
      "947-546-8836\n",
      "463-768-3665\n",
      "654-604-6045\n",
      "204-765-7306\n"
     ]
    }
   ],
   "source": [
    "for i in mobile_numbers:\n",
    "    print(i)"
   ]
  },
  {
   "cell_type": "code",
   "execution_count": 55,
   "id": "84656562",
   "metadata": {},
   "outputs": [
    {
     "data": {
      "text/plain": [
       "'654-657-6576'"
      ]
     },
     "execution_count": 55,
     "metadata": {},
     "output_type": "execute_result"
    }
   ],
   "source": [
    "mobile_numbers[0]"
   ]
  },
  {
   "cell_type": "code",
   "execution_count": 56,
   "id": "790c12c2",
   "metadata": {},
   "outputs": [],
   "source": [
    "contact3 = re.search(\"(?P<CityCode>\\d{3})-(?P<AreaCode>\\d{3})-(?P<ContactNumber>\\d{4})\",mobile_numbers[0])"
   ]
  },
  {
   "cell_type": "code",
   "execution_count": 57,
   "id": "bf9c1428",
   "metadata": {},
   "outputs": [
    {
     "data": {
      "text/plain": [
       "{'CityCode': '654', 'AreaCode': '657', 'ContactNumber': '6576'}"
      ]
     },
     "execution_count": 57,
     "metadata": {},
     "output_type": "execute_result"
    }
   ],
   "source": [
    "contact3.groupdict()"
   ]
  },
  {
   "cell_type": "code",
   "execution_count": 58,
   "id": "429e05f1",
   "metadata": {},
   "outputs": [
    {
     "name": "stdout",
     "output_type": "stream",
     "text": [
      "654\n",
      "435\n",
      "234\n",
      "654\n",
      "947\n",
      "463\n",
      "654\n",
      "204\n"
     ]
    }
   ],
   "source": [
    "for i in mobile_numbers:\n",
    "    grp = re.search(\"(?P<CityCode>\\d{3})-(?P<AreaCode>\\d{3})-(?P<ContactNumber>\\d{4})\",i)\n",
    "    print(grp.groupdict()['CityCode'])"
   ]
  },
  {
   "cell_type": "code",
   "execution_count": 59,
   "id": "dd9d233d",
   "metadata": {},
   "outputs": [
    {
     "name": "stdout",
     "output_type": "stream",
     "text": [
      "6576\n",
      "6745\n",
      "7356\n",
      "4856\n",
      "8836\n",
      "3665\n",
      "6045\n",
      "7306\n"
     ]
    }
   ],
   "source": [
    "for i in mobile_numbers:\n",
    "    grp = re.search(\"(?P<CityCode>\\d{3})-(?P<AreaCode>\\d{3})-(?P<ContactNumber>\\d{4})\",i)\n",
    "    print(grp.groupdict()['ContactNumber'])"
   ]
  },
  {
   "cell_type": "code",
   "execution_count": 62,
   "id": "4424baae",
   "metadata": {},
   "outputs": [
    {
     "name": "stdout",
     "output_type": "stream",
     "text": [
      "654-657-6576\n",
      "654-453-4856\n",
      "654-604-6045\n"
     ]
    }
   ],
   "source": [
    "for i in mobile_numbers:\n",
    "    grp = re.search(\"(?P<CityCode>\\d{3})-(?P<AreaCode>\\d{3})-(?P<ContactNumber>\\d{4})\",i)\n",
    "    if grp.groupdict()['CityCode'] == \"654\":\n",
    "        print(grp.group(0))"
   ]
  },
  {
   "cell_type": "code",
   "execution_count": null,
   "id": "cfc4b86b",
   "metadata": {},
   "outputs": [],
   "source": []
  },
  {
   "cell_type": "code",
   "execution_count": null,
   "id": "671b352e",
   "metadata": {},
   "outputs": [],
   "source": []
  },
  {
   "cell_type": "code",
   "execution_count": null,
   "id": "5508edce",
   "metadata": {},
   "outputs": [],
   "source": []
  },
  {
   "cell_type": "code",
   "execution_count": null,
   "id": "c2364d0b",
   "metadata": {},
   "outputs": [],
   "source": []
  },
  {
   "cell_type": "code",
   "execution_count": null,
   "id": "f23e5b6c",
   "metadata": {},
   "outputs": [],
   "source": []
  },
  {
   "cell_type": "code",
   "execution_count": null,
   "id": "57b9c660",
   "metadata": {},
   "outputs": [],
   "source": []
  }
 ],
 "metadata": {
  "kernelspec": {
   "display_name": "Python 3 (ipykernel)",
   "language": "python",
   "name": "python3"
  },
  "language_info": {
   "codemirror_mode": {
    "name": "ipython",
    "version": 3
   },
   "file_extension": ".py",
   "mimetype": "text/x-python",
   "name": "python",
   "nbconvert_exporter": "python",
   "pygments_lexer": "ipython3",
   "version": "3.9.7"
  }
 },
 "nbformat": 4,
 "nbformat_minor": 5
}
