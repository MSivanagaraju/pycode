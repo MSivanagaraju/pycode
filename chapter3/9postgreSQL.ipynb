{
 "cells": [
  {
   "cell_type": "code",
   "execution_count": null,
   "id": "beb47a81",
   "metadata": {},
   "outputs": [],
   "source": [
    "#postgreSQL"
   ]
  },
  {
   "cell_type": "raw",
   "id": "9709b0e7",
   "metadata": {},
   "source": [
    "!pip install psycopg2"
   ]
  },
  {
   "cell_type": "code",
   "execution_count": 1,
   "id": "24c7b210",
   "metadata": {},
   "outputs": [],
   "source": [
    "import psycopg2"
   ]
  },
  {
   "cell_type": "code",
   "execution_count": 2,
   "id": "7bc15f98",
   "metadata": {},
   "outputs": [
    {
     "data": {
      "text/plain": [
       "module"
      ]
     },
     "execution_count": 2,
     "metadata": {},
     "output_type": "execute_result"
    }
   ],
   "source": [
    "type(psycopg2)"
   ]
  },
  {
   "cell_type": "code",
   "execution_count": 3,
   "id": "2ff5fd89",
   "metadata": {},
   "outputs": [],
   "source": [
    "conn = psycopg2.connect(\"dbname='postgres' user='postgres' password=raju1234 host='localhost'\")"
   ]
  },
  {
   "cell_type": "code",
   "execution_count": 4,
   "id": "81369351",
   "metadata": {},
   "outputs": [],
   "source": [
    "cur = conn.cursor()"
   ]
  },
  {
   "cell_type": "code",
   "execution_count": 5,
   "id": "ee7a3af6",
   "metadata": {},
   "outputs": [],
   "source": [
    "cur.execute(\"select * from student\")"
   ]
  },
  {
   "cell_type": "code",
   "execution_count": 6,
   "id": "9d314529",
   "metadata": {},
   "outputs": [
    {
     "name": "stdout",
     "output_type": "stream",
     "text": [
      "('101', 'Ravi', 'Javascript', 4000)\n",
      "('102', 'varma', 'nodejs', 7000)\n",
      "('103', 'venkat', 'React', 9000)\n",
      "('104', 'Shyam', 'React', 10000)\n",
      "('105', 'venkat', 'nodejs', 7000)\n",
      "('106', 'sai', 'python', 5000)\n",
      "('107', 'kumar', 'Flutter', 12000)\n",
      "('108', 'venkat', 'DevOps', 20000)\n",
      "('109', 'Santosh', 'AWS', 15000)\n",
      "('110', 'vamshi', 'github', 3000)\n",
      "('111', 'venkat', 'DevOps', 20000)\n",
      "('112', 'Santosh', 'AWS', 15000)\n",
      "('116', 'vamshi', 'github', 3000)\n",
      "('113', 'venkat', 'DevOps', 20000)\n",
      "('114', 'Santosh', 'AWS', 15000)\n"
     ]
    }
   ],
   "source": [
    "for i in cur:\n",
    "    print(i)"
   ]
  },
  {
   "cell_type": "code",
   "execution_count": 7,
   "id": "477ed581",
   "metadata": {},
   "outputs": [],
   "source": [
    "cur.close()"
   ]
  },
  {
   "cell_type": "code",
   "execution_count": 8,
   "id": "3ecb90af",
   "metadata": {},
   "outputs": [],
   "source": [
    "conn.close()"
   ]
  },
  {
   "cell_type": "code",
   "execution_count": 9,
   "id": "24b56012",
   "metadata": {},
   "outputs": [
    {
     "name": "stdout",
     "output_type": "stream",
     "text": [
      "('101', 'Ravi', 'Javascript', 4000)\n",
      "('102', 'varma', 'nodejs', 7000)\n",
      "('103', 'venkat', 'React', 9000)\n",
      "('104', 'Shyam', 'React', 10000)\n",
      "('105', 'venkat', 'nodejs', 7000)\n",
      "('106', 'sai', 'python', 5000)\n",
      "('107', 'kumar', 'Flutter', 12000)\n",
      "('108', 'venkat', 'DevOps', 20000)\n",
      "('109', 'Santosh', 'AWS', 15000)\n",
      "('110', 'vamshi', 'github', 3000)\n",
      "('111', 'venkat', 'DevOps', 20000)\n",
      "('112', 'Santosh', 'AWS', 15000)\n",
      "('116', 'vamshi', 'github', 3000)\n",
      "('113', 'venkat', 'DevOps', 20000)\n",
      "('114', 'Santosh', 'AWS', 15000)\n"
     ]
    }
   ],
   "source": [
    "#Example2\n",
    "conn = psycopg2.connect(\"dbname='postgres' user='postgres' password=raju1234 host='localhost'\")\n",
    "cur = conn.cursor()\n",
    "cur.execute(\"select * from student\")\n",
    "for i in cur:\n",
    "    print(i)\n",
    "cur.close()\n",
    "conn.close()"
   ]
  },
  {
   "cell_type": "code",
   "execution_count": 10,
   "id": "61901e3e",
   "metadata": {},
   "outputs": [
    {
     "name": "stdout",
     "output_type": "stream",
     "text": [
      "[('101', 'Ravi', 'Javascript', 4000), ('102', 'varma', 'nodejs', 7000), ('103', 'venkat', 'React', 9000), ('104', 'Shyam', 'React', 10000), ('105', 'venkat', 'nodejs', 7000), ('106', 'sai', 'python', 5000), ('107', 'kumar', 'Flutter', 12000), ('108', 'venkat', 'DevOps', 20000), ('109', 'Santosh', 'AWS', 15000), ('110', 'vamshi', 'github', 3000), ('111', 'venkat', 'DevOps', 20000), ('112', 'Santosh', 'AWS', 15000), ('116', 'vamshi', 'github', 3000), ('113', 'venkat', 'DevOps', 20000), ('114', 'Santosh', 'AWS', 15000)]\n"
     ]
    }
   ],
   "source": [
    "#Example3\n",
    "conn = psycopg2.connect(\"dbname='postgres' user='postgres' password=raju1234 host='localhost'\")\n",
    "cur = conn.cursor()\n",
    "cur.execute(\"select * from student\")\n",
    "print(cur.fetchall())\n",
    "cur.close()\n",
    "conn.close()"
   ]
  },
  {
   "cell_type": "code",
   "execution_count": 11,
   "id": "190a7f87",
   "metadata": {},
   "outputs": [
    {
     "name": "stdout",
     "output_type": "stream",
     "text": [
      "('101', 'Ravi', 'Javascript', 4000)\n",
      "('102', 'varma', 'nodejs', 7000)\n"
     ]
    }
   ],
   "source": [
    "#Example4\n",
    "conn = psycopg2.connect(\"dbname='postgres' user='postgres' password=raju1234 host='localhost'\")\n",
    "cur = conn.cursor()\n",
    "cur.execute(\"select * from student\")\n",
    "print(cur.fetchone())\n",
    "print(cur.fetchone())\n",
    "cur.close()\n",
    "conn.close()"
   ]
  },
  {
   "cell_type": "code",
   "execution_count": 12,
   "id": "0826a60e",
   "metadata": {},
   "outputs": [
    {
     "name": "stdout",
     "output_type": "stream",
     "text": [
      "[('101', 'Ravi', 'Javascript', 4000)]\n"
     ]
    }
   ],
   "source": [
    "#Example5\n",
    "conn = psycopg2.connect(\"dbname='postgres' user='postgres' password=raju1234 host='localhost'\")\n",
    "cur = conn.cursor()\n",
    "cur.execute(\"select * from student\")\n",
    "print(cur.fetchmany())\n",
    "cur.close()\n",
    "conn.close()"
   ]
  },
  {
   "cell_type": "code",
   "execution_count": 13,
   "id": "9ea1dad7",
   "metadata": {},
   "outputs": [
    {
     "name": "stdout",
     "output_type": "stream",
     "text": [
      "[('101', 'Ravi', 'Javascript', 4000), ('102', 'varma', 'nodejs', 7000), ('103', 'venkat', 'React', 9000)]\n"
     ]
    }
   ],
   "source": [
    "#Example5\n",
    "conn = psycopg2.connect(\"dbname='postgres' user='postgres' password=raju1234 host='localhost'\")\n",
    "cur = conn.cursor()\n",
    "cur.execute(\"select * from student\")\n",
    "print(cur.fetchmany(3))\n",
    "cur.close()\n",
    "conn.close()"
   ]
  },
  {
   "cell_type": "code",
   "execution_count": 14,
   "id": "9b53d521",
   "metadata": {},
   "outputs": [
    {
     "name": "stdout",
     "output_type": "stream",
     "text": [
      "One Record Inserted Successfully\n"
     ]
    }
   ],
   "source": [
    "#Inserting Data\n",
    "conn = psycopg2.connect(\"dbname='postgres' user='postgres' password=raju1234 host='localhost'\")\n",
    "cur = conn.cursor()\n",
    "cur.execute(\"insert into student values(117,'vishnu','github',3000)\")\n",
    "conn.commit()\n",
    "print(\"One Record Inserted Successfully\")\n",
    "cur.close()\n",
    "conn.close()"
   ]
  },
  {
   "cell_type": "code",
   "execution_count": 15,
   "id": "ae726434",
   "metadata": {},
   "outputs": [],
   "source": [
    "studentData = [(118,'venkat','DevOps',20000),(119,'Santosh','AWS',15000)]"
   ]
  },
  {
   "cell_type": "code",
   "execution_count": 16,
   "id": "b58e0033",
   "metadata": {},
   "outputs": [],
   "source": [
    "conn = psycopg2.connect(\"dbname='postgres' user='postgres' password=raju1234 port='5432' host='localhost'\")\n",
    "cur = conn.cursor()\n",
    "cur.executemany(\"insert into student(sid,sname,course,fee) values(%s,%s,%s,%s)\",studentData)\n",
    "conn.commit()\n",
    "cur.close()\n",
    "conn.close()"
   ]
  },
  {
   "cell_type": "code",
   "execution_count": 17,
   "id": "4f38c718",
   "metadata": {},
   "outputs": [
    {
     "name": "stdout",
     "output_type": "stream",
     "text": [
      "18\n"
     ]
    }
   ],
   "source": [
    "conn = psycopg2.connect(\"dbname='postgres' user='postgres' password=raju1234 port='5432' host='localhost'\")\n",
    "cur = conn.cursor()\n",
    "cur.execute(\"select * from student\")\n",
    "print(cur.rowcount)\n",
    "conn.commit()\n",
    "cur.close()\n",
    "conn.close()"
   ]
  },
  {
   "cell_type": "code",
   "execution_count": null,
   "id": "bfbdccfb",
   "metadata": {},
   "outputs": [],
   "source": []
  },
  {
   "cell_type": "code",
   "execution_count": null,
   "id": "565d2604",
   "metadata": {},
   "outputs": [],
   "source": []
  },
  {
   "cell_type": "code",
   "execution_count": null,
   "id": "2bab6700",
   "metadata": {},
   "outputs": [],
   "source": []
  }
 ],
 "metadata": {
  "kernelspec": {
   "display_name": "Python 3 (ipykernel)",
   "language": "python",
   "name": "python3"
  },
  "language_info": {
   "codemirror_mode": {
    "name": "ipython",
    "version": 3
   },
   "file_extension": ".py",
   "mimetype": "text/x-python",
   "name": "python",
   "nbconvert_exporter": "python",
   "pygments_lexer": "ipython3",
   "version": "3.9.7"
  }
 },
 "nbformat": 4,
 "nbformat_minor": 5
}
