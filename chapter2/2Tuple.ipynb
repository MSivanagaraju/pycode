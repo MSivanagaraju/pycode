{
 "cells": [
  {
   "cell_type": "code",
   "execution_count": null,
   "id": "2bf224f0",
   "metadata": {},
   "outputs": [],
   "source": [
    "#Tuple\n",
    "# tuples are readonly list type objects\n",
    "# we can not add new element in tuple\n",
    "# we use normal braces to create tuple"
   ]
  },
  {
   "cell_type": "code",
   "execution_count": 1,
   "id": "8925f42d",
   "metadata": {},
   "outputs": [],
   "source": [
    "T1 = (10,20,30,40,50)\n",
    "T2 = (\"python\",\"javascript\",'reactjs','nodejs')\n",
    "T3 = (10.45,10.56,10.78)\n",
    "T4 = (100,'python',10.45)"
   ]
  },
  {
   "cell_type": "code",
   "execution_count": 2,
   "id": "895c6a5e",
   "metadata": {},
   "outputs": [
    {
     "name": "stdout",
     "output_type": "stream",
     "text": [
      "(10, 20, 30, 40, 50)\n",
      "('python', 'javascript', 'reactjs', 'nodejs')\n",
      "(10.45, 10.56, 10.78)\n",
      "(100, 'python', 10.45)\n"
     ]
    }
   ],
   "source": [
    "print(T1)\n",
    "print(T2)\n",
    "print(T3)\n",
    "print(T4)"
   ]
  },
  {
   "cell_type": "code",
   "execution_count": 3,
   "id": "0cfa3f78",
   "metadata": {},
   "outputs": [
    {
     "name": "stdout",
     "output_type": "stream",
     "text": [
      "<class 'tuple'>\n",
      "()\n"
     ]
    }
   ],
   "source": [
    "#creating empty tuple\n",
    "T5 = ()\n",
    "print(type(T5))\n",
    "print(T5)"
   ]
  },
  {
   "cell_type": "code",
   "execution_count": 4,
   "id": "5dfb4728",
   "metadata": {},
   "outputs": [
    {
     "data": {
      "text/plain": [
       "type"
      ]
     },
     "execution_count": 4,
     "metadata": {},
     "output_type": "execute_result"
    }
   ],
   "source": [
    "# tuple is class\n",
    "type(tuple)"
   ]
  },
  {
   "cell_type": "code",
   "execution_count": 5,
   "id": "3e17833f",
   "metadata": {},
   "outputs": [
    {
     "name": "stdout",
     "output_type": "stream",
     "text": [
      "<class 'tuple'>\n",
      "()\n"
     ]
    }
   ],
   "source": [
    "# method2\n",
    "T6 = tuple()\n",
    "print(type(T6))\n",
    "print(T6)"
   ]
  },
  {
   "cell_type": "code",
   "execution_count": 6,
   "id": "b039d9de",
   "metadata": {},
   "outputs": [],
   "source": [
    "L1 = [10,20,30]"
   ]
  },
  {
   "cell_type": "code",
   "execution_count": 7,
   "id": "699996dd",
   "metadata": {},
   "outputs": [
    {
     "name": "stdout",
     "output_type": "stream",
     "text": [
      "<class 'tuple'>\n",
      "(10, 20, 30)\n"
     ]
    }
   ],
   "source": [
    "#tuple class required iterable object as input to create a tuple\n",
    "T7 = tuple(L1)\n",
    "print(type(T7))\n",
    "print(T7)"
   ]
  },
  {
   "cell_type": "code",
   "execution_count": 8,
   "id": "237b4791",
   "metadata": {},
   "outputs": [
    {
     "name": "stdout",
     "output_type": "stream",
     "text": [
      "<class 'tuple'>\n",
      "(1, 2, 3, 4, 5)\n"
     ]
    }
   ],
   "source": [
    "T8 = tuple((1,2,3,4,5))\n",
    "print(type(T8))\n",
    "print(T8)"
   ]
  },
  {
   "cell_type": "code",
   "execution_count": 9,
   "id": "89a35132",
   "metadata": {},
   "outputs": [],
   "source": [
    "T1=(1,2,3,)"
   ]
  },
  {
   "cell_type": "code",
   "execution_count": 10,
   "id": "01b8d9b4",
   "metadata": {},
   "outputs": [
    {
     "name": "stdout",
     "output_type": "stream",
     "text": [
      "Pretty printing has been turned OFF\n"
     ]
    }
   ],
   "source": [
    "pprint"
   ]
  },
  {
   "cell_type": "code",
   "execution_count": 11,
   "id": "f02eb129",
   "metadata": {},
   "outputs": [
    {
     "data": {
      "text/plain": [
       "['__add__', '__class__', '__class_getitem__', '__contains__', '__delattr__', '__dir__', '__doc__', '__eq__', '__format__', '__ge__', '__getattribute__', '__getitem__', '__getnewargs__', '__gt__', '__hash__', '__init__', '__init_subclass__', '__iter__', '__le__', '__len__', '__lt__', '__mul__', '__ne__', '__new__', '__reduce__', '__reduce_ex__', '__repr__', '__rmul__', '__setattr__', '__sizeof__', '__str__', '__subclasshook__', 'count', 'index']"
      ]
     },
     "execution_count": 11,
     "metadata": {},
     "output_type": "execute_result"
    }
   ],
   "source": [
    "dir(T1)"
   ]
  },
  {
   "cell_type": "code",
   "execution_count": 12,
   "id": "e96b4eed",
   "metadata": {},
   "outputs": [
    {
     "name": "stdout",
     "output_type": "stream",
     "text": [
      "('w', 'e', 'l', 'c', 'o', 'm', 'e')\n"
     ]
    }
   ],
   "source": [
    "T9 = tuple(\"welcome\")\n",
    "print(T9)"
   ]
  },
  {
   "cell_type": "code",
   "execution_count": 13,
   "id": "514cebc4",
   "metadata": {},
   "outputs": [
    {
     "name": "stdout",
     "output_type": "stream",
     "text": [
      "(0, 5, 10, 15, 20, 25)\n"
     ]
    }
   ],
   "source": [
    "T1 = tuple(range(0,26,5))\n",
    "print(T1)"
   ]
  },
  {
   "cell_type": "code",
   "execution_count": null,
   "id": "af55ef26",
   "metadata": {},
   "outputs": [],
   "source": [
    "#indexing and slicing on tuple"
   ]
  },
  {
   "cell_type": "code",
   "execution_count": null,
   "id": "c159a0da",
   "metadata": {},
   "outputs": [],
   "source": [
    "#indexing"
   ]
  },
  {
   "cell_type": "code",
   "execution_count": 14,
   "id": "80cdfd04",
   "metadata": {},
   "outputs": [],
   "source": [
    "T1 = (10,20,30,40,50,60)"
   ]
  },
  {
   "cell_type": "code",
   "execution_count": 15,
   "id": "57df8a13",
   "metadata": {},
   "outputs": [
    {
     "data": {
      "text/plain": [
       "10"
      ]
     },
     "execution_count": 15,
     "metadata": {},
     "output_type": "execute_result"
    }
   ],
   "source": [
    "T1[0]"
   ]
  },
  {
   "cell_type": "code",
   "execution_count": 16,
   "id": "6e3f55ff",
   "metadata": {},
   "outputs": [
    {
     "data": {
      "text/plain": [
       "60"
      ]
     },
     "execution_count": 16,
     "metadata": {},
     "output_type": "execute_result"
    }
   ],
   "source": [
    "T1[-1]"
   ]
  },
  {
   "cell_type": "code",
   "execution_count": null,
   "id": "5a07257b",
   "metadata": {},
   "outputs": [],
   "source": [
    "#slicing"
   ]
  },
  {
   "cell_type": "code",
   "execution_count": null,
   "id": "e48bf53c",
   "metadata": {},
   "outputs": [],
   "source": [
    "T1[:]"
   ]
  },
  {
   "cell_type": "code",
   "execution_count": null,
   "id": "4a02b0a9",
   "metadata": {},
   "outputs": [],
   "source": [
    "T1[:4]"
   ]
  },
  {
   "cell_type": "code",
   "execution_count": null,
   "id": "a2a42fa7",
   "metadata": {},
   "outputs": [],
   "source": [
    "T1[2:5]"
   ]
  },
  {
   "cell_type": "code",
   "execution_count": null,
   "id": "deb87025",
   "metadata": {},
   "outputs": [],
   "source": [
    "#we can not add new element in existing tuple"
   ]
  },
  {
   "cell_type": "code",
   "execution_count": 17,
   "id": "f04d9e10",
   "metadata": {},
   "outputs": [],
   "source": [
    "T1 = (10,20,30,40,50)"
   ]
  },
  {
   "cell_type": "code",
   "execution_count": 18,
   "id": "c6f607c8",
   "metadata": {},
   "outputs": [
    {
     "ename": "TypeError",
     "evalue": "'tuple' object does not support item assignment",
     "output_type": "error",
     "traceback": [
      "\u001b[1;31m---------------------------------------------------------------------------\u001b[0m",
      "\u001b[1;31mTypeError\u001b[0m                                 Traceback (most recent call last)",
      "\u001b[1;32m~\\AppData\\Local\\Temp/ipykernel_11480/4160427405.py\u001b[0m in \u001b[0;36m<module>\u001b[1;34m\u001b[0m\n\u001b[1;32m----> 1\u001b[1;33m \u001b[0mT1\u001b[0m\u001b[1;33m[\u001b[0m\u001b[1;36m0\u001b[0m\u001b[1;33m]\u001b[0m\u001b[1;33m=\u001b[0m\u001b[1;36m100\u001b[0m\u001b[1;33m\u001b[0m\u001b[1;33m\u001b[0m\u001b[0m\n\u001b[0m",
      "\u001b[1;31mTypeError\u001b[0m: 'tuple' object does not support item assignment"
     ]
    }
   ],
   "source": [
    "T1[0]=100"
   ]
  },
  {
   "cell_type": "code",
   "execution_count": 19,
   "id": "a6d35a66",
   "metadata": {},
   "outputs": [
    {
     "ename": "TypeError",
     "evalue": "'tuple' object does not support item assignment",
     "output_type": "error",
     "traceback": [
      "\u001b[1;31m---------------------------------------------------------------------------\u001b[0m",
      "\u001b[1;31mTypeError\u001b[0m                                 Traceback (most recent call last)",
      "\u001b[1;32m~\\AppData\\Local\\Temp/ipykernel_11480/3165810117.py\u001b[0m in \u001b[0;36m<module>\u001b[1;34m\u001b[0m\n\u001b[1;32m----> 1\u001b[1;33m \u001b[0mT1\u001b[0m\u001b[1;33m[\u001b[0m\u001b[1;36m5\u001b[0m\u001b[1;33m]\u001b[0m\u001b[1;33m=\u001b[0m\u001b[1;36m60\u001b[0m\u001b[1;33m\u001b[0m\u001b[1;33m\u001b[0m\u001b[0m\n\u001b[0m",
      "\u001b[1;31mTypeError\u001b[0m: 'tuple' object does not support item assignment"
     ]
    }
   ],
   "source": [
    "T1[5]=60"
   ]
  },
  {
   "cell_type": "code",
   "execution_count": null,
   "id": "74194acf",
   "metadata": {},
   "outputs": [],
   "source": [
    "#tuple methods"
   ]
  },
  {
   "cell_type": "code",
   "execution_count": 20,
   "id": "ccbe7f55",
   "metadata": {},
   "outputs": [
    {
     "data": {
      "text/plain": [
       "['__add__', '__class__', '__class_getitem__', '__contains__', '__delattr__', '__dir__', '__doc__', '__eq__', '__format__', '__ge__', '__getattribute__', '__getitem__', '__getnewargs__', '__gt__', '__hash__', '__init__', '__init_subclass__', '__iter__', '__le__', '__len__', '__lt__', '__mul__', '__ne__', '__new__', '__reduce__', '__reduce_ex__', '__repr__', '__rmul__', '__setattr__', '__sizeof__', '__str__', '__subclasshook__', 'count', 'index']"
      ]
     },
     "execution_count": 20,
     "metadata": {},
     "output_type": "execute_result"
    }
   ],
   "source": [
    "dir(T1)"
   ]
  },
  {
   "cell_type": "code",
   "execution_count": 21,
   "id": "6dd474bb",
   "metadata": {},
   "outputs": [],
   "source": [
    "T1 = (10,20,22,30,10,40,22,60,45,10,22,50)"
   ]
  },
  {
   "cell_type": "code",
   "execution_count": null,
   "id": "89407832",
   "metadata": {},
   "outputs": [],
   "source": [
    "#count\n",
    "help(T1.count)"
   ]
  },
  {
   "cell_type": "code",
   "execution_count": 22,
   "id": "e7849d6b",
   "metadata": {},
   "outputs": [
    {
     "data": {
      "text/plain": [
       "3"
      ]
     },
     "execution_count": 22,
     "metadata": {},
     "output_type": "execute_result"
    }
   ],
   "source": [
    "T1.count(10)"
   ]
  },
  {
   "cell_type": "code",
   "execution_count": 23,
   "id": "e56e126f",
   "metadata": {},
   "outputs": [
    {
     "data": {
      "text/plain": [
       "12"
      ]
     },
     "execution_count": 23,
     "metadata": {},
     "output_type": "execute_result"
    }
   ],
   "source": [
    "len(T1)"
   ]
  },
  {
   "cell_type": "code",
   "execution_count": 24,
   "id": "1bbd189a",
   "metadata": {},
   "outputs": [
    {
     "data": {
      "text/plain": [
       "60"
      ]
     },
     "execution_count": 24,
     "metadata": {},
     "output_type": "execute_result"
    }
   ],
   "source": [
    "max(T1)"
   ]
  },
  {
   "cell_type": "code",
   "execution_count": 25,
   "id": "30a181c1",
   "metadata": {},
   "outputs": [
    {
     "data": {
      "text/plain": [
       "10"
      ]
     },
     "execution_count": 25,
     "metadata": {},
     "output_type": "execute_result"
    }
   ],
   "source": [
    "min(T1)"
   ]
  },
  {
   "cell_type": "code",
   "execution_count": 26,
   "id": "591d308f",
   "metadata": {},
   "outputs": [
    {
     "data": {
      "text/plain": [
       "341"
      ]
     },
     "execution_count": 26,
     "metadata": {},
     "output_type": "execute_result"
    }
   ],
   "source": [
    "sum(T1)"
   ]
  },
  {
   "cell_type": "code",
   "execution_count": null,
   "id": "037ce2cc",
   "metadata": {},
   "outputs": [],
   "source": [
    "#index\n",
    "help(T1.index)"
   ]
  },
  {
   "cell_type": "code",
   "execution_count": 27,
   "id": "05050e77",
   "metadata": {},
   "outputs": [
    {
     "data": {
      "text/plain": [
       "(10, 20, 22, 30, 10, 40, 22, 60, 45, 10, 22, 50)"
      ]
     },
     "execution_count": 27,
     "metadata": {},
     "output_type": "execute_result"
    }
   ],
   "source": [
    "T1"
   ]
  },
  {
   "cell_type": "code",
   "execution_count": 28,
   "id": "80945dd5",
   "metadata": {},
   "outputs": [
    {
     "data": {
      "text/plain": [
       "3"
      ]
     },
     "execution_count": 28,
     "metadata": {},
     "output_type": "execute_result"
    }
   ],
   "source": [
    "T1.index(30)"
   ]
  },
  {
   "cell_type": "code",
   "execution_count": 29,
   "id": "d326a3d9",
   "metadata": {},
   "outputs": [
    {
     "data": {
      "text/plain": [
       "0"
      ]
     },
     "execution_count": 29,
     "metadata": {},
     "output_type": "execute_result"
    }
   ],
   "source": [
    "T1.index(10)"
   ]
  },
  {
   "cell_type": "code",
   "execution_count": 30,
   "id": "c4dad3a6",
   "metadata": {},
   "outputs": [
    {
     "data": {
      "text/plain": [
       "4"
      ]
     },
     "execution_count": 30,
     "metadata": {},
     "output_type": "execute_result"
    }
   ],
   "source": [
    "T1.index(10,2)"
   ]
  },
  {
   "cell_type": "code",
   "execution_count": 31,
   "id": "6ff23eaf",
   "metadata": {},
   "outputs": [
    {
     "data": {
      "text/plain": [
       "6"
      ]
     },
     "execution_count": 31,
     "metadata": {},
     "output_type": "execute_result"
    }
   ],
   "source": [
    "T1.index(22,4,8)"
   ]
  },
  {
   "cell_type": "code",
   "execution_count": 32,
   "id": "fc924ea0",
   "metadata": {},
   "outputs": [
    {
     "name": "stdout",
     "output_type": "stream",
     "text": [
      "10,20,22,30,10,40,22,60,45,10,22,50,"
     ]
    }
   ],
   "source": [
    "for i in T1:\n",
    "    print(i,end=\",\")"
   ]
  },
  {
   "cell_type": "code",
   "execution_count": null,
   "id": "7b898e3c",
   "metadata": {},
   "outputs": [],
   "source": [
    "#creating tuple with single element"
   ]
  },
  {
   "cell_type": "code",
   "execution_count": 33,
   "id": "4d00f81a",
   "metadata": {},
   "outputs": [
    {
     "name": "stdout",
     "output_type": "stream",
     "text": [
      "<class 'int'>\n",
      "10\n"
     ]
    }
   ],
   "source": [
    "T1 = (10)\n",
    "print(type(T1))\n",
    "print(T1)"
   ]
  },
  {
   "cell_type": "code",
   "execution_count": 34,
   "id": "bbf7c1b2",
   "metadata": {},
   "outputs": [
    {
     "name": "stdout",
     "output_type": "stream",
     "text": [
      "<class 'tuple'>\n",
      "(10,)\n"
     ]
    }
   ],
   "source": [
    "T1 = (10,)\n",
    "print(type(T1))\n",
    "print(T1)"
   ]
  },
  {
   "cell_type": "code",
   "execution_count": 35,
   "id": "b6ef6e6b",
   "metadata": {},
   "outputs": [
    {
     "name": "stdout",
     "output_type": "stream",
     "text": [
      "<class 'tuple'>\n",
      "(100,)\n"
     ]
    }
   ],
   "source": [
    "T1 = 100,\n",
    "print(type(T1))\n",
    "print(T1)"
   ]
  },
  {
   "cell_type": "code",
   "execution_count": 36,
   "id": "60c9471e",
   "metadata": {},
   "outputs": [
    {
     "name": "stdout",
     "output_type": "stream",
     "text": [
      "<class 'tuple'>\n",
      "(10, 20, 30, 40, 50)\n"
     ]
    }
   ],
   "source": [
    "T1 = 10,20,30,40,50\n",
    "print(type(T1))\n",
    "print(T1)"
   ]
  },
  {
   "cell_type": "code",
   "execution_count": 37,
   "id": "f571c65d",
   "metadata": {},
   "outputs": [
    {
     "data": {
      "text/plain": [
       "<class 'tuple'>"
      ]
     },
     "execution_count": 37,
     "metadata": {},
     "output_type": "execute_result"
    }
   ],
   "source": [
    "T1 = \"python\",\"django\",\"javascript\"\n",
    "type(T1)"
   ]
  },
  {
   "cell_type": "code",
   "execution_count": 38,
   "id": "c82b2f4c",
   "metadata": {},
   "outputs": [
    {
     "data": {
      "text/plain": [
       "3"
      ]
     },
     "execution_count": 38,
     "metadata": {},
     "output_type": "execute_result"
    }
   ],
   "source": [
    "len(T1)"
   ]
  },
  {
   "cell_type": "code",
   "execution_count": null,
   "id": "3a2ba33a",
   "metadata": {},
   "outputs": [],
   "source": [
    "#packing and unpacking"
   ]
  },
  {
   "cell_type": "code",
   "execution_count": 39,
   "id": "1922a347",
   "metadata": {},
   "outputs": [],
   "source": [
    "T1 = (10,20,30)"
   ]
  },
  {
   "cell_type": "code",
   "execution_count": 40,
   "id": "90e4c3d6",
   "metadata": {},
   "outputs": [
    {
     "data": {
      "text/plain": [
       "3"
      ]
     },
     "execution_count": 40,
     "metadata": {},
     "output_type": "execute_result"
    }
   ],
   "source": [
    "len(T1)"
   ]
  },
  {
   "cell_type": "code",
   "execution_count": 41,
   "id": "d586b750",
   "metadata": {},
   "outputs": [
    {
     "data": {
      "text/plain": [
       "(10, 20, 30)"
      ]
     },
     "execution_count": 41,
     "metadata": {},
     "output_type": "execute_result"
    }
   ],
   "source": [
    "T1"
   ]
  },
  {
   "cell_type": "code",
   "execution_count": 42,
   "id": "fe45a0ac",
   "metadata": {},
   "outputs": [
    {
     "name": "stdout",
     "output_type": "stream",
     "text": [
      "10\n",
      "20\n",
      "30\n"
     ]
    }
   ],
   "source": [
    "#unpacking\n",
    "v1,v2,v3 = T1\n",
    "print(v1)\n",
    "print(v2)\n",
    "print(v3)"
   ]
  },
  {
   "cell_type": "code",
   "execution_count": 43,
   "id": "116ff2b2",
   "metadata": {},
   "outputs": [
    {
     "ename": "ValueError",
     "evalue": "not enough values to unpack (expected 4, got 3)",
     "output_type": "error",
     "traceback": [
      "\u001b[1;31m---------------------------------------------------------------------------\u001b[0m",
      "\u001b[1;31mValueError\u001b[0m                                Traceback (most recent call last)",
      "\u001b[1;32m~\\AppData\\Local\\Temp/ipykernel_11480/3865930107.py\u001b[0m in \u001b[0;36m<module>\u001b[1;34m\u001b[0m\n\u001b[1;32m----> 1\u001b[1;33m \u001b[0mv1\u001b[0m\u001b[1;33m,\u001b[0m\u001b[0mv2\u001b[0m\u001b[1;33m,\u001b[0m\u001b[0mv3\u001b[0m\u001b[1;33m,\u001b[0m\u001b[0mv4\u001b[0m \u001b[1;33m=\u001b[0m \u001b[0mT1\u001b[0m\u001b[1;33m\u001b[0m\u001b[1;33m\u001b[0m\u001b[0m\n\u001b[0m\u001b[0;32m      2\u001b[0m \u001b[0mprint\u001b[0m\u001b[1;33m(\u001b[0m\u001b[0mv1\u001b[0m\u001b[1;33m)\u001b[0m\u001b[1;33m\u001b[0m\u001b[1;33m\u001b[0m\u001b[0m\n\u001b[0;32m      3\u001b[0m \u001b[0mprint\u001b[0m\u001b[1;33m(\u001b[0m\u001b[0mv2\u001b[0m\u001b[1;33m)\u001b[0m\u001b[1;33m\u001b[0m\u001b[1;33m\u001b[0m\u001b[0m\n\u001b[0;32m      4\u001b[0m \u001b[0mprint\u001b[0m\u001b[1;33m(\u001b[0m\u001b[0mv3\u001b[0m\u001b[1;33m)\u001b[0m\u001b[1;33m\u001b[0m\u001b[1;33m\u001b[0m\u001b[0m\n",
      "\u001b[1;31mValueError\u001b[0m: not enough values to unpack (expected 4, got 3)"
     ]
    }
   ],
   "source": [
    "v1,v2,v3,v4 = T1\n",
    "print(v1)\n",
    "print(v2)\n",
    "print(v3)"
   ]
  },
  {
   "cell_type": "code",
   "execution_count": 44,
   "id": "dc1b8a2f",
   "metadata": {},
   "outputs": [
    {
     "ename": "ValueError",
     "evalue": "too many values to unpack (expected 2)",
     "output_type": "error",
     "traceback": [
      "\u001b[1;31m---------------------------------------------------------------------------\u001b[0m",
      "\u001b[1;31mValueError\u001b[0m                                Traceback (most recent call last)",
      "\u001b[1;32m~\\AppData\\Local\\Temp/ipykernel_11480/595281707.py\u001b[0m in \u001b[0;36m<module>\u001b[1;34m\u001b[0m\n\u001b[1;32m----> 1\u001b[1;33m \u001b[0mv1\u001b[0m\u001b[1;33m,\u001b[0m\u001b[0mv2\u001b[0m \u001b[1;33m=\u001b[0m \u001b[0mT1\u001b[0m\u001b[1;33m\u001b[0m\u001b[1;33m\u001b[0m\u001b[0m\n\u001b[0m\u001b[0;32m      2\u001b[0m \u001b[0mprint\u001b[0m\u001b[1;33m(\u001b[0m\u001b[0mv1\u001b[0m\u001b[1;33m)\u001b[0m\u001b[1;33m\u001b[0m\u001b[1;33m\u001b[0m\u001b[0m\n\u001b[0;32m      3\u001b[0m \u001b[0mprint\u001b[0m\u001b[1;33m(\u001b[0m\u001b[0mv2\u001b[0m\u001b[1;33m)\u001b[0m\u001b[1;33m\u001b[0m\u001b[1;33m\u001b[0m\u001b[0m\n",
      "\u001b[1;31mValueError\u001b[0m: too many values to unpack (expected 2)"
     ]
    }
   ],
   "source": [
    "v1,v2 = T1\n",
    "print(v1)\n",
    "print(v2)"
   ]
  },
  {
   "cell_type": "code",
   "execution_count": 45,
   "id": "bf09aade",
   "metadata": {},
   "outputs": [
    {
     "name": "stdout",
     "output_type": "stream",
     "text": [
      "(10, 20)\n"
     ]
    },
    {
     "data": {
      "text/plain": [
       "2595404376512"
      ]
     },
     "execution_count": 45,
     "metadata": {},
     "output_type": "execute_result"
    }
   ],
   "source": [
    "T1 = (10,20)\n",
    "print(T1)\n",
    "id(T1)"
   ]
  },
  {
   "cell_type": "code",
   "execution_count": 46,
   "id": "8bb7dfaf",
   "metadata": {},
   "outputs": [
    {
     "name": "stdout",
     "output_type": "stream",
     "text": [
      "(10, 20, 30)\n"
     ]
    },
    {
     "data": {
      "text/plain": [
       "2595400636608"
      ]
     },
     "execution_count": 46,
     "metadata": {},
     "output_type": "execute_result"
    }
   ],
   "source": [
    "T1 = 10,20,30\n",
    "print(T1)\n",
    "id(T1)"
   ]
  },
  {
   "cell_type": "code",
   "execution_count": 47,
   "id": "db44873d",
   "metadata": {},
   "outputs": [],
   "source": [
    "L1 = [(10,20),(30,40),(50,60)]"
   ]
  },
  {
   "cell_type": "code",
   "execution_count": 48,
   "id": "0b309677",
   "metadata": {},
   "outputs": [
    {
     "data": {
      "text/plain": [
       "<class 'list'>"
      ]
     },
     "execution_count": 48,
     "metadata": {},
     "output_type": "execute_result"
    }
   ],
   "source": [
    "type(L1)"
   ]
  },
  {
   "cell_type": "code",
   "execution_count": 49,
   "id": "aca61847",
   "metadata": {},
   "outputs": [
    {
     "data": {
      "text/plain": [
       "(10, 20)"
      ]
     },
     "execution_count": 49,
     "metadata": {},
     "output_type": "execute_result"
    }
   ],
   "source": [
    "L1[0]"
   ]
  },
  {
   "cell_type": "code",
   "execution_count": 50,
   "id": "394563e3",
   "metadata": {},
   "outputs": [
    {
     "data": {
      "text/plain": [
       "<class 'tuple'>"
      ]
     },
     "execution_count": 50,
     "metadata": {},
     "output_type": "execute_result"
    }
   ],
   "source": [
    "type(L1[0])"
   ]
  },
  {
   "cell_type": "code",
   "execution_count": 51,
   "id": "071b25ea",
   "metadata": {},
   "outputs": [
    {
     "data": {
      "text/plain": [
       "10"
      ]
     },
     "execution_count": 51,
     "metadata": {},
     "output_type": "execute_result"
    }
   ],
   "source": [
    "L1[0][0]"
   ]
  },
  {
   "cell_type": "code",
   "execution_count": 52,
   "id": "bd827b31",
   "metadata": {},
   "outputs": [
    {
     "data": {
      "text/plain": [
       "<class 'int'>"
      ]
     },
     "execution_count": 52,
     "metadata": {},
     "output_type": "execute_result"
    }
   ],
   "source": [
    "type(L1[0][0])"
   ]
  },
  {
   "cell_type": "code",
   "execution_count": 53,
   "id": "2824a3fe",
   "metadata": {},
   "outputs": [
    {
     "data": {
      "text/plain": [
       "[(10, 20), (30, 40), (50, 60)]"
      ]
     },
     "execution_count": 53,
     "metadata": {},
     "output_type": "execute_result"
    }
   ],
   "source": [
    "L1"
   ]
  },
  {
   "cell_type": "code",
   "execution_count": 54,
   "id": "139fc6d0",
   "metadata": {},
   "outputs": [
    {
     "ename": "TypeError",
     "evalue": "'tuple' object does not support item assignment",
     "output_type": "error",
     "traceback": [
      "\u001b[1;31m---------------------------------------------------------------------------\u001b[0m",
      "\u001b[1;31mTypeError\u001b[0m                                 Traceback (most recent call last)",
      "\u001b[1;32m~\\AppData\\Local\\Temp/ipykernel_11480/1258647840.py\u001b[0m in \u001b[0;36m<module>\u001b[1;34m\u001b[0m\n\u001b[1;32m----> 1\u001b[1;33m \u001b[0mL1\u001b[0m\u001b[1;33m[\u001b[0m\u001b[1;36m0\u001b[0m\u001b[1;33m]\u001b[0m\u001b[1;33m[\u001b[0m\u001b[1;36m0\u001b[0m\u001b[1;33m]\u001b[0m\u001b[1;33m=\u001b[0m\u001b[1;36m100\u001b[0m\u001b[1;33m\u001b[0m\u001b[1;33m\u001b[0m\u001b[0m\n\u001b[0m",
      "\u001b[1;31mTypeError\u001b[0m: 'tuple' object does not support item assignment"
     ]
    }
   ],
   "source": [
    "L1[0][0]=100"
   ]
  },
  {
   "cell_type": "code",
   "execution_count": 55,
   "id": "115624e2",
   "metadata": {},
   "outputs": [
    {
     "data": {
      "text/plain": [
       "[(10, 20), (30, 40), (50, 60)]"
      ]
     },
     "execution_count": 55,
     "metadata": {},
     "output_type": "execute_result"
    }
   ],
   "source": [
    "L1"
   ]
  },
  {
   "cell_type": "code",
   "execution_count": 56,
   "id": "3dc2729f",
   "metadata": {},
   "outputs": [
    {
     "data": {
      "text/plain": [
       "2595404261440"
      ]
     },
     "execution_count": 56,
     "metadata": {},
     "output_type": "execute_result"
    }
   ],
   "source": [
    "id(L1[0])"
   ]
  },
  {
   "cell_type": "code",
   "execution_count": 57,
   "id": "3c8f6fc6",
   "metadata": {},
   "outputs": [
    {
     "name": "stdout",
     "output_type": "stream",
     "text": [
      "[(100, 200), (30, 40), (50, 60)]\n"
     ]
    }
   ],
   "source": [
    "L1[0]=(100,200)\n",
    "print(L1)"
   ]
  },
  {
   "cell_type": "code",
   "execution_count": 59,
   "id": "3c8351e2",
   "metadata": {},
   "outputs": [],
   "source": [
    "t2 = (10,20)"
   ]
  },
  {
   "cell_type": "code",
   "execution_count": 60,
   "id": "5edd4ac7",
   "metadata": {},
   "outputs": [
    {
     "data": {
      "text/plain": [
       "2595404367744"
      ]
     },
     "execution_count": 60,
     "metadata": {},
     "output_type": "execute_result"
    }
   ],
   "source": [
    "id(t2)"
   ]
  },
  {
   "cell_type": "code",
   "execution_count": 58,
   "id": "d35ff767",
   "metadata": {},
   "outputs": [
    {
     "data": {
      "text/plain": [
       "2595404260352"
      ]
     },
     "execution_count": 58,
     "metadata": {},
     "output_type": "execute_result"
    }
   ],
   "source": [
    "id(L1[0])"
   ]
  },
  {
   "cell_type": "code",
   "execution_count": 61,
   "id": "c97e74fd",
   "metadata": {},
   "outputs": [],
   "source": [
    "T1 = ([10,20],[30,40],[50,60])"
   ]
  },
  {
   "cell_type": "code",
   "execution_count": 62,
   "id": "f0557131",
   "metadata": {},
   "outputs": [
    {
     "data": {
      "text/plain": [
       "<class 'tuple'>"
      ]
     },
     "execution_count": 62,
     "metadata": {},
     "output_type": "execute_result"
    }
   ],
   "source": [
    "type(T1)"
   ]
  },
  {
   "cell_type": "code",
   "execution_count": 63,
   "id": "ab141701",
   "metadata": {},
   "outputs": [
    {
     "data": {
      "text/plain": [
       "<class 'list'>"
      ]
     },
     "execution_count": 63,
     "metadata": {},
     "output_type": "execute_result"
    }
   ],
   "source": [
    "type(T1[0])"
   ]
  },
  {
   "cell_type": "code",
   "execution_count": 64,
   "id": "6fe8c876",
   "metadata": {},
   "outputs": [
    {
     "data": {
      "text/plain": [
       "[10, 20]"
      ]
     },
     "execution_count": 64,
     "metadata": {},
     "output_type": "execute_result"
    }
   ],
   "source": [
    "T1[0]"
   ]
  },
  {
   "cell_type": "code",
   "execution_count": 65,
   "id": "32fa89ab",
   "metadata": {},
   "outputs": [
    {
     "data": {
      "text/plain": [
       "10"
      ]
     },
     "execution_count": 65,
     "metadata": {},
     "output_type": "execute_result"
    }
   ],
   "source": [
    "T1[0][0]"
   ]
  },
  {
   "cell_type": "code",
   "execution_count": 67,
   "id": "ed50f268",
   "metadata": {},
   "outputs": [
    {
     "data": {
      "text/plain": [
       "([100, 20], [30, 40], [50, 60])"
      ]
     },
     "execution_count": 67,
     "metadata": {},
     "output_type": "execute_result"
    }
   ],
   "source": [
    "T1[0][0]=100\n",
    "T1"
   ]
  },
  {
   "cell_type": "code",
   "execution_count": 68,
   "id": "9f96950b",
   "metadata": {},
   "outputs": [
    {
     "ename": "TypeError",
     "evalue": "'tuple' object does not support item assignment",
     "output_type": "error",
     "traceback": [
      "\u001b[1;31m---------------------------------------------------------------------------\u001b[0m",
      "\u001b[1;31mTypeError\u001b[0m                                 Traceback (most recent call last)",
      "\u001b[1;32m~\\AppData\\Local\\Temp/ipykernel_11480/3041741423.py\u001b[0m in \u001b[0;36m<module>\u001b[1;34m\u001b[0m\n\u001b[1;32m----> 1\u001b[1;33m \u001b[0mT1\u001b[0m\u001b[1;33m[\u001b[0m\u001b[1;36m0\u001b[0m\u001b[1;33m]\u001b[0m\u001b[1;33m=\u001b[0m\u001b[1;33m[\u001b[0m\u001b[1;36m111\u001b[0m\u001b[1;33m,\u001b[0m\u001b[1;36m222\u001b[0m\u001b[1;33m]\u001b[0m\u001b[1;33m\u001b[0m\u001b[1;33m\u001b[0m\u001b[0m\n\u001b[0m",
      "\u001b[1;31mTypeError\u001b[0m: 'tuple' object does not support item assignment"
     ]
    }
   ],
   "source": [
    "T1[0]=[111,222]"
   ]
  },
  {
   "cell_type": "code",
   "execution_count": null,
   "id": "f19db624",
   "metadata": {},
   "outputs": [],
   "source": []
  }
 ],
 "metadata": {
  "kernelspec": {
   "display_name": "Python 3 (ipykernel)",
   "language": "python",
   "name": "python3"
  },
  "language_info": {
   "codemirror_mode": {
    "name": "ipython",
    "version": 3
   },
   "file_extension": ".py",
   "mimetype": "text/x-python",
   "name": "python",
   "nbconvert_exporter": "python",
   "pygments_lexer": "ipython3",
   "version": "3.9.7"
  }
 },
 "nbformat": 4,
 "nbformat_minor": 5
}
