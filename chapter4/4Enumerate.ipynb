{
 "cells": [
  {
   "cell_type": "code",
   "execution_count": null,
   "id": "385ec0bb",
   "metadata": {},
   "outputs": [],
   "source": [
    "#enumerate"
   ]
  },
  {
   "cell_type": "code",
   "execution_count": 1,
   "id": "278bcf47",
   "metadata": {},
   "outputs": [],
   "source": [
    "courses = ['python','javascript','django','react','nodejs']"
   ]
  },
  {
   "cell_type": "code",
   "execution_count": 2,
   "id": "f7efa8d7",
   "metadata": {},
   "outputs": [
    {
     "name": "stdout",
     "output_type": "stream",
     "text": [
      "python\n",
      "javascript\n",
      "django\n",
      "react\n",
      "nodejs\n"
     ]
    }
   ],
   "source": [
    "for i in courses:\n",
    "    print(i)"
   ]
  },
  {
   "cell_type": "code",
   "execution_count": 3,
   "id": "b2fc7fdd",
   "metadata": {},
   "outputs": [
    {
     "data": {
      "text/plain": [
       "2"
      ]
     },
     "execution_count": 3,
     "metadata": {},
     "output_type": "execute_result"
    }
   ],
   "source": [
    "courses.index('django')"
   ]
  },
  {
   "cell_type": "code",
   "execution_count": 4,
   "id": "1c62f0b8",
   "metadata": {},
   "outputs": [
    {
     "name": "stdout",
     "output_type": "stream",
     "text": [
      "0 python\n",
      "1 javascript\n",
      "2 django\n",
      "3 react\n",
      "4 nodejs\n"
     ]
    }
   ],
   "source": [
    "for course in courses:\n",
    "    print(courses.index(course),course)"
   ]
  },
  {
   "cell_type": "code",
   "execution_count": 5,
   "id": "4a7a4e42",
   "metadata": {},
   "outputs": [
    {
     "ename": "ValueError",
     "evalue": "too many values to unpack (expected 2)",
     "output_type": "error",
     "traceback": [
      "\u001b[1;31m---------------------------------------------------------------------------\u001b[0m",
      "\u001b[1;31mValueError\u001b[0m                                Traceback (most recent call last)",
      "\u001b[1;32m~\\AppData\\Local\\Temp/ipykernel_16052/3364252955.py\u001b[0m in \u001b[0;36m<module>\u001b[1;34m\u001b[0m\n\u001b[1;32m----> 1\u001b[1;33m \u001b[1;32mfor\u001b[0m \u001b[0mcid\u001b[0m\u001b[1;33m,\u001b[0m\u001b[0mcourse\u001b[0m \u001b[1;32min\u001b[0m \u001b[0mcourses\u001b[0m\u001b[1;33m:\u001b[0m\u001b[1;33m\u001b[0m\u001b[1;33m\u001b[0m\u001b[0m\n\u001b[0m\u001b[0;32m      2\u001b[0m     \u001b[0mprint\u001b[0m\u001b[1;33m(\u001b[0m\u001b[0mcid\u001b[0m\u001b[1;33m,\u001b[0m\u001b[0mcourse\u001b[0m\u001b[1;33m)\u001b[0m\u001b[1;33m\u001b[0m\u001b[1;33m\u001b[0m\u001b[0m\n",
      "\u001b[1;31mValueError\u001b[0m: too many values to unpack (expected 2)"
     ]
    }
   ],
   "source": [
    "for cid,course in courses:\n",
    "    print(cid,course)"
   ]
  },
  {
   "cell_type": "code",
   "execution_count": 6,
   "id": "e062eb41",
   "metadata": {},
   "outputs": [
    {
     "name": "stdout",
     "output_type": "stream",
     "text": [
      "0 python\n",
      "1 javascript\n",
      "2 django\n",
      "3 react\n",
      "4 nodejs\n"
     ]
    }
   ],
   "source": [
    "for cid,course in enumerate(courses):\n",
    "    print(cid,course)"
   ]
  },
  {
   "cell_type": "code",
   "execution_count": 7,
   "id": "9b0099b4",
   "metadata": {},
   "outputs": [
    {
     "name": "stdout",
     "output_type": "stream",
     "text": [
      "1001 python\n",
      "1002 javascript\n",
      "1003 django\n",
      "1004 react\n",
      "1005 nodejs\n"
     ]
    }
   ],
   "source": [
    "for cid,course in enumerate(courses,1001):\n",
    "    print(cid,course)"
   ]
  },
  {
   "cell_type": "code",
   "execution_count": 8,
   "id": "314bcadd",
   "metadata": {},
   "outputs": [
    {
     "name": "stdout",
     "output_type": "stream",
     "text": [
      "1001 python\n",
      "1002 javascript\n",
      "1003 django\n",
      "1004 react\n",
      "1005 nodejs\n"
     ]
    }
   ],
   "source": [
    "for course,cid in enumerate(courses,1001):\n",
    "    print(course,cid)"
   ]
  },
  {
   "cell_type": "code",
   "execution_count": 9,
   "id": "181f1656",
   "metadata": {},
   "outputs": [
    {
     "data": {
      "text/plain": [
       "type"
      ]
     },
     "execution_count": 9,
     "metadata": {},
     "output_type": "execute_result"
    }
   ],
   "source": [
    "type(enumerate)"
   ]
  },
  {
   "cell_type": "code",
   "execution_count": 10,
   "id": "785ce513",
   "metadata": {},
   "outputs": [],
   "source": [
    "enum1 = enumerate(courses,101)"
   ]
  },
  {
   "cell_type": "code",
   "execution_count": 11,
   "id": "e1e15a16",
   "metadata": {},
   "outputs": [
    {
     "data": {
      "text/plain": [
       "enumerate"
      ]
     },
     "execution_count": 11,
     "metadata": {},
     "output_type": "execute_result"
    }
   ],
   "source": [
    "type(enum1)"
   ]
  },
  {
   "cell_type": "code",
   "execution_count": 13,
   "id": "c2ed376c",
   "metadata": {},
   "outputs": [
    {
     "name": "stdout",
     "output_type": "stream",
     "text": [
      "(101, 'python')\n",
      "(102, 'javascript')\n",
      "(103, 'django')\n",
      "(104, 'react')\n",
      "(105, 'nodejs')\n"
     ]
    }
   ],
   "source": [
    "for i in enum1:\n",
    "    print(i)"
   ]
  },
  {
   "cell_type": "code",
   "execution_count": 14,
   "id": "d8d086f9",
   "metadata": {},
   "outputs": [],
   "source": [
    "for i in enum1:\n",
    "    print(i)"
   ]
  },
  {
   "cell_type": "code",
   "execution_count": 15,
   "id": "4551151b",
   "metadata": {},
   "outputs": [
    {
     "name": "stdout",
     "output_type": "stream",
     "text": [
      "Pretty printing has been turned OFF\n"
     ]
    }
   ],
   "source": [
    "pprint"
   ]
  },
  {
   "cell_type": "code",
   "execution_count": 16,
   "id": "43627584",
   "metadata": {},
   "outputs": [
    {
     "data": {
      "text/plain": [
       "['__class__', '__class_getitem__', '__delattr__', '__dir__', '__doc__', '__eq__', '__format__', '__ge__', '__getattribute__', '__gt__', '__hash__', '__init__', '__init_subclass__', '__iter__', '__le__', '__lt__', '__ne__', '__new__', '__next__', '__reduce__', '__reduce_ex__', '__repr__', '__setattr__', '__sizeof__', '__str__', '__subclasshook__']"
      ]
     },
     "execution_count": 16,
     "metadata": {},
     "output_type": "execute_result"
    }
   ],
   "source": [
    "dir(enum1)"
   ]
  },
  {
   "cell_type": "code",
   "execution_count": 17,
   "id": "ea4dfe83",
   "metadata": {},
   "outputs": [],
   "source": [
    "enum2 = enumerate(courses,101)"
   ]
  },
  {
   "cell_type": "code",
   "execution_count": 18,
   "id": "571ad33d",
   "metadata": {},
   "outputs": [
    {
     "data": {
      "text/plain": [
       "(101, 'python')"
      ]
     },
     "execution_count": 18,
     "metadata": {},
     "output_type": "execute_result"
    }
   ],
   "source": [
    "next(enum2)"
   ]
  },
  {
   "cell_type": "code",
   "execution_count": 19,
   "id": "621bc1ba",
   "metadata": {},
   "outputs": [
    {
     "data": {
      "text/plain": [
       "(102, 'javascript')"
      ]
     },
     "execution_count": 19,
     "metadata": {},
     "output_type": "execute_result"
    }
   ],
   "source": [
    "next(enum2)"
   ]
  },
  {
   "cell_type": "code",
   "execution_count": 20,
   "id": "5287dc35",
   "metadata": {},
   "outputs": [
    {
     "data": {
      "text/plain": [
       "(103, 'django')"
      ]
     },
     "execution_count": 20,
     "metadata": {},
     "output_type": "execute_result"
    }
   ],
   "source": [
    "enum2.__next__()"
   ]
  },
  {
   "cell_type": "code",
   "execution_count": 21,
   "id": "32a622f3",
   "metadata": {},
   "outputs": [
    {
     "name": "stdout",
     "output_type": "stream",
     "text": [
      "(104, 'react')\n",
      "(105, 'nodejs')\n"
     ]
    }
   ],
   "source": [
    "for i in enum2:\n",
    "    print(i)"
   ]
  },
  {
   "cell_type": "code",
   "execution_count": 22,
   "id": "b9d6b601",
   "metadata": {},
   "outputs": [
    {
     "ename": "StopIteration",
     "evalue": "",
     "output_type": "error",
     "traceback": [
      "\u001b[1;31m---------------------------------------------------------------------------\u001b[0m",
      "\u001b[1;31mStopIteration\u001b[0m                             Traceback (most recent call last)",
      "\u001b[1;32m~\\AppData\\Local\\Temp/ipykernel_16052/3254748767.py\u001b[0m in \u001b[0;36m<module>\u001b[1;34m\u001b[0m\n\u001b[1;32m----> 1\u001b[1;33m \u001b[0mnext\u001b[0m\u001b[1;33m(\u001b[0m\u001b[0menum2\u001b[0m\u001b[1;33m)\u001b[0m\u001b[1;33m\u001b[0m\u001b[1;33m\u001b[0m\u001b[0m\n\u001b[0m",
      "\u001b[1;31mStopIteration\u001b[0m: "
     ]
    }
   ],
   "source": [
    "next(enum2)"
   ]
  },
  {
   "cell_type": "code",
   "execution_count": 23,
   "id": "23b5a022",
   "metadata": {},
   "outputs": [],
   "source": [
    "enum3 = enumerate(\"welcome\",11)"
   ]
  },
  {
   "cell_type": "code",
   "execution_count": 24,
   "id": "536ff715",
   "metadata": {},
   "outputs": [
    {
     "name": "stdout",
     "output_type": "stream",
     "text": [
      "(11, 'w')\n",
      "(12, 'e')\n",
      "(13, 'l')\n",
      "(14, 'c')\n",
      "(15, 'o')\n",
      "(16, 'm')\n",
      "(17, 'e')\n"
     ]
    }
   ],
   "source": [
    "for i in enum3:\n",
    "    print(i)"
   ]
  },
  {
   "cell_type": "code",
   "execution_count": 25,
   "id": "5eba7911",
   "metadata": {},
   "outputs": [
    {
     "data": {
      "text/plain": [
       "<class 'enumerate'>"
      ]
     },
     "execution_count": 25,
     "metadata": {},
     "output_type": "execute_result"
    }
   ],
   "source": [
    "type(enum3)"
   ]
  },
  {
   "cell_type": "code",
   "execution_count": 26,
   "id": "45c08b5e",
   "metadata": {},
   "outputs": [
    {
     "ename": "TypeError",
     "evalue": "'int' object is not iterable",
     "output_type": "error",
     "traceback": [
      "\u001b[1;31m---------------------------------------------------------------------------\u001b[0m",
      "\u001b[1;31mTypeError\u001b[0m                                 Traceback (most recent call last)",
      "\u001b[1;32m~\\AppData\\Local\\Temp/ipykernel_16052/1350428196.py\u001b[0m in \u001b[0;36m<module>\u001b[1;34m\u001b[0m\n\u001b[1;32m----> 1\u001b[1;33m \u001b[0menum4\u001b[0m \u001b[1;33m=\u001b[0m \u001b[0menumerate\u001b[0m\u001b[1;33m(\u001b[0m\u001b[1;36m10000\u001b[0m\u001b[1;33m,\u001b[0m\u001b[1;36m11\u001b[0m\u001b[1;33m)\u001b[0m\u001b[1;33m\u001b[0m\u001b[1;33m\u001b[0m\u001b[0m\n\u001b[0m",
      "\u001b[1;31mTypeError\u001b[0m: 'int' object is not iterable"
     ]
    }
   ],
   "source": [
    "enum4 = enumerate(10000,11)"
   ]
  },
  {
   "cell_type": "code",
   "execution_count": null,
   "id": "0b4b328b",
   "metadata": {},
   "outputs": [],
   "source": []
  },
  {
   "cell_type": "code",
   "execution_count": null,
   "id": "07c35bb4",
   "metadata": {},
   "outputs": [],
   "source": []
  },
  {
   "cell_type": "code",
   "execution_count": null,
   "id": "9db19c27",
   "metadata": {},
   "outputs": [],
   "source": []
  }
 ],
 "metadata": {
  "kernelspec": {
   "display_name": "Python 3 (ipykernel)",
   "language": "python",
   "name": "python3"
  },
  "language_info": {
   "codemirror_mode": {
    "name": "ipython",
    "version": 3
   },
   "file_extension": ".py",
   "mimetype": "text/x-python",
   "name": "python",
   "nbconvert_exporter": "python",
   "pygments_lexer": "ipython3",
   "version": "3.9.7"
  }
 },
 "nbformat": 4,
 "nbformat_minor": 5
}
