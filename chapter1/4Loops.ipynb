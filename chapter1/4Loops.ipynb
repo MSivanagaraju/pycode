{
 "cells": [
  {
   "cell_type": "code",
   "execution_count": null,
   "id": "a201b9fc",
   "metadata": {},
   "outputs": [],
   "source": [
    "#Loops\n",
    "#while \n",
    "#For"
   ]
  },
  {
   "cell_type": "code",
   "execution_count": null,
   "id": "29099e39",
   "metadata": {},
   "outputs": [],
   "source": []
  },
  {
   "cell_type": "raw",
   "id": "eae2c583",
   "metadata": {},
   "source": [
    "#while syntax\n",
    "while <true/false> :\n",
    "        statement1\n",
    "        statement2"
   ]
  },
  {
   "cell_type": "code",
   "execution_count": 2,
   "id": "b491df22",
   "metadata": {},
   "outputs": [
    {
     "name": "stdout",
     "output_type": "stream",
     "text": [
      "Help on built-in function print in module builtins:\n",
      "\n",
      "print(...)\n",
      "    print(value, ..., sep=' ', end='\\n', file=sys.stdout, flush=False)\n",
      "    \n",
      "    Prints the values to a stream, or to sys.stdout by default.\n",
      "    Optional keyword arguments:\n",
      "    file:  a file-like object (stream); defaults to the current sys.stdout.\n",
      "    sep:   string inserted between values, default a space.\n",
      "    end:   string appended after the last value, default a newline.\n",
      "    flush: whether to forcibly flush the stream.\n",
      "\n"
     ]
    }
   ],
   "source": [
    "help(print)"
   ]
  },
  {
   "cell_type": "code",
   "execution_count": 10,
   "id": "8591d4e8",
   "metadata": {},
   "outputs": [
    {
     "name": "stdout",
     "output_type": "stream",
     "text": [
      "1\n",
      "2\n",
      "3\n",
      "4\n",
      "5\n",
      "Outside While Loop\n"
     ]
    }
   ],
   "source": [
    "i=1\n",
    "j=5\n",
    "while i<=j:\n",
    "    print(i)\n",
    "    i=i+1\n",
    "print(\"Outside While Loop\")"
   ]
  },
  {
   "cell_type": "code",
   "execution_count": 11,
   "id": "bcf463d3",
   "metadata": {},
   "outputs": [
    {
     "name": "stdout",
     "output_type": "stream",
     "text": [
      "12345 Outside While Loop\n"
     ]
    }
   ],
   "source": [
    "i=1\n",
    "j=5\n",
    "while i<=j:\n",
    "    print(i,end=\"\")\n",
    "    i=i+1\n",
    "print(\" Outside While Loop\")"
   ]
  },
  {
   "cell_type": "code",
   "execution_count": 12,
   "id": "8fc0abec",
   "metadata": {},
   "outputs": [
    {
     "name": "stdout",
     "output_type": "stream",
     "text": [
      "12345\n",
      "Outside While Loop\n"
     ]
    }
   ],
   "source": [
    "i=1\n",
    "j=5\n",
    "while i<=j:\n",
    "    print(i,end=\"\")\n",
    "    i=i+1\n",
    "print(\"\")\n",
    "print(\"Outside While Loop\")"
   ]
  },
  {
   "cell_type": "code",
   "execution_count": 13,
   "id": "65198fc0",
   "metadata": {},
   "outputs": [
    {
     "name": "stdout",
     "output_type": "stream",
     "text": [
      "12345\n",
      "6\n",
      "5\n"
     ]
    }
   ],
   "source": [
    "i=1\n",
    "j=5\n",
    "while i<=j:\n",
    "    print(i,end=\"\")\n",
    "    i=i+1\n",
    "print(\"\")\n",
    "print(i)\n",
    "print(j)"
   ]
  },
  {
   "cell_type": "raw",
   "id": "ec17a57e",
   "metadata": {},
   "source": [
    "12345\n",
    "1234\n",
    "123\n",
    "12\n",
    "1"
   ]
  },
  {
   "cell_type": "code",
   "execution_count": 14,
   "id": "9f6ff961",
   "metadata": {},
   "outputs": [
    {
     "name": "stdout",
     "output_type": "stream",
     "text": [
      "12345\n",
      "1234\n",
      "123\n",
      "12\n",
      "1\n"
     ]
    }
   ],
   "source": [
    "i=1\n",
    "j=5\n",
    "while j>=i:\n",
    "    while i<=j:\n",
    "        print(i,end=\"\")\n",
    "        i=i+1\n",
    "    print(\"\")\n",
    "    i=1\n",
    "    j=j-1"
   ]
  },
  {
   "cell_type": "raw",
   "id": "24283b5f",
   "metadata": {},
   "source": [
    "1\n",
    "12\n",
    "123\n",
    "1234\n",
    "12345"
   ]
  },
  {
   "cell_type": "code",
   "execution_count": 15,
   "id": "8940b110",
   "metadata": {},
   "outputs": [
    {
     "name": "stdout",
     "output_type": "stream",
     "text": [
      "1\n",
      "12\n",
      "123\n",
      "1234\n",
      "12345\n"
     ]
    }
   ],
   "source": [
    "i=j=1\n",
    "while j<=5:\n",
    "    while i<=j:\n",
    "        print(i,end=\"\")\n",
    "        i=i+1\n",
    "    print(\"\")\n",
    "    i=1\n",
    "    j=j+1"
   ]
  },
  {
   "cell_type": "raw",
   "id": "7899edb4",
   "metadata": {},
   "source": [
    "54321\n",
    "5432\n",
    "543\n",
    "54\n",
    "5"
   ]
  },
  {
   "cell_type": "code",
   "execution_count": 16,
   "id": "65a8b3ff",
   "metadata": {},
   "outputs": [
    {
     "name": "stdout",
     "output_type": "stream",
     "text": [
      "54321\n",
      "5432\n",
      "543\n",
      "54\n",
      "5\n"
     ]
    }
   ],
   "source": [
    "i=5\n",
    "j=1\n",
    "while j<=i:\n",
    "    while i>=j:\n",
    "        print(i,end=\"\")\n",
    "        i=i-1\n",
    "    print(\"\")\n",
    "    i=5\n",
    "    j=j+1"
   ]
  },
  {
   "cell_type": "raw",
   "id": "7dfbda02",
   "metadata": {},
   "source": [
    "1\n",
    "22\n",
    "333\n",
    "4444\n",
    "55555"
   ]
  },
  {
   "cell_type": "code",
   "execution_count": 17,
   "id": "554a870d",
   "metadata": {},
   "outputs": [
    {
     "name": "stdout",
     "output_type": "stream",
     "text": [
      "1\n",
      "22\n",
      "333\n",
      "4444\n",
      "55555\n"
     ]
    }
   ],
   "source": [
    "i=j=1\n",
    "while j<=5:\n",
    "    while i<=j:\n",
    "        print(j,end=\"\")\n",
    "        i=i+1\n",
    "    print(\"\")\n",
    "    i=1\n",
    "    j=j+1"
   ]
  },
  {
   "cell_type": "code",
   "execution_count": 18,
   "id": "166c2583",
   "metadata": {},
   "outputs": [
    {
     "name": "stdout",
     "output_type": "stream",
     "text": [
      "11111\n",
      "2222\n",
      "333\n",
      "44\n",
      "5\n"
     ]
    }
   ],
   "source": [
    "i=5\n",
    "j=1\n",
    "while j<=i:\n",
    "    while i>=j:\n",
    "        print(j,end=\"\")\n",
    "        i=i-1\n",
    "    print(\"\")\n",
    "    i=5\n",
    "    j=j+1"
   ]
  },
  {
   "cell_type": "raw",
   "id": "66c53e30",
   "metadata": {},
   "source": [
    "*\n",
    "**\n",
    "***\n",
    "****\n",
    "*****"
   ]
  },
  {
   "cell_type": "code",
   "execution_count": 19,
   "id": "afc94a08",
   "metadata": {},
   "outputs": [
    {
     "name": "stdout",
     "output_type": "stream",
     "text": [
      "*\n",
      "**\n",
      "***\n",
      "****\n",
      "*****\n"
     ]
    }
   ],
   "source": [
    "i=j=1\n",
    "k=1\n",
    "while j<=5:\n",
    "    while i<=j:\n",
    "        print(\"*\",end=\"\")\n",
    "        i=i+1\n",
    "    print(\"\")\n",
    "    i=1\n",
    "    j=j+1"
   ]
  },
  {
   "cell_type": "code",
   "execution_count": 20,
   "id": "1657a238",
   "metadata": {},
   "outputs": [
    {
     "name": "stdout",
     "output_type": "stream",
     "text": [
      "*****\n",
      "****\n",
      "***\n",
      "**\n",
      "*\n"
     ]
    }
   ],
   "source": [
    "i=5\n",
    "j=1\n",
    "while j<=i:\n",
    "    while i>=j:\n",
    "        print(\"*\",end=\"\")\n",
    "        i=i-1\n",
    "    print(\"\")\n",
    "    i=5\n",
    "    j=j+1"
   ]
  },
  {
   "cell_type": "code",
   "execution_count": 21,
   "id": "dd55e1b0",
   "metadata": {},
   "outputs": [
    {
     "name": "stdout",
     "output_type": "stream",
     "text": [
      "1\n",
      "2\n",
      "3\n",
      "4\n",
      "5\n",
      "Completed Successfully\n"
     ]
    }
   ],
   "source": [
    "i=1\n",
    "j=5\n",
    "while i<=j:\n",
    "    print(i)\n",
    "    i=i+1\n",
    "print(\"Completed Successfully\")"
   ]
  },
  {
   "cell_type": "code",
   "execution_count": 22,
   "id": "3af427bc",
   "metadata": {},
   "outputs": [
    {
     "name": "stdout",
     "output_type": "stream",
     "text": [
      "1\n",
      "Completed Successfully\n"
     ]
    }
   ],
   "source": [
    "i=1\n",
    "j=5\n",
    "while i<=j:\n",
    "    print(i)\n",
    "    i=i+1\n",
    "    break\n",
    "print(\"Completed Successfully\")"
   ]
  },
  {
   "cell_type": "code",
   "execution_count": 28,
   "id": "e42671e4",
   "metadata": {},
   "outputs": [
    {
     "name": "stdout",
     "output_type": "stream",
     "text": [
      "1\n",
      "2\n",
      "3\n",
      "4\n",
      "5\n",
      "6\n",
      "7\n",
      "8\n",
      "9\n",
      "10\n",
      "else part of while loop\n"
     ]
    }
   ],
   "source": [
    "i=1\n",
    "while i<=10:\n",
    "    print(i)\n",
    "    i=i+1\n",
    "else:\n",
    "    print(\"else part of while loop\")"
   ]
  },
  {
   "cell_type": "code",
   "execution_count": 24,
   "id": "c77cee77",
   "metadata": {},
   "outputs": [
    {
     "name": "stdout",
     "output_type": "stream",
     "text": [
      "1\n",
      "2\n",
      "3\n",
      "4\n",
      "5\n",
      "6\n",
      "7\n",
      "8\n",
      "9\n",
      "10\n",
      "else part of while loop\n"
     ]
    }
   ],
   "source": [
    "i=1\n",
    "while i<=10:\n",
    "    print(i)\n",
    "    i=i+1\n",
    "print(\"else part of while loop\")"
   ]
  },
  {
   "cell_type": "code",
   "execution_count": 29,
   "id": "023df720",
   "metadata": {},
   "outputs": [
    {
     "name": "stdout",
     "output_type": "stream",
     "text": [
      "1\n",
      "2\n",
      "3\n",
      "4\n"
     ]
    }
   ],
   "source": [
    "i=1\n",
    "while i<=10:\n",
    "    print(i)\n",
    "    i=i+1\n",
    "    if i==5:\n",
    "        break\n",
    "else:\n",
    "    print(\"else part of while loop\")"
   ]
  },
  {
   "cell_type": "code",
   "execution_count": 30,
   "id": "d3d25a24",
   "metadata": {},
   "outputs": [
    {
     "name": "stdout",
     "output_type": "stream",
     "text": [
      "1\n",
      "2\n",
      "3\n",
      "4\n",
      "else part of while loop\n"
     ]
    }
   ],
   "source": [
    "i=1\n",
    "while i<=10:\n",
    "    print(i)\n",
    "    i=i+1\n",
    "    if i==5:\n",
    "        break\n",
    "print(\"else part of while loop\")"
   ]
  },
  {
   "cell_type": "code",
   "execution_count": 31,
   "id": "a331f9e2",
   "metadata": {},
   "outputs": [
    {
     "name": "stdout",
     "output_type": "stream",
     "text": [
      "1\n"
     ]
    },
    {
     "ename": "NameError",
     "evalue": "name 'x' is not defined",
     "output_type": "error",
     "traceback": [
      "\u001b[1;31m---------------------------------------------------------------------------\u001b[0m",
      "\u001b[1;31mNameError\u001b[0m                                 Traceback (most recent call last)",
      "\u001b[1;32m~\\AppData\\Local\\Temp/ipykernel_12348/2069970985.py\u001b[0m in \u001b[0;36m<module>\u001b[1;34m\u001b[0m\n\u001b[0;32m      2\u001b[0m \u001b[1;32mwhile\u001b[0m \u001b[0mi\u001b[0m\u001b[1;33m<=\u001b[0m\u001b[1;36m10\u001b[0m\u001b[1;33m:\u001b[0m\u001b[1;33m\u001b[0m\u001b[1;33m\u001b[0m\u001b[0m\n\u001b[0;32m      3\u001b[0m     \u001b[0mprint\u001b[0m\u001b[1;33m(\u001b[0m\u001b[0mi\u001b[0m\u001b[1;33m)\u001b[0m\u001b[1;33m\u001b[0m\u001b[1;33m\u001b[0m\u001b[0m\n\u001b[1;32m----> 4\u001b[1;33m     \u001b[0mi\u001b[0m\u001b[1;33m=\u001b[0m\u001b[0mx\u001b[0m\u001b[1;33m+\u001b[0m\u001b[1;36m1\u001b[0m\u001b[1;33m\u001b[0m\u001b[1;33m\u001b[0m\u001b[0m\n\u001b[0m\u001b[0;32m      5\u001b[0m \u001b[1;32melse\u001b[0m\u001b[1;33m:\u001b[0m\u001b[1;33m\u001b[0m\u001b[1;33m\u001b[0m\u001b[0m\n\u001b[0;32m      6\u001b[0m     \u001b[0mprint\u001b[0m\u001b[1;33m(\u001b[0m\u001b[1;34m\"else part of while loop\"\u001b[0m\u001b[1;33m)\u001b[0m\u001b[1;33m\u001b[0m\u001b[1;33m\u001b[0m\u001b[0m\n",
      "\u001b[1;31mNameError\u001b[0m: name 'x' is not defined"
     ]
    }
   ],
   "source": [
    "i=1\n",
    "while i<=10:\n",
    "    print(i)\n",
    "    i=x+1\n",
    "else:\n",
    "    print(\"else part of while loop\")"
   ]
  },
  {
   "cell_type": "code",
   "execution_count": 1,
   "id": "d51c1faf",
   "metadata": {},
   "outputs": [
    {
     "name": "stdout",
     "output_type": "stream",
     "text": [
      "2\n",
      "4\n",
      "6\n",
      "8\n",
      "10\n"
     ]
    }
   ],
   "source": [
    "i=1\n",
    "n=10\n",
    "while i<=n:\n",
    "    if i%2==0:\n",
    "        print(i)\n",
    "        i=i+1\n",
    "    else:\n",
    "        i=i+1"
   ]
  },
  {
   "cell_type": "code",
   "execution_count": 2,
   "id": "18e53037",
   "metadata": {},
   "outputs": [
    {
     "name": "stdout",
     "output_type": "stream",
     "text": [
      "2\n",
      "4\n",
      "6\n",
      "8\n",
      "10\n"
     ]
    }
   ],
   "source": [
    "i=1\n",
    "n=10\n",
    "while i<=n:\n",
    "    if i%2!=0:\n",
    "        i+=1\n",
    "    print(i)\n",
    "    i=i+1"
   ]
  },
  {
   "cell_type": "code",
   "execution_count": 3,
   "id": "506b7d34",
   "metadata": {},
   "outputs": [
    {
     "name": "stdout",
     "output_type": "stream",
     "text": [
      "Enter Some Integer value = 5\n",
      "Enter Some Integer value = 6\n",
      "Enter Some Integer value = 7\n",
      "Enter Some Integer value = 4\n",
      "22\n"
     ]
    }
   ],
   "source": [
    "s=0\n",
    "while s<20:\n",
    "    n=int(input(\"Enter Some Integer value = \"))  # 5 6 7  4\n",
    "    s=s+n\n",
    "else:\n",
    "    print(s)"
   ]
  },
  {
   "cell_type": "code",
   "execution_count": 4,
   "id": "6548dd26",
   "metadata": {},
   "outputs": [],
   "source": [
    "import random"
   ]
  },
  {
   "cell_type": "code",
   "execution_count": 5,
   "id": "6b6cc104",
   "metadata": {},
   "outputs": [
    {
     "data": {
      "text/plain": [
       "module"
      ]
     },
     "execution_count": 5,
     "metadata": {},
     "output_type": "execute_result"
    }
   ],
   "source": [
    "type(random)"
   ]
  },
  {
   "cell_type": "code",
   "execution_count": null,
   "id": "60102252",
   "metadata": {},
   "outputs": [],
   "source": [
    "#random is .py file => random.py\n",
    "#.py file contains functions or classes"
   ]
  },
  {
   "cell_type": "code",
   "execution_count": 11,
   "id": "1cf91bf5",
   "metadata": {},
   "outputs": [
    {
     "name": "stdout",
     "output_type": "stream",
     "text": [
      "5693\n"
     ]
    }
   ],
   "source": [
    "otp=random.randint(1000,9999)\n",
    "print(otp)"
   ]
  },
  {
   "cell_type": "code",
   "execution_count": 14,
   "id": "f8ce0569",
   "metadata": {},
   "outputs": [
    {
     "name": "stdout",
     "output_type": "stream",
     "text": [
      "Enter OTP = 5693\n",
      "Success\n"
     ]
    }
   ],
   "source": [
    "userotp=int(input(\"Enter OTP = \"))\n",
    "cnt=2\n",
    "while cnt<=3:\n",
    "    if userotp==otp:\n",
    "        print(\"Success\")\n",
    "        break\n",
    "    userotp=int(input(\"Invalid OTP Enter Again = \"))  \n",
    "    cnt+=1\n",
    "else:\n",
    "    print(\"Maximum Trails are done try after 1 Hour\")"
   ]
  },
  {
   "cell_type": "code",
   "execution_count": 16,
   "id": "642d0535",
   "metadata": {},
   "outputs": [
    {
     "name": "stdout",
     "output_type": "stream",
     "text": [
      "Enter Some Integer value = 5\n",
      "5\n"
     ]
    }
   ],
   "source": [
    "s=0\n",
    "while s<20:\n",
    "    n=int(input(\"Enter Some Integer value = \"))  # 5 6 7  4\n",
    "    s=s+n\n",
    "    break\n",
    "print(s)"
   ]
  },
  {
   "cell_type": "code",
   "execution_count": 18,
   "id": "ea832b81",
   "metadata": {},
   "outputs": [
    {
     "name": "stdout",
     "output_type": "stream",
     "text": [
      "Enter some integer value = 5\n",
      "Enter some integer value = 6\n",
      "Enter some integer value = 0\n",
      "Total Sum =  11\n"
     ]
    }
   ],
   "source": [
    "tsum = 0\n",
    "n = int(input(\"Enter some integer value = \")) # 5\n",
    "while n != 0:\n",
    "    tsum = tsum + n\n",
    "    if tsum >= 20:\n",
    "        print(\"Total = \",tsum)\n",
    "        break\n",
    "    n = int(input(\"Enter some integer value = \")) # 6 7 4\n",
    "else:\n",
    "    print(\"Total Sum = \",tsum)"
   ]
  },
  {
   "cell_type": "code",
   "execution_count": 19,
   "id": "454c3b2a",
   "metadata": {},
   "outputs": [
    {
     "name": "stdout",
     "output_type": "stream",
     "text": [
      "Enter some integer value = 5\n",
      "Enter some integer value = 6\n",
      "Enter some integer value = 7\n",
      "Enter some integer value = 4\n",
      "Total =  22\n",
      "Total Sum =  22\n"
     ]
    }
   ],
   "source": [
    "tsum = 0\n",
    "n = int(input(\"Enter some integer value = \")) # 5\n",
    "while n != 0:\n",
    "    tsum = tsum + n\n",
    "    if tsum >= 20:\n",
    "        print(\"Total = \",tsum)\n",
    "        break\n",
    "    n = int(input(\"Enter some integer value = \")) # 6 7 4\n",
    "print(\"Total Sum = \",tsum)"
   ]
  },
  {
   "cell_type": "code",
   "execution_count": null,
   "id": "ee6505d2",
   "metadata": {},
   "outputs": [],
   "source": [
    "#ForLoop"
   ]
  },
  {
   "cell_type": "raw",
   "id": "884f1226",
   "metadata": {},
   "source": [
    "for <variable> in <iterableobject>:\n",
    "    statement"
   ]
  },
  {
   "cell_type": "code",
   "execution_count": 29,
   "id": "a22975c2",
   "metadata": {},
   "outputs": [
    {
     "name": "stdout",
     "output_type": "stream",
     "text": [
      "hi\n",
      "welcome\n"
     ]
    }
   ],
   "source": [
    "print(\"hi\",end=\"\\n\")\n",
    "print(\"welcome\")"
   ]
  },
  {
   "cell_type": "code",
   "execution_count": 22,
   "id": "ce250d11",
   "metadata": {},
   "outputs": [
    {
     "name": "stdout",
     "output_type": "stream",
     "text": [
      "Help on built-in function print in module builtins:\n",
      "\n",
      "print(...)\n",
      "    print(value, ..., sep=' ', end='\\n', file=sys.stdout, flush=False)\n",
      "    \n",
      "    Prints the values to a stream, or to sys.stdout by default.\n",
      "    Optional keyword arguments:\n",
      "    file:  a file-like object (stream); defaults to the current sys.stdout.\n",
      "    sep:   string inserted between values, default a space.\n",
      "    end:   string appended after the last value, default a newline.\n",
      "    flush: whether to forcibly flush the stream.\n",
      "\n"
     ]
    }
   ],
   "source": [
    "help(print)"
   ]
  },
  {
   "cell_type": "code",
   "execution_count": 27,
   "id": "a6c830c6",
   "metadata": {},
   "outputs": [
    {
     "name": "stdout",
     "output_type": "stream",
     "text": [
      "1,2,3,4\n"
     ]
    }
   ],
   "source": [
    "print(1,2,3,4,sep=\",\")"
   ]
  },
  {
   "cell_type": "code",
   "execution_count": 31,
   "id": "e36f8272",
   "metadata": {},
   "outputs": [
    {
     "name": "stdout",
     "output_type": "stream",
     "text": [
      "w\n",
      "e\n",
      "l\n",
      "c\n",
      "o\n",
      "m\n",
      "e\n"
     ]
    }
   ],
   "source": [
    "for i in \"welcome\":\n",
    "    print(i)"
   ]
  },
  {
   "cell_type": "code",
   "execution_count": 32,
   "id": "ca77bd0e",
   "metadata": {},
   "outputs": [
    {
     "name": "stdout",
     "output_type": "stream",
     "text": [
      "Good Morning\n",
      "Good Morning\n",
      "Good Morning\n"
     ]
    }
   ],
   "source": [
    "for i in \"wel\":\n",
    "    print(\"Good Morning\")"
   ]
  },
  {
   "cell_type": "code",
   "execution_count": 33,
   "id": "c9365153",
   "metadata": {},
   "outputs": [
    {
     "data": {
      "text/plain": [
       "'w'"
      ]
     },
     "execution_count": 33,
     "metadata": {},
     "output_type": "execute_result"
    }
   ],
   "source": [
    "\"welcome\"[0]"
   ]
  },
  {
   "cell_type": "code",
   "execution_count": 34,
   "id": "48ed8722",
   "metadata": {},
   "outputs": [
    {
     "ename": "TypeError",
     "evalue": "'int' object is not iterable",
     "output_type": "error",
     "traceback": [
      "\u001b[1;31m---------------------------------------------------------------------------\u001b[0m",
      "\u001b[1;31mTypeError\u001b[0m                                 Traceback (most recent call last)",
      "\u001b[1;32m~\\AppData\\Local\\Temp/ipykernel_15112/3246269802.py\u001b[0m in \u001b[0;36m<module>\u001b[1;34m\u001b[0m\n\u001b[0;32m      1\u001b[0m \u001b[1;31m#for loop can not read int and float object it will read obly iterable object\u001b[0m\u001b[1;33m\u001b[0m\u001b[1;33m\u001b[0m\u001b[0m\n\u001b[1;32m----> 2\u001b[1;33m \u001b[1;32mfor\u001b[0m \u001b[0mi\u001b[0m \u001b[1;32min\u001b[0m \u001b[1;36m100\u001b[0m\u001b[1;33m:\u001b[0m\u001b[1;33m\u001b[0m\u001b[1;33m\u001b[0m\u001b[0m\n\u001b[0m\u001b[0;32m      3\u001b[0m     \u001b[0mprint\u001b[0m\u001b[1;33m(\u001b[0m\u001b[0mi\u001b[0m\u001b[1;33m)\u001b[0m\u001b[1;33m\u001b[0m\u001b[1;33m\u001b[0m\u001b[0m\n",
      "\u001b[1;31mTypeError\u001b[0m: 'int' object is not iterable"
     ]
    }
   ],
   "source": [
    "#for loop can not read int and float object it will read obly iterable object\n",
    "for i in 100:\n",
    "    print(i)"
   ]
  },
  {
   "cell_type": "code",
   "execution_count": 35,
   "id": "48fce636",
   "metadata": {},
   "outputs": [
    {
     "data": {
      "text/plain": [
       "'w'"
      ]
     },
     "execution_count": 35,
     "metadata": {},
     "output_type": "execute_result"
    }
   ],
   "source": [
    "\"welcome\"[0]"
   ]
  },
  {
   "cell_type": "code",
   "execution_count": 36,
   "id": "64076d6a",
   "metadata": {},
   "outputs": [
    {
     "name": "stderr",
     "output_type": "stream",
     "text": [
      "<>:1: SyntaxWarning: 'int' object is not subscriptable; perhaps you missed a comma?\n",
      "<>:1: SyntaxWarning: 'int' object is not subscriptable; perhaps you missed a comma?\n",
      "C:\\Users\\User\\AppData\\Local\\Temp/ipykernel_15112/2089819659.py:1: SyntaxWarning: 'int' object is not subscriptable; perhaps you missed a comma?\n",
      "  100[0]\n"
     ]
    },
    {
     "ename": "TypeError",
     "evalue": "'int' object is not subscriptable",
     "output_type": "error",
     "traceback": [
      "\u001b[1;31m---------------------------------------------------------------------------\u001b[0m",
      "\u001b[1;31mTypeError\u001b[0m                                 Traceback (most recent call last)",
      "\u001b[1;32m~\\AppData\\Local\\Temp/ipykernel_15112/2089819659.py\u001b[0m in \u001b[0;36m<module>\u001b[1;34m\u001b[0m\n\u001b[1;32m----> 1\u001b[1;33m \u001b[1;36m100\u001b[0m\u001b[1;33m[\u001b[0m\u001b[1;36m0\u001b[0m\u001b[1;33m]\u001b[0m\u001b[1;33m\u001b[0m\u001b[1;33m\u001b[0m\u001b[0m\n\u001b[0m",
      "\u001b[1;31mTypeError\u001b[0m: 'int' object is not subscriptable"
     ]
    }
   ],
   "source": [
    "100[0]"
   ]
  },
  {
   "cell_type": "code",
   "execution_count": 37,
   "id": "43c2a442",
   "metadata": {},
   "outputs": [
    {
     "name": "stderr",
     "output_type": "stream",
     "text": [
      "<>:1: SyntaxWarning: 'float' object is not subscriptable; perhaps you missed a comma?\n",
      "<>:1: SyntaxWarning: 'float' object is not subscriptable; perhaps you missed a comma?\n",
      "C:\\Users\\User\\AppData\\Local\\Temp/ipykernel_15112/3753977068.py:1: SyntaxWarning: 'float' object is not subscriptable; perhaps you missed a comma?\n",
      "  10.45[0]\n"
     ]
    },
    {
     "ename": "TypeError",
     "evalue": "'float' object is not subscriptable",
     "output_type": "error",
     "traceback": [
      "\u001b[1;31m---------------------------------------------------------------------------\u001b[0m",
      "\u001b[1;31mTypeError\u001b[0m                                 Traceback (most recent call last)",
      "\u001b[1;32m~\\AppData\\Local\\Temp/ipykernel_15112/3753977068.py\u001b[0m in \u001b[0;36m<module>\u001b[1;34m\u001b[0m\n\u001b[1;32m----> 1\u001b[1;33m \u001b[1;36m10.45\u001b[0m\u001b[1;33m[\u001b[0m\u001b[1;36m0\u001b[0m\u001b[1;33m]\u001b[0m\u001b[1;33m\u001b[0m\u001b[1;33m\u001b[0m\u001b[0m\n\u001b[0m",
      "\u001b[1;31mTypeError\u001b[0m: 'float' object is not subscriptable"
     ]
    }
   ],
   "source": [
    "10.45[0]"
   ]
  },
  {
   "cell_type": "code",
   "execution_count": 38,
   "id": "57cf861e",
   "metadata": {},
   "outputs": [
    {
     "data": {
      "text/plain": [
       "'1'"
      ]
     },
     "execution_count": 38,
     "metadata": {},
     "output_type": "execute_result"
    }
   ],
   "source": [
    "\"100\"[0]"
   ]
  },
  {
   "cell_type": "code",
   "execution_count": 39,
   "id": "30b8557b",
   "metadata": {},
   "outputs": [
    {
     "name": "stdout",
     "output_type": "stream",
     "text": [
      "1\n",
      "0\n",
      "0\n"
     ]
    }
   ],
   "source": [
    "for i in \"100\":\n",
    "    print(i)"
   ]
  },
  {
   "cell_type": "code",
   "execution_count": 40,
   "id": "8a4c80cb",
   "metadata": {},
   "outputs": [
    {
     "name": "stdout",
     "output_type": "stream",
     "text": [
      "1\n",
      "0\n",
      "0\n"
     ]
    }
   ],
   "source": [
    "for i in str(100):\n",
    "    print(i)"
   ]
  },
  {
   "cell_type": "code",
   "execution_count": null,
   "id": "c03f4c4f",
   "metadata": {},
   "outputs": [],
   "source": [
    "str\n",
    "range"
   ]
  },
  {
   "cell_type": "code",
   "execution_count": 41,
   "id": "c4291af4",
   "metadata": {},
   "outputs": [
    {
     "name": "stdout",
     "output_type": "stream",
     "text": [
      "1\n",
      "2\n",
      "3\n",
      "4\n",
      "5\n"
     ]
    }
   ],
   "source": [
    "for i in 1,2,3,4,5:\n",
    "    print(i)"
   ]
  },
  {
   "cell_type": "code",
   "execution_count": 42,
   "id": "864af569",
   "metadata": {},
   "outputs": [
    {
     "name": "stdout",
     "output_type": "stream",
     "text": [
      "2\n",
      "4\n",
      "6\n",
      "8\n",
      "10\n"
     ]
    }
   ],
   "source": [
    "for i in 1,2,3,4,5:\n",
    "    print(i+i)"
   ]
  },
  {
   "cell_type": "code",
   "execution_count": 43,
   "id": "4ffdc686",
   "metadata": {},
   "outputs": [],
   "source": [
    "v1 = 1,2,3,4,5"
   ]
  },
  {
   "cell_type": "code",
   "execution_count": 44,
   "id": "6650ee7a",
   "metadata": {},
   "outputs": [
    {
     "data": {
      "text/plain": [
       "(1, 2, 3, 4, 5)"
      ]
     },
     "execution_count": 44,
     "metadata": {},
     "output_type": "execute_result"
    }
   ],
   "source": [
    "v1"
   ]
  },
  {
   "cell_type": "code",
   "execution_count": 45,
   "id": "2a8edd28",
   "metadata": {},
   "outputs": [
    {
     "data": {
      "text/plain": [
       "tuple"
      ]
     },
     "execution_count": 45,
     "metadata": {},
     "output_type": "execute_result"
    }
   ],
   "source": [
    "type(v1)"
   ]
  },
  {
   "cell_type": "code",
   "execution_count": 46,
   "id": "c0df354a",
   "metadata": {},
   "outputs": [
    {
     "data": {
      "text/plain": [
       "1"
      ]
     },
     "execution_count": 46,
     "metadata": {},
     "output_type": "execute_result"
    }
   ],
   "source": [
    "v1[0]"
   ]
  },
  {
   "cell_type": "code",
   "execution_count": 47,
   "id": "f09a5f79",
   "metadata": {},
   "outputs": [
    {
     "ename": "NameError",
     "evalue": "name 'str1' is not defined",
     "output_type": "error",
     "traceback": [
      "\u001b[1;31m---------------------------------------------------------------------------\u001b[0m",
      "\u001b[1;31mNameError\u001b[0m                                 Traceback (most recent call last)",
      "\u001b[1;32m~\\AppData\\Local\\Temp/ipykernel_15112/607343874.py\u001b[0m in \u001b[0;36m<module>\u001b[1;34m\u001b[0m\n\u001b[1;32m----> 1\u001b[1;33m \u001b[1;32mfor\u001b[0m \u001b[0mi\u001b[0m \u001b[1;32min\u001b[0m \u001b[0mstr1\u001b[0m\u001b[1;33m:\u001b[0m\u001b[1;33m\u001b[0m\u001b[1;33m\u001b[0m\u001b[0m\n\u001b[0m\u001b[0;32m      2\u001b[0m     \u001b[0mprint\u001b[0m\u001b[1;33m(\u001b[0m\u001b[0mi\u001b[0m\u001b[1;33m)\u001b[0m\u001b[1;33m\u001b[0m\u001b[1;33m\u001b[0m\u001b[0m\n",
      "\u001b[1;31mNameError\u001b[0m: name 'str1' is not defined"
     ]
    }
   ],
   "source": [
    "for i in str1:\n",
    "    print(i)"
   ]
  },
  {
   "cell_type": "code",
   "execution_count": 48,
   "id": "9b8098cc",
   "metadata": {},
   "outputs": [
    {
     "data": {
      "text/plain": [
       "int"
      ]
     },
     "execution_count": 48,
     "metadata": {},
     "output_type": "execute_result"
    }
   ],
   "source": [
    "a=1\n",
    "type(a)"
   ]
  },
  {
   "cell_type": "code",
   "execution_count": 49,
   "id": "47426a03",
   "metadata": {},
   "outputs": [
    {
     "data": {
      "text/plain": [
       "tuple"
      ]
     },
     "execution_count": 49,
     "metadata": {},
     "output_type": "execute_result"
    }
   ],
   "source": [
    "b = 1,2,3,4,5\n",
    "type(b)"
   ]
  },
  {
   "cell_type": "code",
   "execution_count": 50,
   "id": "3de2eb4e",
   "metadata": {},
   "outputs": [
    {
     "data": {
      "text/plain": [
       "1"
      ]
     },
     "execution_count": 50,
     "metadata": {},
     "output_type": "execute_result"
    }
   ],
   "source": [
    "b[0]"
   ]
  },
  {
   "cell_type": "code",
   "execution_count": 51,
   "id": "806636fa",
   "metadata": {},
   "outputs": [],
   "source": [
    "v1=\"welcome\""
   ]
  },
  {
   "cell_type": "code",
   "execution_count": 56,
   "id": "3dfee718",
   "metadata": {},
   "outputs": [
    {
     "name": "stdout",
     "output_type": "stream",
     "text": [
      "Pretty printing has been turned OFF\n"
     ]
    }
   ],
   "source": [
    "pprint"
   ]
  },
  {
   "cell_type": "code",
   "execution_count": 57,
   "id": "e0d6aa94",
   "metadata": {},
   "outputs": [
    {
     "data": {
      "text/plain": [
       "['__add__', '__class__', '__contains__', '__delattr__', '__dir__', '__doc__', '__eq__', '__format__', '__ge__', '__getattribute__', '__getitem__', '__getnewargs__', '__gt__', '__hash__', '__init__', '__init_subclass__', '__iter__', '__le__', '__len__', '__lt__', '__mod__', '__mul__', '__ne__', '__new__', '__reduce__', '__reduce_ex__', '__repr__', '__rmod__', '__rmul__', '__setattr__', '__sizeof__', '__str__', '__subclasshook__', 'capitalize', 'casefold', 'center', 'count', 'encode', 'endswith', 'expandtabs', 'find', 'format', 'format_map', 'index', 'isalnum', 'isalpha', 'isascii', 'isdecimal', 'isdigit', 'isidentifier', 'islower', 'isnumeric', 'isprintable', 'isspace', 'istitle', 'isupper', 'join', 'ljust', 'lower', 'lstrip', 'maketrans', 'partition', 'removeprefix', 'removesuffix', 'replace', 'rfind', 'rindex', 'rjust', 'rpartition', 'rsplit', 'rstrip', 'split', 'splitlines', 'startswith', 'strip', 'swapcase', 'title', 'translate', 'upper', 'zfill']"
      ]
     },
     "execution_count": 57,
     "metadata": {},
     "output_type": "execute_result"
    }
   ],
   "source": [
    "dir(v1)"
   ]
  },
  {
   "cell_type": "code",
   "execution_count": 58,
   "id": "47095847",
   "metadata": {},
   "outputs": [],
   "source": [
    "v2=100"
   ]
  },
  {
   "cell_type": "code",
   "execution_count": 59,
   "id": "21d8c3cf",
   "metadata": {},
   "outputs": [
    {
     "data": {
      "text/plain": [
       "['__abs__', '__add__', '__and__', '__bool__', '__ceil__', '__class__', '__delattr__', '__dir__', '__divmod__', '__doc__', '__eq__', '__float__', '__floor__', '__floordiv__', '__format__', '__ge__', '__getattribute__', '__getnewargs__', '__gt__', '__hash__', '__index__', '__init__', '__init_subclass__', '__int__', '__invert__', '__le__', '__lshift__', '__lt__', '__mod__', '__mul__', '__ne__', '__neg__', '__new__', '__or__', '__pos__', '__pow__', '__radd__', '__rand__', '__rdivmod__', '__reduce__', '__reduce_ex__', '__repr__', '__rfloordiv__', '__rlshift__', '__rmod__', '__rmul__', '__ror__', '__round__', '__rpow__', '__rrshift__', '__rshift__', '__rsub__', '__rtruediv__', '__rxor__', '__setattr__', '__sizeof__', '__str__', '__sub__', '__subclasshook__', '__truediv__', '__trunc__', '__xor__', 'as_integer_ratio', 'bit_length', 'conjugate', 'denominator', 'from_bytes', 'imag', 'numerator', 'real', 'to_bytes']"
      ]
     },
     "execution_count": 59,
     "metadata": {},
     "output_type": "execute_result"
    }
   ],
   "source": [
    "dir(v2)"
   ]
  },
  {
   "cell_type": "code",
   "execution_count": 60,
   "id": "23b086ef",
   "metadata": {},
   "outputs": [],
   "source": [
    "v3 = 10.45"
   ]
  },
  {
   "cell_type": "code",
   "execution_count": 61,
   "id": "11ec9c99",
   "metadata": {},
   "outputs": [
    {
     "data": {
      "text/plain": [
       "['__abs__', '__add__', '__bool__', '__ceil__', '__class__', '__delattr__', '__dir__', '__divmod__', '__doc__', '__eq__', '__float__', '__floor__', '__floordiv__', '__format__', '__ge__', '__getattribute__', '__getformat__', '__getnewargs__', '__gt__', '__hash__', '__init__', '__init_subclass__', '__int__', '__le__', '__lt__', '__mod__', '__mul__', '__ne__', '__neg__', '__new__', '__pos__', '__pow__', '__radd__', '__rdivmod__', '__reduce__', '__reduce_ex__', '__repr__', '__rfloordiv__', '__rmod__', '__rmul__', '__round__', '__rpow__', '__rsub__', '__rtruediv__', '__set_format__', '__setattr__', '__sizeof__', '__str__', '__sub__', '__subclasshook__', '__truediv__', '__trunc__', 'as_integer_ratio', 'conjugate', 'fromhex', 'hex', 'imag', 'is_integer', 'real']"
      ]
     },
     "execution_count": 61,
     "metadata": {},
     "output_type": "execute_result"
    }
   ],
   "source": [
    "dir(v3)"
   ]
  },
  {
   "cell_type": "code",
   "execution_count": 62,
   "id": "b522f69e",
   "metadata": {},
   "outputs": [
    {
     "name": "stdout",
     "output_type": "stream",
     "text": [
      "welcome\n",
      "welcome\n",
      "welcome\n",
      "welcome\n",
      "welcome\n"
     ]
    }
   ],
   "source": [
    "for i in 1,5,8,2,3:\n",
    "    print(\"welcome\")"
   ]
  },
  {
   "cell_type": "code",
   "execution_count": 63,
   "id": "18469a18",
   "metadata": {},
   "outputs": [
    {
     "name": "stdout",
     "output_type": "stream",
     "text": [
      "100\n"
     ]
    }
   ],
   "source": [
    "for i in 100,:\n",
    "    print(i)"
   ]
  },
  {
   "cell_type": "code",
   "execution_count": 64,
   "id": "614e60df",
   "metadata": {},
   "outputs": [
    {
     "data": {
      "text/plain": [
       "<class 'tuple'>"
      ]
     },
     "execution_count": 64,
     "metadata": {},
     "output_type": "execute_result"
    }
   ],
   "source": [
    "v3=100,\n",
    "type(v3)"
   ]
  },
  {
   "cell_type": "code",
   "execution_count": 65,
   "id": "03b927df",
   "metadata": {},
   "outputs": [
    {
     "name": "stdout",
     "output_type": "stream",
     "text": [
      "1\n",
      "welcome\n",
      "10.45\n"
     ]
    }
   ],
   "source": [
    "for i in 1,\"welcome\",10.45:\n",
    "    print(i)"
   ]
  },
  {
   "cell_type": "code",
   "execution_count": 66,
   "id": "424407ba",
   "metadata": {},
   "outputs": [
    {
     "data": {
      "text/plain": [
       "<class 'tuple'>"
      ]
     },
     "execution_count": 66,
     "metadata": {},
     "output_type": "execute_result"
    }
   ],
   "source": [
    "v4=1,\"welcome\",10.45\n",
    "type(v4)"
   ]
  },
  {
   "cell_type": "code",
   "execution_count": null,
   "id": "8703569a",
   "metadata": {},
   "outputs": [],
   "source": [
    "#Range\n",
    "#range(start=0,stop,step=1)"
   ]
  },
  {
   "cell_type": "code",
   "execution_count": null,
   "id": "23535015",
   "metadata": {},
   "outputs": [],
   "source": [
    "#range(6) => 0,1,2,3,4,5 => will generate range object in 2.x\n",
    "#range(6) => range(0,6) => it will generate range object in 3.x"
   ]
  },
  {
   "cell_type": "code",
   "execution_count": 67,
   "id": "061668f8",
   "metadata": {},
   "outputs": [
    {
     "data": {
      "text/plain": [
       "range(0, 6)"
      ]
     },
     "execution_count": 67,
     "metadata": {},
     "output_type": "execute_result"
    }
   ],
   "source": [
    "range(6) # range(0,6,1)"
   ]
  },
  {
   "cell_type": "code",
   "execution_count": 68,
   "id": "cd606767",
   "metadata": {},
   "outputs": [],
   "source": [
    "robj1 = range(6)"
   ]
  },
  {
   "cell_type": "code",
   "execution_count": 69,
   "id": "b19e4c0c",
   "metadata": {},
   "outputs": [
    {
     "data": {
      "text/plain": [
       "<class 'range'>"
      ]
     },
     "execution_count": 69,
     "metadata": {},
     "output_type": "execute_result"
    }
   ],
   "source": [
    "type(robj1)"
   ]
  },
  {
   "cell_type": "code",
   "execution_count": 70,
   "id": "b3b711c0",
   "metadata": {},
   "outputs": [
    {
     "data": {
      "text/plain": [
       "['__bool__', '__class__', '__contains__', '__delattr__', '__dir__', '__doc__', '__eq__', '__format__', '__ge__', '__getattribute__', '__getitem__', '__gt__', '__hash__', '__init__', '__init_subclass__', '__iter__', '__le__', '__len__', '__lt__', '__ne__', '__new__', '__reduce__', '__reduce_ex__', '__repr__', '__reversed__', '__setattr__', '__sizeof__', '__str__', '__subclasshook__', 'count', 'index', 'start', 'step', 'stop']"
      ]
     },
     "execution_count": 70,
     "metadata": {},
     "output_type": "execute_result"
    }
   ],
   "source": [
    "dir(robj1)"
   ]
  },
  {
   "cell_type": "code",
   "execution_count": 71,
   "id": "692a79f9",
   "metadata": {},
   "outputs": [
    {
     "data": {
      "text/plain": [
       "1"
      ]
     },
     "execution_count": 71,
     "metadata": {},
     "output_type": "execute_result"
    }
   ],
   "source": [
    "robj1.count(2)"
   ]
  },
  {
   "cell_type": "code",
   "execution_count": 72,
   "id": "f2f6385c",
   "metadata": {},
   "outputs": [
    {
     "data": {
      "text/plain": [
       "3"
      ]
     },
     "execution_count": 72,
     "metadata": {},
     "output_type": "execute_result"
    }
   ],
   "source": [
    "robj1.index(3)"
   ]
  },
  {
   "cell_type": "code",
   "execution_count": 73,
   "id": "f50f4ae2",
   "metadata": {},
   "outputs": [
    {
     "data": {
      "text/plain": [
       "0"
      ]
     },
     "execution_count": 73,
     "metadata": {},
     "output_type": "execute_result"
    }
   ],
   "source": [
    "robj1.start"
   ]
  },
  {
   "cell_type": "code",
   "execution_count": 74,
   "id": "0b2039c6",
   "metadata": {},
   "outputs": [
    {
     "data": {
      "text/plain": [
       "1"
      ]
     },
     "execution_count": 74,
     "metadata": {},
     "output_type": "execute_result"
    }
   ],
   "source": [
    "robj1.step"
   ]
  },
  {
   "cell_type": "code",
   "execution_count": 75,
   "id": "3f2d9ec9",
   "metadata": {},
   "outputs": [
    {
     "data": {
      "text/plain": [
       "6"
      ]
     },
     "execution_count": 75,
     "metadata": {},
     "output_type": "execute_result"
    }
   ],
   "source": [
    "robj1.stop"
   ]
  },
  {
   "cell_type": "code",
   "execution_count": 77,
   "id": "d03b3a42",
   "metadata": {},
   "outputs": [
    {
     "name": "stdout",
     "output_type": "stream",
     "text": [
      "0\n",
      "1\n",
      "2\n",
      "3\n",
      "4\n",
      "5\n"
     ]
    }
   ],
   "source": [
    "for i in robj1:\n",
    "    print(i)"
   ]
  },
  {
   "cell_type": "code",
   "execution_count": 78,
   "id": "e50561e8",
   "metadata": {},
   "outputs": [
    {
     "name": "stdout",
     "output_type": "stream",
     "text": [
      "0\n",
      "1\n",
      "2\n",
      "3\n",
      "4\n",
      "5\n"
     ]
    }
   ],
   "source": [
    "for i in range(6):\n",
    "    print(i)"
   ]
  },
  {
   "cell_type": "code",
   "execution_count": 79,
   "id": "e6d60713",
   "metadata": {},
   "outputs": [
    {
     "name": "stdout",
     "output_type": "stream",
     "text": [
      "0,5,10,15,20,25,"
     ]
    }
   ],
   "source": [
    "for i in range(0,26,5):\n",
    "    print(i,end=\",\")"
   ]
  },
  {
   "cell_type": "code",
   "execution_count": 80,
   "id": "262e7662",
   "metadata": {},
   "outputs": [
    {
     "name": "stdout",
     "output_type": "stream",
     "text": [
      "1 2 3 4 5 6 7 8 9 10 "
     ]
    }
   ],
   "source": [
    "for i in range(1,11):\n",
    "    print(i,end=\" \")"
   ]
  },
  {
   "cell_type": "code",
   "execution_count": 81,
   "id": "03582284",
   "metadata": {},
   "outputs": [
    {
     "name": "stdout",
     "output_type": "stream",
     "text": [
      "10 9 8 7 6 5 4 3 2 1 "
     ]
    }
   ],
   "source": [
    "for i in range(10,0,-1):\n",
    "    print(i,end=\" \")"
   ]
  },
  {
   "cell_type": "code",
   "execution_count": 82,
   "id": "e63ac26d",
   "metadata": {},
   "outputs": [
    {
     "name": "stdout",
     "output_type": "stream",
     "text": [
      "-10 -9 -8 -7 -6 -5 -4 -3 -2 -1 "
     ]
    }
   ],
   "source": [
    "for i in range(-10,0):\n",
    "    print(i,end=\" \")"
   ]
  },
  {
   "cell_type": "code",
   "execution_count": 83,
   "id": "d2b0b3f3",
   "metadata": {},
   "outputs": [
    {
     "name": "stdout",
     "output_type": "stream",
     "text": [
      "-10 -9 -8 -7 -6 -5 -4 -3 -2 -1 0 1 2 3 4 5 6 7 8 9 10 "
     ]
    }
   ],
   "source": [
    "for i in range(-10,11):\n",
    "    print(i,end=\" \")"
   ]
  },
  {
   "cell_type": "code",
   "execution_count": 84,
   "id": "61cbfe30",
   "metadata": {},
   "outputs": [],
   "source": [
    "robj1 = range(6)\n",
    "#012345"
   ]
  },
  {
   "cell_type": "code",
   "execution_count": 85,
   "id": "7ba05724",
   "metadata": {},
   "outputs": [
    {
     "name": "stdout",
     "output_type": "stream",
     "text": [
      "0 welcome\n",
      "1 welcome\n",
      "2 welcome\n",
      "3 welcome\n",
      "4 welcome\n",
      "5 welcome\n"
     ]
    }
   ],
   "source": [
    "for i in robj1:\n",
    "    print(i,\"welcome\")"
   ]
  },
  {
   "cell_type": "code",
   "execution_count": 86,
   "id": "ad445fa9",
   "metadata": {},
   "outputs": [
    {
     "ename": "SyntaxError",
     "evalue": "invalid syntax (Temp/ipykernel_15112/3467811070.py, line 1)",
     "output_type": "error",
     "traceback": [
      "\u001b[1;36m  File \u001b[1;32m\"C:\\Users\\User\\AppData\\Local\\Temp/ipykernel_15112/3467811070.py\"\u001b[1;36m, line \u001b[1;32m1\u001b[0m\n\u001b[1;33m    print(\"welcome\") print(\"Python\")\u001b[0m\n\u001b[1;37m                     ^\u001b[0m\n\u001b[1;31mSyntaxError\u001b[0m\u001b[1;31m:\u001b[0m invalid syntax\n"
     ]
    }
   ],
   "source": [
    "print(\"welcome\") print(\"Python\")"
   ]
  },
  {
   "cell_type": "code",
   "execution_count": 87,
   "id": "ba273576",
   "metadata": {},
   "outputs": [
    {
     "name": "stdout",
     "output_type": "stream",
     "text": [
      "welcome\n",
      "Python\n"
     ]
    }
   ],
   "source": [
    "print(\"welcome\"); print(\"Python\")"
   ]
  },
  {
   "cell_type": "code",
   "execution_count": 88,
   "id": "6cb88859",
   "metadata": {},
   "outputs": [
    {
     "name": "stdout",
     "output_type": "stream",
     "text": [
      "python javascript django react nodejs\n"
     ]
    }
   ],
   "source": [
    "print(\"python\",\"javascript\",\"django\",'react','nodejs')"
   ]
  },
  {
   "cell_type": "code",
   "execution_count": 89,
   "id": "30deacb2",
   "metadata": {},
   "outputs": [
    {
     "name": "stdout",
     "output_type": "stream",
     "text": [
      "pythonjavascriptdjangoreactnodejs\n"
     ]
    }
   ],
   "source": [
    "print(\"python\"+\"javascript\"+\"django\"+'react'+'nodejs')"
   ]
  },
  {
   "cell_type": "code",
   "execution_count": 90,
   "id": "68a9da46",
   "metadata": {},
   "outputs": [
    {
     "name": "stdout",
     "output_type": "stream",
     "text": [
      "python;javascript;django;react;nodejs\n"
     ]
    }
   ],
   "source": [
    "print(\"python\",\"javascript\",\"django\",'react','nodejs',sep=\";\")"
   ]
  },
  {
   "cell_type": "code",
   "execution_count": 91,
   "id": "bde587e7",
   "metadata": {},
   "outputs": [
    {
     "name": "stdout",
     "output_type": "stream",
     "text": [
      "python\tjavascript\tdjango\treact\tnodejs\n"
     ]
    }
   ],
   "source": [
    "print(\"python\",\"javascript\",\"django\",'react','nodejs',sep=\"\\t\")"
   ]
  },
  {
   "cell_type": "code",
   "execution_count": 92,
   "id": "f5b9c148",
   "metadata": {},
   "outputs": [
    {
     "name": "stdout",
     "output_type": "stream",
     "text": [
      "python#javascript#django#react#nodejs\n"
     ]
    }
   ],
   "source": [
    "print(\"python\",\"javascript\",\"django\",'react','nodejs',sep=\"#\")"
   ]
  },
  {
   "cell_type": "code",
   "execution_count": 93,
   "id": "56206596",
   "metadata": {},
   "outputs": [
    {
     "name": "stdout",
     "output_type": "stream",
     "text": [
      "python;javascript;django;react;nodejs@"
     ]
    }
   ],
   "source": [
    "print(\"python\",\"javascript\",\"django\",'react','nodejs',sep=\";\",end=\"@\")"
   ]
  },
  {
   "cell_type": "code",
   "execution_count": null,
   "id": "20fe8270",
   "metadata": {},
   "outputs": [],
   "source": [
    "\"welcome to python \":\n",
    "    \"good morning\":\n",
    "        \n",
    "        "
   ]
  },
  {
   "cell_type": "code",
   "execution_count": 95,
   "id": "a16fa110",
   "metadata": {},
   "outputs": [
    {
     "ename": "SyntaxError",
     "evalue": "EOL while scanning string literal (Temp/ipykernel_15112/2175943175.py, line 1)",
     "output_type": "error",
     "traceback": [
      "\u001b[1;36m  File \u001b[1;32m\"C:\\Users\\User\\AppData\\Local\\Temp/ipykernel_15112/2175943175.py\"\u001b[1;36m, line \u001b[1;32m1\u001b[0m\n\u001b[1;33m    print(\" welcome to python programming world ljdflsdfk d;lfksd f;ldskf;ldkf\u001b[0m\n\u001b[1;37m                                                                               ^\u001b[0m\n\u001b[1;31mSyntaxError\u001b[0m\u001b[1;31m:\u001b[0m EOL while scanning string literal\n"
     ]
    }
   ],
   "source": [
    "print(\" welcome to python programming world ljdflsdfk d;lfksd f;ldskf;ldkf \n",
    "      ds;lkf;ds flds;flkds;lfkds;lfkds;lfkds fldskfldskfds;fkf;lkds;f\")"
   ]
  },
  {
   "cell_type": "code",
   "execution_count": 96,
   "id": "15e2e597",
   "metadata": {},
   "outputs": [
    {
     "name": "stdout",
     "output_type": "stream",
     "text": [
      "welcome to python programming world  ds;lfkdsf;lsd f;ldskf;ldkf ds;lkf;ds flds;flkds;lfkds;lfkds;lfkds fldskfldskfds;fkf;lkds;f\n"
     ]
    }
   ],
   "source": [
    "print(\"welcome to python programming world  ds;lfkdsf;lsd f;ldskf;ldkf \\\n",
    "ds;lkf;ds flds;flkds;lfkds;lfkds;lfkds fldskfldskfds;fkf;lkds;f\")"
   ]
  },
  {
   "cell_type": "code",
   "execution_count": 97,
   "id": "539c6102",
   "metadata": {},
   "outputs": [
    {
     "name": "stdout",
     "output_type": "stream",
     "text": [
      "welcome to python programming\n"
     ]
    }
   ],
   "source": [
    "print(\"welcome to \\\n",
    "python \\\n",
    "programming\")"
   ]
  },
  {
   "cell_type": "code",
   "execution_count": 98,
   "id": "f7fbd79a",
   "metadata": {},
   "outputs": [
    {
     "data": {
      "text/plain": [
       "'welcome'"
      ]
     },
     "execution_count": 98,
     "metadata": {},
     "output_type": "execute_result"
    }
   ],
   "source": [
    "r\"welcome\""
   ]
  },
  {
   "cell_type": "code",
   "execution_count": 99,
   "id": "ea1b1a7b",
   "metadata": {},
   "outputs": [
    {
     "data": {
      "text/plain": [
       "'w'"
      ]
     },
     "execution_count": 99,
     "metadata": {},
     "output_type": "execute_result"
    }
   ],
   "source": [
    "r\"welcome\"[0]"
   ]
  },
  {
   "cell_type": "code",
   "execution_count": 100,
   "id": "3798ec89",
   "metadata": {},
   "outputs": [
    {
     "data": {
      "text/plain": [
       "'w'"
      ]
     },
     "execution_count": 100,
     "metadata": {},
     "output_type": "execute_result"
    }
   ],
   "source": [
    "\"welcome\"[0]"
   ]
  },
  {
   "cell_type": "code",
   "execution_count": 101,
   "id": "a6eee150",
   "metadata": {},
   "outputs": [
    {
     "data": {
      "text/plain": [
       "119"
      ]
     },
     "execution_count": 101,
     "metadata": {},
     "output_type": "execute_result"
    }
   ],
   "source": [
    "b\"welcome\"[0]"
   ]
  },
  {
   "cell_type": "code",
   "execution_count": 102,
   "id": "930abd7a",
   "metadata": {},
   "outputs": [
    {
     "data": {
      "text/plain": [
       "56"
      ]
     },
     "execution_count": 102,
     "metadata": {},
     "output_type": "execute_result"
    }
   ],
   "source": [
    "\"welcome\".__sizeof__()"
   ]
  },
  {
   "cell_type": "code",
   "execution_count": 103,
   "id": "f8ebc4b4",
   "metadata": {},
   "outputs": [
    {
     "data": {
      "text/plain": [
       "40"
      ]
     },
     "execution_count": 103,
     "metadata": {},
     "output_type": "execute_result"
    }
   ],
   "source": [
    "b\"welcome\".__sizeof__()"
   ]
  },
  {
   "cell_type": "code",
   "execution_count": 104,
   "id": "6d95eff1",
   "metadata": {},
   "outputs": [],
   "source": [
    "v1=\"a\""
   ]
  },
  {
   "cell_type": "code",
   "execution_count": 105,
   "id": "cd6f75e4",
   "metadata": {},
   "outputs": [
    {
     "data": {
      "text/plain": [
       "50"
      ]
     },
     "execution_count": 105,
     "metadata": {},
     "output_type": "execute_result"
    }
   ],
   "source": [
    "v1.__sizeof__()"
   ]
  },
  {
   "cell_type": "code",
   "execution_count": 106,
   "id": "495c39d2",
   "metadata": {},
   "outputs": [],
   "source": [
    "v1=1"
   ]
  },
  {
   "cell_type": "code",
   "execution_count": 107,
   "id": "6613c001",
   "metadata": {},
   "outputs": [
    {
     "data": {
      "text/plain": [
       "28"
      ]
     },
     "execution_count": 107,
     "metadata": {},
     "output_type": "execute_result"
    }
   ],
   "source": [
    "v1.__sizeof__()"
   ]
  },
  {
   "cell_type": "code",
   "execution_count": null,
   "id": "4617a9b1",
   "metadata": {},
   "outputs": [],
   "source": []
  }
 ],
 "metadata": {
  "kernelspec": {
   "display_name": "Python 3 (ipykernel)",
   "language": "python",
   "name": "python3"
  },
  "language_info": {
   "codemirror_mode": {
    "name": "ipython",
    "version": 3
   },
   "file_extension": ".py",
   "mimetype": "text/x-python",
   "name": "python",
   "nbconvert_exporter": "python",
   "pygments_lexer": "ipython3",
   "version": "3.9.7"
  }
 },
 "nbformat": 4,
 "nbformat_minor": 5
}
