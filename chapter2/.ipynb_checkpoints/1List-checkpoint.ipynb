{
 "cells": [
  {
   "cell_type": "code",
   "execution_count": null,
   "id": "90a584a8",
   "metadata": {},
   "outputs": [],
   "source": [
    "#list is collection of elements of different datatypes"
   ]
  },
  {
   "cell_type": "code",
   "execution_count": null,
   "id": "bbc35873",
   "metadata": {},
   "outputs": [],
   "source": [
    "L1 = [10,20,30,40,50]"
   ]
  },
  {
   "cell_type": "code",
   "execution_count": null,
   "id": "effa3eea",
   "metadata": {},
   "outputs": [],
   "source": [
    "type(L1)"
   ]
  },
  {
   "cell_type": "code",
   "execution_count": null,
   "id": "d5151578",
   "metadata": {},
   "outputs": [],
   "source": [
    "L2 = [\"python\",\"django\",'react','mongodb']"
   ]
  },
  {
   "cell_type": "code",
   "execution_count": null,
   "id": "f9ea9d5c",
   "metadata": {},
   "outputs": [],
   "source": [
    "type(L2)"
   ]
  },
  {
   "cell_type": "code",
   "execution_count": null,
   "id": "07345b3e",
   "metadata": {},
   "outputs": [],
   "source": [
    "L3=[10.45,10.67,10,54]"
   ]
  },
  {
   "cell_type": "code",
   "execution_count": null,
   "id": "8a556654",
   "metadata": {},
   "outputs": [],
   "source": [
    "type(L3)"
   ]
  },
  {
   "cell_type": "code",
   "execution_count": null,
   "id": "db3025f2",
   "metadata": {},
   "outputs": [],
   "source": [
    "L4 = [100,'Python',10.45]"
   ]
  },
  {
   "cell_type": "code",
   "execution_count": null,
   "id": "acdd6a89",
   "metadata": {},
   "outputs": [],
   "source": [
    "type(L4)"
   ]
  },
  {
   "cell_type": "code",
   "execution_count": null,
   "id": "7aa750fa",
   "metadata": {},
   "outputs": [],
   "source": [
    "pprint"
   ]
  },
  {
   "cell_type": "code",
   "execution_count": null,
   "id": "f5bc97f2",
   "metadata": {},
   "outputs": [],
   "source": [
    "dir(L1)"
   ]
  },
  {
   "cell_type": "code",
   "execution_count": null,
   "id": "4d6d6df4",
   "metadata": {},
   "outputs": [],
   "source": [
    "L1"
   ]
  },
  {
   "cell_type": "code",
   "execution_count": null,
   "id": "e6d0293d",
   "metadata": {},
   "outputs": [],
   "source": [
    "#indexing on List"
   ]
  },
  {
   "cell_type": "code",
   "execution_count": null,
   "id": "d52f77c0",
   "metadata": {},
   "outputs": [],
   "source": [
    "L1[0]"
   ]
  },
  {
   "cell_type": "code",
   "execution_count": null,
   "id": "1b17d759",
   "metadata": {},
   "outputs": [],
   "source": [
    "id(L1)"
   ]
  },
  {
   "cell_type": "code",
   "execution_count": null,
   "id": "4e266569",
   "metadata": {},
   "outputs": [],
   "source": [
    "id(L1[0])"
   ]
  },
  {
   "cell_type": "code",
   "execution_count": null,
   "id": "6a7b3838",
   "metadata": {},
   "outputs": [],
   "source": [
    "#slicing on List"
   ]
  },
  {
   "cell_type": "code",
   "execution_count": null,
   "id": "774d64b0",
   "metadata": {},
   "outputs": [],
   "source": [
    "L1[:]"
   ]
  },
  {
   "cell_type": "code",
   "execution_count": null,
   "id": "891a4eea",
   "metadata": {},
   "outputs": [],
   "source": [
    "L1[::]"
   ]
  },
  {
   "cell_type": "code",
   "execution_count": null,
   "id": "f8dab95e",
   "metadata": {},
   "outputs": [],
   "source": [
    "L1[::1]"
   ]
  },
  {
   "cell_type": "code",
   "execution_count": null,
   "id": "e25790e8",
   "metadata": {},
   "outputs": [],
   "source": [
    "L1[::2]"
   ]
  },
  {
   "cell_type": "code",
   "execution_count": null,
   "id": "bb73ffb2",
   "metadata": {},
   "outputs": [],
   "source": [
    "L1[::-1]"
   ]
  },
  {
   "cell_type": "code",
   "execution_count": null,
   "id": "02e28f4d",
   "metadata": {},
   "outputs": [],
   "source": [
    "L1[::-2]"
   ]
  },
  {
   "cell_type": "code",
   "execution_count": null,
   "id": "900a2ec4",
   "metadata": {},
   "outputs": [],
   "source": [
    "L4"
   ]
  },
  {
   "cell_type": "code",
   "execution_count": null,
   "id": "28b56fcd",
   "metadata": {},
   "outputs": [],
   "source": [
    "type(L4)"
   ]
  },
  {
   "cell_type": "code",
   "execution_count": null,
   "id": "9bd6e4c3",
   "metadata": {},
   "outputs": [],
   "source": [
    "type(L4[0])"
   ]
  },
  {
   "cell_type": "code",
   "execution_count": null,
   "id": "b61e5e2f",
   "metadata": {},
   "outputs": [],
   "source": [
    "L1"
   ]
  },
  {
   "cell_type": "code",
   "execution_count": null,
   "id": "017b0170",
   "metadata": {},
   "outputs": [],
   "source": [
    "for i in L1:\n",
    "    print(i)"
   ]
  },
  {
   "cell_type": "code",
   "execution_count": null,
   "id": "49c82bcc",
   "metadata": {},
   "outputs": [],
   "source": [
    "id(L1[0])"
   ]
  },
  {
   "cell_type": "code",
   "execution_count": null,
   "id": "3eaa2bc0",
   "metadata": {},
   "outputs": [],
   "source": [
    "x=10"
   ]
  },
  {
   "cell_type": "code",
   "execution_count": null,
   "id": "8e8078fd",
   "metadata": {},
   "outputs": [],
   "source": [
    "id(x)"
   ]
  },
  {
   "cell_type": "code",
   "execution_count": null,
   "id": "bd584ad7",
   "metadata": {},
   "outputs": [],
   "source": [
    "#Creating empty list"
   ]
  },
  {
   "cell_type": "code",
   "execution_count": null,
   "id": "73d663a2",
   "metadata": {},
   "outputs": [],
   "source": [
    "L5 = []"
   ]
  },
  {
   "cell_type": "code",
   "execution_count": null,
   "id": "7fed3863",
   "metadata": {},
   "outputs": [],
   "source": [
    "type(L5)"
   ]
  },
  {
   "cell_type": "code",
   "execution_count": null,
   "id": "00109fea",
   "metadata": {},
   "outputs": [],
   "source": [
    "#second method"
   ]
  },
  {
   "cell_type": "code",
   "execution_count": null,
   "id": "290a9949",
   "metadata": {},
   "outputs": [],
   "source": [
    "#list is inbuilt class\n",
    "type(list)"
   ]
  },
  {
   "cell_type": "code",
   "execution_count": null,
   "id": "f61d1b73",
   "metadata": {},
   "outputs": [],
   "source": [
    "L6 = list()"
   ]
  },
  {
   "cell_type": "code",
   "execution_count": null,
   "id": "3033c73b",
   "metadata": {},
   "outputs": [],
   "source": [
    "type(L6)"
   ]
  },
  {
   "cell_type": "code",
   "execution_count": null,
   "id": "d6fd6d70",
   "metadata": {},
   "outputs": [],
   "source": [
    "L7 = list(100)"
   ]
  },
  {
   "cell_type": "code",
   "execution_count": null,
   "id": "ae1c1e94",
   "metadata": {},
   "outputs": [],
   "source": [
    "L7=list(10.45)"
   ]
  },
  {
   "cell_type": "code",
   "execution_count": null,
   "id": "d40a3ff2",
   "metadata": {},
   "outputs": [],
   "source": [
    "L7 = list(\"welcome\")"
   ]
  },
  {
   "cell_type": "code",
   "execution_count": null,
   "id": "b2c8beca",
   "metadata": {},
   "outputs": [],
   "source": [
    "L7"
   ]
  },
  {
   "cell_type": "code",
   "execution_count": null,
   "id": "09157b26",
   "metadata": {},
   "outputs": [],
   "source": [
    "L8 = list([100,200,300,400,500])\n",
    "print(L8)"
   ]
  },
  {
   "cell_type": "code",
   "execution_count": null,
   "id": "b2612c9d",
   "metadata": {},
   "outputs": [],
   "source": [
    "L8 = list(\"100\")\n",
    "print(L8)"
   ]
  },
  {
   "cell_type": "code",
   "execution_count": null,
   "id": "38c0e4bd",
   "metadata": {},
   "outputs": [],
   "source": [
    "#in operator on list"
   ]
  },
  {
   "cell_type": "code",
   "execution_count": null,
   "id": "f1933d72",
   "metadata": {},
   "outputs": [],
   "source": [
    "days = ['sun','mon','tue','wed','thu','fri','sat']"
   ]
  },
  {
   "cell_type": "code",
   "execution_count": null,
   "id": "2eed9af2",
   "metadata": {},
   "outputs": [],
   "source": [
    "'sun' in days"
   ]
  },
  {
   "cell_type": "code",
   "execution_count": null,
   "id": "a7a67af0",
   "metadata": {},
   "outputs": [],
   "source": [
    "'son' in days"
   ]
  },
  {
   "cell_type": "code",
   "execution_count": null,
   "id": "d3f319c3",
   "metadata": {},
   "outputs": [],
   "source": [
    "for i in days:\n",
    "    print(i,end=\",\")"
   ]
  },
  {
   "cell_type": "code",
   "execution_count": null,
   "id": "06b3f9e4",
   "metadata": {},
   "outputs": [],
   "source": [
    "day = input(\"Enter day name in a week = \")\n",
    "if day in days:\n",
    "    print(\"Existed\")\n",
    "else:\n",
    "    print(\"Not Existed\")"
   ]
  },
  {
   "cell_type": "code",
   "execution_count": null,
   "id": "5acee424",
   "metadata": {},
   "outputs": [],
   "source": [
    "for i in [10,20,30,40,50]:\n",
    "    print(i,end=\",\")"
   ]
  },
  {
   "cell_type": "code",
   "execution_count": null,
   "id": "15d8c8e7",
   "metadata": {},
   "outputs": [],
   "source": [
    "#List Methods"
   ]
  },
  {
   "cell_type": "code",
   "execution_count": null,
   "id": "87494ee6",
   "metadata": {},
   "outputs": [],
   "source": [
    "#append\n",
    "#append can add only one new element at last\n",
    "#list will accept any number of duplicate elements\n",
    "L1 = [10,20,30,40,50]"
   ]
  },
  {
   "cell_type": "code",
   "execution_count": null,
   "id": "531df44f",
   "metadata": {},
   "outputs": [],
   "source": [
    "L1.append(60)\n",
    "print(L1)"
   ]
  },
  {
   "cell_type": "code",
   "execution_count": null,
   "id": "f705e6f4",
   "metadata": {},
   "outputs": [],
   "source": [
    "L1.append(10)\n",
    "print(L1)"
   ]
  },
  {
   "cell_type": "code",
   "execution_count": null,
   "id": "7e831e56",
   "metadata": {},
   "outputs": [],
   "source": [
    "L1 = [10,20,30]\n",
    "print(L1)"
   ]
  },
  {
   "cell_type": "code",
   "execution_count": null,
   "id": "05de6276",
   "metadata": {},
   "outputs": [],
   "source": [
    "list.append(L1,40)\n",
    "print(L1)"
   ]
  },
  {
   "cell_type": "code",
   "execution_count": null,
   "id": "2faa3e20",
   "metadata": {},
   "outputs": [],
   "source": [
    "L1 = [10,20]\n",
    "L2 = [100,200]\n",
    "L3 = ['python','django']"
   ]
  },
  {
   "cell_type": "code",
   "execution_count": null,
   "id": "e13c6090",
   "metadata": {},
   "outputs": [],
   "source": [
    "print(L1)\n",
    "print(L2)\n",
    "print(L3)"
   ]
  },
  {
   "cell_type": "code",
   "execution_count": null,
   "id": "40eb869d",
   "metadata": {},
   "outputs": [],
   "source": [
    "v1 = input(\"Enter a value  = \")\n",
    "list.append(L3,v1)"
   ]
  },
  {
   "cell_type": "code",
   "execution_count": null,
   "id": "dd63fcd8",
   "metadata": {},
   "outputs": [],
   "source": [
    "L1"
   ]
  },
  {
   "cell_type": "code",
   "execution_count": null,
   "id": "eab2c78b",
   "metadata": {},
   "outputs": [],
   "source": [
    "L1[0]=100"
   ]
  },
  {
   "cell_type": "code",
   "execution_count": null,
   "id": "b8be4de0",
   "metadata": {},
   "outputs": [],
   "source": [
    "L1"
   ]
  },
  {
   "cell_type": "code",
   "execution_count": null,
   "id": "d9bcccf1",
   "metadata": {},
   "outputs": [],
   "source": [
    "L1 =[1,2,3]"
   ]
  },
  {
   "cell_type": "code",
   "execution_count": null,
   "id": "1059332c",
   "metadata": {},
   "outputs": [],
   "source": [
    "id(L1)"
   ]
  },
  {
   "cell_type": "code",
   "execution_count": null,
   "id": "953fb1f0",
   "metadata": {},
   "outputs": [],
   "source": [
    "id(L1[0])"
   ]
  },
  {
   "cell_type": "code",
   "execution_count": null,
   "id": "e38473bd",
   "metadata": {},
   "outputs": [],
   "source": [
    "L1[0]=111"
   ]
  },
  {
   "cell_type": "code",
   "execution_count": null,
   "id": "f6d05469",
   "metadata": {},
   "outputs": [],
   "source": [
    "L1"
   ]
  },
  {
   "cell_type": "code",
   "execution_count": null,
   "id": "dabef336",
   "metadata": {},
   "outputs": [],
   "source": [
    "id(L1)"
   ]
  },
  {
   "cell_type": "code",
   "execution_count": null,
   "id": "88eedd62",
   "metadata": {},
   "outputs": [],
   "source": [
    "id(L1[0])"
   ]
  },
  {
   "cell_type": "code",
   "execution_count": null,
   "id": "eb882bd9",
   "metadata": {},
   "outputs": [],
   "source": [
    "L1=[1,2,3]"
   ]
  },
  {
   "cell_type": "code",
   "execution_count": null,
   "id": "89f9290d",
   "metadata": {},
   "outputs": [],
   "source": [
    "L1[3]=4"
   ]
  },
  {
   "cell_type": "code",
   "execution_count": null,
   "id": "bc5dc28f",
   "metadata": {},
   "outputs": [],
   "source": [
    "#clear : it removes all elements from list"
   ]
  },
  {
   "cell_type": "code",
   "execution_count": null,
   "id": "90f2827f",
   "metadata": {},
   "outputs": [],
   "source": [
    "L1 = [10,20,30]"
   ]
  },
  {
   "cell_type": "code",
   "execution_count": null,
   "id": "fc5afae1",
   "metadata": {},
   "outputs": [],
   "source": [
    "L1"
   ]
  },
  {
   "cell_type": "code",
   "execution_count": null,
   "id": "db9307f2",
   "metadata": {},
   "outputs": [],
   "source": [
    "L1.clear()"
   ]
  },
  {
   "cell_type": "code",
   "execution_count": null,
   "id": "bd2c00b4",
   "metadata": {},
   "outputs": [],
   "source": [
    "L1"
   ]
  },
  {
   "cell_type": "code",
   "execution_count": null,
   "id": "5edb8a39",
   "metadata": {},
   "outputs": [],
   "source": [
    "#Copy"
   ]
  },
  {
   "cell_type": "code",
   "execution_count": null,
   "id": "3159d41e",
   "metadata": {},
   "outputs": [],
   "source": [
    "L1 = [10,20,30,40,50]"
   ]
  },
  {
   "cell_type": "code",
   "execution_count": null,
   "id": "59a678b7",
   "metadata": {},
   "outputs": [],
   "source": [
    "print(L1)\n",
    "L2 = L1.copy()\n",
    "print(L2)"
   ]
  },
  {
   "cell_type": "code",
   "execution_count": null,
   "id": "6dcfce07",
   "metadata": {},
   "outputs": [],
   "source": [
    "#Count\n",
    "help(list.count)"
   ]
  },
  {
   "cell_type": "code",
   "execution_count": null,
   "id": "842035d4",
   "metadata": {},
   "outputs": [],
   "source": [
    "L1 = [10,20,30,10,40,10,20,50]"
   ]
  },
  {
   "cell_type": "code",
   "execution_count": null,
   "id": "4be9f541",
   "metadata": {},
   "outputs": [],
   "source": [
    "L1.count(10)"
   ]
  },
  {
   "cell_type": "code",
   "execution_count": null,
   "id": "d0baf176",
   "metadata": {},
   "outputs": [],
   "source": [
    "#Extend"
   ]
  },
  {
   "cell_type": "code",
   "execution_count": null,
   "id": "e8fadd9a",
   "metadata": {},
   "outputs": [],
   "source": [
    "L1 = [10,20,30]"
   ]
  },
  {
   "cell_type": "code",
   "execution_count": null,
   "id": "06545437",
   "metadata": {},
   "outputs": [],
   "source": [
    "L1.extend([40,50,60])"
   ]
  },
  {
   "cell_type": "code",
   "execution_count": null,
   "id": "191c3181",
   "metadata": {},
   "outputs": [],
   "source": [
    "L1"
   ]
  },
  {
   "cell_type": "code",
   "execution_count": null,
   "id": "59949220",
   "metadata": {},
   "outputs": [],
   "source": [
    "L1.extend(\"welcome\")"
   ]
  },
  {
   "cell_type": "code",
   "execution_count": null,
   "id": "bf67b6d9",
   "metadata": {},
   "outputs": [],
   "source": [
    "L1"
   ]
  },
  {
   "cell_type": "code",
   "execution_count": null,
   "id": "cf9ce03d",
   "metadata": {},
   "outputs": [],
   "source": [
    "L1.append(\"welcome\")"
   ]
  },
  {
   "cell_type": "code",
   "execution_count": null,
   "id": "7e942264",
   "metadata": {},
   "outputs": [],
   "source": [
    "L1"
   ]
  },
  {
   "cell_type": "code",
   "execution_count": null,
   "id": "96814c42",
   "metadata": {},
   "outputs": [],
   "source": [
    "L1.extend(\"python\",)"
   ]
  },
  {
   "cell_type": "code",
   "execution_count": null,
   "id": "699ddcb3",
   "metadata": {},
   "outputs": [],
   "source": [
    "L1"
   ]
  },
  {
   "cell_type": "code",
   "execution_count": null,
   "id": "4b07de99",
   "metadata": {},
   "outputs": [],
   "source": [
    "L1.extend([\"javascript\"])"
   ]
  },
  {
   "cell_type": "code",
   "execution_count": null,
   "id": "2d1b1c43",
   "metadata": {},
   "outputs": [],
   "source": [
    "L1"
   ]
  },
  {
   "cell_type": "code",
   "execution_count": null,
   "id": "d8e3adca",
   "metadata": {},
   "outputs": [],
   "source": [
    "L1 = [10,20,30]\n",
    "L2 = [40,50,60]"
   ]
  },
  {
   "cell_type": "code",
   "execution_count": null,
   "id": "4cdbf6ca",
   "metadata": {},
   "outputs": [],
   "source": [
    "L1.extend(L2)"
   ]
  },
  {
   "cell_type": "code",
   "execution_count": null,
   "id": "473cb9df",
   "metadata": {},
   "outputs": [],
   "source": [
    "L1"
   ]
  },
  {
   "cell_type": "code",
   "execution_count": null,
   "id": "effa1ec2",
   "metadata": {},
   "outputs": [],
   "source": [
    "L2"
   ]
  },
  {
   "cell_type": "code",
   "execution_count": null,
   "id": "535b57ba",
   "metadata": {},
   "outputs": [],
   "source": [
    "#index\n",
    "help(list.index)"
   ]
  },
  {
   "cell_type": "code",
   "execution_count": null,
   "id": "6a3bd30d",
   "metadata": {},
   "outputs": [],
   "source": [
    "L1=[10,20,30,40,50,10,60,70,80,10,90]"
   ]
  },
  {
   "cell_type": "code",
   "execution_count": null,
   "id": "7fd8114e",
   "metadata": {},
   "outputs": [],
   "source": [
    "L1.index(30)"
   ]
  },
  {
   "cell_type": "code",
   "execution_count": null,
   "id": "551a3c0f",
   "metadata": {},
   "outputs": [],
   "source": [
    "L1.index(10,2)"
   ]
  },
  {
   "cell_type": "code",
   "execution_count": null,
   "id": "8531e6c0",
   "metadata": {},
   "outputs": [],
   "source": [
    "L1.index(10,4,8)"
   ]
  },
  {
   "cell_type": "code",
   "execution_count": null,
   "id": "0a7f6950",
   "metadata": {},
   "outputs": [],
   "source": [
    "L1.index(10,4,10)"
   ]
  },
  {
   "cell_type": "code",
   "execution_count": null,
   "id": "ba0cdf47",
   "metadata": {},
   "outputs": [],
   "source": [
    "#first index\n",
    "L1.index(10)"
   ]
  },
  {
   "cell_type": "code",
   "execution_count": null,
   "id": "c5f28118",
   "metadata": {},
   "outputs": [],
   "source": [
    "#second index of given value\n",
    "L1 = [20,30,40,60,50,10,50,60,10]"
   ]
  },
  {
   "cell_type": "code",
   "execution_count": null,
   "id": "929b5aad",
   "metadata": {},
   "outputs": [],
   "source": [
    "L1.index(10)+1"
   ]
  },
  {
   "cell_type": "code",
   "execution_count": null,
   "id": "ef2eb0f8",
   "metadata": {},
   "outputs": [],
   "source": [
    "L1.index(10,L1.index(10)+1)"
   ]
  },
  {
   "cell_type": "code",
   "execution_count": null,
   "id": "2812fe7e",
   "metadata": {},
   "outputs": [],
   "source": [
    "#insert"
   ]
  },
  {
   "cell_type": "code",
   "execution_count": null,
   "id": "aa495263",
   "metadata": {},
   "outputs": [],
   "source": [
    "L1 = ['python','javascript','nodejs','html']"
   ]
  },
  {
   "cell_type": "code",
   "execution_count": null,
   "id": "c38dea1b",
   "metadata": {},
   "outputs": [],
   "source": [
    "L1.insert(2,'css')"
   ]
  },
  {
   "cell_type": "code",
   "execution_count": null,
   "id": "cf343336",
   "metadata": {},
   "outputs": [],
   "source": [
    "L1"
   ]
  },
  {
   "cell_type": "code",
   "execution_count": null,
   "id": "fc629987",
   "metadata": {},
   "outputs": [],
   "source": [
    "#pop"
   ]
  },
  {
   "cell_type": "code",
   "execution_count": null,
   "id": "b9b05098",
   "metadata": {},
   "outputs": [],
   "source": [
    "help(list.pop)"
   ]
  },
  {
   "cell_type": "code",
   "execution_count": null,
   "id": "c962e263",
   "metadata": {},
   "outputs": [],
   "source": [
    "L1 = [100,200,300,400,500]"
   ]
  },
  {
   "cell_type": "code",
   "execution_count": null,
   "id": "91aae605",
   "metadata": {},
   "outputs": [],
   "source": [
    "L1.pop()\n",
    "L1"
   ]
  },
  {
   "cell_type": "code",
   "execution_count": null,
   "id": "95abc222",
   "metadata": {},
   "outputs": [],
   "source": [
    "L1 = [100,200,300,400,500]\n",
    "L1.pop(3)\n",
    "L1"
   ]
  },
  {
   "cell_type": "code",
   "execution_count": null,
   "id": "f17f4790",
   "metadata": {},
   "outputs": [],
   "source": [
    "#remove"
   ]
  },
  {
   "cell_type": "code",
   "execution_count": null,
   "id": "02d1e4d3",
   "metadata": {},
   "outputs": [],
   "source": [
    "help(list.remove)"
   ]
  },
  {
   "cell_type": "code",
   "execution_count": null,
   "id": "c85b15e5",
   "metadata": {},
   "outputs": [],
   "source": [
    "L1 = [10,20,30,40,50]"
   ]
  },
  {
   "cell_type": "code",
   "execution_count": null,
   "id": "1f0b4ab5",
   "metadata": {},
   "outputs": [],
   "source": [
    "L1.remove(30)\n",
    "L1"
   ]
  },
  {
   "cell_type": "code",
   "execution_count": null,
   "id": "e71cbb40",
   "metadata": {},
   "outputs": [],
   "source": [
    "#reverse"
   ]
  },
  {
   "cell_type": "code",
   "execution_count": null,
   "id": "496e273f",
   "metadata": {},
   "outputs": [],
   "source": [
    "L1 = [30,20,10,40,50]"
   ]
  },
  {
   "cell_type": "code",
   "execution_count": null,
   "id": "b3322c36",
   "metadata": {},
   "outputs": [],
   "source": [
    "L1.reverse()\n",
    "L1"
   ]
  },
  {
   "cell_type": "code",
   "execution_count": null,
   "id": "d4b883ca",
   "metadata": {},
   "outputs": [],
   "source": [
    "#sort\n",
    "help(list.sort)"
   ]
  },
  {
   "cell_type": "code",
   "execution_count": null,
   "id": "c638a8a0",
   "metadata": {},
   "outputs": [],
   "source": [
    "L1 = [3,1,5,6,2,8,22,15]"
   ]
  },
  {
   "cell_type": "code",
   "execution_count": null,
   "id": "e1d0f960",
   "metadata": {},
   "outputs": [],
   "source": [
    "L1.sort()\n",
    "L1"
   ]
  },
  {
   "cell_type": "code",
   "execution_count": null,
   "id": "836658eb",
   "metadata": {},
   "outputs": [],
   "source": [
    "L1.sort(reverse=True)\n",
    "L1"
   ]
  },
  {
   "cell_type": "code",
   "execution_count": null,
   "id": "55a7d648",
   "metadata": {},
   "outputs": [],
   "source": [
    "courses = ['python','javascript','nodejs','react','html']"
   ]
  },
  {
   "cell_type": "code",
   "execution_count": null,
   "id": "b663905a",
   "metadata": {},
   "outputs": [],
   "source": [
    "for i in courses:\n",
    "    print(i)"
   ]
  },
  {
   "cell_type": "code",
   "execution_count": null,
   "id": "dc4081b5",
   "metadata": {},
   "outputs": [],
   "source": [
    "for course in courses:\n",
    "    print(courses.index(course),course)"
   ]
  },
  {
   "cell_type": "raw",
   "id": "90b831a2",
   "metadata": {},
   "source": [
    "1,2,3,4,5,6,7,8,9,10"
   ]
  },
  {
   "cell_type": "code",
   "execution_count": null,
   "id": "b34eeae4",
   "metadata": {},
   "outputs": [],
   "source": [
    "for i in range(1,11):\n",
    "    print(i,end=\",\")"
   ]
  },
  {
   "cell_type": "code",
   "execution_count": null,
   "id": "5170cc0a",
   "metadata": {},
   "outputs": [],
   "source": [
    "for i in range(1,11):\n",
    "    if i==5:\n",
    "        continue;\n",
    "    else:\n",
    "        print(i,end=\",\")"
   ]
  },
  {
   "cell_type": "code",
   "execution_count": null,
   "id": "0fafe6b6",
   "metadata": {},
   "outputs": [],
   "source": [
    "for i in range(1,11):\n",
    "    if i==5:\n",
    "        continue;\n",
    "    print(i,end=\",\")"
   ]
  },
  {
   "cell_type": "code",
   "execution_count": null,
   "id": "6c3c6be0",
   "metadata": {},
   "outputs": [],
   "source": [
    "for i in range(1,11):\n",
    "    if i==6:\n",
    "        break;\n",
    "    print(i,end=\",\")"
   ]
  },
  {
   "cell_type": "code",
   "execution_count": null,
   "id": "b0e614aa",
   "metadata": {},
   "outputs": [],
   "source": [
    "for i in range(1,11):\n",
    "    if i==5:\n",
    "        print(i);"
   ]
  },
  {
   "cell_type": "code",
   "execution_count": null,
   "id": "5635b7fa",
   "metadata": {},
   "outputs": [],
   "source": [
    "students = ['ravi','ramu','shiva','somu','hari','giri']\n",
    "abs_students = ['hari','shiva']"
   ]
  },
  {
   "cell_type": "code",
   "execution_count": null,
   "id": "35c7bceb",
   "metadata": {},
   "outputs": [],
   "source": [
    "for student in students:\n",
    "    if student in abs_students:\n",
    "        continue;\n",
    "    print(student)"
   ]
  },
  {
   "cell_type": "code",
   "execution_count": null,
   "id": "acdf8618",
   "metadata": {},
   "outputs": [],
   "source": [
    "L1 = [[10,20],[30,40],[50,60]]"
   ]
  },
  {
   "cell_type": "code",
   "execution_count": null,
   "id": "8f66b9c1",
   "metadata": {},
   "outputs": [],
   "source": [
    "L1"
   ]
  },
  {
   "cell_type": "code",
   "execution_count": null,
   "id": "5b4673da",
   "metadata": {},
   "outputs": [],
   "source": [
    "L1[0]"
   ]
  },
  {
   "cell_type": "code",
   "execution_count": null,
   "id": "cff6ffa5",
   "metadata": {},
   "outputs": [],
   "source": [
    "L1[0][0]"
   ]
  },
  {
   "cell_type": "code",
   "execution_count": null,
   "id": "bd05f963",
   "metadata": {},
   "outputs": [],
   "source": [
    "L1[2][1]"
   ]
  },
  {
   "cell_type": "code",
   "execution_count": null,
   "id": "3176e60c",
   "metadata": {},
   "outputs": [],
   "source": [
    "v1=\"python\""
   ]
  },
  {
   "cell_type": "code",
   "execution_count": null,
   "id": "96bd62b0",
   "metadata": {},
   "outputs": [],
   "source": [
    "L1 = list(v1)\n",
    "L1"
   ]
  },
  {
   "cell_type": "code",
   "execution_count": null,
   "id": "99769c8f",
   "metadata": {},
   "outputs": [],
   "source": [
    "\",\".join(\"welcome\")"
   ]
  },
  {
   "cell_type": "code",
   "execution_count": null,
   "id": "7c7a7420",
   "metadata": {},
   "outputs": [],
   "source": [
    "\",\".join([10,20,30,40,50])"
   ]
  },
  {
   "cell_type": "code",
   "execution_count": null,
   "id": "adb38c16",
   "metadata": {},
   "outputs": [],
   "source": [
    "\",\".join(['p','y','t'])"
   ]
  },
  {
   "cell_type": "code",
   "execution_count": null,
   "id": "782e473b",
   "metadata": {},
   "outputs": [],
   "source": [
    "\",\".join(['p','y','t','h','o','n'])"
   ]
  },
  {
   "cell_type": "code",
   "execution_count": null,
   "id": "5119bb69",
   "metadata": {},
   "outputs": [],
   "source": [
    "\"\".join(['p','y','t','h','o','n'])"
   ]
  },
  {
   "cell_type": "code",
   "execution_count": null,
   "id": "951805ad",
   "metadata": {},
   "outputs": [],
   "source": [
    "L1=list(\"welcome\")\n",
    "L1"
   ]
  },
  {
   "cell_type": "code",
   "execution_count": null,
   "id": "e737d7b7",
   "metadata": {},
   "outputs": [],
   "source": [
    "\"\".join(L1)"
   ]
  },
  {
   "cell_type": "code",
   "execution_count": null,
   "id": "78638bb6",
   "metadata": {},
   "outputs": [],
   "source": [
    "L1=[10,20,30,40,50,60,70,80,90]"
   ]
  },
  {
   "cell_type": "code",
   "execution_count": null,
   "id": "dc6ef112",
   "metadata": {},
   "outputs": [],
   "source": [
    "L1[-1]"
   ]
  },
  {
   "cell_type": "code",
   "execution_count": null,
   "id": "22cd78bf",
   "metadata": {},
   "outputs": [],
   "source": [
    "L1[-3]"
   ]
  },
  {
   "cell_type": "code",
   "execution_count": null,
   "id": "240d96fc",
   "metadata": {},
   "outputs": [],
   "source": [
    "L1[:5]"
   ]
  },
  {
   "cell_type": "code",
   "execution_count": null,
   "id": "be1270aa",
   "metadata": {},
   "outputs": [],
   "source": [
    "L1[-4:-8:-1]"
   ]
  },
  {
   "cell_type": "code",
   "execution_count": null,
   "id": "10ff2730",
   "metadata": {},
   "outputs": [],
   "source": [
    "L1[5:1:-1]"
   ]
  },
  {
   "cell_type": "code",
   "execution_count": null,
   "id": "ec3bc934",
   "metadata": {},
   "outputs": [],
   "source": [
    "L1=[10,20,30]"
   ]
  },
  {
   "cell_type": "code",
   "execution_count": null,
   "id": "07707c5c",
   "metadata": {},
   "outputs": [],
   "source": [
    "L2=[10,20,30]"
   ]
  },
  {
   "cell_type": "code",
   "execution_count": null,
   "id": "369df00b",
   "metadata": {},
   "outputs": [],
   "source": [
    "L1==L2"
   ]
  },
  {
   "cell_type": "code",
   "execution_count": null,
   "id": "63c91edf",
   "metadata": {},
   "outputs": [],
   "source": [
    "L1 is L2"
   ]
  },
  {
   "cell_type": "code",
   "execution_count": null,
   "id": "efdb0c5a",
   "metadata": {},
   "outputs": [],
   "source": [
    "id(L1)"
   ]
  },
  {
   "cell_type": "code",
   "execution_count": null,
   "id": "6219eca9",
   "metadata": {},
   "outputs": [],
   "source": [
    "id(L2)"
   ]
  },
  {
   "cell_type": "code",
   "execution_count": null,
   "id": "2effb44d",
   "metadata": {},
   "outputs": [],
   "source": [
    "a=5"
   ]
  },
  {
   "cell_type": "code",
   "execution_count": null,
   "id": "a591abaf",
   "metadata": {},
   "outputs": [],
   "source": [
    "id(a)"
   ]
  },
  {
   "cell_type": "code",
   "execution_count": null,
   "id": "3cbb63da",
   "metadata": {},
   "outputs": [],
   "source": [
    "b=5.0"
   ]
  },
  {
   "cell_type": "code",
   "execution_count": null,
   "id": "f3452a9e",
   "metadata": {},
   "outputs": [],
   "source": [
    "id(b)"
   ]
  },
  {
   "cell_type": "code",
   "execution_count": null,
   "id": "b069fc43",
   "metadata": {},
   "outputs": [],
   "source": [
    "sum(1,2,3,4,5)"
   ]
  },
  {
   "cell_type": "code",
   "execution_count": null,
   "id": "ff74fc31",
   "metadata": {},
   "outputs": [],
   "source": [
    "sum([1,2,3,4,5])"
   ]
  },
  {
   "cell_type": "code",
   "execution_count": null,
   "id": "91c585b2",
   "metadata": {},
   "outputs": [],
   "source": [
    "sum(\"welcome\")"
   ]
  },
  {
   "cell_type": "code",
   "execution_count": null,
   "id": "8b9b6ee8",
   "metadata": {},
   "outputs": [],
   "source": []
  }
 ],
 "metadata": {
  "kernelspec": {
   "display_name": "Python 3 (ipykernel)",
   "language": "python",
   "name": "python3"
  },
  "language_info": {
   "codemirror_mode": {
    "name": "ipython",
    "version": 3
   },
   "file_extension": ".py",
   "mimetype": "text/x-python",
   "name": "python",
   "nbconvert_exporter": "python",
   "pygments_lexer": "ipython3",
   "version": "3.9.7"
  }
 },
 "nbformat": 4,
 "nbformat_minor": 5
}
