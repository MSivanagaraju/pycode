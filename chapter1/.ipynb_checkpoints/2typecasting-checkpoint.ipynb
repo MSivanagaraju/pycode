{
 "cells": [
  {
   "cell_type": "code",
   "execution_count": null,
   "id": "a106c597",
   "metadata": {},
   "outputs": [],
   "source": [
    "#Casting Characters\n",
    "%s   ==> read any data\n",
    "%d   ==> read only integer part data\n",
    "%f   ==> read only float data\n",
    "%r   ==> read as raw data"
   ]
  },
  {
   "cell_type": "code",
   "execution_count": null,
   "id": "44e01540",
   "metadata": {},
   "outputs": [],
   "source": [
    "course=\"Python\"\n",
    "fee = 10000\n",
    "t = 10.45"
   ]
  },
  {
   "cell_type": "code",
   "execution_count": null,
   "id": "e45d7e1d",
   "metadata": {},
   "outputs": [],
   "source": [
    "print(\"Course = course , fees = fee , time = t\")"
   ]
  },
  {
   "cell_type": "code",
   "execution_count": null,
   "id": "2e117f6d",
   "metadata": {},
   "outputs": [],
   "source": [
    "print(\"Course = %s , fees = %d , time = %f\" %(course,fee,t))"
   ]
  },
  {
   "cell_type": "code",
   "execution_count": null,
   "id": "c096adf2",
   "metadata": {},
   "outputs": [],
   "source": [
    "print(\"Course = %s , fees = %s , time = %s\" %(course,fee,t))"
   ]
  },
  {
   "cell_type": "code",
   "execution_count": null,
   "id": "c5e43a21",
   "metadata": {},
   "outputs": [],
   "source": [
    "print(\"Course = %s , fees = %d , time = %d\" %(course,fee,t))"
   ]
  },
  {
   "cell_type": "code",
   "execution_count": null,
   "id": "aab1c4f3",
   "metadata": {},
   "outputs": [],
   "source": [
    "print(\"Course = %d , fees = %d , time = %f\" %(course,fee,t))"
   ]
  },
  {
   "cell_type": "code",
   "execution_count": null,
   "id": "8f7f77ac",
   "metadata": {},
   "outputs": [],
   "source": [
    "#format method of string"
   ]
  },
  {
   "cell_type": "code",
   "execution_count": null,
   "id": "3ba00a91",
   "metadata": {},
   "outputs": [],
   "source": [
    "print(\"Course = {} , fees = {} , time = {}\".format(course,fee,t))"
   ]
  },
  {
   "cell_type": "code",
   "execution_count": null,
   "id": "a978951e",
   "metadata": {},
   "outputs": [],
   "source": [
    "print(\"Course = {2} , fees = {0} , time = {1}\".format(course,fee,t))"
   ]
  },
  {
   "cell_type": "code",
   "execution_count": null,
   "id": "9e5659b5",
   "metadata": {},
   "outputs": [],
   "source": [
    "print(\"Course = {0} , fees = {0} , time = {0}\".format(course,fee,t))"
   ]
  },
  {
   "cell_type": "code",
   "execution_count": null,
   "id": "f76ca21e",
   "metadata": {},
   "outputs": [],
   "source": [
    "print(\"Course = {} , fees = {} \".format(course,fee,t))"
   ]
  },
  {
   "cell_type": "code",
   "execution_count": null,
   "id": "649872de",
   "metadata": {},
   "outputs": [],
   "source": [
    "print(\"Course = {} , fees = {} , time = {}\".format(course,fee))"
   ]
  },
  {
   "cell_type": "code",
   "execution_count": null,
   "id": "55d28514",
   "metadata": {},
   "outputs": [],
   "source": [
    "print(\"I love {0} , {0} is great , great means {0} is so great\".format(\"India\"))"
   ]
  },
  {
   "cell_type": "code",
   "execution_count": null,
   "id": "3c86cc77",
   "metadata": {},
   "outputs": [],
   "source": [
    "#Raw Data  => %r"
   ]
  },
  {
   "cell_type": "code",
   "execution_count": null,
   "id": "e8aebd6c",
   "metadata": {},
   "outputs": [],
   "source": [
    "print(\"welcome to \\npython\")"
   ]
  },
  {
   "cell_type": "code",
   "execution_count": null,
   "id": "1ba8fdbb",
   "metadata": {},
   "outputs": [],
   "source": [
    "v1=\"welcome to \\npython\""
   ]
  },
  {
   "cell_type": "code",
   "execution_count": null,
   "id": "5fa786f0",
   "metadata": {},
   "outputs": [],
   "source": [
    "print(v1)"
   ]
  },
  {
   "cell_type": "code",
   "execution_count": null,
   "id": "3fcb5056",
   "metadata": {},
   "outputs": [],
   "source": [
    "print(\"%s\" %(v1))"
   ]
  },
  {
   "cell_type": "code",
   "execution_count": null,
   "id": "3594f400",
   "metadata": {},
   "outputs": [],
   "source": [
    "print(\"{}\".format(v1))"
   ]
  },
  {
   "cell_type": "code",
   "execution_count": null,
   "id": "eed6d7c8",
   "metadata": {},
   "outputs": [],
   "source": [
    "# r means raw data\n",
    "print(r\"welcome to \\npython\")"
   ]
  },
  {
   "cell_type": "code",
   "execution_count": null,
   "id": "60a58adb",
   "metadata": {},
   "outputs": [],
   "source": [
    "print(\"%r\" %(v1))"
   ]
  },
  {
   "cell_type": "code",
   "execution_count": null,
   "id": "2a6b4637",
   "metadata": {},
   "outputs": [],
   "source": []
  },
  {
   "cell_type": "code",
   "execution_count": null,
   "id": "283a99b2",
   "metadata": {},
   "outputs": [],
   "source": []
  },
  {
   "cell_type": "code",
   "execution_count": null,
   "id": "1ece05e8",
   "metadata": {},
   "outputs": [],
   "source": []
  }
 ],
 "metadata": {
  "kernelspec": {
   "display_name": "Python 3 (ipykernel)",
   "language": "python",
   "name": "python3"
  },
  "language_info": {
   "codemirror_mode": {
    "name": "ipython",
    "version": 3
   },
   "file_extension": ".py",
   "mimetype": "text/x-python",
   "name": "python",
   "nbconvert_exporter": "python",
   "pygments_lexer": "ipython3",
   "version": "3.9.7"
  }
 },
 "nbformat": 4,
 "nbformat_minor": 5
}
