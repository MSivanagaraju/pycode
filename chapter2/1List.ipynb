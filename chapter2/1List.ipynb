{
 "cells": [
  {
   "cell_type": "code",
   "execution_count": null,
   "id": "90a584a8",
   "metadata": {},
   "outputs": [],
   "source": [
    "#list is python inbuilt class to store the data in list objects"
   ]
  },
  {
   "cell_type": "code",
   "execution_count": 1,
   "id": "bbc35873",
   "metadata": {},
   "outputs": [],
   "source": [
    "L1 = [10,20,30,40,50]"
   ]
  },
  {
   "cell_type": "code",
   "execution_count": 2,
   "id": "effa3eea",
   "metadata": {},
   "outputs": [
    {
     "data": {
      "text/plain": [
       "list"
      ]
     },
     "execution_count": 2,
     "metadata": {},
     "output_type": "execute_result"
    }
   ],
   "source": [
    "type(L1)"
   ]
  },
  {
   "cell_type": "code",
   "execution_count": 3,
   "id": "d5151578",
   "metadata": {},
   "outputs": [],
   "source": [
    "L2 = [\"python\",\"django\",'react','mongodb']"
   ]
  },
  {
   "cell_type": "code",
   "execution_count": 4,
   "id": "f9ea9d5c",
   "metadata": {},
   "outputs": [
    {
     "data": {
      "text/plain": [
       "list"
      ]
     },
     "execution_count": 4,
     "metadata": {},
     "output_type": "execute_result"
    }
   ],
   "source": [
    "type(L2)"
   ]
  },
  {
   "cell_type": "code",
   "execution_count": 5,
   "id": "07345b3e",
   "metadata": {},
   "outputs": [],
   "source": [
    "L3=[10.45,10.67,10.54]"
   ]
  },
  {
   "cell_type": "code",
   "execution_count": 6,
   "id": "8a556654",
   "metadata": {},
   "outputs": [
    {
     "data": {
      "text/plain": [
       "list"
      ]
     },
     "execution_count": 6,
     "metadata": {},
     "output_type": "execute_result"
    }
   ],
   "source": [
    "type(L3)"
   ]
  },
  {
   "cell_type": "code",
   "execution_count": 7,
   "id": "db3025f2",
   "metadata": {},
   "outputs": [],
   "source": [
    "L4 = [100,'Python',10.45]"
   ]
  },
  {
   "cell_type": "code",
   "execution_count": 8,
   "id": "acdd6a89",
   "metadata": {},
   "outputs": [
    {
     "data": {
      "text/plain": [
       "list"
      ]
     },
     "execution_count": 8,
     "metadata": {},
     "output_type": "execute_result"
    }
   ],
   "source": [
    "type(L4)"
   ]
  },
  {
   "cell_type": "code",
   "execution_count": 9,
   "id": "2440aa0b",
   "metadata": {},
   "outputs": [],
   "source": [
    "L5 = [100,'hi',10.45,None,True,False]"
   ]
  },
  {
   "cell_type": "code",
   "execution_count": 10,
   "id": "ab2e28ac",
   "metadata": {},
   "outputs": [
    {
     "data": {
      "text/plain": [
       "list"
      ]
     },
     "execution_count": 10,
     "metadata": {},
     "output_type": "execute_result"
    }
   ],
   "source": [
    "type(L5)"
   ]
  },
  {
   "cell_type": "code",
   "execution_count": 11,
   "id": "7aa750fa",
   "metadata": {},
   "outputs": [
    {
     "name": "stdout",
     "output_type": "stream",
     "text": [
      "Pretty printing has been turned OFF\n"
     ]
    }
   ],
   "source": [
    "pprint"
   ]
  },
  {
   "cell_type": "code",
   "execution_count": 12,
   "id": "f5bc97f2",
   "metadata": {},
   "outputs": [
    {
     "data": {
      "text/plain": [
       "['__add__', '__class__', '__class_getitem__', '__contains__', '__delattr__', '__delitem__', '__dir__', '__doc__', '__eq__', '__format__', '__ge__', '__getattribute__', '__getitem__', '__gt__', '__hash__', '__iadd__', '__imul__', '__init__', '__init_subclass__', '__iter__', '__le__', '__len__', '__lt__', '__mul__', '__ne__', '__new__', '__reduce__', '__reduce_ex__', '__repr__', '__reversed__', '__rmul__', '__setattr__', '__setitem__', '__sizeof__', '__str__', '__subclasshook__', 'append', 'clear', 'copy', 'count', 'extend', 'index', 'insert', 'pop', 'remove', 'reverse', 'sort']"
      ]
     },
     "execution_count": 12,
     "metadata": {},
     "output_type": "execute_result"
    }
   ],
   "source": [
    "dir(L1)"
   ]
  },
  {
   "cell_type": "code",
   "execution_count": 13,
   "id": "4d6d6df4",
   "metadata": {},
   "outputs": [
    {
     "data": {
      "text/plain": [
       "[10, 20, 30, 40, 50]"
      ]
     },
     "execution_count": 13,
     "metadata": {},
     "output_type": "execute_result"
    }
   ],
   "source": [
    "L1"
   ]
  },
  {
   "cell_type": "code",
   "execution_count": null,
   "id": "e6d0293d",
   "metadata": {},
   "outputs": [],
   "source": [
    "#indexing on List"
   ]
  },
  {
   "cell_type": "code",
   "execution_count": 14,
   "id": "d52f77c0",
   "metadata": {},
   "outputs": [
    {
     "data": {
      "text/plain": [
       "20"
      ]
     },
     "execution_count": 14,
     "metadata": {},
     "output_type": "execute_result"
    }
   ],
   "source": [
    "L1[1]"
   ]
  },
  {
   "cell_type": "code",
   "execution_count": 15,
   "id": "1b17d759",
   "metadata": {},
   "outputs": [
    {
     "data": {
      "text/plain": [
       "2511528265472"
      ]
     },
     "execution_count": 15,
     "metadata": {},
     "output_type": "execute_result"
    }
   ],
   "source": [
    "id(L1)"
   ]
  },
  {
   "cell_type": "code",
   "execution_count": 16,
   "id": "4e266569",
   "metadata": {},
   "outputs": [
    {
     "data": {
      "text/plain": [
       "2511445912144"
      ]
     },
     "execution_count": 16,
     "metadata": {},
     "output_type": "execute_result"
    }
   ],
   "source": [
    "id(L1[0])"
   ]
  },
  {
   "cell_type": "raw",
   "id": "241173d9",
   "metadata": {},
   "source": [
    "#slicing on List\n",
    "object[start=0:stop:end:step:1]"
   ]
  },
  {
   "cell_type": "code",
   "execution_count": 17,
   "id": "fa3f67d3",
   "metadata": {},
   "outputs": [
    {
     "data": {
      "text/plain": [
       "[10, 20, 30, 40, 50]"
      ]
     },
     "execution_count": 17,
     "metadata": {},
     "output_type": "execute_result"
    }
   ],
   "source": [
    "L1"
   ]
  },
  {
   "cell_type": "code",
   "execution_count": 18,
   "id": "774d64b0",
   "metadata": {},
   "outputs": [
    {
     "data": {
      "text/plain": [
       "[10, 20, 30, 40, 50]"
      ]
     },
     "execution_count": 18,
     "metadata": {},
     "output_type": "execute_result"
    }
   ],
   "source": [
    "#object[start=0:stop=end:step=1]\n",
    "L1[:]"
   ]
  },
  {
   "cell_type": "code",
   "execution_count": 19,
   "id": "891a4eea",
   "metadata": {},
   "outputs": [
    {
     "data": {
      "text/plain": [
       "[10, 20, 30, 40, 50]"
      ]
     },
     "execution_count": 19,
     "metadata": {},
     "output_type": "execute_result"
    }
   ],
   "source": [
    "L1[::]"
   ]
  },
  {
   "cell_type": "code",
   "execution_count": 20,
   "id": "f8dab95e",
   "metadata": {},
   "outputs": [
    {
     "data": {
      "text/plain": [
       "[10, 20, 30, 40, 50]"
      ]
     },
     "execution_count": 20,
     "metadata": {},
     "output_type": "execute_result"
    }
   ],
   "source": [
    "L1[::1]"
   ]
  },
  {
   "cell_type": "code",
   "execution_count": 21,
   "id": "e25790e8",
   "metadata": {},
   "outputs": [
    {
     "data": {
      "text/plain": [
       "[10, 30, 50]"
      ]
     },
     "execution_count": 21,
     "metadata": {},
     "output_type": "execute_result"
    }
   ],
   "source": [
    "L1[::2]"
   ]
  },
  {
   "cell_type": "code",
   "execution_count": 22,
   "id": "bb73ffb2",
   "metadata": {},
   "outputs": [
    {
     "data": {
      "text/plain": [
       "[50, 40, 30, 20, 10]"
      ]
     },
     "execution_count": 22,
     "metadata": {},
     "output_type": "execute_result"
    }
   ],
   "source": [
    "L1[::-1]"
   ]
  },
  {
   "cell_type": "code",
   "execution_count": 23,
   "id": "02e28f4d",
   "metadata": {},
   "outputs": [
    {
     "data": {
      "text/plain": [
       "[50, 30, 10]"
      ]
     },
     "execution_count": 23,
     "metadata": {},
     "output_type": "execute_result"
    }
   ],
   "source": [
    "L1[::-2]"
   ]
  },
  {
   "cell_type": "code",
   "execution_count": 24,
   "id": "900a2ec4",
   "metadata": {},
   "outputs": [
    {
     "data": {
      "text/plain": [
       "[100, 'Python', 10.45]"
      ]
     },
     "execution_count": 24,
     "metadata": {},
     "output_type": "execute_result"
    }
   ],
   "source": [
    "L4"
   ]
  },
  {
   "cell_type": "code",
   "execution_count": 25,
   "id": "28b56fcd",
   "metadata": {},
   "outputs": [
    {
     "data": {
      "text/plain": [
       "<class 'list'>"
      ]
     },
     "execution_count": 25,
     "metadata": {},
     "output_type": "execute_result"
    }
   ],
   "source": [
    "type(L4)"
   ]
  },
  {
   "cell_type": "code",
   "execution_count": 26,
   "id": "9bd6e4c3",
   "metadata": {},
   "outputs": [
    {
     "data": {
      "text/plain": [
       "<class 'int'>"
      ]
     },
     "execution_count": 26,
     "metadata": {},
     "output_type": "execute_result"
    }
   ],
   "source": [
    "type(L4[0])"
   ]
  },
  {
   "cell_type": "code",
   "execution_count": 27,
   "id": "2df828a6",
   "metadata": {},
   "outputs": [
    {
     "data": {
      "text/plain": [
       "<class 'str'>"
      ]
     },
     "execution_count": 27,
     "metadata": {},
     "output_type": "execute_result"
    }
   ],
   "source": [
    "type(L4[1])"
   ]
  },
  {
   "cell_type": "code",
   "execution_count": 28,
   "id": "3139f716",
   "metadata": {},
   "outputs": [
    {
     "data": {
      "text/plain": [
       "<class 'float'>"
      ]
     },
     "execution_count": 28,
     "metadata": {},
     "output_type": "execute_result"
    }
   ],
   "source": [
    "type(L4[2])"
   ]
  },
  {
   "cell_type": "code",
   "execution_count": 29,
   "id": "b61e5e2f",
   "metadata": {},
   "outputs": [
    {
     "data": {
      "text/plain": [
       "[10, 20, 30, 40, 50]"
      ]
     },
     "execution_count": 29,
     "metadata": {},
     "output_type": "execute_result"
    }
   ],
   "source": [
    "L1"
   ]
  },
  {
   "cell_type": "code",
   "execution_count": 30,
   "id": "017b0170",
   "metadata": {},
   "outputs": [
    {
     "name": "stdout",
     "output_type": "stream",
     "text": [
      "10\n",
      "20\n",
      "30\n",
      "40\n",
      "50\n"
     ]
    }
   ],
   "source": [
    "for i in L1:\n",
    "    print(i)"
   ]
  },
  {
   "cell_type": "code",
   "execution_count": 31,
   "id": "49c82bcc",
   "metadata": {},
   "outputs": [
    {
     "data": {
      "text/plain": [
       "2511445912144"
      ]
     },
     "execution_count": 31,
     "metadata": {},
     "output_type": "execute_result"
    }
   ],
   "source": [
    "id(L1[0])"
   ]
  },
  {
   "cell_type": "code",
   "execution_count": 32,
   "id": "3eaa2bc0",
   "metadata": {},
   "outputs": [],
   "source": [
    "x=10"
   ]
  },
  {
   "cell_type": "code",
   "execution_count": 33,
   "id": "8e8078fd",
   "metadata": {},
   "outputs": [
    {
     "data": {
      "text/plain": [
       "2511445912144"
      ]
     },
     "execution_count": 33,
     "metadata": {},
     "output_type": "execute_result"
    }
   ],
   "source": [
    "id(x)"
   ]
  },
  {
   "cell_type": "code",
   "execution_count": null,
   "id": "bd584ad7",
   "metadata": {},
   "outputs": [],
   "source": [
    "#Creating empty list"
   ]
  },
  {
   "cell_type": "code",
   "execution_count": 34,
   "id": "73d663a2",
   "metadata": {},
   "outputs": [],
   "source": [
    "L5 = []"
   ]
  },
  {
   "cell_type": "code",
   "execution_count": 35,
   "id": "7fed3863",
   "metadata": {},
   "outputs": [
    {
     "data": {
      "text/plain": [
       "<class 'list'>"
      ]
     },
     "execution_count": 35,
     "metadata": {},
     "output_type": "execute_result"
    }
   ],
   "source": [
    "type(L5)"
   ]
  },
  {
   "cell_type": "code",
   "execution_count": 36,
   "id": "4f5833e2",
   "metadata": {},
   "outputs": [
    {
     "data": {
      "text/plain": [
       "[]"
      ]
     },
     "execution_count": 36,
     "metadata": {},
     "output_type": "execute_result"
    }
   ],
   "source": [
    "L5"
   ]
  },
  {
   "cell_type": "code",
   "execution_count": null,
   "id": "00109fea",
   "metadata": {},
   "outputs": [],
   "source": [
    "#second method"
   ]
  },
  {
   "cell_type": "code",
   "execution_count": 37,
   "id": "290a9949",
   "metadata": {},
   "outputs": [
    {
     "data": {
      "text/plain": [
       "<class 'type'>"
      ]
     },
     "execution_count": 37,
     "metadata": {},
     "output_type": "execute_result"
    }
   ],
   "source": [
    "#list is inbuilt class\n",
    "type(list)"
   ]
  },
  {
   "cell_type": "code",
   "execution_count": 38,
   "id": "f61d1b73",
   "metadata": {},
   "outputs": [],
   "source": [
    "L6 = list()"
   ]
  },
  {
   "cell_type": "code",
   "execution_count": 39,
   "id": "3033c73b",
   "metadata": {},
   "outputs": [
    {
     "data": {
      "text/plain": [
       "<class 'list'>"
      ]
     },
     "execution_count": 39,
     "metadata": {},
     "output_type": "execute_result"
    }
   ],
   "source": [
    "type(L6)"
   ]
  },
  {
   "cell_type": "code",
   "execution_count": 40,
   "id": "138a0b56",
   "metadata": {},
   "outputs": [
    {
     "data": {
      "text/plain": [
       "[]"
      ]
     },
     "execution_count": 40,
     "metadata": {},
     "output_type": "execute_result"
    }
   ],
   "source": [
    "L6"
   ]
  },
  {
   "cell_type": "code",
   "execution_count": 41,
   "id": "d6fd6d70",
   "metadata": {},
   "outputs": [
    {
     "ename": "TypeError",
     "evalue": "'int' object is not iterable",
     "output_type": "error",
     "traceback": [
      "\u001b[1;31m---------------------------------------------------------------------------\u001b[0m",
      "\u001b[1;31mTypeError\u001b[0m                                 Traceback (most recent call last)",
      "\u001b[1;32m~\\AppData\\Local\\Temp/ipykernel_16596/469234817.py\u001b[0m in \u001b[0;36m<module>\u001b[1;34m\u001b[0m\n\u001b[1;32m----> 1\u001b[1;33m \u001b[0mL7\u001b[0m \u001b[1;33m=\u001b[0m \u001b[0mlist\u001b[0m\u001b[1;33m(\u001b[0m\u001b[1;36m100\u001b[0m\u001b[1;33m)\u001b[0m\u001b[1;33m\u001b[0m\u001b[1;33m\u001b[0m\u001b[0m\n\u001b[0m",
      "\u001b[1;31mTypeError\u001b[0m: 'int' object is not iterable"
     ]
    }
   ],
   "source": [
    "L7 = list(100)"
   ]
  },
  {
   "cell_type": "code",
   "execution_count": 42,
   "id": "dc0b9be4",
   "metadata": {},
   "outputs": [
    {
     "name": "stderr",
     "output_type": "stream",
     "text": [
      "<>:1: SyntaxWarning: 'int' object is not subscriptable; perhaps you missed a comma?\n",
      "<>:1: SyntaxWarning: 'int' object is not subscriptable; perhaps you missed a comma?\n",
      "C:\\Users\\User\\AppData\\Local\\Temp/ipykernel_16596/2089819659.py:1: SyntaxWarning: 'int' object is not subscriptable; perhaps you missed a comma?\n",
      "  100[0]\n"
     ]
    },
    {
     "ename": "TypeError",
     "evalue": "'int' object is not subscriptable",
     "output_type": "error",
     "traceback": [
      "\u001b[1;31m---------------------------------------------------------------------------\u001b[0m",
      "\u001b[1;31mTypeError\u001b[0m                                 Traceback (most recent call last)",
      "\u001b[1;32m~\\AppData\\Local\\Temp/ipykernel_16596/2089819659.py\u001b[0m in \u001b[0;36m<module>\u001b[1;34m\u001b[0m\n\u001b[1;32m----> 1\u001b[1;33m \u001b[1;36m100\u001b[0m\u001b[1;33m[\u001b[0m\u001b[1;36m0\u001b[0m\u001b[1;33m]\u001b[0m\u001b[1;33m\u001b[0m\u001b[1;33m\u001b[0m\u001b[0m\n\u001b[0m",
      "\u001b[1;31mTypeError\u001b[0m: 'int' object is not subscriptable"
     ]
    }
   ],
   "source": [
    "100[0]"
   ]
  },
  {
   "cell_type": "code",
   "execution_count": 43,
   "id": "ae1c1e94",
   "metadata": {},
   "outputs": [
    {
     "ename": "TypeError",
     "evalue": "'float' object is not iterable",
     "output_type": "error",
     "traceback": [
      "\u001b[1;31m---------------------------------------------------------------------------\u001b[0m",
      "\u001b[1;31mTypeError\u001b[0m                                 Traceback (most recent call last)",
      "\u001b[1;32m~\\AppData\\Local\\Temp/ipykernel_16596/4161228306.py\u001b[0m in \u001b[0;36m<module>\u001b[1;34m\u001b[0m\n\u001b[1;32m----> 1\u001b[1;33m \u001b[0mL7\u001b[0m\u001b[1;33m=\u001b[0m\u001b[0mlist\u001b[0m\u001b[1;33m(\u001b[0m\u001b[1;36m10.45\u001b[0m\u001b[1;33m)\u001b[0m\u001b[1;33m\u001b[0m\u001b[1;33m\u001b[0m\u001b[0m\n\u001b[0m",
      "\u001b[1;31mTypeError\u001b[0m: 'float' object is not iterable"
     ]
    }
   ],
   "source": [
    "L7=list(10.45)"
   ]
  },
  {
   "cell_type": "code",
   "execution_count": 44,
   "id": "d40a3ff2",
   "metadata": {},
   "outputs": [],
   "source": [
    "L7 = list(\"welcome\")"
   ]
  },
  {
   "cell_type": "code",
   "execution_count": 45,
   "id": "b2c8beca",
   "metadata": {},
   "outputs": [
    {
     "data": {
      "text/plain": [
       "['w', 'e', 'l', 'c', 'o', 'm', 'e']"
      ]
     },
     "execution_count": 45,
     "metadata": {},
     "output_type": "execute_result"
    }
   ],
   "source": [
    "L7"
   ]
  },
  {
   "cell_type": "code",
   "execution_count": 46,
   "id": "d9b699b6",
   "metadata": {},
   "outputs": [
    {
     "data": {
      "text/plain": [
       "'w'"
      ]
     },
     "execution_count": 46,
     "metadata": {},
     "output_type": "execute_result"
    }
   ],
   "source": [
    "\"welcome\"[0]"
   ]
  },
  {
   "cell_type": "code",
   "execution_count": 47,
   "id": "09157b26",
   "metadata": {},
   "outputs": [
    {
     "name": "stdout",
     "output_type": "stream",
     "text": [
      "[100, 200, 300, 400, 500]\n"
     ]
    }
   ],
   "source": [
    "L8 = list([100,200,300,400,500])\n",
    "print(L8)"
   ]
  },
  {
   "cell_type": "code",
   "execution_count": 48,
   "id": "b2612c9d",
   "metadata": {},
   "outputs": [
    {
     "name": "stdout",
     "output_type": "stream",
     "text": [
      "['1', '0', '0']\n"
     ]
    }
   ],
   "source": [
    "L8 = list(\"100\")\n",
    "print(L8)"
   ]
  },
  {
   "cell_type": "code",
   "execution_count": null,
   "id": "38c0e4bd",
   "metadata": {},
   "outputs": [],
   "source": [
    "#in operator on list"
   ]
  },
  {
   "cell_type": "code",
   "execution_count": 49,
   "id": "f1933d72",
   "metadata": {},
   "outputs": [],
   "source": [
    "days = ['sun','mon','tue','wed','thu','fri','sat']"
   ]
  },
  {
   "cell_type": "code",
   "execution_count": 50,
   "id": "2eed9af2",
   "metadata": {},
   "outputs": [
    {
     "data": {
      "text/plain": [
       "True"
      ]
     },
     "execution_count": 50,
     "metadata": {},
     "output_type": "execute_result"
    }
   ],
   "source": [
    "'sun' in days"
   ]
  },
  {
   "cell_type": "code",
   "execution_count": 51,
   "id": "a7a67af0",
   "metadata": {},
   "outputs": [
    {
     "data": {
      "text/plain": [
       "False"
      ]
     },
     "execution_count": 51,
     "metadata": {},
     "output_type": "execute_result"
    }
   ],
   "source": [
    "'son' in days"
   ]
  },
  {
   "cell_type": "code",
   "execution_count": 53,
   "id": "d3f319c3",
   "metadata": {},
   "outputs": [
    {
     "name": "stdout",
     "output_type": "stream",
     "text": [
      "sun, mon, tue, wed, thu, fri, sat, "
     ]
    }
   ],
   "source": [
    "for i in days:\n",
    "    print(i,end=\", \")"
   ]
  },
  {
   "cell_type": "code",
   "execution_count": 54,
   "id": "06b3f9e4",
   "metadata": {},
   "outputs": [
    {
     "name": "stdout",
     "output_type": "stream",
     "text": [
      "Enter day name in a week = wed\n",
      "Existed\n"
     ]
    }
   ],
   "source": [
    "day = input(\"Enter day name in a week = \")\n",
    "if day in days:\n",
    "    print(\"Existed\")\n",
    "else:\n",
    "    print(\"Not Existed\")"
   ]
  },
  {
   "cell_type": "code",
   "execution_count": 55,
   "id": "5acee424",
   "metadata": {},
   "outputs": [
    {
     "name": "stdout",
     "output_type": "stream",
     "text": [
      "10,20,30,40,50,"
     ]
    }
   ],
   "source": [
    "for i in [10,20,30,40,50]:\n",
    "    print(i,end=\",\")"
   ]
  },
  {
   "cell_type": "code",
   "execution_count": null,
   "id": "15d8c8e7",
   "metadata": {},
   "outputs": [],
   "source": [
    "#List Methods"
   ]
  },
  {
   "cell_type": "code",
   "execution_count": 56,
   "id": "87494ee6",
   "metadata": {},
   "outputs": [],
   "source": [
    "#append\n",
    "#append can add only one new element at last\n",
    "#list will accept any number of duplicate elements\n",
    "L1 = [10,20,30,40,50]"
   ]
  },
  {
   "cell_type": "code",
   "execution_count": null,
   "id": "9093d893",
   "metadata": {},
   "outputs": [],
   "source": [
    "pprint"
   ]
  },
  {
   "cell_type": "code",
   "execution_count": 57,
   "id": "90c02b59",
   "metadata": {},
   "outputs": [
    {
     "data": {
      "text/plain": [
       "['__add__', '__class__', '__class_getitem__', '__contains__', '__delattr__', '__delitem__', '__dir__', '__doc__', '__eq__', '__format__', '__ge__', '__getattribute__', '__getitem__', '__gt__', '__hash__', '__iadd__', '__imul__', '__init__', '__init_subclass__', '__iter__', '__le__', '__len__', '__lt__', '__mul__', '__ne__', '__new__', '__reduce__', '__reduce_ex__', '__repr__', '__reversed__', '__rmul__', '__setattr__', '__setitem__', '__sizeof__', '__str__', '__subclasshook__', 'append', 'clear', 'copy', 'count', 'extend', 'index', 'insert', 'pop', 'remove', 'reverse', 'sort']"
      ]
     },
     "execution_count": 57,
     "metadata": {},
     "output_type": "execute_result"
    }
   ],
   "source": [
    "dir(L1)"
   ]
  },
  {
   "cell_type": "code",
   "execution_count": null,
   "id": "8543760c",
   "metadata": {},
   "outputs": [],
   "source": [
    "'append', 'clear', 'copy', 'count', 'extend', 'index', 'insert', 'pop', \n",
    "'remove', 'reverse', 'sort'"
   ]
  },
  {
   "cell_type": "code",
   "execution_count": 58,
   "id": "cb3dfbfa",
   "metadata": {},
   "outputs": [
    {
     "data": {
      "text/plain": [
       "[10, 20, 30, 40, 50]"
      ]
     },
     "execution_count": 58,
     "metadata": {},
     "output_type": "execute_result"
    }
   ],
   "source": [
    "L1"
   ]
  },
  {
   "cell_type": "code",
   "execution_count": 59,
   "id": "531df44f",
   "metadata": {},
   "outputs": [
    {
     "name": "stdout",
     "output_type": "stream",
     "text": [
      "[10, 20, 30, 40, 50, 60]\n"
     ]
    }
   ],
   "source": [
    "L1.append(60)\n",
    "print(L1)"
   ]
  },
  {
   "cell_type": "code",
   "execution_count": 60,
   "id": "f705e6f4",
   "metadata": {},
   "outputs": [
    {
     "name": "stdout",
     "output_type": "stream",
     "text": [
      "[10, 20, 30, 40, 50, 60, 10]\n"
     ]
    }
   ],
   "source": [
    "L1.append(10)\n",
    "print(L1)"
   ]
  },
  {
   "cell_type": "code",
   "execution_count": 61,
   "id": "8ae70e1c",
   "metadata": {},
   "outputs": [
    {
     "name": "stdout",
     "output_type": "stream",
     "text": [
      "2511445912144\n",
      "2511445912144\n"
     ]
    }
   ],
   "source": [
    "print(id(L1[0]))\n",
    "print(id(L1[6]))"
   ]
  },
  {
   "cell_type": "code",
   "execution_count": 62,
   "id": "7e831e56",
   "metadata": {},
   "outputs": [
    {
     "name": "stdout",
     "output_type": "stream",
     "text": [
      "[10, 20, 30]\n"
     ]
    }
   ],
   "source": [
    "L1 = [10,20,30]\n",
    "print(L1)"
   ]
  },
  {
   "cell_type": "code",
   "execution_count": 63,
   "id": "05de6276",
   "metadata": {},
   "outputs": [
    {
     "name": "stdout",
     "output_type": "stream",
     "text": [
      "[10, 20, 30, 40]\n"
     ]
    }
   ],
   "source": [
    "list.append(L1,40)\n",
    "print(L1)"
   ]
  },
  {
   "cell_type": "code",
   "execution_count": 64,
   "id": "2faa3e20",
   "metadata": {},
   "outputs": [],
   "source": [
    "L1 = [10,20]\n",
    "L2 = [100,200]\n",
    "L3 = ['python','django']"
   ]
  },
  {
   "cell_type": "code",
   "execution_count": 65,
   "id": "e13c6090",
   "metadata": {},
   "outputs": [
    {
     "name": "stdout",
     "output_type": "stream",
     "text": [
      "[10, 20]\n",
      "[100, 200]\n",
      "['python', 'django']\n"
     ]
    }
   ],
   "source": [
    "print(L1)\n",
    "print(L2)\n",
    "print(L3)"
   ]
  },
  {
   "cell_type": "code",
   "execution_count": 66,
   "id": "40eb869d",
   "metadata": {},
   "outputs": [
    {
     "name": "stdout",
     "output_type": "stream",
     "text": [
      "Enter a value  = reactjs\n"
     ]
    }
   ],
   "source": [
    "v1 = input(\"Enter a value  = \")\n",
    "list.append(L3,v1)"
   ]
  },
  {
   "cell_type": "code",
   "execution_count": 67,
   "id": "dd63fcd8",
   "metadata": {},
   "outputs": [
    {
     "data": {
      "text/plain": [
       "['python', 'django', 'reactjs']"
      ]
     },
     "execution_count": 67,
     "metadata": {},
     "output_type": "execute_result"
    }
   ],
   "source": [
    "L3"
   ]
  },
  {
   "cell_type": "code",
   "execution_count": 68,
   "id": "e6f7e03e",
   "metadata": {},
   "outputs": [
    {
     "data": {
      "text/plain": [
       "[10, 20]"
      ]
     },
     "execution_count": 68,
     "metadata": {},
     "output_type": "execute_result"
    }
   ],
   "source": [
    "L1"
   ]
  },
  {
   "cell_type": "code",
   "execution_count": 69,
   "id": "eab2c78b",
   "metadata": {},
   "outputs": [],
   "source": [
    "L1[0]=100"
   ]
  },
  {
   "cell_type": "code",
   "execution_count": 70,
   "id": "b8be4de0",
   "metadata": {},
   "outputs": [
    {
     "data": {
      "text/plain": [
       "[100, 20]"
      ]
     },
     "execution_count": 70,
     "metadata": {},
     "output_type": "execute_result"
    }
   ],
   "source": [
    "L1"
   ]
  },
  {
   "cell_type": "code",
   "execution_count": 71,
   "id": "d9bcccf1",
   "metadata": {},
   "outputs": [],
   "source": [
    "L1 =[1,2,3]"
   ]
  },
  {
   "cell_type": "code",
   "execution_count": 72,
   "id": "1059332c",
   "metadata": {},
   "outputs": [
    {
     "data": {
      "text/plain": [
       "2511560955264"
      ]
     },
     "execution_count": 72,
     "metadata": {},
     "output_type": "execute_result"
    }
   ],
   "source": [
    "id(L1)"
   ]
  },
  {
   "cell_type": "code",
   "execution_count": 73,
   "id": "953fb1f0",
   "metadata": {},
   "outputs": [
    {
     "data": {
      "text/plain": [
       "2511445911856"
      ]
     },
     "execution_count": 73,
     "metadata": {},
     "output_type": "execute_result"
    }
   ],
   "source": [
    "id(L1[0])"
   ]
  },
  {
   "cell_type": "code",
   "execution_count": 74,
   "id": "e38473bd",
   "metadata": {},
   "outputs": [],
   "source": [
    "L1[0]=111"
   ]
  },
  {
   "cell_type": "code",
   "execution_count": 75,
   "id": "f6d05469",
   "metadata": {},
   "outputs": [
    {
     "data": {
      "text/plain": [
       "[111, 2, 3]"
      ]
     },
     "execution_count": 75,
     "metadata": {},
     "output_type": "execute_result"
    }
   ],
   "source": [
    "L1"
   ]
  },
  {
   "cell_type": "code",
   "execution_count": 78,
   "id": "fd23756a",
   "metadata": {},
   "outputs": [
    {
     "data": {
      "text/plain": [
       "111"
      ]
     },
     "execution_count": 78,
     "metadata": {},
     "output_type": "execute_result"
    }
   ],
   "source": [
    "L1[-3]"
   ]
  },
  {
   "cell_type": "code",
   "execution_count": 76,
   "id": "dabef336",
   "metadata": {},
   "outputs": [
    {
     "data": {
      "text/plain": [
       "2511560955264"
      ]
     },
     "execution_count": 76,
     "metadata": {},
     "output_type": "execute_result"
    }
   ],
   "source": [
    "id(L1)"
   ]
  },
  {
   "cell_type": "code",
   "execution_count": 77,
   "id": "88eedd62",
   "metadata": {},
   "outputs": [
    {
     "data": {
      "text/plain": [
       "2511446103856"
      ]
     },
     "execution_count": 77,
     "metadata": {},
     "output_type": "execute_result"
    }
   ],
   "source": [
    "id(L1[0])"
   ]
  },
  {
   "cell_type": "code",
   "execution_count": 79,
   "id": "eb882bd9",
   "metadata": {},
   "outputs": [],
   "source": [
    "L1=[1,2,3]"
   ]
  },
  {
   "cell_type": "code",
   "execution_count": 80,
   "id": "89f9290d",
   "metadata": {},
   "outputs": [
    {
     "ename": "IndexError",
     "evalue": "list assignment index out of range",
     "output_type": "error",
     "traceback": [
      "\u001b[1;31m---------------------------------------------------------------------------\u001b[0m",
      "\u001b[1;31mIndexError\u001b[0m                                Traceback (most recent call last)",
      "\u001b[1;32m~\\AppData\\Local\\Temp/ipykernel_16596/3839768387.py\u001b[0m in \u001b[0;36m<module>\u001b[1;34m\u001b[0m\n\u001b[1;32m----> 1\u001b[1;33m \u001b[0mL1\u001b[0m\u001b[1;33m[\u001b[0m\u001b[1;36m3\u001b[0m\u001b[1;33m]\u001b[0m\u001b[1;33m=\u001b[0m\u001b[1;36m4\u001b[0m\u001b[1;33m\u001b[0m\u001b[1;33m\u001b[0m\u001b[0m\n\u001b[0m",
      "\u001b[1;31mIndexError\u001b[0m: list assignment index out of range"
     ]
    }
   ],
   "source": [
    "L1[3]=4"
   ]
  },
  {
   "cell_type": "code",
   "execution_count": null,
   "id": "bc5dc28f",
   "metadata": {},
   "outputs": [],
   "source": [
    "#clear : it removes all elements from list"
   ]
  },
  {
   "cell_type": "code",
   "execution_count": 81,
   "id": "90f2827f",
   "metadata": {},
   "outputs": [],
   "source": [
    "L1 = [10,20,30]"
   ]
  },
  {
   "cell_type": "code",
   "execution_count": 82,
   "id": "fc5afae1",
   "metadata": {},
   "outputs": [
    {
     "data": {
      "text/plain": [
       "[10, 20, 30]"
      ]
     },
     "execution_count": 82,
     "metadata": {},
     "output_type": "execute_result"
    }
   ],
   "source": [
    "L1"
   ]
  },
  {
   "cell_type": "code",
   "execution_count": 83,
   "id": "db9307f2",
   "metadata": {},
   "outputs": [],
   "source": [
    "L1.clear()"
   ]
  },
  {
   "cell_type": "code",
   "execution_count": 84,
   "id": "bd2c00b4",
   "metadata": {},
   "outputs": [
    {
     "data": {
      "text/plain": [
       "[]"
      ]
     },
     "execution_count": 84,
     "metadata": {},
     "output_type": "execute_result"
    }
   ],
   "source": [
    "L1"
   ]
  },
  {
   "cell_type": "code",
   "execution_count": null,
   "id": "5edb8a39",
   "metadata": {},
   "outputs": [],
   "source": [
    "#Copy"
   ]
  },
  {
   "cell_type": "code",
   "execution_count": 85,
   "id": "3159d41e",
   "metadata": {},
   "outputs": [],
   "source": [
    "L1 = [10,20,30,40,50]"
   ]
  },
  {
   "cell_type": "code",
   "execution_count": 86,
   "id": "59a678b7",
   "metadata": {},
   "outputs": [
    {
     "name": "stdout",
     "output_type": "stream",
     "text": [
      "[10, 20, 30, 40, 50]\n",
      "[10, 20, 30, 40, 50]\n"
     ]
    }
   ],
   "source": [
    "print(L1)\n",
    "L2 = L1.copy()\n",
    "print(L2)"
   ]
  },
  {
   "cell_type": "code",
   "execution_count": 87,
   "id": "6dcfce07",
   "metadata": {},
   "outputs": [
    {
     "name": "stdout",
     "output_type": "stream",
     "text": [
      "Help on method_descriptor:\n",
      "\n",
      "count(self, value, /)\n",
      "    Return number of occurrences of value.\n",
      "\n"
     ]
    }
   ],
   "source": [
    "#Count\n",
    "help(list.count)"
   ]
  },
  {
   "cell_type": "code",
   "execution_count": 88,
   "id": "842035d4",
   "metadata": {},
   "outputs": [],
   "source": [
    "L1 = [10,20,30,10,40,10,20,50]"
   ]
  },
  {
   "cell_type": "code",
   "execution_count": 89,
   "id": "4be9f541",
   "metadata": {},
   "outputs": [
    {
     "data": {
      "text/plain": [
       "3"
      ]
     },
     "execution_count": 89,
     "metadata": {},
     "output_type": "execute_result"
    }
   ],
   "source": [
    "L1.count(10)"
   ]
  },
  {
   "cell_type": "code",
   "execution_count": 90,
   "id": "1413e12f",
   "metadata": {},
   "outputs": [
    {
     "data": {
      "text/plain": [
       "8"
      ]
     },
     "execution_count": 90,
     "metadata": {},
     "output_type": "execute_result"
    }
   ],
   "source": [
    "len(L1)"
   ]
  },
  {
   "cell_type": "code",
   "execution_count": null,
   "id": "d0baf176",
   "metadata": {},
   "outputs": [],
   "source": [
    "#Extend"
   ]
  },
  {
   "cell_type": "code",
   "execution_count": 91,
   "id": "e8fadd9a",
   "metadata": {},
   "outputs": [],
   "source": [
    "L1 = [10,20,30]"
   ]
  },
  {
   "cell_type": "code",
   "execution_count": 92,
   "id": "06545437",
   "metadata": {},
   "outputs": [],
   "source": [
    "L1.extend([40,50,60])"
   ]
  },
  {
   "cell_type": "code",
   "execution_count": 93,
   "id": "191c3181",
   "metadata": {},
   "outputs": [
    {
     "data": {
      "text/plain": [
       "[10, 20, 30, 40, 50, 60]"
      ]
     },
     "execution_count": 93,
     "metadata": {},
     "output_type": "execute_result"
    }
   ],
   "source": [
    "L1"
   ]
  },
  {
   "cell_type": "code",
   "execution_count": 94,
   "id": "59949220",
   "metadata": {},
   "outputs": [],
   "source": [
    "L1.extend(\"welcome\")"
   ]
  },
  {
   "cell_type": "code",
   "execution_count": 95,
   "id": "bf67b6d9",
   "metadata": {},
   "outputs": [
    {
     "data": {
      "text/plain": [
       "[10, 20, 30, 40, 50, 60, 'w', 'e', 'l', 'c', 'o', 'm', 'e']"
      ]
     },
     "execution_count": 95,
     "metadata": {},
     "output_type": "execute_result"
    }
   ],
   "source": [
    "L1"
   ]
  },
  {
   "cell_type": "code",
   "execution_count": 96,
   "id": "96814c42",
   "metadata": {},
   "outputs": [],
   "source": [
    "L1.extend(\"python\",)"
   ]
  },
  {
   "cell_type": "code",
   "execution_count": 97,
   "id": "699ddcb3",
   "metadata": {},
   "outputs": [
    {
     "data": {
      "text/plain": [
       "[10, 20, 30, 40, 50, 60, 'w', 'e', 'l', 'c', 'o', 'm', 'e', 'p', 'y', 't', 'h', 'o', 'n']"
      ]
     },
     "execution_count": 97,
     "metadata": {},
     "output_type": "execute_result"
    }
   ],
   "source": [
    "L1"
   ]
  },
  {
   "cell_type": "code",
   "execution_count": 98,
   "id": "4b07de99",
   "metadata": {},
   "outputs": [],
   "source": [
    "L1.extend([\"javascript\"])"
   ]
  },
  {
   "cell_type": "code",
   "execution_count": 99,
   "id": "2d1b1c43",
   "metadata": {},
   "outputs": [
    {
     "data": {
      "text/plain": [
       "[10, 20, 30, 40, 50, 60, 'w', 'e', 'l', 'c', 'o', 'm', 'e', 'p', 'y', 't', 'h', 'o', 'n', 'javascript']"
      ]
     },
     "execution_count": 99,
     "metadata": {},
     "output_type": "execute_result"
    }
   ],
   "source": [
    "L1"
   ]
  },
  {
   "cell_type": "code",
   "execution_count": 100,
   "id": "d8e3adca",
   "metadata": {},
   "outputs": [],
   "source": [
    "L1 = [10,20,30]\n",
    "L2 = [40,50,60]"
   ]
  },
  {
   "cell_type": "code",
   "execution_count": 101,
   "id": "4cdbf6ca",
   "metadata": {},
   "outputs": [],
   "source": [
    "L1.extend(L2)"
   ]
  },
  {
   "cell_type": "code",
   "execution_count": 102,
   "id": "473cb9df",
   "metadata": {},
   "outputs": [
    {
     "data": {
      "text/plain": [
       "[10, 20, 30, 40, 50, 60]"
      ]
     },
     "execution_count": 102,
     "metadata": {},
     "output_type": "execute_result"
    }
   ],
   "source": [
    "L1"
   ]
  },
  {
   "cell_type": "code",
   "execution_count": 103,
   "id": "effa1ec2",
   "metadata": {},
   "outputs": [
    {
     "data": {
      "text/plain": [
       "[40, 50, 60]"
      ]
     },
     "execution_count": 103,
     "metadata": {},
     "output_type": "execute_result"
    }
   ],
   "source": [
    "L2"
   ]
  },
  {
   "cell_type": "code",
   "execution_count": 104,
   "id": "535b57ba",
   "metadata": {},
   "outputs": [
    {
     "name": "stdout",
     "output_type": "stream",
     "text": [
      "Help on method_descriptor:\n",
      "\n",
      "index(self, value, start=0, stop=9223372036854775807, /)\n",
      "    Return first index of value.\n",
      "    \n",
      "    Raises ValueError if the value is not present.\n",
      "\n"
     ]
    }
   ],
   "source": [
    "#index\n",
    "help(list.index)"
   ]
  },
  {
   "cell_type": "code",
   "execution_count": 105,
   "id": "6a3bd30d",
   "metadata": {},
   "outputs": [],
   "source": [
    "L1=[10,20,30,40,50,10,60,70,80,10,90]"
   ]
  },
  {
   "cell_type": "code",
   "execution_count": 106,
   "id": "7fd8114e",
   "metadata": {},
   "outputs": [
    {
     "data": {
      "text/plain": [
       "2"
      ]
     },
     "execution_count": 106,
     "metadata": {},
     "output_type": "execute_result"
    }
   ],
   "source": [
    "L1.index(30)"
   ]
  },
  {
   "cell_type": "code",
   "execution_count": 107,
   "id": "551a3c0f",
   "metadata": {},
   "outputs": [
    {
     "data": {
      "text/plain": [
       "5"
      ]
     },
     "execution_count": 107,
     "metadata": {},
     "output_type": "execute_result"
    }
   ],
   "source": [
    "L1.index(10,2)"
   ]
  },
  {
   "cell_type": "code",
   "execution_count": 108,
   "id": "8531e6c0",
   "metadata": {},
   "outputs": [
    {
     "data": {
      "text/plain": [
       "5"
      ]
     },
     "execution_count": 108,
     "metadata": {},
     "output_type": "execute_result"
    }
   ],
   "source": [
    "L1.index(10,4,8)"
   ]
  },
  {
   "cell_type": "code",
   "execution_count": 111,
   "id": "0a7f6950",
   "metadata": {},
   "outputs": [
    {
     "data": {
      "text/plain": [
       "9"
      ]
     },
     "execution_count": 111,
     "metadata": {},
     "output_type": "execute_result"
    }
   ],
   "source": [
    "L1.index(10,6,10)"
   ]
  },
  {
   "cell_type": "code",
   "execution_count": 112,
   "id": "ba0cdf47",
   "metadata": {},
   "outputs": [
    {
     "data": {
      "text/plain": [
       "0"
      ]
     },
     "execution_count": 112,
     "metadata": {},
     "output_type": "execute_result"
    }
   ],
   "source": [
    "#first index\n",
    "L1.index(10)"
   ]
  },
  {
   "cell_type": "code",
   "execution_count": 113,
   "id": "c5f28118",
   "metadata": {},
   "outputs": [],
   "source": [
    "#second index of given value\n",
    "L1 = [20,30,10,40,60,50,10,50,60,10,34,56,76]"
   ]
  },
  {
   "cell_type": "code",
   "execution_count": 114,
   "id": "71abe9aa",
   "metadata": {},
   "outputs": [
    {
     "data": {
      "text/plain": [
       "2"
      ]
     },
     "execution_count": 114,
     "metadata": {},
     "output_type": "execute_result"
    }
   ],
   "source": [
    "L1.index(10)"
   ]
  },
  {
   "cell_type": "code",
   "execution_count": 115,
   "id": "929b5aad",
   "metadata": {},
   "outputs": [
    {
     "data": {
      "text/plain": [
       "3"
      ]
     },
     "execution_count": 115,
     "metadata": {},
     "output_type": "execute_result"
    }
   ],
   "source": [
    "L1.index(10)+1"
   ]
  },
  {
   "cell_type": "code",
   "execution_count": 116,
   "id": "ef2eb0f8",
   "metadata": {},
   "outputs": [
    {
     "data": {
      "text/plain": [
       "6"
      ]
     },
     "execution_count": 116,
     "metadata": {},
     "output_type": "execute_result"
    }
   ],
   "source": [
    "L1.index(10,L1.index(10)+1)"
   ]
  },
  {
   "cell_type": "code",
   "execution_count": 117,
   "id": "5eaacbac",
   "metadata": {},
   "outputs": [
    {
     "data": {
      "text/plain": [
       "7"
      ]
     },
     "execution_count": 117,
     "metadata": {},
     "output_type": "execute_result"
    }
   ],
   "source": [
    "L1.index(10,L1.index(10)+1)+1"
   ]
  },
  {
   "cell_type": "code",
   "execution_count": 118,
   "id": "a1b47f70",
   "metadata": {},
   "outputs": [
    {
     "data": {
      "text/plain": [
       "9"
      ]
     },
     "execution_count": 118,
     "metadata": {},
     "output_type": "execute_result"
    }
   ],
   "source": [
    "L1.index(10,L1.index(10,L1.index(10)+1)+1)"
   ]
  },
  {
   "cell_type": "code",
   "execution_count": null,
   "id": "2812fe7e",
   "metadata": {},
   "outputs": [],
   "source": [
    "#insert"
   ]
  },
  {
   "cell_type": "code",
   "execution_count": 1,
   "id": "aa495263",
   "metadata": {},
   "outputs": [],
   "source": [
    "L1 = ['python','javascript','nodejs','html']"
   ]
  },
  {
   "cell_type": "code",
   "execution_count": 2,
   "id": "c38dea1b",
   "metadata": {},
   "outputs": [],
   "source": [
    "L1.insert(2,'css')"
   ]
  },
  {
   "cell_type": "code",
   "execution_count": 3,
   "id": "cf343336",
   "metadata": {},
   "outputs": [
    {
     "data": {
      "text/plain": [
       "['python', 'javascript', 'css', 'nodejs', 'html']"
      ]
     },
     "execution_count": 3,
     "metadata": {},
     "output_type": "execute_result"
    }
   ],
   "source": [
    "L1"
   ]
  },
  {
   "cell_type": "code",
   "execution_count": null,
   "id": "fc629987",
   "metadata": {},
   "outputs": [],
   "source": [
    "#pop"
   ]
  },
  {
   "cell_type": "code",
   "execution_count": 4,
   "id": "b9b05098",
   "metadata": {},
   "outputs": [
    {
     "name": "stdout",
     "output_type": "stream",
     "text": [
      "Help on method_descriptor:\n",
      "\n",
      "pop(self, index=-1, /)\n",
      "    Remove and return item at index (default last).\n",
      "    \n",
      "    Raises IndexError if list is empty or index is out of range.\n",
      "\n"
     ]
    }
   ],
   "source": [
    "help(list.pop)"
   ]
  },
  {
   "cell_type": "code",
   "execution_count": 5,
   "id": "c962e263",
   "metadata": {},
   "outputs": [
    {
     "data": {
      "text/plain": [
       "[100, 200, 300, 400, 500]"
      ]
     },
     "execution_count": 5,
     "metadata": {},
     "output_type": "execute_result"
    }
   ],
   "source": [
    "L1 = [100,200,300,400,500]\n",
    "L1"
   ]
  },
  {
   "cell_type": "code",
   "execution_count": 6,
   "id": "91aae605",
   "metadata": {},
   "outputs": [
    {
     "data": {
      "text/plain": [
       "[100, 200, 300, 400]"
      ]
     },
     "execution_count": 6,
     "metadata": {},
     "output_type": "execute_result"
    }
   ],
   "source": [
    "L1.pop()\n",
    "L1"
   ]
  },
  {
   "cell_type": "code",
   "execution_count": 8,
   "id": "95abc222",
   "metadata": {},
   "outputs": [
    {
     "data": {
      "text/plain": [
       "[100, 200, 300, 500]"
      ]
     },
     "execution_count": 8,
     "metadata": {},
     "output_type": "execute_result"
    }
   ],
   "source": [
    "L1 = [100,200,300,400,500]\n",
    "L1.pop(3)\n",
    "L1"
   ]
  },
  {
   "cell_type": "code",
   "execution_count": 10,
   "id": "29454ab2",
   "metadata": {},
   "outputs": [
    {
     "ename": "IndexError",
     "evalue": "pop index out of range",
     "output_type": "error",
     "traceback": [
      "\u001b[1;31m---------------------------------------------------------------------------\u001b[0m",
      "\u001b[1;31mIndexError\u001b[0m                                Traceback (most recent call last)",
      "\u001b[1;32m~\\AppData\\Local\\Temp/ipykernel_17356/1760899165.py\u001b[0m in \u001b[0;36m<module>\u001b[1;34m\u001b[0m\n\u001b[0;32m      1\u001b[0m \u001b[0mL1\u001b[0m \u001b[1;33m=\u001b[0m \u001b[1;33m[\u001b[0m\u001b[1;36m10\u001b[0m\u001b[1;33m,\u001b[0m\u001b[1;36m20\u001b[0m\u001b[1;33m,\u001b[0m\u001b[1;36m30\u001b[0m\u001b[1;33m,\u001b[0m\u001b[1;36m40\u001b[0m\u001b[1;33m,\u001b[0m\u001b[1;36m50\u001b[0m\u001b[1;33m]\u001b[0m\u001b[1;33m\u001b[0m\u001b[1;33m\u001b[0m\u001b[0m\n\u001b[1;32m----> 2\u001b[1;33m \u001b[0mL1\u001b[0m\u001b[1;33m.\u001b[0m\u001b[0mpop\u001b[0m\u001b[1;33m(\u001b[0m\u001b[1;36m6\u001b[0m\u001b[1;33m)\u001b[0m\u001b[1;33m\u001b[0m\u001b[1;33m\u001b[0m\u001b[0m\n\u001b[0m",
      "\u001b[1;31mIndexError\u001b[0m: pop index out of range"
     ]
    }
   ],
   "source": [
    "L1 = [10,20,30,40,50]\n",
    "L1.pop(6)"
   ]
  },
  {
   "cell_type": "code",
   "execution_count": 11,
   "id": "b6594a09",
   "metadata": {},
   "outputs": [
    {
     "ename": "IndexError",
     "evalue": "pop from empty list",
     "output_type": "error",
     "traceback": [
      "\u001b[1;31m---------------------------------------------------------------------------\u001b[0m",
      "\u001b[1;31mIndexError\u001b[0m                                Traceback (most recent call last)",
      "\u001b[1;32m~\\AppData\\Local\\Temp/ipykernel_17356/2072431999.py\u001b[0m in \u001b[0;36m<module>\u001b[1;34m\u001b[0m\n\u001b[0;32m      1\u001b[0m \u001b[0mL1\u001b[0m \u001b[1;33m=\u001b[0m \u001b[1;33m[\u001b[0m\u001b[1;33m]\u001b[0m\u001b[1;33m\u001b[0m\u001b[1;33m\u001b[0m\u001b[0m\n\u001b[1;32m----> 2\u001b[1;33m \u001b[0mL1\u001b[0m\u001b[1;33m.\u001b[0m\u001b[0mpop\u001b[0m\u001b[1;33m(\u001b[0m\u001b[1;33m)\u001b[0m\u001b[1;33m\u001b[0m\u001b[1;33m\u001b[0m\u001b[0m\n\u001b[0m",
      "\u001b[1;31mIndexError\u001b[0m: pop from empty list"
     ]
    }
   ],
   "source": [
    "L1 = []\n",
    "L1.pop()"
   ]
  },
  {
   "cell_type": "code",
   "execution_count": null,
   "id": "f17f4790",
   "metadata": {},
   "outputs": [],
   "source": [
    "#remove"
   ]
  },
  {
   "cell_type": "code",
   "execution_count": 9,
   "id": "02d1e4d3",
   "metadata": {},
   "outputs": [
    {
     "name": "stdout",
     "output_type": "stream",
     "text": [
      "Help on method_descriptor:\n",
      "\n",
      "remove(self, value, /)\n",
      "    Remove first occurrence of value.\n",
      "    \n",
      "    Raises ValueError if the value is not present.\n",
      "\n"
     ]
    }
   ],
   "source": [
    "help(list.remove)"
   ]
  },
  {
   "cell_type": "code",
   "execution_count": 12,
   "id": "c85b15e5",
   "metadata": {},
   "outputs": [],
   "source": [
    "L1 = [10,20,30,40,50]"
   ]
  },
  {
   "cell_type": "code",
   "execution_count": 13,
   "id": "1f0b4ab5",
   "metadata": {},
   "outputs": [
    {
     "data": {
      "text/plain": [
       "[10, 20, 40, 50]"
      ]
     },
     "execution_count": 13,
     "metadata": {},
     "output_type": "execute_result"
    }
   ],
   "source": [
    "L1.remove(30)\n",
    "L1"
   ]
  },
  {
   "cell_type": "code",
   "execution_count": null,
   "id": "e71cbb40",
   "metadata": {},
   "outputs": [],
   "source": [
    "#reverse"
   ]
  },
  {
   "cell_type": "code",
   "execution_count": 14,
   "id": "a280440d",
   "metadata": {},
   "outputs": [
    {
     "data": {
      "text/plain": [
       "'emoclew'"
      ]
     },
     "execution_count": 14,
     "metadata": {},
     "output_type": "execute_result"
    }
   ],
   "source": [
    "\"welcome\"[::-1]"
   ]
  },
  {
   "cell_type": "code",
   "execution_count": 15,
   "id": "496e273f",
   "metadata": {},
   "outputs": [],
   "source": [
    "L1 = [30,20,10,40,50]"
   ]
  },
  {
   "cell_type": "code",
   "execution_count": 16,
   "id": "785092e0",
   "metadata": {},
   "outputs": [
    {
     "data": {
      "text/plain": [
       "[50, 40, 10, 20, 30]"
      ]
     },
     "execution_count": 16,
     "metadata": {},
     "output_type": "execute_result"
    }
   ],
   "source": [
    "L1[::-1]"
   ]
  },
  {
   "cell_type": "code",
   "execution_count": 17,
   "id": "06b1acd0",
   "metadata": {},
   "outputs": [],
   "source": [
    "L1 = [30,20,10,40,50]"
   ]
  },
  {
   "cell_type": "code",
   "execution_count": 18,
   "id": "b3322c36",
   "metadata": {},
   "outputs": [
    {
     "data": {
      "text/plain": [
       "[50, 40, 10, 20, 30]"
      ]
     },
     "execution_count": 18,
     "metadata": {},
     "output_type": "execute_result"
    }
   ],
   "source": [
    "L1.reverse()\n",
    "L1"
   ]
  },
  {
   "cell_type": "code",
   "execution_count": 19,
   "id": "d4b883ca",
   "metadata": {},
   "outputs": [
    {
     "name": "stdout",
     "output_type": "stream",
     "text": [
      "Help on method_descriptor:\n",
      "\n",
      "sort(self, /, *, key=None, reverse=False)\n",
      "    Sort the list in ascending order and return None.\n",
      "    \n",
      "    The sort is in-place (i.e. the list itself is modified) and stable (i.e. the\n",
      "    order of two equal elements is maintained).\n",
      "    \n",
      "    If a key function is given, apply it once to each list item and sort them,\n",
      "    ascending or descending, according to their function values.\n",
      "    \n",
      "    The reverse flag can be set to sort in descending order.\n",
      "\n"
     ]
    }
   ],
   "source": [
    "#sort\n",
    "help(list.sort)"
   ]
  },
  {
   "cell_type": "code",
   "execution_count": 20,
   "id": "c638a8a0",
   "metadata": {},
   "outputs": [],
   "source": [
    "L1 = [3,1,5,6,2,8,22,15]"
   ]
  },
  {
   "cell_type": "code",
   "execution_count": 21,
   "id": "e1d0f960",
   "metadata": {},
   "outputs": [
    {
     "data": {
      "text/plain": [
       "[1, 2, 3, 5, 6, 8, 15, 22]"
      ]
     },
     "execution_count": 21,
     "metadata": {},
     "output_type": "execute_result"
    }
   ],
   "source": [
    "L1.sort()\n",
    "L1"
   ]
  },
  {
   "cell_type": "code",
   "execution_count": 22,
   "id": "836658eb",
   "metadata": {},
   "outputs": [
    {
     "data": {
      "text/plain": [
       "[22, 15, 8, 6, 5, 3, 2, 1]"
      ]
     },
     "execution_count": 22,
     "metadata": {},
     "output_type": "execute_result"
    }
   ],
   "source": [
    "L1.sort(reverse=True)\n",
    "L1"
   ]
  },
  {
   "cell_type": "code",
   "execution_count": 23,
   "id": "55a7d648",
   "metadata": {},
   "outputs": [],
   "source": [
    "courses = ['python','javascript','nodejs','react','html']"
   ]
  },
  {
   "cell_type": "code",
   "execution_count": 24,
   "id": "b663905a",
   "metadata": {},
   "outputs": [
    {
     "name": "stdout",
     "output_type": "stream",
     "text": [
      "python\n",
      "javascript\n",
      "nodejs\n",
      "react\n",
      "html\n"
     ]
    }
   ],
   "source": [
    "for i in courses:\n",
    "    print(i)"
   ]
  },
  {
   "cell_type": "code",
   "execution_count": 25,
   "id": "e3d4c444",
   "metadata": {},
   "outputs": [
    {
     "data": {
      "text/plain": [
       "2"
      ]
     },
     "execution_count": 25,
     "metadata": {},
     "output_type": "execute_result"
    }
   ],
   "source": [
    "courses.index('nodejs')"
   ]
  },
  {
   "cell_type": "code",
   "execution_count": 26,
   "id": "dc4081b5",
   "metadata": {},
   "outputs": [
    {
     "name": "stdout",
     "output_type": "stream",
     "text": [
      "0 python\n",
      "1 javascript\n",
      "2 nodejs\n",
      "3 react\n",
      "4 html\n"
     ]
    }
   ],
   "source": [
    "for course in courses:\n",
    "    print(courses.index(course),course)"
   ]
  },
  {
   "cell_type": "raw",
   "id": "90b831a2",
   "metadata": {},
   "source": [
    "1,2,3,4,5,6,7,8,9,10"
   ]
  },
  {
   "cell_type": "code",
   "execution_count": 27,
   "id": "b34eeae4",
   "metadata": {},
   "outputs": [
    {
     "name": "stdout",
     "output_type": "stream",
     "text": [
      "1,2,3,4,5,6,7,8,9,10,"
     ]
    }
   ],
   "source": [
    "for i in range(1,11):\n",
    "    print(i,end=\",\")"
   ]
  },
  {
   "cell_type": "code",
   "execution_count": 28,
   "id": "5170cc0a",
   "metadata": {},
   "outputs": [
    {
     "name": "stdout",
     "output_type": "stream",
     "text": [
      "1,2,3,4,6,7,8,9,10,"
     ]
    }
   ],
   "source": [
    "for i in range(1,11):\n",
    "    if i==5:\n",
    "        continue;\n",
    "    else:\n",
    "        print(i,end=\",\")"
   ]
  },
  {
   "cell_type": "code",
   "execution_count": 29,
   "id": "0fafe6b6",
   "metadata": {},
   "outputs": [
    {
     "name": "stdout",
     "output_type": "stream",
     "text": [
      "1,2,3,4,6,7,8,9,10,"
     ]
    }
   ],
   "source": [
    "for i in range(1,11):\n",
    "    if i==5:\n",
    "        continue;\n",
    "    print(i,end=\",\")"
   ]
  },
  {
   "cell_type": "code",
   "execution_count": 30,
   "id": "6c3c6be0",
   "metadata": {},
   "outputs": [
    {
     "name": "stdout",
     "output_type": "stream",
     "text": [
      "1,2,3,4,5,"
     ]
    }
   ],
   "source": [
    "for i in range(1,11):\n",
    "    if i==6:\n",
    "        break;\n",
    "    print(i,end=\",\")"
   ]
  },
  {
   "cell_type": "code",
   "execution_count": 31,
   "id": "b0e614aa",
   "metadata": {},
   "outputs": [
    {
     "name": "stdout",
     "output_type": "stream",
     "text": [
      "5\n"
     ]
    }
   ],
   "source": [
    "for i in range(1,11):\n",
    "    if i==5:\n",
    "        print(i);"
   ]
  },
  {
   "cell_type": "code",
   "execution_count": 33,
   "id": "5635b7fa",
   "metadata": {},
   "outputs": [],
   "source": [
    "students = ['ravi','ramu','shiva','somu','hari','giri']\n",
    "abs_students = ['hari','shiva']"
   ]
  },
  {
   "cell_type": "code",
   "execution_count": 34,
   "id": "35c7bceb",
   "metadata": {},
   "outputs": [
    {
     "name": "stdout",
     "output_type": "stream",
     "text": [
      "ravi\n",
      "ramu\n",
      "somu\n",
      "giri\n"
     ]
    }
   ],
   "source": [
    "for student in students:\n",
    "    if student in abs_students:\n",
    "        continue;\n",
    "    print(student)"
   ]
  },
  {
   "cell_type": "code",
   "execution_count": 35,
   "id": "acdf8618",
   "metadata": {},
   "outputs": [],
   "source": [
    "L1 = [[10,20],[30,40],[50,60]]"
   ]
  },
  {
   "cell_type": "code",
   "execution_count": 36,
   "id": "8f66b9c1",
   "metadata": {},
   "outputs": [
    {
     "data": {
      "text/plain": [
       "[[10, 20], [30, 40], [50, 60]]"
      ]
     },
     "execution_count": 36,
     "metadata": {},
     "output_type": "execute_result"
    }
   ],
   "source": [
    "L1"
   ]
  },
  {
   "cell_type": "code",
   "execution_count": 37,
   "id": "5b4673da",
   "metadata": {},
   "outputs": [
    {
     "data": {
      "text/plain": [
       "[10, 20]"
      ]
     },
     "execution_count": 37,
     "metadata": {},
     "output_type": "execute_result"
    }
   ],
   "source": [
    "L1[0]"
   ]
  },
  {
   "cell_type": "code",
   "execution_count": 38,
   "id": "cff6ffa5",
   "metadata": {},
   "outputs": [
    {
     "data": {
      "text/plain": [
       "10"
      ]
     },
     "execution_count": 38,
     "metadata": {},
     "output_type": "execute_result"
    }
   ],
   "source": [
    "L1[0][0]"
   ]
  },
  {
   "cell_type": "code",
   "execution_count": 39,
   "id": "bd05f963",
   "metadata": {},
   "outputs": [
    {
     "data": {
      "text/plain": [
       "60"
      ]
     },
     "execution_count": 39,
     "metadata": {},
     "output_type": "execute_result"
    }
   ],
   "source": [
    "L1[2][1]"
   ]
  },
  {
   "cell_type": "code",
   "execution_count": 40,
   "id": "3176e60c",
   "metadata": {},
   "outputs": [],
   "source": [
    "v1=\"python\""
   ]
  },
  {
   "cell_type": "code",
   "execution_count": 41,
   "id": "96bd62b0",
   "metadata": {},
   "outputs": [
    {
     "data": {
      "text/plain": [
       "['p', 'y', 't', 'h', 'o', 'n']"
      ]
     },
     "execution_count": 41,
     "metadata": {},
     "output_type": "execute_result"
    }
   ],
   "source": [
    "L1 = list(v1)\n",
    "L1 "
   ]
  },
  {
   "cell_type": "code",
   "execution_count": 42,
   "id": "99769c8f",
   "metadata": {},
   "outputs": [
    {
     "data": {
      "text/plain": [
       "'w,e,l,c,o,m,e'"
      ]
     },
     "execution_count": 42,
     "metadata": {},
     "output_type": "execute_result"
    }
   ],
   "source": [
    "\",\".join(\"welcome\")"
   ]
  },
  {
   "cell_type": "code",
   "execution_count": 43,
   "id": "4f376796",
   "metadata": {},
   "outputs": [
    {
     "data": {
      "text/plain": [
       "'welcome'"
      ]
     },
     "execution_count": 43,
     "metadata": {},
     "output_type": "execute_result"
    }
   ],
   "source": [
    "\"\".join(\"welcome\")"
   ]
  },
  {
   "cell_type": "code",
   "execution_count": 44,
   "id": "7c7a7420",
   "metadata": {},
   "outputs": [
    {
     "ename": "TypeError",
     "evalue": "sequence item 0: expected str instance, int found",
     "output_type": "error",
     "traceback": [
      "\u001b[1;31m---------------------------------------------------------------------------\u001b[0m",
      "\u001b[1;31mTypeError\u001b[0m                                 Traceback (most recent call last)",
      "\u001b[1;32m~\\AppData\\Local\\Temp/ipykernel_17356/783444690.py\u001b[0m in \u001b[0;36m<module>\u001b[1;34m\u001b[0m\n\u001b[1;32m----> 1\u001b[1;33m \u001b[1;34m\",\"\u001b[0m\u001b[1;33m.\u001b[0m\u001b[0mjoin\u001b[0m\u001b[1;33m(\u001b[0m\u001b[1;33m[\u001b[0m\u001b[1;36m10\u001b[0m\u001b[1;33m,\u001b[0m\u001b[1;36m20\u001b[0m\u001b[1;33m,\u001b[0m\u001b[1;36m30\u001b[0m\u001b[1;33m,\u001b[0m\u001b[1;36m40\u001b[0m\u001b[1;33m,\u001b[0m\u001b[1;36m50\u001b[0m\u001b[1;33m]\u001b[0m\u001b[1;33m)\u001b[0m\u001b[1;33m\u001b[0m\u001b[1;33m\u001b[0m\u001b[0m\n\u001b[0m",
      "\u001b[1;31mTypeError\u001b[0m: sequence item 0: expected str instance, int found"
     ]
    }
   ],
   "source": [
    "\",\".join([10,20,30,40,50])"
   ]
  },
  {
   "cell_type": "code",
   "execution_count": 45,
   "id": "adb38c16",
   "metadata": {},
   "outputs": [
    {
     "data": {
      "text/plain": [
       "'p,y,t'"
      ]
     },
     "execution_count": 45,
     "metadata": {},
     "output_type": "execute_result"
    }
   ],
   "source": [
    "\",\".join(['p','y','t'])"
   ]
  },
  {
   "cell_type": "code",
   "execution_count": 46,
   "id": "782e473b",
   "metadata": {},
   "outputs": [
    {
     "data": {
      "text/plain": [
       "'p,y,t,h,o,n'"
      ]
     },
     "execution_count": 46,
     "metadata": {},
     "output_type": "execute_result"
    }
   ],
   "source": [
    "\",\".join(['p','y','t','h','o','n'])"
   ]
  },
  {
   "cell_type": "code",
   "execution_count": 47,
   "id": "5119bb69",
   "metadata": {},
   "outputs": [
    {
     "data": {
      "text/plain": [
       "'python'"
      ]
     },
     "execution_count": 47,
     "metadata": {},
     "output_type": "execute_result"
    }
   ],
   "source": [
    "\"\".join(['p','y','t','h','o','n'])"
   ]
  },
  {
   "cell_type": "code",
   "execution_count": 48,
   "id": "1a92a624",
   "metadata": {},
   "outputs": [
    {
     "data": {
      "text/plain": [
       "'pythonjavascript'"
      ]
     },
     "execution_count": 48,
     "metadata": {},
     "output_type": "execute_result"
    }
   ],
   "source": [
    "\"\".join([\"python\",\"javascript\"])"
   ]
  },
  {
   "cell_type": "code",
   "execution_count": 49,
   "id": "951805ad",
   "metadata": {},
   "outputs": [
    {
     "data": {
      "text/plain": [
       "['w', 'e', 'l', 'c', 'o', 'm', 'e']"
      ]
     },
     "execution_count": 49,
     "metadata": {},
     "output_type": "execute_result"
    }
   ],
   "source": [
    "L1=list(\"welcome\")\n",
    "L1"
   ]
  },
  {
   "cell_type": "code",
   "execution_count": 50,
   "id": "e737d7b7",
   "metadata": {},
   "outputs": [
    {
     "data": {
      "text/plain": [
       "'welcome'"
      ]
     },
     "execution_count": 50,
     "metadata": {},
     "output_type": "execute_result"
    }
   ],
   "source": [
    "\"\".join(L1)"
   ]
  },
  {
   "cell_type": "code",
   "execution_count": 51,
   "id": "78638bb6",
   "metadata": {},
   "outputs": [],
   "source": [
    "L1=[10,20,30,40,50,60,70,80,90]"
   ]
  },
  {
   "cell_type": "code",
   "execution_count": 52,
   "id": "dc6ef112",
   "metadata": {},
   "outputs": [
    {
     "data": {
      "text/plain": [
       "90"
      ]
     },
     "execution_count": 52,
     "metadata": {},
     "output_type": "execute_result"
    }
   ],
   "source": [
    "L1[-1]"
   ]
  },
  {
   "cell_type": "code",
   "execution_count": 53,
   "id": "22cd78bf",
   "metadata": {},
   "outputs": [
    {
     "data": {
      "text/plain": [
       "70"
      ]
     },
     "execution_count": 53,
     "metadata": {},
     "output_type": "execute_result"
    }
   ],
   "source": [
    "L1[-3]"
   ]
  },
  {
   "cell_type": "code",
   "execution_count": 54,
   "id": "240d96fc",
   "metadata": {},
   "outputs": [
    {
     "data": {
      "text/plain": [
       "[10, 20, 30, 40, 50]"
      ]
     },
     "execution_count": 54,
     "metadata": {},
     "output_type": "execute_result"
    }
   ],
   "source": [
    "L1[:5]"
   ]
  },
  {
   "cell_type": "code",
   "execution_count": 55,
   "id": "be1270aa",
   "metadata": {},
   "outputs": [
    {
     "data": {
      "text/plain": [
       "[60, 50, 40, 30]"
      ]
     },
     "execution_count": 55,
     "metadata": {},
     "output_type": "execute_result"
    }
   ],
   "source": [
    "L1[-4:-8:-1]"
   ]
  },
  {
   "cell_type": "code",
   "execution_count": 56,
   "id": "10ff2730",
   "metadata": {},
   "outputs": [
    {
     "data": {
      "text/plain": [
       "[60, 50, 40, 30]"
      ]
     },
     "execution_count": 56,
     "metadata": {},
     "output_type": "execute_result"
    }
   ],
   "source": [
    "L1[5:1:-1]"
   ]
  },
  {
   "cell_type": "code",
   "execution_count": 74,
   "id": "ec3bc934",
   "metadata": {},
   "outputs": [],
   "source": [
    "L1=[10,20,30]"
   ]
  },
  {
   "cell_type": "code",
   "execution_count": 75,
   "id": "07707c5c",
   "metadata": {},
   "outputs": [],
   "source": [
    "L2=[10,20,30]"
   ]
  },
  {
   "cell_type": "code",
   "execution_count": 59,
   "id": "5693103e",
   "metadata": {},
   "outputs": [
    {
     "name": "stdout",
     "output_type": "stream",
     "text": [
      "1408400385024\n",
      "1408399584640\n"
     ]
    }
   ],
   "source": [
    "print(id(L1))\n",
    "print(id(L2))"
   ]
  },
  {
   "cell_type": "code",
   "execution_count": 60,
   "id": "381bc747",
   "metadata": {},
   "outputs": [
    {
     "name": "stdout",
     "output_type": "stream",
     "text": [
      "1408317286992\n",
      "1408317286992\n"
     ]
    }
   ],
   "source": [
    "print(id(L1[0]))\n",
    "print(id(L2[0]))"
   ]
  },
  {
   "cell_type": "code",
   "execution_count": 61,
   "id": "369df00b",
   "metadata": {},
   "outputs": [
    {
     "data": {
      "text/plain": [
       "True"
      ]
     },
     "execution_count": 61,
     "metadata": {},
     "output_type": "execute_result"
    }
   ],
   "source": [
    "L1==L2"
   ]
  },
  {
   "cell_type": "code",
   "execution_count": 62,
   "id": "63c91edf",
   "metadata": {},
   "outputs": [
    {
     "data": {
      "text/plain": [
       "False"
      ]
     },
     "execution_count": 62,
     "metadata": {},
     "output_type": "execute_result"
    }
   ],
   "source": [
    "L1 is L2"
   ]
  },
  {
   "cell_type": "code",
   "execution_count": 63,
   "id": "efdb0c5a",
   "metadata": {},
   "outputs": [
    {
     "data": {
      "text/plain": [
       "1408400385024"
      ]
     },
     "execution_count": 63,
     "metadata": {},
     "output_type": "execute_result"
    }
   ],
   "source": [
    "id(L1)"
   ]
  },
  {
   "cell_type": "code",
   "execution_count": 64,
   "id": "6219eca9",
   "metadata": {},
   "outputs": [
    {
     "data": {
      "text/plain": [
       "1408399584640"
      ]
     },
     "execution_count": 64,
     "metadata": {},
     "output_type": "execute_result"
    }
   ],
   "source": [
    "id(L2)"
   ]
  },
  {
   "cell_type": "code",
   "execution_count": 67,
   "id": "16c77f45",
   "metadata": {},
   "outputs": [],
   "source": [
    "L1[0]=111"
   ]
  },
  {
   "cell_type": "code",
   "execution_count": 68,
   "id": "b1f5ac47",
   "metadata": {},
   "outputs": [
    {
     "data": {
      "text/plain": [
       "[111, 20, 30]"
      ]
     },
     "execution_count": 68,
     "metadata": {},
     "output_type": "execute_result"
    }
   ],
   "source": [
    "L1"
   ]
  },
  {
   "cell_type": "code",
   "execution_count": 69,
   "id": "a28148fb",
   "metadata": {},
   "outputs": [
    {
     "data": {
      "text/plain": [
       "[10, 20, 30]"
      ]
     },
     "execution_count": 69,
     "metadata": {},
     "output_type": "execute_result"
    }
   ],
   "source": [
    "L2"
   ]
  },
  {
   "cell_type": "code",
   "execution_count": 70,
   "id": "25259116",
   "metadata": {},
   "outputs": [
    {
     "name": "stdout",
     "output_type": "stream",
     "text": [
      "111\n",
      "111\n"
     ]
    }
   ],
   "source": [
    "print(L1[0])\n",
    "print(L1[-3])"
   ]
  },
  {
   "cell_type": "code",
   "execution_count": null,
   "id": "22649ef9",
   "metadata": {},
   "outputs": [],
   "source": []
  },
  {
   "cell_type": "code",
   "execution_count": 76,
   "id": "7837d595",
   "metadata": {},
   "outputs": [],
   "source": [
    "L3=L1"
   ]
  },
  {
   "cell_type": "code",
   "execution_count": 77,
   "id": "cdd32a1f",
   "metadata": {},
   "outputs": [
    {
     "name": "stdout",
     "output_type": "stream",
     "text": [
      "1408400401408\n",
      "1408400401408\n"
     ]
    }
   ],
   "source": [
    "print(id(L1))\n",
    "print(id(L3))"
   ]
  },
  {
   "cell_type": "code",
   "execution_count": 79,
   "id": "4545d811",
   "metadata": {},
   "outputs": [
    {
     "name": "stdout",
     "output_type": "stream",
     "text": [
      "10\n",
      "10\n"
     ]
    }
   ],
   "source": [
    "print(L1[0])\n",
    "print(L3[0])"
   ]
  },
  {
   "cell_type": "code",
   "execution_count": null,
   "id": "9ef52140",
   "metadata": {},
   "outputs": [],
   "source": []
  },
  {
   "cell_type": "code",
   "execution_count": 80,
   "id": "62a66f96",
   "metadata": {},
   "outputs": [],
   "source": [
    "L1[0]=111"
   ]
  },
  {
   "cell_type": "code",
   "execution_count": 81,
   "id": "c4605397",
   "metadata": {},
   "outputs": [
    {
     "data": {
      "text/plain": [
       "111"
      ]
     },
     "execution_count": 81,
     "metadata": {},
     "output_type": "execute_result"
    }
   ],
   "source": [
    "L1[0]"
   ]
  },
  {
   "cell_type": "code",
   "execution_count": 82,
   "id": "586c85b0",
   "metadata": {},
   "outputs": [
    {
     "data": {
      "text/plain": [
       "111"
      ]
     },
     "execution_count": 82,
     "metadata": {},
     "output_type": "execute_result"
    }
   ],
   "source": [
    "L3[0]"
   ]
  },
  {
   "cell_type": "code",
   "execution_count": 92,
   "id": "5b1d0cd1",
   "metadata": {},
   "outputs": [],
   "source": [
    "L3[0]=11"
   ]
  },
  {
   "cell_type": "code",
   "execution_count": 93,
   "id": "2c331d80",
   "metadata": {},
   "outputs": [
    {
     "data": {
      "text/plain": [
       "11"
      ]
     },
     "execution_count": 93,
     "metadata": {},
     "output_type": "execute_result"
    }
   ],
   "source": [
    "L3[0]"
   ]
  },
  {
   "cell_type": "code",
   "execution_count": 94,
   "id": "18056f8b",
   "metadata": {},
   "outputs": [
    {
     "data": {
      "text/plain": [
       "11"
      ]
     },
     "execution_count": 94,
     "metadata": {},
     "output_type": "execute_result"
    }
   ],
   "source": [
    "L1[0]"
   ]
  },
  {
   "cell_type": "code",
   "execution_count": 83,
   "id": "2effb44d",
   "metadata": {},
   "outputs": [],
   "source": [
    "a=5"
   ]
  },
  {
   "cell_type": "code",
   "execution_count": 84,
   "id": "a591abaf",
   "metadata": {},
   "outputs": [
    {
     "data": {
      "text/plain": [
       "1408317286832"
      ]
     },
     "execution_count": 84,
     "metadata": {},
     "output_type": "execute_result"
    }
   ],
   "source": [
    "id(a)"
   ]
  },
  {
   "cell_type": "code",
   "execution_count": 85,
   "id": "3cbb63da",
   "metadata": {},
   "outputs": [],
   "source": [
    "b=5.0"
   ]
  },
  {
   "cell_type": "code",
   "execution_count": 86,
   "id": "f3452a9e",
   "metadata": {},
   "outputs": [
    {
     "data": {
      "text/plain": [
       "1408400372144"
      ]
     },
     "execution_count": 86,
     "metadata": {},
     "output_type": "execute_result"
    }
   ],
   "source": [
    "id(b)"
   ]
  },
  {
   "cell_type": "code",
   "execution_count": 87,
   "id": "1ff37de6",
   "metadata": {},
   "outputs": [
    {
     "data": {
      "text/plain": [
       "False"
      ]
     },
     "execution_count": 87,
     "metadata": {},
     "output_type": "execute_result"
    }
   ],
   "source": [
    "a is b"
   ]
  },
  {
   "cell_type": "code",
   "execution_count": 88,
   "id": "c8dfbda6",
   "metadata": {},
   "outputs": [
    {
     "data": {
      "text/plain": [
       "True"
      ]
     },
     "execution_count": 88,
     "metadata": {},
     "output_type": "execute_result"
    }
   ],
   "source": [
    "a==b"
   ]
  },
  {
   "cell_type": "code",
   "execution_count": 89,
   "id": "b069fc43",
   "metadata": {},
   "outputs": [
    {
     "ename": "TypeError",
     "evalue": "sum() takes at most 2 arguments (5 given)",
     "output_type": "error",
     "traceback": [
      "\u001b[1;31m---------------------------------------------------------------------------\u001b[0m",
      "\u001b[1;31mTypeError\u001b[0m                                 Traceback (most recent call last)",
      "\u001b[1;32m~\\AppData\\Local\\Temp/ipykernel_17356/1829580886.py\u001b[0m in \u001b[0;36m<module>\u001b[1;34m\u001b[0m\n\u001b[1;32m----> 1\u001b[1;33m \u001b[0msum\u001b[0m\u001b[1;33m(\u001b[0m\u001b[1;36m1\u001b[0m\u001b[1;33m,\u001b[0m\u001b[1;36m2\u001b[0m\u001b[1;33m,\u001b[0m\u001b[1;36m3\u001b[0m\u001b[1;33m,\u001b[0m\u001b[1;36m4\u001b[0m\u001b[1;33m,\u001b[0m\u001b[1;36m5\u001b[0m\u001b[1;33m)\u001b[0m\u001b[1;33m\u001b[0m\u001b[1;33m\u001b[0m\u001b[0m\n\u001b[0m",
      "\u001b[1;31mTypeError\u001b[0m: sum() takes at most 2 arguments (5 given)"
     ]
    }
   ],
   "source": [
    "sum(1,2,3,4,5)"
   ]
  },
  {
   "cell_type": "code",
   "execution_count": 90,
   "id": "ff74fc31",
   "metadata": {},
   "outputs": [
    {
     "data": {
      "text/plain": [
       "15"
      ]
     },
     "execution_count": 90,
     "metadata": {},
     "output_type": "execute_result"
    }
   ],
   "source": [
    "sum([1,2,3,4,5])"
   ]
  },
  {
   "cell_type": "code",
   "execution_count": 91,
   "id": "91c585b2",
   "metadata": {},
   "outputs": [
    {
     "ename": "TypeError",
     "evalue": "unsupported operand type(s) for +: 'int' and 'str'",
     "output_type": "error",
     "traceback": [
      "\u001b[1;31m---------------------------------------------------------------------------\u001b[0m",
      "\u001b[1;31mTypeError\u001b[0m                                 Traceback (most recent call last)",
      "\u001b[1;32m~\\AppData\\Local\\Temp/ipykernel_17356/2437717735.py\u001b[0m in \u001b[0;36m<module>\u001b[1;34m\u001b[0m\n\u001b[1;32m----> 1\u001b[1;33m \u001b[0msum\u001b[0m\u001b[1;33m(\u001b[0m\u001b[1;34m\"welcome\"\u001b[0m\u001b[1;33m)\u001b[0m\u001b[1;33m\u001b[0m\u001b[1;33m\u001b[0m\u001b[0m\n\u001b[0m",
      "\u001b[1;31mTypeError\u001b[0m: unsupported operand type(s) for +: 'int' and 'str'"
     ]
    }
   ],
   "source": [
    "sum(\"welcome\")"
   ]
  },
  {
   "cell_type": "code",
   "execution_count": 95,
   "id": "8b9b6ee8",
   "metadata": {},
   "outputs": [],
   "source": [
    "T1 = (1,2,3,4,5)"
   ]
  },
  {
   "cell_type": "raw",
   "id": "e6088e5d",
   "metadata": {},
   "source": [
    "pprint"
   ]
  },
  {
   "cell_type": "code",
   "execution_count": 97,
   "id": "919e4253",
   "metadata": {},
   "outputs": [
    {
     "data": {
      "text/plain": [
       "['__add__', '__class__', '__class_getitem__', '__contains__', '__delattr__', '__dir__', '__doc__', '__eq__', '__format__', '__ge__', '__getattribute__', '__getitem__', '__getnewargs__', '__gt__', '__hash__', '__init__', '__init_subclass__', '__iter__', '__le__', '__len__', '__lt__', '__mul__', '__ne__', '__new__', '__reduce__', '__reduce_ex__', '__repr__', '__rmul__', '__setattr__', '__sizeof__', '__str__', '__subclasshook__', 'count', 'index']"
      ]
     },
     "execution_count": 97,
     "metadata": {},
     "output_type": "execute_result"
    }
   ],
   "source": [
    "dir(T1)"
   ]
  },
  {
   "cell_type": "code",
   "execution_count": null,
   "id": "7289d3f5",
   "metadata": {},
   "outputs": [],
   "source": []
  }
 ],
 "metadata": {
  "kernelspec": {
   "display_name": "Python 3 (ipykernel)",
   "language": "python",
   "name": "python3"
  },
  "language_info": {
   "codemirror_mode": {
    "name": "ipython",
    "version": 3
   },
   "file_extension": ".py",
   "mimetype": "text/x-python",
   "name": "python",
   "nbconvert_exporter": "python",
   "pygments_lexer": "ipython3",
   "version": "3.9.7"
  }
 },
 "nbformat": 4,
 "nbformat_minor": 5
}
