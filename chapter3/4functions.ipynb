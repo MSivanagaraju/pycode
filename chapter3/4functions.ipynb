{
 "cells": [
  {
   "cell_type": "code",
   "execution_count": null,
   "id": "9e338cbe",
   "metadata": {},
   "outputs": [],
   "source": [
    "#python userdefined functions"
   ]
  },
  {
   "cell_type": "raw",
   "id": "8f994fe6",
   "metadata": {},
   "source": [
    "#syntax to create function\n",
    "def <funName>(parameter1,para2,p3,....,pN):\n",
    "    statement1\n",
    "    statement2\n",
    "    ....\n",
    "    statementN\n",
    "    return <Value/variable/statement/expression/object>"
   ]
  },
  {
   "cell_type": "raw",
   "id": "ad301278",
   "metadata": {},
   "source": [
    "#syntax to call function\n",
    "<funName>(Argument1,Arg2,a3,....,aN)"
   ]
  },
  {
   "cell_type": "raw",
   "id": "f46815d6",
   "metadata": {},
   "source": [
    "#function mandatory syntax\n",
    "def <funName>():\n",
    "    statement1"
   ]
  },
  {
   "cell_type": "raw",
   "id": "cb605d26",
   "metadata": {},
   "source": [
    "#calling above function\n",
    "<funName>()"
   ]
  },
  {
   "cell_type": "raw",
   "id": "d78a3a28",
   "metadata": {},
   "source": [
    "1. function must return\n",
    "2. function returns with return statement only\n",
    "3. function returns None which doesn't have return statement"
   ]
  },
  {
   "cell_type": "code",
   "execution_count": 1,
   "id": "cb5016e5",
   "metadata": {},
   "outputs": [],
   "source": [
    "#function creation\n",
    "def f1():\n",
    "    print(\"Welcome to python functions\")"
   ]
  },
  {
   "cell_type": "code",
   "execution_count": 2,
   "id": "0088f14b",
   "metadata": {},
   "outputs": [
    {
     "data": {
      "text/plain": [
       "2239877355984"
      ]
     },
     "execution_count": 2,
     "metadata": {},
     "output_type": "execute_result"
    }
   ],
   "source": [
    "id(f1)"
   ]
  },
  {
   "cell_type": "code",
   "execution_count": 3,
   "id": "94646078",
   "metadata": {},
   "outputs": [
    {
     "name": "stdout",
     "output_type": "stream",
     "text": [
      "Welcome to python functions\n"
     ]
    }
   ],
   "source": [
    "#function calling\n",
    "f1()"
   ]
  },
  {
   "cell_type": "code",
   "execution_count": 4,
   "id": "49ac9ff7",
   "metadata": {},
   "outputs": [
    {
     "name": "stdout",
     "output_type": "stream",
     "text": [
      "Welcome to python functions\n",
      "None\n"
     ]
    }
   ],
   "source": [
    "print(f1())"
   ]
  },
  {
   "cell_type": "code",
   "execution_count": 5,
   "id": "d5240067",
   "metadata": {},
   "outputs": [
    {
     "name": "stdout",
     "output_type": "stream",
     "text": [
      "Welcome to python functions\n"
     ]
    }
   ],
   "source": [
    "v1 = f1()"
   ]
  },
  {
   "cell_type": "code",
   "execution_count": 6,
   "id": "b731f663",
   "metadata": {},
   "outputs": [
    {
     "name": "stdout",
     "output_type": "stream",
     "text": [
      "None\n"
     ]
    }
   ],
   "source": [
    "print(v1)"
   ]
  },
  {
   "cell_type": "code",
   "execution_count": 7,
   "id": "b1fc7b4d",
   "metadata": {},
   "outputs": [],
   "source": [
    "def f2():\n",
    "    return \"welcome to python\""
   ]
  },
  {
   "cell_type": "code",
   "execution_count": 8,
   "id": "d43eadd1",
   "metadata": {},
   "outputs": [
    {
     "data": {
      "text/plain": [
       "'welcome to python'"
      ]
     },
     "execution_count": 8,
     "metadata": {},
     "output_type": "execute_result"
    }
   ],
   "source": [
    "f2()"
   ]
  },
  {
   "cell_type": "code",
   "execution_count": 9,
   "id": "81b38a81",
   "metadata": {},
   "outputs": [],
   "source": [
    "v2 = f2()"
   ]
  },
  {
   "cell_type": "code",
   "execution_count": 10,
   "id": "fe71487d",
   "metadata": {},
   "outputs": [
    {
     "name": "stdout",
     "output_type": "stream",
     "text": [
      "welcome to python\n"
     ]
    }
   ],
   "source": [
    "print(v2)"
   ]
  },
  {
   "cell_type": "code",
   "execution_count": 11,
   "id": "450db6c8",
   "metadata": {},
   "outputs": [
    {
     "data": {
      "text/plain": [
       "<function __main__.f1()>"
      ]
     },
     "execution_count": 11,
     "metadata": {},
     "output_type": "execute_result"
    }
   ],
   "source": [
    "f1"
   ]
  },
  {
   "cell_type": "code",
   "execution_count": 12,
   "id": "2cb82b7e",
   "metadata": {},
   "outputs": [],
   "source": [
    "#function reference storing into variable\n",
    "v3 = f2"
   ]
  },
  {
   "cell_type": "code",
   "execution_count": 13,
   "id": "876f35eb",
   "metadata": {},
   "outputs": [
    {
     "data": {
      "text/plain": [
       "function"
      ]
     },
     "execution_count": 13,
     "metadata": {},
     "output_type": "execute_result"
    }
   ],
   "source": [
    "type(f2)"
   ]
  },
  {
   "cell_type": "code",
   "execution_count": 14,
   "id": "f161182e",
   "metadata": {},
   "outputs": [
    {
     "data": {
      "text/plain": [
       "function"
      ]
     },
     "execution_count": 14,
     "metadata": {},
     "output_type": "execute_result"
    }
   ],
   "source": [
    "type(v3)"
   ]
  },
  {
   "cell_type": "code",
   "execution_count": 15,
   "id": "dadb3e9b",
   "metadata": {},
   "outputs": [
    {
     "data": {
      "text/plain": [
       "'welcome to python'"
      ]
     },
     "execution_count": 15,
     "metadata": {},
     "output_type": "execute_result"
    }
   ],
   "source": [
    "f2()"
   ]
  },
  {
   "cell_type": "code",
   "execution_count": 16,
   "id": "4b04e7fe",
   "metadata": {},
   "outputs": [
    {
     "data": {
      "text/plain": [
       "'welcome to python'"
      ]
     },
     "execution_count": 16,
     "metadata": {},
     "output_type": "execute_result"
    }
   ],
   "source": [
    "v3()"
   ]
  },
  {
   "cell_type": "code",
   "execution_count": 17,
   "id": "90082562",
   "metadata": {},
   "outputs": [
    {
     "ename": "TypeError",
     "evalue": "f2() takes 0 positional arguments but 1 was given",
     "output_type": "error",
     "traceback": [
      "\u001b[1;31m---------------------------------------------------------------------------\u001b[0m",
      "\u001b[1;31mTypeError\u001b[0m                                 Traceback (most recent call last)",
      "\u001b[1;32m~\\AppData\\Local\\Temp/ipykernel_20144/1184767276.py\u001b[0m in \u001b[0;36m<module>\u001b[1;34m\u001b[0m\n\u001b[1;32m----> 1\u001b[1;33m \u001b[0mv3\u001b[0m\u001b[1;33m(\u001b[0m\u001b[1;36m100\u001b[0m\u001b[1;33m)\u001b[0m\u001b[1;33m\u001b[0m\u001b[1;33m\u001b[0m\u001b[0m\n\u001b[0m",
      "\u001b[1;31mTypeError\u001b[0m: f2() takes 0 positional arguments but 1 was given"
     ]
    }
   ],
   "source": [
    "v3(100)"
   ]
  },
  {
   "cell_type": "code",
   "execution_count": 18,
   "id": "1dcf68f9",
   "metadata": {},
   "outputs": [
    {
     "data": {
      "text/plain": [
       "2239877355408"
      ]
     },
     "execution_count": 18,
     "metadata": {},
     "output_type": "execute_result"
    }
   ],
   "source": [
    "id(f2)"
   ]
  },
  {
   "cell_type": "code",
   "execution_count": 19,
   "id": "a164d666",
   "metadata": {},
   "outputs": [
    {
     "data": {
      "text/plain": [
       "2239877355408"
      ]
     },
     "execution_count": 19,
     "metadata": {},
     "output_type": "execute_result"
    }
   ],
   "source": [
    "id(v3)"
   ]
  },
  {
   "cell_type": "code",
   "execution_count": 20,
   "id": "b4676276",
   "metadata": {},
   "outputs": [],
   "source": [
    "del f2"
   ]
  },
  {
   "cell_type": "code",
   "execution_count": 21,
   "id": "7ee4f540",
   "metadata": {},
   "outputs": [
    {
     "ename": "NameError",
     "evalue": "name 'f2' is not defined",
     "output_type": "error",
     "traceback": [
      "\u001b[1;31m---------------------------------------------------------------------------\u001b[0m",
      "\u001b[1;31mNameError\u001b[0m                                 Traceback (most recent call last)",
      "\u001b[1;32m~\\AppData\\Local\\Temp/ipykernel_20144/1603317987.py\u001b[0m in \u001b[0;36m<module>\u001b[1;34m\u001b[0m\n\u001b[1;32m----> 1\u001b[1;33m \u001b[0mf2\u001b[0m\u001b[1;33m(\u001b[0m\u001b[1;33m)\u001b[0m\u001b[1;33m\u001b[0m\u001b[1;33m\u001b[0m\u001b[0m\n\u001b[0m",
      "\u001b[1;31mNameError\u001b[0m: name 'f2' is not defined"
     ]
    }
   ],
   "source": [
    "f2()"
   ]
  },
  {
   "cell_type": "code",
   "execution_count": 22,
   "id": "dd521296",
   "metadata": {},
   "outputs": [
    {
     "data": {
      "text/plain": [
       "'welcome to python'"
      ]
     },
     "execution_count": 22,
     "metadata": {},
     "output_type": "execute_result"
    }
   ],
   "source": [
    "v3()"
   ]
  },
  {
   "cell_type": "code",
   "execution_count": 23,
   "id": "c1b01b71",
   "metadata": {},
   "outputs": [
    {
     "ename": "TypeError",
     "evalue": "f2() takes 0 positional arguments but 1 was given",
     "output_type": "error",
     "traceback": [
      "\u001b[1;31m---------------------------------------------------------------------------\u001b[0m",
      "\u001b[1;31mTypeError\u001b[0m                                 Traceback (most recent call last)",
      "\u001b[1;32m~\\AppData\\Local\\Temp/ipykernel_20144/1184767276.py\u001b[0m in \u001b[0;36m<module>\u001b[1;34m\u001b[0m\n\u001b[1;32m----> 1\u001b[1;33m \u001b[0mv3\u001b[0m\u001b[1;33m(\u001b[0m\u001b[1;36m100\u001b[0m\u001b[1;33m)\u001b[0m\u001b[1;33m\u001b[0m\u001b[1;33m\u001b[0m\u001b[0m\n\u001b[0m",
      "\u001b[1;31mTypeError\u001b[0m: f2() takes 0 positional arguments but 1 was given"
     ]
    }
   ],
   "source": [
    "v3(100)"
   ]
  },
  {
   "cell_type": "code",
   "execution_count": 24,
   "id": "5dc13f7d",
   "metadata": {},
   "outputs": [],
   "source": [
    "def f4():\n",
    "    print(\"Good Morning\")\n",
    "    return \"welcome\""
   ]
  },
  {
   "cell_type": "code",
   "execution_count": 25,
   "id": "fec79d87",
   "metadata": {},
   "outputs": [
    {
     "name": "stdout",
     "output_type": "stream",
     "text": [
      "Good Morning\n"
     ]
    },
    {
     "data": {
      "text/plain": [
       "'welcome'"
      ]
     },
     "execution_count": 25,
     "metadata": {},
     "output_type": "execute_result"
    }
   ],
   "source": [
    "f4()"
   ]
  },
  {
   "cell_type": "code",
   "execution_count": null,
   "id": "3f4ea104",
   "metadata": {},
   "outputs": [],
   "source": [
    "#parameters"
   ]
  },
  {
   "cell_type": "code",
   "execution_count": 26,
   "id": "6b1742a2",
   "metadata": {},
   "outputs": [],
   "source": [
    "def f5(msg):\n",
    "    return msg"
   ]
  },
  {
   "cell_type": "code",
   "execution_count": 27,
   "id": "6dc870db",
   "metadata": {},
   "outputs": [
    {
     "data": {
      "text/plain": [
       "'Good Morning'"
      ]
     },
     "execution_count": 27,
     "metadata": {},
     "output_type": "execute_result"
    }
   ],
   "source": [
    "f5(\"Good Morning\")"
   ]
  },
  {
   "cell_type": "code",
   "execution_count": 29,
   "id": "c37d9a3e",
   "metadata": {},
   "outputs": [
    {
     "ename": "TypeError",
     "evalue": "f5() missing 1 required positional argument: 'msg'",
     "output_type": "error",
     "traceback": [
      "\u001b[1;31m---------------------------------------------------------------------------\u001b[0m",
      "\u001b[1;31mTypeError\u001b[0m                                 Traceback (most recent call last)",
      "\u001b[1;32m~\\AppData\\Local\\Temp/ipykernel_20144/257402558.py\u001b[0m in \u001b[0;36m<module>\u001b[1;34m\u001b[0m\n\u001b[1;32m----> 1\u001b[1;33m \u001b[0mf5\u001b[0m\u001b[1;33m(\u001b[0m\u001b[1;33m)\u001b[0m\u001b[1;33m\u001b[0m\u001b[1;33m\u001b[0m\u001b[0m\n\u001b[0m",
      "\u001b[1;31mTypeError\u001b[0m: f5() missing 1 required positional argument: 'msg'"
     ]
    }
   ],
   "source": [
    "f5()"
   ]
  },
  {
   "cell_type": "code",
   "execution_count": 28,
   "id": "78e11a6a",
   "metadata": {},
   "outputs": [],
   "source": [
    "def f6(msg=\"Good Morning\"):\n",
    "    return msg"
   ]
  },
  {
   "cell_type": "code",
   "execution_count": 30,
   "id": "471a34aa",
   "metadata": {},
   "outputs": [
    {
     "data": {
      "text/plain": [
       "'Good Morning'"
      ]
     },
     "execution_count": 30,
     "metadata": {},
     "output_type": "execute_result"
    }
   ],
   "source": [
    "f6()"
   ]
  },
  {
   "cell_type": "code",
   "execution_count": 31,
   "id": "e50218c4",
   "metadata": {},
   "outputs": [
    {
     "data": {
      "text/plain": [
       "'Good Evening'"
      ]
     },
     "execution_count": 31,
     "metadata": {},
     "output_type": "execute_result"
    }
   ],
   "source": [
    "f6(\"Good Evening\")"
   ]
  },
  {
   "cell_type": "code",
   "execution_count": 32,
   "id": "a4d5c2b3",
   "metadata": {},
   "outputs": [
    {
     "data": {
      "text/plain": [
       "'Good Morning'"
      ]
     },
     "execution_count": 32,
     "metadata": {},
     "output_type": "execute_result"
    }
   ],
   "source": [
    "f6()"
   ]
  },
  {
   "cell_type": "code",
   "execution_count": 33,
   "id": "6544ea1c",
   "metadata": {},
   "outputs": [],
   "source": [
    "def f7(msg,name):\n",
    "    return msg+\" \"+name"
   ]
  },
  {
   "cell_type": "code",
   "execution_count": 34,
   "id": "f2825692",
   "metadata": {},
   "outputs": [
    {
     "data": {
      "text/plain": [
       "'Good Morning Ravi'"
      ]
     },
     "execution_count": 34,
     "metadata": {},
     "output_type": "execute_result"
    }
   ],
   "source": [
    "f7(\"Good Morning\",'Ravi')"
   ]
  },
  {
   "cell_type": "code",
   "execution_count": 35,
   "id": "38c00811",
   "metadata": {},
   "outputs": [
    {
     "ename": "TypeError",
     "evalue": "f7() missing 1 required positional argument: 'name'",
     "output_type": "error",
     "traceback": [
      "\u001b[1;31m---------------------------------------------------------------------------\u001b[0m",
      "\u001b[1;31mTypeError\u001b[0m                                 Traceback (most recent call last)",
      "\u001b[1;32m~\\AppData\\Local\\Temp/ipykernel_20144/3972783153.py\u001b[0m in \u001b[0;36m<module>\u001b[1;34m\u001b[0m\n\u001b[0;32m      1\u001b[0m \u001b[1;31m#no of parameter == no of arguments\u001b[0m\u001b[1;33m\u001b[0m\u001b[1;33m\u001b[0m\u001b[0m\n\u001b[1;32m----> 2\u001b[1;33m \u001b[0mf7\u001b[0m\u001b[1;33m(\u001b[0m\u001b[1;34m\"Good morning\"\u001b[0m\u001b[1;33m)\u001b[0m\u001b[1;33m\u001b[0m\u001b[1;33m\u001b[0m\u001b[0m\n\u001b[0m",
      "\u001b[1;31mTypeError\u001b[0m: f7() missing 1 required positional argument: 'name'"
     ]
    }
   ],
   "source": [
    "#no of parameter == no of arguments\n",
    "f7(\"Good morning\")"
   ]
  },
  {
   "cell_type": "code",
   "execution_count": null,
   "id": "ffb988bc",
   "metadata": {},
   "outputs": [],
   "source": [
    "#positional arguments"
   ]
  },
  {
   "cell_type": "code",
   "execution_count": 45,
   "id": "9450ebcb",
   "metadata": {},
   "outputs": [],
   "source": [
    "def f8(a,b):\n",
    "    print('a =',a)\n",
    "    print('b =',b)\n",
    "    return a+b"
   ]
  },
  {
   "cell_type": "code",
   "execution_count": 46,
   "id": "9d8ffc6f",
   "metadata": {},
   "outputs": [
    {
     "name": "stdout",
     "output_type": "stream",
     "text": [
      "a = 10\n",
      "b = 20\n"
     ]
    },
    {
     "data": {
      "text/plain": [
       "30"
      ]
     },
     "execution_count": 46,
     "metadata": {},
     "output_type": "execute_result"
    }
   ],
   "source": [
    "f8(10,20)"
   ]
  },
  {
   "cell_type": "code",
   "execution_count": 47,
   "id": "55718a2c",
   "metadata": {},
   "outputs": [
    {
     "name": "stdout",
     "output_type": "stream",
     "text": [
      "a = 20\n",
      "b = 10\n"
     ]
    },
    {
     "data": {
      "text/plain": [
       "30"
      ]
     },
     "execution_count": 47,
     "metadata": {},
     "output_type": "execute_result"
    }
   ],
   "source": [
    "f8(20,10)"
   ]
  },
  {
   "cell_type": "code",
   "execution_count": null,
   "id": "ebb4f601",
   "metadata": {},
   "outputs": [],
   "source": [
    "#keyword arguments"
   ]
  },
  {
   "cell_type": "code",
   "execution_count": 49,
   "id": "2bc2e67a",
   "metadata": {},
   "outputs": [],
   "source": [
    "def f8(a,b):\n",
    "    print('a =',a)\n",
    "    print('b =',b)\n",
    "    return a+b"
   ]
  },
  {
   "cell_type": "code",
   "execution_count": 50,
   "id": "b3cefe9c",
   "metadata": {},
   "outputs": [
    {
     "name": "stdout",
     "output_type": "stream",
     "text": [
      "a = 10\n",
      "b = 15\n"
     ]
    },
    {
     "data": {
      "text/plain": [
       "25"
      ]
     },
     "execution_count": 50,
     "metadata": {},
     "output_type": "execute_result"
    }
   ],
   "source": [
    "f8(b=15,a=10)"
   ]
  },
  {
   "cell_type": "code",
   "execution_count": 51,
   "id": "3fdeba79",
   "metadata": {},
   "outputs": [
    {
     "ename": "TypeError",
     "evalue": "f8() got an unexpected keyword argument 'c'",
     "output_type": "error",
     "traceback": [
      "\u001b[1;31m---------------------------------------------------------------------------\u001b[0m",
      "\u001b[1;31mTypeError\u001b[0m                                 Traceback (most recent call last)",
      "\u001b[1;32m~\\AppData\\Local\\Temp/ipykernel_20144/4662860.py\u001b[0m in \u001b[0;36m<module>\u001b[1;34m\u001b[0m\n\u001b[0;32m      1\u001b[0m \u001b[1;31m#keywords must match with parameters\u001b[0m\u001b[1;33m\u001b[0m\u001b[1;33m\u001b[0m\u001b[0m\n\u001b[1;32m----> 2\u001b[1;33m \u001b[0mf8\u001b[0m\u001b[1;33m(\u001b[0m\u001b[0ma\u001b[0m\u001b[1;33m=\u001b[0m\u001b[1;36m10\u001b[0m\u001b[1;33m,\u001b[0m\u001b[0mc\u001b[0m\u001b[1;33m=\u001b[0m\u001b[1;36m25\u001b[0m\u001b[1;33m)\u001b[0m\u001b[1;33m\u001b[0m\u001b[1;33m\u001b[0m\u001b[0m\n\u001b[0m",
      "\u001b[1;31mTypeError\u001b[0m: f8() got an unexpected keyword argument 'c'"
     ]
    }
   ],
   "source": [
    "#keywords must match with parameters\n",
    "f8(a=10,c=25)"
   ]
  },
  {
   "cell_type": "code",
   "execution_count": 52,
   "id": "9e520a7f",
   "metadata": {},
   "outputs": [
    {
     "name": "stdout",
     "output_type": "stream",
     "text": [
      "a = 25\n",
      "b = 20\n"
     ]
    },
    {
     "data": {
      "text/plain": [
       "45"
      ]
     },
     "execution_count": 52,
     "metadata": {},
     "output_type": "execute_result"
    }
   ],
   "source": [
    "f8(25,b=20)"
   ]
  },
  {
   "cell_type": "code",
   "execution_count": 53,
   "id": "2a082d84",
   "metadata": {},
   "outputs": [
    {
     "ename": "SyntaxError",
     "evalue": "positional argument follows keyword argument (Temp/ipykernel_20144/3120586341.py, line 1)",
     "output_type": "error",
     "traceback": [
      "\u001b[1;36m  File \u001b[1;32m\"C:\\Users\\User\\AppData\\Local\\Temp/ipykernel_20144/3120586341.py\"\u001b[1;36m, line \u001b[1;32m1\u001b[0m\n\u001b[1;33m    f8(a=15,25)\u001b[0m\n\u001b[1;37m              ^\u001b[0m\n\u001b[1;31mSyntaxError\u001b[0m\u001b[1;31m:\u001b[0m positional argument follows keyword argument\n"
     ]
    }
   ],
   "source": [
    "f8(a=15,25)"
   ]
  },
  {
   "cell_type": "code",
   "execution_count": 54,
   "id": "ef5a9c26",
   "metadata": {},
   "outputs": [
    {
     "ename": "TypeError",
     "evalue": "f8() got multiple values for argument 'a'",
     "output_type": "error",
     "traceback": [
      "\u001b[1;31m---------------------------------------------------------------------------\u001b[0m",
      "\u001b[1;31mTypeError\u001b[0m                                 Traceback (most recent call last)",
      "\u001b[1;32m~\\AppData\\Local\\Temp/ipykernel_20144/3046744201.py\u001b[0m in \u001b[0;36m<module>\u001b[1;34m\u001b[0m\n\u001b[1;32m----> 1\u001b[1;33m \u001b[0mf8\u001b[0m\u001b[1;33m(\u001b[0m\u001b[1;36m15\u001b[0m\u001b[1;33m,\u001b[0m\u001b[0ma\u001b[0m\u001b[1;33m=\u001b[0m\u001b[1;36m20\u001b[0m\u001b[1;33m)\u001b[0m\u001b[1;33m\u001b[0m\u001b[1;33m\u001b[0m\u001b[0m\n\u001b[0m",
      "\u001b[1;31mTypeError\u001b[0m: f8() got multiple values for argument 'a'"
     ]
    }
   ],
   "source": [
    "f8(15,a=20)"
   ]
  },
  {
   "cell_type": "code",
   "execution_count": 55,
   "id": "4f3d90f6",
   "metadata": {},
   "outputs": [],
   "source": [
    "def f9(a,b=15):\n",
    "    return a+b"
   ]
  },
  {
   "cell_type": "code",
   "execution_count": 56,
   "id": "662f5a73",
   "metadata": {},
   "outputs": [
    {
     "data": {
      "text/plain": [
       "115"
      ]
     },
     "execution_count": 56,
     "metadata": {},
     "output_type": "execute_result"
    }
   ],
   "source": [
    "f9(100)"
   ]
  },
  {
   "cell_type": "code",
   "execution_count": 57,
   "id": "4eff3230",
   "metadata": {},
   "outputs": [
    {
     "data": {
      "text/plain": [
       "12"
      ]
     },
     "execution_count": 57,
     "metadata": {},
     "output_type": "execute_result"
    }
   ],
   "source": [
    "f9(10,2)"
   ]
  },
  {
   "cell_type": "code",
   "execution_count": null,
   "id": "df3cdd67",
   "metadata": {},
   "outputs": [],
   "source": [
    "#variables creation in function body"
   ]
  },
  {
   "cell_type": "code",
   "execution_count": 1,
   "id": "434cfc79",
   "metadata": {},
   "outputs": [],
   "source": [
    "def f1():\n",
    "    a = 100\n",
    "    b = 200\n",
    "    print(a,b)\n",
    "    return a+b"
   ]
  },
  {
   "cell_type": "code",
   "execution_count": 2,
   "id": "58ddce66",
   "metadata": {},
   "outputs": [
    {
     "name": "stdout",
     "output_type": "stream",
     "text": [
      "100 200\n"
     ]
    },
    {
     "data": {
      "text/plain": [
       "300"
      ]
     },
     "execution_count": 2,
     "metadata": {},
     "output_type": "execute_result"
    }
   ],
   "source": [
    "f1()"
   ]
  },
  {
   "cell_type": "code",
   "execution_count": 3,
   "id": "a29f98ab",
   "metadata": {},
   "outputs": [
    {
     "ename": "NameError",
     "evalue": "name 'a' is not defined",
     "output_type": "error",
     "traceback": [
      "\u001b[1;31m---------------------------------------------------------------------------\u001b[0m",
      "\u001b[1;31mNameError\u001b[0m                                 Traceback (most recent call last)",
      "\u001b[1;32m~\\AppData\\Local\\Temp/ipykernel_12924/1189138062.py\u001b[0m in \u001b[0;36m<module>\u001b[1;34m\u001b[0m\n\u001b[1;32m----> 1\u001b[1;33m \u001b[0mprint\u001b[0m\u001b[1;33m(\u001b[0m\u001b[0ma\u001b[0m\u001b[1;33m)\u001b[0m\u001b[1;33m\u001b[0m\u001b[1;33m\u001b[0m\u001b[0m\n\u001b[0m",
      "\u001b[1;31mNameError\u001b[0m: name 'a' is not defined"
     ]
    }
   ],
   "source": [
    "print(a)"
   ]
  },
  {
   "cell_type": "code",
   "execution_count": 4,
   "id": "094961fa",
   "metadata": {},
   "outputs": [
    {
     "ename": "AttributeError",
     "evalue": "'function' object has no attribute 'a'",
     "output_type": "error",
     "traceback": [
      "\u001b[1;31m---------------------------------------------------------------------------\u001b[0m",
      "\u001b[1;31mAttributeError\u001b[0m                            Traceback (most recent call last)",
      "\u001b[1;32m~\\AppData\\Local\\Temp/ipykernel_12924/2356612074.py\u001b[0m in \u001b[0;36m<module>\u001b[1;34m\u001b[0m\n\u001b[1;32m----> 1\u001b[1;33m \u001b[0mf1\u001b[0m\u001b[1;33m.\u001b[0m\u001b[0ma\u001b[0m\u001b[1;33m\u001b[0m\u001b[1;33m\u001b[0m\u001b[0m\n\u001b[0m",
      "\u001b[1;31mAttributeError\u001b[0m: 'function' object has no attribute 'a'"
     ]
    }
   ],
   "source": [
    "f1.a"
   ]
  },
  {
   "cell_type": "code",
   "execution_count": 5,
   "id": "5f2840d9",
   "metadata": {},
   "outputs": [],
   "source": [
    "a=1000"
   ]
  },
  {
   "cell_type": "code",
   "execution_count": 6,
   "id": "8b8f7db2",
   "metadata": {},
   "outputs": [
    {
     "name": "stdout",
     "output_type": "stream",
     "text": [
      "1000\n"
     ]
    }
   ],
   "source": [
    "print(a)"
   ]
  },
  {
   "cell_type": "code",
   "execution_count": 7,
   "id": "d41495dc",
   "metadata": {},
   "outputs": [
    {
     "name": "stdout",
     "output_type": "stream",
     "text": [
      "100 200\n"
     ]
    },
    {
     "data": {
      "text/plain": [
       "300"
      ]
     },
     "execution_count": 7,
     "metadata": {},
     "output_type": "execute_result"
    }
   ],
   "source": [
    "f1()"
   ]
  },
  {
   "cell_type": "code",
   "execution_count": 8,
   "id": "2eb988bb",
   "metadata": {},
   "outputs": [],
   "source": [
    "def f2():\n",
    "    return a"
   ]
  },
  {
   "cell_type": "code",
   "execution_count": 9,
   "id": "058208a5",
   "metadata": {},
   "outputs": [
    {
     "data": {
      "text/plain": [
       "1000"
      ]
     },
     "execution_count": 9,
     "metadata": {},
     "output_type": "execute_result"
    }
   ],
   "source": [
    "f2()"
   ]
  },
  {
   "cell_type": "code",
   "execution_count": 10,
   "id": "728e4cea",
   "metadata": {},
   "outputs": [
    {
     "name": "stdout",
     "output_type": "stream",
     "text": [
      "1000\n"
     ]
    }
   ],
   "source": [
    "print(a)"
   ]
  },
  {
   "cell_type": "code",
   "execution_count": 11,
   "id": "7809370a",
   "metadata": {},
   "outputs": [],
   "source": [
    "def f3():\n",
    "    a = 100\n",
    "    return a"
   ]
  },
  {
   "cell_type": "code",
   "execution_count": 12,
   "id": "04f3715f",
   "metadata": {},
   "outputs": [
    {
     "data": {
      "text/plain": [
       "100"
      ]
     },
     "execution_count": 12,
     "metadata": {},
     "output_type": "execute_result"
    }
   ],
   "source": [
    "f3()"
   ]
  },
  {
   "cell_type": "code",
   "execution_count": 13,
   "id": "556b84c5",
   "metadata": {},
   "outputs": [],
   "source": [
    "def f4():\n",
    "    a = 111\n",
    "    b = 222\n",
    "    print(locals())\n",
    "    return a+b"
   ]
  },
  {
   "cell_type": "code",
   "execution_count": 14,
   "id": "39a31991",
   "metadata": {},
   "outputs": [
    {
     "name": "stdout",
     "output_type": "stream",
     "text": [
      "{'a': 111, 'b': 222}\n"
     ]
    },
    {
     "data": {
      "text/plain": [
       "333"
      ]
     },
     "execution_count": 14,
     "metadata": {},
     "output_type": "execute_result"
    }
   ],
   "source": [
    "f4()"
   ]
  },
  {
   "cell_type": "code",
   "execution_count": 15,
   "id": "a9c7ca2b",
   "metadata": {},
   "outputs": [],
   "source": [
    "def f4():\n",
    "    a = 111\n",
    "    b = 222\n",
    "    return locals()"
   ]
  },
  {
   "cell_type": "code",
   "execution_count": 16,
   "id": "cd8b6e4b",
   "metadata": {},
   "outputs": [
    {
     "data": {
      "text/plain": [
       "{'a': 111, 'b': 222}"
      ]
     },
     "execution_count": 16,
     "metadata": {},
     "output_type": "execute_result"
    }
   ],
   "source": [
    "f4()"
   ]
  },
  {
   "cell_type": "code",
   "execution_count": 17,
   "id": "776007fe",
   "metadata": {},
   "outputs": [
    {
     "name": "stdout",
     "output_type": "stream",
     "text": [
      "{'__name__': '__main__', '__doc__': 'Automatically created module for IPython interactive environment', '__package__': None, '__loader__': None, '__spec__': None, '__builtin__': <module 'builtins' (built-in)>, '__builtins__': <module 'builtins' (built-in)>, '_ih': ['', 'def f1():\\n    a = 100\\n    b = 200\\n    print(a,b)\\n    return a+b', 'f1()', 'print(a)', 'f1.a', 'a=1000', 'print(a)', 'f1()', 'def f2():\\n    return a', 'f2()', 'print(a)', 'def f3():\\n    a = 100\\n    return a', 'f3()', 'def f4():\\n    a = 111\\n    b = 222\\n    print(locals())\\n    return a+b', 'f4()', 'def f4():\\n    a = 111\\n    b = 222\\n    return locals()', 'f4()', 'print(globals())'], '_oh': {2: 300, 7: 300, 9: 1000, 12: 100, 14: 333, 16: {'a': 111, 'b': 222}}, '_dh': ['C:\\\\Users\\\\User\\\\batch630\\\\chapter3'], 'In': ['', 'def f1():\\n    a = 100\\n    b = 200\\n    print(a,b)\\n    return a+b', 'f1()', 'print(a)', 'f1.a', 'a=1000', 'print(a)', 'f1()', 'def f2():\\n    return a', 'f2()', 'print(a)', 'def f3():\\n    a = 100\\n    return a', 'f3()', 'def f4():\\n    a = 111\\n    b = 222\\n    print(locals())\\n    return a+b', 'f4()', 'def f4():\\n    a = 111\\n    b = 222\\n    return locals()', 'f4()', 'print(globals())'], 'Out': {2: 300, 7: 300, 9: 1000, 12: 100, 14: 333, 16: {'a': 111, 'b': 222}}, 'get_ipython': <bound method InteractiveShell.get_ipython of <ipykernel.zmqshell.ZMQInteractiveShell object at 0x00000232BC1D6220>>, 'exit': <IPython.core.autocall.ZMQExitAutocall object at 0x00000232BC1D6E50>, 'quit': <IPython.core.autocall.ZMQExitAutocall object at 0x00000232BC1D6E50>, '_': {'a': 111, 'b': 222}, '__': 333, '___': 100, '_i': 'f4()', '_ii': 'def f4():\\n    a = 111\\n    b = 222\\n    return locals()', '_iii': 'f4()', '_i1': 'def f1():\\n    a = 100\\n    b = 200\\n    print(a,b)\\n    return a+b', 'f1': <function f1 at 0x00000232BC241DC0>, '_i2': 'f1()', '_2': 300, '_i3': 'print(a)', '_i4': 'f1.a', '_i5': 'a=1000', 'a': 1000, '_i6': 'print(a)', '_i7': 'f1()', '_7': 300, '_i8': 'def f2():\\n    return a', 'f2': <function f2 at 0x00000232BC32BB80>, '_i9': 'f2()', '_9': 1000, '_i10': 'print(a)', '_i11': 'def f3():\\n    a = 100\\n    return a', 'f3': <function f3 at 0x00000232BC32BF70>, '_i12': 'f3()', '_12': 100, '_i13': 'def f4():\\n    a = 111\\n    b = 222\\n    print(locals())\\n    return a+b', 'f4': <function f4 at 0x00000232BC32BC10>, '_i14': 'f4()', '_14': 333, '_i15': 'def f4():\\n    a = 111\\n    b = 222\\n    return locals()', '_i16': 'f4()', '_16': {'a': 111, 'b': 222}, '_i17': 'print(globals())'}\n"
     ]
    }
   ],
   "source": [
    "print(globals())"
   ]
  },
  {
   "cell_type": "code",
   "execution_count": 18,
   "id": "a714d633",
   "metadata": {},
   "outputs": [],
   "source": [
    "a=10\n",
    "def f4():\n",
    "    a=a+20\n",
    "    return a"
   ]
  },
  {
   "cell_type": "code",
   "execution_count": 19,
   "id": "c22bede1",
   "metadata": {},
   "outputs": [
    {
     "ename": "UnboundLocalError",
     "evalue": "local variable 'a' referenced before assignment",
     "output_type": "error",
     "traceback": [
      "\u001b[1;31m---------------------------------------------------------------------------\u001b[0m",
      "\u001b[1;31mUnboundLocalError\u001b[0m                         Traceback (most recent call last)",
      "\u001b[1;32m~\\AppData\\Local\\Temp/ipykernel_12924/1205670228.py\u001b[0m in \u001b[0;36m<module>\u001b[1;34m\u001b[0m\n\u001b[1;32m----> 1\u001b[1;33m \u001b[0mf4\u001b[0m\u001b[1;33m(\u001b[0m\u001b[1;33m)\u001b[0m\u001b[1;33m\u001b[0m\u001b[1;33m\u001b[0m\u001b[0m\n\u001b[0m",
      "\u001b[1;32m~\\AppData\\Local\\Temp/ipykernel_12924/1593249577.py\u001b[0m in \u001b[0;36mf4\u001b[1;34m()\u001b[0m\n\u001b[0;32m      1\u001b[0m \u001b[0ma\u001b[0m\u001b[1;33m=\u001b[0m\u001b[1;36m10\u001b[0m\u001b[1;33m\u001b[0m\u001b[1;33m\u001b[0m\u001b[0m\n\u001b[0;32m      2\u001b[0m \u001b[1;32mdef\u001b[0m \u001b[0mf4\u001b[0m\u001b[1;33m(\u001b[0m\u001b[1;33m)\u001b[0m\u001b[1;33m:\u001b[0m\u001b[1;33m\u001b[0m\u001b[1;33m\u001b[0m\u001b[0m\n\u001b[1;32m----> 3\u001b[1;33m     \u001b[0ma\u001b[0m\u001b[1;33m=\u001b[0m\u001b[0ma\u001b[0m\u001b[1;33m+\u001b[0m\u001b[1;36m20\u001b[0m\u001b[1;33m\u001b[0m\u001b[1;33m\u001b[0m\u001b[0m\n\u001b[0m\u001b[0;32m      4\u001b[0m     \u001b[1;32mreturn\u001b[0m \u001b[0ma\u001b[0m\u001b[1;33m\u001b[0m\u001b[1;33m\u001b[0m\u001b[0m\n",
      "\u001b[1;31mUnboundLocalError\u001b[0m: local variable 'a' referenced before assignment"
     ]
    }
   ],
   "source": [
    "f4()"
   ]
  },
  {
   "cell_type": "code",
   "execution_count": null,
   "id": "06ed852f",
   "metadata": {},
   "outputs": [],
   "source": []
  },
  {
   "cell_type": "code",
   "execution_count": 20,
   "id": "1639ce76",
   "metadata": {},
   "outputs": [
    {
     "name": "stdout",
     "output_type": "stream",
     "text": [
      "10\n"
     ]
    }
   ],
   "source": [
    "a=10\n",
    "def f5():\n",
    "    global a\n",
    "    a=a+10\n",
    "    return a\n",
    "print(a)"
   ]
  },
  {
   "cell_type": "code",
   "execution_count": 21,
   "id": "5ee13be3",
   "metadata": {},
   "outputs": [
    {
     "data": {
      "text/plain": [
       "20"
      ]
     },
     "execution_count": 21,
     "metadata": {},
     "output_type": "execute_result"
    }
   ],
   "source": [
    "f5()"
   ]
  },
  {
   "cell_type": "code",
   "execution_count": 22,
   "id": "55c27041",
   "metadata": {},
   "outputs": [
    {
     "data": {
      "text/plain": [
       "20"
      ]
     },
     "execution_count": 22,
     "metadata": {},
     "output_type": "execute_result"
    }
   ],
   "source": [
    "a"
   ]
  },
  {
   "cell_type": "code",
   "execution_count": 23,
   "id": "ebce3ad9",
   "metadata": {},
   "outputs": [],
   "source": [
    "a=1000\n",
    "def f1():\n",
    "    a=100\n",
    "    def f2():\n",
    "        a=10\n",
    "        return a\n",
    "    return f2()"
   ]
  },
  {
   "cell_type": "code",
   "execution_count": 24,
   "id": "3cbcddfd",
   "metadata": {},
   "outputs": [
    {
     "data": {
      "text/plain": [
       "10"
      ]
     },
     "execution_count": 24,
     "metadata": {},
     "output_type": "execute_result"
    }
   ],
   "source": [
    "f1()"
   ]
  },
  {
   "cell_type": "code",
   "execution_count": 25,
   "id": "257b62fe",
   "metadata": {},
   "outputs": [],
   "source": [
    "a=1000\n",
    "def f1():\n",
    "    a=100\n",
    "    def f2():\n",
    "        return a\n",
    "    return f2()"
   ]
  },
  {
   "cell_type": "code",
   "execution_count": 26,
   "id": "df59c11b",
   "metadata": {},
   "outputs": [
    {
     "data": {
      "text/plain": [
       "100"
      ]
     },
     "execution_count": 26,
     "metadata": {},
     "output_type": "execute_result"
    }
   ],
   "source": [
    "f1()"
   ]
  },
  {
   "cell_type": "code",
   "execution_count": 27,
   "id": "8db4c048",
   "metadata": {},
   "outputs": [],
   "source": [
    "a=1000\n",
    "def f1():\n",
    "    def f2():\n",
    "        return a\n",
    "    return f2()"
   ]
  },
  {
   "cell_type": "code",
   "execution_count": 28,
   "id": "5167cb5d",
   "metadata": {},
   "outputs": [
    {
     "data": {
      "text/plain": [
       "1000"
      ]
     },
     "execution_count": 28,
     "metadata": {},
     "output_type": "execute_result"
    }
   ],
   "source": [
    "f1()"
   ]
  },
  {
   "cell_type": "code",
   "execution_count": 29,
   "id": "f971e9d9",
   "metadata": {},
   "outputs": [],
   "source": [
    "a=1000\n",
    "def f1():\n",
    "    a=100\n",
    "    def f2():\n",
    "        a=a+20\n",
    "        return a\n",
    "    return f2()"
   ]
  },
  {
   "cell_type": "code",
   "execution_count": 30,
   "id": "1252e536",
   "metadata": {},
   "outputs": [
    {
     "ename": "UnboundLocalError",
     "evalue": "local variable 'a' referenced before assignment",
     "output_type": "error",
     "traceback": [
      "\u001b[1;31m---------------------------------------------------------------------------\u001b[0m",
      "\u001b[1;31mUnboundLocalError\u001b[0m                         Traceback (most recent call last)",
      "\u001b[1;32m~\\AppData\\Local\\Temp/ipykernel_12924/2719331641.py\u001b[0m in \u001b[0;36m<module>\u001b[1;34m\u001b[0m\n\u001b[1;32m----> 1\u001b[1;33m \u001b[0mf1\u001b[0m\u001b[1;33m(\u001b[0m\u001b[1;33m)\u001b[0m\u001b[1;33m\u001b[0m\u001b[1;33m\u001b[0m\u001b[0m\n\u001b[0m",
      "\u001b[1;32m~\\AppData\\Local\\Temp/ipykernel_12924/2841835118.py\u001b[0m in \u001b[0;36mf1\u001b[1;34m()\u001b[0m\n\u001b[0;32m      5\u001b[0m         \u001b[0ma\u001b[0m\u001b[1;33m=\u001b[0m\u001b[0ma\u001b[0m\u001b[1;33m+\u001b[0m\u001b[1;36m20\u001b[0m\u001b[1;33m\u001b[0m\u001b[1;33m\u001b[0m\u001b[0m\n\u001b[0;32m      6\u001b[0m         \u001b[1;32mreturn\u001b[0m \u001b[0ma\u001b[0m\u001b[1;33m\u001b[0m\u001b[1;33m\u001b[0m\u001b[0m\n\u001b[1;32m----> 7\u001b[1;33m     \u001b[1;32mreturn\u001b[0m \u001b[0mf2\u001b[0m\u001b[1;33m(\u001b[0m\u001b[1;33m)\u001b[0m\u001b[1;33m\u001b[0m\u001b[1;33m\u001b[0m\u001b[0m\n\u001b[0m",
      "\u001b[1;32m~\\AppData\\Local\\Temp/ipykernel_12924/2841835118.py\u001b[0m in \u001b[0;36mf2\u001b[1;34m()\u001b[0m\n\u001b[0;32m      3\u001b[0m     \u001b[0ma\u001b[0m\u001b[1;33m=\u001b[0m\u001b[1;36m100\u001b[0m\u001b[1;33m\u001b[0m\u001b[1;33m\u001b[0m\u001b[0m\n\u001b[0;32m      4\u001b[0m     \u001b[1;32mdef\u001b[0m \u001b[0mf2\u001b[0m\u001b[1;33m(\u001b[0m\u001b[1;33m)\u001b[0m\u001b[1;33m:\u001b[0m\u001b[1;33m\u001b[0m\u001b[1;33m\u001b[0m\u001b[0m\n\u001b[1;32m----> 5\u001b[1;33m         \u001b[0ma\u001b[0m\u001b[1;33m=\u001b[0m\u001b[0ma\u001b[0m\u001b[1;33m+\u001b[0m\u001b[1;36m20\u001b[0m\u001b[1;33m\u001b[0m\u001b[1;33m\u001b[0m\u001b[0m\n\u001b[0m\u001b[0;32m      6\u001b[0m         \u001b[1;32mreturn\u001b[0m \u001b[0ma\u001b[0m\u001b[1;33m\u001b[0m\u001b[1;33m\u001b[0m\u001b[0m\n\u001b[0;32m      7\u001b[0m     \u001b[1;32mreturn\u001b[0m \u001b[0mf2\u001b[0m\u001b[1;33m(\u001b[0m\u001b[1;33m)\u001b[0m\u001b[1;33m\u001b[0m\u001b[1;33m\u001b[0m\u001b[0m\n",
      "\u001b[1;31mUnboundLocalError\u001b[0m: local variable 'a' referenced before assignment"
     ]
    }
   ],
   "source": [
    "f1()"
   ]
  },
  {
   "cell_type": "code",
   "execution_count": 31,
   "id": "fa03eaed",
   "metadata": {},
   "outputs": [],
   "source": [
    "a=1000\n",
    "def f1():\n",
    "    a=100\n",
    "    def f2():\n",
    "        nonlocal a\n",
    "        a=a+20\n",
    "        return a\n",
    "    return f2()"
   ]
  },
  {
   "cell_type": "code",
   "execution_count": 32,
   "id": "be6c4166",
   "metadata": {},
   "outputs": [
    {
     "data": {
      "text/plain": [
       "120"
      ]
     },
     "execution_count": 32,
     "metadata": {},
     "output_type": "execute_result"
    }
   ],
   "source": [
    "f1()"
   ]
  },
  {
   "cell_type": "code",
   "execution_count": 33,
   "id": "f267d534",
   "metadata": {},
   "outputs": [],
   "source": [
    "a=1000\n",
    "def f1():\n",
    "    a=100\n",
    "    def f2():\n",
    "        global a\n",
    "        a=a+20\n",
    "        return a\n",
    "    return f2()"
   ]
  },
  {
   "cell_type": "code",
   "execution_count": 34,
   "id": "b20ae795",
   "metadata": {},
   "outputs": [
    {
     "data": {
      "text/plain": [
       "1020"
      ]
     },
     "execution_count": 34,
     "metadata": {},
     "output_type": "execute_result"
    }
   ],
   "source": [
    "f1()"
   ]
  },
  {
   "cell_type": "code",
   "execution_count": 35,
   "id": "e7d3fcfe",
   "metadata": {},
   "outputs": [],
   "source": [
    "def f1():\n",
    "    m = 111\n",
    "    n = 222\n",
    "    return m+n"
   ]
  },
  {
   "cell_type": "code",
   "execution_count": 36,
   "id": "c6a92ad4",
   "metadata": {},
   "outputs": [],
   "source": [
    "def f2():\n",
    "    return m+n"
   ]
  },
  {
   "cell_type": "code",
   "execution_count": 37,
   "id": "7f77e5a3",
   "metadata": {},
   "outputs": [
    {
     "data": {
      "text/plain": [
       "333"
      ]
     },
     "execution_count": 37,
     "metadata": {},
     "output_type": "execute_result"
    }
   ],
   "source": [
    "f1()"
   ]
  },
  {
   "cell_type": "code",
   "execution_count": 38,
   "id": "ffbc67bc",
   "metadata": {},
   "outputs": [
    {
     "ename": "NameError",
     "evalue": "name 'm' is not defined",
     "output_type": "error",
     "traceback": [
      "\u001b[1;31m---------------------------------------------------------------------------\u001b[0m",
      "\u001b[1;31mNameError\u001b[0m                                 Traceback (most recent call last)",
      "\u001b[1;32m~\\AppData\\Local\\Temp/ipykernel_12924/1603317987.py\u001b[0m in \u001b[0;36m<module>\u001b[1;34m\u001b[0m\n\u001b[1;32m----> 1\u001b[1;33m \u001b[0mf2\u001b[0m\u001b[1;33m(\u001b[0m\u001b[1;33m)\u001b[0m\u001b[1;33m\u001b[0m\u001b[1;33m\u001b[0m\u001b[0m\n\u001b[0m",
      "\u001b[1;32m~\\AppData\\Local\\Temp/ipykernel_12924/1269914521.py\u001b[0m in \u001b[0;36mf2\u001b[1;34m()\u001b[0m\n\u001b[0;32m      1\u001b[0m \u001b[1;32mdef\u001b[0m \u001b[0mf2\u001b[0m\u001b[1;33m(\u001b[0m\u001b[1;33m)\u001b[0m\u001b[1;33m:\u001b[0m\u001b[1;33m\u001b[0m\u001b[1;33m\u001b[0m\u001b[0m\n\u001b[1;32m----> 2\u001b[1;33m     \u001b[1;32mreturn\u001b[0m \u001b[0mm\u001b[0m\u001b[1;33m+\u001b[0m\u001b[0mn\u001b[0m\u001b[1;33m\u001b[0m\u001b[1;33m\u001b[0m\u001b[0m\n\u001b[0m",
      "\u001b[1;31mNameError\u001b[0m: name 'm' is not defined"
     ]
    }
   ],
   "source": [
    "f2()"
   ]
  },
  {
   "cell_type": "code",
   "execution_count": 39,
   "id": "e5a58c9c",
   "metadata": {},
   "outputs": [],
   "source": [
    "def f1():\n",
    "    f1.m = 111\n",
    "    f1.n = 222\n",
    "    return f1.m+f1.n"
   ]
  },
  {
   "cell_type": "code",
   "execution_count": 40,
   "id": "6cd8de2b",
   "metadata": {},
   "outputs": [
    {
     "data": {
      "text/plain": [
       "333"
      ]
     },
     "execution_count": 40,
     "metadata": {},
     "output_type": "execute_result"
    }
   ],
   "source": [
    "f1()"
   ]
  },
  {
   "cell_type": "code",
   "execution_count": 41,
   "id": "846c9e2a",
   "metadata": {},
   "outputs": [],
   "source": [
    "def f2():\n",
    "    return f1.m+f1.n"
   ]
  },
  {
   "cell_type": "code",
   "execution_count": 42,
   "id": "64259d74",
   "metadata": {},
   "outputs": [
    {
     "data": {
      "text/plain": [
       "333"
      ]
     },
     "execution_count": 42,
     "metadata": {},
     "output_type": "execute_result"
    }
   ],
   "source": [
    "f2()"
   ]
  },
  {
   "cell_type": "code",
   "execution_count": 43,
   "id": "e5024bdc",
   "metadata": {},
   "outputs": [
    {
     "data": {
      "text/plain": [
       "111"
      ]
     },
     "execution_count": 43,
     "metadata": {},
     "output_type": "execute_result"
    }
   ],
   "source": [
    "f1.m"
   ]
  },
  {
   "cell_type": "code",
   "execution_count": 44,
   "id": "6eb64a73",
   "metadata": {},
   "outputs": [
    {
     "data": {
      "text/plain": [
       "222"
      ]
     },
     "execution_count": 44,
     "metadata": {},
     "output_type": "execute_result"
    }
   ],
   "source": [
    "f1.n"
   ]
  },
  {
   "cell_type": "code",
   "execution_count": 57,
   "id": "d5e1660d",
   "metadata": {},
   "outputs": [],
   "source": [
    "def f11():\n",
    "    f11.m = 555\n",
    "    f11.n = 666\n",
    "    print(locals())\n",
    "    return f11.m+f11.n"
   ]
  },
  {
   "cell_type": "code",
   "execution_count": 58,
   "id": "f29f29a8",
   "metadata": {},
   "outputs": [
    {
     "ename": "AttributeError",
     "evalue": "'function' object has no attribute 'm'",
     "output_type": "error",
     "traceback": [
      "\u001b[1;31m---------------------------------------------------------------------------\u001b[0m",
      "\u001b[1;31mAttributeError\u001b[0m                            Traceback (most recent call last)",
      "\u001b[1;32m~\\AppData\\Local\\Temp/ipykernel_12924/4256958064.py\u001b[0m in \u001b[0;36m<module>\u001b[1;34m\u001b[0m\n\u001b[1;32m----> 1\u001b[1;33m \u001b[0mf11\u001b[0m\u001b[1;33m.\u001b[0m\u001b[0mm\u001b[0m\u001b[1;33m\u001b[0m\u001b[1;33m\u001b[0m\u001b[0m\n\u001b[0m",
      "\u001b[1;31mAttributeError\u001b[0m: 'function' object has no attribute 'm'"
     ]
    }
   ],
   "source": [
    "f11.m"
   ]
  },
  {
   "cell_type": "code",
   "execution_count": 59,
   "id": "2c00ce3d",
   "metadata": {},
   "outputs": [
    {
     "name": "stdout",
     "output_type": "stream",
     "text": [
      "{}\n"
     ]
    },
    {
     "data": {
      "text/plain": [
       "1221"
      ]
     },
     "execution_count": 59,
     "metadata": {},
     "output_type": "execute_result"
    }
   ],
   "source": [
    "f11()"
   ]
  },
  {
   "cell_type": "code",
   "execution_count": 60,
   "id": "38906329",
   "metadata": {},
   "outputs": [
    {
     "data": {
      "text/plain": [
       "555"
      ]
     },
     "execution_count": 60,
     "metadata": {},
     "output_type": "execute_result"
    }
   ],
   "source": [
    "f11.m"
   ]
  },
  {
   "cell_type": "code",
   "execution_count": 61,
   "id": "2c9476e8",
   "metadata": {},
   "outputs": [],
   "source": [
    "def f11():\n",
    "    f11.m = 111\n",
    "    f11.n = 222\n",
    "    print(locals())\n",
    "    return f11.m+f11.n"
   ]
  },
  {
   "cell_type": "code",
   "execution_count": 62,
   "id": "769f5d5e",
   "metadata": {},
   "outputs": [],
   "source": [
    "def f22():\n",
    "    return f11.m+f11.n"
   ]
  },
  {
   "cell_type": "code",
   "execution_count": 63,
   "id": "4ee69604",
   "metadata": {},
   "outputs": [
    {
     "ename": "AttributeError",
     "evalue": "'function' object has no attribute 'm'",
     "output_type": "error",
     "traceback": [
      "\u001b[1;31m---------------------------------------------------------------------------\u001b[0m",
      "\u001b[1;31mAttributeError\u001b[0m                            Traceback (most recent call last)",
      "\u001b[1;32m~\\AppData\\Local\\Temp/ipykernel_12924/783715948.py\u001b[0m in \u001b[0;36m<module>\u001b[1;34m\u001b[0m\n\u001b[1;32m----> 1\u001b[1;33m \u001b[0mf22\u001b[0m\u001b[1;33m(\u001b[0m\u001b[1;33m)\u001b[0m\u001b[1;33m\u001b[0m\u001b[1;33m\u001b[0m\u001b[0m\n\u001b[0m",
      "\u001b[1;32m~\\AppData\\Local\\Temp/ipykernel_12924/1198801452.py\u001b[0m in \u001b[0;36mf22\u001b[1;34m()\u001b[0m\n\u001b[0;32m      1\u001b[0m \u001b[1;32mdef\u001b[0m \u001b[0mf22\u001b[0m\u001b[1;33m(\u001b[0m\u001b[1;33m)\u001b[0m\u001b[1;33m:\u001b[0m\u001b[1;33m\u001b[0m\u001b[1;33m\u001b[0m\u001b[0m\n\u001b[1;32m----> 2\u001b[1;33m     \u001b[1;32mreturn\u001b[0m \u001b[0mf11\u001b[0m\u001b[1;33m.\u001b[0m\u001b[0mm\u001b[0m\u001b[1;33m+\u001b[0m\u001b[0mf11\u001b[0m\u001b[1;33m.\u001b[0m\u001b[0mn\u001b[0m\u001b[1;33m\u001b[0m\u001b[1;33m\u001b[0m\u001b[0m\n\u001b[0m",
      "\u001b[1;31mAttributeError\u001b[0m: 'function' object has no attribute 'm'"
     ]
    }
   ],
   "source": [
    "f22()"
   ]
  },
  {
   "cell_type": "code",
   "execution_count": 64,
   "id": "26fe70a6",
   "metadata": {},
   "outputs": [],
   "source": [
    "def f22():\n",
    "    f11()\n",
    "    return f11.m+f11.n"
   ]
  },
  {
   "cell_type": "code",
   "execution_count": 65,
   "id": "ba8f7fe1",
   "metadata": {},
   "outputs": [
    {
     "name": "stdout",
     "output_type": "stream",
     "text": [
      "{}\n"
     ]
    },
    {
     "data": {
      "text/plain": [
       "333"
      ]
     },
     "execution_count": 65,
     "metadata": {},
     "output_type": "execute_result"
    }
   ],
   "source": [
    "f22()"
   ]
  },
  {
   "cell_type": "code",
   "execution_count": 66,
   "id": "f9c80038",
   "metadata": {},
   "outputs": [
    {
     "data": {
      "text/plain": [
       "111"
      ]
     },
     "execution_count": 66,
     "metadata": {},
     "output_type": "execute_result"
    }
   ],
   "source": [
    "f11.m"
   ]
  },
  {
   "cell_type": "code",
   "execution_count": 67,
   "id": "72feb8bb",
   "metadata": {},
   "outputs": [
    {
     "data": {
      "text/plain": [
       "222"
      ]
     },
     "execution_count": 67,
     "metadata": {},
     "output_type": "execute_result"
    }
   ],
   "source": [
    "f11.n"
   ]
  },
  {
   "cell_type": "code",
   "execution_count": 70,
   "id": "d605a48d",
   "metadata": {},
   "outputs": [],
   "source": [
    "def f1():\n",
    "    x = 888\n",
    "    y = 999\n",
    "    print(locals())\n",
    "    return x,y"
   ]
  },
  {
   "cell_type": "code",
   "execution_count": 71,
   "id": "53a01b8f",
   "metadata": {},
   "outputs": [
    {
     "name": "stdout",
     "output_type": "stream",
     "text": [
      "{'x': 888, 'y': 999}\n"
     ]
    },
    {
     "data": {
      "text/plain": [
       "(888, 999)"
      ]
     },
     "execution_count": 71,
     "metadata": {},
     "output_type": "execute_result"
    }
   ],
   "source": [
    "f1()"
   ]
  },
  {
   "cell_type": "code",
   "execution_count": 72,
   "id": "4131a6a0",
   "metadata": {},
   "outputs": [
    {
     "ename": "NameError",
     "evalue": "name 'x' is not defined",
     "output_type": "error",
     "traceback": [
      "\u001b[1;31m---------------------------------------------------------------------------\u001b[0m",
      "\u001b[1;31mNameError\u001b[0m                                 Traceback (most recent call last)",
      "\u001b[1;32m~\\AppData\\Local\\Temp/ipykernel_12924/32546335.py\u001b[0m in \u001b[0;36m<module>\u001b[1;34m\u001b[0m\n\u001b[1;32m----> 1\u001b[1;33m \u001b[0mx\u001b[0m\u001b[1;33m\u001b[0m\u001b[1;33m\u001b[0m\u001b[0m\n\u001b[0m",
      "\u001b[1;31mNameError\u001b[0m: name 'x' is not defined"
     ]
    }
   ],
   "source": [
    "x"
   ]
  },
  {
   "cell_type": "code",
   "execution_count": 73,
   "id": "6381e18a",
   "metadata": {},
   "outputs": [
    {
     "ename": "NameError",
     "evalue": "name 'y' is not defined",
     "output_type": "error",
     "traceback": [
      "\u001b[1;31m---------------------------------------------------------------------------\u001b[0m",
      "\u001b[1;31mNameError\u001b[0m                                 Traceback (most recent call last)",
      "\u001b[1;32m~\\AppData\\Local\\Temp/ipykernel_12924/3563912222.py\u001b[0m in \u001b[0;36m<module>\u001b[1;34m\u001b[0m\n\u001b[1;32m----> 1\u001b[1;33m \u001b[0my\u001b[0m\u001b[1;33m\u001b[0m\u001b[1;33m\u001b[0m\u001b[0m\n\u001b[0m",
      "\u001b[1;31mNameError\u001b[0m: name 'y' is not defined"
     ]
    }
   ],
   "source": [
    "y"
   ]
  },
  {
   "cell_type": "code",
   "execution_count": 74,
   "id": "9f3a2450",
   "metadata": {},
   "outputs": [],
   "source": [
    "def f1():\n",
    "    global x,y\n",
    "    x = 333\n",
    "    y = 444\n",
    "    print(locals())\n",
    "    return x,y"
   ]
  },
  {
   "cell_type": "code",
   "execution_count": 75,
   "id": "3fb50027",
   "metadata": {},
   "outputs": [
    {
     "name": "stdout",
     "output_type": "stream",
     "text": [
      "{}\n"
     ]
    },
    {
     "data": {
      "text/plain": [
       "(333, 444)"
      ]
     },
     "execution_count": 75,
     "metadata": {},
     "output_type": "execute_result"
    }
   ],
   "source": [
    "f1()"
   ]
  },
  {
   "cell_type": "code",
   "execution_count": 76,
   "id": "bae22bb3",
   "metadata": {},
   "outputs": [
    {
     "data": {
      "text/plain": [
       "333"
      ]
     },
     "execution_count": 76,
     "metadata": {},
     "output_type": "execute_result"
    }
   ],
   "source": [
    "x"
   ]
  },
  {
   "cell_type": "code",
   "execution_count": 77,
   "id": "b1d708f3",
   "metadata": {},
   "outputs": [
    {
     "data": {
      "text/plain": [
       "444"
      ]
     },
     "execution_count": 77,
     "metadata": {},
     "output_type": "execute_result"
    }
   ],
   "source": [
    "y"
   ]
  },
  {
   "cell_type": "code",
   "execution_count": 78,
   "id": "c84b6029",
   "metadata": {},
   "outputs": [],
   "source": [
    "L1 = [10,20]"
   ]
  },
  {
   "cell_type": "code",
   "execution_count": 79,
   "id": "cd05b647",
   "metadata": {},
   "outputs": [],
   "source": [
    "c,d = L1"
   ]
  },
  {
   "cell_type": "code",
   "execution_count": 80,
   "id": "0caf41e9",
   "metadata": {},
   "outputs": [
    {
     "data": {
      "text/plain": [
       "10"
      ]
     },
     "execution_count": 80,
     "metadata": {},
     "output_type": "execute_result"
    }
   ],
   "source": [
    "c"
   ]
  },
  {
   "cell_type": "code",
   "execution_count": 81,
   "id": "89848e37",
   "metadata": {},
   "outputs": [
    {
     "data": {
      "text/plain": [
       "20"
      ]
     },
     "execution_count": 81,
     "metadata": {},
     "output_type": "execute_result"
    }
   ],
   "source": [
    "d"
   ]
  },
  {
   "cell_type": "code",
   "execution_count": 83,
   "id": "f7ab258e",
   "metadata": {},
   "outputs": [],
   "source": [
    "def f1():\n",
    "    L1 = [10,20]\n",
    "    return L1"
   ]
  },
  {
   "cell_type": "code",
   "execution_count": 84,
   "id": "32f2f64a",
   "metadata": {},
   "outputs": [],
   "source": [
    "e,f = f1()"
   ]
  },
  {
   "cell_type": "code",
   "execution_count": 85,
   "id": "338bc362",
   "metadata": {},
   "outputs": [
    {
     "data": {
      "text/plain": [
       "10"
      ]
     },
     "execution_count": 85,
     "metadata": {},
     "output_type": "execute_result"
    }
   ],
   "source": [
    "e"
   ]
  },
  {
   "cell_type": "code",
   "execution_count": 86,
   "id": "905fdc1d",
   "metadata": {},
   "outputs": [
    {
     "data": {
      "text/plain": [
       "20"
      ]
     },
     "execution_count": 86,
     "metadata": {},
     "output_type": "execute_result"
    }
   ],
   "source": [
    "f"
   ]
  },
  {
   "cell_type": "code",
   "execution_count": 87,
   "id": "26d8ac8d",
   "metadata": {},
   "outputs": [],
   "source": [
    "def f1():\n",
    "    return 10,20,30"
   ]
  },
  {
   "cell_type": "code",
   "execution_count": 88,
   "id": "19458bc7",
   "metadata": {},
   "outputs": [],
   "source": [
    "a,b,c = f1()"
   ]
  },
  {
   "cell_type": "code",
   "execution_count": 89,
   "id": "2db8797a",
   "metadata": {},
   "outputs": [
    {
     "name": "stdout",
     "output_type": "stream",
     "text": [
      "10\n",
      "20\n",
      "30\n"
     ]
    }
   ],
   "source": [
    "print(a)\n",
    "print(b)\n",
    "print(c)"
   ]
  },
  {
   "cell_type": "code",
   "execution_count": null,
   "id": "1aaa4684",
   "metadata": {},
   "outputs": [],
   "source": [
    "# * , ** , *args , **kwargs"
   ]
  },
  {
   "cell_type": "code",
   "execution_count": 90,
   "id": "02e31952",
   "metadata": {},
   "outputs": [],
   "source": [
    "L1 = [10,20,30,40,50]"
   ]
  },
  {
   "cell_type": "code",
   "execution_count": 91,
   "id": "d133ac9d",
   "metadata": {},
   "outputs": [
    {
     "name": "stdout",
     "output_type": "stream",
     "text": [
      "[10, 20, 30, 40, 50]\n"
     ]
    }
   ],
   "source": [
    "print(L1)"
   ]
  },
  {
   "cell_type": "code",
   "execution_count": 92,
   "id": "85311fc6",
   "metadata": {},
   "outputs": [
    {
     "name": "stdout",
     "output_type": "stream",
     "text": [
      "10 20 30 40 50 "
     ]
    }
   ],
   "source": [
    "for i in L1:\n",
    "    print(i,end=\" \")"
   ]
  },
  {
   "cell_type": "code",
   "execution_count": 93,
   "id": "62ff90a9",
   "metadata": {},
   "outputs": [
    {
     "name": "stdout",
     "output_type": "stream",
     "text": [
      "10 20 30 40 50\n"
     ]
    }
   ],
   "source": [
    "print(*L1)"
   ]
  },
  {
   "cell_type": "code",
   "execution_count": 94,
   "id": "9af5740c",
   "metadata": {},
   "outputs": [],
   "source": [
    "r1=range(0,26,5)"
   ]
  },
  {
   "cell_type": "code",
   "execution_count": 95,
   "id": "ab3e023a",
   "metadata": {},
   "outputs": [
    {
     "name": "stdout",
     "output_type": "stream",
     "text": [
      "0 5 10 15 20 25\n"
     ]
    }
   ],
   "source": [
    "print(*r1)"
   ]
  },
  {
   "cell_type": "code",
   "execution_count": 96,
   "id": "9b3ea2ec",
   "metadata": {},
   "outputs": [],
   "source": [
    "def f1(a,b):\n",
    "    return a+b"
   ]
  },
  {
   "cell_type": "code",
   "execution_count": 97,
   "id": "7d199233",
   "metadata": {},
   "outputs": [
    {
     "data": {
      "text/plain": [
       "30"
      ]
     },
     "execution_count": 97,
     "metadata": {},
     "output_type": "execute_result"
    }
   ],
   "source": [
    "f1(10,20)"
   ]
  },
  {
   "cell_type": "code",
   "execution_count": 98,
   "id": "9ff1ceee",
   "metadata": {},
   "outputs": [
    {
     "data": {
      "text/plain": [
       "6"
      ]
     },
     "execution_count": 98,
     "metadata": {},
     "output_type": "execute_result"
    }
   ],
   "source": [
    "max(1,2,3,4,5,6)"
   ]
  },
  {
   "cell_type": "code",
   "execution_count": 99,
   "id": "7fdb734e",
   "metadata": {},
   "outputs": [
    {
     "data": {
      "text/plain": [
       "3"
      ]
     },
     "execution_count": 99,
     "metadata": {},
     "output_type": "execute_result"
    }
   ],
   "source": [
    "max(1,2,3)"
   ]
  },
  {
   "cell_type": "code",
   "execution_count": 100,
   "id": "8057a08f",
   "metadata": {},
   "outputs": [
    {
     "data": {
      "text/plain": [
       "4"
      ]
     },
     "execution_count": 100,
     "metadata": {},
     "output_type": "execute_result"
    }
   ],
   "source": [
    "max(3,4)"
   ]
  },
  {
   "cell_type": "code",
   "execution_count": 101,
   "id": "820acd46",
   "metadata": {},
   "outputs": [],
   "source": [
    "def f1(*args):\n",
    "    return args"
   ]
  },
  {
   "cell_type": "code",
   "execution_count": 102,
   "id": "4250404a",
   "metadata": {},
   "outputs": [
    {
     "data": {
      "text/plain": [
       "(1, 2, 3)"
      ]
     },
     "execution_count": 102,
     "metadata": {},
     "output_type": "execute_result"
    }
   ],
   "source": [
    "f1(1,2,3)"
   ]
  },
  {
   "cell_type": "code",
   "execution_count": 103,
   "id": "f979fb11",
   "metadata": {},
   "outputs": [
    {
     "data": {
      "text/plain": [
       "(1, 2, 3, 4, 5, 6)"
      ]
     },
     "execution_count": 103,
     "metadata": {},
     "output_type": "execute_result"
    }
   ],
   "source": [
    "f1(1,2,3,4,5,6)"
   ]
  },
  {
   "cell_type": "code",
   "execution_count": 104,
   "id": "4caf8882",
   "metadata": {},
   "outputs": [],
   "source": [
    "args = (1,2,3)"
   ]
  },
  {
   "cell_type": "code",
   "execution_count": 105,
   "id": "f874ce6c",
   "metadata": {},
   "outputs": [
    {
     "name": "stdout",
     "output_type": "stream",
     "text": [
      "1 2 3\n"
     ]
    }
   ],
   "source": [
    "print(*args)"
   ]
  },
  {
   "cell_type": "code",
   "execution_count": 106,
   "id": "3f9dfb03",
   "metadata": {},
   "outputs": [
    {
     "data": {
      "text/plain": [
       "(1, 2, 3, 4, 5, 6)"
      ]
     },
     "execution_count": 106,
     "metadata": {},
     "output_type": "execute_result"
    }
   ],
   "source": [
    "f1(1,2,3,4,5,6)"
   ]
  },
  {
   "cell_type": "code",
   "execution_count": 107,
   "id": "c201d2eb",
   "metadata": {},
   "outputs": [
    {
     "data": {
      "text/plain": [
       "(10,)"
      ]
     },
     "execution_count": 107,
     "metadata": {},
     "output_type": "execute_result"
    }
   ],
   "source": [
    "f1(10)"
   ]
  },
  {
   "cell_type": "code",
   "execution_count": 108,
   "id": "f1e35581",
   "metadata": {},
   "outputs": [],
   "source": [
    "def f1(*customers):\n",
    "    return customers"
   ]
  },
  {
   "cell_type": "code",
   "execution_count": 109,
   "id": "72402565",
   "metadata": {},
   "outputs": [
    {
     "data": {
      "text/plain": [
       "('ravi', 'ramesh', 'suresh', 'surendra')"
      ]
     },
     "execution_count": 109,
     "metadata": {},
     "output_type": "execute_result"
    }
   ],
   "source": [
    "f1(\"ravi\",\"ramesh\",'suresh','surendra')"
   ]
  },
  {
   "cell_type": "code",
   "execution_count": 110,
   "id": "9c6a1d24",
   "metadata": {},
   "outputs": [],
   "source": [
    "def pymax1(*args):\n",
    "    mx = args[0]\n",
    "    for i in args:\n",
    "        if i>mx:\n",
    "            mx=i\n",
    "    return mx"
   ]
  },
  {
   "cell_type": "code",
   "execution_count": 111,
   "id": "1e562dfe",
   "metadata": {},
   "outputs": [
    {
     "data": {
      "text/plain": [
       "33"
      ]
     },
     "execution_count": 111,
     "metadata": {},
     "output_type": "execute_result"
    }
   ],
   "source": [
    "pymax1(1,2,33,4,5)"
   ]
  },
  {
   "cell_type": "code",
   "execution_count": 112,
   "id": "3edbf205",
   "metadata": {},
   "outputs": [
    {
     "ename": "IndexError",
     "evalue": "tuple index out of range",
     "output_type": "error",
     "traceback": [
      "\u001b[1;31m---------------------------------------------------------------------------\u001b[0m",
      "\u001b[1;31mIndexError\u001b[0m                                Traceback (most recent call last)",
      "\u001b[1;32m~\\AppData\\Local\\Temp/ipykernel_12924/3626698456.py\u001b[0m in \u001b[0;36m<module>\u001b[1;34m\u001b[0m\n\u001b[1;32m----> 1\u001b[1;33m \u001b[0mpymax1\u001b[0m\u001b[1;33m(\u001b[0m\u001b[1;33m)\u001b[0m\u001b[1;33m\u001b[0m\u001b[1;33m\u001b[0m\u001b[0m\n\u001b[0m",
      "\u001b[1;32m~\\AppData\\Local\\Temp/ipykernel_12924/2406639377.py\u001b[0m in \u001b[0;36mpymax1\u001b[1;34m(*args)\u001b[0m\n\u001b[0;32m      1\u001b[0m \u001b[1;32mdef\u001b[0m \u001b[0mpymax1\u001b[0m\u001b[1;33m(\u001b[0m\u001b[1;33m*\u001b[0m\u001b[0margs\u001b[0m\u001b[1;33m)\u001b[0m\u001b[1;33m:\u001b[0m\u001b[1;33m\u001b[0m\u001b[1;33m\u001b[0m\u001b[0m\n\u001b[1;32m----> 2\u001b[1;33m     \u001b[0mmx\u001b[0m \u001b[1;33m=\u001b[0m \u001b[0margs\u001b[0m\u001b[1;33m[\u001b[0m\u001b[1;36m0\u001b[0m\u001b[1;33m]\u001b[0m\u001b[1;33m\u001b[0m\u001b[1;33m\u001b[0m\u001b[0m\n\u001b[0m\u001b[0;32m      3\u001b[0m     \u001b[1;32mfor\u001b[0m \u001b[0mi\u001b[0m \u001b[1;32min\u001b[0m \u001b[0margs\u001b[0m\u001b[1;33m:\u001b[0m\u001b[1;33m\u001b[0m\u001b[1;33m\u001b[0m\u001b[0m\n\u001b[0;32m      4\u001b[0m         \u001b[1;32mif\u001b[0m \u001b[0mi\u001b[0m\u001b[1;33m>\u001b[0m\u001b[0mmx\u001b[0m\u001b[1;33m:\u001b[0m\u001b[1;33m\u001b[0m\u001b[1;33m\u001b[0m\u001b[0m\n\u001b[0;32m      5\u001b[0m             \u001b[0mmx\u001b[0m\u001b[1;33m=\u001b[0m\u001b[0mi\u001b[0m\u001b[1;33m\u001b[0m\u001b[1;33m\u001b[0m\u001b[0m\n",
      "\u001b[1;31mIndexError\u001b[0m: tuple index out of range"
     ]
    }
   ],
   "source": [
    "pymax1()"
   ]
  },
  {
   "cell_type": "code",
   "execution_count": 113,
   "id": "41a8aa55",
   "metadata": {},
   "outputs": [],
   "source": [
    "def pymax1(*args):\n",
    "    try:\n",
    "        mx = args[0]\n",
    "    except(IndexError):\n",
    "        return \"pymax1 expected at least 1 argument, got 0\"\n",
    "    else:\n",
    "        for i in args:\n",
    "            if i>mx:\n",
    "                mx=i\n",
    "        return mx"
   ]
  },
  {
   "cell_type": "code",
   "execution_count": 114,
   "id": "ec1c0d91",
   "metadata": {},
   "outputs": [
    {
     "data": {
      "text/plain": [
       "5"
      ]
     },
     "execution_count": 114,
     "metadata": {},
     "output_type": "execute_result"
    }
   ],
   "source": [
    "pymax1(1,2,3,4,5)"
   ]
  },
  {
   "cell_type": "code",
   "execution_count": 115,
   "id": "3f491cbb",
   "metadata": {},
   "outputs": [
    {
     "data": {
      "text/plain": [
       "'pymax1 expected at least 1 argument, got 0'"
      ]
     },
     "execution_count": 115,
     "metadata": {},
     "output_type": "execute_result"
    }
   ],
   "source": [
    "pymax1()"
   ]
  },
  {
   "cell_type": "code",
   "execution_count": 116,
   "id": "de5622f1",
   "metadata": {},
   "outputs": [],
   "source": [
    "def f1(*args):\n",
    "    return args"
   ]
  },
  {
   "cell_type": "code",
   "execution_count": 117,
   "id": "d5b7d4be",
   "metadata": {},
   "outputs": [
    {
     "data": {
      "text/plain": [
       "(1, 2, 3, 4, 5)"
      ]
     },
     "execution_count": 117,
     "metadata": {},
     "output_type": "execute_result"
    }
   ],
   "source": [
    "f1(1,2,3,4,5)"
   ]
  },
  {
   "cell_type": "code",
   "execution_count": 118,
   "id": "83ebce9e",
   "metadata": {},
   "outputs": [
    {
     "ename": "TypeError",
     "evalue": "f1() got an unexpected keyword argument 'a'",
     "output_type": "error",
     "traceback": [
      "\u001b[1;31m---------------------------------------------------------------------------\u001b[0m",
      "\u001b[1;31mTypeError\u001b[0m                                 Traceback (most recent call last)",
      "\u001b[1;32m~\\AppData\\Local\\Temp/ipykernel_12924/59790356.py\u001b[0m in \u001b[0;36m<module>\u001b[1;34m\u001b[0m\n\u001b[1;32m----> 1\u001b[1;33m \u001b[0mf1\u001b[0m\u001b[1;33m(\u001b[0m\u001b[0ma\u001b[0m\u001b[1;33m=\u001b[0m\u001b[1;36m1\u001b[0m\u001b[1;33m,\u001b[0m\u001b[0mb\u001b[0m\u001b[1;33m=\u001b[0m\u001b[1;36m2\u001b[0m\u001b[1;33m,\u001b[0m\u001b[0mc\u001b[0m\u001b[1;33m=\u001b[0m\u001b[1;36m3\u001b[0m\u001b[1;33m)\u001b[0m\u001b[1;33m\u001b[0m\u001b[1;33m\u001b[0m\u001b[0m\n\u001b[0m",
      "\u001b[1;31mTypeError\u001b[0m: f1() got an unexpected keyword argument 'a'"
     ]
    }
   ],
   "source": [
    "f1(a=1,b=2,c=3)"
   ]
  },
  {
   "cell_type": "code",
   "execution_count": null,
   "id": "4ff48c80",
   "metadata": {},
   "outputs": [],
   "source": [
    "#**"
   ]
  },
  {
   "cell_type": "code",
   "execution_count": 119,
   "id": "c9f9817f",
   "metadata": {},
   "outputs": [],
   "source": [
    "def f2(**kwargs):\n",
    "    return kwargs"
   ]
  },
  {
   "cell_type": "code",
   "execution_count": 120,
   "id": "f3743ec6",
   "metadata": {},
   "outputs": [
    {
     "data": {
      "text/plain": [
       "{'a': 1, 'b': 2, 'c': 3}"
      ]
     },
     "execution_count": 120,
     "metadata": {},
     "output_type": "execute_result"
    }
   ],
   "source": [
    "f2(a=1,b=2,c=3)"
   ]
  },
  {
   "cell_type": "code",
   "execution_count": 121,
   "id": "b2b1757f",
   "metadata": {},
   "outputs": [],
   "source": [
    "D1 = {'a': 1, 'b': 2, 'c': 3}"
   ]
  },
  {
   "cell_type": "code",
   "execution_count": 122,
   "id": "7fe8b096",
   "metadata": {},
   "outputs": [
    {
     "data": {
      "text/plain": [
       "dict_values([1, 2, 3])"
      ]
     },
     "execution_count": 122,
     "metadata": {},
     "output_type": "execute_result"
    }
   ],
   "source": [
    "D1.values()"
   ]
  },
  {
   "cell_type": "code",
   "execution_count": 123,
   "id": "d30cfb8e",
   "metadata": {},
   "outputs": [
    {
     "ename": "TypeError",
     "evalue": "'dict_values' object is not subscriptable",
     "output_type": "error",
     "traceback": [
      "\u001b[1;31m---------------------------------------------------------------------------\u001b[0m",
      "\u001b[1;31mTypeError\u001b[0m                                 Traceback (most recent call last)",
      "\u001b[1;32m~\\AppData\\Local\\Temp/ipykernel_12924/1880430197.py\u001b[0m in \u001b[0;36m<module>\u001b[1;34m\u001b[0m\n\u001b[1;32m----> 1\u001b[1;33m \u001b[0mD1\u001b[0m\u001b[1;33m.\u001b[0m\u001b[0mvalues\u001b[0m\u001b[1;33m(\u001b[0m\u001b[1;33m)\u001b[0m\u001b[1;33m[\u001b[0m\u001b[1;36m0\u001b[0m\u001b[1;33m]\u001b[0m\u001b[1;33m\u001b[0m\u001b[1;33m\u001b[0m\u001b[0m\n\u001b[0m",
      "\u001b[1;31mTypeError\u001b[0m: 'dict_values' object is not subscriptable"
     ]
    }
   ],
   "source": [
    "D1.values()[0]"
   ]
  },
  {
   "cell_type": "code",
   "execution_count": 124,
   "id": "5ed5f334",
   "metadata": {},
   "outputs": [
    {
     "data": {
      "text/plain": [
       "[1, 2, 3]"
      ]
     },
     "execution_count": 124,
     "metadata": {},
     "output_type": "execute_result"
    }
   ],
   "source": [
    "list(D1.values())"
   ]
  },
  {
   "cell_type": "code",
   "execution_count": 125,
   "id": "a8eb21c0",
   "metadata": {},
   "outputs": [
    {
     "data": {
      "text/plain": [
       "1"
      ]
     },
     "execution_count": 125,
     "metadata": {},
     "output_type": "execute_result"
    }
   ],
   "source": [
    "list(D1.values())[0]"
   ]
  },
  {
   "cell_type": "code",
   "execution_count": 126,
   "id": "9f1409b5",
   "metadata": {},
   "outputs": [],
   "source": [
    "def pymax2(**kwargs):\n",
    "    mx = list(kwargs.values())[0]\n",
    "    for i in kwargs.values():\n",
    "        if i>mx:\n",
    "            mx=i\n",
    "    return mx"
   ]
  },
  {
   "cell_type": "code",
   "execution_count": 127,
   "id": "670dfe54",
   "metadata": {},
   "outputs": [
    {
     "data": {
      "text/plain": [
       "3"
      ]
     },
     "execution_count": 127,
     "metadata": {},
     "output_type": "execute_result"
    }
   ],
   "source": [
    "pymax2(a=1,b=2,c=3)"
   ]
  },
  {
   "cell_type": "code",
   "execution_count": 128,
   "id": "1c347b2e",
   "metadata": {},
   "outputs": [
    {
     "ename": "IndexError",
     "evalue": "list index out of range",
     "output_type": "error",
     "traceback": [
      "\u001b[1;31m---------------------------------------------------------------------------\u001b[0m",
      "\u001b[1;31mIndexError\u001b[0m                                Traceback (most recent call last)",
      "\u001b[1;32m~\\AppData\\Local\\Temp/ipykernel_12924/1250211902.py\u001b[0m in \u001b[0;36m<module>\u001b[1;34m\u001b[0m\n\u001b[1;32m----> 1\u001b[1;33m \u001b[0mpymax2\u001b[0m\u001b[1;33m(\u001b[0m\u001b[1;33m)\u001b[0m\u001b[1;33m\u001b[0m\u001b[1;33m\u001b[0m\u001b[0m\n\u001b[0m",
      "\u001b[1;32m~\\AppData\\Local\\Temp/ipykernel_12924/3303653607.py\u001b[0m in \u001b[0;36mpymax2\u001b[1;34m(**kwargs)\u001b[0m\n\u001b[0;32m      1\u001b[0m \u001b[1;32mdef\u001b[0m \u001b[0mpymax2\u001b[0m\u001b[1;33m(\u001b[0m\u001b[1;33m**\u001b[0m\u001b[0mkwargs\u001b[0m\u001b[1;33m)\u001b[0m\u001b[1;33m:\u001b[0m\u001b[1;33m\u001b[0m\u001b[1;33m\u001b[0m\u001b[0m\n\u001b[1;32m----> 2\u001b[1;33m     \u001b[0mmx\u001b[0m \u001b[1;33m=\u001b[0m \u001b[0mlist\u001b[0m\u001b[1;33m(\u001b[0m\u001b[0mkwargs\u001b[0m\u001b[1;33m.\u001b[0m\u001b[0mvalues\u001b[0m\u001b[1;33m(\u001b[0m\u001b[1;33m)\u001b[0m\u001b[1;33m)\u001b[0m\u001b[1;33m[\u001b[0m\u001b[1;36m0\u001b[0m\u001b[1;33m]\u001b[0m\u001b[1;33m\u001b[0m\u001b[1;33m\u001b[0m\u001b[0m\n\u001b[0m\u001b[0;32m      3\u001b[0m     \u001b[1;32mfor\u001b[0m \u001b[0mi\u001b[0m \u001b[1;32min\u001b[0m \u001b[0mkwargs\u001b[0m\u001b[1;33m.\u001b[0m\u001b[0mvalues\u001b[0m\u001b[1;33m(\u001b[0m\u001b[1;33m)\u001b[0m\u001b[1;33m:\u001b[0m\u001b[1;33m\u001b[0m\u001b[1;33m\u001b[0m\u001b[0m\n\u001b[0;32m      4\u001b[0m         \u001b[1;32mif\u001b[0m \u001b[0mi\u001b[0m\u001b[1;33m>\u001b[0m\u001b[0mmx\u001b[0m\u001b[1;33m:\u001b[0m\u001b[1;33m\u001b[0m\u001b[1;33m\u001b[0m\u001b[0m\n\u001b[0;32m      5\u001b[0m             \u001b[0mmx\u001b[0m\u001b[1;33m=\u001b[0m\u001b[0mi\u001b[0m\u001b[1;33m\u001b[0m\u001b[1;33m\u001b[0m\u001b[0m\n",
      "\u001b[1;31mIndexError\u001b[0m: list index out of range"
     ]
    }
   ],
   "source": [
    "pymax2()"
   ]
  },
  {
   "cell_type": "code",
   "execution_count": 129,
   "id": "30a7f657",
   "metadata": {},
   "outputs": [],
   "source": [
    "def pymax2(**kwargs):\n",
    "    try:\n",
    "        mx = list(kwargs.values())[0]\n",
    "    except(IndexError):\n",
    "        return \"pymax2 expected at least 1 argument, got 0\"\n",
    "    else:\n",
    "        for i in kwargs.values():\n",
    "            if i>mx:\n",
    "                mx=i\n",
    "        return mx"
   ]
  },
  {
   "cell_type": "code",
   "execution_count": 130,
   "id": "c49f0f98",
   "metadata": {},
   "outputs": [
    {
     "data": {
      "text/plain": [
       "3"
      ]
     },
     "execution_count": 130,
     "metadata": {},
     "output_type": "execute_result"
    }
   ],
   "source": [
    "pymax2(a=1,b=2,c=3)"
   ]
  },
  {
   "cell_type": "code",
   "execution_count": 131,
   "id": "61ed0e08",
   "metadata": {},
   "outputs": [
    {
     "data": {
      "text/plain": [
       "'pymax2 expected at least 1 argument, got 0'"
      ]
     },
     "execution_count": 131,
     "metadata": {},
     "output_type": "execute_result"
    }
   ],
   "source": [
    "pymax2()"
   ]
  },
  {
   "cell_type": "code",
   "execution_count": 132,
   "id": "56139913",
   "metadata": {},
   "outputs": [
    {
     "ename": "TypeError",
     "evalue": "pymax2() takes 0 positional arguments but 5 were given",
     "output_type": "error",
     "traceback": [
      "\u001b[1;31m---------------------------------------------------------------------------\u001b[0m",
      "\u001b[1;31mTypeError\u001b[0m                                 Traceback (most recent call last)",
      "\u001b[1;32m~\\AppData\\Local\\Temp/ipykernel_12924/1837099745.py\u001b[0m in \u001b[0;36m<module>\u001b[1;34m\u001b[0m\n\u001b[1;32m----> 1\u001b[1;33m \u001b[0mpymax2\u001b[0m\u001b[1;33m(\u001b[0m\u001b[1;36m1\u001b[0m\u001b[1;33m,\u001b[0m\u001b[1;36m2\u001b[0m\u001b[1;33m,\u001b[0m\u001b[1;36m3\u001b[0m\u001b[1;33m,\u001b[0m\u001b[1;36m4\u001b[0m\u001b[1;33m,\u001b[0m\u001b[1;36m5\u001b[0m\u001b[1;33m)\u001b[0m\u001b[1;33m\u001b[0m\u001b[1;33m\u001b[0m\u001b[0m\n\u001b[0m",
      "\u001b[1;31mTypeError\u001b[0m: pymax2() takes 0 positional arguments but 5 were given"
     ]
    }
   ],
   "source": [
    "pymax2(1,2,3,4,5)"
   ]
  },
  {
   "cell_type": "code",
   "execution_count": 133,
   "id": "ec6c8a40",
   "metadata": {},
   "outputs": [],
   "source": [
    "def pymax3(*args,**kwargs):\n",
    "    if args:\n",
    "        try:\n",
    "            mx = args[0]\n",
    "        except(IndexError):\n",
    "            return \"pymax3 expected at least 1 argument, got 0\"\n",
    "        else:\n",
    "            for i in args:\n",
    "                if i>mx:\n",
    "                    mx=i\n",
    "            return mx\n",
    "    elif kwargs:\n",
    "        try:\n",
    "            mx = list(kwargs.values())[0]\n",
    "        except(IndexError):\n",
    "            return \"pymax3 expected at least 1 argument, got 0\"\n",
    "        else:\n",
    "            for i in kwargs.values():\n",
    "                if i>mx:\n",
    "                    mx=i\n",
    "            return mx\n",
    "    else:\n",
    "        return \"Invalid Arguments\""
   ]
  },
  {
   "cell_type": "code",
   "execution_count": 134,
   "id": "0c3ddbc0",
   "metadata": {},
   "outputs": [
    {
     "data": {
      "text/plain": [
       "7"
      ]
     },
     "execution_count": 134,
     "metadata": {},
     "output_type": "execute_result"
    }
   ],
   "source": [
    "pymax3(1,2,3,4,5,6,7)"
   ]
  },
  {
   "cell_type": "code",
   "execution_count": 135,
   "id": "ca165980",
   "metadata": {},
   "outputs": [
    {
     "data": {
      "text/plain": [
       "24"
      ]
     },
     "execution_count": 135,
     "metadata": {},
     "output_type": "execute_result"
    }
   ],
   "source": [
    "pymax3(a=1,b=24,c=3)"
   ]
  },
  {
   "cell_type": "code",
   "execution_count": 136,
   "id": "c234e1d6",
   "metadata": {},
   "outputs": [
    {
     "data": {
      "text/plain": [
       "4"
      ]
     },
     "execution_count": 136,
     "metadata": {},
     "output_type": "execute_result"
    }
   ],
   "source": [
    "pymax3(1,2,3,4,a=100,b=200)"
   ]
  },
  {
   "cell_type": "code",
   "execution_count": 137,
   "id": "34635243",
   "metadata": {},
   "outputs": [
    {
     "data": {
      "text/plain": [
       "'n'"
      ]
     },
     "execution_count": 137,
     "metadata": {},
     "output_type": "execute_result"
    }
   ],
   "source": [
    "max('a','n','d')"
   ]
  },
  {
   "cell_type": "code",
   "execution_count": 138,
   "id": "ad8e7562",
   "metadata": {},
   "outputs": [
    {
     "data": {
      "text/plain": [
       "110"
      ]
     },
     "execution_count": 138,
     "metadata": {},
     "output_type": "execute_result"
    }
   ],
   "source": [
    "ord('n')"
   ]
  },
  {
   "cell_type": "code",
   "execution_count": 139,
   "id": "a0e8e748",
   "metadata": {},
   "outputs": [
    {
     "data": {
      "text/plain": [
       "100"
      ]
     },
     "execution_count": 139,
     "metadata": {},
     "output_type": "execute_result"
    }
   ],
   "source": [
    "ord('d')"
   ]
  },
  {
   "cell_type": "code",
   "execution_count": 140,
   "id": "41d74037",
   "metadata": {},
   "outputs": [
    {
     "data": {
      "text/plain": [
       "'welcome'"
      ]
     },
     "execution_count": 140,
     "metadata": {},
     "output_type": "execute_result"
    }
   ],
   "source": [
    "max(\"hi\",\"welcome\")"
   ]
  },
  {
   "cell_type": "code",
   "execution_count": 141,
   "id": "1a90087b",
   "metadata": {},
   "outputs": [
    {
     "data": {
      "text/plain": [
       "'abd'"
      ]
     },
     "execution_count": 141,
     "metadata": {},
     "output_type": "execute_result"
    }
   ],
   "source": [
    "max(\"abc\",\"abd\")"
   ]
  },
  {
   "cell_type": "code",
   "execution_count": 142,
   "id": "57f5af2f",
   "metadata": {},
   "outputs": [],
   "source": [
    "class CourseNotFoundError(Exception):\n",
    "    pass"
   ]
  },
  {
   "cell_type": "code",
   "execution_count": null,
   "id": "f5fb1ae9",
   "metadata": {},
   "outputs": [],
   "source": [
    "import re\n",
    "fname=\"D:/pfiles/students.txt\"\n",
    "try:\n",
    "    fobj=open(fname)\n",
    "    course = input(\"Enter a Course Name = \").replace(\" \",\"\")\n",
    "    for i in fobj:\n",
    "        if re.fullmatch(re.escape(course),i.split(\",\")[2].replace(\" \",\"\"),re.I):\n",
    "            break\n",
    "    else:\n",
    "        raise CourseNotFoundError\n",
    "except(FileNotFoundError):\n",
    "    print(\"Given file name not existed at \",fname)\n",
    "except(CourseNotFoundError):\n",
    "    print(\"Given Course {} is not existed in this file {}\".format(course,fname))\n",
    "else:\n",
    "    cnt=0\n",
    "    rev=0\n",
    "    with open(fname) as fobj:\n",
    "        for i in fobj:\n",
    "            if re.fullmatch(re.escape(course),i.split(\",\")[2].replace(\" \",\"\"),re.I):\n",
    "                cnt+=1\n",
    "                rev+=int(i.split(\",\")[3])\n",
    "    print(\"Total Number of students {} and Revenue for {} course is {}\".format(cnt,course,rev))\n",
    "finally:\n",
    "    fobj.close()"
   ]
  },
  {
   "cell_type": "code",
   "execution_count": null,
   "id": "8e623c42",
   "metadata": {},
   "outputs": [],
   "source": [
    "def findstudents(course):\n",
    "    import re\n",
    "    fname=\"D:/pfiles/students.txt\"\n",
    "    try:\n",
    "        fobj=open(fname)\n",
    "        course = course.replace(\" \",\"\")\n",
    "        for i in fobj:\n",
    "            if re.fullmatch(re.escape(course),i.split(\",\")[2].replace(\" \",\"\"),re.I):\n",
    "                break\n",
    "        else:\n",
    "            raise CourseNotFoundError\n",
    "    except(FileNotFoundError):\n",
    "        print(\"Given file name not existed at \",fname)\n",
    "    except(CourseNotFoundError):\n",
    "        print(\"Given Course {} is not existed in this file {}\".format(course,fname))\n",
    "    else:\n",
    "        cnt=0\n",
    "        rev=0\n",
    "        with open(fname) as fobj:\n",
    "            for i in fobj:\n",
    "                if re.fullmatch(re.escape(course),i.split(\",\")[2].replace(\" \",\"\"),re.I):\n",
    "                    cnt+=1\n",
    "                    rev+=int(i.split(\",\")[3])\n",
    "        print(\"Total Number of students {} and Revenue for {} course is {}\".format(cnt,course,rev))\n",
    "    finally:\n",
    "        fobj.close()"
   ]
  },
  {
   "cell_type": "code",
   "execution_count": null,
   "id": "242b0f8e",
   "metadata": {},
   "outputs": [],
   "source": [
    "findstudents(\"sap\")"
   ]
  },
  {
   "cell_type": "code",
   "execution_count": null,
   "id": "686143cc",
   "metadata": {},
   "outputs": [],
   "source": []
  },
  {
   "cell_type": "code",
   "execution_count": null,
   "id": "63d25d34",
   "metadata": {},
   "outputs": [],
   "source": []
  },
  {
   "cell_type": "code",
   "execution_count": null,
   "id": "2290b7fb",
   "metadata": {},
   "outputs": [],
   "source": []
  },
  {
   "cell_type": "code",
   "execution_count": null,
   "id": "af05d815",
   "metadata": {},
   "outputs": [],
   "source": []
  },
  {
   "cell_type": "code",
   "execution_count": null,
   "id": "8a6024df",
   "metadata": {},
   "outputs": [],
   "source": []
  },
  {
   "cell_type": "code",
   "execution_count": null,
   "id": "a5c17ea5",
   "metadata": {},
   "outputs": [],
   "source": []
  }
 ],
 "metadata": {
  "kernelspec": {
   "display_name": "Python 3 (ipykernel)",
   "language": "python",
   "name": "python3"
  },
  "language_info": {
   "codemirror_mode": {
    "name": "ipython",
    "version": 3
   },
   "file_extension": ".py",
   "mimetype": "text/x-python",
   "name": "python",
   "nbconvert_exporter": "python",
   "pygments_lexer": "ipython3",
   "version": "3.9.7"
  }
 },
 "nbformat": 4,
 "nbformat_minor": 5
}
