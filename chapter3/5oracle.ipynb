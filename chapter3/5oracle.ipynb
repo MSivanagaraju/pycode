{
 "cells": [
  {
   "cell_type": "raw",
   "id": "888ac57d",
   "metadata": {},
   "source": [
    "#steps to communicate with oracle \n",
    "1. connection creation\n",
    "2. cursor creation\n",
    "3. execute query\n",
    "4. read data from cursor\n",
    "5. close cursor\n",
    "6. close connection"
   ]
  },
  {
   "cell_type": "code",
   "execution_count": 1,
   "id": "d37265a1",
   "metadata": {},
   "outputs": [],
   "source": [
    "import cx_Oracle"
   ]
  },
  {
   "cell_type": "raw",
   "id": "11f0ed23",
   "metadata": {},
   "source": [
    "!pip install cx_oracle"
   ]
  },
  {
   "cell_type": "code",
   "execution_count": 2,
   "id": "0d435f30",
   "metadata": {},
   "outputs": [],
   "source": [
    "#cx_Oracle.py\n",
    "import cx_Oracle"
   ]
  },
  {
   "cell_type": "code",
   "execution_count": 3,
   "id": "8567c6ff",
   "metadata": {},
   "outputs": [
    {
     "data": {
      "text/plain": [
       "module"
      ]
     },
     "execution_count": 3,
     "metadata": {},
     "output_type": "execute_result"
    }
   ],
   "source": [
    "type(cx_Oracle)"
   ]
  },
  {
   "cell_type": "code",
   "execution_count": 6,
   "id": "590e2900",
   "metadata": {},
   "outputs": [],
   "source": [
    "#connection creation\n",
    "conn = cx_Oracle.connect('c##scott/tiger@XE') # localhost or 127.0.0.1"
   ]
  },
  {
   "cell_type": "code",
   "execution_count": 7,
   "id": "48e4cfa6",
   "metadata": {},
   "outputs": [],
   "source": [
    "#cursor\n",
    "cur = conn.cursor()"
   ]
  },
  {
   "cell_type": "code",
   "execution_count": 8,
   "id": "cc3e9b73",
   "metadata": {},
   "outputs": [
    {
     "data": {
      "text/plain": [
       "<cx_Oracle.Cursor on <cx_Oracle.Connection to c##scott@XE>>"
      ]
     },
     "execution_count": 8,
     "metadata": {},
     "output_type": "execute_result"
    }
   ],
   "source": [
    "#query execution with cursor\n",
    "cur.execute('select * from dept')"
   ]
  },
  {
   "cell_type": "code",
   "execution_count": 9,
   "id": "fffb9e26",
   "metadata": {},
   "outputs": [
    {
     "data": {
      "text/plain": [
       "cx_Oracle.Cursor"
      ]
     },
     "execution_count": 9,
     "metadata": {},
     "output_type": "execute_result"
    }
   ],
   "source": [
    "#read data from cursor\n",
    "type(cur)"
   ]
  },
  {
   "cell_type": "code",
   "execution_count": 10,
   "id": "cf03bbef",
   "metadata": {},
   "outputs": [
    {
     "name": "stdout",
     "output_type": "stream",
     "text": [
      "Pretty printing has been turned OFF\n"
     ]
    }
   ],
   "source": [
    "pprint"
   ]
  },
  {
   "cell_type": "code",
   "execution_count": 11,
   "id": "1888d313",
   "metadata": {},
   "outputs": [
    {
     "data": {
      "text/plain": [
       "['__class__', '__delattr__', '__dir__', '__doc__', '__enter__', '__eq__', '__exit__', '__format__', '__ge__', '__getattribute__', '__gt__', '__hash__', '__init__', '__init_subclass__', '__iter__', '__le__', '__lt__', '__ne__', '__new__', '__next__', '__reduce__', '__reduce_ex__', '__repr__', '__setattr__', '__sizeof__', '__str__', '__subclasshook__', '_get_oci_attr', '_set_oci_attr', 'arraysize', 'arrayvar', 'bindarraysize', 'bindnames', 'bindvars', 'callfunc', 'callproc', 'close', 'connection', 'description', 'execute', 'executemany', 'executemanyprepared', 'fetchall', 'fetchmany', 'fetchone', 'fetchraw', 'fetchvars', 'getarraydmlrowcounts', 'getbatcherrors', 'getimplicitresults', 'inputtypehandler', 'lastrowid', 'outputtypehandler', 'parse', 'prefetchrows', 'prepare', 'rowcount', 'rowfactory', 'scroll', 'scrollable', 'setinputsizes', 'setoutputsize', 'statement', 'var']"
      ]
     },
     "execution_count": 11,
     "metadata": {},
     "output_type": "execute_result"
    }
   ],
   "source": [
    "dir(cur)"
   ]
  },
  {
   "cell_type": "code",
   "execution_count": 13,
   "id": "df810d47",
   "metadata": {},
   "outputs": [
    {
     "data": {
      "text/plain": [
       "(20, 'RESEARCH', 'DALLAS')"
      ]
     },
     "execution_count": 13,
     "metadata": {},
     "output_type": "execute_result"
    }
   ],
   "source": [
    "next(cur)"
   ]
  },
  {
   "cell_type": "code",
   "execution_count": 14,
   "id": "4d7ec4e4",
   "metadata": {},
   "outputs": [
    {
     "name": "stdout",
     "output_type": "stream",
     "text": [
      "(30, 'SALES', 'CHICAGO')\n",
      "(40, 'OPERATIONS', 'BOSTON')\n"
     ]
    }
   ],
   "source": [
    "for i in cur:\n",
    "    print(i)"
   ]
  },
  {
   "cell_type": "code",
   "execution_count": 15,
   "id": "60948bfc",
   "metadata": {},
   "outputs": [],
   "source": [
    "for i in cur:\n",
    "    print(i)"
   ]
  },
  {
   "cell_type": "code",
   "execution_count": 16,
   "id": "243c3c08",
   "metadata": {},
   "outputs": [],
   "source": [
    "#close cursor\n",
    "cur.close()"
   ]
  },
  {
   "cell_type": "code",
   "execution_count": 17,
   "id": "d58e0a2d",
   "metadata": {},
   "outputs": [],
   "source": [
    "#close connection\n",
    "conn.close()"
   ]
  },
  {
   "cell_type": "code",
   "execution_count": 18,
   "id": "885ce6fc",
   "metadata": {},
   "outputs": [
    {
     "name": "stdout",
     "output_type": "stream",
     "text": [
      "(10, 'ACCOUNTING', 'NEW YORK')\n",
      "(20, 'RESEARCH', 'DALLAS')\n",
      "(30, 'SALES', 'CHICAGO')\n",
      "(40, 'OPERATIONS', 'BOSTON')\n"
     ]
    }
   ],
   "source": [
    "#read the data from oracle database\n",
    "conn = cx_Oracle.connect('c##scott/tiger@XE')\n",
    "cur = conn.cursor()\n",
    "cur.execute('select * from dept')\n",
    "for i in cur:\n",
    "    print(i)\n",
    "cur.close()\n",
    "conn.close()"
   ]
  },
  {
   "cell_type": "code",
   "execution_count": 19,
   "id": "5ebeca6d",
   "metadata": {},
   "outputs": [
    {
     "name": "stdout",
     "output_type": "stream",
     "text": [
      "[(10, 'ACCOUNTING', 'NEW YORK'), (20, 'RESEARCH', 'DALLAS'), (30, 'SALES', 'CHICAGO'), (40, 'OPERATIONS', 'BOSTON')]\n"
     ]
    }
   ],
   "source": [
    "#read the data from oracle database\n",
    "conn = cx_Oracle.connect('c##scott/tiger@XE')\n",
    "cur = conn.cursor()\n",
    "cur.execute('select * from dept')\n",
    "deptdata = cur.fetchmany()\n",
    "print(deptdata)\n",
    "cur.close()\n",
    "conn.close()"
   ]
  },
  {
   "cell_type": "code",
   "execution_count": 20,
   "id": "224af493",
   "metadata": {},
   "outputs": [
    {
     "data": {
      "text/plain": [
       "[(10, 'ACCOUNTING', 'NEW YORK'), (20, 'RESEARCH', 'DALLAS'), (30, 'SALES', 'CHICAGO'), (40, 'OPERATIONS', 'BOSTON')]"
      ]
     },
     "execution_count": 20,
     "metadata": {},
     "output_type": "execute_result"
    }
   ],
   "source": [
    "deptdata"
   ]
  },
  {
   "cell_type": "code",
   "execution_count": 21,
   "id": "c75c8e64",
   "metadata": {},
   "outputs": [
    {
     "data": {
      "text/plain": [
       "<class 'list'>"
      ]
     },
     "execution_count": 21,
     "metadata": {},
     "output_type": "execute_result"
    }
   ],
   "source": [
    "type(deptdata)"
   ]
  },
  {
   "cell_type": "code",
   "execution_count": 22,
   "id": "dfaf1171",
   "metadata": {},
   "outputs": [
    {
     "data": {
      "text/plain": [
       "(10, 'ACCOUNTING', 'NEW YORK')"
      ]
     },
     "execution_count": 22,
     "metadata": {},
     "output_type": "execute_result"
    }
   ],
   "source": [
    "deptdata[0]"
   ]
  },
  {
   "cell_type": "code",
   "execution_count": 23,
   "id": "1d52e350",
   "metadata": {},
   "outputs": [
    {
     "data": {
      "text/plain": [
       "[(10, 'ACCOUNTING', 'NEW YORK'), (20, 'RESEARCH', 'DALLAS'), (30, 'SALES', 'CHICAGO'), (40, 'OPERATIONS', 'BOSTON')]"
      ]
     },
     "execution_count": 23,
     "metadata": {},
     "output_type": "execute_result"
    }
   ],
   "source": [
    "deptdata[:]"
   ]
  },
  {
   "cell_type": "code",
   "execution_count": 24,
   "id": "198465e8",
   "metadata": {},
   "outputs": [
    {
     "data": {
      "text/plain": [
       "'ACCOUNTING'"
      ]
     },
     "execution_count": 24,
     "metadata": {},
     "output_type": "execute_result"
    }
   ],
   "source": [
    "deptdata[0][1]"
   ]
  },
  {
   "cell_type": "code",
   "execution_count": 28,
   "id": "f773cf67",
   "metadata": {},
   "outputs": [
    {
     "name": "stdout",
     "output_type": "stream",
     "text": [
      "[(10, 'ACCOUNTING', 'NEW YORK'), (20, 'RESEARCH', 'DALLAS')]\n"
     ]
    }
   ],
   "source": [
    "#Read the data from oracle database using fetchall method of cursor\n",
    "conn = cx_Oracle.connect('c##scott/tiger@XE')\n",
    "cur = conn.cursor()\n",
    "cur.execute('select * from dept')\n",
    "deptdata = cur.fetchmany(2)\n",
    "print(deptdata)\n",
    "cur.close()\n",
    "conn.close()"
   ]
  },
  {
   "cell_type": "code",
   "execution_count": 26,
   "id": "36f60f82",
   "metadata": {},
   "outputs": [
    {
     "name": "stdout",
     "output_type": "stream",
     "text": [
      "[(10, 'ACCOUNTING', 'NEW YORK'), (20, 'RESEARCH', 'DALLAS'), (30, 'SALES', 'CHICAGO'), (40, 'OPERATIONS', 'BOSTON')]\n"
     ]
    }
   ],
   "source": [
    "#read the data from oracle database\n",
    "conn = cx_Oracle.connect('c##scott/tiger@XE')\n",
    "cur = conn.cursor()\n",
    "cur.execute('select * from dept')\n",
    "deptdata = cur.fetchall()\n",
    "print(deptdata)\n",
    "cur.close()\n",
    "conn.close()"
   ]
  },
  {
   "cell_type": "code",
   "execution_count": 29,
   "id": "90c550e1",
   "metadata": {},
   "outputs": [
    {
     "name": "stdout",
     "output_type": "stream",
     "text": [
      "(10, 'ACCOUNTING', 'NEW YORK')\n",
      "(20, 'RESEARCH', 'DALLAS')\n"
     ]
    }
   ],
   "source": [
    "#read the data from oracle database using fetchone method of cursor\n",
    "conn = cx_Oracle.connect('c##scott/tiger@XE')\n",
    "cur = conn.cursor()\n",
    "cur.execute('select * from dept')\n",
    "print(cur.fetchone())\n",
    "print(cur.fetchone())\n",
    "cur.close()\n",
    "conn.close()"
   ]
  },
  {
   "cell_type": "code",
   "execution_count": 38,
   "id": "0c7a2ae6",
   "metadata": {},
   "outputs": [
    {
     "ename": "DatabaseError",
     "evalue": "ORA-01017: invalid username/password; logon denied",
     "output_type": "error",
     "traceback": [
      "\u001b[1;31m---------------------------------------------------------------------------\u001b[0m",
      "\u001b[1;31mDatabaseError\u001b[0m                             Traceback (most recent call last)",
      "\u001b[1;32m~\\AppData\\Local\\Temp/ipykernel_8904/3837922316.py\u001b[0m in \u001b[0;36m<module>\u001b[1;34m\u001b[0m\n\u001b[0;32m      1\u001b[0m \u001b[1;31m#data based on deptno\u001b[0m\u001b[1;33m\u001b[0m\u001b[1;33m\u001b[0m\u001b[0m\n\u001b[0;32m      2\u001b[0m \u001b[1;31m#read the data from oracle database\u001b[0m\u001b[1;33m\u001b[0m\u001b[1;33m\u001b[0m\u001b[0m\n\u001b[1;32m----> 3\u001b[1;33m \u001b[0mconn\u001b[0m \u001b[1;33m=\u001b[0m \u001b[0mcx_Oracle\u001b[0m\u001b[1;33m.\u001b[0m\u001b[0mconnect\u001b[0m\u001b[1;33m(\u001b[0m\u001b[1;34m'c##scottrrr/tiger@XE'\u001b[0m\u001b[1;33m)\u001b[0m\u001b[1;33m\u001b[0m\u001b[1;33m\u001b[0m\u001b[0m\n\u001b[0m\u001b[0;32m      4\u001b[0m \u001b[0mcur\u001b[0m \u001b[1;33m=\u001b[0m \u001b[0mconn\u001b[0m\u001b[1;33m.\u001b[0m\u001b[0mcursor\u001b[0m\u001b[1;33m(\u001b[0m\u001b[1;33m)\u001b[0m\u001b[1;33m\u001b[0m\u001b[1;33m\u001b[0m\u001b[0m\n\u001b[0;32m      5\u001b[0m \u001b[0mdeptno\u001b[0m \u001b[1;33m=\u001b[0m \u001b[0minput\u001b[0m\u001b[1;33m(\u001b[0m\u001b[1;34m\"Enter Department Number = \"\u001b[0m\u001b[1;33m)\u001b[0m\u001b[1;33m\u001b[0m\u001b[1;33m\u001b[0m\u001b[0m\n",
      "\u001b[1;31mDatabaseError\u001b[0m: ORA-01017: invalid username/password; logon denied"
     ]
    }
   ],
   "source": [
    "#data based on deptno\n",
    "#read the data from oracle database\n",
    "conn = cx_Oracle.connect('c##scott/tiger@XE')\n",
    "cur = conn.cursor()\n",
    "deptno = input(\"Enter Department Number = \")\n",
    "cur.execute('select * from dept where deptno={}'.format(deptno))\n",
    "deptdata = cur.fetchall()\n",
    "print(deptdata)\n",
    "cur.close()\n",
    "conn.close()"
   ]
  },
  {
   "cell_type": "code",
   "execution_count": 31,
   "id": "dea6b7fe",
   "metadata": {},
   "outputs": [],
   "source": [
    "def deptdata(deptno):\n",
    "    conn = cx_Oracle.connect('c##scott/tiger@XE')\n",
    "    cur = conn.cursor()\n",
    "    cur.execute('select * from dept where deptno={}'.format(deptno))\n",
    "    deptdata = cur.fetchall()\n",
    "    cur.close()\n",
    "    conn.close()\n",
    "    return deptdata"
   ]
  },
  {
   "cell_type": "code",
   "execution_count": 33,
   "id": "07e01170",
   "metadata": {},
   "outputs": [
    {
     "data": {
      "text/plain": [
       "[]"
      ]
     },
     "execution_count": 33,
     "metadata": {},
     "output_type": "execute_result"
    }
   ],
   "source": [
    "deptdata(70)"
   ]
  },
  {
   "cell_type": "code",
   "execution_count": 34,
   "id": "afa8e849",
   "metadata": {},
   "outputs": [
    {
     "ename": "DatabaseError",
     "evalue": "ORA-00904: \"HI\": invalid identifier",
     "output_type": "error",
     "traceback": [
      "\u001b[1;31m---------------------------------------------------------------------------\u001b[0m",
      "\u001b[1;31mDatabaseError\u001b[0m                             Traceback (most recent call last)",
      "\u001b[1;32m~\\AppData\\Local\\Temp/ipykernel_8904/2817366214.py\u001b[0m in \u001b[0;36m<module>\u001b[1;34m\u001b[0m\n\u001b[1;32m----> 1\u001b[1;33m \u001b[0mdeptdata\u001b[0m\u001b[1;33m(\u001b[0m\u001b[1;34m\"hi\"\u001b[0m\u001b[1;33m)\u001b[0m\u001b[1;33m\u001b[0m\u001b[1;33m\u001b[0m\u001b[0m\n\u001b[0m",
      "\u001b[1;32m~\\AppData\\Local\\Temp/ipykernel_8904/1316677797.py\u001b[0m in \u001b[0;36mdeptdata\u001b[1;34m(deptno)\u001b[0m\n\u001b[0;32m      2\u001b[0m     \u001b[0mconn\u001b[0m \u001b[1;33m=\u001b[0m \u001b[0mcx_Oracle\u001b[0m\u001b[1;33m.\u001b[0m\u001b[0mconnect\u001b[0m\u001b[1;33m(\u001b[0m\u001b[1;34m'c##scott/tiger@XE'\u001b[0m\u001b[1;33m)\u001b[0m\u001b[1;33m\u001b[0m\u001b[1;33m\u001b[0m\u001b[0m\n\u001b[0;32m      3\u001b[0m     \u001b[0mcur\u001b[0m \u001b[1;33m=\u001b[0m \u001b[0mconn\u001b[0m\u001b[1;33m.\u001b[0m\u001b[0mcursor\u001b[0m\u001b[1;33m(\u001b[0m\u001b[1;33m)\u001b[0m\u001b[1;33m\u001b[0m\u001b[1;33m\u001b[0m\u001b[0m\n\u001b[1;32m----> 4\u001b[1;33m     \u001b[0mcur\u001b[0m\u001b[1;33m.\u001b[0m\u001b[0mexecute\u001b[0m\u001b[1;33m(\u001b[0m\u001b[1;34m'select * from dept where deptno={}'\u001b[0m\u001b[1;33m.\u001b[0m\u001b[0mformat\u001b[0m\u001b[1;33m(\u001b[0m\u001b[0mdeptno\u001b[0m\u001b[1;33m)\u001b[0m\u001b[1;33m)\u001b[0m\u001b[1;33m\u001b[0m\u001b[1;33m\u001b[0m\u001b[0m\n\u001b[0m\u001b[0;32m      5\u001b[0m     \u001b[0mdeptdata\u001b[0m \u001b[1;33m=\u001b[0m \u001b[0mcur\u001b[0m\u001b[1;33m.\u001b[0m\u001b[0mfetchall\u001b[0m\u001b[1;33m(\u001b[0m\u001b[1;33m)\u001b[0m\u001b[1;33m\u001b[0m\u001b[1;33m\u001b[0m\u001b[0m\n\u001b[0;32m      6\u001b[0m     \u001b[0mcur\u001b[0m\u001b[1;33m.\u001b[0m\u001b[0mclose\u001b[0m\u001b[1;33m(\u001b[0m\u001b[1;33m)\u001b[0m\u001b[1;33m\u001b[0m\u001b[1;33m\u001b[0m\u001b[0m\n",
      "\u001b[1;31mDatabaseError\u001b[0m: ORA-00904: \"HI\": invalid identifier"
     ]
    }
   ],
   "source": [
    "deptdata(\"hi\")"
   ]
  },
  {
   "cell_type": "code",
   "execution_count": 35,
   "id": "e2cbea12",
   "metadata": {},
   "outputs": [],
   "source": [
    "class DatabaseError(Exception):\n",
    "    pass"
   ]
  },
  {
   "cell_type": "code",
   "execution_count": 36,
   "id": "b1b8e908",
   "metadata": {},
   "outputs": [],
   "source": [
    "class NoDataFound(Exception):\n",
    "    pass"
   ]
  },
  {
   "cell_type": "code",
   "execution_count": 37,
   "id": "d6d9a861",
   "metadata": {},
   "outputs": [],
   "source": [
    "class InvalidDeptNumber(Exception):\n",
    "    pass"
   ]
  },
  {
   "cell_type": "code",
   "execution_count": 39,
   "id": "3d01115b",
   "metadata": {},
   "outputs": [],
   "source": [
    "def deptdata(deptno):\n",
    "    try:\n",
    "        conn = cx_Oracle.connect('c##scott/tiger@XE')\n",
    "        cur = conn.cursor()\n",
    "        if str(deptno).isdigit():\n",
    "            cur.execute('select * from dept where deptno={}'.format(deptno))\n",
    "            deptdata = cur.fetchall()\n",
    "        elif str(deptno).isalpha():\n",
    "            raise InvalidDeptNumber\n",
    "        if len(deptdata)==0:\n",
    "            raise NoDataFound\n",
    "    except(NoDataFound):\n",
    "        print(\"No Records for given deptno {}\".format(deptno))\n",
    "    except(InvalidDeptNumber):\n",
    "        print(\"Department Number should be integer\")\n",
    "    else:\n",
    "        return deptdata\n",
    "    finally:\n",
    "        cur.close()\n",
    "        conn.close()"
   ]
  },
  {
   "cell_type": "code",
   "execution_count": 40,
   "id": "d18aa0b5",
   "metadata": {},
   "outputs": [
    {
     "data": {
      "text/plain": [
       "[(10, 'ACCOUNTING', 'NEW YORK')]"
      ]
     },
     "execution_count": 40,
     "metadata": {},
     "output_type": "execute_result"
    }
   ],
   "source": [
    "deptdata(10)"
   ]
  },
  {
   "cell_type": "code",
   "execution_count": 41,
   "id": "c4eea55c",
   "metadata": {},
   "outputs": [
    {
     "name": "stdout",
     "output_type": "stream",
     "text": [
      "No Records for given deptno 50\n"
     ]
    }
   ],
   "source": [
    "deptdata(50)"
   ]
  },
  {
   "cell_type": "code",
   "execution_count": 42,
   "id": "9ffcf693",
   "metadata": {},
   "outputs": [
    {
     "name": "stdout",
     "output_type": "stream",
     "text": [
      "Department Number should be integer\n"
     ]
    }
   ],
   "source": [
    "deptdata(\"ACCOUNTING\")"
   ]
  },
  {
   "cell_type": "code",
   "execution_count": 43,
   "id": "6469a4c2",
   "metadata": {},
   "outputs": [
    {
     "name": "stdout",
     "output_type": "stream",
     "text": [
      "Enter Department Number = 10\n",
      "[(7782, 'CLARK', 'MANAGER', 7839, datetime.datetime(1981, 6, 9, 0, 0), 2450.0, None, 10), (7839, 'KING', 'PRESIDENT', None, datetime.datetime(1981, 11, 17, 0, 0), 5000.0, None, 10), (7934, 'MILLER', 'CLERK', 7782, datetime.datetime(1982, 1, 23, 0, 0), 1300.0, None, 10)]\n"
     ]
    }
   ],
   "source": [
    "#data based on deptno\n",
    "#read the data from oracle database\n",
    "conn = cx_Oracle.connect('c##scott/tiger@XE')\n",
    "cur = conn.cursor()\n",
    "deptno = input(\"Enter Department Number = \")\n",
    "cur.execute('select * from emp where deptno={}'.format(deptno))\n",
    "deptdata = cur.fetchall()\n",
    "print(deptdata)\n",
    "cur.close()\n",
    "conn.close()"
   ]
  },
  {
   "cell_type": "code",
   "execution_count": 44,
   "id": "1c474c84",
   "metadata": {},
   "outputs": [
    {
     "name": "stdout",
     "output_type": "stream",
     "text": [
      "Enter Department Name = accounting\n",
      "[(7782, 'CLARK', 'MANAGER', 7839, datetime.datetime(1981, 6, 9, 0, 0), 2450.0, None, 10), (7839, 'KING', 'PRESIDENT', None, datetime.datetime(1981, 11, 17, 0, 0), 5000.0, None, 10), (7934, 'MILLER', 'CLERK', 7782, datetime.datetime(1982, 1, 23, 0, 0), 1300.0, None, 10)]\n"
     ]
    }
   ],
   "source": [
    "#data based on deptname\n",
    "#read the data from oracle database\n",
    "conn = cx_Oracle.connect('c##scott/tiger@XE')\n",
    "cur = conn.cursor()\n",
    "dname = input(\"Enter Department Name = \").upper()\n",
    "cur.execute(\"select * from emp where deptno=(select deptno from dept where dname='{}')\".format(dname.upper()))\n",
    "deptdata = cur.fetchall()\n",
    "print(deptdata)\n",
    "cur.close()\n",
    "conn.close()"
   ]
  },
  {
   "cell_type": "code",
   "execution_count": 45,
   "id": "17b375d6",
   "metadata": {},
   "outputs": [
    {
     "name": "stdout",
     "output_type": "stream",
     "text": [
      "One Record inserted successfully\n"
     ]
    }
   ],
   "source": [
    "#INSERT INTO TABLE\n",
    "conn = cx_Oracle.connect('c##scott/tiger@XE')\n",
    "cur = conn.cursor()\n",
    "cur.execute(\"insert into student values(101,'ravi','python',10000)\")\n",
    "conn.commit()\n",
    "print(\"One Record inserted successfully\")\n",
    "cur.close()\n",
    "conn.close()"
   ]
  },
  {
   "cell_type": "code",
   "execution_count": null,
   "id": "ec20bdd3",
   "metadata": {},
   "outputs": [],
   "source": [
    "import cx_Oracle"
   ]
  },
  {
   "cell_type": "code",
   "execution_count": 46,
   "id": "6b469197",
   "metadata": {},
   "outputs": [],
   "source": [
    "student_data = [(102,'RAMU','JAVASCRIPT',25000),(103,'suri','fullstack',1000),(104,'varma','django',11000)]"
   ]
  },
  {
   "cell_type": "code",
   "execution_count": 47,
   "id": "7c9de3df",
   "metadata": {},
   "outputs": [
    {
     "name": "stdout",
     "output_type": "stream",
     "text": [
      "Data stored successfully\n"
     ]
    }
   ],
   "source": [
    "#INSERT BULK DATA\n",
    "conn = cx_Oracle.connect('c##scott/tiger@XE')\n",
    "cur = conn.cursor()\n",
    "cur.executemany(\"insert into student(sid,sname,course,fee) values(:sid,:sname,:course,:fee)\",student_data)\n",
    "conn.commit()\n",
    "print(\"Data stored successfully\")\n",
    "cur.close()\n",
    "conn.close()"
   ]
  },
  {
   "cell_type": "code",
   "execution_count": null,
   "id": "63586ceb",
   "metadata": {},
   "outputs": [],
   "source": [
    "#procedure\n",
    "#function"
   ]
  },
  {
   "cell_type": "code",
   "execution_count": 48,
   "id": "65c68859",
   "metadata": {},
   "outputs": [
    {
     "name": "stdout",
     "output_type": "stream",
     "text": [
      "Enter student ID:105\n",
      "Enter student Name:kumar\n",
      "Enter course Name:react\n",
      "Enter coure Fee:12000\n",
      "Transaction completed successfully\n"
     ]
    }
   ],
   "source": [
    "#calling Oracle procedure to store new student data\n",
    "sid = input(\"Enter student ID:\")\n",
    "sname = input(\"Enter student Name:\")\n",
    "scourse = input(\"Enter course Name:\")\n",
    "fee = int(input(\"Enter coure Fee:\"))\n",
    "conn = cx_Oracle.connect('c##scott/tiger@XE')\n",
    "cur = conn.cursor()\n",
    "cur.callproc(\"newstudent\",(sid,sname,scourse,fee))\n",
    "conn.commit()\n",
    "print(\"Transaction completed successfully\")\n",
    "cur.close()\n",
    "conn.close()"
   ]
  },
  {
   "cell_type": "code",
   "execution_count": null,
   "id": "5ed95278",
   "metadata": {},
   "outputs": [],
   "source": [
    "#filedata to table"
   ]
  },
  {
   "cell_type": "code",
   "execution_count": 49,
   "id": "9c45ae66",
   "metadata": {},
   "outputs": [
    {
     "data": {
      "text/plain": [
       "['101', 'raju', 'python', '8000']"
      ]
     },
     "execution_count": 49,
     "metadata": {},
     "output_type": "execute_result"
    }
   ],
   "source": [
    "\"101,raju,python,8000\".split(\",\")"
   ]
  },
  {
   "cell_type": "code",
   "execution_count": 50,
   "id": "c84859e5",
   "metadata": {},
   "outputs": [
    {
     "name": "stdout",
     "output_type": "stream",
     "text": [
      "101\n",
      "raju\n",
      "python\n",
      "8000\n"
     ]
    }
   ],
   "source": [
    "sid,sname,course,fee = \"101,raju,python,8000\".split(\",\")\n",
    "print(sid)\n",
    "print(sname)\n",
    "print(course)\n",
    "print(fee)"
   ]
  },
  {
   "cell_type": "code",
   "execution_count": 51,
   "id": "70225f6b",
   "metadata": {},
   "outputs": [
    {
     "data": {
      "text/plain": [
       "<class 'str'>"
      ]
     },
     "execution_count": 51,
     "metadata": {},
     "output_type": "execute_result"
    }
   ],
   "source": [
    "type(sid)"
   ]
  },
  {
   "cell_type": "code",
   "execution_count": 52,
   "id": "4f6d5091",
   "metadata": {},
   "outputs": [
    {
     "data": {
      "text/plain": [
       "<class 'str'>"
      ]
     },
     "execution_count": 52,
     "metadata": {},
     "output_type": "execute_result"
    }
   ],
   "source": [
    "type(fee)"
   ]
  },
  {
   "cell_type": "code",
   "execution_count": null,
   "id": "75c90154",
   "metadata": {},
   "outputs": [],
   "source": [
    "import cx_Oracle"
   ]
  },
  {
   "cell_type": "code",
   "execution_count": 53,
   "id": "ff346595",
   "metadata": {},
   "outputs": [],
   "source": [
    "fname=r\"D:\\pfiles\\students.txt\""
   ]
  },
  {
   "cell_type": "code",
   "execution_count": 54,
   "id": "a693373d",
   "metadata": {
    "scrolled": true
   },
   "outputs": [
    {
     "name": "stdout",
     "output_type": "stream",
     "text": [
      "Transaction completed sucessfully\n"
     ]
    }
   ],
   "source": [
    "fobj = open(fname)\n",
    "conn = cx_Oracle.connect(\"c##scott/tiger@XE\")\n",
    "cur = conn.cursor()\n",
    "for i in fobj:\n",
    "    sid,sname,course,fee = i.split(\",\")\n",
    "    cur.callproc('newstudent',(int(sid),sname,course,float(fee)))\n",
    "conn.commit()\n",
    "print(\"Transaction completed sucessfully\")\n",
    "cur.close()\n",
    "conn.close()"
   ]
  },
  {
   "cell_type": "code",
   "execution_count": null,
   "id": "2cd68513",
   "metadata": {},
   "outputs": [],
   "source": []
  },
  {
   "cell_type": "code",
   "execution_count": null,
   "id": "bca17bcd",
   "metadata": {},
   "outputs": [],
   "source": []
  },
  {
   "cell_type": "code",
   "execution_count": null,
   "id": "fcdf1910",
   "metadata": {},
   "outputs": [],
   "source": []
  },
  {
   "cell_type": "code",
   "execution_count": null,
   "id": "be32bf6f",
   "metadata": {},
   "outputs": [],
   "source": []
  }
 ],
 "metadata": {
  "kernelspec": {
   "display_name": "Python 3 (ipykernel)",
   "language": "python",
   "name": "python3"
  },
  "language_info": {
   "codemirror_mode": {
    "name": "ipython",
    "version": 3
   },
   "file_extension": ".py",
   "mimetype": "text/x-python",
   "name": "python",
   "nbconvert_exporter": "python",
   "pygments_lexer": "ipython3",
   "version": "3.9.7"
  }
 },
 "nbformat": 4,
 "nbformat_minor": 5
}
