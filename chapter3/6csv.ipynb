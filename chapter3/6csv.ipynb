{
 "cells": [
  {
   "cell_type": "code",
   "execution_count": null,
   "id": "3683dcb8",
   "metadata": {},
   "outputs": [],
   "source": [
    "#csv ==> comma separated values"
   ]
  },
  {
   "cell_type": "code",
   "execution_count": null,
   "id": "508b23bd",
   "metadata": {},
   "outputs": [],
   "source": [
    "fname = r\"D:\\pfiles\\students.csv\"\n",
    "fobj = open(fname)\n",
    "for i in fobj:\n",
    "    print(i)\n",
    "fobj.close()"
   ]
  },
  {
   "cell_type": "code",
   "execution_count": null,
   "id": "43e8b077",
   "metadata": {},
   "outputs": [],
   "source": [
    "type(i)"
   ]
  },
  {
   "cell_type": "code",
   "execution_count": null,
   "id": "1d56a1db",
   "metadata": {},
   "outputs": [],
   "source": [
    "import csv"
   ]
  },
  {
   "cell_type": "code",
   "execution_count": null,
   "id": "2878f65b",
   "metadata": {},
   "outputs": [],
   "source": [
    "# module is csv.py file which collection of classes and functions\n",
    "type(csv)"
   ]
  },
  {
   "cell_type": "code",
   "execution_count": null,
   "id": "cae1506f",
   "metadata": {},
   "outputs": [],
   "source": [
    "fname = r\"D:\\pfiles\\students.csv\"\n",
    "fobj = open(fname)\n",
    "for i in csv.reader(fobj):\n",
    "    print(i)\n",
    "fobj.close()"
   ]
  },
  {
   "cell_type": "code",
   "execution_count": null,
   "id": "4f4d171f",
   "metadata": {},
   "outputs": [],
   "source": [
    "fname = r\"D:\\pfiles\\students.csv\"\n",
    "fobj = open(fname)\n",
    "for i in csv.reader(fobj):\n",
    "    print(i[0])\n",
    "fobj.close()"
   ]
  },
  {
   "cell_type": "code",
   "execution_count": null,
   "id": "afb6e927",
   "metadata": {},
   "outputs": [],
   "source": [
    "fname = r\"D:\\pfiles\\students.csv\"\n",
    "fobj = open(fname)\n",
    "for i in csv.reader(fobj):\n",
    "    print(i[2])\n",
    "fobj.close()"
   ]
  },
  {
   "cell_type": "code",
   "execution_count": null,
   "id": "bd32d104",
   "metadata": {},
   "outputs": [],
   "source": [
    "fname = r\"D:\\pfiles\\students2.csv\"\n",
    "fobj = open(fname)\n",
    "for i in csv.reader(fobj):\n",
    "    print(i)\n",
    "fobj.close()"
   ]
  },
  {
   "cell_type": "code",
   "execution_count": null,
   "id": "5a7ba66c",
   "metadata": {},
   "outputs": [],
   "source": [
    "help(csv.register_dialect)"
   ]
  },
  {
   "cell_type": "code",
   "execution_count": null,
   "id": "458802c9",
   "metadata": {},
   "outputs": [],
   "source": [
    "csv.register_dialect('d1_hash',delimiter=\"#\",skipinitialspace=True)"
   ]
  },
  {
   "cell_type": "code",
   "execution_count": null,
   "id": "f963149a",
   "metadata": {},
   "outputs": [],
   "source": [
    "fname = r\"D:\\pfiles\\students2.csv\"\n",
    "fobj = open(fname)\n",
    "for i in csv.reader(fobj,dialect='d1_hash'):\n",
    "    print(i)\n",
    "fobj.close()"
   ]
  },
  {
   "cell_type": "code",
   "execution_count": null,
   "id": "1f85403d",
   "metadata": {},
   "outputs": [],
   "source": [
    "csv.list_dialects()"
   ]
  },
  {
   "cell_type": "code",
   "execution_count": null,
   "id": "a20dc37b",
   "metadata": {},
   "outputs": [],
   "source": [
    "csv.unregister_dialect('d1_hash')"
   ]
  },
  {
   "cell_type": "code",
   "execution_count": null,
   "id": "b0e68e8b",
   "metadata": {},
   "outputs": [],
   "source": [
    "csv.list_dialects()"
   ]
  },
  {
   "cell_type": "code",
   "execution_count": null,
   "id": "67ab8ce0",
   "metadata": {},
   "outputs": [],
   "source": [
    "csv.register_dialect('d1_hash',delimiter=\"#\",skipinitialspace=True)"
   ]
  },
  {
   "cell_type": "code",
   "execution_count": null,
   "id": "7e89e37f",
   "metadata": {},
   "outputs": [],
   "source": [
    "csv.register_dialect('d1_dollar',delimiter=\"$\",skipinitialspace=True)"
   ]
  },
  {
   "cell_type": "code",
   "execution_count": null,
   "id": "1e73a5a1",
   "metadata": {},
   "outputs": [],
   "source": [
    "csv.list_dialects()"
   ]
  },
  {
   "cell_type": "code",
   "execution_count": null,
   "id": "214a6c85",
   "metadata": {},
   "outputs": [],
   "source": [
    "x=csv.get_dialect('d1_hash')"
   ]
  },
  {
   "cell_type": "code",
   "execution_count": null,
   "id": "f71f0e8f",
   "metadata": {},
   "outputs": [],
   "source": [
    "x.delimiter"
   ]
  },
  {
   "cell_type": "code",
   "execution_count": null,
   "id": "7481a8a4",
   "metadata": {},
   "outputs": [],
   "source": [
    "x=csv.get_dialect('d1_dollar')"
   ]
  },
  {
   "cell_type": "code",
   "execution_count": null,
   "id": "e19ee225",
   "metadata": {},
   "outputs": [],
   "source": [
    "x.delimiter"
   ]
  },
  {
   "cell_type": "code",
   "execution_count": null,
   "id": "e281e5a7",
   "metadata": {},
   "outputs": [],
   "source": [
    "fname = r\"D:\\pfiles\\students.csv\""
   ]
  },
  {
   "cell_type": "code",
   "execution_count": null,
   "id": "03b52e03",
   "metadata": {},
   "outputs": [],
   "source": [
    "files = []"
   ]
  },
  {
   "cell_type": "code",
   "execution_count": null,
   "id": "432133aa",
   "metadata": {},
   "outputs": [],
   "source": [
    "for i in range(1000000):\n",
    "    files.append(open(fname,'w'))"
   ]
  },
  {
   "cell_type": "code",
   "execution_count": null,
   "id": "8124294a",
   "metadata": {},
   "outputs": [],
   "source": [
    "try:\n",
    "    for i in range(1000000):\n",
    "        files.append(open(fname,'w'))\n",
    "except(OSError):\n",
    "    print(\"Hey what are you doing ? not possible do it manually \")"
   ]
  },
  {
   "cell_type": "code",
   "execution_count": 1,
   "id": "8f35a75f",
   "metadata": {},
   "outputs": [],
   "source": [
    "import csv"
   ]
  },
  {
   "cell_type": "code",
   "execution_count": 2,
   "id": "b29c6736",
   "metadata": {},
   "outputs": [],
   "source": [
    "fobj = open(r'D:\\raju\\pyfiles\\students.csv')"
   ]
  },
  {
   "cell_type": "code",
   "execution_count": 3,
   "id": "8118af65",
   "metadata": {},
   "outputs": [],
   "source": [
    "csv_obj = csv.reader(fobj)"
   ]
  },
  {
   "cell_type": "code",
   "execution_count": 4,
   "id": "b3517246",
   "metadata": {},
   "outputs": [
    {
     "name": "stdout",
     "output_type": "stream",
     "text": [
      "['101', 'raju', 'python', '8000']\n",
      "['102', 'ravi', 'java', '5000']\n",
      "['103', 'ramesh', 'PYTHON', '7500']\n",
      "['104', 'ramu', 'java', '4500']\n",
      "['105', 'somu', 'c++', '3500']\n",
      "['106', 'ramesh', 'Python', '7500']\n",
      "['107', 'tullan', 'java script', '3000']\n",
      "['108', 'ramana', 'c', '2000']\n",
      "['109', 'ramana', 'JAVAscript', '2800']\n",
      "['110', 'ramesh', 'scala', '3000']\n",
      "['111', 'manish', 'SCALA', '2500']\n",
      "['112', 'somu', 'c', '2000']\n",
      "['113', 'raghu', 'c++', '3400']\n",
      "['114', 'dilip', 'javascript', '3500']\n",
      "['115', 'mohan', 'aws', '14000']\n",
      "['116', 'kasi', 'java', '5000']\n",
      "['117', 'krishna', 'AWS', '7000']\n",
      "['118', 'sunder', 'python', '8000']\n"
     ]
    }
   ],
   "source": [
    "for i in csv_obj:\n",
    "    print(i)"
   ]
  },
  {
   "cell_type": "code",
   "execution_count": 6,
   "id": "9917b3b4",
   "metadata": {},
   "outputs": [],
   "source": [
    "#writer\n",
    "import csv"
   ]
  },
  {
   "cell_type": "code",
   "execution_count": 7,
   "id": "14a3c5f5",
   "metadata": {},
   "outputs": [],
   "source": [
    "fobj = open(r'D:\\pfiles\\data.csv','w')"
   ]
  },
  {
   "cell_type": "code",
   "execution_count": 8,
   "id": "0bb9daa8",
   "metadata": {
    "scrolled": true
   },
   "outputs": [
    {
     "name": "stdout",
     "output_type": "stream",
     "text": [
      "Help on built-in function writer in module _csv:\n",
      "\n",
      "writer(...)\n",
      "    csv_writer = csv.writer(fileobj [, dialect='excel']\n",
      "                                [optional keyword args])\n",
      "        for row in sequence:\n",
      "            csv_writer.writerow(row)\n",
      "    \n",
      "        [or]\n",
      "    \n",
      "        csv_writer = csv.writer(fileobj [, dialect='excel']\n",
      "                                [optional keyword args])\n",
      "        csv_writer.writerows(rows)\n",
      "    \n",
      "    The \"fileobj\" argument can be any object that supports the file API.\n",
      "\n"
     ]
    }
   ],
   "source": [
    "help(csv.writer)"
   ]
  },
  {
   "cell_type": "code",
   "execution_count": 9,
   "id": "b8503837",
   "metadata": {},
   "outputs": [],
   "source": [
    "csvwriter = csv.writer(fobj)"
   ]
  },
  {
   "cell_type": "code",
   "execution_count": 10,
   "id": "6773fe18",
   "metadata": {},
   "outputs": [
    {
     "data": {
      "text/plain": [
       "24"
      ]
     },
     "execution_count": 10,
     "metadata": {},
     "output_type": "execute_result"
    }
   ],
   "source": [
    "csvwriter.writerow(['101','varma','python','10000'])"
   ]
  },
  {
   "cell_type": "code",
   "execution_count": 11,
   "id": "4ab39822",
   "metadata": {},
   "outputs": [],
   "source": [
    "fobj.close()"
   ]
  },
  {
   "cell_type": "code",
   "execution_count": 12,
   "id": "d76d81ae",
   "metadata": {},
   "outputs": [],
   "source": [
    "rows = [\n",
    "    [101,'varma','python',7000],\n",
    "    [102,'ravi','django',13000],\n",
    "    [103,'kumar','react',8000],\n",
    "    [104,'vivek','django',11000],\n",
    "]"
   ]
  },
  {
   "cell_type": "code",
   "execution_count": 13,
   "id": "fe54780d",
   "metadata": {},
   "outputs": [],
   "source": [
    "fobj = open(r'D:\\pfiles\\data2.csv','w')"
   ]
  },
  {
   "cell_type": "code",
   "execution_count": 14,
   "id": "d06d537f",
   "metadata": {},
   "outputs": [],
   "source": [
    "csv_writer = csv.writer(fobj)"
   ]
  },
  {
   "cell_type": "code",
   "execution_count": 15,
   "id": "e69879fb",
   "metadata": {},
   "outputs": [],
   "source": [
    "csv_writer.writerows(rows)"
   ]
  },
  {
   "cell_type": "code",
   "execution_count": 16,
   "id": "56a1179d",
   "metadata": {},
   "outputs": [],
   "source": [
    "fobj.close()"
   ]
  },
  {
   "cell_type": "code",
   "execution_count": null,
   "id": "c5df5004",
   "metadata": {},
   "outputs": [],
   "source": []
  },
  {
   "cell_type": "code",
   "execution_count": null,
   "id": "7776c8cb",
   "metadata": {},
   "outputs": [],
   "source": []
  },
  {
   "cell_type": "code",
   "execution_count": null,
   "id": "aa6a2997",
   "metadata": {},
   "outputs": [],
   "source": []
  }
 ],
 "metadata": {
  "kernelspec": {
   "display_name": "Python 3 (ipykernel)",
   "language": "python",
   "name": "python3"
  },
  "language_info": {
   "codemirror_mode": {
    "name": "ipython",
    "version": 3
   },
   "file_extension": ".py",
   "mimetype": "text/x-python",
   "name": "python",
   "nbconvert_exporter": "python",
   "pygments_lexer": "ipython3",
   "version": "3.9.7"
  }
 },
 "nbformat": 4,
 "nbformat_minor": 5
}
