{
 "cells": [
  {
   "cell_type": "code",
   "execution_count": null,
   "id": "947538a0",
   "metadata": {},
   "outputs": [],
   "source": [
    "def f1():\n",
    "    print(\"welcome to functions\")"
   ]
  },
  {
   "cell_type": "code",
   "execution_count": null,
   "id": "9a29bf09",
   "metadata": {},
   "outputs": [],
   "source": [
    "id(f1)"
   ]
  },
  {
   "cell_type": "code",
   "execution_count": null,
   "id": "243d7df1",
   "metadata": {},
   "outputs": [],
   "source": [
    "type(f1)"
   ]
  },
  {
   "cell_type": "code",
   "execution_count": null,
   "id": "bbb14f3d",
   "metadata": {},
   "outputs": [],
   "source": [
    "f1"
   ]
  },
  {
   "cell_type": "code",
   "execution_count": null,
   "id": "7cdd8579",
   "metadata": {},
   "outputs": [],
   "source": [
    "f1()"
   ]
  },
  {
   "cell_type": "code",
   "execution_count": null,
   "id": "5c57db9c",
   "metadata": {},
   "outputs": [],
   "source": [
    "# function must return\n",
    "# function returns with return statement only\n",
    "# function returns None which doesn't have return statement"
   ]
  },
  {
   "cell_type": "code",
   "execution_count": null,
   "id": "53300ab5",
   "metadata": {},
   "outputs": [],
   "source": [
    "print(f1())"
   ]
  },
  {
   "cell_type": "code",
   "execution_count": null,
   "id": "b3b17a8a",
   "metadata": {},
   "outputs": [],
   "source": [
    "def f2():\n",
    "    return \"welcome\""
   ]
  },
  {
   "cell_type": "code",
   "execution_count": null,
   "id": "d681076b",
   "metadata": {},
   "outputs": [],
   "source": [
    "f2()"
   ]
  },
  {
   "cell_type": "code",
   "execution_count": null,
   "id": "ee21f5be",
   "metadata": {},
   "outputs": [],
   "source": [
    "v1 = f1()"
   ]
  },
  {
   "cell_type": "code",
   "execution_count": null,
   "id": "be067693",
   "metadata": {},
   "outputs": [],
   "source": [
    "print(v1)"
   ]
  },
  {
   "cell_type": "code",
   "execution_count": null,
   "id": "0daf7cd4",
   "metadata": {},
   "outputs": [],
   "source": [
    "v2 = f2()"
   ]
  },
  {
   "cell_type": "code",
   "execution_count": null,
   "id": "a372fa07",
   "metadata": {},
   "outputs": [],
   "source": [
    "print(v2)"
   ]
  },
  {
   "cell_type": "code",
   "execution_count": null,
   "id": "11294bfe",
   "metadata": {},
   "outputs": [],
   "source": [
    "def f3():\n",
    "    print(\"welcome to python functions\")\n",
    "    return \"Good Morning\""
   ]
  },
  {
   "cell_type": "code",
   "execution_count": null,
   "id": "204e691f",
   "metadata": {},
   "outputs": [],
   "source": [
    "f3()"
   ]
  },
  {
   "cell_type": "code",
   "execution_count": null,
   "id": "09496f33",
   "metadata": {},
   "outputs": [],
   "source": [
    "v3 = f3()"
   ]
  },
  {
   "cell_type": "code",
   "execution_count": null,
   "id": "87211d8e",
   "metadata": {},
   "outputs": [],
   "source": [
    "v3"
   ]
  },
  {
   "cell_type": "code",
   "execution_count": null,
   "id": "8aebb318",
   "metadata": {},
   "outputs": [],
   "source": [
    "#parameters"
   ]
  },
  {
   "cell_type": "code",
   "execution_count": null,
   "id": "1ddf4bfd",
   "metadata": {},
   "outputs": [],
   "source": [
    "def f1(msg):\n",
    "    return msg"
   ]
  },
  {
   "cell_type": "code",
   "execution_count": null,
   "id": "a5dea06a",
   "metadata": {},
   "outputs": [],
   "source": [
    "f1()"
   ]
  },
  {
   "cell_type": "code",
   "execution_count": null,
   "id": "92047ad9",
   "metadata": {},
   "outputs": [],
   "source": [
    "f1(\"Good Morning\")"
   ]
  },
  {
   "cell_type": "code",
   "execution_count": null,
   "id": "2384af79",
   "metadata": {},
   "outputs": [],
   "source": [
    "def f2(name):\n",
    "    return \"Good Morning \"+name"
   ]
  },
  {
   "cell_type": "code",
   "execution_count": null,
   "id": "c0bd737e",
   "metadata": {},
   "outputs": [],
   "source": [
    "f2(\"Ravi\")"
   ]
  },
  {
   "cell_type": "code",
   "execution_count": null,
   "id": "245f965a",
   "metadata": {},
   "outputs": [],
   "source": [
    "#default argument"
   ]
  },
  {
   "cell_type": "code",
   "execution_count": null,
   "id": "252b1d31",
   "metadata": {},
   "outputs": [],
   "source": [
    "def f1(msg=\"Good Morning\"):\n",
    "    return msg"
   ]
  },
  {
   "cell_type": "code",
   "execution_count": null,
   "id": "67090cc7",
   "metadata": {},
   "outputs": [],
   "source": [
    "f1()"
   ]
  },
  {
   "cell_type": "code",
   "execution_count": null,
   "id": "a41eddb6",
   "metadata": {},
   "outputs": [],
   "source": [
    "f1(\"Good Evening\")"
   ]
  },
  {
   "cell_type": "code",
   "execution_count": null,
   "id": "f2498690",
   "metadata": {},
   "outputs": [],
   "source": [
    "#positional arguments"
   ]
  },
  {
   "cell_type": "code",
   "execution_count": null,
   "id": "e6f46522",
   "metadata": {},
   "outputs": [],
   "source": [
    "def f1(a,b):\n",
    "    print('a = ',a)\n",
    "    print('b = ',b)\n",
    "    return a+b"
   ]
  },
  {
   "cell_type": "code",
   "execution_count": null,
   "id": "332914e7",
   "metadata": {},
   "outputs": [],
   "source": [
    "f1(10,20)"
   ]
  },
  {
   "cell_type": "code",
   "execution_count": null,
   "id": "394c450a",
   "metadata": {},
   "outputs": [],
   "source": [
    "f1(20,10)"
   ]
  },
  {
   "cell_type": "code",
   "execution_count": null,
   "id": "d23d5315",
   "metadata": {},
   "outputs": [],
   "source": [
    "#keyword argument"
   ]
  },
  {
   "cell_type": "code",
   "execution_count": null,
   "id": "46f37271",
   "metadata": {},
   "outputs": [],
   "source": [
    "f1(b=12,a=15)"
   ]
  },
  {
   "cell_type": "code",
   "execution_count": null,
   "id": "a2280a49",
   "metadata": {},
   "outputs": [],
   "source": [
    "#keywords must match with parameters\n",
    "f1(b=12,c=13)"
   ]
  },
  {
   "cell_type": "code",
   "execution_count": null,
   "id": "ca20a8a8",
   "metadata": {},
   "outputs": [],
   "source": [
    "f1(25,b=20)"
   ]
  },
  {
   "cell_type": "code",
   "execution_count": null,
   "id": "c8d92b55",
   "metadata": {},
   "outputs": [],
   "source": [
    "f1(20,a=23)"
   ]
  },
  {
   "cell_type": "code",
   "execution_count": null,
   "id": "09274540",
   "metadata": {},
   "outputs": [],
   "source": [
    "f1(b=22,12)"
   ]
  },
  {
   "cell_type": "code",
   "execution_count": null,
   "id": "7e9bbf29",
   "metadata": {},
   "outputs": [],
   "source": [
    "f1(a=25,15)"
   ]
  },
  {
   "cell_type": "code",
   "execution_count": null,
   "id": "daad213a",
   "metadata": {},
   "outputs": [],
   "source": [
    "def f1(a,b=20):\n",
    "    return a+b"
   ]
  },
  {
   "cell_type": "code",
   "execution_count": null,
   "id": "f7fb6848",
   "metadata": {},
   "outputs": [],
   "source": [
    "f1(100)"
   ]
  },
  {
   "cell_type": "code",
   "execution_count": null,
   "id": "30037163",
   "metadata": {},
   "outputs": [],
   "source": [
    "f1(120,10)"
   ]
  },
  {
   "cell_type": "code",
   "execution_count": null,
   "id": "bc547c5f",
   "metadata": {},
   "outputs": [],
   "source": [
    "#variables in functions"
   ]
  },
  {
   "cell_type": "code",
   "execution_count": null,
   "id": "aee27327",
   "metadata": {},
   "outputs": [],
   "source": [
    "def f1():\n",
    "    a = 100\n",
    "    return a"
   ]
  },
  {
   "cell_type": "code",
   "execution_count": null,
   "id": "b1e5370f",
   "metadata": {},
   "outputs": [],
   "source": [
    "f1()"
   ]
  },
  {
   "cell_type": "code",
   "execution_count": null,
   "id": "6c400489",
   "metadata": {},
   "outputs": [],
   "source": [
    "print(a)"
   ]
  },
  {
   "cell_type": "code",
   "execution_count": null,
   "id": "6653f945",
   "metadata": {},
   "outputs": [],
   "source": [
    "a=1000"
   ]
  },
  {
   "cell_type": "code",
   "execution_count": null,
   "id": "ee4ea429",
   "metadata": {},
   "outputs": [],
   "source": [
    "print(a)"
   ]
  },
  {
   "cell_type": "code",
   "execution_count": null,
   "id": "95b16f46",
   "metadata": {},
   "outputs": [],
   "source": [
    "f1()"
   ]
  },
  {
   "cell_type": "code",
   "execution_count": null,
   "id": "cbd8de9b",
   "metadata": {},
   "outputs": [],
   "source": [
    "def f2():\n",
    "    return a"
   ]
  },
  {
   "cell_type": "code",
   "execution_count": null,
   "id": "fd1efb1f",
   "metadata": {},
   "outputs": [],
   "source": [
    "f2()"
   ]
  },
  {
   "cell_type": "code",
   "execution_count": null,
   "id": "25878cbf",
   "metadata": {},
   "outputs": [],
   "source": [
    "def f3():\n",
    "    return b"
   ]
  },
  {
   "cell_type": "code",
   "execution_count": null,
   "id": "03868db5",
   "metadata": {},
   "outputs": [],
   "source": [
    "f3()"
   ]
  },
  {
   "cell_type": "code",
   "execution_count": null,
   "id": "f1f0c76e",
   "metadata": {},
   "outputs": [],
   "source": [
    "def f4():\n",
    "    a = 111\n",
    "    b = 222\n",
    "    print(locals())\n",
    "    return a+b"
   ]
  },
  {
   "cell_type": "code",
   "execution_count": null,
   "id": "87ad8e32",
   "metadata": {},
   "outputs": [],
   "source": [
    "f4()"
   ]
  },
  {
   "cell_type": "code",
   "execution_count": null,
   "id": "e6180e27",
   "metadata": {},
   "outputs": [],
   "source": [
    "print(globals())"
   ]
  },
  {
   "cell_type": "code",
   "execution_count": null,
   "id": "3bee9226",
   "metadata": {},
   "outputs": [],
   "source": [
    "a=1000\n",
    "def f1():\n",
    "    a=100\n",
    "    def f2():\n",
    "        a = 10\n",
    "        return a\n",
    "    return f2()"
   ]
  },
  {
   "cell_type": "code",
   "execution_count": null,
   "id": "f79847c1",
   "metadata": {},
   "outputs": [],
   "source": [
    "f1()"
   ]
  },
  {
   "cell_type": "code",
   "execution_count": null,
   "id": "c5995fa0",
   "metadata": {},
   "outputs": [],
   "source": [
    "a=1000\n",
    "def f1():\n",
    "    a=100\n",
    "    def f2():\n",
    "        return a\n",
    "    return f2()"
   ]
  },
  {
   "cell_type": "code",
   "execution_count": null,
   "id": "e37e90c8",
   "metadata": {},
   "outputs": [],
   "source": [
    "f1()"
   ]
  },
  {
   "cell_type": "code",
   "execution_count": null,
   "id": "bf23c872",
   "metadata": {},
   "outputs": [],
   "source": [
    "a=1000\n",
    "def f1():\n",
    "    def f2():\n",
    "        return a\n",
    "    return f2()"
   ]
  },
  {
   "cell_type": "code",
   "execution_count": null,
   "id": "375a457d",
   "metadata": {},
   "outputs": [],
   "source": [
    "f1()"
   ]
  },
  {
   "cell_type": "code",
   "execution_count": null,
   "id": "34bf5f4b",
   "metadata": {},
   "outputs": [],
   "source": [
    "a=200\n",
    "def f1():\n",
    "    a = a+10\n",
    "    return a"
   ]
  },
  {
   "cell_type": "code",
   "execution_count": null,
   "id": "c803e807",
   "metadata": {},
   "outputs": [],
   "source": [
    "f1()"
   ]
  },
  {
   "cell_type": "code",
   "execution_count": null,
   "id": "58306b1f",
   "metadata": {},
   "outputs": [],
   "source": [
    "a=200\n",
    "def f1():\n",
    "    global a\n",
    "    a = a+10\n",
    "    print(locals())\n",
    "    return a"
   ]
  },
  {
   "cell_type": "code",
   "execution_count": null,
   "id": "a9093857",
   "metadata": {},
   "outputs": [],
   "source": [
    "f1()"
   ]
  },
  {
   "cell_type": "code",
   "execution_count": null,
   "id": "c36792d6",
   "metadata": {},
   "outputs": [],
   "source": [
    "print(a)"
   ]
  },
  {
   "cell_type": "code",
   "execution_count": null,
   "id": "2df605c3",
   "metadata": {},
   "outputs": [],
   "source": [
    "#creating global variables in local"
   ]
  },
  {
   "cell_type": "code",
   "execution_count": null,
   "id": "4d1bfe88",
   "metadata": {},
   "outputs": [],
   "source": [
    "def f1():\n",
    "    global a,b\n",
    "    a = 444\n",
    "    b = 555\n",
    "    print(locals())\n",
    "    return a,b"
   ]
  },
  {
   "cell_type": "code",
   "execution_count": null,
   "id": "d543851b",
   "metadata": {},
   "outputs": [],
   "source": [
    "f1()"
   ]
  },
  {
   "cell_type": "code",
   "execution_count": null,
   "id": "a9cb0c35",
   "metadata": {},
   "outputs": [],
   "source": [
    "print(a,b)"
   ]
  },
  {
   "cell_type": "code",
   "execution_count": null,
   "id": "9b5ca1c7",
   "metadata": {},
   "outputs": [],
   "source": [
    "def f2():\n",
    "    return a"
   ]
  },
  {
   "cell_type": "code",
   "execution_count": null,
   "id": "50ffd9da",
   "metadata": {},
   "outputs": [],
   "source": [
    "f2()"
   ]
  },
  {
   "cell_type": "code",
   "execution_count": null,
   "id": "f4dda45b",
   "metadata": {},
   "outputs": [],
   "source": [
    "a=1000\n",
    "def f1():\n",
    "    a=100\n",
    "    def f2():\n",
    "        nonlocal a\n",
    "        a=a+10\n",
    "        return a\n",
    "    return f2()"
   ]
  },
  {
   "cell_type": "code",
   "execution_count": null,
   "id": "71d3c162",
   "metadata": {},
   "outputs": [],
   "source": [
    "f1()"
   ]
  },
  {
   "cell_type": "code",
   "execution_count": null,
   "id": "7b6226a3",
   "metadata": {},
   "outputs": [],
   "source": [
    "a=1000\n",
    "def f1():\n",
    "    a=100\n",
    "    def f2():\n",
    "        global a\n",
    "        a=a+10\n",
    "        return a\n",
    "    return f2()"
   ]
  },
  {
   "cell_type": "code",
   "execution_count": null,
   "id": "0d6b268c",
   "metadata": {},
   "outputs": [],
   "source": [
    "f1()"
   ]
  },
  {
   "cell_type": "code",
   "execution_count": null,
   "id": "3687088d",
   "metadata": {},
   "outputs": [],
   "source": [
    "#How to get one function variables into another function"
   ]
  },
  {
   "cell_type": "code",
   "execution_count": null,
   "id": "669030e3",
   "metadata": {},
   "outputs": [],
   "source": [
    "def f1():\n",
    "    a = 111\n",
    "    b = 222\n",
    "    return a+b"
   ]
  },
  {
   "cell_type": "code",
   "execution_count": null,
   "id": "e10e5c98",
   "metadata": {},
   "outputs": [],
   "source": [
    "f1()"
   ]
  },
  {
   "cell_type": "code",
   "execution_count": null,
   "id": "22f601dc",
   "metadata": {},
   "outputs": [],
   "source": [
    "def f2():\n",
    "    return f1.a,f1.b"
   ]
  },
  {
   "cell_type": "code",
   "execution_count": null,
   "id": "8b197115",
   "metadata": {},
   "outputs": [],
   "source": [
    "f2()"
   ]
  },
  {
   "cell_type": "code",
   "execution_count": 1,
   "id": "cd74e117",
   "metadata": {},
   "outputs": [],
   "source": [
    "def f1():\n",
    "    f1.a = 111\n",
    "    f1.b = 222\n",
    "    return f1.a+f1.b"
   ]
  },
  {
   "cell_type": "code",
   "execution_count": null,
   "id": "1bd514ee",
   "metadata": {},
   "outputs": [],
   "source": [
    "f1()"
   ]
  },
  {
   "cell_type": "code",
   "execution_count": 2,
   "id": "fa2af2de",
   "metadata": {},
   "outputs": [],
   "source": [
    "def f2():\n",
    "    f1()\n",
    "    return f1.a,f1.b"
   ]
  },
  {
   "cell_type": "code",
   "execution_count": 3,
   "id": "e069a941",
   "metadata": {},
   "outputs": [
    {
     "data": {
      "text/plain": [
       "(111, 222)"
      ]
     },
     "execution_count": 3,
     "metadata": {},
     "output_type": "execute_result"
    }
   ],
   "source": [
    "f2()"
   ]
  },
  {
   "cell_type": "code",
   "execution_count": 4,
   "id": "7bd7ca1f",
   "metadata": {},
   "outputs": [
    {
     "data": {
      "text/plain": [
       "111"
      ]
     },
     "execution_count": 4,
     "metadata": {},
     "output_type": "execute_result"
    }
   ],
   "source": [
    "f1.a"
   ]
  },
  {
   "cell_type": "code",
   "execution_count": 5,
   "id": "323eae74",
   "metadata": {},
   "outputs": [
    {
     "data": {
      "text/plain": [
       "222"
      ]
     },
     "execution_count": 5,
     "metadata": {},
     "output_type": "execute_result"
    }
   ],
   "source": [
    "f1.b"
   ]
  },
  {
   "cell_type": "code",
   "execution_count": 6,
   "id": "62067ec4",
   "metadata": {},
   "outputs": [],
   "source": [
    "def f1():\n",
    "    global m,n\n",
    "    m = 999\n",
    "    n = 888\n",
    "    return m+n"
   ]
  },
  {
   "cell_type": "code",
   "execution_count": 7,
   "id": "4679216f",
   "metadata": {},
   "outputs": [],
   "source": [
    "def f2():\n",
    "    f1()\n",
    "    return m,n"
   ]
  },
  {
   "cell_type": "code",
   "execution_count": 8,
   "id": "d0896e18",
   "metadata": {},
   "outputs": [
    {
     "data": {
      "text/plain": [
       "(999, 888)"
      ]
     },
     "execution_count": 8,
     "metadata": {},
     "output_type": "execute_result"
    }
   ],
   "source": [
    "f2()"
   ]
  },
  {
   "cell_type": "code",
   "execution_count": 9,
   "id": "e047a6b5",
   "metadata": {},
   "outputs": [],
   "source": [
    "def f1():\n",
    "    return 10,20,30"
   ]
  },
  {
   "cell_type": "code",
   "execution_count": 10,
   "id": "1b01e244",
   "metadata": {},
   "outputs": [
    {
     "data": {
      "text/plain": [
       "(10, 20, 30)"
      ]
     },
     "execution_count": 10,
     "metadata": {},
     "output_type": "execute_result"
    }
   ],
   "source": [
    "f1()"
   ]
  },
  {
   "cell_type": "code",
   "execution_count": 11,
   "id": "2953cbdd",
   "metadata": {},
   "outputs": [
    {
     "name": "stdout",
     "output_type": "stream",
     "text": [
      "10\n",
      "20\n",
      "30\n"
     ]
    }
   ],
   "source": [
    "m,n,p = f1()\n",
    "print(m)\n",
    "print(n)\n",
    "print(p)"
   ]
  },
  {
   "cell_type": "code",
   "execution_count": 12,
   "id": "b4bf2f26",
   "metadata": {},
   "outputs": [],
   "source": [
    "def f1():\n",
    "    return [100,200]"
   ]
  },
  {
   "cell_type": "code",
   "execution_count": 13,
   "id": "d319155e",
   "metadata": {},
   "outputs": [
    {
     "name": "stdout",
     "output_type": "stream",
     "text": [
      "100\n",
      "200\n"
     ]
    }
   ],
   "source": [
    "a,b = f1()\n",
    "print(a)\n",
    "print(b)"
   ]
  },
  {
   "cell_type": "code",
   "execution_count": null,
   "id": "15e64a40",
   "metadata": {},
   "outputs": [],
   "source": [
    "# * , ** , *args , **kwargs"
   ]
  },
  {
   "cell_type": "code",
   "execution_count": 14,
   "id": "a1ed3610",
   "metadata": {},
   "outputs": [],
   "source": [
    "L1 = [10,20,30,40,50]"
   ]
  },
  {
   "cell_type": "code",
   "execution_count": 15,
   "id": "7ea1ddb4",
   "metadata": {},
   "outputs": [
    {
     "name": "stdout",
     "output_type": "stream",
     "text": [
      "10 20 30 40 50 "
     ]
    }
   ],
   "source": [
    "for i in L1:\n",
    "    print(i,end=' ')"
   ]
  },
  {
   "cell_type": "code",
   "execution_count": 16,
   "id": "f21d8fd9",
   "metadata": {},
   "outputs": [
    {
     "name": "stdout",
     "output_type": "stream",
     "text": [
      "10 20 30 40 50\n"
     ]
    }
   ],
   "source": [
    "print(*L1)"
   ]
  },
  {
   "cell_type": "code",
   "execution_count": 17,
   "id": "c4134801",
   "metadata": {},
   "outputs": [
    {
     "ename": "SyntaxError",
     "evalue": "can't use starred expression here (Temp/ipykernel_3884/2455731670.py, line 1)",
     "output_type": "error",
     "traceback": [
      "\u001b[1;36m  File \u001b[1;32m\"C:\\Users\\User\\AppData\\Local\\Temp/ipykernel_3884/2455731670.py\"\u001b[1;36m, line \u001b[1;32m1\u001b[0m\n\u001b[1;33m    *L1\u001b[0m\n\u001b[1;37m    ^\u001b[0m\n\u001b[1;31mSyntaxError\u001b[0m\u001b[1;31m:\u001b[0m can't use starred expression here\n"
     ]
    }
   ],
   "source": [
    "*L1"
   ]
  },
  {
   "cell_type": "code",
   "execution_count": 18,
   "id": "8ae1dcc3",
   "metadata": {},
   "outputs": [
    {
     "ename": "SyntaxError",
     "evalue": "can't use starred expression here (Temp/ipykernel_3884/2205702382.py, line 1)",
     "output_type": "error",
     "traceback": [
      "\u001b[1;36m  File \u001b[1;32m\"C:\\Users\\User\\AppData\\Local\\Temp/ipykernel_3884/2205702382.py\"\u001b[1;36m, line \u001b[1;32m1\u001b[0m\n\u001b[1;33m    (*L1)\u001b[0m\n\u001b[1;37m     ^\u001b[0m\n\u001b[1;31mSyntaxError\u001b[0m\u001b[1;31m:\u001b[0m can't use starred expression here\n"
     ]
    }
   ],
   "source": [
    "(*L1)"
   ]
  },
  {
   "cell_type": "code",
   "execution_count": 19,
   "id": "68609fdc",
   "metadata": {},
   "outputs": [
    {
     "data": {
      "text/plain": [
       "[10, 20, 30, 40, 50]"
      ]
     },
     "execution_count": 19,
     "metadata": {},
     "output_type": "execute_result"
    }
   ],
   "source": [
    "[*L1]"
   ]
  },
  {
   "cell_type": "code",
   "execution_count": 23,
   "id": "845ce522",
   "metadata": {},
   "outputs": [],
   "source": [
    "def f1(a,b):\n",
    "    return a+b"
   ]
  },
  {
   "cell_type": "code",
   "execution_count": 24,
   "id": "bbaf3dfb",
   "metadata": {},
   "outputs": [
    {
     "data": {
      "text/plain": [
       "30"
      ]
     },
     "execution_count": 24,
     "metadata": {},
     "output_type": "execute_result"
    }
   ],
   "source": [
    "f1(10,20)"
   ]
  },
  {
   "cell_type": "code",
   "execution_count": 25,
   "id": "56eca1a2",
   "metadata": {},
   "outputs": [],
   "source": [
    "L1 = [100,200]"
   ]
  },
  {
   "cell_type": "code",
   "execution_count": 26,
   "id": "51db1146",
   "metadata": {},
   "outputs": [
    {
     "ename": "TypeError",
     "evalue": "f1() missing 1 required positional argument: 'b'",
     "output_type": "error",
     "traceback": [
      "\u001b[1;31m---------------------------------------------------------------------------\u001b[0m",
      "\u001b[1;31mTypeError\u001b[0m                                 Traceback (most recent call last)",
      "\u001b[1;32m~\\AppData\\Local\\Temp/ipykernel_3884/364008604.py\u001b[0m in \u001b[0;36m<module>\u001b[1;34m\u001b[0m\n\u001b[1;32m----> 1\u001b[1;33m \u001b[0mf1\u001b[0m\u001b[1;33m(\u001b[0m\u001b[0mL1\u001b[0m\u001b[1;33m)\u001b[0m\u001b[1;33m\u001b[0m\u001b[1;33m\u001b[0m\u001b[0m\n\u001b[0m",
      "\u001b[1;31mTypeError\u001b[0m: f1() missing 1 required positional argument: 'b'"
     ]
    }
   ],
   "source": [
    "f1(L1)"
   ]
  },
  {
   "cell_type": "code",
   "execution_count": 27,
   "id": "fcb67c97",
   "metadata": {},
   "outputs": [
    {
     "data": {
      "text/plain": [
       "300"
      ]
     },
     "execution_count": 27,
     "metadata": {},
     "output_type": "execute_result"
    }
   ],
   "source": [
    "f1(L1[0],L1[1])"
   ]
  },
  {
   "cell_type": "code",
   "execution_count": 28,
   "id": "ab86330a",
   "metadata": {},
   "outputs": [
    {
     "data": {
      "text/plain": [
       "300"
      ]
     },
     "execution_count": 28,
     "metadata": {},
     "output_type": "execute_result"
    }
   ],
   "source": [
    "f1(*L1)"
   ]
  },
  {
   "cell_type": "code",
   "execution_count": 29,
   "id": "2c34fae7",
   "metadata": {},
   "outputs": [],
   "source": [
    "L2=[10,20,30]"
   ]
  },
  {
   "cell_type": "code",
   "execution_count": 30,
   "id": "7c445059",
   "metadata": {},
   "outputs": [
    {
     "ename": "TypeError",
     "evalue": "f1() takes 2 positional arguments but 3 were given",
     "output_type": "error",
     "traceback": [
      "\u001b[1;31m---------------------------------------------------------------------------\u001b[0m",
      "\u001b[1;31mTypeError\u001b[0m                                 Traceback (most recent call last)",
      "\u001b[1;32m~\\AppData\\Local\\Temp/ipykernel_3884/1302240005.py\u001b[0m in \u001b[0;36m<module>\u001b[1;34m\u001b[0m\n\u001b[1;32m----> 1\u001b[1;33m \u001b[0mf1\u001b[0m\u001b[1;33m(\u001b[0m\u001b[1;33m*\u001b[0m\u001b[0mL2\u001b[0m\u001b[1;33m)\u001b[0m\u001b[1;33m\u001b[0m\u001b[1;33m\u001b[0m\u001b[0m\n\u001b[0m",
      "\u001b[1;31mTypeError\u001b[0m: f1() takes 2 positional arguments but 3 were given"
     ]
    }
   ],
   "source": [
    "f1(*L2)"
   ]
  },
  {
   "cell_type": "code",
   "execution_count": 34,
   "id": "d1a8e8ce",
   "metadata": {},
   "outputs": [],
   "source": [
    "L1=[10,20]\n",
    "T1=(11,22)\n",
    "s1={1,2}\n",
    "D1={'a':111,'b':222}"
   ]
  },
  {
   "cell_type": "code",
   "execution_count": 32,
   "id": "d4cfb854",
   "metadata": {},
   "outputs": [
    {
     "data": {
      "text/plain": [
       "30"
      ]
     },
     "execution_count": 32,
     "metadata": {},
     "output_type": "execute_result"
    }
   ],
   "source": [
    "f1(*L1)"
   ]
  },
  {
   "cell_type": "code",
   "execution_count": 33,
   "id": "fecd7ead",
   "metadata": {},
   "outputs": [
    {
     "data": {
      "text/plain": [
       "33"
      ]
     },
     "execution_count": 33,
     "metadata": {},
     "output_type": "execute_result"
    }
   ],
   "source": [
    "f1(*T1)"
   ]
  },
  {
   "cell_type": "code",
   "execution_count": 35,
   "id": "8f9e92c9",
   "metadata": {},
   "outputs": [
    {
     "data": {
      "text/plain": [
       "3"
      ]
     },
     "execution_count": 35,
     "metadata": {},
     "output_type": "execute_result"
    }
   ],
   "source": [
    "f1(*s1)"
   ]
  },
  {
   "cell_type": "code",
   "execution_count": 36,
   "id": "f6a92c2b",
   "metadata": {},
   "outputs": [
    {
     "data": {
      "text/plain": [
       "'ab'"
      ]
     },
     "execution_count": 36,
     "metadata": {},
     "output_type": "execute_result"
    }
   ],
   "source": [
    "f1(*D1)"
   ]
  },
  {
   "cell_type": "code",
   "execution_count": 37,
   "id": "32bc1891",
   "metadata": {},
   "outputs": [
    {
     "data": {
      "text/plain": [
       "333"
      ]
     },
     "execution_count": 37,
     "metadata": {},
     "output_type": "execute_result"
    }
   ],
   "source": [
    "f1(**D1)"
   ]
  },
  {
   "cell_type": "code",
   "execution_count": 38,
   "id": "2401d2ec",
   "metadata": {},
   "outputs": [],
   "source": [
    "D2={1:100,2:200}"
   ]
  },
  {
   "cell_type": "code",
   "execution_count": 39,
   "id": "64415943",
   "metadata": {},
   "outputs": [
    {
     "ename": "TypeError",
     "evalue": "keywords must be strings",
     "output_type": "error",
     "traceback": [
      "\u001b[1;31m---------------------------------------------------------------------------\u001b[0m",
      "\u001b[1;31mTypeError\u001b[0m                                 Traceback (most recent call last)",
      "\u001b[1;32m~\\AppData\\Local\\Temp/ipykernel_3884/3274932871.py\u001b[0m in \u001b[0;36m<module>\u001b[1;34m\u001b[0m\n\u001b[1;32m----> 1\u001b[1;33m \u001b[0mf1\u001b[0m\u001b[1;33m(\u001b[0m\u001b[1;33m**\u001b[0m\u001b[0mD2\u001b[0m\u001b[1;33m)\u001b[0m\u001b[1;33m\u001b[0m\u001b[1;33m\u001b[0m\u001b[0m\n\u001b[0m",
      "\u001b[1;31mTypeError\u001b[0m: keywords must be strings"
     ]
    }
   ],
   "source": [
    "f1(**D2)"
   ]
  },
  {
   "cell_type": "code",
   "execution_count": 40,
   "id": "c7d2e0c5",
   "metadata": {},
   "outputs": [],
   "source": [
    "D3={'b':222,'c':111}"
   ]
  },
  {
   "cell_type": "code",
   "execution_count": 41,
   "id": "ef2ba9ad",
   "metadata": {},
   "outputs": [
    {
     "ename": "TypeError",
     "evalue": "f1() got an unexpected keyword argument 'c'",
     "output_type": "error",
     "traceback": [
      "\u001b[1;31m---------------------------------------------------------------------------\u001b[0m",
      "\u001b[1;31mTypeError\u001b[0m                                 Traceback (most recent call last)",
      "\u001b[1;32m~\\AppData\\Local\\Temp/ipykernel_3884/3348109189.py\u001b[0m in \u001b[0;36m<module>\u001b[1;34m\u001b[0m\n\u001b[1;32m----> 1\u001b[1;33m \u001b[0mf1\u001b[0m\u001b[1;33m(\u001b[0m\u001b[1;33m**\u001b[0m\u001b[0mD3\u001b[0m\u001b[1;33m)\u001b[0m\u001b[1;33m\u001b[0m\u001b[1;33m\u001b[0m\u001b[0m\n\u001b[0m",
      "\u001b[1;31mTypeError\u001b[0m: f1() got an unexpected keyword argument 'c'"
     ]
    }
   ],
   "source": [
    "f1(**D3)"
   ]
  },
  {
   "cell_type": "code",
   "execution_count": 42,
   "id": "99cb206f",
   "metadata": {},
   "outputs": [],
   "source": [
    "D4={'b':222,'a':111}"
   ]
  },
  {
   "cell_type": "code",
   "execution_count": 43,
   "id": "bf745fd9",
   "metadata": {},
   "outputs": [
    {
     "data": {
      "text/plain": [
       "333"
      ]
     },
     "execution_count": 43,
     "metadata": {},
     "output_type": "execute_result"
    }
   ],
   "source": [
    "f1(**D4)"
   ]
  },
  {
   "cell_type": "code",
   "execution_count": 44,
   "id": "fbeb27a2",
   "metadata": {},
   "outputs": [
    {
     "data": {
      "text/plain": [
       "6"
      ]
     },
     "execution_count": 44,
     "metadata": {},
     "output_type": "execute_result"
    }
   ],
   "source": [
    "max(1,2,3,4,5,6)"
   ]
  },
  {
   "cell_type": "code",
   "execution_count": 45,
   "id": "eccd2755",
   "metadata": {},
   "outputs": [
    {
     "data": {
      "text/plain": [
       "3"
      ]
     },
     "execution_count": 45,
     "metadata": {},
     "output_type": "execute_result"
    }
   ],
   "source": [
    "max(1,2,3)"
   ]
  },
  {
   "cell_type": "code",
   "execution_count": 46,
   "id": "d6031877",
   "metadata": {},
   "outputs": [],
   "source": [
    "def pymax(*args):\n",
    "    return args"
   ]
  },
  {
   "cell_type": "code",
   "execution_count": 47,
   "id": "e3817267",
   "metadata": {},
   "outputs": [
    {
     "data": {
      "text/plain": [
       "(1, 2, 3, 4, 5)"
      ]
     },
     "execution_count": 47,
     "metadata": {},
     "output_type": "execute_result"
    }
   ],
   "source": [
    "pymax(1,2,3,4,5)"
   ]
  },
  {
   "cell_type": "code",
   "execution_count": 48,
   "id": "40ddbcc9",
   "metadata": {},
   "outputs": [
    {
     "data": {
      "text/plain": [
       "(1, 2, 3)"
      ]
     },
     "execution_count": 48,
     "metadata": {},
     "output_type": "execute_result"
    }
   ],
   "source": [
    "pymax(1,2,3)"
   ]
  },
  {
   "cell_type": "code",
   "execution_count": 49,
   "id": "8340fec9",
   "metadata": {},
   "outputs": [
    {
     "ename": "TypeError",
     "evalue": "pymax() got an unexpected keyword argument 'a'",
     "output_type": "error",
     "traceback": [
      "\u001b[1;31m---------------------------------------------------------------------------\u001b[0m",
      "\u001b[1;31mTypeError\u001b[0m                                 Traceback (most recent call last)",
      "\u001b[1;32m~\\AppData\\Local\\Temp/ipykernel_3884/610608868.py\u001b[0m in \u001b[0;36m<module>\u001b[1;34m\u001b[0m\n\u001b[1;32m----> 1\u001b[1;33m \u001b[0mpymax\u001b[0m\u001b[1;33m(\u001b[0m\u001b[0ma\u001b[0m\u001b[1;33m=\u001b[0m\u001b[1;36m10\u001b[0m\u001b[1;33m,\u001b[0m\u001b[0mb\u001b[0m\u001b[1;33m=\u001b[0m\u001b[1;36m20\u001b[0m\u001b[1;33m,\u001b[0m\u001b[0mc\u001b[0m\u001b[1;33m=\u001b[0m\u001b[1;36m30\u001b[0m\u001b[1;33m)\u001b[0m\u001b[1;33m\u001b[0m\u001b[1;33m\u001b[0m\u001b[0m\n\u001b[0m",
      "\u001b[1;31mTypeError\u001b[0m: pymax() got an unexpected keyword argument 'a'"
     ]
    }
   ],
   "source": [
    "pymax(a=10,b=20,c=30)"
   ]
  },
  {
   "cell_type": "code",
   "execution_count": 50,
   "id": "b9fdb9f1",
   "metadata": {},
   "outputs": [],
   "source": [
    "def pymax2(**kwargs):\n",
    "    return kwargs"
   ]
  },
  {
   "cell_type": "code",
   "execution_count": 51,
   "id": "8555cf06",
   "metadata": {},
   "outputs": [
    {
     "data": {
      "text/plain": [
       "{'a': 10, 'b': 20, 'c': 30}"
      ]
     },
     "execution_count": 51,
     "metadata": {},
     "output_type": "execute_result"
    }
   ],
   "source": [
    "pymax2(a=10,b=20,c=30)"
   ]
  },
  {
   "cell_type": "code",
   "execution_count": 52,
   "id": "d891dbe4",
   "metadata": {},
   "outputs": [
    {
     "ename": "TypeError",
     "evalue": "pymax2() takes 0 positional arguments but 3 were given",
     "output_type": "error",
     "traceback": [
      "\u001b[1;31m---------------------------------------------------------------------------\u001b[0m",
      "\u001b[1;31mTypeError\u001b[0m                                 Traceback (most recent call last)",
      "\u001b[1;32m~\\AppData\\Local\\Temp/ipykernel_3884/3752303174.py\u001b[0m in \u001b[0;36m<module>\u001b[1;34m\u001b[0m\n\u001b[1;32m----> 1\u001b[1;33m \u001b[0mpymax2\u001b[0m\u001b[1;33m(\u001b[0m\u001b[1;36m1\u001b[0m\u001b[1;33m,\u001b[0m\u001b[1;36m2\u001b[0m\u001b[1;33m,\u001b[0m\u001b[1;36m3\u001b[0m\u001b[1;33m)\u001b[0m\u001b[1;33m\u001b[0m\u001b[1;33m\u001b[0m\u001b[0m\n\u001b[0m",
      "\u001b[1;31mTypeError\u001b[0m: pymax2() takes 0 positional arguments but 3 were given"
     ]
    }
   ],
   "source": [
    "pymax2(1,2,3)"
   ]
  },
  {
   "cell_type": "code",
   "execution_count": 53,
   "id": "141eb3da",
   "metadata": {},
   "outputs": [],
   "source": [
    "def pymax(*args):\n",
    "    mx=args[0]\n",
    "    for i in args:\n",
    "        if i>mx:\n",
    "            mx=i\n",
    "    return mx"
   ]
  },
  {
   "cell_type": "code",
   "execution_count": 54,
   "id": "0a30cf61",
   "metadata": {},
   "outputs": [
    {
     "data": {
      "text/plain": [
       "7"
      ]
     },
     "execution_count": 54,
     "metadata": {},
     "output_type": "execute_result"
    }
   ],
   "source": [
    "pymax(1,2,3,4,5,6,7)"
   ]
  },
  {
   "cell_type": "code",
   "execution_count": 55,
   "id": "90a0c936",
   "metadata": {},
   "outputs": [
    {
     "data": {
      "text/plain": [
       "5"
      ]
     },
     "execution_count": 55,
     "metadata": {},
     "output_type": "execute_result"
    }
   ],
   "source": [
    "pymax(1,2,3,4,5,-6,-7)"
   ]
  },
  {
   "cell_type": "code",
   "execution_count": 56,
   "id": "7a83ee24",
   "metadata": {},
   "outputs": [
    {
     "data": {
      "text/plain": [
       "-1"
      ]
     },
     "execution_count": 56,
     "metadata": {},
     "output_type": "execute_result"
    }
   ],
   "source": [
    "pymax(-1,-2,-3,-4,-5,-6,-7)"
   ]
  },
  {
   "cell_type": "code",
   "execution_count": 57,
   "id": "3516faac",
   "metadata": {},
   "outputs": [
    {
     "ename": "IndexError",
     "evalue": "tuple index out of range",
     "output_type": "error",
     "traceback": [
      "\u001b[1;31m---------------------------------------------------------------------------\u001b[0m",
      "\u001b[1;31mIndexError\u001b[0m                                Traceback (most recent call last)",
      "\u001b[1;32m~\\AppData\\Local\\Temp/ipykernel_3884/2623877855.py\u001b[0m in \u001b[0;36m<module>\u001b[1;34m\u001b[0m\n\u001b[1;32m----> 1\u001b[1;33m \u001b[0mpymax\u001b[0m\u001b[1;33m(\u001b[0m\u001b[1;33m)\u001b[0m\u001b[1;33m\u001b[0m\u001b[1;33m\u001b[0m\u001b[0m\n\u001b[0m",
      "\u001b[1;32m~\\AppData\\Local\\Temp/ipykernel_3884/529411244.py\u001b[0m in \u001b[0;36mpymax\u001b[1;34m(*args)\u001b[0m\n\u001b[0;32m      1\u001b[0m \u001b[1;32mdef\u001b[0m \u001b[0mpymax\u001b[0m\u001b[1;33m(\u001b[0m\u001b[1;33m*\u001b[0m\u001b[0margs\u001b[0m\u001b[1;33m)\u001b[0m\u001b[1;33m:\u001b[0m\u001b[1;33m\u001b[0m\u001b[1;33m\u001b[0m\u001b[0m\n\u001b[1;32m----> 2\u001b[1;33m     \u001b[0mmx\u001b[0m\u001b[1;33m=\u001b[0m\u001b[0margs\u001b[0m\u001b[1;33m[\u001b[0m\u001b[1;36m0\u001b[0m\u001b[1;33m]\u001b[0m\u001b[1;33m\u001b[0m\u001b[1;33m\u001b[0m\u001b[0m\n\u001b[0m\u001b[0;32m      3\u001b[0m     \u001b[1;32mfor\u001b[0m \u001b[0mi\u001b[0m \u001b[1;32min\u001b[0m \u001b[0margs\u001b[0m\u001b[1;33m:\u001b[0m\u001b[1;33m\u001b[0m\u001b[1;33m\u001b[0m\u001b[0m\n\u001b[0;32m      4\u001b[0m         \u001b[1;32mif\u001b[0m \u001b[0mi\u001b[0m\u001b[1;33m>\u001b[0m\u001b[0mmx\u001b[0m\u001b[1;33m:\u001b[0m\u001b[1;33m\u001b[0m\u001b[1;33m\u001b[0m\u001b[0m\n\u001b[0;32m      5\u001b[0m             \u001b[0mmx\u001b[0m\u001b[1;33m=\u001b[0m\u001b[0mi\u001b[0m\u001b[1;33m\u001b[0m\u001b[1;33m\u001b[0m\u001b[0m\n",
      "\u001b[1;31mIndexError\u001b[0m: tuple index out of range"
     ]
    }
   ],
   "source": [
    "pymax()"
   ]
  },
  {
   "cell_type": "code",
   "execution_count": 58,
   "id": "5687c813",
   "metadata": {},
   "outputs": [],
   "source": [
    "D1={'a': 10, 'b': 20, 'c': 30}"
   ]
  },
  {
   "cell_type": "code",
   "execution_count": 59,
   "id": "f05f34ec",
   "metadata": {},
   "outputs": [
    {
     "data": {
      "text/plain": [
       "dict_values([10, 20, 30])"
      ]
     },
     "execution_count": 59,
     "metadata": {},
     "output_type": "execute_result"
    }
   ],
   "source": [
    "D1.values()"
   ]
  },
  {
   "cell_type": "code",
   "execution_count": 60,
   "id": "6c90452f",
   "metadata": {},
   "outputs": [
    {
     "data": {
      "text/plain": [
       "[10, 20, 30]"
      ]
     },
     "execution_count": 60,
     "metadata": {},
     "output_type": "execute_result"
    }
   ],
   "source": [
    "list(D1.values())"
   ]
  },
  {
   "cell_type": "code",
   "execution_count": 61,
   "id": "60cd4958",
   "metadata": {},
   "outputs": [
    {
     "data": {
      "text/plain": [
       "10"
      ]
     },
     "execution_count": 61,
     "metadata": {},
     "output_type": "execute_result"
    }
   ],
   "source": [
    "list(D1.values())[0]"
   ]
  },
  {
   "cell_type": "code",
   "execution_count": 62,
   "id": "586868f4",
   "metadata": {},
   "outputs": [],
   "source": [
    "def pymax2(**kwargs):\n",
    "    mx=list(kwargs.values())[0]\n",
    "    for i in kwargs.values():\n",
    "        if i>mx:\n",
    "            mx=i\n",
    "    return mx"
   ]
  },
  {
   "cell_type": "code",
   "execution_count": 66,
   "id": "211836b8",
   "metadata": {},
   "outputs": [
    {
     "data": {
      "text/plain": [
       "2000"
      ]
     },
     "execution_count": 66,
     "metadata": {},
     "output_type": "execute_result"
    }
   ],
   "source": [
    "pymax2(a=1000,b=2000,c=30,d=555)"
   ]
  },
  {
   "cell_type": "code",
   "execution_count": 71,
   "id": "8002f7cf",
   "metadata": {},
   "outputs": [],
   "source": [
    "def pymax3(*args,**kwargs):\n",
    "    if args:\n",
    "        mx=args[0]\n",
    "        for i in args:\n",
    "            if i>mx:\n",
    "                mx=i\n",
    "        return mx\n",
    "    elif kwargs:\n",
    "        mx=list(kwargs.values())[0]\n",
    "        for i in kwargs.values():\n",
    "            if i>mx:\n",
    "                mx=i\n",
    "        return mx\n",
    "    else:\n",
    "        return None"
   ]
  },
  {
   "cell_type": "code",
   "execution_count": 72,
   "id": "007cb918",
   "metadata": {},
   "outputs": [
    {
     "data": {
      "text/plain": [
       "6"
      ]
     },
     "execution_count": 72,
     "metadata": {},
     "output_type": "execute_result"
    }
   ],
   "source": [
    "pymax3(1,2,3,4,5,6)"
   ]
  },
  {
   "cell_type": "code",
   "execution_count": 73,
   "id": "1284a2cf",
   "metadata": {},
   "outputs": [
    {
     "data": {
      "text/plain": [
       "2000"
      ]
     },
     "execution_count": 73,
     "metadata": {},
     "output_type": "execute_result"
    }
   ],
   "source": [
    "pymax3(a=1000,b=2000,c=30,d=555)"
   ]
  },
  {
   "cell_type": "code",
   "execution_count": 74,
   "id": "ac0e1ab7",
   "metadata": {},
   "outputs": [],
   "source": [
    "pymax3()"
   ]
  },
  {
   "cell_type": "code",
   "execution_count": null,
   "id": "d6c43d5d",
   "metadata": {},
   "outputs": [],
   "source": []
  },
  {
   "cell_type": "code",
   "execution_count": null,
   "id": "001c0052",
   "metadata": {},
   "outputs": [],
   "source": []
  },
  {
   "cell_type": "code",
   "execution_count": null,
   "id": "0457f880",
   "metadata": {},
   "outputs": [],
   "source": []
  }
 ],
 "metadata": {
  "kernelspec": {
   "display_name": "Python 3 (ipykernel)",
   "language": "python",
   "name": "python3"
  },
  "language_info": {
   "codemirror_mode": {
    "name": "ipython",
    "version": 3
   },
   "file_extension": ".py",
   "mimetype": "text/x-python",
   "name": "python",
   "nbconvert_exporter": "python",
   "pygments_lexer": "ipython3",
   "version": "3.9.7"
  }
 },
 "nbformat": 4,
 "nbformat_minor": 5
}
