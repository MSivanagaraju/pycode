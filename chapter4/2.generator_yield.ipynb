{
 "cells": [
  {
   "cell_type": "code",
   "execution_count": null,
   "id": "97cba6f5",
   "metadata": {},
   "outputs": [],
   "source": [
    "#Generator"
   ]
  },
  {
   "cell_type": "code",
   "execution_count": 1,
   "id": "c7bc1b84",
   "metadata": {},
   "outputs": [
    {
     "name": "stdout",
     "output_type": "stream",
     "text": [
      "[1, 2, 3, 4, 5, 6, 7, 8, 9, 10]\n"
     ]
    },
    {
     "data": {
      "text/plain": [
       "list"
      ]
     },
     "execution_count": 1,
     "metadata": {},
     "output_type": "execute_result"
    }
   ],
   "source": [
    "L1 = [n for n in range(1,11)]\n",
    "print(L1)\n",
    "type(L1)"
   ]
  },
  {
   "cell_type": "code",
   "execution_count": 2,
   "id": "6cf224c0",
   "metadata": {},
   "outputs": [],
   "source": [
    "g1 = (n*n for n in range(1,11))"
   ]
  },
  {
   "cell_type": "code",
   "execution_count": 3,
   "id": "40d074a9",
   "metadata": {},
   "outputs": [
    {
     "name": "stdout",
     "output_type": "stream",
     "text": [
      "<generator object <genexpr> at 0x0000028631B9E820>\n"
     ]
    }
   ],
   "source": [
    "print(g1)"
   ]
  },
  {
   "cell_type": "code",
   "execution_count": 4,
   "id": "088d8ac4",
   "metadata": {},
   "outputs": [
    {
     "ename": "TypeError",
     "evalue": "object of type 'generator' has no len()",
     "output_type": "error",
     "traceback": [
      "\u001b[1;31m---------------------------------------------------------------------------\u001b[0m",
      "\u001b[1;31mTypeError\u001b[0m                                 Traceback (most recent call last)",
      "\u001b[1;32m~\\AppData\\Local\\Temp/ipykernel_18688/1019870308.py\u001b[0m in \u001b[0;36m<module>\u001b[1;34m\u001b[0m\n\u001b[1;32m----> 1\u001b[1;33m \u001b[0mlen\u001b[0m\u001b[1;33m(\u001b[0m\u001b[0mg1\u001b[0m\u001b[1;33m)\u001b[0m\u001b[1;33m\u001b[0m\u001b[1;33m\u001b[0m\u001b[0m\n\u001b[0m",
      "\u001b[1;31mTypeError\u001b[0m: object of type 'generator' has no len()"
     ]
    }
   ],
   "source": [
    "len(g1)"
   ]
  },
  {
   "cell_type": "code",
   "execution_count": 5,
   "id": "19b557fc",
   "metadata": {},
   "outputs": [
    {
     "ename": "TypeError",
     "evalue": "'generator' object is not subscriptable",
     "output_type": "error",
     "traceback": [
      "\u001b[1;31m---------------------------------------------------------------------------\u001b[0m",
      "\u001b[1;31mTypeError\u001b[0m                                 Traceback (most recent call last)",
      "\u001b[1;32m~\\AppData\\Local\\Temp/ipykernel_18688/1433437842.py\u001b[0m in \u001b[0;36m<module>\u001b[1;34m\u001b[0m\n\u001b[1;32m----> 1\u001b[1;33m \u001b[0mg1\u001b[0m\u001b[1;33m[\u001b[0m\u001b[1;36m0\u001b[0m\u001b[1;33m]\u001b[0m\u001b[1;33m\u001b[0m\u001b[1;33m\u001b[0m\u001b[0m\n\u001b[0m",
      "\u001b[1;31mTypeError\u001b[0m: 'generator' object is not subscriptable"
     ]
    }
   ],
   "source": [
    "g1[0]"
   ]
  },
  {
   "cell_type": "code",
   "execution_count": 6,
   "id": "8590d9da",
   "metadata": {},
   "outputs": [
    {
     "ename": "TypeError",
     "evalue": "'generator' object is not subscriptable",
     "output_type": "error",
     "traceback": [
      "\u001b[1;31m---------------------------------------------------------------------------\u001b[0m",
      "\u001b[1;31mTypeError\u001b[0m                                 Traceback (most recent call last)",
      "\u001b[1;32m~\\AppData\\Local\\Temp/ipykernel_18688/2350916368.py\u001b[0m in \u001b[0;36m<module>\u001b[1;34m\u001b[0m\n\u001b[1;32m----> 1\u001b[1;33m \u001b[0mg1\u001b[0m\u001b[1;33m[\u001b[0m\u001b[1;33m:\u001b[0m\u001b[1;33m]\u001b[0m\u001b[1;33m\u001b[0m\u001b[1;33m\u001b[0m\u001b[0m\n\u001b[0m",
      "\u001b[1;31mTypeError\u001b[0m: 'generator' object is not subscriptable"
     ]
    }
   ],
   "source": [
    "g1[:]"
   ]
  },
  {
   "cell_type": "code",
   "execution_count": 7,
   "id": "f6504f2d",
   "metadata": {},
   "outputs": [
    {
     "data": {
      "text/plain": [
       "generator"
      ]
     },
     "execution_count": 7,
     "metadata": {},
     "output_type": "execute_result"
    }
   ],
   "source": [
    "type(g1)"
   ]
  },
  {
   "cell_type": "code",
   "execution_count": 8,
   "id": "6031fc0a",
   "metadata": {},
   "outputs": [],
   "source": [
    "IT1 = iter(L1)"
   ]
  },
  {
   "cell_type": "code",
   "execution_count": 9,
   "id": "f0f6dfe9",
   "metadata": {},
   "outputs": [
    {
     "data": {
      "text/plain": [
       "list_iterator"
      ]
     },
     "execution_count": 9,
     "metadata": {},
     "output_type": "execute_result"
    }
   ],
   "source": [
    "type(IT1)"
   ]
  },
  {
   "cell_type": "code",
   "execution_count": 10,
   "id": "f67e2c42",
   "metadata": {},
   "outputs": [],
   "source": [
    "IT2 = iter(n+n for n in range(1,6))"
   ]
  },
  {
   "cell_type": "code",
   "execution_count": 11,
   "id": "7e8eec26",
   "metadata": {},
   "outputs": [
    {
     "name": "stdout",
     "output_type": "stream",
     "text": [
      "<generator object <genexpr> at 0x0000028631CD4DD0>\n"
     ]
    }
   ],
   "source": [
    "print(IT2)"
   ]
  },
  {
   "cell_type": "code",
   "execution_count": 12,
   "id": "835b2385",
   "metadata": {},
   "outputs": [
    {
     "name": "stdout",
     "output_type": "stream",
     "text": [
      "Pretty printing has been turned OFF\n"
     ]
    }
   ],
   "source": [
    "pprint"
   ]
  },
  {
   "cell_type": "code",
   "execution_count": 13,
   "id": "441cc586",
   "metadata": {},
   "outputs": [
    {
     "data": {
      "text/plain": [
       "['__class__', '__del__', '__delattr__', '__dir__', '__doc__', '__eq__', '__format__', '__ge__', '__getattribute__', '__gt__', '__hash__', '__init__', '__init_subclass__', '__iter__', '__le__', '__lt__', '__name__', '__ne__', '__new__', '__next__', '__qualname__', '__reduce__', '__reduce_ex__', '__repr__', '__setattr__', '__sizeof__', '__str__', '__subclasshook__', 'close', 'gi_code', 'gi_frame', 'gi_running', 'gi_yieldfrom', 'send', 'throw']"
      ]
     },
     "execution_count": 13,
     "metadata": {},
     "output_type": "execute_result"
    }
   ],
   "source": [
    "dir(IT2)"
   ]
  },
  {
   "cell_type": "code",
   "execution_count": 14,
   "id": "55ff8e3d",
   "metadata": {},
   "outputs": [],
   "source": [
    "g2 = (n+n for n in range(1,5))"
   ]
  },
  {
   "cell_type": "code",
   "execution_count": 15,
   "id": "4bf1c2d2",
   "metadata": {},
   "outputs": [
    {
     "data": {
      "text/plain": [
       "['__class__', '__del__', '__delattr__', '__dir__', '__doc__', '__eq__', '__format__', '__ge__', '__getattribute__', '__gt__', '__hash__', '__init__', '__init_subclass__', '__iter__', '__le__', '__lt__', '__name__', '__ne__', '__new__', '__next__', '__qualname__', '__reduce__', '__reduce_ex__', '__repr__', '__setattr__', '__sizeof__', '__str__', '__subclasshook__', 'close', 'gi_code', 'gi_frame', 'gi_running', 'gi_yieldfrom', 'send', 'throw']"
      ]
     },
     "execution_count": 15,
     "metadata": {},
     "output_type": "execute_result"
    }
   ],
   "source": [
    "dir(g2)"
   ]
  },
  {
   "cell_type": "code",
   "execution_count": 16,
   "id": "1dc4730f",
   "metadata": {},
   "outputs": [
    {
     "data": {
      "text/plain": [
       "2"
      ]
     },
     "execution_count": 16,
     "metadata": {},
     "output_type": "execute_result"
    }
   ],
   "source": [
    "next(g2)"
   ]
  },
  {
   "cell_type": "code",
   "execution_count": 17,
   "id": "7b293a08",
   "metadata": {},
   "outputs": [
    {
     "data": {
      "text/plain": [
       "4"
      ]
     },
     "execution_count": 17,
     "metadata": {},
     "output_type": "execute_result"
    }
   ],
   "source": [
    "next(g2)"
   ]
  },
  {
   "cell_type": "code",
   "execution_count": 18,
   "id": "865e0b55",
   "metadata": {},
   "outputs": [
    {
     "data": {
      "text/plain": [
       "6"
      ]
     },
     "execution_count": 18,
     "metadata": {},
     "output_type": "execute_result"
    }
   ],
   "source": [
    "next(g2)"
   ]
  },
  {
   "cell_type": "code",
   "execution_count": 19,
   "id": "feb90f6d",
   "metadata": {},
   "outputs": [
    {
     "data": {
      "text/plain": [
       "8"
      ]
     },
     "execution_count": 19,
     "metadata": {},
     "output_type": "execute_result"
    }
   ],
   "source": [
    "next(g2)"
   ]
  },
  {
   "cell_type": "code",
   "execution_count": 20,
   "id": "714b2085",
   "metadata": {},
   "outputs": [
    {
     "ename": "StopIteration",
     "evalue": "",
     "output_type": "error",
     "traceback": [
      "\u001b[1;31m---------------------------------------------------------------------------\u001b[0m",
      "\u001b[1;31mStopIteration\u001b[0m                             Traceback (most recent call last)",
      "\u001b[1;32m~\\AppData\\Local\\Temp/ipykernel_18688/3665128781.py\u001b[0m in \u001b[0;36m<module>\u001b[1;34m\u001b[0m\n\u001b[1;32m----> 1\u001b[1;33m \u001b[0mnext\u001b[0m\u001b[1;33m(\u001b[0m\u001b[0mg2\u001b[0m\u001b[1;33m)\u001b[0m\u001b[1;33m\u001b[0m\u001b[1;33m\u001b[0m\u001b[0m\n\u001b[0m",
      "\u001b[1;31mStopIteration\u001b[0m: "
     ]
    }
   ],
   "source": [
    "next(g2)"
   ]
  },
  {
   "cell_type": "code",
   "execution_count": 21,
   "id": "737f4813",
   "metadata": {},
   "outputs": [
    {
     "name": "stdout",
     "output_type": "stream",
     "text": [
      "<generator object <genexpr> at 0x0000028631CEA890>\n"
     ]
    }
   ],
   "source": [
    "g3 = (n for n in range(1,21) if n%2==0)\n",
    "print(g3)"
   ]
  },
  {
   "cell_type": "code",
   "execution_count": 22,
   "id": "10cd53d3",
   "metadata": {},
   "outputs": [
    {
     "name": "stdout",
     "output_type": "stream",
     "text": [
      "2 4 6 8 10 12 14 16 18 20 "
     ]
    }
   ],
   "source": [
    "for i in g3:\n",
    "    print(i,end=\" \")"
   ]
  },
  {
   "cell_type": "code",
   "execution_count": 23,
   "id": "19d84cf3",
   "metadata": {},
   "outputs": [],
   "source": [
    "for i in g3:\n",
    "    print(i,end=\" \")"
   ]
  },
  {
   "cell_type": "code",
   "execution_count": 24,
   "id": "c6ca1139",
   "metadata": {},
   "outputs": [
    {
     "name": "stdout",
     "output_type": "stream",
     "text": [
      "<generator object <genexpr> at 0x0000028631CEAC80>\n"
     ]
    }
   ],
   "source": [
    "g4 = (n+n for n in range(1,21) if n%2==0)\n",
    "print(g4)"
   ]
  },
  {
   "cell_type": "code",
   "execution_count": 25,
   "id": "f129143c",
   "metadata": {},
   "outputs": [
    {
     "name": "stdout",
     "output_type": "stream",
     "text": [
      "4 8 12 16 20 24 28 32 36 40 "
     ]
    }
   ],
   "source": [
    "for i in g4:\n",
    "    print(i,end=\" \")"
   ]
  },
  {
   "cell_type": "code",
   "execution_count": 26,
   "id": "c6df863c",
   "metadata": {},
   "outputs": [
    {
     "data": {
      "text/plain": [
       "110"
      ]
     },
     "execution_count": 26,
     "metadata": {},
     "output_type": "execute_result"
    }
   ],
   "source": [
    "sum(n for n in range(1,21) if n%2==0)"
   ]
  },
  {
   "cell_type": "code",
   "execution_count": null,
   "id": "c51b9487",
   "metadata": {},
   "outputs": [],
   "source": [
    "#yield"
   ]
  },
  {
   "cell_type": "code",
   "execution_count": 27,
   "id": "439e9a95",
   "metadata": {},
   "outputs": [],
   "source": [
    "def f1():\n",
    "    for i in range(1,6):\n",
    "        print(i)"
   ]
  },
  {
   "cell_type": "code",
   "execution_count": 28,
   "id": "81be9a15",
   "metadata": {},
   "outputs": [
    {
     "name": "stdout",
     "output_type": "stream",
     "text": [
      "1\n",
      "2\n",
      "3\n",
      "4\n",
      "5\n"
     ]
    }
   ],
   "source": [
    "f1()"
   ]
  },
  {
   "cell_type": "code",
   "execution_count": 29,
   "id": "89972d87",
   "metadata": {},
   "outputs": [
    {
     "name": "stdout",
     "output_type": "stream",
     "text": [
      "1\n",
      "2\n",
      "3\n",
      "4\n",
      "5\n",
      "None\n"
     ]
    }
   ],
   "source": [
    "print(f1())"
   ]
  },
  {
   "cell_type": "code",
   "execution_count": 30,
   "id": "07c254c3",
   "metadata": {},
   "outputs": [],
   "source": [
    "def f2():\n",
    "    for i in range(1,6):\n",
    "        return i"
   ]
  },
  {
   "cell_type": "code",
   "execution_count": 31,
   "id": "4e17c2c8",
   "metadata": {},
   "outputs": [
    {
     "data": {
      "text/plain": [
       "1"
      ]
     },
     "execution_count": 31,
     "metadata": {},
     "output_type": "execute_result"
    }
   ],
   "source": [
    "f2()"
   ]
  },
  {
   "cell_type": "code",
   "execution_count": 32,
   "id": "a9470685",
   "metadata": {},
   "outputs": [],
   "source": [
    "def f3():\n",
    "    print(\"welcome\")\n",
    "    print(\"good morning\")\n",
    "    return \"Okay\"\n",
    "    print(\"Thanks\")"
   ]
  },
  {
   "cell_type": "code",
   "execution_count": 33,
   "id": "be7fb24a",
   "metadata": {},
   "outputs": [
    {
     "name": "stdout",
     "output_type": "stream",
     "text": [
      "welcome\n",
      "good morning\n"
     ]
    },
    {
     "data": {
      "text/plain": [
       "'Okay'"
      ]
     },
     "execution_count": 33,
     "metadata": {},
     "output_type": "execute_result"
    }
   ],
   "source": [
    "f3()"
   ]
  },
  {
   "cell_type": "code",
   "execution_count": 34,
   "id": "7994fd5c",
   "metadata": {},
   "outputs": [],
   "source": [
    "def f4():\n",
    "    for i in range(1,6):\n",
    "        yield i"
   ]
  },
  {
   "cell_type": "code",
   "execution_count": 35,
   "id": "8da7dac7",
   "metadata": {},
   "outputs": [
    {
     "data": {
      "text/plain": [
       "<generator object f4 at 0x0000028631CEC890>"
      ]
     },
     "execution_count": 35,
     "metadata": {},
     "output_type": "execute_result"
    }
   ],
   "source": [
    "f4()"
   ]
  },
  {
   "cell_type": "code",
   "execution_count": 36,
   "id": "7f4abc4d",
   "metadata": {},
   "outputs": [
    {
     "name": "stdout",
     "output_type": "stream",
     "text": [
      "<generator object f4 at 0x0000028631CEC9E0>\n"
     ]
    }
   ],
   "source": [
    "print(f4())"
   ]
  },
  {
   "cell_type": "code",
   "execution_count": 37,
   "id": "40b32190",
   "metadata": {},
   "outputs": [],
   "source": [
    "gen1 = f4()"
   ]
  },
  {
   "cell_type": "code",
   "execution_count": 38,
   "id": "0f5cf19c",
   "metadata": {},
   "outputs": [
    {
     "data": {
      "text/plain": [
       "1"
      ]
     },
     "execution_count": 38,
     "metadata": {},
     "output_type": "execute_result"
    }
   ],
   "source": [
    "next(gen1)"
   ]
  },
  {
   "cell_type": "code",
   "execution_count": 39,
   "id": "4770eced",
   "metadata": {},
   "outputs": [
    {
     "name": "stdout",
     "output_type": "stream",
     "text": [
      "2\n",
      "3\n",
      "4\n",
      "5\n"
     ]
    }
   ],
   "source": [
    "for i in gen1:\n",
    "    print(i)"
   ]
  },
  {
   "cell_type": "code",
   "execution_count": 40,
   "id": "64211a76",
   "metadata": {},
   "outputs": [],
   "source": [
    "import re"
   ]
  },
  {
   "cell_type": "code",
   "execution_count": 41,
   "id": "1c810675",
   "metadata": {},
   "outputs": [],
   "source": [
    "fname = r\"D:\\pfiles\\students.txt\""
   ]
  },
  {
   "cell_type": "code",
   "execution_count": 42,
   "id": "0eb8e8c5",
   "metadata": {},
   "outputs": [],
   "source": [
    "fobj = open(fname)"
   ]
  },
  {
   "cell_type": "code",
   "execution_count": 43,
   "id": "2d412235",
   "metadata": {},
   "outputs": [
    {
     "name": "stdout",
     "output_type": "stream",
     "text": [
      "Enter Course Name :python\n",
      "101,raju,python,9000\n",
      "\n",
      "103,ramesh,PYTHON,7500\n",
      "\n",
      "106,ramesh,Python,7500\n",
      "\n",
      "118,sunder,python,8000\n"
     ]
    }
   ],
   "source": [
    "fobj = open(fname)\n",
    "course = input(\"Enter Course Name :\").replace(\" \",\"\")\n",
    "for i in fobj:\n",
    "    if re.search(re.escape(course),i.split(\",\")[2].replace(\" \",\"\"),re.I):\n",
    "        print(i)"
   ]
  },
  {
   "cell_type": "code",
   "execution_count": 44,
   "id": "684e93c3",
   "metadata": {},
   "outputs": [],
   "source": [
    "def findstudents(fname,course):\n",
    "    fobj = open(fname)\n",
    "    for i in fobj:\n",
    "        if re.search(re.escape(course.replace(\" \",\"\")),i.split(\",\")[2].replace(\" \",\"\"),re.I):\n",
    "            print(i)"
   ]
  },
  {
   "cell_type": "code",
   "execution_count": 45,
   "id": "be537eab",
   "metadata": {},
   "outputs": [
    {
     "name": "stdout",
     "output_type": "stream",
     "text": [
      "101,raju,python,9000\n",
      "\n",
      "103,ramesh,PYTHON,7500\n",
      "\n",
      "106,ramesh,Python,7500\n",
      "\n",
      "118,sunder,python,8000\n"
     ]
    }
   ],
   "source": [
    "findstudents(fname,\"python\")"
   ]
  },
  {
   "cell_type": "code",
   "execution_count": 46,
   "id": "0b7f322b",
   "metadata": {},
   "outputs": [
    {
     "name": "stdout",
     "output_type": "stream",
     "text": [
      "101,raju,python,9000\n",
      "\n",
      "103,ramesh,PYTHON,7500\n",
      "\n",
      "106,ramesh,Python,7500\n",
      "\n",
      "118,sunder,python,8000\n",
      "None\n"
     ]
    }
   ],
   "source": [
    "print(findstudents(fname,'python'))"
   ]
  },
  {
   "cell_type": "code",
   "execution_count": 47,
   "id": "15d37595",
   "metadata": {},
   "outputs": [],
   "source": [
    "fname = r\"D:\\pfiles\\students.txt\""
   ]
  },
  {
   "cell_type": "code",
   "execution_count": 48,
   "id": "d43cb075",
   "metadata": {},
   "outputs": [],
   "source": [
    "def findstudents(fname,course):\n",
    "    try:\n",
    "        global fobj\n",
    "        fobj = open(fname)\n",
    "    except(FileNotFoundError):\n",
    "        return \"Given file not existed\"\n",
    "    else:\n",
    "        for i in fobj:\n",
    "            if re.search(re.escape(course.replace(\" \",\"\")),i.split(\",\")[2].replace(\" \",\"\"),re.I):\n",
    "                print(i)\n",
    "    finally:\n",
    "        fobj.close()"
   ]
  },
  {
   "cell_type": "code",
   "execution_count": 49,
   "id": "e2e948c7",
   "metadata": {},
   "outputs": [
    {
     "name": "stdout",
     "output_type": "stream",
     "text": [
      "101,raju,python,9000\n",
      "\n",
      "103,ramesh,PYTHON,7500\n",
      "\n",
      "106,ramesh,Python,7500\n",
      "\n",
      "118,sunder,python,8000\n"
     ]
    }
   ],
   "source": [
    "findstudents(fname,\"python\")"
   ]
  },
  {
   "cell_type": "code",
   "execution_count": 50,
   "id": "bcb54951",
   "metadata": {},
   "outputs": [],
   "source": [
    "fname = r\"D:\\pfiles\\students.txt\""
   ]
  },
  {
   "cell_type": "code",
   "execution_count": 51,
   "id": "7ef48c01",
   "metadata": {},
   "outputs": [],
   "source": [
    "def findstudents(fname,course):\n",
    "    try:\n",
    "        global fobj\n",
    "        fobj = open(fname)\n",
    "    except(FileNotFoundError):\n",
    "        return \"Given file not existed\"\n",
    "    else:\n",
    "        for i in fobj:\n",
    "            if re.search(re.escape(course.replace(\" \",\"\")),i.split(\",\")[2].replace(\" \",\"\"),re.I):\n",
    "                return i\n",
    "    finally:\n",
    "        fobj.close()"
   ]
  },
  {
   "cell_type": "code",
   "execution_count": 52,
   "id": "6687a676",
   "metadata": {},
   "outputs": [
    {
     "data": {
      "text/plain": [
       "'101,raju,python,9000\\n'"
      ]
     },
     "execution_count": 52,
     "metadata": {},
     "output_type": "execute_result"
    }
   ],
   "source": [
    "findstudents(fname,\"python\")"
   ]
  },
  {
   "cell_type": "code",
   "execution_count": 53,
   "id": "ab2283e0",
   "metadata": {},
   "outputs": [],
   "source": [
    "def findstudents(fname,course):\n",
    "    try:\n",
    "        global fobj\n",
    "        fobj = open(fname)\n",
    "    except(FileNotFoundError):\n",
    "        return \"Given file not existed\"\n",
    "    else:\n",
    "        for i in fobj:\n",
    "            if re.search(re.escape(course.replace(\" \",\"\")),i.split(\",\")[2].replace(\" \",\"\"),re.I):\n",
    "                yield i\n",
    "    finally:\n",
    "        fobj.close()"
   ]
  },
  {
   "cell_type": "code",
   "execution_count": 54,
   "id": "39ae4d4d",
   "metadata": {},
   "outputs": [],
   "source": [
    "stud_gen = findstudents(fname,\"python\")"
   ]
  },
  {
   "cell_type": "code",
   "execution_count": 55,
   "id": "e3ae8dd1",
   "metadata": {},
   "outputs": [
    {
     "data": {
      "text/plain": [
       "'101,raju,python,9000\\n'"
      ]
     },
     "execution_count": 55,
     "metadata": {},
     "output_type": "execute_result"
    }
   ],
   "source": [
    "next(stud_gen)"
   ]
  },
  {
   "cell_type": "code",
   "execution_count": 56,
   "id": "a7f67e2b",
   "metadata": {},
   "outputs": [
    {
     "name": "stdout",
     "output_type": "stream",
     "text": [
      "103,ramesh,PYTHON,7500\n",
      "\n",
      "106,ramesh,Python,7500\n",
      "\n",
      "118,sunder,python,8000\n"
     ]
    }
   ],
   "source": [
    "for i in stud_gen:\n",
    "    print(i)"
   ]
  },
  {
   "cell_type": "code",
   "execution_count": null,
   "id": "ea82c74b",
   "metadata": {},
   "outputs": [],
   "source": []
  },
  {
   "cell_type": "code",
   "execution_count": null,
   "id": "dd1614ac",
   "metadata": {},
   "outputs": [],
   "source": []
  }
 ],
 "metadata": {
  "kernelspec": {
   "display_name": "Python 3 (ipykernel)",
   "language": "python",
   "name": "python3"
  },
  "language_info": {
   "codemirror_mode": {
    "name": "ipython",
    "version": 3
   },
   "file_extension": ".py",
   "mimetype": "text/x-python",
   "name": "python",
   "nbconvert_exporter": "python",
   "pygments_lexer": "ipython3",
   "version": "3.9.7"
  }
 },
 "nbformat": 4,
 "nbformat_minor": 5
}
