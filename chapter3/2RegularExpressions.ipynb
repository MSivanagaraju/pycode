{
 "cells": [
  {
   "cell_type": "code",
   "execution_count": null,
   "id": "480d7bd3",
   "metadata": {},
   "outputs": [],
   "source": [
    "#Regular Expression"
   ]
  },
  {
   "cell_type": "code",
   "execution_count": null,
   "id": "96f747f9",
   "metadata": {},
   "outputs": [],
   "source": [
    "# Meta Characters\n",
    "# special squences\n",
    "# methods(split,finall,compile,escape,sub,subn,fullmatch)"
   ]
  },
  {
   "cell_type": "code",
   "execution_count": 4,
   "id": "bd6d16d2",
   "metadata": {},
   "outputs": [
    {
     "name": "stdout",
     "output_type": "stream",
     "text": [
      "Are you coming for today class ? = Yes\n",
      "Welcome\n"
     ]
    }
   ],
   "source": [
    "ans = input(\"Are you coming for today class ? = \") #yes , YES, YeS, YEs, i am coming yes\n",
    "if ans=='Yes':\n",
    "    print(\"Welcome\")\n",
    "else:\n",
    "    print(\"Take Rest\")"
   ]
  },
  {
   "cell_type": "code",
   "execution_count": 5,
   "id": "5fed1111",
   "metadata": {},
   "outputs": [],
   "source": [
    "import re"
   ]
  },
  {
   "cell_type": "code",
   "execution_count": 6,
   "id": "caf78d98",
   "metadata": {},
   "outputs": [
    {
     "data": {
      "text/plain": [
       "module"
      ]
     },
     "execution_count": 6,
     "metadata": {},
     "output_type": "execute_result"
    }
   ],
   "source": [
    "type(re)"
   ]
  },
  {
   "cell_type": "code",
   "execution_count": 7,
   "id": "40dc18b9",
   "metadata": {},
   "outputs": [
    {
     "name": "stdout",
     "output_type": "stream",
     "text": [
      "Pretty printing has been turned OFF\n"
     ]
    }
   ],
   "source": [
    "pprint"
   ]
  },
  {
   "cell_type": "code",
   "execution_count": 8,
   "id": "a6d398f9",
   "metadata": {},
   "outputs": [
    {
     "data": {
      "text/plain": [
       "['A', 'ASCII', 'DEBUG', 'DOTALL', 'I', 'IGNORECASE', 'L', 'LOCALE', 'M', 'MULTILINE', 'Match', 'Pattern', 'RegexFlag', 'S', 'Scanner', 'T', 'TEMPLATE', 'U', 'UNICODE', 'VERBOSE', 'X', '_MAXCACHE', '__all__', '__builtins__', '__cached__', '__doc__', '__file__', '__loader__', '__name__', '__package__', '__spec__', '__version__', '_cache', '_compile', '_compile_repl', '_expand', '_locale', '_pickle', '_special_chars_map', '_subx', 'compile', 'copyreg', 'enum', 'error', 'escape', 'findall', 'finditer', 'fullmatch', 'functools', 'match', 'purge', 'search', 'split', 'sre_compile', 'sre_parse', 'sub', 'subn', 'template']"
      ]
     },
     "execution_count": 8,
     "metadata": {},
     "output_type": "execute_result"
    }
   ],
   "source": [
    "dir(re)"
   ]
  },
  {
   "cell_type": "code",
   "execution_count": 9,
   "id": "782b7d62",
   "metadata": {},
   "outputs": [
    {
     "data": {
      "text/plain": [
       "<class 'function'>"
      ]
     },
     "execution_count": 9,
     "metadata": {},
     "output_type": "execute_result"
    }
   ],
   "source": [
    "type(re.match)"
   ]
  },
  {
   "cell_type": "raw",
   "id": "260da9fd",
   "metadata": {},
   "source": [
    "re.match(pattern,string,flags=None)"
   ]
  },
  {
   "cell_type": "code",
   "execution_count": 10,
   "id": "c53ce353",
   "metadata": {},
   "outputs": [],
   "source": [
    "str1 = \"python is better than java for AI applications\""
   ]
  },
  {
   "cell_type": "code",
   "execution_count": 11,
   "id": "3b62b129",
   "metadata": {},
   "outputs": [
    {
     "name": "stdout",
     "output_type": "stream",
     "text": [
      "<re.Match object; span=(0, 6), match='python'>\n"
     ]
    }
   ],
   "source": [
    "print(re.match('python',str1))"
   ]
  },
  {
   "cell_type": "code",
   "execution_count": 12,
   "id": "297b61c7",
   "metadata": {},
   "outputs": [
    {
     "name": "stdout",
     "output_type": "stream",
     "text": [
      "<re.Match object; span=(0, 6), match='python'>\n",
      "None\n",
      "None\n",
      "<re.Match object; span=(0, 6), match='python'>\n",
      "<re.Match object; span=(0, 6), match='python'>\n"
     ]
    }
   ],
   "source": [
    "#match\n",
    "print(re.match('python',str1))\n",
    "print(re.match('java',str1))\n",
    "print(re.match('PYTHON',str1))\n",
    "print(re.match('PYTHON',str1,flags=re.I))\n",
    "print(re.match('PYTHON',str1,flags=re.IGNORECASE))"
   ]
  },
  {
   "cell_type": "code",
   "execution_count": 13,
   "id": "80c1a04b",
   "metadata": {},
   "outputs": [],
   "source": [
    "str1 = \"python is better than java for AI applications\""
   ]
  },
  {
   "cell_type": "code",
   "execution_count": 14,
   "id": "b3785751",
   "metadata": {},
   "outputs": [
    {
     "name": "stdout",
     "output_type": "stream",
     "text": [
      "<re.Match object; span=(22, 26), match='java'>\n",
      "<re.Match object; span=(0, 6), match='python'>\n",
      "None\n",
      "<re.Match object; span=(22, 26), match='java'>\n",
      "<re.Match object; span=(22, 26), match='java'>\n"
     ]
    }
   ],
   "source": [
    "#search\n",
    "print(re.search('java',str1))\n",
    "print(re.search('python',str1))\n",
    "print(re.search('JAVA',str1))\n",
    "print(re.search('JAVA',str1,re.I))\n",
    "print(re.search('JAVA',str1,re.IGNORECASE))"
   ]
  },
  {
   "cell_type": "code",
   "execution_count": 17,
   "id": "84ec3950",
   "metadata": {},
   "outputs": [
    {
     "name": "stdout",
     "output_type": "stream",
     "text": [
      "Are you coming for today class ? = askldjfsljf dsfjyesfjlsdjfslkkjf\n",
      "Welcome\n"
     ]
    }
   ],
   "source": [
    "ans = input(\"Are you coming for today class ? = \") #yes , YES, YeS, YEs, i am coming yes\n",
    "if re.search('yes',ans,re.I):\n",
    "    print(\"Welcome\")\n",
    "else:\n",
    "    print(\"Take Rest\")"
   ]
  },
  {
   "cell_type": "raw",
   "id": "f1bda1d6",
   "metadata": {},
   "source": [
    "#patterns design with meta characters\n",
    "    []   ^   $   {m,n}  (str1|str2)  .  ?  *  "
   ]
  },
  {
   "cell_type": "code",
   "execution_count": null,
   "id": "d7e07439",
   "metadata": {},
   "outputs": [],
   "source": [
    "#[0123456789] it matches at least one digit in given string"
   ]
  },
  {
   "cell_type": "code",
   "execution_count": 21,
   "id": "ae4622c1",
   "metadata": {},
   "outputs": [
    {
     "name": "stdout",
     "output_type": "stream",
     "text": [
      "Enter string value = dfgdfgdsfgdgdfgdgffgf6fgdfgsdfgfg\n",
      "Matched\n"
     ]
    }
   ],
   "source": [
    "str1 = input(\"Enter string value = \")\n",
    "if re.search('[0123456789]',str1):\n",
    "    print(\"Matched\")\n",
    "else:\n",
    "    print(\"Not Matched\")"
   ]
  },
  {
   "cell_type": "code",
   "execution_count": 24,
   "id": "01489912",
   "metadata": {},
   "outputs": [
    {
     "name": "stdout",
     "output_type": "stream",
     "text": [
      "Enter string value = 195\n",
      "Matched\n"
     ]
    }
   ],
   "source": [
    "str1 = input(\"Enter string value = \")\n",
    "if re.search('[567]',str1):\n",
    "    print(\"Matched\")\n",
    "else:\n",
    "    print(\"Not Matched\")"
   ]
  },
  {
   "cell_type": "code",
   "execution_count": 27,
   "id": "0c2cbe31",
   "metadata": {},
   "outputs": [
    {
     "name": "stdout",
     "output_type": "stream",
     "text": [
      "Enter string value = r\n",
      "Not Matched\n"
     ]
    }
   ],
   "source": [
    "str1 = input(\"Enter string value = \")\n",
    "if re.search('[0-9]',str1):\n",
    "    print(\"Matched\")\n",
    "else:\n",
    "    print(\"Not Matched\")"
   ]
  },
  {
   "cell_type": "code",
   "execution_count": 30,
   "id": "f6aafa22",
   "metadata": {},
   "outputs": [
    {
     "name": "stdout",
     "output_type": "stream",
     "text": [
      "Enter string value = 0\n",
      "Matched\n"
     ]
    }
   ],
   "source": [
    "str1 = input(\"Enter string value = \")\n",
    "if re.search('[0-5]',str1):\n",
    "    print(\"Matched\")\n",
    "else:\n",
    "    print(\"Not Matched\")"
   ]
  },
  {
   "cell_type": "code",
   "execution_count": 31,
   "id": "6ef80cb9",
   "metadata": {},
   "outputs": [
    {
     "name": "stdout",
     "output_type": "stream",
     "text": [
      "Enter string value = 7\n"
     ]
    },
    {
     "ename": "error",
     "evalue": "bad character range 9-0 at position 1",
     "output_type": "error",
     "traceback": [
      "\u001b[1;31m---------------------------------------------------------------------------\u001b[0m",
      "\u001b[1;31merror\u001b[0m                                     Traceback (most recent call last)",
      "\u001b[1;32m~\\AppData\\Local\\Temp/ipykernel_4088/3282721850.py\u001b[0m in \u001b[0;36m<module>\u001b[1;34m\u001b[0m\n\u001b[0;32m      1\u001b[0m \u001b[0mstr1\u001b[0m \u001b[1;33m=\u001b[0m \u001b[0minput\u001b[0m\u001b[1;33m(\u001b[0m\u001b[1;34m\"Enter string value = \"\u001b[0m\u001b[1;33m)\u001b[0m\u001b[1;33m\u001b[0m\u001b[1;33m\u001b[0m\u001b[0m\n\u001b[1;32m----> 2\u001b[1;33m \u001b[1;32mif\u001b[0m \u001b[0mre\u001b[0m\u001b[1;33m.\u001b[0m\u001b[0msearch\u001b[0m\u001b[1;33m(\u001b[0m\u001b[1;34m'[9-0]'\u001b[0m\u001b[1;33m,\u001b[0m\u001b[0mstr1\u001b[0m\u001b[1;33m)\u001b[0m\u001b[1;33m:\u001b[0m\u001b[1;33m\u001b[0m\u001b[1;33m\u001b[0m\u001b[0m\n\u001b[0m\u001b[0;32m      3\u001b[0m     \u001b[0mprint\u001b[0m\u001b[1;33m(\u001b[0m\u001b[1;34m\"Matched\"\u001b[0m\u001b[1;33m)\u001b[0m\u001b[1;33m\u001b[0m\u001b[1;33m\u001b[0m\u001b[0m\n\u001b[0;32m      4\u001b[0m \u001b[1;32melse\u001b[0m\u001b[1;33m:\u001b[0m\u001b[1;33m\u001b[0m\u001b[1;33m\u001b[0m\u001b[0m\n\u001b[0;32m      5\u001b[0m     \u001b[0mprint\u001b[0m\u001b[1;33m(\u001b[0m\u001b[1;34m\"Not Matched\"\u001b[0m\u001b[1;33m)\u001b[0m\u001b[1;33m\u001b[0m\u001b[1;33m\u001b[0m\u001b[0m\n",
      "\u001b[1;32m~\\anaconda3\\lib\\re.py\u001b[0m in \u001b[0;36msearch\u001b[1;34m(pattern, string, flags)\u001b[0m\n\u001b[0;32m    199\u001b[0m     \"\"\"Scan through string looking for a match to the pattern, returning\n\u001b[0;32m    200\u001b[0m     a Match object, or None if no match was found.\"\"\"\n\u001b[1;32m--> 201\u001b[1;33m     \u001b[1;32mreturn\u001b[0m \u001b[0m_compile\u001b[0m\u001b[1;33m(\u001b[0m\u001b[0mpattern\u001b[0m\u001b[1;33m,\u001b[0m \u001b[0mflags\u001b[0m\u001b[1;33m)\u001b[0m\u001b[1;33m.\u001b[0m\u001b[0msearch\u001b[0m\u001b[1;33m(\u001b[0m\u001b[0mstring\u001b[0m\u001b[1;33m)\u001b[0m\u001b[1;33m\u001b[0m\u001b[1;33m\u001b[0m\u001b[0m\n\u001b[0m\u001b[0;32m    202\u001b[0m \u001b[1;33m\u001b[0m\u001b[0m\n\u001b[0;32m    203\u001b[0m \u001b[1;32mdef\u001b[0m \u001b[0msub\u001b[0m\u001b[1;33m(\u001b[0m\u001b[0mpattern\u001b[0m\u001b[1;33m,\u001b[0m \u001b[0mrepl\u001b[0m\u001b[1;33m,\u001b[0m \u001b[0mstring\u001b[0m\u001b[1;33m,\u001b[0m \u001b[0mcount\u001b[0m\u001b[1;33m=\u001b[0m\u001b[1;36m0\u001b[0m\u001b[1;33m,\u001b[0m \u001b[0mflags\u001b[0m\u001b[1;33m=\u001b[0m\u001b[1;36m0\u001b[0m\u001b[1;33m)\u001b[0m\u001b[1;33m:\u001b[0m\u001b[1;33m\u001b[0m\u001b[1;33m\u001b[0m\u001b[0m\n",
      "\u001b[1;32m~\\anaconda3\\lib\\re.py\u001b[0m in \u001b[0;36m_compile\u001b[1;34m(pattern, flags)\u001b[0m\n\u001b[0;32m    302\u001b[0m     \u001b[1;32mif\u001b[0m \u001b[1;32mnot\u001b[0m \u001b[0msre_compile\u001b[0m\u001b[1;33m.\u001b[0m\u001b[0misstring\u001b[0m\u001b[1;33m(\u001b[0m\u001b[0mpattern\u001b[0m\u001b[1;33m)\u001b[0m\u001b[1;33m:\u001b[0m\u001b[1;33m\u001b[0m\u001b[1;33m\u001b[0m\u001b[0m\n\u001b[0;32m    303\u001b[0m         \u001b[1;32mraise\u001b[0m \u001b[0mTypeError\u001b[0m\u001b[1;33m(\u001b[0m\u001b[1;34m\"first argument must be string or compiled pattern\"\u001b[0m\u001b[1;33m)\u001b[0m\u001b[1;33m\u001b[0m\u001b[1;33m\u001b[0m\u001b[0m\n\u001b[1;32m--> 304\u001b[1;33m     \u001b[0mp\u001b[0m \u001b[1;33m=\u001b[0m \u001b[0msre_compile\u001b[0m\u001b[1;33m.\u001b[0m\u001b[0mcompile\u001b[0m\u001b[1;33m(\u001b[0m\u001b[0mpattern\u001b[0m\u001b[1;33m,\u001b[0m \u001b[0mflags\u001b[0m\u001b[1;33m)\u001b[0m\u001b[1;33m\u001b[0m\u001b[1;33m\u001b[0m\u001b[0m\n\u001b[0m\u001b[0;32m    305\u001b[0m     \u001b[1;32mif\u001b[0m \u001b[1;32mnot\u001b[0m \u001b[1;33m(\u001b[0m\u001b[0mflags\u001b[0m \u001b[1;33m&\u001b[0m \u001b[0mDEBUG\u001b[0m\u001b[1;33m)\u001b[0m\u001b[1;33m:\u001b[0m\u001b[1;33m\u001b[0m\u001b[1;33m\u001b[0m\u001b[0m\n\u001b[0;32m    306\u001b[0m         \u001b[1;32mif\u001b[0m \u001b[0mlen\u001b[0m\u001b[1;33m(\u001b[0m\u001b[0m_cache\u001b[0m\u001b[1;33m)\u001b[0m \u001b[1;33m>=\u001b[0m \u001b[0m_MAXCACHE\u001b[0m\u001b[1;33m:\u001b[0m\u001b[1;33m\u001b[0m\u001b[1;33m\u001b[0m\u001b[0m\n",
      "\u001b[1;32m~\\anaconda3\\lib\\sre_compile.py\u001b[0m in \u001b[0;36mcompile\u001b[1;34m(p, flags)\u001b[0m\n\u001b[0;32m    762\u001b[0m     \u001b[1;32mif\u001b[0m \u001b[0misstring\u001b[0m\u001b[1;33m(\u001b[0m\u001b[0mp\u001b[0m\u001b[1;33m)\u001b[0m\u001b[1;33m:\u001b[0m\u001b[1;33m\u001b[0m\u001b[1;33m\u001b[0m\u001b[0m\n\u001b[0;32m    763\u001b[0m         \u001b[0mpattern\u001b[0m \u001b[1;33m=\u001b[0m \u001b[0mp\u001b[0m\u001b[1;33m\u001b[0m\u001b[1;33m\u001b[0m\u001b[0m\n\u001b[1;32m--> 764\u001b[1;33m         \u001b[0mp\u001b[0m \u001b[1;33m=\u001b[0m \u001b[0msre_parse\u001b[0m\u001b[1;33m.\u001b[0m\u001b[0mparse\u001b[0m\u001b[1;33m(\u001b[0m\u001b[0mp\u001b[0m\u001b[1;33m,\u001b[0m \u001b[0mflags\u001b[0m\u001b[1;33m)\u001b[0m\u001b[1;33m\u001b[0m\u001b[1;33m\u001b[0m\u001b[0m\n\u001b[0m\u001b[0;32m    765\u001b[0m     \u001b[1;32melse\u001b[0m\u001b[1;33m:\u001b[0m\u001b[1;33m\u001b[0m\u001b[1;33m\u001b[0m\u001b[0m\n\u001b[0;32m    766\u001b[0m         \u001b[0mpattern\u001b[0m \u001b[1;33m=\u001b[0m \u001b[1;32mNone\u001b[0m\u001b[1;33m\u001b[0m\u001b[1;33m\u001b[0m\u001b[0m\n",
      "\u001b[1;32m~\\anaconda3\\lib\\sre_parse.py\u001b[0m in \u001b[0;36mparse\u001b[1;34m(str, flags, state)\u001b[0m\n\u001b[0;32m    946\u001b[0m \u001b[1;33m\u001b[0m\u001b[0m\n\u001b[0;32m    947\u001b[0m     \u001b[1;32mtry\u001b[0m\u001b[1;33m:\u001b[0m\u001b[1;33m\u001b[0m\u001b[1;33m\u001b[0m\u001b[0m\n\u001b[1;32m--> 948\u001b[1;33m         \u001b[0mp\u001b[0m \u001b[1;33m=\u001b[0m \u001b[0m_parse_sub\u001b[0m\u001b[1;33m(\u001b[0m\u001b[0msource\u001b[0m\u001b[1;33m,\u001b[0m \u001b[0mstate\u001b[0m\u001b[1;33m,\u001b[0m \u001b[0mflags\u001b[0m \u001b[1;33m&\u001b[0m \u001b[0mSRE_FLAG_VERBOSE\u001b[0m\u001b[1;33m,\u001b[0m \u001b[1;36m0\u001b[0m\u001b[1;33m)\u001b[0m\u001b[1;33m\u001b[0m\u001b[1;33m\u001b[0m\u001b[0m\n\u001b[0m\u001b[0;32m    949\u001b[0m     \u001b[1;32mexcept\u001b[0m \u001b[0mVerbose\u001b[0m\u001b[1;33m:\u001b[0m\u001b[1;33m\u001b[0m\u001b[1;33m\u001b[0m\u001b[0m\n\u001b[0;32m    950\u001b[0m         \u001b[1;31m# the VERBOSE flag was switched on inside the pattern.  to be\u001b[0m\u001b[1;33m\u001b[0m\u001b[1;33m\u001b[0m\u001b[0m\n",
      "\u001b[1;32m~\\anaconda3\\lib\\sre_parse.py\u001b[0m in \u001b[0;36m_parse_sub\u001b[1;34m(source, state, verbose, nested)\u001b[0m\n\u001b[0;32m    441\u001b[0m     \u001b[0mstart\u001b[0m \u001b[1;33m=\u001b[0m \u001b[0msource\u001b[0m\u001b[1;33m.\u001b[0m\u001b[0mtell\u001b[0m\u001b[1;33m(\u001b[0m\u001b[1;33m)\u001b[0m\u001b[1;33m\u001b[0m\u001b[1;33m\u001b[0m\u001b[0m\n\u001b[0;32m    442\u001b[0m     \u001b[1;32mwhile\u001b[0m \u001b[1;32mTrue\u001b[0m\u001b[1;33m:\u001b[0m\u001b[1;33m\u001b[0m\u001b[1;33m\u001b[0m\u001b[0m\n\u001b[1;32m--> 443\u001b[1;33m         itemsappend(_parse(source, state, verbose, nested + 1,\n\u001b[0m\u001b[0;32m    444\u001b[0m                            not nested and not items))\n\u001b[0;32m    445\u001b[0m         \u001b[1;32mif\u001b[0m \u001b[1;32mnot\u001b[0m \u001b[0msourcematch\u001b[0m\u001b[1;33m(\u001b[0m\u001b[1;34m\"|\"\u001b[0m\u001b[1;33m)\u001b[0m\u001b[1;33m:\u001b[0m\u001b[1;33m\u001b[0m\u001b[1;33m\u001b[0m\u001b[0m\n",
      "\u001b[1;32m~\\anaconda3\\lib\\sre_parse.py\u001b[0m in \u001b[0;36m_parse\u001b[1;34m(source, state, verbose, nested, first)\u001b[0m\n\u001b[0;32m    596\u001b[0m                     \u001b[1;32mif\u001b[0m \u001b[0mhi\u001b[0m \u001b[1;33m<\u001b[0m \u001b[0mlo\u001b[0m\u001b[1;33m:\u001b[0m\u001b[1;33m\u001b[0m\u001b[1;33m\u001b[0m\u001b[0m\n\u001b[0;32m    597\u001b[0m                         \u001b[0mmsg\u001b[0m \u001b[1;33m=\u001b[0m \u001b[1;34m\"bad character range %s-%s\"\u001b[0m \u001b[1;33m%\u001b[0m \u001b[1;33m(\u001b[0m\u001b[0mthis\u001b[0m\u001b[1;33m,\u001b[0m \u001b[0mthat\u001b[0m\u001b[1;33m)\u001b[0m\u001b[1;33m\u001b[0m\u001b[1;33m\u001b[0m\u001b[0m\n\u001b[1;32m--> 598\u001b[1;33m                         \u001b[1;32mraise\u001b[0m \u001b[0msource\u001b[0m\u001b[1;33m.\u001b[0m\u001b[0merror\u001b[0m\u001b[1;33m(\u001b[0m\u001b[0mmsg\u001b[0m\u001b[1;33m,\u001b[0m \u001b[0mlen\u001b[0m\u001b[1;33m(\u001b[0m\u001b[0mthis\u001b[0m\u001b[1;33m)\u001b[0m \u001b[1;33m+\u001b[0m \u001b[1;36m1\u001b[0m \u001b[1;33m+\u001b[0m \u001b[0mlen\u001b[0m\u001b[1;33m(\u001b[0m\u001b[0mthat\u001b[0m\u001b[1;33m)\u001b[0m\u001b[1;33m)\u001b[0m\u001b[1;33m\u001b[0m\u001b[1;33m\u001b[0m\u001b[0m\n\u001b[0m\u001b[0;32m    599\u001b[0m                     \u001b[0msetappend\u001b[0m\u001b[1;33m(\u001b[0m\u001b[1;33m(\u001b[0m\u001b[0mRANGE\u001b[0m\u001b[1;33m,\u001b[0m \u001b[1;33m(\u001b[0m\u001b[0mlo\u001b[0m\u001b[1;33m,\u001b[0m \u001b[0mhi\u001b[0m\u001b[1;33m)\u001b[0m\u001b[1;33m)\u001b[0m\u001b[1;33m)\u001b[0m\u001b[1;33m\u001b[0m\u001b[1;33m\u001b[0m\u001b[0m\n\u001b[0;32m    600\u001b[0m                 \u001b[1;32melse\u001b[0m\u001b[1;33m:\u001b[0m\u001b[1;33m\u001b[0m\u001b[1;33m\u001b[0m\u001b[0m\n",
      "\u001b[1;31merror\u001b[0m: bad character range 9-0 at position 1"
     ]
    }
   ],
   "source": [
    "str1 = input(\"Enter string value = \")\n",
    "if re.search('[9-0]',str1):\n",
    "    print(\"Matched\")\n",
    "else:\n",
    "    print(\"Not Matched\")"
   ]
  },
  {
   "cell_type": "code",
   "execution_count": 32,
   "id": "235e305e",
   "metadata": {},
   "outputs": [],
   "source": [
    "import re"
   ]
  },
  {
   "cell_type": "code",
   "execution_count": 37,
   "id": "e40f7de4",
   "metadata": {},
   "outputs": [
    {
     "name": "stdout",
     "output_type": "stream",
     "text": [
      "Enter string value = fhfgh56ghfgh\n",
      "Matched\n"
     ]
    }
   ],
   "source": [
    "#[0-9][0-9] it matches at least two digits in given string\n",
    "str1 = input(\"Enter string value = \")\n",
    "if re.search('[0-9][0-9]',str1):\n",
    "    print(\"Matched\")\n",
    "else:\n",
    "    print(\"Not Matched\")"
   ]
  },
  {
   "cell_type": "code",
   "execution_count": 40,
   "id": "742c6bb6",
   "metadata": {},
   "outputs": [
    {
     "name": "stdout",
     "output_type": "stream",
     "text": [
      "Enter string value = t56\n",
      "Matched\n"
     ]
    }
   ],
   "source": [
    "#[a-z] it matches at least one alphabet in given string\n",
    "str1 = input(\"Enter string value = \")\n",
    "if re.search('[a-z]',str1):\n",
    "    print(\"Matched\")\n",
    "else:\n",
    "    print(\"Not Matched\")"
   ]
  },
  {
   "cell_type": "code",
   "execution_count": 44,
   "id": "9fa0b2ac",
   "metadata": {},
   "outputs": [
    {
     "name": "stdout",
     "output_type": "stream",
     "text": [
      "Enter string value = 54645573fgdfg\n",
      "Matched\n"
     ]
    }
   ],
   "source": [
    "#^[0-9] it matches at least one digit in given string at starting position\n",
    "str1 = input(\"Enter string value = \")\n",
    "if re.search('^[0-9]',str1):\n",
    "    print(\"Matched\")\n",
    "else:\n",
    "    print(\"Not Matched\")"
   ]
  },
  {
   "cell_type": "code",
   "execution_count": 46,
   "id": "9eef8eae",
   "metadata": {},
   "outputs": [
    {
     "name": "stdout",
     "output_type": "stream",
     "text": [
      "Enter string value = 4ttretre67ggfd\n",
      "Not Matched\n"
     ]
    }
   ],
   "source": [
    "#^[0-9] it matches at least two digits in given string at starting postion\n",
    "str1 = input(\"Enter string value = \")\n",
    "if re.search('^[0-9][0-9]',str1):\n",
    "    print(\"Matched\")\n",
    "else:\n",
    "    print(\"Not Matched\")"
   ]
  },
  {
   "cell_type": "code",
   "execution_count": 49,
   "id": "ced05726",
   "metadata": {},
   "outputs": [
    {
     "name": "stdout",
     "output_type": "stream",
     "text": [
      "Enter string value = #\n",
      "Matched\n"
     ]
    }
   ],
   "source": [
    "#[^0-9] it matches at least one character except [0-9]\n",
    "str1 = input(\"Enter string value = \")\n",
    "if re.search('[^0-9]',str1):\n",
    "    print(\"Matched\")\n",
    "else:\n",
    "    print(\"Not Matched\")"
   ]
  },
  {
   "cell_type": "code",
   "execution_count": null,
   "id": "2a61bde6",
   "metadata": {},
   "outputs": [],
   "source": [
    "import re"
   ]
  },
  {
   "cell_type": "code",
   "execution_count": null,
   "id": "e651835d",
   "metadata": {},
   "outputs": [],
   "source": [
    "#[^a-z] it matches at least one character except [a-z]\n",
    "str1 = input(\"Enter string value = \")\n",
    "if re.search('[^a-z]',str1):\n",
    "    print(\"Matched\")\n",
    "else:\n",
    "    print(\"Not Matched\")"
   ]
  },
  {
   "cell_type": "code",
   "execution_count": 50,
   "id": "100471ee",
   "metadata": {},
   "outputs": [
    {
     "name": "stdout",
     "output_type": "stream",
     "text": [
      "Enter string value = dsjflkdjfalkj6\n",
      "Matched\n"
     ]
    }
   ],
   "source": [
    "#[0-9]$ it matches at least one digit at end of then given string\n",
    "str1 = input(\"Enter string value = \")\n",
    "if re.search('[0-9]$',str1):\n",
    "    print(\"Matched\")\n",
    "else:\n",
    "    print(\"Not Matched\")"
   ]
  },
  {
   "cell_type": "code",
   "execution_count": 55,
   "id": "af9acd63",
   "metadata": {},
   "outputs": [
    {
     "name": "stdout",
     "output_type": "stream",
     "text": [
      "Enter string value = 56\n",
      "Not Matched\n"
     ]
    }
   ],
   "source": [
    "#^[0-9]$ it accepts only single digit number\n",
    "str1 = input(\"Enter string value = \")\n",
    "if re.search('^[0-9]$',str1):\n",
    "    print(\"Matched\")\n",
    "else:\n",
    "    print(\"Not Matched\")"
   ]
  },
  {
   "cell_type": "code",
   "execution_count": 60,
   "id": "6385df57",
   "metadata": {},
   "outputs": [
    {
     "name": "stdout",
     "output_type": "stream",
     "text": [
      "Enter string value = 7687656545\n",
      "Not Matched\n"
     ]
    }
   ],
   "source": [
    "#^[0-9][0-9]$ it accepts two digit numbers\n",
    "str1 = input(\"Enter string value = \")\n",
    "if re.search('^[0-9][0-9]$',str1):\n",
    "    print(\"Matched\")\n",
    "else:\n",
    "    print(\"Not Matched\")"
   ]
  },
  {
   "cell_type": "code",
   "execution_count": 63,
   "id": "e7f53ee7",
   "metadata": {},
   "outputs": [
    {
     "name": "stdout",
     "output_type": "stream",
     "text": [
      "Enter string value = 537249832749328749382749\n",
      "Not Matched\n"
     ]
    }
   ],
   "source": [
    "#10 digit numbers only\n",
    "str1 = input(\"Enter string value = \")\n",
    "if re.search('^[0-9][0-9][0-9][0-9][0-9][0-9][0-9][0-9][0-9][0-9]$',str1):\n",
    "    print(\"Matched\")\n",
    "else:\n",
    "    print(\"Not Matched\")"
   ]
  },
  {
   "cell_type": "code",
   "execution_count": 66,
   "id": "f1bef0a4",
   "metadata": {},
   "outputs": [
    {
     "name": "stdout",
     "output_type": "stream",
     "text": [
      "Enter string value = 3489753984752984h34573489579834759\n",
      "Not Matched\n"
     ]
    }
   ],
   "source": [
    "# + will allow repetetions here it accepts only any number of digits\n",
    "str1 = input(\"Enter string value = \")\n",
    "if re.search('^[0-9]+$',str1):\n",
    "    print(\"Matched\")\n",
    "else:\n",
    "    print(\"Not Matched\")"
   ]
  },
  {
   "cell_type": "code",
   "execution_count": null,
   "id": "3a3d9ba2",
   "metadata": {},
   "outputs": [],
   "source": [
    "import re"
   ]
  },
  {
   "cell_type": "code",
   "execution_count": 68,
   "id": "c5318efc",
   "metadata": {},
   "outputs": [
    {
     "name": "stdout",
     "output_type": "stream",
     "text": [
      "Enter string value = 0000000000\n",
      "Matched\n"
     ]
    }
   ],
   "source": [
    "# {10} will allow repetetions for 10 times only here it accepts only 10 digits\n",
    "str1 = input(\"Enter string value = \")\n",
    "if re.search('^[0-9]{10}$',str1):\n",
    "    print(\"Matched\")\n",
    "else:\n",
    "    print(\"Not Matched\")"
   ]
  },
  {
   "cell_type": "code",
   "execution_count": 70,
   "id": "b1d02ce0",
   "metadata": {},
   "outputs": [
    {
     "name": "stdout",
     "output_type": "stream",
     "text": [
      "Enter string value = 3768498762\n",
      "Not Matched\n"
     ]
    }
   ],
   "source": [
    "# 10 digit indian mobile numbers\n",
    "str1 = input(\"Enter string value = \")\n",
    "if re.search('^[6789][0-9]{9}$',str1):\n",
    "    print(\"Matched\")\n",
    "else:\n",
    "    print(\"Not Matched\")"
   ]
  },
  {
   "cell_type": "code",
   "execution_count": null,
   "id": "448cbc6d",
   "metadata": {},
   "outputs": [],
   "source": [
    "# 10 digit indian mobile numbers\n",
    "str1 = input(\"Enter string value = \")\n",
    "if re.search('^[6-9][0-9]{9}$',str1):\n",
    "    print(\"Matched\")\n",
    "else:\n",
    "    print(\"Not Matched\")"
   ]
  },
  {
   "cell_type": "code",
   "execution_count": 73,
   "id": "5a4d6009",
   "metadata": {},
   "outputs": [
    {
     "name": "stdout",
     "output_type": "stream",
     "text": [
      "Enter string value = 234\n",
      "Not Matched\n"
     ]
    }
   ],
   "source": [
    "# 5 or more than 5 digit numbers\n",
    "str1 = input(\"Enter string value = \")\n",
    "if re.search('^[0-9]{5,}$',str1):\n",
    "    print(\"Matched\")\n",
    "else:\n",
    "    print(\"Not Matched\")"
   ]
  },
  {
   "cell_type": "code",
   "execution_count": 77,
   "id": "b6bd6800",
   "metadata": {},
   "outputs": [
    {
     "name": "stdout",
     "output_type": "stream",
     "text": [
      "Enter string value = 2387\n",
      "Not Matched\n"
     ]
    }
   ],
   "source": [
    "# \n",
    "str1 = input(\"Enter string value = \")\n",
    "if re.search('^[1-5]{3,6}$',str1):\n",
    "    print(\"Matched\")\n",
    "else:\n",
    "    print(\"Not Matched\")"
   ]
  },
  {
   "cell_type": "code",
   "execution_count": 80,
   "id": "ccebc4f4",
   "metadata": {},
   "outputs": [
    {
     "name": "stdout",
     "output_type": "stream",
     "text": [
      "Enter string value = aws\n",
      "Not Matched\n"
     ]
    }
   ],
   "source": [
    "# \n",
    "str1 = input(\"Enter string value = \").lower()\n",
    "if re.search('(python|javascript|django|reactjs|nodejs)',str1):\n",
    "    print(\"Matched\")\n",
    "else:\n",
    "    print(\"Not Matched\")"
   ]
  },
  {
   "cell_type": "code",
   "execution_count": null,
   "id": "be7b7e03",
   "metadata": {},
   "outputs": [],
   "source": []
  },
  {
   "cell_type": "code",
   "execution_count": 87,
   "id": "c9186d9c",
   "metadata": {},
   "outputs": [
    {
     "name": "stdout",
     "output_type": "stream",
     "text": [
      "Enter string value = 5#$\n",
      "Not Matched\n"
     ]
    }
   ],
   "source": [
    "# .\n",
    "str1 = input(\"Enter string value = \")\n",
    "if re.search('^[0-9].$',str1):\n",
    "    print(\"Matched\")\n",
    "else:\n",
    "    print(\"Not Matched\")"
   ]
  },
  {
   "cell_type": "code",
   "execution_count": 91,
   "id": "f09dd0af",
   "metadata": {},
   "outputs": [
    {
     "name": "stdout",
     "output_type": "stream",
     "text": [
      "Enter string value = 6hgf\n",
      "Not Matched\n"
     ]
    }
   ],
   "source": [
    "# .\n",
    "str1 = input(\"Enter string value = \")\n",
    "if re.search('^[0-9]..$',str1):\n",
    "    print(\"Matched\")\n",
    "else:\n",
    "    print(\"Not Matched\")"
   ]
  },
  {
   "cell_type": "code",
   "execution_count": 95,
   "id": "7af9fd17",
   "metadata": {},
   "outputs": [
    {
     "name": "stdout",
     "output_type": "stream",
     "text": [
      "Enter string value = 6##7\n",
      "Not Matched\n"
     ]
    }
   ],
   "source": [
    "# .\n",
    "str1 = input(\"Enter string value = \")\n",
    "if re.search('^[0-9].[0-9]$',str1):\n",
    "    print(\"Matched\")\n",
    "else:\n",
    "    print(\"Not Matched\")"
   ]
  },
  {
   "cell_type": "code",
   "execution_count": 105,
   "id": "79fcd7ee",
   "metadata": {},
   "outputs": [
    {
     "name": "stdout",
     "output_type": "stream",
     "text": [
      "Enter string value = python \n",
      "Matched\n"
     ]
    }
   ],
   "source": [
    "# ?\n",
    "str1 = input(\"Enter string value = \")\n",
    "if re.search('^python5?$',str1):\n",
    "    print(\"Matched\")\n",
    "else:\n",
    "    print(\"Not Matched\")"
   ]
  },
  {
   "cell_type": "code",
   "execution_count": null,
   "id": "cd3eb4ab",
   "metadata": {},
   "outputs": [],
   "source": [
    "# ?\n",
    "str1 = input(\"Enter string value = \")\n",
    "if re.search('^python?$',str1):\n",
    "    print(\"Matched\")\n",
    "else:\n",
    "    print(\"Not Matched\")"
   ]
  },
  {
   "cell_type": "code",
   "execution_count": 109,
   "id": "3e6b9075",
   "metadata": {},
   "outputs": [
    {
     "name": "stdout",
     "output_type": "stream",
     "text": [
      "Enter string value = python1234\n",
      "Not Matched\n"
     ]
    }
   ],
   "source": [
    "# ?\n",
    "str1 = input(\"Enter string value = \")\n",
    "if re.search('^python[1234]?$',str1):\n",
    "    print(\"Matched\")\n",
    "else:\n",
    "    print(\"Not Matched\")"
   ]
  },
  {
   "cell_type": "code",
   "execution_count": 113,
   "id": "f1c5c9bf",
   "metadata": {},
   "outputs": [
    {
     "name": "stdout",
     "output_type": "stream",
     "text": [
      "Enter string value = python456\n",
      "Not Matched\n"
     ]
    }
   ],
   "source": [
    "# *\n",
    "str1 = input(\"Enter string value = \") # python , python# \n",
    "if re.search('^python4*$',str1):\n",
    "    print(\"Matched\")\n",
    "else:\n",
    "    print(\"Not Matched\")"
   ]
  },
  {
   "cell_type": "code",
   "execution_count": 117,
   "id": "dc8dc0e5",
   "metadata": {},
   "outputs": [
    {
     "name": "stdout",
     "output_type": "stream",
     "text": [
      "Enter string value = python23\n",
      "Matched\n"
     ]
    }
   ],
   "source": [
    "str1 = input(\"Enter string value = \")\n",
    "if re.search('^python[1234]*$',str1):\n",
    "    print(\"Matched\")\n",
    "else:\n",
    "    print(\"Not Matched\")"
   ]
  },
  {
   "cell_type": "code",
   "execution_count": null,
   "id": "359f3f94",
   "metadata": {},
   "outputs": [],
   "source": [
    "#special sequences\n",
    "# \\d \\D \\s \\S \\w \\W"
   ]
  },
  {
   "cell_type": "code",
   "execution_count": 1,
   "id": "72c69c90",
   "metadata": {},
   "outputs": [],
   "source": [
    "import re"
   ]
  },
  {
   "cell_type": "code",
   "execution_count": 4,
   "id": "f1f2f642",
   "metadata": {},
   "outputs": [
    {
     "name": "stdout",
     "output_type": "stream",
     "text": [
      "Enter String value = #\n",
      "Not Matched\n"
     ]
    }
   ],
   "source": [
    "#\\d == [0-9]\n",
    "str1 = input(\"Enter String value = \")\n",
    "if re.search('^\\d$',str1):\n",
    "    print(\"Matched\")\n",
    "else:\n",
    "    print(\"Not Matched\")"
   ]
  },
  {
   "cell_type": "code",
   "execution_count": 7,
   "id": "036ef286",
   "metadata": {},
   "outputs": [
    {
     "name": "stdout",
     "output_type": "stream",
     "text": [
      "Enter String value = 48739283h329478327\n",
      "Not Matched\n"
     ]
    }
   ],
   "source": [
    "#\\d == [0-9]\n",
    "str1 = input(\"Enter String value = \")\n",
    "if re.search('^\\d+$',str1):\n",
    "    print(\"Matched\")\n",
    "else:\n",
    "    print(\"Not Matched\")"
   ]
  },
  {
   "cell_type": "code",
   "execution_count": null,
   "id": "5868fc8a",
   "metadata": {},
   "outputs": [],
   "source": [
    "#\\d == [0-9]\n",
    "str1 = input(\"Enter String value = \")\n",
    "if re.search('^\\d{3}$',str1):\n",
    "    print(\"Matched\")\n",
    "else:\n",
    "    print(\"Not Matched\")"
   ]
  },
  {
   "cell_type": "code",
   "execution_count": 10,
   "id": "37e6dbb3",
   "metadata": {},
   "outputs": [
    {
     "name": "stdout",
     "output_type": "stream",
     "text": [
      "Enter String value = @\n",
      "Matched\n"
     ]
    }
   ],
   "source": [
    "#\\D == [^0-9]\n",
    "str1 = input(\"Enter String value = \")\n",
    "if re.search('^\\D$',str1):\n",
    "    print(\"Matched\")\n",
    "else:\n",
    "    print(\"Not Matched\")"
   ]
  },
  {
   "cell_type": "code",
   "execution_count": 14,
   "id": "42fa410c",
   "metadata": {},
   "outputs": [
    {
     "name": "stdout",
     "output_type": "stream",
     "text": [
      "Enter String value = @\n",
      "Not Matched\n"
     ]
    }
   ],
   "source": [
    "#\\s == single space\n",
    "str1 = input(\"Enter String value = \")\n",
    "if re.search('^\\s$',str1):\n",
    "    print(\"Matched\")\n",
    "else:\n",
    "    print(\"Not Matched\")"
   ]
  },
  {
   "cell_type": "code",
   "execution_count": 18,
   "id": "26865dd4",
   "metadata": {},
   "outputs": [
    {
     "name": "stdout",
     "output_type": "stream",
     "text": [
      "Enter String value = w\n",
      "Matched\n"
     ]
    }
   ],
   "source": [
    "#\\S == \n",
    "str1 = input(\"Enter String value = \")\n",
    "if re.search('^\\S$',str1):\n",
    "    print(\"Matched\")\n",
    "else:\n",
    "    print(\"Not Matched\")"
   ]
  },
  {
   "cell_type": "code",
   "execution_count": 23,
   "id": "6cb13dfb",
   "metadata": {},
   "outputs": [
    {
     "name": "stdout",
     "output_type": "stream",
     "text": [
      "Enter String value = _\n",
      "Matched\n"
     ]
    }
   ],
   "source": [
    "#\\w == [a-z0-9_]\n",
    "str1 = input(\"Enter String value = \")\n",
    "if re.search('^\\w$',str1):\n",
    "    print(\"Matched\")\n",
    "else:\n",
    "    print(\"Not Matched\")"
   ]
  },
  {
   "cell_type": "code",
   "execution_count": 28,
   "id": "7018269a",
   "metadata": {},
   "outputs": [
    {
     "name": "stdout",
     "output_type": "stream",
     "text": [
      "Enter String value = (\n",
      "Matched\n"
     ]
    }
   ],
   "source": [
    "#\\W == [^a-z0-9_]\n",
    "str1 = input(\"Enter String value = \")\n",
    "if re.search('^\\W$',str1):\n",
    "    print(\"Matched\")\n",
    "else:\n",
    "    print(\"Not Matched\")"
   ]
  },
  {
   "cell_type": "code",
   "execution_count": null,
   "id": "90fee47e",
   "metadata": {},
   "outputs": [],
   "source": [
    "#\\w == [a-z0-9]\n",
    "str1 = input(\"Enter String value = \")\n",
    "if re.search('^[0-9a-z_]$',str1):\n",
    "    print(\"Matched\")\n",
    "else:\n",
    "    print(\"Not Matched\")"
   ]
  },
  {
   "cell_type": "raw",
   "id": "1ca43333",
   "metadata": {},
   "source": [
    "#regular expression for email address\n",
    "#rules\n",
    "1. should not start with number or special character\n",
    "2. only one @ \n",
    "3. only one . after @\n",
    "4. before @ min length 3 and max 25\n",
    "5. before @ _ , . , - are allowed\n",
    "6. between @ and . only characters min length = 3 and max length=10 \n",
    "7. after . characters only min = 2 and max=4"
   ]
  },
  {
   "cell_type": "code",
   "execution_count": 35,
   "id": "16afed45",
   "metadata": {},
   "outputs": [
    {
     "name": "stdout",
     "output_type": "stream",
     "text": [
      "Enter valid email address = raju_raju@gmail.com\n",
      "Matched\n"
     ]
    }
   ],
   "source": [
    "email = input(\"Enter valid email address = \")\n",
    "if re.search('^[a-z][a-z0-9_.-]{2,24}@[a-z]{3,10}\\.[a-z]{2,4}$',email,re.I):\n",
    "    print(\"Matched\")\n",
    "else:\n",
    "    print(\"Not Matched\")"
   ]
  },
  {
   "cell_type": "code",
   "execution_count": null,
   "id": "5d9c9992",
   "metadata": {},
   "outputs": [],
   "source": [
    "#Methods"
   ]
  },
  {
   "cell_type": "code",
   "execution_count": null,
   "id": "bb037a35",
   "metadata": {},
   "outputs": [],
   "source": [
    "#re.compile"
   ]
  },
  {
   "cell_type": "code",
   "execution_count": null,
   "id": "5158f5e1",
   "metadata": {},
   "outputs": [],
   "source": [
    "import re"
   ]
  },
  {
   "cell_type": "code",
   "execution_count": 36,
   "id": "4a990e64",
   "metadata": {},
   "outputs": [],
   "source": [
    "email_check = re.compile('^[a-z][a-z0-9_.-]{2,24}@[a-z]{3,10}\\.[a-z]{2,4}$',re.I)"
   ]
  },
  {
   "cell_type": "code",
   "execution_count": 39,
   "id": "50d41e78",
   "metadata": {},
   "outputs": [
    {
     "name": "stdout",
     "output_type": "stream",
     "text": [
      "Enter valid email address = raju.raju@gmail.com\n",
      "Matched\n"
     ]
    }
   ],
   "source": [
    "email = input(\"Enter valid email address = \")\n",
    "if email_check.search(email):\n",
    "    print(\"Matched\")\n",
    "else:\n",
    "    print(\"Not Matched\")"
   ]
  },
  {
   "cell_type": "code",
   "execution_count": null,
   "id": "7e69e0cc",
   "metadata": {},
   "outputs": [],
   "source": [
    "#sub and subn"
   ]
  },
  {
   "cell_type": "code",
   "execution_count": 40,
   "id": "0b7738b1",
   "metadata": {},
   "outputs": [],
   "source": [
    "str1 = \"Bombay is financial Bombay Capital of India, bombay is Bombay gateway of Bombay india \\\n",
    "for British,BOMBAY called bombai also\""
   ]
  },
  {
   "cell_type": "code",
   "execution_count": 41,
   "id": "58935c07",
   "metadata": {},
   "outputs": [
    {
     "name": "stdout",
     "output_type": "stream",
     "text": [
      "Mumbai is financial Bombay Capital of India, bombay is Bombay gateway of Bombay india for British,BOMBAY called bombai also\n"
     ]
    }
   ],
   "source": [
    "print(re.sub('Bombay','Mumbai',str1,count=1))"
   ]
  },
  {
   "cell_type": "code",
   "execution_count": 42,
   "id": "b405d056",
   "metadata": {},
   "outputs": [
    {
     "name": "stdout",
     "output_type": "stream",
     "text": [
      "Mumbai is financial Mumbai Capital of India, bombay is Bombay gateway of Bombay india for British,BOMBAY called bombai also\n"
     ]
    }
   ],
   "source": [
    "print(re.sub('Bombay','Mumbai',str1,count=2))"
   ]
  },
  {
   "cell_type": "code",
   "execution_count": 43,
   "id": "4727555d",
   "metadata": {},
   "outputs": [
    {
     "name": "stdout",
     "output_type": "stream",
     "text": [
      "Mumbai is financial Mumbai Capital of India, bombay is Mumbai gateway of Mumbai india for British,BOMBAY called bombai also\n"
     ]
    }
   ],
   "source": [
    "print(re.sub('Bombay','Mumbai',str1,count=0))"
   ]
  },
  {
   "cell_type": "code",
   "execution_count": 44,
   "id": "ae1388cc",
   "metadata": {},
   "outputs": [
    {
     "name": "stdout",
     "output_type": "stream",
     "text": [
      "Mumbai is financial Mumbai Capital of India, Mumbai is Mumbai gateway of Mumbai india for British,Mumbai called bombai also\n"
     ]
    }
   ],
   "source": [
    "print(re.sub('Bombay','Mumbai',str1,count=0,flags=re.I))"
   ]
  },
  {
   "cell_type": "code",
   "execution_count": 45,
   "id": "bca45032",
   "metadata": {},
   "outputs": [
    {
     "name": "stdout",
     "output_type": "stream",
     "text": [
      "Mumbai is financial Mumbai Capital of India, Mumbai is Mumbai gateway of Mumbai india for British,Mumbai called Mumbai also\n"
     ]
    }
   ],
   "source": [
    "print(re.sub('(Bombay|bombai)','Mumbai',str1,flags=re.I))"
   ]
  },
  {
   "cell_type": "code",
   "execution_count": 46,
   "id": "d9707722",
   "metadata": {},
   "outputs": [
    {
     "name": "stdout",
     "output_type": "stream",
     "text": [
      "('Mumbai is financial Mumbai Capital of India, Mumbai is Mumbai gateway of Mumbai india for British,Mumbai called Mumbai also', 7)\n"
     ]
    }
   ],
   "source": [
    "print(re.subn('(Bombay|bombai)','Mumbai',str1,count=0,flags=re.I))"
   ]
  },
  {
   "cell_type": "raw",
   "id": "e15593fe",
   "metadata": {},
   "source": [
    "#re.escape\n",
    "\"python.org\""
   ]
  },
  {
   "cell_type": "code",
   "execution_count": 47,
   "id": "2f13e449",
   "metadata": {},
   "outputs": [],
   "source": [
    "import re"
   ]
  },
  {
   "cell_type": "raw",
   "id": "1efcaa1f",
   "metadata": {},
   "source": [
    "str1 = \"one of my best language is python and i see anything in python9org\"\n",
    "patt=input(\"Enter your pattern = \") #python.org "
   ]
  },
  {
   "cell_type": "code",
   "execution_count": 48,
   "id": "34ded725",
   "metadata": {},
   "outputs": [
    {
     "name": "stdout",
     "output_type": "stream",
     "text": [
      "Enter a string value = python.org\n",
      "python\\.org\n"
     ]
    }
   ],
   "source": [
    "print(re.escape(input(\"Enter a string value = \")))"
   ]
  },
  {
   "cell_type": "code",
   "execution_count": 49,
   "id": "e399d482",
   "metadata": {},
   "outputs": [
    {
     "name": "stdout",
     "output_type": "stream",
     "text": [
      "Enter data = python.org\n",
      "Matched\n"
     ]
    }
   ],
   "source": [
    "pat = input(\"Enter data = \")\n",
    "str1 = \"one of my best language is python and i see anything in python9org\"\n",
    "if re.search(pat,str1,re.I):\n",
    "    print(\"Matched\")\n",
    "else:\n",
    "    print(\"Not Matched\")"
   ]
  },
  {
   "cell_type": "code",
   "execution_count": 51,
   "id": "1ffc38d7",
   "metadata": {},
   "outputs": [
    {
     "name": "stdout",
     "output_type": "stream",
     "text": [
      "Enter data = python.org\n",
      "Matched\n"
     ]
    }
   ],
   "source": [
    "pat = input(\"Enter data = \")\n",
    "str1 = \"one of my best language is python and i see anything in python9org\"\n",
    "if re.search(re.escape(pat),str1,re.I):\n",
    "    print(\"Matched\")\n",
    "else:\n",
    "    print(\"Not Matched\")"
   ]
  },
  {
   "cell_type": "code",
   "execution_count": null,
   "id": "94d1ceee",
   "metadata": {},
   "outputs": [],
   "source": [
    "import re"
   ]
  },
  {
   "cell_type": "code",
   "execution_count": null,
   "id": "0dc2f746",
   "metadata": {},
   "outputs": [],
   "source": [
    "#re.split"
   ]
  },
  {
   "cell_type": "code",
   "execution_count": null,
   "id": "b346ddec",
   "metadata": {},
   "outputs": [],
   "source": [
    "help(re.split)"
   ]
  },
  {
   "cell_type": "code",
   "execution_count": 52,
   "id": "a08d0a74",
   "metadata": {},
   "outputs": [
    {
     "data": {
      "text/plain": [
       "['wel4come', 'to', 'pythonxprogramming', 'lan5guage']"
      ]
     },
     "execution_count": 52,
     "metadata": {},
     "output_type": "execute_result"
    }
   ],
   "source": [
    "re.split(\"X\",\"wel4comeXtoXpythonxprogrammingXlan5guage\")"
   ]
  },
  {
   "cell_type": "code",
   "execution_count": 53,
   "id": "2e2ddf9b",
   "metadata": {},
   "outputs": [
    {
     "data": {
      "text/plain": [
       "['wel4come', 'to', 'python', 'programming', 'lan5guage']"
      ]
     },
     "execution_count": 53,
     "metadata": {},
     "output_type": "execute_result"
    }
   ],
   "source": [
    "re.split(\"X\",\"wel4comeXtoXpythonxprogrammingXlan5guage\",maxsplit=0,flags=re.I)"
   ]
  },
  {
   "cell_type": "code",
   "execution_count": 54,
   "id": "c9076875",
   "metadata": {},
   "outputs": [
    {
     "data": {
      "text/plain": [
       "['wel4come', 'to', 'pythonxprogrammingXlan5guage']"
      ]
     },
     "execution_count": 54,
     "metadata": {},
     "output_type": "execute_result"
    }
   ],
   "source": [
    "re.split(\"X\",\"wel4comeXtoXpythonxprogrammingXlan5guage\",maxsplit=2,flags=re.I)"
   ]
  },
  {
   "cell_type": "code",
   "execution_count": 55,
   "id": "744bfb8b",
   "metadata": {},
   "outputs": [
    {
     "data": {
      "text/plain": [
       "['wel', 'comeXtoX', 'pythonx', 'programming', '', '', 'Xlan', 'guage']"
      ]
     },
     "execution_count": 55,
     "metadata": {},
     "output_type": "execute_result"
    }
   ],
   "source": [
    "re.split(\"[0-9]\",\"wel4comeXtoX3pythonx6programming123Xlan5guage\",maxsplit=0,flags=re.I)"
   ]
  },
  {
   "cell_type": "code",
   "execution_count": 56,
   "id": "2a41a036",
   "metadata": {},
   "outputs": [
    {
     "data": {
      "text/plain": [
       "['wel', 'comeXtoX', 'pythonx', 'programming', 'Xlan', 'guage']"
      ]
     },
     "execution_count": 56,
     "metadata": {},
     "output_type": "execute_result"
    }
   ],
   "source": [
    "re.split(\"[0-9]+\",\"wel4comeXtoX3pythonx6programming123Xlan5guage\",maxsplit=0,flags=re.I)"
   ]
  },
  {
   "cell_type": "code",
   "execution_count": null,
   "id": "a1f4339e",
   "metadata": {},
   "outputs": [],
   "source": [
    "#re.fullmatch"
   ]
  },
  {
   "cell_type": "code",
   "execution_count": 59,
   "id": "ce13c4b2",
   "metadata": {},
   "outputs": [
    {
     "name": "stdout",
     "output_type": "stream",
     "text": [
      "Enter a string value :34\n",
      "Not Matched\n"
     ]
    }
   ],
   "source": [
    "str1=input(\"Enter a string value :\")\n",
    "if re.search(\"^[0-9]$\",str1):\n",
    "    print(\"Matched\")\n",
    "else:\n",
    "    print(\"Not Matched\")"
   ]
  },
  {
   "cell_type": "code",
   "execution_count": 61,
   "id": "4219b0aa",
   "metadata": {},
   "outputs": [
    {
     "name": "stdout",
     "output_type": "stream",
     "text": [
      "Enter a string value :56\n",
      "Not Matched\n"
     ]
    }
   ],
   "source": [
    "str1=input(\"Enter a string value :\")\n",
    "if re.fullmatch(\"[0-9]\",str1):\n",
    "    print(\"Matched\")\n",
    "else:\n",
    "    print(\"Not Matched\")"
   ]
  },
  {
   "cell_type": "code",
   "execution_count": 64,
   "id": "bbc91301",
   "metadata": {},
   "outputs": [
    {
     "name": "stdout",
     "output_type": "stream",
     "text": [
      "Enter a string value :python.org\n",
      "Enter your pattern = python.orga\n",
      "Not Matched\n"
     ]
    }
   ],
   "source": [
    "str1=input(\"Enter a string value :\")\n",
    "pat=input(\"Enter your pattern = \")\n",
    "if re.fullmatch(pat,str1):\n",
    "    print(\"Matched\")\n",
    "else:\n",
    "    print(\"Not Matched\")"
   ]
  },
  {
   "cell_type": "code",
   "execution_count": null,
   "id": "5e5a88a9",
   "metadata": {},
   "outputs": [],
   "source": [
    "#re.findall"
   ]
  },
  {
   "cell_type": "code",
   "execution_count": 65,
   "id": "c8481ab2",
   "metadata": {},
   "outputs": [
    {
     "data": {
      "text/plain": [
       "['w', 'e', 'l', 'c', 'o', '1', 'm', '_', 'e']"
      ]
     },
     "execution_count": 65,
     "metadata": {},
     "output_type": "execute_result"
    }
   ],
   "source": [
    "re.findall(\"\\w\",\"we#lc$o1m_e\")"
   ]
  },
  {
   "cell_type": "code",
   "execution_count": 66,
   "id": "406c91c7",
   "metadata": {},
   "outputs": [
    {
     "data": {
      "text/plain": [
       "['wel', 'comeXto', 'pytho_nxpro', 'gramming', 'lan', 'guage']"
      ]
     },
     "execution_count": 66,
     "metadata": {},
     "output_type": "execute_result"
    }
   ],
   "source": [
    "re.findall(\"\\w+\",\"wel#comeXto@pytho_nxpro%gramming&lan$guage\")"
   ]
  },
  {
   "cell_type": "code",
   "execution_count": 67,
   "id": "b474521c",
   "metadata": {},
   "outputs": [
    {
     "data": {
      "text/plain": [
       "['#', '@', '%', '&', '$']"
      ]
     },
     "execution_count": 67,
     "metadata": {},
     "output_type": "execute_result"
    }
   ],
   "source": [
    "re.findall(\"\\W\",\"wel#comeXto@pytho_nxpro%gramming&lan$guage\")"
   ]
  },
  {
   "cell_type": "code",
   "execution_count": 68,
   "id": "571aeeea",
   "metadata": {},
   "outputs": [
    {
     "data": {
      "text/plain": [
       "['1', '2', '3', '5', '6']"
      ]
     },
     "execution_count": 68,
     "metadata": {},
     "output_type": "execute_result"
    }
   ],
   "source": [
    "re.findall(\"\\d\",\"wel#com123eXto@pytho_n5xpro%gram6ming&lan$guage\")"
   ]
  },
  {
   "cell_type": "code",
   "execution_count": 69,
   "id": "0900c4de",
   "metadata": {},
   "outputs": [
    {
     "data": {
      "text/plain": [
       "['123', '5', '6']"
      ]
     },
     "execution_count": 69,
     "metadata": {},
     "output_type": "execute_result"
    }
   ],
   "source": [
    "re.findall(\"\\d+\",\"wel#com123eXto@pytho_n5xpro%gram6ming&lan$guage\")"
   ]
  },
  {
   "cell_type": "code",
   "execution_count": 70,
   "id": "cb05e008",
   "metadata": {},
   "outputs": [
    {
     "data": {
      "text/plain": [
       "['w',\n",
       " 'e',\n",
       " 'l',\n",
       " '#',\n",
       " 'm',\n",
       " 'e',\n",
       " 'X',\n",
       " 't',\n",
       " 'o',\n",
       " '@',\n",
       " 'p',\n",
       " 'y',\n",
       " 't',\n",
       " 'h',\n",
       " 'o',\n",
       " '_',\n",
       " 'n',\n",
       " 'x',\n",
       " 'p',\n",
       " 'r',\n",
       " 'o',\n",
       " '%',\n",
       " 'g',\n",
       " 'm',\n",
       " 'i',\n",
       " 'n',\n",
       " 'g',\n",
       " '&',\n",
       " 'l',\n",
       " 'a',\n",
       " 'n',\n",
       " '$',\n",
       " 'g',\n",
       " 'u',\n",
       " 'a',\n",
       " 'g',\n",
       " 'e']"
      ]
     },
     "execution_count": 70,
     "metadata": {},
     "output_type": "execute_result"
    }
   ],
   "source": [
    "re.findall(\"\\D\",\"wel#m123eXto@pytho_n5xpro%g7ming&lan$guage\")"
   ]
  },
  {
   "cell_type": "code",
   "execution_count": 71,
   "id": "f84bd7dc",
   "metadata": {},
   "outputs": [
    {
     "data": {
      "text/plain": [
       "['5674567656', '9878896765', '8745656546']"
      ]
     },
     "execution_count": 71,
     "metadata": {},
     "output_type": "execute_result"
    }
   ],
   "source": [
    "re.findall(\"\\d{10}\",\"wel#com5674567656eXto@pytho_n5x9878896765pro%gram874565654654676ming&lan$guage\")"
   ]
  },
  {
   "cell_type": "code",
   "execution_count": 72,
   "id": "35964272",
   "metadata": {},
   "outputs": [
    {
     "data": {
      "text/plain": [
       "['8674567656', '9878896765']"
      ]
     },
     "execution_count": 72,
     "metadata": {},
     "output_type": "execute_result"
    }
   ],
   "source": [
    "re.findall(\"[6789]\\d{9}\",\"wel#com8674567656eXto@pytho_n5x9878896765pro%gram6m96757ing&lan$guage\")"
   ]
  },
  {
   "cell_type": "code",
   "execution_count": null,
   "id": "eb0c36ec",
   "metadata": {},
   "outputs": [],
   "source": [
    "#groups and grouping"
   ]
  },
  {
   "cell_type": "code",
   "execution_count": null,
   "id": "ae21a0bc",
   "metadata": {},
   "outputs": [],
   "source": [
    "#sample US phone number 123-123-4567"
   ]
  },
  {
   "cell_type": "code",
   "execution_count": 73,
   "id": "ca886fd5",
   "metadata": {},
   "outputs": [],
   "source": [
    "contact1 = re.search(\"(\\d{3})-(\\d{3})-(\\d{4})\",\"123-123-4567\")"
   ]
  },
  {
   "cell_type": "code",
   "execution_count": 74,
   "id": "82ccd405",
   "metadata": {},
   "outputs": [
    {
     "data": {
      "text/plain": [
       "{}"
      ]
     },
     "execution_count": 74,
     "metadata": {},
     "output_type": "execute_result"
    }
   ],
   "source": [
    "contact1.groupdict()"
   ]
  },
  {
   "cell_type": "code",
   "execution_count": 75,
   "id": "d640cdf3",
   "metadata": {},
   "outputs": [
    {
     "data": {
      "text/plain": [
       "('123', '123', '4567')"
      ]
     },
     "execution_count": 75,
     "metadata": {},
     "output_type": "execute_result"
    }
   ],
   "source": [
    "contact1.groups()"
   ]
  },
  {
   "cell_type": "code",
   "execution_count": 76,
   "id": "5805798d",
   "metadata": {},
   "outputs": [
    {
     "data": {
      "text/plain": [
       "'123-123-4567'"
      ]
     },
     "execution_count": 76,
     "metadata": {},
     "output_type": "execute_result"
    }
   ],
   "source": [
    "contact1.group(0)"
   ]
  },
  {
   "cell_type": "code",
   "execution_count": 77,
   "id": "d93791c1",
   "metadata": {},
   "outputs": [
    {
     "data": {
      "text/plain": [
       "'123'"
      ]
     },
     "execution_count": 77,
     "metadata": {},
     "output_type": "execute_result"
    }
   ],
   "source": [
    "contact1.group(1)"
   ]
  },
  {
   "cell_type": "code",
   "execution_count": 78,
   "id": "6d1dce86",
   "metadata": {},
   "outputs": [
    {
     "data": {
      "text/plain": [
       "'123'"
      ]
     },
     "execution_count": 78,
     "metadata": {},
     "output_type": "execute_result"
    }
   ],
   "source": [
    "contact1.group(2)"
   ]
  },
  {
   "cell_type": "code",
   "execution_count": 79,
   "id": "ae3ef0ac",
   "metadata": {},
   "outputs": [
    {
     "data": {
      "text/plain": [
       "'4567'"
      ]
     },
     "execution_count": 79,
     "metadata": {},
     "output_type": "execute_result"
    }
   ],
   "source": [
    "contact1.group(3)"
   ]
  },
  {
   "cell_type": "code",
   "execution_count": null,
   "id": "bd8838a8",
   "metadata": {},
   "outputs": [],
   "source": [
    "#groupdictionary"
   ]
  },
  {
   "cell_type": "code",
   "execution_count": 80,
   "id": "141308ef",
   "metadata": {},
   "outputs": [],
   "source": [
    "contact2 = re.search(\"(?P<CityCode>\\d{3})-(?P<AreaCode>\\d{3})-(?P<Phone>\\d{4})\",\"123-123-4567\")"
   ]
  },
  {
   "cell_type": "code",
   "execution_count": 81,
   "id": "128860d6",
   "metadata": {},
   "outputs": [
    {
     "data": {
      "text/plain": [
       "{'CityCode': '123', 'AreaCode': '123', 'Phone': '4567'}"
      ]
     },
     "execution_count": 81,
     "metadata": {},
     "output_type": "execute_result"
    }
   ],
   "source": [
    "contact2.groupdict()"
   ]
  },
  {
   "cell_type": "code",
   "execution_count": 82,
   "id": "58734a84",
   "metadata": {},
   "outputs": [
    {
     "data": {
      "text/plain": [
       "'123'"
      ]
     },
     "execution_count": 82,
     "metadata": {},
     "output_type": "execute_result"
    }
   ],
   "source": [
    "contact2.groupdict()['CityCode']"
   ]
  },
  {
   "cell_type": "code",
   "execution_count": 83,
   "id": "a3a827b6",
   "metadata": {},
   "outputs": [
    {
     "data": {
      "text/plain": [
       "'123'"
      ]
     },
     "execution_count": 83,
     "metadata": {},
     "output_type": "execute_result"
    }
   ],
   "source": [
    "contact2.groupdict()['AreaCode']"
   ]
  },
  {
   "cell_type": "code",
   "execution_count": 84,
   "id": "371f0f1b",
   "metadata": {},
   "outputs": [
    {
     "data": {
      "text/plain": [
       "'4567'"
      ]
     },
     "execution_count": 84,
     "metadata": {},
     "output_type": "execute_result"
    }
   ],
   "source": [
    "contact2.groupdict()['Phone']"
   ]
  },
  {
   "cell_type": "code",
   "execution_count": 85,
   "id": "06667f06",
   "metadata": {},
   "outputs": [
    {
     "data": {
      "text/plain": [
       "('123', '123', '4567')"
      ]
     },
     "execution_count": 85,
     "metadata": {},
     "output_type": "execute_result"
    }
   ],
   "source": [
    "contact2.groups()"
   ]
  },
  {
   "cell_type": "code",
   "execution_count": 86,
   "id": "308952d6",
   "metadata": {},
   "outputs": [
    {
     "data": {
      "text/plain": [
       "'123-123-4567'"
      ]
     },
     "execution_count": 86,
     "metadata": {},
     "output_type": "execute_result"
    }
   ],
   "source": [
    "contact2.group(0)"
   ]
  },
  {
   "cell_type": "code",
   "execution_count": 87,
   "id": "5247b97f",
   "metadata": {},
   "outputs": [
    {
     "data": {
      "text/plain": [
       "'123'"
      ]
     },
     "execution_count": 87,
     "metadata": {},
     "output_type": "execute_result"
    }
   ],
   "source": [
    "contact2.group(1)"
   ]
  },
  {
   "cell_type": "code",
   "execution_count": 88,
   "id": "5a3d61f3",
   "metadata": {},
   "outputs": [
    {
     "data": {
      "text/plain": [
       "'123'"
      ]
     },
     "execution_count": 88,
     "metadata": {},
     "output_type": "execute_result"
    }
   ],
   "source": [
    "contact2.group(2)"
   ]
  },
  {
   "cell_type": "code",
   "execution_count": 89,
   "id": "eebad966",
   "metadata": {},
   "outputs": [
    {
     "data": {
      "text/plain": [
       "'4567'"
      ]
     },
     "execution_count": 89,
     "metadata": {},
     "output_type": "execute_result"
    }
   ],
   "source": [
    "contact2.group(3)"
   ]
  },
  {
   "cell_type": "code",
   "execution_count": 90,
   "id": "be66424d",
   "metadata": {},
   "outputs": [],
   "source": [
    "mobile_numbers = [\n",
    "    \"654-657-6576\",\n",
    "    \"435-654-6745\",\n",
    "    \"789-765-7356\",\n",
    "    \"654-453-4856\",\n",
    "    \"947-546-8836\",\n",
    "    \"463-768-3665\",\n",
    "    \"654-604-6045\",\n",
    "    \"204-765-7306\",\n",
    "]"
   ]
  },
  {
   "cell_type": "code",
   "execution_count": 91,
   "id": "41eeea3a",
   "metadata": {},
   "outputs": [
    {
     "name": "stdout",
     "output_type": "stream",
     "text": [
      "654-657-6576\n",
      "435-654-6745\n",
      "789-765-7356\n",
      "654-453-4856\n",
      "947-546-8836\n",
      "463-768-3665\n",
      "654-604-6045\n",
      "204-765-7306\n"
     ]
    }
   ],
   "source": [
    "for i in mobile_numbers:\n",
    "    print(i)"
   ]
  },
  {
   "cell_type": "code",
   "execution_count": 92,
   "id": "84656562",
   "metadata": {},
   "outputs": [
    {
     "data": {
      "text/plain": [
       "'654-657-6576'"
      ]
     },
     "execution_count": 92,
     "metadata": {},
     "output_type": "execute_result"
    }
   ],
   "source": [
    "mobile_numbers[0]"
   ]
  },
  {
   "cell_type": "code",
   "execution_count": 93,
   "id": "790c12c2",
   "metadata": {},
   "outputs": [],
   "source": [
    "contact3 = re.search(\"(?P<CityCode>\\d{3})-(?P<AreaCode>\\d{3})-(?P<ContactNumber>\\d{4})\",mobile_numbers[0])"
   ]
  },
  {
   "cell_type": "code",
   "execution_count": 94,
   "id": "bf9c1428",
   "metadata": {},
   "outputs": [
    {
     "data": {
      "text/plain": [
       "{'CityCode': '654', 'AreaCode': '657', 'ContactNumber': '6576'}"
      ]
     },
     "execution_count": 94,
     "metadata": {},
     "output_type": "execute_result"
    }
   ],
   "source": [
    "contact3.groupdict()"
   ]
  },
  {
   "cell_type": "code",
   "execution_count": 95,
   "id": "429e05f1",
   "metadata": {},
   "outputs": [
    {
     "name": "stdout",
     "output_type": "stream",
     "text": [
      "654\n",
      "435\n",
      "789\n",
      "654\n",
      "947\n",
      "463\n",
      "654\n",
      "204\n"
     ]
    }
   ],
   "source": [
    "for i in mobile_numbers:\n",
    "    grp = re.search(\"(?P<CityCode>\\d{3})-(?P<AreaCode>\\d{3})-(?P<ContactNumber>\\d{4})\",i)\n",
    "    print(grp.groupdict()['CityCode'])"
   ]
  },
  {
   "cell_type": "code",
   "execution_count": 96,
   "id": "dd9d233d",
   "metadata": {},
   "outputs": [
    {
     "name": "stdout",
     "output_type": "stream",
     "text": [
      "6576\n",
      "6745\n",
      "7356\n",
      "4856\n",
      "8836\n",
      "3665\n",
      "6045\n",
      "7306\n"
     ]
    }
   ],
   "source": [
    "for i in mobile_numbers:\n",
    "    grp = re.search(\"(?P<CityCode>\\d{3})-(?P<AreaCode>\\d{3})-(?P<ContactNumber>\\d{4})\",i)\n",
    "    print(grp.groupdict()['ContactNumber'])"
   ]
  },
  {
   "cell_type": "code",
   "execution_count": 97,
   "id": "4424baae",
   "metadata": {},
   "outputs": [
    {
     "name": "stdout",
     "output_type": "stream",
     "text": [
      "654-657-6576\n",
      "654-453-4856\n",
      "654-604-6045\n"
     ]
    }
   ],
   "source": [
    "for i in mobile_numbers:\n",
    "    grp = re.search(\"(?P<CityCode>\\d{3})-(?P<AreaCode>\\d{3})-(?P<ContactNumber>\\d{4})\",i)\n",
    "    if grp.groupdict()['CityCode'] == \"654\":\n",
    "        print(grp.group(0))"
   ]
  },
  {
   "cell_type": "code",
   "execution_count": 98,
   "id": "cfc4b86b",
   "metadata": {},
   "outputs": [],
   "source": [
    "email = \"ravi123@gmail.com\""
   ]
  },
  {
   "cell_type": "code",
   "execution_count": 99,
   "id": "11e9a037",
   "metadata": {},
   "outputs": [],
   "source": [
    "myemail = re.search(\"([a-z][a-z0-9_.-]{2,24})@([a-z]{3,10})\\.([a-z]{2,4})\",email)"
   ]
  },
  {
   "cell_type": "code",
   "execution_count": 100,
   "id": "77a1d9bd",
   "metadata": {},
   "outputs": [
    {
     "data": {
      "text/plain": [
       "{}"
      ]
     },
     "execution_count": 100,
     "metadata": {},
     "output_type": "execute_result"
    }
   ],
   "source": [
    "myemail.groupdict()"
   ]
  },
  {
   "cell_type": "code",
   "execution_count": 101,
   "id": "a31aa716",
   "metadata": {},
   "outputs": [
    {
     "data": {
      "text/plain": [
       "('ravi123', 'gmail', 'com')"
      ]
     },
     "execution_count": 101,
     "metadata": {},
     "output_type": "execute_result"
    }
   ],
   "source": [
    "myemail.groups()"
   ]
  },
  {
   "cell_type": "code",
   "execution_count": 102,
   "id": "c50d9d45",
   "metadata": {},
   "outputs": [
    {
     "data": {
      "text/plain": [
       "'ravi123@gmail.com'"
      ]
     },
     "execution_count": 102,
     "metadata": {},
     "output_type": "execute_result"
    }
   ],
   "source": [
    "myemail.group(0)"
   ]
  },
  {
   "cell_type": "code",
   "execution_count": 103,
   "id": "0d82cb0b",
   "metadata": {},
   "outputs": [
    {
     "data": {
      "text/plain": [
       "'ravi123'"
      ]
     },
     "execution_count": 103,
     "metadata": {},
     "output_type": "execute_result"
    }
   ],
   "source": [
    "myemail.group(1)"
   ]
  },
  {
   "cell_type": "code",
   "execution_count": null,
   "id": "66e01e87",
   "metadata": {},
   "outputs": [],
   "source": []
  },
  {
   "cell_type": "code",
   "execution_count": null,
   "id": "2ad0769f",
   "metadata": {},
   "outputs": [],
   "source": []
  }
 ],
 "metadata": {
  "kernelspec": {
   "display_name": "Python 3 (ipykernel)",
   "language": "python",
   "name": "python3"
  },
  "language_info": {
   "codemirror_mode": {
    "name": "ipython",
    "version": 3
   },
   "file_extension": ".py",
   "mimetype": "text/x-python",
   "name": "python",
   "nbconvert_exporter": "python",
   "pygments_lexer": "ipython3",
   "version": "3.9.7"
  }
 },
 "nbformat": 4,
 "nbformat_minor": 5
}
