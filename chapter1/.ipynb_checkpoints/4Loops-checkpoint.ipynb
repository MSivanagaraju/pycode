{
 "cells": [
  {
   "cell_type": "code",
   "execution_count": null,
   "id": "a201b9fc",
   "metadata": {},
   "outputs": [],
   "source": [
    "#Loops\n",
    "#while \n",
    "#For"
   ]
  },
  {
   "cell_type": "raw",
   "id": "eae2c583",
   "metadata": {},
   "source": [
    "#while syntax\n",
    "while <true/false> :\n",
    "        statement1\n",
    "        statement2"
   ]
  },
  {
   "cell_type": "code",
   "execution_count": null,
   "id": "8591d4e8",
   "metadata": {},
   "outputs": [],
   "source": [
    "i=1\n",
    "while i<=5:\n",
    "    print(i)\n",
    "    i=i+1"
   ]
  },
  {
   "cell_type": "code",
   "execution_count": null,
   "id": "8fc0abec",
   "metadata": {},
   "outputs": [],
   "source": [
    "i=1\n",
    "while i<=5:\n",
    "    print(i,end=\"\")\n",
    "    i=i+1"
   ]
  },
  {
   "cell_type": "raw",
   "id": "ec17a57e",
   "metadata": {},
   "source": [
    "12345\n",
    "1234\n",
    "123\n",
    "12\n",
    "1"
   ]
  },
  {
   "cell_type": "code",
   "execution_count": null,
   "id": "38aae1e2",
   "metadata": {},
   "outputs": [],
   "source": [
    "i=1\n",
    "while i<=5:\n",
    "    print(i,end=\"\")\n",
    "    i=i+1"
   ]
  },
  {
   "cell_type": "code",
   "execution_count": null,
   "id": "9f6ff961",
   "metadata": {},
   "outputs": [],
   "source": [
    "i=1\n",
    "j=5\n",
    "while j>=i:\n",
    "    while i<=j:\n",
    "        print(i,end=\"\")\n",
    "        i=i+1\n",
    "    print(\"\")\n",
    "    i=1\n",
    "    j=j-1"
   ]
  },
  {
   "cell_type": "raw",
   "id": "24283b5f",
   "metadata": {},
   "source": [
    "1\n",
    "12\n",
    "123\n",
    "1234\n",
    "12345"
   ]
  },
  {
   "cell_type": "code",
   "execution_count": null,
   "id": "8940b110",
   "metadata": {},
   "outputs": [],
   "source": [
    "i=j=1\n",
    "while j<=5:\n",
    "    while i<=j:\n",
    "        print(i,end=\"\")\n",
    "        i=i+1\n",
    "    print(\"\")\n",
    "    i=1\n",
    "    j=j+1"
   ]
  },
  {
   "cell_type": "raw",
   "id": "7899edb4",
   "metadata": {},
   "source": [
    "54321\n",
    "5432\n",
    "543\n",
    "54\n",
    "5"
   ]
  },
  {
   "cell_type": "code",
   "execution_count": null,
   "id": "65a8b3ff",
   "metadata": {},
   "outputs": [],
   "source": [
    "i=5\n",
    "j=1\n",
    "while j<=i:\n",
    "    while i>=j:\n",
    "        print(i,end=\"\")\n",
    "        i=i-1\n",
    "    print(\"\")\n",
    "    i=5\n",
    "    j=j+1"
   ]
  },
  {
   "cell_type": "code",
   "execution_count": null,
   "id": "e173206e",
   "metadata": {},
   "outputs": [],
   "source": [
    "1\n",
    "22\n",
    "333\n",
    "4444\n",
    "55555"
   ]
  },
  {
   "cell_type": "code",
   "execution_count": null,
   "id": "0dd92768",
   "metadata": {},
   "outputs": [],
   "source": [
    "*\n",
    "**\n",
    "***\n",
    "****\n",
    "*****"
   ]
  },
  {
   "cell_type": "code",
   "execution_count": null,
   "id": "e42671e4",
   "metadata": {},
   "outputs": [],
   "source": [
    "i=1\n",
    "while i<=10:\n",
    "    print(i)\n",
    "    i=i+1\n",
    "else:\n",
    "    print(\"else part of while loop\")"
   ]
  },
  {
   "cell_type": "code",
   "execution_count": null,
   "id": "023df720",
   "metadata": {},
   "outputs": [],
   "source": [
    "i=1\n",
    "while i<=10:\n",
    "    print(i)\n",
    "    i=i+1\n",
    "    break\n",
    "else:\n",
    "    print(\"else part of while loop\")"
   ]
  },
  {
   "cell_type": "code",
   "execution_count": null,
   "id": "a331f9e2",
   "metadata": {},
   "outputs": [],
   "source": [
    "i=1\n",
    "while i<=10:\n",
    "    print(i)\n",
    "    i=x+1\n",
    "else:\n",
    "    print(\"else part of while loop\")"
   ]
  },
  {
   "cell_type": "code",
   "execution_count": null,
   "id": "d51c1faf",
   "metadata": {},
   "outputs": [],
   "source": [
    "i=1\n",
    "n=10\n",
    "while i<=n:\n",
    "    if i%2==0:\n",
    "        print(i)\n",
    "        i=i+1\n",
    "    else:\n",
    "        i=i+1"
   ]
  },
  {
   "cell_type": "code",
   "execution_count": null,
   "id": "506b7d34",
   "metadata": {},
   "outputs": [],
   "source": [
    "s=0\n",
    "while s<20:\n",
    "    n=int(input(\"Enter Some Integer value\"))  # 5 6 7  4\n",
    "    s=s+n\n",
    "else:\n",
    "    print(s)"
   ]
  },
  {
   "cell_type": "code",
   "execution_count": null,
   "id": "3428b2ea",
   "metadata": {},
   "outputs": [],
   "source": [
    "s=0\n",
    "while s<20:\n",
    "    n=int(input(\"Enter Some Integer value\"))  # 5 6 7  4\n",
    "    s=s+n\n",
    "print(s)"
   ]
  },
  {
   "cell_type": "code",
   "execution_count": null,
   "id": "ea832b81",
   "metadata": {},
   "outputs": [],
   "source": [
    "tsum = 0\n",
    "n = int(input(\"Enter some integer value = \")) # 5\n",
    "while n != 0:\n",
    "    tsum = tsum + n\n",
    "    if tsum >= 20:\n",
    "        print(\"Total = \",tsum)\n",
    "        break\n",
    "    n = int(input(\"Enter some integer value = \")) # 6 7 4\n",
    "else:\n",
    "    print(\"Total Sum = \",tsum)"
   ]
  },
  {
   "cell_type": "code",
   "execution_count": null,
   "id": "e16af5f2",
   "metadata": {},
   "outputs": [],
   "source": [
    "tsum = 0\n",
    "n = int(input(\"Enter some integer value = \")) # 5\n",
    "while n != 0:\n",
    "    tsum = tsum + n\n",
    "    if tsum >= 20:\n",
    "        print(\"Total = \",tsum)\n",
    "        break\n",
    "    n = int(input(\"Enter some integer value = \")) # 6 7 4\n",
    "else:\n",
    "    print(\"Total Sum = \",tsum)"
   ]
  },
  {
   "cell_type": "code",
   "execution_count": null,
   "id": "095c276b",
   "metadata": {},
   "outputs": [],
   "source": [
    "tsum = 0\n",
    "n = int(input(\"Enter some integer value = \")) # 5\n",
    "while n != 0:\n",
    "    tsum = tsum + n\n",
    "    if tsum >= 20:\n",
    "        print(\"Total = \",tsum)\n",
    "        break\n",
    "    n = int(input(\"Enter some integer value = \")) # 6 7 4\n",
    "else:\n",
    "    print(\"Total Sum = \",tsum)"
   ]
  },
  {
   "cell_type": "code",
   "execution_count": null,
   "id": "454c3b2a",
   "metadata": {},
   "outputs": [],
   "source": [
    "tsum = 0\n",
    "n = int(input(\"Enter some integer value = \")) # 5\n",
    "while n != 0:\n",
    "    tsum = tsum + n\n",
    "    if tsum >= 20:\n",
    "        print(\"Total = \",tsum)\n",
    "        break\n",
    "    n = int(input(\"Enter some integer value = \")) # 6 7 4\n",
    "print(\"Total Sum = \",tsum)"
   ]
  },
  {
   "cell_type": "code",
   "execution_count": null,
   "id": "ee6505d2",
   "metadata": {},
   "outputs": [],
   "source": [
    "#ForLoop"
   ]
  },
  {
   "cell_type": "raw",
   "id": "884f1226",
   "metadata": {},
   "source": [
    "for <variable> in <interableobject>:\n",
    "    statement"
   ]
  },
  {
   "cell_type": "code",
   "execution_count": null,
   "id": "e36f8272",
   "metadata": {},
   "outputs": [],
   "source": [
    "for i in \"welcome\":\n",
    "    print(i)"
   ]
  },
  {
   "cell_type": "code",
   "execution_count": null,
   "id": "ca77bd0e",
   "metadata": {},
   "outputs": [],
   "source": [
    "for i in \"we\":\n",
    "    print(\"Good Morning\")"
   ]
  },
  {
   "cell_type": "code",
   "execution_count": null,
   "id": "48ed8722",
   "metadata": {},
   "outputs": [],
   "source": [
    "for i in 100:\n",
    "    print(i)"
   ]
  },
  {
   "cell_type": "code",
   "execution_count": null,
   "id": "48fce636",
   "metadata": {},
   "outputs": [],
   "source": [
    "\"welcome\"[0]"
   ]
  },
  {
   "cell_type": "code",
   "execution_count": null,
   "id": "64076d6a",
   "metadata": {},
   "outputs": [],
   "source": [
    "100[0]"
   ]
  },
  {
   "cell_type": "code",
   "execution_count": null,
   "id": "43c2a442",
   "metadata": {},
   "outputs": [],
   "source": [
    "10.45[0]"
   ]
  },
  {
   "cell_type": "code",
   "execution_count": null,
   "id": "57cf861e",
   "metadata": {},
   "outputs": [],
   "source": [
    "\"100\"[0]"
   ]
  },
  {
   "cell_type": "code",
   "execution_count": null,
   "id": "30b8557b",
   "metadata": {},
   "outputs": [],
   "source": [
    "for i in \"100\":\n",
    "    print(i)"
   ]
  },
  {
   "cell_type": "code",
   "execution_count": null,
   "id": "8a4c80cb",
   "metadata": {},
   "outputs": [],
   "source": [
    "for i in str(100):\n",
    "    print(i)"
   ]
  },
  {
   "cell_type": "code",
   "execution_count": null,
   "id": "c4291af4",
   "metadata": {},
   "outputs": [],
   "source": [
    "for i in 1,2,3,4,5:\n",
    "    print(i)"
   ]
  },
  {
   "cell_type": "code",
   "execution_count": null,
   "id": "9b8098cc",
   "metadata": {},
   "outputs": [],
   "source": [
    "a=1\n",
    "type(a)"
   ]
  },
  {
   "cell_type": "code",
   "execution_count": null,
   "id": "47426a03",
   "metadata": {},
   "outputs": [],
   "source": [
    "b = 1,2,3,4,5\n",
    "type(b)"
   ]
  },
  {
   "cell_type": "code",
   "execution_count": null,
   "id": "3de2eb4e",
   "metadata": {},
   "outputs": [],
   "source": [
    "b[0]"
   ]
  },
  {
   "cell_type": "code",
   "execution_count": null,
   "id": "806636fa",
   "metadata": {},
   "outputs": [],
   "source": [
    "v1=\"welcome\""
   ]
  },
  {
   "cell_type": "code",
   "execution_count": null,
   "id": "3dfee718",
   "metadata": {},
   "outputs": [],
   "source": [
    "pprint"
   ]
  },
  {
   "cell_type": "code",
   "execution_count": null,
   "id": "e0d6aa94",
   "metadata": {},
   "outputs": [],
   "source": [
    "dir(v1)"
   ]
  },
  {
   "cell_type": "code",
   "execution_count": null,
   "id": "47095847",
   "metadata": {},
   "outputs": [],
   "source": [
    "v2=100"
   ]
  },
  {
   "cell_type": "code",
   "execution_count": null,
   "id": "21d8c3cf",
   "metadata": {},
   "outputs": [],
   "source": [
    "dir(v2)"
   ]
  },
  {
   "cell_type": "code",
   "execution_count": null,
   "id": "b522f69e",
   "metadata": {},
   "outputs": [],
   "source": [
    "for i in 1,5,8,2,3:\n",
    "    print(\"welcome\")"
   ]
  },
  {
   "cell_type": "code",
   "execution_count": null,
   "id": "18469a18",
   "metadata": {},
   "outputs": [],
   "source": [
    "for i in 100,:\n",
    "    print(i)"
   ]
  },
  {
   "cell_type": "code",
   "execution_count": null,
   "id": "614e60df",
   "metadata": {},
   "outputs": [],
   "source": [
    "v3=100,\n",
    "type(v3)"
   ]
  },
  {
   "cell_type": "code",
   "execution_count": null,
   "id": "03b927df",
   "metadata": {},
   "outputs": [],
   "source": [
    "for i in 1,\"welcome\",10.45:\n",
    "    print(i)"
   ]
  },
  {
   "cell_type": "code",
   "execution_count": null,
   "id": "8703569a",
   "metadata": {},
   "outputs": [],
   "source": [
    "#Range\n",
    "#range(start=0,stop,step=1)"
   ]
  },
  {
   "cell_type": "code",
   "execution_count": null,
   "id": "23535015",
   "metadata": {},
   "outputs": [],
   "source": [
    "#range(6) => 0,1,2,3,4,5"
   ]
  },
  {
   "cell_type": "code",
   "execution_count": null,
   "id": "061668f8",
   "metadata": {},
   "outputs": [],
   "source": [
    "range(6) # range(0,6,1)"
   ]
  },
  {
   "cell_type": "code",
   "execution_count": null,
   "id": "cd606767",
   "metadata": {},
   "outputs": [],
   "source": [
    "robj1 = range(6)"
   ]
  },
  {
   "cell_type": "code",
   "execution_count": null,
   "id": "b19e4c0c",
   "metadata": {},
   "outputs": [],
   "source": [
    "type(robj1)"
   ]
  },
  {
   "cell_type": "code",
   "execution_count": null,
   "id": "8da5bdfa",
   "metadata": {},
   "outputs": [],
   "source": [
    "pprint"
   ]
  },
  {
   "cell_type": "code",
   "execution_count": null,
   "id": "b3b711c0",
   "metadata": {},
   "outputs": [],
   "source": [
    "dir(robj1)"
   ]
  },
  {
   "cell_type": "code",
   "execution_count": null,
   "id": "d03b3a42",
   "metadata": {},
   "outputs": [],
   "source": [
    "for i in robj1:\n",
    "    print(i)"
   ]
  },
  {
   "cell_type": "code",
   "execution_count": null,
   "id": "e50561e8",
   "metadata": {},
   "outputs": [],
   "source": [
    "for i in range(6):\n",
    "    print(i)"
   ]
  },
  {
   "cell_type": "code",
   "execution_count": null,
   "id": "e6d60713",
   "metadata": {},
   "outputs": [],
   "source": [
    "for i in range(0,26,5):\n",
    "    print(i,end=\",\")"
   ]
  },
  {
   "cell_type": "code",
   "execution_count": null,
   "id": "262e7662",
   "metadata": {},
   "outputs": [],
   "source": [
    "for i in range(1,11):\n",
    "    print(i,end=\" \")"
   ]
  },
  {
   "cell_type": "code",
   "execution_count": null,
   "id": "03582284",
   "metadata": {},
   "outputs": [],
   "source": [
    "for i in range(10,0,-1):\n",
    "    print(i,end=\" \")"
   ]
  },
  {
   "cell_type": "code",
   "execution_count": null,
   "id": "e63ac26d",
   "metadata": {},
   "outputs": [],
   "source": [
    "for i in range(-10,0):\n",
    "    print(i,end=\" \")"
   ]
  },
  {
   "cell_type": "code",
   "execution_count": null,
   "id": "d2b0b3f3",
   "metadata": {},
   "outputs": [],
   "source": [
    "for i in range(-10,11):\n",
    "    print(i,end=\" \")"
   ]
  },
  {
   "cell_type": "code",
   "execution_count": null,
   "id": "61cbfe30",
   "metadata": {},
   "outputs": [],
   "source": [
    "robj1 = range(6)"
   ]
  },
  {
   "cell_type": "code",
   "execution_count": null,
   "id": "7ba05724",
   "metadata": {},
   "outputs": [],
   "source": [
    "for i in robj1:\n",
    "    print(\"welcome\")"
   ]
  },
  {
   "cell_type": "code",
   "execution_count": null,
   "id": "ad445fa9",
   "metadata": {},
   "outputs": [],
   "source": [
    "print(\"welcome\") print(\"Python\")"
   ]
  },
  {
   "cell_type": "code",
   "execution_count": null,
   "id": "ba273576",
   "metadata": {},
   "outputs": [],
   "source": [
    "print(\"welcome\"); print(\"Python\")"
   ]
  },
  {
   "cell_type": "code",
   "execution_count": null,
   "id": "6cb88859",
   "metadata": {},
   "outputs": [],
   "source": [
    "print(\"python\",\"javascript\",\"django\",'react','nodejs')"
   ]
  },
  {
   "cell_type": "code",
   "execution_count": null,
   "id": "30deacb2",
   "metadata": {},
   "outputs": [],
   "source": [
    "print(\"python\"+\"javascript\"+\"django\"+'react'+'nodejs')"
   ]
  },
  {
   "cell_type": "code",
   "execution_count": null,
   "id": "68a9da46",
   "metadata": {},
   "outputs": [],
   "source": [
    "print(\"python\",\"javascript\",\"django\",'react','nodejs',sep=\";\")"
   ]
  },
  {
   "cell_type": "code",
   "execution_count": null,
   "id": "f5b9c148",
   "metadata": {},
   "outputs": [],
   "source": [
    "print(\"python\",\"javascript\",\"django\",'react','nodejs',sep=\"#\")"
   ]
  },
  {
   "cell_type": "code",
   "execution_count": null,
   "id": "56206596",
   "metadata": {},
   "outputs": [],
   "source": [
    "print(\"python\",\"javascript\",\"django\",'react','nodejs',sep=\";\",end=\"@\")"
   ]
  },
  {
   "cell_type": "code",
   "execution_count": null,
   "id": "7a7e60b9",
   "metadata": {},
   "outputs": [],
   "source": [
    "help(print)"
   ]
  },
  {
   "cell_type": "code",
   "execution_count": null,
   "id": "20fe8270",
   "metadata": {},
   "outputs": [],
   "source": [
    "\"welcome to python \":\n",
    "    \"python is best\":\n",
    "        "
   ]
  },
  {
   "cell_type": "code",
   "execution_count": null,
   "id": "a16fa110",
   "metadata": {},
   "outputs": [],
   "source": [
    "print(\" welcome to python programming world ljdflsdfk d;lfksd;f ds;lfkdsf;lsd f;ldskf;ldkf \n",
    "      ds;lkf;ds flds;flkds;lfkds;lfkds;lfkds fldskfldskfds;fkf;lkds;f\")"
   ]
  },
  {
   "cell_type": "code",
   "execution_count": null,
   "id": "15e2e597",
   "metadata": {},
   "outputs": [],
   "source": [
    "print(\" welcome to python programming world ljdflsdfk d;lfksd;f ds;lfkdsf;lsd f;ldskf;ldkf \\\n",
    "      ds;lkf;ds flds;flkds;lfkds;lfkds;lfkds fldskfldskfds;fkf;lkds;f\")"
   ]
  },
  {
   "cell_type": "code",
   "execution_count": null,
   "id": "539c6102",
   "metadata": {},
   "outputs": [],
   "source": [
    "print(\"welcome to \\\n",
    "python \\\n",
    "programming\")"
   ]
  },
  {
   "cell_type": "code",
   "execution_count": null,
   "id": "f7fbd79a",
   "metadata": {},
   "outputs": [],
   "source": [
    "r\"welcome\""
   ]
  },
  {
   "cell_type": "code",
   "execution_count": null,
   "id": "ea1b1a7b",
   "metadata": {},
   "outputs": [],
   "source": [
    "r\"welcome\"[0]"
   ]
  },
  {
   "cell_type": "code",
   "execution_count": null,
   "id": "3798ec89",
   "metadata": {},
   "outputs": [],
   "source": [
    "\"welcome\"[0]"
   ]
  },
  {
   "cell_type": "code",
   "execution_count": null,
   "id": "a6eee150",
   "metadata": {},
   "outputs": [],
   "source": [
    "b\"welcome\"[0]"
   ]
  },
  {
   "cell_type": "code",
   "execution_count": null,
   "id": "625bbf1a",
   "metadata": {},
   "outputs": [],
   "source": [
    "ord(\"w\")"
   ]
  },
  {
   "cell_type": "code",
   "execution_count": null,
   "id": "3cbf36de",
   "metadata": {},
   "outputs": [],
   "source": [
    "ord(\"A\")"
   ]
  },
  {
   "cell_type": "code",
   "execution_count": null,
   "id": "9be3d2cb",
   "metadata": {},
   "outputs": [],
   "source": []
  }
 ],
 "metadata": {
  "kernelspec": {
   "display_name": "Python 3 (ipykernel)",
   "language": "python",
   "name": "python3"
  },
  "language_info": {
   "codemirror_mode": {
    "name": "ipython",
    "version": 3
   },
   "file_extension": ".py",
   "mimetype": "text/x-python",
   "name": "python",
   "nbconvert_exporter": "python",
   "pygments_lexer": "ipython3",
   "version": "3.9.7"
  }
 },
 "nbformat": 4,
 "nbformat_minor": 5
}
