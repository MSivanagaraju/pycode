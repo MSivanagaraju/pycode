{
 "cells": [
  {
   "cell_type": "code",
   "execution_count": null,
   "id": "8c46d006",
   "metadata": {},
   "outputs": [],
   "source": [
    "#iterator"
   ]
  },
  {
   "cell_type": "code",
   "execution_count": 1,
   "id": "f5725c0d",
   "metadata": {},
   "outputs": [
    {
     "data": {
      "text/plain": [
       "builtin_function_or_method"
      ]
     },
     "execution_count": 1,
     "metadata": {},
     "output_type": "execute_result"
    }
   ],
   "source": [
    "type(iter)"
   ]
  },
  {
   "cell_type": "code",
   "execution_count": 2,
   "id": "0d269c6f",
   "metadata": {},
   "outputs": [
    {
     "ename": "TypeError",
     "evalue": "iter expected at least 1 argument, got 0",
     "output_type": "error",
     "traceback": [
      "\u001b[1;31m---------------------------------------------------------------------------\u001b[0m",
      "\u001b[1;31mTypeError\u001b[0m                                 Traceback (most recent call last)",
      "\u001b[1;32m~\\AppData\\Local\\Temp/ipykernel_4932/819256763.py\u001b[0m in \u001b[0;36m<module>\u001b[1;34m\u001b[0m\n\u001b[1;32m----> 1\u001b[1;33m \u001b[0mIT1\u001b[0m \u001b[1;33m=\u001b[0m \u001b[0miter\u001b[0m\u001b[1;33m(\u001b[0m\u001b[1;33m)\u001b[0m  \u001b[1;31m# iter required iterable object\u001b[0m\u001b[1;33m\u001b[0m\u001b[1;33m\u001b[0m\u001b[0m\n\u001b[0m",
      "\u001b[1;31mTypeError\u001b[0m: iter expected at least 1 argument, got 0"
     ]
    }
   ],
   "source": [
    "IT1 = iter()  # iter required iterable object"
   ]
  },
  {
   "cell_type": "code",
   "execution_count": null,
   "id": "085105e3",
   "metadata": {},
   "outputs": [],
   "source": [
    "#iterable objects input => string , list , tuple , dict , set , range, dict.items, dict.keys , dict.values"
   ]
  },
  {
   "cell_type": "code",
   "execution_count": 3,
   "id": "27a32820",
   "metadata": {},
   "outputs": [
    {
     "ename": "TypeError",
     "evalue": "iter expected at most 2 arguments, got 5",
     "output_type": "error",
     "traceback": [
      "\u001b[1;31m---------------------------------------------------------------------------\u001b[0m",
      "\u001b[1;31mTypeError\u001b[0m                                 Traceback (most recent call last)",
      "\u001b[1;32m~\\AppData\\Local\\Temp/ipykernel_4932/653713631.py\u001b[0m in \u001b[0;36m<module>\u001b[1;34m\u001b[0m\n\u001b[1;32m----> 1\u001b[1;33m \u001b[0mIT1\u001b[0m \u001b[1;33m=\u001b[0m \u001b[0miter\u001b[0m\u001b[1;33m(\u001b[0m\u001b[1;36m10\u001b[0m\u001b[1;33m,\u001b[0m\u001b[1;36m20\u001b[0m\u001b[1;33m,\u001b[0m\u001b[1;36m30\u001b[0m\u001b[1;33m,\u001b[0m\u001b[1;36m40\u001b[0m\u001b[1;33m,\u001b[0m\u001b[1;36m50\u001b[0m\u001b[1;33m)\u001b[0m\u001b[1;33m\u001b[0m\u001b[1;33m\u001b[0m\u001b[0m\n\u001b[0m",
      "\u001b[1;31mTypeError\u001b[0m: iter expected at most 2 arguments, got 5"
     ]
    }
   ],
   "source": [
    "IT1 = iter(10,20,30,40,50)"
   ]
  },
  {
   "cell_type": "code",
   "execution_count": 4,
   "id": "a9dd6ede",
   "metadata": {},
   "outputs": [],
   "source": [
    "IT1 = iter([10,20,30,40,50])"
   ]
  },
  {
   "cell_type": "code",
   "execution_count": 5,
   "id": "1f186394",
   "metadata": {},
   "outputs": [
    {
     "data": {
      "text/plain": [
       "list_iterator"
      ]
     },
     "execution_count": 5,
     "metadata": {},
     "output_type": "execute_result"
    }
   ],
   "source": [
    "type(IT1)"
   ]
  },
  {
   "cell_type": "code",
   "execution_count": 6,
   "id": "c57fab3d",
   "metadata": {},
   "outputs": [
    {
     "name": "stdout",
     "output_type": "stream",
     "text": [
      "<list_iterator object at 0x0000020DF7BB1850>\n"
     ]
    }
   ],
   "source": [
    "print(IT1)"
   ]
  },
  {
   "cell_type": "code",
   "execution_count": 7,
   "id": "db66cacc",
   "metadata": {},
   "outputs": [
    {
     "ename": "TypeError",
     "evalue": "'list_iterator' object is not subscriptable",
     "output_type": "error",
     "traceback": [
      "\u001b[1;31m---------------------------------------------------------------------------\u001b[0m",
      "\u001b[1;31mTypeError\u001b[0m                                 Traceback (most recent call last)",
      "\u001b[1;32m~\\AppData\\Local\\Temp/ipykernel_4932/3244014834.py\u001b[0m in \u001b[0;36m<module>\u001b[1;34m\u001b[0m\n\u001b[0;32m      1\u001b[0m \u001b[1;31m#no index on iterator\u001b[0m\u001b[1;33m\u001b[0m\u001b[1;33m\u001b[0m\u001b[0m\n\u001b[1;32m----> 2\u001b[1;33m \u001b[0mIT1\u001b[0m\u001b[1;33m[\u001b[0m\u001b[1;36m0\u001b[0m\u001b[1;33m]\u001b[0m\u001b[1;33m\u001b[0m\u001b[1;33m\u001b[0m\u001b[0m\n\u001b[0m",
      "\u001b[1;31mTypeError\u001b[0m: 'list_iterator' object is not subscriptable"
     ]
    }
   ],
   "source": [
    "#no index on iterator\n",
    "IT1[0]"
   ]
  },
  {
   "cell_type": "code",
   "execution_count": 8,
   "id": "a347809a",
   "metadata": {},
   "outputs": [
    {
     "ename": "TypeError",
     "evalue": "'list_iterator' object is not subscriptable",
     "output_type": "error",
     "traceback": [
      "\u001b[1;31m---------------------------------------------------------------------------\u001b[0m",
      "\u001b[1;31mTypeError\u001b[0m                                 Traceback (most recent call last)",
      "\u001b[1;32m~\\AppData\\Local\\Temp/ipykernel_4932/545058930.py\u001b[0m in \u001b[0;36m<module>\u001b[1;34m\u001b[0m\n\u001b[0;32m      1\u001b[0m \u001b[1;31m#no slicing on iterator\u001b[0m\u001b[1;33m\u001b[0m\u001b[1;33m\u001b[0m\u001b[0m\n\u001b[1;32m----> 2\u001b[1;33m \u001b[0mIT1\u001b[0m\u001b[1;33m[\u001b[0m\u001b[1;33m:\u001b[0m\u001b[1;33m]\u001b[0m\u001b[1;33m\u001b[0m\u001b[1;33m\u001b[0m\u001b[0m\n\u001b[0m",
      "\u001b[1;31mTypeError\u001b[0m: 'list_iterator' object is not subscriptable"
     ]
    }
   ],
   "source": [
    "#no slicing on iterator\n",
    "IT1[:]"
   ]
  },
  {
   "cell_type": "code",
   "execution_count": 9,
   "id": "b3dceb35",
   "metadata": {},
   "outputs": [
    {
     "ename": "TypeError",
     "evalue": "object of type 'list_iterator' has no len()",
     "output_type": "error",
     "traceback": [
      "\u001b[1;31m---------------------------------------------------------------------------\u001b[0m",
      "\u001b[1;31mTypeError\u001b[0m                                 Traceback (most recent call last)",
      "\u001b[1;32m~\\AppData\\Local\\Temp/ipykernel_4932/70668189.py\u001b[0m in \u001b[0;36m<module>\u001b[1;34m\u001b[0m\n\u001b[1;32m----> 1\u001b[1;33m \u001b[0mlen\u001b[0m\u001b[1;33m(\u001b[0m\u001b[0mIT1\u001b[0m\u001b[1;33m)\u001b[0m\u001b[1;33m\u001b[0m\u001b[1;33m\u001b[0m\u001b[0m\n\u001b[0m",
      "\u001b[1;31mTypeError\u001b[0m: object of type 'list_iterator' has no len()"
     ]
    }
   ],
   "source": [
    "len(IT1)"
   ]
  },
  {
   "cell_type": "code",
   "execution_count": 10,
   "id": "4c48fa6e",
   "metadata": {},
   "outputs": [
    {
     "data": {
      "text/plain": [
       "builtin_function_or_method"
      ]
     },
     "execution_count": 10,
     "metadata": {},
     "output_type": "execute_result"
    }
   ],
   "source": [
    "type(next)"
   ]
  },
  {
   "cell_type": "code",
   "execution_count": 11,
   "id": "f8ca5391",
   "metadata": {},
   "outputs": [
    {
     "data": {
      "text/plain": [
       "10"
      ]
     },
     "execution_count": 11,
     "metadata": {},
     "output_type": "execute_result"
    }
   ],
   "source": [
    "next(IT1)"
   ]
  },
  {
   "cell_type": "code",
   "execution_count": 12,
   "id": "5f1c1924",
   "metadata": {},
   "outputs": [
    {
     "data": {
      "text/plain": [
       "20"
      ]
     },
     "execution_count": 12,
     "metadata": {},
     "output_type": "execute_result"
    }
   ],
   "source": [
    "next(IT1)"
   ]
  },
  {
   "cell_type": "code",
   "execution_count": 13,
   "id": "5a6d1c3a",
   "metadata": {},
   "outputs": [
    {
     "data": {
      "text/plain": [
       "30"
      ]
     },
     "execution_count": 13,
     "metadata": {},
     "output_type": "execute_result"
    }
   ],
   "source": [
    "next(IT1)"
   ]
  },
  {
   "cell_type": "code",
   "execution_count": 14,
   "id": "a6007b09",
   "metadata": {},
   "outputs": [
    {
     "data": {
      "text/plain": [
       "40"
      ]
     },
     "execution_count": 14,
     "metadata": {},
     "output_type": "execute_result"
    }
   ],
   "source": [
    "next(IT1)"
   ]
  },
  {
   "cell_type": "code",
   "execution_count": 15,
   "id": "0a5d15d3",
   "metadata": {},
   "outputs": [
    {
     "data": {
      "text/plain": [
       "50"
      ]
     },
     "execution_count": 15,
     "metadata": {},
     "output_type": "execute_result"
    }
   ],
   "source": [
    "next(IT1)"
   ]
  },
  {
   "cell_type": "code",
   "execution_count": 16,
   "id": "5bf9292c",
   "metadata": {},
   "outputs": [
    {
     "ename": "StopIteration",
     "evalue": "",
     "output_type": "error",
     "traceback": [
      "\u001b[1;31m---------------------------------------------------------------------------\u001b[0m",
      "\u001b[1;31mStopIteration\u001b[0m                             Traceback (most recent call last)",
      "\u001b[1;32m~\\AppData\\Local\\Temp/ipykernel_4932/3703262835.py\u001b[0m in \u001b[0;36m<module>\u001b[1;34m\u001b[0m\n\u001b[1;32m----> 1\u001b[1;33m \u001b[0mnext\u001b[0m\u001b[1;33m(\u001b[0m\u001b[0mIT1\u001b[0m\u001b[1;33m)\u001b[0m\u001b[1;33m\u001b[0m\u001b[1;33m\u001b[0m\u001b[0m\n\u001b[0m",
      "\u001b[1;31mStopIteration\u001b[0m: "
     ]
    }
   ],
   "source": [
    "next(IT1)"
   ]
  },
  {
   "cell_type": "code",
   "execution_count": 17,
   "id": "e8cbf5d1",
   "metadata": {},
   "outputs": [],
   "source": [
    "IT2 = iter(\"welcome\")"
   ]
  },
  {
   "cell_type": "code",
   "execution_count": 18,
   "id": "bd741ad3",
   "metadata": {},
   "outputs": [
    {
     "data": {
      "text/plain": [
       "str_iterator"
      ]
     },
     "execution_count": 18,
     "metadata": {},
     "output_type": "execute_result"
    }
   ],
   "source": [
    "type(IT2)"
   ]
  },
  {
   "cell_type": "code",
   "execution_count": 19,
   "id": "a66a34a6",
   "metadata": {},
   "outputs": [
    {
     "name": "stdout",
     "output_type": "stream",
     "text": [
      "Pretty printing has been turned OFF\n"
     ]
    }
   ],
   "source": [
    "pprint"
   ]
  },
  {
   "cell_type": "code",
   "execution_count": 20,
   "id": "a69d19ab",
   "metadata": {},
   "outputs": [
    {
     "data": {
      "text/plain": [
       "['__class__', '__delattr__', '__dir__', '__doc__', '__eq__', '__format__', '__ge__', '__getattribute__', '__gt__', '__hash__', '__init__', '__init_subclass__', '__iter__', '__le__', '__length_hint__', '__lt__', '__ne__', '__new__', '__next__', '__reduce__', '__reduce_ex__', '__repr__', '__setattr__', '__setstate__', '__sizeof__', '__str__', '__subclasshook__']"
      ]
     },
     "execution_count": 20,
     "metadata": {},
     "output_type": "execute_result"
    }
   ],
   "source": [
    "dir(IT2)"
   ]
  },
  {
   "cell_type": "code",
   "execution_count": 21,
   "id": "39ce550a",
   "metadata": {},
   "outputs": [
    {
     "data": {
      "text/plain": [
       "'w'"
      ]
     },
     "execution_count": 21,
     "metadata": {},
     "output_type": "execute_result"
    }
   ],
   "source": [
    "next(IT2)"
   ]
  },
  {
   "cell_type": "code",
   "execution_count": 22,
   "id": "b2d44b25",
   "metadata": {},
   "outputs": [],
   "source": [
    "L1=[10,20,30,40,50]"
   ]
  },
  {
   "cell_type": "code",
   "execution_count": 23,
   "id": "121aac00",
   "metadata": {},
   "outputs": [
    {
     "data": {
      "text/plain": [
       "['__add__', '__class__', '__class_getitem__', '__contains__', '__delattr__', '__delitem__', '__dir__', '__doc__', '__eq__', '__format__', '__ge__', '__getattribute__', '__getitem__', '__gt__', '__hash__', '__iadd__', '__imul__', '__init__', '__init_subclass__', '__iter__', '__le__', '__len__', '__lt__', '__mul__', '__ne__', '__new__', '__reduce__', '__reduce_ex__', '__repr__', '__reversed__', '__rmul__', '__setattr__', '__setitem__', '__sizeof__', '__str__', '__subclasshook__', 'append', 'clear', 'copy', 'count', 'extend', 'index', 'insert', 'pop', 'remove', 'reverse', 'sort']"
      ]
     },
     "execution_count": 23,
     "metadata": {},
     "output_type": "execute_result"
    }
   ],
   "source": [
    "dir(L1)"
   ]
  },
  {
   "cell_type": "code",
   "execution_count": 24,
   "id": "cbbb7f63",
   "metadata": {},
   "outputs": [
    {
     "ename": "TypeError",
     "evalue": "'list' object is not an iterator",
     "output_type": "error",
     "traceback": [
      "\u001b[1;31m---------------------------------------------------------------------------\u001b[0m",
      "\u001b[1;31mTypeError\u001b[0m                                 Traceback (most recent call last)",
      "\u001b[1;32m~\\AppData\\Local\\Temp/ipykernel_4932/3437584027.py\u001b[0m in \u001b[0;36m<module>\u001b[1;34m\u001b[0m\n\u001b[1;32m----> 1\u001b[1;33m \u001b[0mnext\u001b[0m\u001b[1;33m(\u001b[0m\u001b[0mL1\u001b[0m\u001b[1;33m)\u001b[0m\u001b[1;33m\u001b[0m\u001b[1;33m\u001b[0m\u001b[0m\n\u001b[0m",
      "\u001b[1;31mTypeError\u001b[0m: 'list' object is not an iterator"
     ]
    }
   ],
   "source": [
    "next(L1)"
   ]
  },
  {
   "cell_type": "code",
   "execution_count": 25,
   "id": "77f54f7f",
   "metadata": {},
   "outputs": [
    {
     "name": "stdout",
     "output_type": "stream",
     "text": [
      "e\n",
      "l\n",
      "c\n",
      "o\n",
      "m\n",
      "e\n"
     ]
    }
   ],
   "source": [
    "for i in IT2:\n",
    "    print(i)"
   ]
  },
  {
   "cell_type": "code",
   "execution_count": 26,
   "id": "06983873",
   "metadata": {},
   "outputs": [],
   "source": [
    "for i in IT2:\n",
    "    print(i)"
   ]
  },
  {
   "cell_type": "code",
   "execution_count": 27,
   "id": "a995dd44",
   "metadata": {},
   "outputs": [],
   "source": [
    "IT3 = iter((10,20,30,40,50))"
   ]
  },
  {
   "cell_type": "code",
   "execution_count": 28,
   "id": "f3029cf5",
   "metadata": {},
   "outputs": [
    {
     "data": {
      "text/plain": [
       "<class 'tuple_iterator'>"
      ]
     },
     "execution_count": 28,
     "metadata": {},
     "output_type": "execute_result"
    }
   ],
   "source": [
    "type(IT3)"
   ]
  },
  {
   "cell_type": "code",
   "execution_count": 29,
   "id": "deba9518",
   "metadata": {},
   "outputs": [
    {
     "name": "stdout",
     "output_type": "stream",
     "text": [
      "10\n",
      "20\n",
      "30\n",
      "40\n",
      "50\n"
     ]
    }
   ],
   "source": [
    "for i in IT3:\n",
    "    print(i)"
   ]
  },
  {
   "cell_type": "code",
   "execution_count": 30,
   "id": "16bcbd17",
   "metadata": {},
   "outputs": [],
   "source": [
    "for i in IT3:\n",
    "    print(i)"
   ]
  },
  {
   "cell_type": "code",
   "execution_count": 31,
   "id": "b2f2733f",
   "metadata": {},
   "outputs": [],
   "source": [
    "D1 = {1:100,2:200,3:300,4:400}"
   ]
  },
  {
   "cell_type": "code",
   "execution_count": 32,
   "id": "a8727069",
   "metadata": {},
   "outputs": [],
   "source": [
    "IT4 = iter(D1)"
   ]
  },
  {
   "cell_type": "code",
   "execution_count": 33,
   "id": "59007d44",
   "metadata": {},
   "outputs": [
    {
     "data": {
      "text/plain": [
       "<class 'dict_keyiterator'>"
      ]
     },
     "execution_count": 33,
     "metadata": {},
     "output_type": "execute_result"
    }
   ],
   "source": [
    "type(IT4)"
   ]
  },
  {
   "cell_type": "code",
   "execution_count": 34,
   "id": "6a36d34d",
   "metadata": {},
   "outputs": [
    {
     "name": "stdout",
     "output_type": "stream",
     "text": [
      "1\n",
      "2\n",
      "3\n",
      "4\n"
     ]
    }
   ],
   "source": [
    "for i in IT4:\n",
    "    print(i)"
   ]
  },
  {
   "cell_type": "code",
   "execution_count": 35,
   "id": "48c4d4da",
   "metadata": {},
   "outputs": [],
   "source": [
    "for i in IT4:\n",
    "    print(i)"
   ]
  },
  {
   "cell_type": "code",
   "execution_count": 36,
   "id": "a488c870",
   "metadata": {},
   "outputs": [],
   "source": [
    "D1 = {1:100,2:200,3:300,4:400}"
   ]
  },
  {
   "cell_type": "code",
   "execution_count": 37,
   "id": "7d743da7",
   "metadata": {},
   "outputs": [],
   "source": [
    "IT5 = iter(D1.items())"
   ]
  },
  {
   "cell_type": "code",
   "execution_count": 38,
   "id": "d1bc9fa8",
   "metadata": {},
   "outputs": [
    {
     "data": {
      "text/plain": [
       "<class 'dict_itemiterator'>"
      ]
     },
     "execution_count": 38,
     "metadata": {},
     "output_type": "execute_result"
    }
   ],
   "source": [
    "type(IT5)"
   ]
  },
  {
   "cell_type": "code",
   "execution_count": 39,
   "id": "aa24c45e",
   "metadata": {},
   "outputs": [
    {
     "name": "stdout",
     "output_type": "stream",
     "text": [
      "(1, 100)\n",
      "(2, 200)\n",
      "(3, 300)\n",
      "(4, 400)\n"
     ]
    }
   ],
   "source": [
    "for i in IT5:\n",
    "    print(i)"
   ]
  },
  {
   "cell_type": "code",
   "execution_count": 40,
   "id": "6bf4ebcf",
   "metadata": {},
   "outputs": [],
   "source": [
    "IT6 = iter(D1.values())"
   ]
  },
  {
   "cell_type": "code",
   "execution_count": 41,
   "id": "7ad48502",
   "metadata": {},
   "outputs": [
    {
     "data": {
      "text/plain": [
       "<class 'dict_valueiterator'>"
      ]
     },
     "execution_count": 41,
     "metadata": {},
     "output_type": "execute_result"
    }
   ],
   "source": [
    "type(IT6)"
   ]
  },
  {
   "cell_type": "code",
   "execution_count": 42,
   "id": "b889ea11",
   "metadata": {},
   "outputs": [
    {
     "name": "stdout",
     "output_type": "stream",
     "text": [
      "100\n",
      "200\n",
      "300\n",
      "400\n"
     ]
    }
   ],
   "source": [
    "for i in IT6:\n",
    "    print(i)"
   ]
  },
  {
   "cell_type": "code",
   "execution_count": 43,
   "id": "8caa3407",
   "metadata": {},
   "outputs": [],
   "source": [
    "IT7 = iter(D1.keys())"
   ]
  },
  {
   "cell_type": "code",
   "execution_count": 44,
   "id": "cdfc406a",
   "metadata": {},
   "outputs": [
    {
     "data": {
      "text/plain": [
       "<class 'dict_keyiterator'>"
      ]
     },
     "execution_count": 44,
     "metadata": {},
     "output_type": "execute_result"
    }
   ],
   "source": [
    "type(IT7)"
   ]
  },
  {
   "cell_type": "code",
   "execution_count": 45,
   "id": "f95695b4",
   "metadata": {},
   "outputs": [],
   "source": [
    "IT8 = iter(range(0,26,5))"
   ]
  },
  {
   "cell_type": "code",
   "execution_count": 46,
   "id": "40153019",
   "metadata": {},
   "outputs": [
    {
     "data": {
      "text/plain": [
       "<class 'range_iterator'>"
      ]
     },
     "execution_count": 46,
     "metadata": {},
     "output_type": "execute_result"
    }
   ],
   "source": [
    "type(IT8)"
   ]
  },
  {
   "cell_type": "code",
   "execution_count": 47,
   "id": "2951fa42",
   "metadata": {},
   "outputs": [
    {
     "name": "stdout",
     "output_type": "stream",
     "text": [
      "0\n",
      "5\n",
      "10\n",
      "15\n",
      "20\n",
      "25\n"
     ]
    }
   ],
   "source": [
    "for i in IT8:\n",
    "    print(i)"
   ]
  },
  {
   "cell_type": "code",
   "execution_count": 48,
   "id": "46fe3943",
   "metadata": {},
   "outputs": [],
   "source": [
    "for i in IT8:\n",
    "    print(i)"
   ]
  },
  {
   "cell_type": "code",
   "execution_count": 49,
   "id": "b6e536e1",
   "metadata": {},
   "outputs": [],
   "source": [
    "s1 = {10,20,30,40,50}"
   ]
  },
  {
   "cell_type": "code",
   "execution_count": 50,
   "id": "ce30678e",
   "metadata": {},
   "outputs": [],
   "source": [
    "IT9 = iter(s1)"
   ]
  },
  {
   "cell_type": "code",
   "execution_count": 51,
   "id": "621c64fb",
   "metadata": {},
   "outputs": [
    {
     "data": {
      "text/plain": [
       "<class 'set_iterator'>"
      ]
     },
     "execution_count": 51,
     "metadata": {},
     "output_type": "execute_result"
    }
   ],
   "source": [
    "type(IT9)"
   ]
  },
  {
   "cell_type": "code",
   "execution_count": 52,
   "id": "0eb04faa",
   "metadata": {},
   "outputs": [
    {
     "name": "stdout",
     "output_type": "stream",
     "text": [
      "50\n",
      "20\n",
      "40\n",
      "10\n",
      "30\n"
     ]
    }
   ],
   "source": [
    "for i in IT9:\n",
    "    print(i)"
   ]
  },
  {
   "cell_type": "code",
   "execution_count": 53,
   "id": "6454885c",
   "metadata": {},
   "outputs": [
    {
     "name": "stdout",
     "output_type": "stream",
     "text": [
      "<generator object <genexpr> at 0x0000020DF7CA3040>\n"
     ]
    }
   ],
   "source": [
    "print(n for n in range(1,11))"
   ]
  },
  {
   "cell_type": "code",
   "execution_count": 54,
   "id": "ee87e207",
   "metadata": {},
   "outputs": [],
   "source": [
    "#comprehension expression\n",
    "L1 = [n for n in range(1,11)]"
   ]
  },
  {
   "cell_type": "code",
   "execution_count": 55,
   "id": "20072af7",
   "metadata": {},
   "outputs": [
    {
     "data": {
      "text/plain": [
       "<class 'list'>"
      ]
     },
     "execution_count": 55,
     "metadata": {},
     "output_type": "execute_result"
    }
   ],
   "source": [
    "type(L1)"
   ]
  },
  {
   "cell_type": "code",
   "execution_count": 56,
   "id": "8e88f359",
   "metadata": {},
   "outputs": [
    {
     "name": "stdout",
     "output_type": "stream",
     "text": [
      "[1, 2, 3, 4, 5, 6, 7, 8, 9, 10]\n"
     ]
    }
   ],
   "source": [
    "print(L1)"
   ]
  },
  {
   "cell_type": "code",
   "execution_count": 57,
   "id": "ea7e3c05",
   "metadata": {},
   "outputs": [
    {
     "name": "stdout",
     "output_type": "stream",
     "text": [
      "[1, 4, 9, 16, 25]\n"
     ]
    }
   ],
   "source": [
    "L2 = [n*n for n in range(1,6)]\n",
    "print(L2)"
   ]
  },
  {
   "cell_type": "code",
   "execution_count": 58,
   "id": "254c8e3a",
   "metadata": {},
   "outputs": [],
   "source": [
    "L3 = (n+n for n in range(1,6))"
   ]
  },
  {
   "cell_type": "code",
   "execution_count": 59,
   "id": "658f2c16",
   "metadata": {},
   "outputs": [
    {
     "name": "stdout",
     "output_type": "stream",
     "text": [
      "<generator object <genexpr> at 0x0000020DF7CA3510>\n"
     ]
    }
   ],
   "source": [
    "print(L3)"
   ]
  },
  {
   "cell_type": "code",
   "execution_count": 60,
   "id": "4d38fc97",
   "metadata": {},
   "outputs": [],
   "source": [
    "L4 = iter(n**n for n in range(1,4))"
   ]
  },
  {
   "cell_type": "code",
   "execution_count": 61,
   "id": "4943e3a8",
   "metadata": {},
   "outputs": [
    {
     "name": "stdout",
     "output_type": "stream",
     "text": [
      "<generator object <genexpr> at 0x0000020DF7CA37B0>\n"
     ]
    }
   ],
   "source": [
    "print(L4)"
   ]
  },
  {
   "cell_type": "code",
   "execution_count": 62,
   "id": "f71c3153",
   "metadata": {},
   "outputs": [
    {
     "name": "stdout",
     "output_type": "stream",
     "text": [
      "1\n",
      "4\n",
      "27\n"
     ]
    }
   ],
   "source": [
    "for i in L4:\n",
    "    print(i)"
   ]
  },
  {
   "cell_type": "code",
   "execution_count": 63,
   "id": "17c751d0",
   "metadata": {},
   "outputs": [],
   "source": [
    "for i in L4:\n",
    "    print(i)"
   ]
  },
  {
   "cell_type": "code",
   "execution_count": 64,
   "id": "e22fed84",
   "metadata": {},
   "outputs": [
    {
     "data": {
      "text/plain": [
       "['__class__', '__del__', '__delattr__', '__dir__', '__doc__', '__eq__', '__format__', '__ge__', '__getattribute__', '__gt__', '__hash__', '__init__', '__init_subclass__', '__iter__', '__le__', '__lt__', '__name__', '__ne__', '__new__', '__next__', '__qualname__', '__reduce__', '__reduce_ex__', '__repr__', '__setattr__', '__sizeof__', '__str__', '__subclasshook__', 'close', 'gi_code', 'gi_frame', 'gi_running', 'gi_yieldfrom', 'send', 'throw']"
      ]
     },
     "execution_count": 64,
     "metadata": {},
     "output_type": "execute_result"
    }
   ],
   "source": [
    "dir(L4)"
   ]
  },
  {
   "cell_type": "code",
   "execution_count": 65,
   "id": "075f5213",
   "metadata": {},
   "outputs": [],
   "source": [
    "IT5 = (n*n for n in range(1,6))"
   ]
  },
  {
   "cell_type": "code",
   "execution_count": 66,
   "id": "6d2e7606",
   "metadata": {},
   "outputs": [
    {
     "data": {
      "text/plain": [
       "1"
      ]
     },
     "execution_count": 66,
     "metadata": {},
     "output_type": "execute_result"
    }
   ],
   "source": [
    "IT5.__next__()"
   ]
  },
  {
   "cell_type": "code",
   "execution_count": 67,
   "id": "7c3725bc",
   "metadata": {},
   "outputs": [
    {
     "data": {
      "text/plain": [
       "4"
      ]
     },
     "execution_count": 67,
     "metadata": {},
     "output_type": "execute_result"
    }
   ],
   "source": [
    "IT5.__next__()"
   ]
  },
  {
   "cell_type": "code",
   "execution_count": 68,
   "id": "d83d7e07",
   "metadata": {},
   "outputs": [
    {
     "data": {
      "text/plain": [
       "9"
      ]
     },
     "execution_count": 68,
     "metadata": {},
     "output_type": "execute_result"
    }
   ],
   "source": [
    "IT5.__next__()"
   ]
  },
  {
   "cell_type": "code",
   "execution_count": null,
   "id": "886862ed",
   "metadata": {},
   "outputs": [],
   "source": []
  }
 ],
 "metadata": {
  "kernelspec": {
   "display_name": "Python 3 (ipykernel)",
   "language": "python",
   "name": "python3"
  },
  "language_info": {
   "codemirror_mode": {
    "name": "ipython",
    "version": 3
   },
   "file_extension": ".py",
   "mimetype": "text/x-python",
   "name": "python",
   "nbconvert_exporter": "python",
   "pygments_lexer": "ipython3",
   "version": "3.9.7"
  }
 },
 "nbformat": 4,
 "nbformat_minor": 5
}
