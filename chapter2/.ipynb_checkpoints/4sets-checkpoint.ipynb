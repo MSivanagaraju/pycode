{
 "cells": [
  {
   "cell_type": "code",
   "execution_count": null,
   "id": "19266e0d",
   "metadata": {},
   "outputs": [],
   "source": [
    "#sets\n",
    "#sets will not accept duplicate values\n",
    "#no index in sets\n",
    "#there is no order in sets"
   ]
  },
  {
   "cell_type": "code",
   "execution_count": 1,
   "id": "12751f54",
   "metadata": {},
   "outputs": [],
   "source": [
    "s1={1,2,3,4,5}\n",
    "s2={4,5,6,7,8}\n",
    "s3={\"python\",\"django\",'react'}\n",
    "s4={100,'python',10.45}"
   ]
  },
  {
   "cell_type": "code",
   "execution_count": 2,
   "id": "7886a5e5",
   "metadata": {},
   "outputs": [
    {
     "name": "stdout",
     "output_type": "stream",
     "text": [
      "{1, 2, 3, 4, 5}\n",
      "{4, 5, 6, 7, 8}\n"
     ]
    }
   ],
   "source": [
    "print(s1)\n",
    "print(s2)"
   ]
  },
  {
   "cell_type": "code",
   "execution_count": null,
   "id": "8865c480",
   "metadata": {},
   "outputs": [],
   "source": [
    "#empty set"
   ]
  },
  {
   "cell_type": "code",
   "execution_count": 3,
   "id": "8d8b10ea",
   "metadata": {},
   "outputs": [
    {
     "data": {
      "text/plain": [
       "dict"
      ]
     },
     "execution_count": 3,
     "metadata": {},
     "output_type": "execute_result"
    }
   ],
   "source": [
    "s5 = {}\n",
    "type(s5)"
   ]
  },
  {
   "cell_type": "code",
   "execution_count": 4,
   "id": "afc5363e",
   "metadata": {},
   "outputs": [
    {
     "data": {
      "text/plain": [
       "set"
      ]
     },
     "execution_count": 4,
     "metadata": {},
     "output_type": "execute_result"
    }
   ],
   "source": [
    "#empty set\n",
    "s6 = set()\n",
    "type(s6)"
   ]
  },
  {
   "cell_type": "code",
   "execution_count": 5,
   "id": "7c605f04",
   "metadata": {},
   "outputs": [],
   "source": [
    "L1 = [10,20,30,10,30,50,40]"
   ]
  },
  {
   "cell_type": "code",
   "execution_count": 6,
   "id": "2a07f3cd",
   "metadata": {},
   "outputs": [
    {
     "name": "stdout",
     "output_type": "stream",
     "text": [
      "<class 'set'>\n",
      "{40, 10, 50, 20, 30}\n"
     ]
    }
   ],
   "source": [
    "s7 = set(L1)\n",
    "print(type(s7))\n",
    "print(s7)"
   ]
  },
  {
   "cell_type": "code",
   "execution_count": 7,
   "id": "6e0aed93",
   "metadata": {},
   "outputs": [
    {
     "data": {
      "text/plain": [
       "5"
      ]
     },
     "execution_count": 7,
     "metadata": {},
     "output_type": "execute_result"
    }
   ],
   "source": [
    "len(s7)"
   ]
  },
  {
   "cell_type": "code",
   "execution_count": 8,
   "id": "5be6d542",
   "metadata": {},
   "outputs": [
    {
     "ename": "TypeError",
     "evalue": "'set' object is not subscriptable",
     "output_type": "error",
     "traceback": [
      "\u001b[1;31m---------------------------------------------------------------------------\u001b[0m",
      "\u001b[1;31mTypeError\u001b[0m                                 Traceback (most recent call last)",
      "\u001b[1;32m~\\AppData\\Local\\Temp/ipykernel_15160/2459553882.py\u001b[0m in \u001b[0;36m<module>\u001b[1;34m\u001b[0m\n\u001b[1;32m----> 1\u001b[1;33m \u001b[0ms7\u001b[0m\u001b[1;33m[\u001b[0m\u001b[1;36m0\u001b[0m\u001b[1;33m]\u001b[0m\u001b[1;33m\u001b[0m\u001b[1;33m\u001b[0m\u001b[0m\n\u001b[0m",
      "\u001b[1;31mTypeError\u001b[0m: 'set' object is not subscriptable"
     ]
    }
   ],
   "source": [
    "s7[0]"
   ]
  },
  {
   "cell_type": "code",
   "execution_count": 9,
   "id": "92c2ad3e",
   "metadata": {},
   "outputs": [
    {
     "ename": "TypeError",
     "evalue": "'set' object is not subscriptable",
     "output_type": "error",
     "traceback": [
      "\u001b[1;31m---------------------------------------------------------------------------\u001b[0m",
      "\u001b[1;31mTypeError\u001b[0m                                 Traceback (most recent call last)",
      "\u001b[1;32m~\\AppData\\Local\\Temp/ipykernel_15160/509700847.py\u001b[0m in \u001b[0;36m<module>\u001b[1;34m\u001b[0m\n\u001b[1;32m----> 1\u001b[1;33m \u001b[0ms7\u001b[0m\u001b[1;33m[\u001b[0m\u001b[1;33m:\u001b[0m\u001b[1;33m]\u001b[0m\u001b[1;33m\u001b[0m\u001b[1;33m\u001b[0m\u001b[0m\n\u001b[0m",
      "\u001b[1;31mTypeError\u001b[0m: 'set' object is not subscriptable"
     ]
    }
   ],
   "source": [
    "s7[:]"
   ]
  },
  {
   "cell_type": "code",
   "execution_count": 10,
   "id": "c9d9e78d",
   "metadata": {},
   "outputs": [
    {
     "name": "stdout",
     "output_type": "stream",
     "text": [
      "Pretty printing has been turned OFF\n"
     ]
    }
   ],
   "source": [
    "pprint"
   ]
  },
  {
   "cell_type": "code",
   "execution_count": 11,
   "id": "6cc5eb10",
   "metadata": {},
   "outputs": [
    {
     "data": {
      "text/plain": [
       "['__and__', '__class__', '__class_getitem__', '__contains__', '__delattr__', '__dir__', '__doc__', '__eq__', '__format__', '__ge__', '__getattribute__', '__gt__', '__hash__', '__iand__', '__init__', '__init_subclass__', '__ior__', '__isub__', '__iter__', '__ixor__', '__le__', '__len__', '__lt__', '__ne__', '__new__', '__or__', '__rand__', '__reduce__', '__reduce_ex__', '__repr__', '__ror__', '__rsub__', '__rxor__', '__setattr__', '__sizeof__', '__str__', '__sub__', '__subclasshook__', '__xor__', 'add', 'clear', 'copy', 'difference', 'difference_update', 'discard', 'intersection', 'intersection_update', 'isdisjoint', 'issubset', 'issuperset', 'pop', 'remove', 'symmetric_difference', 'symmetric_difference_update', 'union', 'update']"
      ]
     },
     "execution_count": 11,
     "metadata": {},
     "output_type": "execute_result"
    }
   ],
   "source": [
    "dir(s7)"
   ]
  },
  {
   "cell_type": "code",
   "execution_count": 12,
   "id": "851a5fed",
   "metadata": {},
   "outputs": [
    {
     "name": "stdout",
     "output_type": "stream",
     "text": [
      "40\n",
      "10\n",
      "50\n",
      "20\n",
      "30\n"
     ]
    }
   ],
   "source": [
    "for i in s7:\n",
    "    print(i)"
   ]
  },
  {
   "cell_type": "code",
   "execution_count": 13,
   "id": "9e15856f",
   "metadata": {},
   "outputs": [
    {
     "data": {
      "text/plain": [
       "True"
      ]
     },
     "execution_count": 13,
     "metadata": {},
     "output_type": "execute_result"
    }
   ],
   "source": [
    "10 in s7"
   ]
  },
  {
   "cell_type": "code",
   "execution_count": 14,
   "id": "d47b5e61",
   "metadata": {},
   "outputs": [
    {
     "data": {
      "text/plain": [
       "False"
      ]
     },
     "execution_count": 14,
     "metadata": {},
     "output_type": "execute_result"
    }
   ],
   "source": [
    "100 in s7"
   ]
  },
  {
   "cell_type": "code",
   "execution_count": 15,
   "id": "3643d5cc",
   "metadata": {},
   "outputs": [
    {
     "data": {
      "text/plain": [
       "150"
      ]
     },
     "execution_count": 15,
     "metadata": {},
     "output_type": "execute_result"
    }
   ],
   "source": [
    "sum(s7)"
   ]
  },
  {
   "cell_type": "code",
   "execution_count": 16,
   "id": "b2f46212",
   "metadata": {},
   "outputs": [
    {
     "data": {
      "text/plain": [
       "50"
      ]
     },
     "execution_count": 16,
     "metadata": {},
     "output_type": "execute_result"
    }
   ],
   "source": [
    "max(s7)"
   ]
  },
  {
   "cell_type": "code",
   "execution_count": 17,
   "id": "7f1dc169",
   "metadata": {},
   "outputs": [
    {
     "data": {
      "text/plain": [
       "10"
      ]
     },
     "execution_count": 17,
     "metadata": {},
     "output_type": "execute_result"
    }
   ],
   "source": [
    "min(s7)"
   ]
  },
  {
   "cell_type": "code",
   "execution_count": 18,
   "id": "873f14ed",
   "metadata": {},
   "outputs": [],
   "source": [
    "s1={1,2,3,4,5}\n",
    "s2={4,5,6,7,8}"
   ]
  },
  {
   "cell_type": "code",
   "execution_count": null,
   "id": "365b4618",
   "metadata": {},
   "outputs": [],
   "source": []
  },
  {
   "cell_type": "code",
   "execution_count": 19,
   "id": "9b6f112b",
   "metadata": {},
   "outputs": [
    {
     "name": "stdout",
     "output_type": "stream",
     "text": [
      "{1, 2, 3, 4, 5, 6, 7, 8}\n",
      "{4, 5}\n",
      "{1, 2, 3}\n",
      "{8, 6, 7}\n",
      "{1, 2, 3, 6, 7, 8}\n"
     ]
    }
   ],
   "source": [
    "print(s1|s2)  # union \n",
    "print(s1&s2)  # intersection\n",
    "print(s1-s2)  # s1 only\n",
    "print(s2-s1)  # s2 only\n",
    "print(s1^s2)  # (s1-s2) union (s2-s1)"
   ]
  },
  {
   "cell_type": "code",
   "execution_count": 20,
   "id": "ca6f78b7",
   "metadata": {},
   "outputs": [],
   "source": [
    "m = set('abcd')\n",
    "n = set('abcf')"
   ]
  },
  {
   "cell_type": "code",
   "execution_count": 21,
   "id": "514ea4b4",
   "metadata": {},
   "outputs": [
    {
     "data": {
      "text/plain": [
       "{'b', 'f', 'c', 'd', 'a'}"
      ]
     },
     "execution_count": 21,
     "metadata": {},
     "output_type": "execute_result"
    }
   ],
   "source": [
    "m|n"
   ]
  },
  {
   "cell_type": "code",
   "execution_count": 22,
   "id": "74773cf8",
   "metadata": {},
   "outputs": [
    {
     "data": {
      "text/plain": [
       "{'b', 'c', 'a'}"
      ]
     },
     "execution_count": 22,
     "metadata": {},
     "output_type": "execute_result"
    }
   ],
   "source": [
    "m&n"
   ]
  },
  {
   "cell_type": "code",
   "execution_count": 23,
   "id": "44e57600",
   "metadata": {},
   "outputs": [
    {
     "data": {
      "text/plain": [
       "{'d'}"
      ]
     },
     "execution_count": 23,
     "metadata": {},
     "output_type": "execute_result"
    }
   ],
   "source": [
    "m-n"
   ]
  },
  {
   "cell_type": "code",
   "execution_count": 24,
   "id": "d704969d",
   "metadata": {},
   "outputs": [
    {
     "data": {
      "text/plain": [
       "{'f'}"
      ]
     },
     "execution_count": 24,
     "metadata": {},
     "output_type": "execute_result"
    }
   ],
   "source": [
    "n-m"
   ]
  },
  {
   "cell_type": "code",
   "execution_count": 25,
   "id": "a5b431c3",
   "metadata": {},
   "outputs": [
    {
     "data": {
      "text/plain": [
       "{'f', 'd'}"
      ]
     },
     "execution_count": 25,
     "metadata": {},
     "output_type": "execute_result"
    }
   ],
   "source": [
    "m^n"
   ]
  },
  {
   "cell_type": "code",
   "execution_count": 26,
   "id": "bc350642",
   "metadata": {},
   "outputs": [
    {
     "name": "stdout",
     "output_type": "stream",
     "text": [
      "{40, 10, 50, 20, 30}\n"
     ]
    }
   ],
   "source": [
    "s10 = set([10,50,30,20,40])\n",
    "print(s10)"
   ]
  },
  {
   "cell_type": "code",
   "execution_count": 27,
   "id": "9befb687",
   "metadata": {},
   "outputs": [
    {
     "data": {
      "text/plain": [
       "[10, 20, 30, 40, 50]"
      ]
     },
     "execution_count": 27,
     "metadata": {},
     "output_type": "execute_result"
    }
   ],
   "source": [
    "sorted([10,50,30,20,40])"
   ]
  },
  {
   "cell_type": "code",
   "execution_count": 28,
   "id": "8ba209b3",
   "metadata": {},
   "outputs": [
    {
     "data": {
      "text/plain": [
       "[50, 40, 30, 20, 10]"
      ]
     },
     "execution_count": 28,
     "metadata": {},
     "output_type": "execute_result"
    }
   ],
   "source": [
    "sorted([10,50,30,20,40],reverse=True)"
   ]
  },
  {
   "cell_type": "code",
   "execution_count": 29,
   "id": "c0322ea8",
   "metadata": {},
   "outputs": [
    {
     "name": "stdout",
     "output_type": "stream",
     "text": [
      "50\n",
      "40\n",
      "30\n",
      "20\n",
      "10\n"
     ]
    }
   ],
   "source": [
    "for i in sorted([10,50,30,20,40],reverse=True):\n",
    "    print(i)"
   ]
  },
  {
   "cell_type": "code",
   "execution_count": 30,
   "id": "eef483fb",
   "metadata": {},
   "outputs": [
    {
     "data": {
      "text/plain": [
       "[10, 20, 30, 40, 50]"
      ]
     },
     "execution_count": 30,
     "metadata": {},
     "output_type": "execute_result"
    }
   ],
   "source": [
    "sorted(set([10,50,30,20,40]))"
   ]
  },
  {
   "cell_type": "code",
   "execution_count": 31,
   "id": "73fb6bf2",
   "metadata": {},
   "outputs": [
    {
     "name": "stdout",
     "output_type": "stream",
     "text": [
      "[10, 20, 30, 40, 50]\n"
     ]
    }
   ],
   "source": [
    "s11 = sorted(set([10,50,30,20,40]))\n",
    "print(s11)"
   ]
  },
  {
   "cell_type": "code",
   "execution_count": 32,
   "id": "8c3c899a",
   "metadata": {},
   "outputs": [
    {
     "data": {
      "text/plain": [
       "10"
      ]
     },
     "execution_count": 32,
     "metadata": {},
     "output_type": "execute_result"
    }
   ],
   "source": [
    "s11[0]"
   ]
  },
  {
   "cell_type": "code",
   "execution_count": 33,
   "id": "cbf0aea3",
   "metadata": {},
   "outputs": [
    {
     "data": {
      "text/plain": [
       "<class 'list'>"
      ]
     },
     "execution_count": 33,
     "metadata": {},
     "output_type": "execute_result"
    }
   ],
   "source": [
    "type(s11)"
   ]
  },
  {
   "cell_type": "code",
   "execution_count": 34,
   "id": "a8faa252",
   "metadata": {},
   "outputs": [],
   "source": [
    "L1 = [10,20,30]\n",
    "T1 = (5,4,7,3)\n",
    "L2 = ['python','java','c++']\n",
    "D1 = {1:100,2:200,3:300,4:400}\n",
    "D2 = {'a':'apple','b':'banana','c':'cherry'}"
   ]
  },
  {
   "cell_type": "code",
   "execution_count": 36,
   "id": "5cb79203",
   "metadata": {},
   "outputs": [
    {
     "name": "stdout",
     "output_type": "stream",
     "text": [
      "{10, 20, 30}\n"
     ]
    }
   ],
   "source": [
    "s1 = set(L1)\n",
    "print(s1)"
   ]
  },
  {
   "cell_type": "code",
   "execution_count": 37,
   "id": "9bab0837",
   "metadata": {},
   "outputs": [
    {
     "name": "stdout",
     "output_type": "stream",
     "text": [
      "(5, 4, 7, 3)\n"
     ]
    }
   ],
   "source": [
    "s2 = set(T1)\n",
    "print(T1)"
   ]
  },
  {
   "cell_type": "code",
   "execution_count": 38,
   "id": "0eedd837",
   "metadata": {},
   "outputs": [
    {
     "name": "stdout",
     "output_type": "stream",
     "text": [
      "{'c++', 'java', 'python'}\n"
     ]
    }
   ],
   "source": [
    "s3 = set(L2)\n",
    "print(s3)"
   ]
  },
  {
   "cell_type": "code",
   "execution_count": 39,
   "id": "f0241838",
   "metadata": {},
   "outputs": [
    {
     "name": "stdout",
     "output_type": "stream",
     "text": [
      "{1, 2, 3, 4}\n"
     ]
    }
   ],
   "source": [
    "s4 = set(D1)\n",
    "print(s4)"
   ]
  },
  {
   "cell_type": "code",
   "execution_count": 40,
   "id": "2ebd958a",
   "metadata": {},
   "outputs": [
    {
     "name": "stdout",
     "output_type": "stream",
     "text": [
      "{'b', 'c', 'a'}\n"
     ]
    }
   ],
   "source": [
    "s5 = set(D2)\n",
    "print(s5)"
   ]
  },
  {
   "cell_type": "code",
   "execution_count": 41,
   "id": "f7c0bec5",
   "metadata": {},
   "outputs": [
    {
     "name": "stdout",
     "output_type": "stream",
     "text": [
      "{(2, 200), (3, 300), (4, 400), (1, 100)}\n"
     ]
    }
   ],
   "source": [
    "s6 = set(D1.items())\n",
    "print(s6)"
   ]
  },
  {
   "cell_type": "code",
   "execution_count": 42,
   "id": "ba03dc6e",
   "metadata": {},
   "outputs": [
    {
     "name": "stdout",
     "output_type": "stream",
     "text": [
      "{'cherry', 'apple', 'banana'}\n"
     ]
    }
   ],
   "source": [
    "s7 = set(D2.values())\n",
    "print(s7)"
   ]
  },
  {
   "cell_type": "code",
   "execution_count": null,
   "id": "af2cb6f7",
   "metadata": {},
   "outputs": [],
   "source": [
    "#set methods"
   ]
  },
  {
   "cell_type": "code",
   "execution_count": 43,
   "id": "343835b7",
   "metadata": {},
   "outputs": [
    {
     "data": {
      "text/plain": [
       "{50, 20, 40, 10, 30}"
      ]
     },
     "execution_count": 43,
     "metadata": {},
     "output_type": "execute_result"
    }
   ],
   "source": [
    "s1 = {10,20,30,40,50}\n",
    "s1"
   ]
  },
  {
   "cell_type": "code",
   "execution_count": 44,
   "id": "bad11683",
   "metadata": {},
   "outputs": [
    {
     "data": {
      "text/plain": [
       "{50, 20, 40, 10, 60, 30}"
      ]
     },
     "execution_count": 44,
     "metadata": {},
     "output_type": "execute_result"
    }
   ],
   "source": [
    "#add\n",
    "s1.add(60)\n",
    "s1"
   ]
  },
  {
   "cell_type": "code",
   "execution_count": 45,
   "id": "9ea7739d",
   "metadata": {},
   "outputs": [
    {
     "data": {
      "text/plain": [
       "set()"
      ]
     },
     "execution_count": 45,
     "metadata": {},
     "output_type": "execute_result"
    }
   ],
   "source": [
    "#clear\n",
    "s1.clear()\n",
    "s1"
   ]
  },
  {
   "cell_type": "code",
   "execution_count": 48,
   "id": "b0f9aca7",
   "metadata": {},
   "outputs": [],
   "source": [
    "#copy\n",
    "s1 = {10,20,30,40,50}"
   ]
  },
  {
   "cell_type": "code",
   "execution_count": 49,
   "id": "b1650eaa",
   "metadata": {},
   "outputs": [
    {
     "data": {
      "text/plain": [
       "{50, 20, 40, 10, 30}"
      ]
     },
     "execution_count": 49,
     "metadata": {},
     "output_type": "execute_result"
    }
   ],
   "source": [
    "s2=s1.copy()\n",
    "s2"
   ]
  },
  {
   "cell_type": "code",
   "execution_count": 50,
   "id": "46b615f5",
   "metadata": {},
   "outputs": [],
   "source": [
    "s1 = {10,20,30,40,50}\n",
    "s2 = {40,50,60,70,80}"
   ]
  },
  {
   "cell_type": "code",
   "execution_count": 51,
   "id": "61b4402a",
   "metadata": {},
   "outputs": [
    {
     "name": "stdout",
     "output_type": "stream",
     "text": [
      "{10, 20, 30}\n",
      "{80, 60, 70}\n"
     ]
    }
   ],
   "source": [
    "#difference\n",
    "print(s1.difference(s2))\n",
    "print(s2.difference(s1))"
   ]
  },
  {
   "cell_type": "code",
   "execution_count": 52,
   "id": "df99cfdd",
   "metadata": {},
   "outputs": [
    {
     "name": "stdout",
     "output_type": "stream",
     "text": [
      "{20, 10, 30}\n"
     ]
    }
   ],
   "source": [
    "#difference_update\n",
    "s1 = {10,20,30,40,50}\n",
    "s2 = {40,50,60,70,80}\n",
    "s1.difference_update(s2)\n",
    "print(s1)"
   ]
  },
  {
   "cell_type": "code",
   "execution_count": 53,
   "id": "d86f1124",
   "metadata": {},
   "outputs": [
    {
     "data": {
      "text/plain": [
       "{80, 70, 60}"
      ]
     },
     "execution_count": 53,
     "metadata": {},
     "output_type": "execute_result"
    }
   ],
   "source": [
    "s1 = {10,20,30,40,50}\n",
    "s2 = {40,50,60,70,80}\n",
    "s2.difference_update(s1)\n",
    "s2"
   ]
  },
  {
   "cell_type": "code",
   "execution_count": 54,
   "id": "fb7428f6",
   "metadata": {},
   "outputs": [
    {
     "name": "stdout",
     "output_type": "stream",
     "text": [
      "{50, 20, 40, 10, 30}\n"
     ]
    }
   ],
   "source": [
    "#discard\n",
    "s1 = {10,20,30,40,50}\n",
    "print(s1)"
   ]
  },
  {
   "cell_type": "code",
   "execution_count": 55,
   "id": "eac7f58f",
   "metadata": {},
   "outputs": [
    {
     "data": {
      "text/plain": [
       "{50, 40, 10, 30}"
      ]
     },
     "execution_count": 55,
     "metadata": {},
     "output_type": "execute_result"
    }
   ],
   "source": [
    "s1.discard(20)\n",
    "s1"
   ]
  },
  {
   "cell_type": "code",
   "execution_count": 56,
   "id": "22723bca",
   "metadata": {},
   "outputs": [
    {
     "data": {
      "text/plain": [
       "{40, 50}"
      ]
     },
     "execution_count": 56,
     "metadata": {},
     "output_type": "execute_result"
    }
   ],
   "source": [
    "#intersection\n",
    "s1 = {10,20,30,40,50}\n",
    "s2 = {40,50,60,70,80}\n",
    "s1.intersection(s2)"
   ]
  },
  {
   "cell_type": "code",
   "execution_count": 57,
   "id": "c29d8583",
   "metadata": {},
   "outputs": [
    {
     "name": "stdout",
     "output_type": "stream",
     "text": [
      "{50, 20, 40, 10, 30}\n",
      "{80, 50, 70, 40, 60}\n"
     ]
    }
   ],
   "source": [
    "print(s1)\n",
    "print(s2)"
   ]
  },
  {
   "cell_type": "code",
   "execution_count": 58,
   "id": "17c65312",
   "metadata": {},
   "outputs": [
    {
     "name": "stdout",
     "output_type": "stream",
     "text": [
      "{40, 50}\n",
      "{80, 50, 70, 40, 60}\n"
     ]
    }
   ],
   "source": [
    "#intersection_update\n",
    "s1.intersection_update(s2)\n",
    "print(s1)\n",
    "print(s2)"
   ]
  },
  {
   "cell_type": "code",
   "execution_count": 59,
   "id": "586605a5",
   "metadata": {},
   "outputs": [
    {
     "name": "stdout",
     "output_type": "stream",
     "text": [
      "{40, 50}\n"
     ]
    }
   ],
   "source": [
    "s1 = {10,20,30,40,50}\n",
    "s2 = {40,50,60,70,80}\n",
    "s2.intersection_update(s1)\n",
    "print(s2)"
   ]
  },
  {
   "cell_type": "code",
   "execution_count": 60,
   "id": "02eb1467",
   "metadata": {},
   "outputs": [],
   "source": [
    "#isdisjoint\n",
    "s1 = {10,20,30,40,50}\n",
    "s2 = {40,50,60,70,80}"
   ]
  },
  {
   "cell_type": "code",
   "execution_count": 61,
   "id": "0a103c93",
   "metadata": {},
   "outputs": [
    {
     "data": {
      "text/plain": [
       "False"
      ]
     },
     "execution_count": 61,
     "metadata": {},
     "output_type": "execute_result"
    }
   ],
   "source": [
    "s1.isdisjoint(s2)"
   ]
  },
  {
   "cell_type": "code",
   "execution_count": 62,
   "id": "1aec70b2",
   "metadata": {},
   "outputs": [],
   "source": [
    "s1 = {10,20,30}\n",
    "s2 = {60,70,80}"
   ]
  },
  {
   "cell_type": "code",
   "execution_count": 63,
   "id": "c8c765ba",
   "metadata": {},
   "outputs": [
    {
     "data": {
      "text/plain": [
       "True"
      ]
     },
     "execution_count": 63,
     "metadata": {},
     "output_type": "execute_result"
    }
   ],
   "source": [
    "s1.isdisjoint(s2)"
   ]
  },
  {
   "cell_type": "code",
   "execution_count": 64,
   "id": "9126dadf",
   "metadata": {},
   "outputs": [],
   "source": [
    "#subset\n",
    "s1 = {1,2,3,4,5,6}\n",
    "s2 = {2,3,4,}"
   ]
  },
  {
   "cell_type": "code",
   "execution_count": 65,
   "id": "c8f68949",
   "metadata": {},
   "outputs": [
    {
     "data": {
      "text/plain": [
       "True"
      ]
     },
     "execution_count": 65,
     "metadata": {},
     "output_type": "execute_result"
    }
   ],
   "source": [
    "s2.issubset(s1)"
   ]
  },
  {
   "cell_type": "code",
   "execution_count": 66,
   "id": "fb4dcc84",
   "metadata": {},
   "outputs": [
    {
     "data": {
      "text/plain": [
       "False"
      ]
     },
     "execution_count": 66,
     "metadata": {},
     "output_type": "execute_result"
    }
   ],
   "source": [
    "s1.issubset(s2)"
   ]
  },
  {
   "cell_type": "code",
   "execution_count": 67,
   "id": "f0f12c6e",
   "metadata": {},
   "outputs": [
    {
     "data": {
      "text/plain": [
       "True"
      ]
     },
     "execution_count": 67,
     "metadata": {},
     "output_type": "execute_result"
    }
   ],
   "source": [
    "#superset\n",
    "s1.issuperset(s2)"
   ]
  },
  {
   "cell_type": "code",
   "execution_count": 68,
   "id": "36c42a64",
   "metadata": {},
   "outputs": [
    {
     "data": {
      "text/plain": [
       "False"
      ]
     },
     "execution_count": 68,
     "metadata": {},
     "output_type": "execute_result"
    }
   ],
   "source": [
    "s2.issuperset(s1)"
   ]
  },
  {
   "cell_type": "code",
   "execution_count": 69,
   "id": "65e8ca25",
   "metadata": {},
   "outputs": [
    {
     "data": {
      "text/plain": [
       "{1, 2, 3, 4, 5, 6}"
      ]
     },
     "execution_count": 69,
     "metadata": {},
     "output_type": "execute_result"
    }
   ],
   "source": [
    "#pop\n",
    "s1={1,2,3,4,5,6}\n",
    "s1"
   ]
  },
  {
   "cell_type": "code",
   "execution_count": 70,
   "id": "acd72a52",
   "metadata": {},
   "outputs": [
    {
     "data": {
      "text/plain": [
       "{2, 3, 4, 5, 6}"
      ]
     },
     "execution_count": 70,
     "metadata": {},
     "output_type": "execute_result"
    }
   ],
   "source": [
    "s1.pop()\n",
    "s1"
   ]
  },
  {
   "cell_type": "code",
   "execution_count": 71,
   "id": "8c49e6dc",
   "metadata": {},
   "outputs": [
    {
     "data": {
      "text/plain": [
       "{'flask', 'django', 'python'}"
      ]
     },
     "execution_count": 71,
     "metadata": {},
     "output_type": "execute_result"
    }
   ],
   "source": [
    "s1 = {'python','django','flask'}\n",
    "s1"
   ]
  },
  {
   "cell_type": "code",
   "execution_count": 72,
   "id": "d7496e06",
   "metadata": {},
   "outputs": [
    {
     "data": {
      "text/plain": [
       "{'django', 'python'}"
      ]
     },
     "execution_count": 72,
     "metadata": {},
     "output_type": "execute_result"
    }
   ],
   "source": [
    "s1.pop()\n",
    "s1"
   ]
  },
  {
   "cell_type": "code",
   "execution_count": 73,
   "id": "e152b0b8",
   "metadata": {},
   "outputs": [
    {
     "data": {
      "text/plain": [
       "{'flask', 'django', 'python'}"
      ]
     },
     "execution_count": 73,
     "metadata": {},
     "output_type": "execute_result"
    }
   ],
   "source": [
    "#remove\n",
    "s1 = {'python','django','flask'}\n",
    "s1"
   ]
  },
  {
   "cell_type": "code",
   "execution_count": 74,
   "id": "32e7b81c",
   "metadata": {},
   "outputs": [],
   "source": [
    "s1.remove('django')"
   ]
  },
  {
   "cell_type": "code",
   "execution_count": 75,
   "id": "8c908e5a",
   "metadata": {},
   "outputs": [
    {
     "data": {
      "text/plain": [
       "{'flask', 'python'}"
      ]
     },
     "execution_count": 75,
     "metadata": {},
     "output_type": "execute_result"
    }
   ],
   "source": [
    "s1"
   ]
  },
  {
   "cell_type": "code",
   "execution_count": 76,
   "id": "adebb17a",
   "metadata": {},
   "outputs": [
    {
     "data": {
      "text/plain": [
       "{80, 20, 70, 10, 60, 30}"
      ]
     },
     "execution_count": 76,
     "metadata": {},
     "output_type": "execute_result"
    }
   ],
   "source": [
    "#symmetric_difference\n",
    "s1 = {10,20,30,40,50}\n",
    "s2 = {40,50,60,70,80}\n",
    "s1.symmetric_difference(s2)"
   ]
  },
  {
   "cell_type": "code",
   "execution_count": 77,
   "id": "80511d04",
   "metadata": {},
   "outputs": [
    {
     "data": {
      "text/plain": [
       "{80, 20, 70, 10, 60, 30}"
      ]
     },
     "execution_count": 77,
     "metadata": {},
     "output_type": "execute_result"
    }
   ],
   "source": [
    "#symmetric_difference_update\n",
    "s1 = {10,20,30,40,50}\n",
    "s2 = {40,50,60,70,80}\n",
    "s1.symmetric_difference_update(s2)\n",
    "s1"
   ]
  },
  {
   "cell_type": "code",
   "execution_count": 78,
   "id": "7c875f01",
   "metadata": {},
   "outputs": [
    {
     "data": {
      "text/plain": [
       "{70, 40, 10, 80, 50, 20, 60, 30}"
      ]
     },
     "execution_count": 78,
     "metadata": {},
     "output_type": "execute_result"
    }
   ],
   "source": [
    "#union\n",
    "s1 = {10,20,30,40,50}\n",
    "s2 = {40,50,60,70,80}\n",
    "s1.union(s2)"
   ]
  },
  {
   "cell_type": "code",
   "execution_count": 79,
   "id": "d779e02b",
   "metadata": {},
   "outputs": [
    {
     "data": {
      "text/plain": [
       "{70, 40, 10, 80, 50, 20, 60, 30}"
      ]
     },
     "execution_count": 79,
     "metadata": {},
     "output_type": "execute_result"
    }
   ],
   "source": [
    "#update\n",
    "s1 = {10,20,30,40,50}\n",
    "s2 = {40,50,60,70,80}\n",
    "s1.update(s2)\n",
    "s1"
   ]
  },
  {
   "cell_type": "code",
   "execution_count": null,
   "id": "1e56c830",
   "metadata": {},
   "outputs": [],
   "source": []
  }
 ],
 "metadata": {
  "kernelspec": {
   "display_name": "Python 3 (ipykernel)",
   "language": "python",
   "name": "python3"
  },
  "language_info": {
   "codemirror_mode": {
    "name": "ipython",
    "version": 3
   },
   "file_extension": ".py",
   "mimetype": "text/x-python",
   "name": "python",
   "nbconvert_exporter": "python",
   "pygments_lexer": "ipython3",
   "version": "3.9.7"
  }
 },
 "nbformat": 4,
 "nbformat_minor": 5
}
