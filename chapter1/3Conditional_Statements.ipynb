{
 "cells": [
  {
   "cell_type": "raw",
   "id": "6b61a603",
   "metadata": {},
   "source": [
    "#Conditional statement in python\n",
    "if\n",
    "if....else....\n",
    "if....elif....elif....else....  ==> ladder if\n",
    "if...if...if...  ==> nested if"
   ]
  },
  {
   "cell_type": "raw",
   "id": "80d1f3ac",
   "metadata": {},
   "source": [
    "if <condition/statement/expression/object> :\n",
    "    True part of the code\n",
    "else:\n",
    "    False Part of the code"
   ]
  },
  {
   "cell_type": "raw",
   "id": "e10dbcb6",
   "metadata": {},
   "source": [
    "Boolean = True or False\n",
    "if <Boolean>:\n",
    "    true part\n",
    "else:\n",
    "    False Part"
   ]
  },
  {
   "cell_type": "code",
   "execution_count": 1,
   "id": "b653905c",
   "metadata": {},
   "outputs": [
    {
     "name": "stdout",
     "output_type": "stream",
     "text": [
      "True\n"
     ]
    }
   ],
   "source": [
    "print(True)"
   ]
  },
  {
   "cell_type": "code",
   "execution_count": 2,
   "id": "6a5a2976",
   "metadata": {},
   "outputs": [
    {
     "name": "stdout",
     "output_type": "stream",
     "text": [
      "False\n"
     ]
    }
   ],
   "source": [
    "print(False)"
   ]
  },
  {
   "cell_type": "code",
   "execution_count": 3,
   "id": "9ddaa246",
   "metadata": {},
   "outputs": [
    {
     "data": {
      "text/plain": [
       "bool"
      ]
     },
     "execution_count": 3,
     "metadata": {},
     "output_type": "execute_result"
    }
   ],
   "source": [
    "type(True)"
   ]
  },
  {
   "cell_type": "code",
   "execution_count": 4,
   "id": "1fbd7eb9",
   "metadata": {},
   "outputs": [
    {
     "data": {
      "text/plain": [
       "bool"
      ]
     },
     "execution_count": 4,
     "metadata": {},
     "output_type": "execute_result"
    }
   ],
   "source": [
    "type(False)"
   ]
  },
  {
   "cell_type": "code",
   "execution_count": 5,
   "id": "8de50a5a",
   "metadata": {},
   "outputs": [
    {
     "data": {
      "text/plain": [
       "False"
      ]
     },
     "execution_count": 5,
     "metadata": {},
     "output_type": "execute_result"
    }
   ],
   "source": [
    "10<2"
   ]
  },
  {
   "cell_type": "code",
   "execution_count": 6,
   "id": "8cecd6ee",
   "metadata": {},
   "outputs": [
    {
     "data": {
      "text/plain": [
       "True"
      ]
     },
     "execution_count": 6,
     "metadata": {},
     "output_type": "execute_result"
    }
   ],
   "source": [
    "10>2"
   ]
  },
  {
   "cell_type": "code",
   "execution_count": 7,
   "id": "1b799e66",
   "metadata": {},
   "outputs": [
    {
     "data": {
      "text/plain": [
       "False"
      ]
     },
     "execution_count": 7,
     "metadata": {},
     "output_type": "execute_result"
    }
   ],
   "source": [
    "5==6"
   ]
  },
  {
   "cell_type": "code",
   "execution_count": 8,
   "id": "802a823d",
   "metadata": {},
   "outputs": [
    {
     "data": {
      "text/plain": [
       "True"
      ]
     },
     "execution_count": 8,
     "metadata": {},
     "output_type": "execute_result"
    }
   ],
   "source": [
    "5==5"
   ]
  },
  {
   "cell_type": "code",
   "execution_count": 9,
   "id": "78cf04d6",
   "metadata": {},
   "outputs": [
    {
     "data": {
      "text/plain": [
       "False"
      ]
     },
     "execution_count": 9,
     "metadata": {},
     "output_type": "execute_result"
    }
   ],
   "source": [
    "5=='5'"
   ]
  },
  {
   "cell_type": "code",
   "execution_count": 10,
   "id": "33840916",
   "metadata": {},
   "outputs": [
    {
     "data": {
      "text/plain": [
       "True"
      ]
     },
     "execution_count": 10,
     "metadata": {},
     "output_type": "execute_result"
    }
   ],
   "source": [
    "5==5.0"
   ]
  },
  {
   "cell_type": "code",
   "execution_count": 11,
   "id": "3e57602d",
   "metadata": {},
   "outputs": [
    {
     "name": "stderr",
     "output_type": "stream",
     "text": [
      "<>:1: SyntaxWarning: \"is\" with a literal. Did you mean \"==\"?\n",
      "<>:1: SyntaxWarning: \"is\" with a literal. Did you mean \"==\"?\n",
      "C:\\Users\\User\\AppData\\Local\\Temp/ipykernel_22732/1873575598.py:1: SyntaxWarning: \"is\" with a literal. Did you mean \"==\"?\n",
      "  5 is 5.0\n"
     ]
    },
    {
     "data": {
      "text/plain": [
       "False"
      ]
     },
     "execution_count": 11,
     "metadata": {},
     "output_type": "execute_result"
    }
   ],
   "source": [
    "5 is 5.0"
   ]
  },
  {
   "cell_type": "code",
   "execution_count": 12,
   "id": "b8834e7e",
   "metadata": {},
   "outputs": [
    {
     "data": {
      "text/plain": [
       "int"
      ]
     },
     "execution_count": 12,
     "metadata": {},
     "output_type": "execute_result"
    }
   ],
   "source": [
    "type(5)"
   ]
  },
  {
   "cell_type": "code",
   "execution_count": 13,
   "id": "41bcbd4f",
   "metadata": {},
   "outputs": [
    {
     "data": {
      "text/plain": [
       "float"
      ]
     },
     "execution_count": 13,
     "metadata": {},
     "output_type": "execute_result"
    }
   ],
   "source": [
    "type(5.0)"
   ]
  },
  {
   "cell_type": "code",
   "execution_count": 14,
   "id": "30047527",
   "metadata": {},
   "outputs": [
    {
     "data": {
      "text/plain": [
       "True"
      ]
     },
     "execution_count": 14,
     "metadata": {},
     "output_type": "execute_result"
    }
   ],
   "source": [
    "\"e\" in \"welcome\""
   ]
  },
  {
   "cell_type": "code",
   "execution_count": 15,
   "id": "a799b837",
   "metadata": {},
   "outputs": [
    {
     "data": {
      "text/plain": [
       "False"
      ]
     },
     "execution_count": 15,
     "metadata": {},
     "output_type": "execute_result"
    }
   ],
   "source": [
    "\"z\" in \"welcome\""
   ]
  },
  {
   "cell_type": "code",
   "execution_count": 16,
   "id": "7b223015",
   "metadata": {},
   "outputs": [
    {
     "data": {
      "text/plain": [
       "1"
      ]
     },
     "execution_count": 16,
     "metadata": {},
     "output_type": "execute_result"
    }
   ],
   "source": [
    "1"
   ]
  },
  {
   "cell_type": "code",
   "execution_count": 17,
   "id": "c28df885",
   "metadata": {},
   "outputs": [
    {
     "data": {
      "text/plain": [
       "'hi'"
      ]
     },
     "execution_count": 17,
     "metadata": {},
     "output_type": "execute_result"
    }
   ],
   "source": [
    "'hi'"
   ]
  },
  {
   "cell_type": "code",
   "execution_count": 18,
   "id": "53ac3be6",
   "metadata": {},
   "outputs": [
    {
     "data": {
      "text/plain": [
       "True"
      ]
     },
     "execution_count": 18,
     "metadata": {},
     "output_type": "execute_result"
    }
   ],
   "source": [
    "bool(1)"
   ]
  },
  {
   "cell_type": "code",
   "execution_count": 19,
   "id": "00dc774d",
   "metadata": {},
   "outputs": [
    {
     "data": {
      "text/plain": [
       "False"
      ]
     },
     "execution_count": 19,
     "metadata": {},
     "output_type": "execute_result"
    }
   ],
   "source": [
    "bool(0)"
   ]
  },
  {
   "cell_type": "code",
   "execution_count": 20,
   "id": "da16c227",
   "metadata": {},
   "outputs": [
    {
     "data": {
      "text/plain": [
       "True"
      ]
     },
     "execution_count": 20,
     "metadata": {},
     "output_type": "execute_result"
    }
   ],
   "source": [
    "bool(2)"
   ]
  },
  {
   "cell_type": "code",
   "execution_count": 23,
   "id": "cf866925",
   "metadata": {},
   "outputs": [
    {
     "data": {
      "text/plain": [
       "True"
      ]
     },
     "execution_count": 23,
     "metadata": {},
     "output_type": "execute_result"
    }
   ],
   "source": [
    "bool(5746575)"
   ]
  },
  {
   "cell_type": "code",
   "execution_count": 24,
   "id": "84fed82b",
   "metadata": {},
   "outputs": [
    {
     "data": {
      "text/plain": [
       "True"
      ]
     },
     "execution_count": 24,
     "metadata": {},
     "output_type": "execute_result"
    }
   ],
   "source": [
    "bool(-45353)"
   ]
  },
  {
   "cell_type": "code",
   "execution_count": 25,
   "id": "257cca1a",
   "metadata": {},
   "outputs": [
    {
     "data": {
      "text/plain": [
       "True"
      ]
     },
     "execution_count": 25,
     "metadata": {},
     "output_type": "execute_result"
    }
   ],
   "source": [
    "True==bool(1)"
   ]
  },
  {
   "cell_type": "code",
   "execution_count": 26,
   "id": "c552e1a3",
   "metadata": {},
   "outputs": [
    {
     "data": {
      "text/plain": [
       "True"
      ]
     },
     "execution_count": 26,
     "metadata": {},
     "output_type": "execute_result"
    }
   ],
   "source": [
    "True==1"
   ]
  },
  {
   "cell_type": "code",
   "execution_count": 27,
   "id": "f50c565d",
   "metadata": {},
   "outputs": [
    {
     "data": {
      "text/plain": [
       "True"
      ]
     },
     "execution_count": 27,
     "metadata": {},
     "output_type": "execute_result"
    }
   ],
   "source": [
    "False==0"
   ]
  },
  {
   "cell_type": "code",
   "execution_count": 28,
   "id": "808ac111",
   "metadata": {},
   "outputs": [
    {
     "data": {
      "text/plain": [
       "False"
      ]
     },
     "execution_count": 28,
     "metadata": {},
     "output_type": "execute_result"
    }
   ],
   "source": [
    "True==2"
   ]
  },
  {
   "cell_type": "code",
   "execution_count": 29,
   "id": "2c34a875",
   "metadata": {},
   "outputs": [
    {
     "data": {
      "text/plain": [
       "1"
      ]
     },
     "execution_count": 29,
     "metadata": {},
     "output_type": "execute_result"
    }
   ],
   "source": [
    "int(True)"
   ]
  },
  {
   "cell_type": "code",
   "execution_count": 30,
   "id": "24346634",
   "metadata": {},
   "outputs": [
    {
     "data": {
      "text/plain": [
       "0"
      ]
     },
     "execution_count": 30,
     "metadata": {},
     "output_type": "execute_result"
    }
   ],
   "source": [
    "int(False)"
   ]
  },
  {
   "cell_type": "code",
   "execution_count": 31,
   "id": "45de7094",
   "metadata": {},
   "outputs": [
    {
     "data": {
      "text/plain": [
       "True"
      ]
     },
     "execution_count": 31,
     "metadata": {},
     "output_type": "execute_result"
    }
   ],
   "source": [
    "# 1==1\n",
    "True==bool(2)"
   ]
  },
  {
   "cell_type": "code",
   "execution_count": 34,
   "id": "7d4fc07f",
   "metadata": {},
   "outputs": [
    {
     "data": {
      "text/plain": [
       "True"
      ]
     },
     "execution_count": 34,
     "metadata": {},
     "output_type": "execute_result"
    }
   ],
   "source": [
    "True==bool(-7676666)"
   ]
  },
  {
   "cell_type": "code",
   "execution_count": 33,
   "id": "4056a85b",
   "metadata": {},
   "outputs": [
    {
     "data": {
      "text/plain": [
       "True"
      ]
     },
     "execution_count": 33,
     "metadata": {},
     "output_type": "execute_result"
    }
   ],
   "source": [
    "bool(-56)"
   ]
  },
  {
   "cell_type": "raw",
   "id": "b10e1a41",
   "metadata": {},
   "source": [
    "if True:\n",
    "    True part code\n",
    "else:\n",
    "    False part code"
   ]
  },
  {
   "cell_type": "code",
   "execution_count": 35,
   "id": "d079e438",
   "metadata": {},
   "outputs": [
    {
     "name": "stdout",
     "output_type": "stream",
     "text": [
      "welcome\n"
     ]
    }
   ],
   "source": [
    "if True:\n",
    "    print(\"welcome\")"
   ]
  },
  {
   "cell_type": "code",
   "execution_count": 36,
   "id": "ea9b057f",
   "metadata": {},
   "outputs": [],
   "source": [
    "if False:\n",
    "    print(\"welcome\")"
   ]
  },
  {
   "cell_type": "code",
   "execution_count": 37,
   "id": "ed079604",
   "metadata": {},
   "outputs": [
    {
     "name": "stdout",
     "output_type": "stream",
     "text": [
      "Not Welcome\n"
     ]
    }
   ],
   "source": [
    "if False:\n",
    "    print(\"welcome\")\n",
    "else:\n",
    "    print(\"Not Welcome\")"
   ]
  },
  {
   "cell_type": "code",
   "execution_count": 38,
   "id": "d41f6d2e",
   "metadata": {},
   "outputs": [
    {
     "data": {
      "text/plain": [
       "True"
      ]
     },
     "execution_count": 38,
     "metadata": {},
     "output_type": "execute_result"
    }
   ],
   "source": [
    "bool(1)"
   ]
  },
  {
   "cell_type": "code",
   "execution_count": 39,
   "id": "683c024f",
   "metadata": {},
   "outputs": [
    {
     "name": "stdout",
     "output_type": "stream",
     "text": [
      "welcome\n"
     ]
    }
   ],
   "source": [
    "if 1:\n",
    "    print(\"welcome\")\n",
    "else:\n",
    "    print(\"Not Welcome\")"
   ]
  },
  {
   "cell_type": "code",
   "execution_count": 40,
   "id": "cb526fe7",
   "metadata": {},
   "outputs": [
    {
     "name": "stdout",
     "output_type": "stream",
     "text": [
      "Not Welcome\n"
     ]
    }
   ],
   "source": [
    "if 0:\n",
    "    print(\"welcome\")\n",
    "else:\n",
    "    print(\"Not Welcome\")"
   ]
  },
  {
   "cell_type": "code",
   "execution_count": 41,
   "id": "494130cd",
   "metadata": {},
   "outputs": [
    {
     "name": "stdout",
     "output_type": "stream",
     "text": [
      "welcome\n"
     ]
    }
   ],
   "source": [
    "if 2:\n",
    "    print(\"welcome\")\n",
    "else:\n",
    "    print(\"Not Welcome\")"
   ]
  },
  {
   "cell_type": "code",
   "execution_count": 42,
   "id": "e6b3c41d",
   "metadata": {},
   "outputs": [
    {
     "ename": "NameError",
     "evalue": "name 'x' is not defined",
     "output_type": "error",
     "traceback": [
      "\u001b[1;31m---------------------------------------------------------------------------\u001b[0m",
      "\u001b[1;31mNameError\u001b[0m                                 Traceback (most recent call last)",
      "\u001b[1;32m~\\AppData\\Local\\Temp/ipykernel_22732/1856004279.py\u001b[0m in \u001b[0;36m<module>\u001b[1;34m\u001b[0m\n\u001b[1;32m----> 1\u001b[1;33m \u001b[1;32mif\u001b[0m \u001b[0mx\u001b[0m\u001b[1;33m:\u001b[0m\u001b[1;33m\u001b[0m\u001b[1;33m\u001b[0m\u001b[0m\n\u001b[0m\u001b[0;32m      2\u001b[0m     \u001b[0mprint\u001b[0m\u001b[1;33m(\u001b[0m\u001b[1;34m\"welcome\"\u001b[0m\u001b[1;33m)\u001b[0m\u001b[1;33m\u001b[0m\u001b[1;33m\u001b[0m\u001b[0m\n\u001b[0;32m      3\u001b[0m \u001b[1;32melse\u001b[0m\u001b[1;33m:\u001b[0m\u001b[1;33m\u001b[0m\u001b[1;33m\u001b[0m\u001b[0m\n\u001b[0;32m      4\u001b[0m     \u001b[0mprint\u001b[0m\u001b[1;33m(\u001b[0m\u001b[1;34m\"Not Welcome\"\u001b[0m\u001b[1;33m)\u001b[0m\u001b[1;33m\u001b[0m\u001b[1;33m\u001b[0m\u001b[0m\n",
      "\u001b[1;31mNameError\u001b[0m: name 'x' is not defined"
     ]
    }
   ],
   "source": [
    "if x:\n",
    "    print(\"welcome\")\n",
    "else:\n",
    "    print(\"Not Welcome\")"
   ]
  },
  {
   "cell_type": "code",
   "execution_count": 43,
   "id": "83b0a9ce",
   "metadata": {},
   "outputs": [
    {
     "data": {
      "text/plain": [
       "True"
      ]
     },
     "execution_count": 43,
     "metadata": {},
     "output_type": "execute_result"
    }
   ],
   "source": [
    "bool(\"a\")"
   ]
  },
  {
   "cell_type": "code",
   "execution_count": 44,
   "id": "2b7e353f",
   "metadata": {},
   "outputs": [
    {
     "data": {
      "text/plain": [
       "True"
      ]
     },
     "execution_count": 44,
     "metadata": {},
     "output_type": "execute_result"
    }
   ],
   "source": [
    "bool(\"0\")"
   ]
  },
  {
   "cell_type": "code",
   "execution_count": 45,
   "id": "a10374af",
   "metadata": {},
   "outputs": [
    {
     "data": {
      "text/plain": [
       "True"
      ]
     },
     "execution_count": 45,
     "metadata": {},
     "output_type": "execute_result"
    }
   ],
   "source": [
    "bool(\"123\")"
   ]
  },
  {
   "cell_type": "code",
   "execution_count": 46,
   "id": "571037c8",
   "metadata": {},
   "outputs": [
    {
     "data": {
      "text/plain": [
       "True"
      ]
     },
     "execution_count": 46,
     "metadata": {},
     "output_type": "execute_result"
    }
   ],
   "source": [
    "bool(\"welcome\")"
   ]
  },
  {
   "cell_type": "code",
   "execution_count": 47,
   "id": "9098b630",
   "metadata": {},
   "outputs": [
    {
     "data": {
      "text/plain": [
       "False"
      ]
     },
     "execution_count": 47,
     "metadata": {},
     "output_type": "execute_result"
    }
   ],
   "source": [
    "bool(\"\")"
   ]
  },
  {
   "cell_type": "code",
   "execution_count": 48,
   "id": "419ddc19",
   "metadata": {},
   "outputs": [
    {
     "name": "stdout",
     "output_type": "stream",
     "text": [
      "welcome\n"
     ]
    }
   ],
   "source": [
    "if \"x\":\n",
    "    print(\"welcome\")\n",
    "else:\n",
    "    print(\"Not Welcome\")"
   ]
  },
  {
   "cell_type": "code",
   "execution_count": 51,
   "id": "9e6b5692",
   "metadata": {},
   "outputs": [
    {
     "name": "stdout",
     "output_type": "stream",
     "text": [
      "Not Welcome\n"
     ]
    }
   ],
   "source": [
    "if \"\":\n",
    "    print(\"welcome\")\n",
    "else:\n",
    "    print(\"Not Welcome\")"
   ]
  },
  {
   "cell_type": "code",
   "execution_count": 52,
   "id": "d761b4f0",
   "metadata": {},
   "outputs": [],
   "source": [
    "v1 = \"python\""
   ]
  },
  {
   "cell_type": "code",
   "execution_count": 53,
   "id": "86aba895",
   "metadata": {},
   "outputs": [
    {
     "data": {
      "text/plain": [
       "True"
      ]
     },
     "execution_count": 53,
     "metadata": {},
     "output_type": "execute_result"
    }
   ],
   "source": [
    "bool(v1)"
   ]
  },
  {
   "cell_type": "code",
   "execution_count": 54,
   "id": "b0548e8b",
   "metadata": {},
   "outputs": [
    {
     "name": "stdout",
     "output_type": "stream",
     "text": [
      "welcome\n"
     ]
    }
   ],
   "source": [
    "if v1:\n",
    "    print(\"welcome\")\n",
    "else:\n",
    "    print(\"Not Welcome\")"
   ]
  },
  {
   "cell_type": "code",
   "execution_count": 55,
   "id": "85dd7610",
   "metadata": {},
   "outputs": [],
   "source": [
    "v2=\"\""
   ]
  },
  {
   "cell_type": "code",
   "execution_count": 56,
   "id": "669ac738",
   "metadata": {},
   "outputs": [
    {
     "name": "stdout",
     "output_type": "stream",
     "text": [
      "Not Welcome\n"
     ]
    }
   ],
   "source": [
    "if v2:\n",
    "    print(\"welcome\")\n",
    "else:\n",
    "    print(\"Not Welcome\")"
   ]
  },
  {
   "cell_type": "code",
   "execution_count": 57,
   "id": "21653a82",
   "metadata": {},
   "outputs": [],
   "source": [
    "v3 = None"
   ]
  },
  {
   "cell_type": "code",
   "execution_count": 58,
   "id": "ade1155b",
   "metadata": {},
   "outputs": [
    {
     "data": {
      "text/plain": [
       "False"
      ]
     },
     "execution_count": 58,
     "metadata": {},
     "output_type": "execute_result"
    }
   ],
   "source": [
    "bool(None)"
   ]
  },
  {
   "cell_type": "code",
   "execution_count": 59,
   "id": "a91cd133",
   "metadata": {},
   "outputs": [
    {
     "data": {
      "text/plain": [
       "False"
      ]
     },
     "execution_count": 59,
     "metadata": {},
     "output_type": "execute_result"
    }
   ],
   "source": [
    "bool(v3)"
   ]
  },
  {
   "cell_type": "code",
   "execution_count": 60,
   "id": "13340fab",
   "metadata": {},
   "outputs": [
    {
     "name": "stdout",
     "output_type": "stream",
     "text": [
      "Not Welcome\n"
     ]
    }
   ],
   "source": [
    "if v3:\n",
    "    print(\"welcome\")\n",
    "else:\n",
    "    print(\"Not Welcome\")"
   ]
  },
  {
   "cell_type": "code",
   "execution_count": 61,
   "id": "3e99fb54",
   "metadata": {},
   "outputs": [
    {
     "name": "stdout",
     "output_type": "stream",
     "text": [
      "Not Welcome\n"
     ]
    }
   ],
   "source": [
    "if None:\n",
    "    print(\"welcome\")\n",
    "else:\n",
    "    print(\"Not Welcome\")"
   ]
  },
  {
   "cell_type": "code",
   "execution_count": 62,
   "id": "285b2ba8",
   "metadata": {},
   "outputs": [
    {
     "data": {
      "text/plain": [
       "NoneType"
      ]
     },
     "execution_count": 62,
     "metadata": {},
     "output_type": "execute_result"
    }
   ],
   "source": [
    "type(None)"
   ]
  },
  {
   "cell_type": "code",
   "execution_count": 63,
   "id": "650da472",
   "metadata": {},
   "outputs": [
    {
     "data": {
      "text/plain": [
       "False"
      ]
     },
     "execution_count": 63,
     "metadata": {},
     "output_type": "execute_result"
    }
   ],
   "source": [
    "\"\"==None"
   ]
  },
  {
   "cell_type": "code",
   "execution_count": 64,
   "id": "481566ec",
   "metadata": {},
   "outputs": [
    {
     "data": {
      "text/plain": [
       "True"
      ]
     },
     "execution_count": 64,
     "metadata": {},
     "output_type": "execute_result"
    }
   ],
   "source": [
    "bool(\"\")==bool(None)"
   ]
  },
  {
   "cell_type": "code",
   "execution_count": 65,
   "id": "20581fd5",
   "metadata": {},
   "outputs": [
    {
     "name": "stdout",
     "output_type": "stream",
     "text": [
      "Not Welcome\n"
     ]
    }
   ],
   "source": [
    "if 10<3:\n",
    "    print(\"welcome\")\n",
    "else:\n",
    "    print(\"Not Welcome\")"
   ]
  },
  {
   "cell_type": "code",
   "execution_count": 66,
   "id": "845dac47",
   "metadata": {},
   "outputs": [
    {
     "name": "stdout",
     "output_type": "stream",
     "text": [
      "welcome\n"
     ]
    }
   ],
   "source": [
    "if 10>3:\n",
    "    print(\"welcome\")\n",
    "else:\n",
    "    print(\"Not Welcome\")"
   ]
  },
  {
   "cell_type": "code",
   "execution_count": 67,
   "id": "13415ad2",
   "metadata": {},
   "outputs": [
    {
     "data": {
      "text/plain": [
       "0"
      ]
     },
     "execution_count": 67,
     "metadata": {},
     "output_type": "execute_result"
    }
   ],
   "source": [
    "4%2"
   ]
  },
  {
   "cell_type": "code",
   "execution_count": 68,
   "id": "2f3ca2a1",
   "metadata": {},
   "outputs": [
    {
     "name": "stdout",
     "output_type": "stream",
     "text": [
      "welcome\n"
     ]
    }
   ],
   "source": [
    "if 4%2==0:\n",
    "    print(\"welcome\")\n",
    "else:\n",
    "    print(\"Not Welcome\")"
   ]
  },
  {
   "cell_type": "code",
   "execution_count": 69,
   "id": "1fbaea53",
   "metadata": {},
   "outputs": [
    {
     "name": "stdout",
     "output_type": "stream",
     "text": [
      "Not Welcome\n"
     ]
    }
   ],
   "source": [
    "if 4%2:\n",
    "    print(\"welcome\")\n",
    "else:\n",
    "    print(\"Not Welcome\")"
   ]
  },
  {
   "cell_type": "code",
   "execution_count": 79,
   "id": "4c942800",
   "metadata": {},
   "outputs": [
    {
     "name": "stdout",
     "output_type": "stream",
     "text": [
      "10\n"
     ]
    },
    {
     "data": {
      "text/plain": [
       "'10'"
      ]
     },
     "execution_count": 79,
     "metadata": {},
     "output_type": "execute_result"
    }
   ],
   "source": [
    "#input\n",
    "input()"
   ]
  },
  {
   "cell_type": "code",
   "execution_count": 72,
   "id": "c1c7c36e",
   "metadata": {},
   "outputs": [
    {
     "name": "stdout",
     "output_type": "stream",
     "text": [
      "Enter your Name = varma\n"
     ]
    },
    {
     "data": {
      "text/plain": [
       "'varma'"
      ]
     },
     "execution_count": 72,
     "metadata": {},
     "output_type": "execute_result"
    }
   ],
   "source": [
    "input(\"Enter your Name = \")"
   ]
  },
  {
   "cell_type": "code",
   "execution_count": 73,
   "id": "f6d6238b",
   "metadata": {},
   "outputs": [
    {
     "name": "stdout",
     "output_type": "stream",
     "text": [
      "Enter something = 100\n",
      "100\n"
     ]
    }
   ],
   "source": [
    "v1 = input(\"Enter something = \")\n",
    "print(v1)"
   ]
  },
  {
   "cell_type": "code",
   "execution_count": 76,
   "id": "40a63587",
   "metadata": {},
   "outputs": [
    {
     "name": "stdout",
     "output_type": "stream",
     "text": [
      "Enter something = 10.45\n"
     ]
    },
    {
     "data": {
      "text/plain": [
       "str"
      ]
     },
     "execution_count": 76,
     "metadata": {},
     "output_type": "execute_result"
    }
   ],
   "source": [
    "v1 = input(\"Enter something = \")\n",
    "type(v1)"
   ]
  },
  {
   "cell_type": "code",
   "execution_count": 77,
   "id": "6e2dc39a",
   "metadata": {},
   "outputs": [
    {
     "name": "stdout",
     "output_type": "stream",
     "text": [
      "30\n"
     ]
    }
   ],
   "source": [
    "a=10\n",
    "b=20\n",
    "print(a+b)"
   ]
  },
  {
   "cell_type": "code",
   "execution_count": 78,
   "id": "99129536",
   "metadata": {},
   "outputs": [
    {
     "name": "stdout",
     "output_type": "stream",
     "text": [
      "Enter a value for A = 10\n",
      "Enter a value for B = 20\n",
      "1020\n"
     ]
    }
   ],
   "source": [
    "a = input(\"Enter a value for A = \")\n",
    "b = input(\"Enter a value for B = \")\n",
    "print(a+b)"
   ]
  },
  {
   "cell_type": "code",
   "execution_count": 80,
   "id": "fb32cbc7",
   "metadata": {},
   "outputs": [
    {
     "name": "stdout",
     "output_type": "stream",
     "text": [
      "Enter a value for A = 10\n",
      "Enter a value for B = 20\n",
      "30\n"
     ]
    }
   ],
   "source": [
    "a = input(\"Enter a value for A = \")\n",
    "b = input(\"Enter a value for B = \")\n",
    "print(int(a)+int(b))"
   ]
  },
  {
   "cell_type": "code",
   "execution_count": 81,
   "id": "8d4f7774",
   "metadata": {},
   "outputs": [
    {
     "name": "stdout",
     "output_type": "stream",
     "text": [
      "1020\n"
     ]
    }
   ],
   "source": [
    "print(a+b)"
   ]
  },
  {
   "cell_type": "code",
   "execution_count": 82,
   "id": "33c05e1a",
   "metadata": {},
   "outputs": [
    {
     "data": {
      "text/plain": [
       "str"
      ]
     },
     "execution_count": 82,
     "metadata": {},
     "output_type": "execute_result"
    }
   ],
   "source": [
    "type(a)"
   ]
  },
  {
   "cell_type": "code",
   "execution_count": 83,
   "id": "167a72e1",
   "metadata": {},
   "outputs": [
    {
     "name": "stdout",
     "output_type": "stream",
     "text": [
      "Enter a value for A = 10\n",
      "Enter a value for B = 20\n",
      "30\n"
     ]
    }
   ],
   "source": [
    "a = int(input(\"Enter a value for A = \"))\n",
    "b = int(input(\"Enter a value for B = \"))\n",
    "print(a+b)"
   ]
  },
  {
   "cell_type": "code",
   "execution_count": 84,
   "id": "cc30a374",
   "metadata": {},
   "outputs": [
    {
     "name": "stdout",
     "output_type": "stream",
     "text": [
      "30\n"
     ]
    }
   ],
   "source": [
    "print(a+b)"
   ]
  },
  {
   "cell_type": "code",
   "execution_count": 85,
   "id": "07c58d53",
   "metadata": {},
   "outputs": [
    {
     "data": {
      "text/plain": [
       "int"
      ]
     },
     "execution_count": 85,
     "metadata": {},
     "output_type": "execute_result"
    }
   ],
   "source": [
    "type(a)"
   ]
  },
  {
   "cell_type": "code",
   "execution_count": 90,
   "id": "1702aef7",
   "metadata": {},
   "outputs": [
    {
     "data": {
      "text/plain": [
       "False"
      ]
     },
     "execution_count": 90,
     "metadata": {},
     "output_type": "execute_result"
    }
   ],
   "source": [
    "\"47\">\"5\""
   ]
  },
  {
   "cell_type": "code",
   "execution_count": 91,
   "id": "70e1f31f",
   "metadata": {},
   "outputs": [
    {
     "data": {
      "text/plain": [
       "True"
      ]
     },
     "execution_count": 91,
     "metadata": {},
     "output_type": "execute_result"
    }
   ],
   "source": [
    "47>5"
   ]
  },
  {
   "cell_type": "code",
   "execution_count": 92,
   "id": "3045e679",
   "metadata": {},
   "outputs": [
    {
     "data": {
      "text/plain": [
       "False"
      ]
     },
     "execution_count": 92,
     "metadata": {},
     "output_type": "execute_result"
    }
   ],
   "source": [
    "\"1\">\"5\""
   ]
  },
  {
   "cell_type": "code",
   "execution_count": 93,
   "id": "231811e5",
   "metadata": {},
   "outputs": [
    {
     "data": {
      "text/plain": [
       "False"
      ]
     },
     "execution_count": 93,
     "metadata": {},
     "output_type": "execute_result"
    }
   ],
   "source": [
    "\"a\">\"b\""
   ]
  },
  {
   "cell_type": "code",
   "execution_count": 94,
   "id": "31819bc3",
   "metadata": {},
   "outputs": [
    {
     "data": {
      "text/plain": [
       "97"
      ]
     },
     "execution_count": 94,
     "metadata": {},
     "output_type": "execute_result"
    }
   ],
   "source": [
    "ord(\"a\")"
   ]
  },
  {
   "cell_type": "code",
   "execution_count": 95,
   "id": "adf90e7a",
   "metadata": {},
   "outputs": [
    {
     "data": {
      "text/plain": [
       "98"
      ]
     },
     "execution_count": 95,
     "metadata": {},
     "output_type": "execute_result"
    }
   ],
   "source": [
    "ord(\"b\")"
   ]
  },
  {
   "cell_type": "code",
   "execution_count": 96,
   "id": "164ee612",
   "metadata": {},
   "outputs": [
    {
     "data": {
      "text/plain": [
       "49"
      ]
     },
     "execution_count": 96,
     "metadata": {},
     "output_type": "execute_result"
    }
   ],
   "source": [
    "ord(\"1\")"
   ]
  },
  {
   "cell_type": "code",
   "execution_count": 97,
   "id": "efc22d5f",
   "metadata": {},
   "outputs": [
    {
     "data": {
      "text/plain": [
       "48"
      ]
     },
     "execution_count": 97,
     "metadata": {},
     "output_type": "execute_result"
    }
   ],
   "source": [
    "ord(\"0\")"
   ]
  },
  {
   "cell_type": "code",
   "execution_count": 98,
   "id": "e1def82d",
   "metadata": {},
   "outputs": [
    {
     "data": {
      "text/plain": [
       "True"
      ]
     },
     "execution_count": 98,
     "metadata": {},
     "output_type": "execute_result"
    }
   ],
   "source": [
    "\"1\">\"0\""
   ]
  },
  {
   "cell_type": "code",
   "execution_count": 99,
   "id": "9eecc497",
   "metadata": {},
   "outputs": [
    {
     "ename": "TypeError",
     "evalue": "ord() expected string of length 1, but int found",
     "output_type": "error",
     "traceback": [
      "\u001b[1;31m---------------------------------------------------------------------------\u001b[0m",
      "\u001b[1;31mTypeError\u001b[0m                                 Traceback (most recent call last)",
      "\u001b[1;32m~\\AppData\\Local\\Temp/ipykernel_22732/309095708.py\u001b[0m in \u001b[0;36m<module>\u001b[1;34m\u001b[0m\n\u001b[1;32m----> 1\u001b[1;33m \u001b[0mord\u001b[0m\u001b[1;33m(\u001b[0m\u001b[1;36m0\u001b[0m\u001b[1;33m)\u001b[0m\u001b[1;33m\u001b[0m\u001b[1;33m\u001b[0m\u001b[0m\n\u001b[0m",
      "\u001b[1;31mTypeError\u001b[0m: ord() expected string of length 1, but int found"
     ]
    }
   ],
   "source": [
    "ord(0)"
   ]
  },
  {
   "cell_type": "code",
   "execution_count": 100,
   "id": "6466999a",
   "metadata": {},
   "outputs": [
    {
     "data": {
      "text/plain": [
       "49"
      ]
     },
     "execution_count": 100,
     "metadata": {},
     "output_type": "execute_result"
    }
   ],
   "source": [
    "ord('1')"
   ]
  },
  {
   "cell_type": "code",
   "execution_count": 101,
   "id": "1d7eec24",
   "metadata": {},
   "outputs": [
    {
     "data": {
      "text/plain": [
       "53"
      ]
     },
     "execution_count": 101,
     "metadata": {},
     "output_type": "execute_result"
    }
   ],
   "source": [
    "ord('5')"
   ]
  },
  {
   "cell_type": "code",
   "execution_count": 102,
   "id": "3a25655f",
   "metadata": {},
   "outputs": [
    {
     "data": {
      "text/plain": [
       "False"
      ]
     },
     "execution_count": 102,
     "metadata": {},
     "output_type": "execute_result"
    }
   ],
   "source": [
    "49>53"
   ]
  },
  {
   "cell_type": "code",
   "execution_count": 105,
   "id": "3dec93ca",
   "metadata": {},
   "outputs": [
    {
     "data": {
      "text/plain": [
       "False"
      ]
     },
     "execution_count": 105,
     "metadata": {},
     "output_type": "execute_result"
    }
   ],
   "source": [
    "\"40\">\"400\""
   ]
  },
  {
   "cell_type": "code",
   "execution_count": 106,
   "id": "65466ee3",
   "metadata": {},
   "outputs": [
    {
     "name": "stdout",
     "output_type": "stream",
     "text": [
      "Enter a value for A = 10\n",
      "Enter a value for B = 5\n",
      "B is greater value\n"
     ]
    }
   ],
   "source": [
    "a = input(\"Enter a value for A = \") #10\n",
    "b = input(\"Enter a value for B = \") #05\n",
    "if a>b:\n",
    "    print(\"A is greater value\")\n",
    "else:\n",
    "    print(\"B is greater value\")"
   ]
  },
  {
   "cell_type": "code",
   "execution_count": 112,
   "id": "98f8cabd",
   "metadata": {},
   "outputs": [
    {
     "name": "stdout",
     "output_type": "stream",
     "text": [
      "Enter a value for A = 5\n",
      "Enter a value for B = 5\n",
      "B is greater value\n"
     ]
    }
   ],
   "source": [
    "a = int(input(\"Enter a value for A = \"))\n",
    "b = int(input(\"Enter a value for B = \"))\n",
    "if a>b:\n",
    "    print(\"A is greater value\")\n",
    "else:\n",
    "    print(\"B is greater value\")"
   ]
  },
  {
   "cell_type": "code",
   "execution_count": 113,
   "id": "25651718",
   "metadata": {},
   "outputs": [
    {
     "name": "stdout",
     "output_type": "stream",
     "text": [
      "Enter a value for A = 10.45\n"
     ]
    },
    {
     "ename": "ValueError",
     "evalue": "invalid literal for int() with base 10: '10.45'",
     "output_type": "error",
     "traceback": [
      "\u001b[1;31m---------------------------------------------------------------------------\u001b[0m",
      "\u001b[1;31mValueError\u001b[0m                                Traceback (most recent call last)",
      "\u001b[1;32m~\\AppData\\Local\\Temp/ipykernel_22732/2077761771.py\u001b[0m in \u001b[0;36m<module>\u001b[1;34m\u001b[0m\n\u001b[1;32m----> 1\u001b[1;33m \u001b[0ma\u001b[0m \u001b[1;33m=\u001b[0m \u001b[0mint\u001b[0m\u001b[1;33m(\u001b[0m\u001b[0minput\u001b[0m\u001b[1;33m(\u001b[0m\u001b[1;34m\"Enter a value for A = \"\u001b[0m\u001b[1;33m)\u001b[0m\u001b[1;33m)\u001b[0m\u001b[1;33m\u001b[0m\u001b[1;33m\u001b[0m\u001b[0m\n\u001b[0m\u001b[0;32m      2\u001b[0m \u001b[0mb\u001b[0m \u001b[1;33m=\u001b[0m \u001b[0mint\u001b[0m\u001b[1;33m(\u001b[0m\u001b[0minput\u001b[0m\u001b[1;33m(\u001b[0m\u001b[1;34m\"Enter a value for B = \"\u001b[0m\u001b[1;33m)\u001b[0m\u001b[1;33m)\u001b[0m\u001b[1;33m\u001b[0m\u001b[1;33m\u001b[0m\u001b[0m\n\u001b[0;32m      3\u001b[0m \u001b[1;32mif\u001b[0m \u001b[0ma\u001b[0m\u001b[1;33m>\u001b[0m\u001b[0mb\u001b[0m\u001b[1;33m:\u001b[0m\u001b[1;33m\u001b[0m\u001b[1;33m\u001b[0m\u001b[0m\n\u001b[0;32m      4\u001b[0m     \u001b[0mprint\u001b[0m\u001b[1;33m(\u001b[0m\u001b[1;34m\"A is greater value\"\u001b[0m\u001b[1;33m)\u001b[0m\u001b[1;33m\u001b[0m\u001b[1;33m\u001b[0m\u001b[0m\n\u001b[0;32m      5\u001b[0m \u001b[1;32melse\u001b[0m\u001b[1;33m:\u001b[0m\u001b[1;33m\u001b[0m\u001b[1;33m\u001b[0m\u001b[0m\n",
      "\u001b[1;31mValueError\u001b[0m: invalid literal for int() with base 10: '10.45'"
     ]
    }
   ],
   "source": [
    "a = int(input(\"Enter a value for A = \"))\n",
    "b = int(input(\"Enter a value for B = \"))\n",
    "if a>b:\n",
    "    print(\"A is greater value\")\n",
    "else:\n",
    "    if b>a:\n",
    "        print(\"B is greater value\")\n",
    "    else:\n",
    "        print(\"Both are equal\")"
   ]
  },
  {
   "cell_type": "code",
   "execution_count": 114,
   "id": "5460d0e7",
   "metadata": {},
   "outputs": [
    {
     "data": {
      "text/plain": [
       "4"
      ]
     },
     "execution_count": 114,
     "metadata": {},
     "output_type": "execute_result"
    }
   ],
   "source": [
    "int(4.45)"
   ]
  },
  {
   "cell_type": "code",
   "execution_count": 115,
   "id": "1dbbb0c2",
   "metadata": {},
   "outputs": [
    {
     "name": "stdout",
     "output_type": "stream",
     "text": [
      "10.45\n"
     ]
    },
    {
     "ename": "ValueError",
     "evalue": "invalid literal for int() with base 10: '10.45'",
     "output_type": "error",
     "traceback": [
      "\u001b[1;31m---------------------------------------------------------------------------\u001b[0m",
      "\u001b[1;31mValueError\u001b[0m                                Traceback (most recent call last)",
      "\u001b[1;32m~\\AppData\\Local\\Temp/ipykernel_22732/4025546921.py\u001b[0m in \u001b[0;36m<module>\u001b[1;34m\u001b[0m\n\u001b[1;32m----> 1\u001b[1;33m \u001b[0mint\u001b[0m\u001b[1;33m(\u001b[0m\u001b[0minput\u001b[0m\u001b[1;33m(\u001b[0m\u001b[1;33m)\u001b[0m\u001b[1;33m)\u001b[0m\u001b[1;33m\u001b[0m\u001b[1;33m\u001b[0m\u001b[0m\n\u001b[0m",
      "\u001b[1;31mValueError\u001b[0m: invalid literal for int() with base 10: '10.45'"
     ]
    }
   ],
   "source": [
    "int(input())"
   ]
  },
  {
   "cell_type": "code",
   "execution_count": 116,
   "id": "9ce1a64a",
   "metadata": {},
   "outputs": [
    {
     "name": "stdout",
     "output_type": "stream",
     "text": [
      "10.45\n"
     ]
    },
    {
     "data": {
      "text/plain": [
       "10.45"
      ]
     },
     "execution_count": 116,
     "metadata": {},
     "output_type": "execute_result"
    }
   ],
   "source": [
    "float(input())"
   ]
  },
  {
   "cell_type": "code",
   "execution_count": 119,
   "id": "1a65d452",
   "metadata": {},
   "outputs": [
    {
     "name": "stdout",
     "output_type": "stream",
     "text": [
      "Enter a value for A = 10\n",
      "Enter a value for B = 10\n",
      "Both are equal\n"
     ]
    }
   ],
   "source": [
    "a = float(input(\"Enter a value for A = \"))\n",
    "b = float(input(\"Enter a value for B = \"))\n",
    "if a>b:\n",
    "    print(\"A is greater value\")\n",
    "elif b>a:\n",
    "    print(\"B is greater value\")\n",
    "else:\n",
    "    print(\"Both are equal\")"
   ]
  },
  {
   "cell_type": "code",
   "execution_count": 120,
   "id": "a5252c69",
   "metadata": {},
   "outputs": [
    {
     "data": {
      "text/plain": [
       "True"
      ]
     },
     "execution_count": 120,
     "metadata": {},
     "output_type": "execute_result"
    }
   ],
   "source": [
    "True or False"
   ]
  },
  {
   "cell_type": "code",
   "execution_count": 121,
   "id": "a534b790",
   "metadata": {},
   "outputs": [
    {
     "data": {
      "text/plain": [
       "True"
      ]
     },
     "execution_count": 121,
     "metadata": {},
     "output_type": "execute_result"
    }
   ],
   "source": [
    "True or False or False"
   ]
  },
  {
   "cell_type": "code",
   "execution_count": 122,
   "id": "f4d6c7b9",
   "metadata": {},
   "outputs": [
    {
     "data": {
      "text/plain": [
       "False"
      ]
     },
     "execution_count": 122,
     "metadata": {},
     "output_type": "execute_result"
    }
   ],
   "source": [
    "True and False and True"
   ]
  },
  {
   "cell_type": "code",
   "execution_count": 124,
   "id": "0fb30b0a",
   "metadata": {},
   "outputs": [
    {
     "name": "stdout",
     "output_type": "stream",
     "text": [
      "Enter Subject1 Name = pub admin\n",
      "Enter subject2 Name = history\n",
      "Enter subject3 Name = maths\n",
      "Science student\n"
     ]
    }
   ],
   "source": [
    "s1 = input(\"Enter Subject1 Name = \")\n",
    "s2 = input(\"Enter subject2 Name = \")\n",
    "s3 = input(\"Enter subject3 Name = \")\n",
    "if s1=='maths' or s1==\"physics\" or s1==\"chemistry\":\n",
    "    print(\"Science Student\")\n",
    "elif s2=='maths' or s2==\"physics\" or s2==\"chemistry\":\n",
    "    print(\"Science student\")\n",
    "elif s3=='maths' or s3==\"physics\" or s3==\"chemistry\":\n",
    "    print(\"Science student\")\n",
    "else:\n",
    "    print(\"Not a science student\")"
   ]
  },
  {
   "cell_type": "code",
   "execution_count": null,
   "id": "2dba5af2",
   "metadata": {},
   "outputs": [],
   "source": [
    "s1 = input(\"Enter Subject1 Name = \")\n",
    "s2 = input(\"Enter subject2 Name = \")\n",
    "s3 = input(\"Enter subject3 Name = \")\n",
    "if s1 in ('maths',\"physics\",\"chemistry\"):\n",
    "    print(\"Science Student\")\n",
    "elif s2 in ('maths',\"physics\",\"chemistry\"):\n",
    "    print(\"Science student\")\n",
    "elif s3 in ('maths',\"physics\",\"chemistry\"):\n",
    "    print(\"Science student\")\n",
    "else:\n",
    "    print(\"Arts student\")"
   ]
  },
  {
   "cell_type": "code",
   "execution_count": 125,
   "id": "a88dac5c",
   "metadata": {},
   "outputs": [
    {
     "data": {
      "text/plain": [
       "False"
      ]
     },
     "execution_count": 125,
     "metadata": {},
     "output_type": "execute_result"
    }
   ],
   "source": [
    "True and False and True"
   ]
  },
  {
   "cell_type": "code",
   "execution_count": 126,
   "id": "0c07e159",
   "metadata": {},
   "outputs": [
    {
     "data": {
      "text/plain": [
       "False"
      ]
     },
     "execution_count": 126,
     "metadata": {},
     "output_type": "execute_result"
    }
   ],
   "source": [
    "True and True and True and True and False and True"
   ]
  },
  {
   "cell_type": "code",
   "execution_count": 127,
   "id": "2ddc6a61",
   "metadata": {},
   "outputs": [
    {
     "data": {
      "text/plain": [
       "True"
      ]
     },
     "execution_count": 127,
     "metadata": {},
     "output_type": "execute_result"
    }
   ],
   "source": [
    "True and True and True and True and True and True"
   ]
  },
  {
   "cell_type": "code",
   "execution_count": 130,
   "id": "41fa29c2",
   "metadata": {},
   "outputs": [
    {
     "name": "stdout",
     "output_type": "stream",
     "text": [
      "Enter Maths Marks = 125\n",
      "Enter physics Marks = 55\n",
      "Enter chemistry Marks = 66\n",
      "Enter english Marks = 77\n",
      "PASS\n"
     ]
    }
   ],
   "source": [
    "maths = int(input(\"Enter Maths Marks = \"))\n",
    "physics = int(input(\"Enter physics Marks = \"))\n",
    "chemistry = int(input(\"Enter chemistry Marks = \"))\n",
    "english = int(input(\"Enter english Marks = \"))\n",
    "if maths>=40 and physics>=40 and chemistry>=40 and english>=40:\n",
    "    print(\"PASS\")\n",
    "else:\n",
    "    print(\"FAIL\")"
   ]
  },
  {
   "cell_type": "code",
   "execution_count": null,
   "id": "815f74f2",
   "metadata": {},
   "outputs": [],
   "source": [
    "maths = int(input(\"Enter Maths Marks = \"))\n",
    "physics = int(input(\"Enter physics Marks = \"))\n",
    "chemistry = int(input(\"Enter chemistry Marks = \"))\n",
    "english = int(input(\"Enter english Marks = \"))\n",
    "if maths>=40 and physics>=40 and chemistry>=40 and english>=40:print(\"PASS\")\n",
    "else:\n",
    "    print(\"FAIL\")"
   ]
  },
  {
   "cell_type": "code",
   "execution_count": 131,
   "id": "48e6b11f",
   "metadata": {},
   "outputs": [
    {
     "name": "stdout",
     "output_type": "stream",
     "text": [
      "Enter Maths Marks = 125\n",
      "Enter physics Marks = 56\n",
      "Enter chemistry Marks = 87\n",
      "Enter english Marks = 99\n",
      "Your Marks should be less than or equal to 100\n"
     ]
    }
   ],
   "source": [
    "maths = int(input(\"Enter Maths Marks = \"))\n",
    "physics = int(input(\"Enter physics Marks = \"))\n",
    "chemistry = int(input(\"Enter chemistry Marks = \"))\n",
    "english = int(input(\"Enter english Marks = \"))\n",
    "max_marks = 100\n",
    "min_marks = 40\n",
    "if maths<=max_marks and physics<=max_marks and chemistry<=max_marks and english<=max_marks:\n",
    "    if maths>=min_marks and physics>=min_marks and chemistry>=min_marks and english>=min_marks:\n",
    "        print(\"PASS\")\n",
    "    else:\n",
    "        print(\"FAIL\")\n",
    "else:\n",
    "    print(\"Your Marks should be less than or equal to 100\")"
   ]
  },
  {
   "cell_type": "code",
   "execution_count": 134,
   "id": "a3e73884",
   "metadata": {},
   "outputs": [
    {
     "name": "stdout",
     "output_type": "stream",
     "text": [
      "Enter Maths Marks = 54\n",
      "Enter physics Marks = 56\n",
      "Enter chemistry Marks = 44\n",
      "Enter english Marks = 33\n",
      "Failed in English\n"
     ]
    }
   ],
   "source": [
    "maths = int(input(\"Enter Maths Marks = \"))\n",
    "physics = int(input(\"Enter physics Marks = \"))\n",
    "chemistry = int(input(\"Enter chemistry Marks = \"))\n",
    "english = int(input(\"Enter english Marks = \"))\n",
    "max_marks = 100\n",
    "min_marks = 40\n",
    "if maths<=max_marks and physics<=max_marks and chemistry<=max_marks and english<=max_marks:\n",
    "    if maths>=min_marks:\n",
    "        if physics>=min_marks:\n",
    "            if chemistry>=min_marks:\n",
    "                if english>=min_marks:\n",
    "                    print(\"Pass\")\n",
    "                else:\n",
    "                    print(\"Failed in English\")\n",
    "            else:\n",
    "                print(\"Failed in Chemistry\")\n",
    "        else:\n",
    "            print(\"Failed in Physics\")\n",
    "    else:\n",
    "        print(\"Failed in Maths\")\n",
    "else:\n",
    "    print(\"Invalid Marks\")"
   ]
  },
  {
   "cell_type": "code",
   "execution_count": 139,
   "id": "5a491b30",
   "metadata": {},
   "outputs": [
    {
     "name": "stdout",
     "output_type": "stream",
     "text": [
      "Enter Maths Marks = 66\n",
      "Enter physics Marks = 77\n",
      "Enter chemistry Marks = 66\n",
      "Enter english Marks = 55\n",
      "**********************************\n",
      "Pass\n",
      "**********************************\n",
      "Maths =  66\n",
      "Physics =  77\n",
      "chemistry =  66\n",
      "English =  55\n",
      "**********************************\n",
      "Total Marks =  264\n",
      "**********************************\n"
     ]
    }
   ],
   "source": [
    "maths = int(input(\"Enter Maths Marks = \"))\n",
    "physics = int(input(\"Enter physics Marks = \"))\n",
    "chemistry = int(input(\"Enter chemistry Marks = \"))\n",
    "english = int(input(\"Enter english Marks = \"))\n",
    "max_marks = 100\n",
    "min_marks = 40\n",
    "if maths<=max_marks and physics<=max_marks and chemistry<=max_marks and english<=max_marks:\n",
    "    if maths>=min_marks:\n",
    "        if physics>=min_marks:\n",
    "            if chemistry>=min_marks:\n",
    "                if english>=min_marks:\n",
    "                        print(\"**********************************\")\n",
    "                        print(\"Pass\")\n",
    "                        print(\"**********************************\")\n",
    "                        print(\"Maths = \",maths)\n",
    "                        print(\"Physics = \",physics)\n",
    "                        print(\"chemistry = \",chemistry)\n",
    "                        print(\"English = \",english)\n",
    "                        print(\"**********************************\")\n",
    "                        print(\"Total Marks =  {}\".format(maths+physics+chemistry+english))\n",
    "                        print(\"**********************************\")\n",
    "                        \n",
    "                else:\n",
    "                    print(\"**********************************\")\n",
    "                    print(\"Fail\")\n",
    "                    print(\"**********************************\")\n",
    "                    print(\"Maths = \",maths)\n",
    "                    print(\"Physics = \",physics)\n",
    "                    print(\"chemistry = \",chemistry)\n",
    "                    print(\"English = \",english)\n",
    "                    print(\"**********************************\")\n",
    "            else:\n",
    "                print(\"**********************************\")\n",
    "                print(\"Fail\")\n",
    "                print(\"**********************************\")\n",
    "                print(\"Maths = \",maths)\n",
    "                print(\"Physics = \",physics)\n",
    "                print(\"chemistry = \",chemistry)\n",
    "                print(\"English = \",english)\n",
    "                print(\"**********************************\")\n",
    "        else:\n",
    "            print(\"**********************************\")\n",
    "            print(\"Fail\")\n",
    "            print(\"**********************************\")\n",
    "            print(\"Maths = \",maths)\n",
    "            print(\"Physics = \",physics)\n",
    "            print(\"chemistry = \",chemistry)\n",
    "            print(\"English = \",english)\n",
    "            print(\"**********************************\")\n",
    "    else:\n",
    "        print(\"**********************************\")\n",
    "        print(\"Fail\")\n",
    "        print(\"**********************************\")\n",
    "        print(\"Maths = \",maths)\n",
    "        print(\"Physics = \",physics)\n",
    "        print(\"chemistry = \",chemistry)\n",
    "        print(\"English = \",english)\n",
    "        print(\"**********************************\")\n",
    "else:\n",
    "    print(\"**********************************\")\n",
    "    print(\"Fail\")\n",
    "    print(\"**********************************\")\n",
    "    print(\"Maths = \",maths)\n",
    "    print(\"Physics = \",physics)\n",
    "    print(\"chemistry = \",chemistry)\n",
    "    print(\"English = \",english)\n",
    "    print(\"**********************************\")"
   ]
  },
  {
   "cell_type": "code",
   "execution_count": null,
   "id": "afbdca2f",
   "metadata": {},
   "outputs": [],
   "source": []
  },
  {
   "cell_type": "code",
   "execution_count": null,
   "id": "bf5bf22a",
   "metadata": {},
   "outputs": [],
   "source": []
  }
 ],
 "metadata": {
  "kernelspec": {
   "display_name": "Python 3 (ipykernel)",
   "language": "python",
   "name": "python3"
  },
  "language_info": {
   "codemirror_mode": {
    "name": "ipython",
    "version": 3
   },
   "file_extension": ".py",
   "mimetype": "text/x-python",
   "name": "python",
   "nbconvert_exporter": "python",
   "pygments_lexer": "ipython3",
   "version": "3.9.7"
  }
 },
 "nbformat": 4,
 "nbformat_minor": 5
}
