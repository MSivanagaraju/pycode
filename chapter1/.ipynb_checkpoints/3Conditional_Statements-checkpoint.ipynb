{
 "cells": [
  {
   "cell_type": "raw",
   "id": "6b61a603",
   "metadata": {},
   "source": [
    "#Conditional statement in python\n",
    "if\n",
    "if....else....\n",
    "if....elif....elif....else....\n",
    "if...if...if..."
   ]
  },
  {
   "cell_type": "raw",
   "id": "80d1f3ac",
   "metadata": {},
   "source": [
    "if <condition/statement/expression/object> :\n",
    "    True part of the code\n",
    "else:\n",
    "    False Part of the code"
   ]
  },
  {
   "cell_type": "code",
   "execution_count": null,
   "id": "b653905c",
   "metadata": {},
   "outputs": [],
   "source": [
    "print(True)"
   ]
  },
  {
   "cell_type": "code",
   "execution_count": null,
   "id": "6a5a2976",
   "metadata": {},
   "outputs": [],
   "source": [
    "print(False)"
   ]
  },
  {
   "cell_type": "code",
   "execution_count": null,
   "id": "9ddaa246",
   "metadata": {},
   "outputs": [],
   "source": [
    "type(True)"
   ]
  },
  {
   "cell_type": "code",
   "execution_count": null,
   "id": "1fbd7eb9",
   "metadata": {},
   "outputs": [],
   "source": [
    "type(False)"
   ]
  },
  {
   "cell_type": "code",
   "execution_count": null,
   "id": "8de50a5a",
   "metadata": {},
   "outputs": [],
   "source": [
    "10<2"
   ]
  },
  {
   "cell_type": "code",
   "execution_count": null,
   "id": "8cecd6ee",
   "metadata": {},
   "outputs": [],
   "source": [
    "10>2"
   ]
  },
  {
   "cell_type": "code",
   "execution_count": null,
   "id": "1b799e66",
   "metadata": {},
   "outputs": [],
   "source": [
    "5==6"
   ]
  },
  {
   "cell_type": "code",
   "execution_count": null,
   "id": "802a823d",
   "metadata": {},
   "outputs": [],
   "source": [
    "5==5"
   ]
  },
  {
   "cell_type": "code",
   "execution_count": null,
   "id": "78cf04d6",
   "metadata": {},
   "outputs": [],
   "source": [
    "5=='5'"
   ]
  },
  {
   "cell_type": "code",
   "execution_count": null,
   "id": "33840916",
   "metadata": {},
   "outputs": [],
   "source": [
    "5==5.0"
   ]
  },
  {
   "cell_type": "code",
   "execution_count": null,
   "id": "3e57602d",
   "metadata": {},
   "outputs": [],
   "source": [
    "5 is 5.0"
   ]
  },
  {
   "cell_type": "code",
   "execution_count": null,
   "id": "30047527",
   "metadata": {},
   "outputs": [],
   "source": [
    "\"e\" in \"welcome\""
   ]
  },
  {
   "cell_type": "code",
   "execution_count": null,
   "id": "a799b837",
   "metadata": {},
   "outputs": [],
   "source": [
    "\"z\" in \"welcome\""
   ]
  },
  {
   "cell_type": "code",
   "execution_count": null,
   "id": "7b223015",
   "metadata": {},
   "outputs": [],
   "source": [
    "1"
   ]
  },
  {
   "cell_type": "code",
   "execution_count": null,
   "id": "53ac3be6",
   "metadata": {},
   "outputs": [],
   "source": [
    "bool(1)"
   ]
  },
  {
   "cell_type": "code",
   "execution_count": null,
   "id": "00dc774d",
   "metadata": {},
   "outputs": [],
   "source": [
    "bool(0)"
   ]
  },
  {
   "cell_type": "code",
   "execution_count": null,
   "id": "da16c227",
   "metadata": {},
   "outputs": [],
   "source": [
    "bool(2)"
   ]
  },
  {
   "cell_type": "code",
   "execution_count": null,
   "id": "cf866925",
   "metadata": {},
   "outputs": [],
   "source": [
    "bool(57563)"
   ]
  },
  {
   "cell_type": "code",
   "execution_count": null,
   "id": "c552e1a3",
   "metadata": {},
   "outputs": [],
   "source": [
    "True==1"
   ]
  },
  {
   "cell_type": "code",
   "execution_count": null,
   "id": "f50c565d",
   "metadata": {},
   "outputs": [],
   "source": [
    "False==0"
   ]
  },
  {
   "cell_type": "code",
   "execution_count": null,
   "id": "808ac111",
   "metadata": {},
   "outputs": [],
   "source": [
    "True==2"
   ]
  },
  {
   "cell_type": "code",
   "execution_count": null,
   "id": "7d4fc07f",
   "metadata": {},
   "outputs": [],
   "source": [
    "True==bool(76)"
   ]
  },
  {
   "cell_type": "raw",
   "id": "b10e1a41",
   "metadata": {},
   "source": [
    "if True:\n",
    "    True part code\n",
    "else:\n",
    "    False part code"
   ]
  },
  {
   "cell_type": "code",
   "execution_count": null,
   "id": "d079e438",
   "metadata": {},
   "outputs": [],
   "source": [
    "if True:\n",
    "    print(\"welcome\")"
   ]
  },
  {
   "cell_type": "code",
   "execution_count": null,
   "id": "ea9b057f",
   "metadata": {},
   "outputs": [],
   "source": [
    "if False:\n",
    "    print(\"welcome\")"
   ]
  },
  {
   "cell_type": "code",
   "execution_count": null,
   "id": "ed079604",
   "metadata": {},
   "outputs": [],
   "source": [
    "if False:\n",
    "    print(\"welcome\")\n",
    "else:\n",
    "    print(\"Not Welcome\")"
   ]
  },
  {
   "cell_type": "code",
   "execution_count": null,
   "id": "d41f6d2e",
   "metadata": {},
   "outputs": [],
   "source": [
    "bool(1)"
   ]
  },
  {
   "cell_type": "code",
   "execution_count": null,
   "id": "683c024f",
   "metadata": {},
   "outputs": [],
   "source": [
    "if 1:\n",
    "    print(\"welcome\")\n",
    "else:\n",
    "    print(\"Not Welcome\")"
   ]
  },
  {
   "cell_type": "code",
   "execution_count": null,
   "id": "cb526fe7",
   "metadata": {},
   "outputs": [],
   "source": [
    "if 0:\n",
    "    print(\"welcome\")\n",
    "else:\n",
    "    print(\"Not Welcome\")"
   ]
  },
  {
   "cell_type": "code",
   "execution_count": null,
   "id": "494130cd",
   "metadata": {},
   "outputs": [],
   "source": [
    "if 2:\n",
    "    print(\"welcome\")\n",
    "else:\n",
    "    print(\"Not Welcome\")"
   ]
  },
  {
   "cell_type": "code",
   "execution_count": null,
   "id": "e6b3c41d",
   "metadata": {},
   "outputs": [],
   "source": [
    "if x:\n",
    "    print(\"welcome\")\n",
    "else:\n",
    "    print(\"Not Welcome\")"
   ]
  },
  {
   "cell_type": "code",
   "execution_count": null,
   "id": "83b0a9ce",
   "metadata": {},
   "outputs": [],
   "source": [
    "bool(\"a\")"
   ]
  },
  {
   "cell_type": "code",
   "execution_count": null,
   "id": "a10374af",
   "metadata": {},
   "outputs": [],
   "source": [
    "bool(\"b\")"
   ]
  },
  {
   "cell_type": "code",
   "execution_count": null,
   "id": "571037c8",
   "metadata": {},
   "outputs": [],
   "source": [
    "bool(\"welcome\")"
   ]
  },
  {
   "cell_type": "code",
   "execution_count": null,
   "id": "419ddc19",
   "metadata": {},
   "outputs": [],
   "source": [
    "if \"x\":\n",
    "    print(\"welcome\")\n",
    "else:\n",
    "    print(\"Not Welcome\")"
   ]
  },
  {
   "cell_type": "code",
   "execution_count": null,
   "id": "16ba3a92",
   "metadata": {},
   "outputs": [],
   "source": [
    "bool(\"s\")"
   ]
  },
  {
   "cell_type": "code",
   "execution_count": null,
   "id": "eaab355f",
   "metadata": {},
   "outputs": [],
   "source": [
    "bool(\"\")"
   ]
  },
  {
   "cell_type": "code",
   "execution_count": null,
   "id": "9e6b5692",
   "metadata": {},
   "outputs": [],
   "source": [
    "if \"\":\n",
    "    print(\"welcome\")\n",
    "else:\n",
    "    print(\"Not Welcome\")"
   ]
  },
  {
   "cell_type": "code",
   "execution_count": null,
   "id": "d761b4f0",
   "metadata": {},
   "outputs": [],
   "source": [
    "v1 = \"python\""
   ]
  },
  {
   "cell_type": "code",
   "execution_count": null,
   "id": "86aba895",
   "metadata": {},
   "outputs": [],
   "source": [
    "bool(v1)"
   ]
  },
  {
   "cell_type": "code",
   "execution_count": null,
   "id": "b0548e8b",
   "metadata": {},
   "outputs": [],
   "source": [
    "if v1:\n",
    "    print(\"welcome\")\n",
    "else:\n",
    "    print(\"Not Welcome\")"
   ]
  },
  {
   "cell_type": "code",
   "execution_count": null,
   "id": "85dd7610",
   "metadata": {},
   "outputs": [],
   "source": [
    "v2=\"\""
   ]
  },
  {
   "cell_type": "code",
   "execution_count": null,
   "id": "669ac738",
   "metadata": {},
   "outputs": [],
   "source": [
    "if v2:\n",
    "    print(\"welcome\")\n",
    "else:\n",
    "    print(\"Not Welcome\")"
   ]
  },
  {
   "cell_type": "code",
   "execution_count": null,
   "id": "21653a82",
   "metadata": {},
   "outputs": [],
   "source": [
    "v3 = None"
   ]
  },
  {
   "cell_type": "code",
   "execution_count": null,
   "id": "ade1155b",
   "metadata": {},
   "outputs": [],
   "source": [
    "bool(None)"
   ]
  },
  {
   "cell_type": "code",
   "execution_count": null,
   "id": "a91cd133",
   "metadata": {},
   "outputs": [],
   "source": [
    "bool(v3)"
   ]
  },
  {
   "cell_type": "code",
   "execution_count": null,
   "id": "13340fab",
   "metadata": {},
   "outputs": [],
   "source": [
    "if v3:\n",
    "    print(\"welcome\")\n",
    "else:\n",
    "    print(\"Not Welcome\")"
   ]
  },
  {
   "cell_type": "code",
   "execution_count": null,
   "id": "3e99fb54",
   "metadata": {},
   "outputs": [],
   "source": [
    "if None:\n",
    "    print(\"welcome\")\n",
    "else:\n",
    "    print(\"Not Welcome\")"
   ]
  },
  {
   "cell_type": "code",
   "execution_count": null,
   "id": "285b2ba8",
   "metadata": {},
   "outputs": [],
   "source": [
    "type(None)"
   ]
  },
  {
   "cell_type": "code",
   "execution_count": null,
   "id": "650da472",
   "metadata": {},
   "outputs": [],
   "source": [
    "\"\"==None"
   ]
  },
  {
   "cell_type": "code",
   "execution_count": null,
   "id": "481566ec",
   "metadata": {},
   "outputs": [],
   "source": [
    "bool(\"\")==bool(None)"
   ]
  },
  {
   "cell_type": "code",
   "execution_count": null,
   "id": "20581fd5",
   "metadata": {},
   "outputs": [],
   "source": [
    "if 10<3:\n",
    "    print(\"welcome\")\n",
    "else:\n",
    "    print(\"Not Welcome\")"
   ]
  },
  {
   "cell_type": "code",
   "execution_count": null,
   "id": "845dac47",
   "metadata": {},
   "outputs": [],
   "source": [
    "if 10>3:\n",
    "    print(\"welcome\")\n",
    "else:\n",
    "    print(\"Not Welcome\")"
   ]
  },
  {
   "cell_type": "code",
   "execution_count": null,
   "id": "13415ad2",
   "metadata": {},
   "outputs": [],
   "source": [
    "4%2"
   ]
  },
  {
   "cell_type": "code",
   "execution_count": null,
   "id": "2f3ca2a1",
   "metadata": {},
   "outputs": [],
   "source": [
    "if 4%2==0:\n",
    "    print(\"welcome\")\n",
    "else:\n",
    "    print(\"Not Welcome\")"
   ]
  },
  {
   "cell_type": "code",
   "execution_count": null,
   "id": "4e0b7a73",
   "metadata": {},
   "outputs": [],
   "source": [
    "if 4%2==0:\n",
    "    print(\"welcome\")\n",
    "else:\n",
    "    print(\"Not Welcome\")"
   ]
  },
  {
   "cell_type": "code",
   "execution_count": null,
   "id": "4c942800",
   "metadata": {},
   "outputs": [],
   "source": [
    "#input\n",
    "input()"
   ]
  },
  {
   "cell_type": "code",
   "execution_count": null,
   "id": "c1c7c36e",
   "metadata": {},
   "outputs": [],
   "source": [
    "input(\"Enter your Name = \")"
   ]
  },
  {
   "cell_type": "code",
   "execution_count": null,
   "id": "f6d6238b",
   "metadata": {},
   "outputs": [],
   "source": [
    "v1 = input(\"Enter somethidng = \")\n",
    "print(v1)"
   ]
  },
  {
   "cell_type": "code",
   "execution_count": null,
   "id": "40a63587",
   "metadata": {},
   "outputs": [],
   "source": [
    "v1 = input(\"Enter somethidng = \")\n",
    "type(v1)"
   ]
  },
  {
   "cell_type": "code",
   "execution_count": null,
   "id": "99129536",
   "metadata": {},
   "outputs": [],
   "source": [
    "a = input(\"Enter a value for A = \")\n",
    "b = input(\"Enter a value for B = \")\n",
    "print(a+b)"
   ]
  },
  {
   "cell_type": "code",
   "execution_count": null,
   "id": "fb32cbc7",
   "metadata": {},
   "outputs": [],
   "source": [
    "a = input(\"Enter a value for A = \")\n",
    "b = input(\"Enter a value for B = \")\n",
    "print(int(a)+int(b))"
   ]
  },
  {
   "cell_type": "code",
   "execution_count": null,
   "id": "8d4f7774",
   "metadata": {},
   "outputs": [],
   "source": [
    "print(a+b)"
   ]
  },
  {
   "cell_type": "code",
   "execution_count": null,
   "id": "167a72e1",
   "metadata": {},
   "outputs": [],
   "source": [
    "a = int(input(\"Enter a value for A = \"))\n",
    "b = int(input(\"Enter a value for B = \"))\n",
    "print(a+b)"
   ]
  },
  {
   "cell_type": "code",
   "execution_count": null,
   "id": "cc30a374",
   "metadata": {},
   "outputs": [],
   "source": [
    "print(a+b)"
   ]
  },
  {
   "cell_type": "code",
   "execution_count": null,
   "id": "67b09aa7",
   "metadata": {},
   "outputs": [],
   "source": [
    "a = int(input(\"Enter a value for A = \"))\n",
    "b = int(input(\"Enter a value for B = \"))\n",
    "if a>b:\n",
    "    print(\"A is greater value\")\n",
    "else:\n",
    "    print(\"B is greater value\")"
   ]
  },
  {
   "cell_type": "code",
   "execution_count": null,
   "id": "25651718",
   "metadata": {},
   "outputs": [],
   "source": [
    "a = int(input(\"Enter a value for A = \"))\n",
    "b = int(input(\"Enter a value for B = \"))\n",
    "if a>b:\n",
    "    print(\"A is greater value\")\n",
    "else:\n",
    "    if b>a:\n",
    "        print(\"B is greater value\")\n",
    "    else:\n",
    "        print(\"Both are equal\")"
   ]
  },
  {
   "cell_type": "code",
   "execution_count": null,
   "id": "1a65d452",
   "metadata": {},
   "outputs": [],
   "source": [
    "a = int(input(\"Enter a value for A = \"))\n",
    "b = int(input(\"Enter a value for B = \"))\n",
    "if a>b:\n",
    "    print(\"A is greater value\")\n",
    "elif b>a:\n",
    "    print(\"B is greater value\")\n",
    "else:\n",
    "    print(\"Both are equal\")"
   ]
  },
  {
   "cell_type": "code",
   "execution_count": null,
   "id": "168318d7",
   "metadata": {},
   "outputs": [],
   "source": [
    "a = int(input(\"Enter a value for A = \"))\n",
    "b = int(input(\"Enter a value for B = \"))\n",
    "if a>b:\n",
    "    print(\"A is greater value\")\n",
    "elif b>a:\n",
    "    print(\"B is greater value\")"
   ]
  },
  {
   "cell_type": "code",
   "execution_count": null,
   "id": "0fb30b0a",
   "metadata": {},
   "outputs": [],
   "source": [
    "s1 = input(\"Enter Subject1 Name = \")\n",
    "s2 = input(\"Enter subject2 Name = \")\n",
    "s3 = input(\"Enter subject3 Name = \")\n",
    "if s1=='maths' or s1==\"physics\" or s1==\"chemistry\":\n",
    "    print(\"Science Student\")\n",
    "elif s2=='maths' or s2==\"physics\" or s2==\"chemistry\":\n",
    "    print(\"Science student\")\n",
    "elif s3=='maths' or s3==\"physics\" or s3==\"chemistry\":\n",
    "    print(\"Science student\")\n",
    "else:\n",
    "    print(\"Arts student\")"
   ]
  },
  {
   "cell_type": "code",
   "execution_count": null,
   "id": "2dba5af2",
   "metadata": {},
   "outputs": [],
   "source": [
    "s1 = input(\"Enter Subject1 Name = \")\n",
    "s2 = input(\"Enter subject2 Name = \")\n",
    "s3 = input(\"Enter subject3 Name = \")\n",
    "if s1 in ('maths',\"physics\",\"chemistry\"):\n",
    "    print(\"Science Student\")\n",
    "elif s2 in ('maths',\"physics\",\"chemistry\"):\n",
    "    print(\"Science student\")\n",
    "elif s3 in ('maths',\"physics\",\"chemistry\"):\n",
    "    print(\"Science student\")\n",
    "else:\n",
    "    print(\"Arts student\")"
   ]
  },
  {
   "cell_type": "code",
   "execution_count": null,
   "id": "41fa29c2",
   "metadata": {},
   "outputs": [],
   "source": [
    "maths = int(input(\"Enter Maths Marks = \"))\n",
    "physics = int(input(\"Enter physics Marks = \"))\n",
    "chemistry = int(input(\"Enter chemistry Marks = \"))\n",
    "english = int(input(\"Enter english Marks = \"))\n",
    "if maths>=40 and physics>=40 and chemistry>=40 and english>=40:\n",
    "    print(\"PASS\")\n",
    "else:\n",
    "    print(\"FAIL\")"
   ]
  },
  {
   "cell_type": "code",
   "execution_count": null,
   "id": "815f74f2",
   "metadata": {},
   "outputs": [],
   "source": [
    "maths = int(input(\"Enter Maths Marks = \"))\n",
    "physics = int(input(\"Enter physics Marks = \"))\n",
    "chemistry = int(input(\"Enter chemistry Marks = \"))\n",
    "english = int(input(\"Enter english Marks = \"))\n",
    "if maths>=40 and physics>=40 and chemistry>=40 and english>=40:print(\"PASS\")\n",
    "else:\n",
    "    print(\"FAIL\")"
   ]
  },
  {
   "cell_type": "code",
   "execution_count": null,
   "id": "48e6b11f",
   "metadata": {},
   "outputs": [],
   "source": [
    "maths = int(input(\"Enter Maths Marks = \"))\n",
    "physics = int(input(\"Enter physics Marks = \"))\n",
    "chemistry = int(input(\"Enter chemistry Marks = \"))\n",
    "english = int(input(\"Enter english Marks = \"))\n",
    "max_marks = 100\n",
    "min_marks = 40\n",
    "if maths<=max_marks and physics<=max_marks and chemistry<=max_marks and english<=max_marks:\n",
    "    if maths>=min_marks and physics>=min_marks and chemistry>=min_marks and english>=min_marks:\n",
    "        print(\"PASS\")\n",
    "    else:\n",
    "        print(\"FAIL\")\n",
    "else:\n",
    "    print(\"Your Marks should be less than or equal to 100\")"
   ]
  },
  {
   "cell_type": "code",
   "execution_count": null,
   "id": "5a491b30",
   "metadata": {},
   "outputs": [],
   "source": [
    "maths = int(input(\"Enter Maths Marks = \"))\n",
    "physics = int(input(\"Enter physics Marks = \"))\n",
    "chemistry = int(input(\"Enter chemistry Marks = \"))\n",
    "english = int(input(\"Enter english Marks = \"))\n",
    "max_marks = 100\n",
    "min_marks = 40\n",
    "if maths<=max_marks and physics<=max_marks and chemistry<=max_marks and english<=max_marks:\n",
    "    if maths>=min_marks:\n",
    "        if physics>=min_marks:\n",
    "            if chemistry>=min_marks:\n",
    "                if english>=min_marks:\n",
    "                    print(\"PASS\")\n",
    "                else:\n",
    "                    print(\"Failed in English\")\n",
    "            else:\n",
    "                print(\"Failed in Chemistry\")\n",
    "        else:\n",
    "            print(\"Failed in Physics\")\n",
    "    else:\n",
    "        print(\"Failed in Maths\")\n",
    "else:\n",
    "    print(\"Invalid Marks\")"
   ]
  },
  {
   "cell_type": "code",
   "execution_count": null,
   "id": "4e517606",
   "metadata": {},
   "outputs": [],
   "source": []
  },
  {
   "cell_type": "code",
   "execution_count": null,
   "id": "f9890185",
   "metadata": {},
   "outputs": [],
   "source": []
  },
  {
   "cell_type": "code",
   "execution_count": null,
   "id": "31e8a97d",
   "metadata": {},
   "outputs": [],
   "source": []
  },
  {
   "cell_type": "code",
   "execution_count": null,
   "id": "2c9b21b9",
   "metadata": {},
   "outputs": [],
   "source": []
  },
  {
   "cell_type": "code",
   "execution_count": null,
   "id": "119b7b1b",
   "metadata": {},
   "outputs": [],
   "source": []
  },
  {
   "cell_type": "code",
   "execution_count": null,
   "id": "c85e49e0",
   "metadata": {},
   "outputs": [],
   "source": []
  },
  {
   "cell_type": "code",
   "execution_count": null,
   "id": "0bac4a94",
   "metadata": {},
   "outputs": [],
   "source": []
  },
  {
   "cell_type": "code",
   "execution_count": null,
   "id": "afbdca2f",
   "metadata": {},
   "outputs": [],
   "source": []
  },
  {
   "cell_type": "code",
   "execution_count": null,
   "id": "bf5bf22a",
   "metadata": {},
   "outputs": [],
   "source": []
  }
 ],
 "metadata": {
  "kernelspec": {
   "display_name": "Python 3 (ipykernel)",
   "language": "python",
   "name": "python3"
  },
  "language_info": {
   "codemirror_mode": {
    "name": "ipython",
    "version": 3
   },
   "file_extension": ".py",
   "mimetype": "text/x-python",
   "name": "python",
   "nbconvert_exporter": "python",
   "pygments_lexer": "ipython3",
   "version": "3.9.7"
  }
 },
 "nbformat": 4,
 "nbformat_minor": 5
}
