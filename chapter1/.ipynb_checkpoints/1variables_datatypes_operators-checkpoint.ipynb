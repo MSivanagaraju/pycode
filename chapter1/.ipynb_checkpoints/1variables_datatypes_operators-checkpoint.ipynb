{
 "cells": [
  {
   "cell_type": "code",
   "execution_count": 2,
   "id": "e356a191",
   "metadata": {},
   "outputs": [],
   "source": [
    "#variables\n",
    "#loosely typed variables\n",
    "#python we can use as basic caliculator"
   ]
  },
  {
   "cell_type": "code",
   "execution_count": 1,
   "id": "c55ca193",
   "metadata": {},
   "outputs": [],
   "source": [
    "v1 = 100"
   ]
  },
  {
   "cell_type": "code",
   "execution_count": 4,
   "id": "08fae25e",
   "metadata": {},
   "outputs": [
    {
     "name": "stdout",
     "output_type": "stream",
     "text": [
      "100\n"
     ]
    }
   ],
   "source": [
    "print(v1)"
   ]
  },
  {
   "cell_type": "code",
   "execution_count": 5,
   "id": "3717f575",
   "metadata": {},
   "outputs": [
    {
     "ename": "SyntaxError",
     "evalue": "invalid syntax (Temp/ipykernel_968/547968179.py, line 1)",
     "output_type": "error",
     "traceback": [
      "\u001b[1;36m  File \u001b[1;32m\"C:\\Users\\User\\AppData\\Local\\Temp/ipykernel_968/547968179.py\"\u001b[1;36m, line \u001b[1;32m1\u001b[0m\n\u001b[1;33m    1v = 100\u001b[0m\n\u001b[1;37m     ^\u001b[0m\n\u001b[1;31mSyntaxError\u001b[0m\u001b[1;31m:\u001b[0m invalid syntax\n"
     ]
    }
   ],
   "source": [
    "1v = 100"
   ]
  },
  {
   "cell_type": "code",
   "execution_count": 6,
   "id": "ec67c566",
   "metadata": {},
   "outputs": [
    {
     "ename": "SyntaxError",
     "evalue": "invalid syntax (Temp/ipykernel_968/3794103731.py, line 1)",
     "output_type": "error",
     "traceback": [
      "\u001b[1;36m  File \u001b[1;32m\"C:\\Users\\User\\AppData\\Local\\Temp/ipykernel_968/3794103731.py\"\u001b[1;36m, line \u001b[1;32m1\u001b[0m\n\u001b[1;33m    $v1 = 100\u001b[0m\n\u001b[1;37m    ^\u001b[0m\n\u001b[1;31mSyntaxError\u001b[0m\u001b[1;31m:\u001b[0m invalid syntax\n"
     ]
    }
   ],
   "source": [
    "$v1 = 100"
   ]
  },
  {
   "cell_type": "code",
   "execution_count": 7,
   "id": "682260e0",
   "metadata": {},
   "outputs": [
    {
     "ename": "SyntaxError",
     "evalue": "invalid syntax (Temp/ipykernel_968/2183505497.py, line 1)",
     "output_type": "error",
     "traceback": [
      "\u001b[1;36m  File \u001b[1;32m\"C:\\Users\\User\\AppData\\Local\\Temp/ipykernel_968/2183505497.py\"\u001b[1;36m, line \u001b[1;32m1\u001b[0m\n\u001b[1;33m    v1$ = 100\u001b[0m\n\u001b[1;37m      ^\u001b[0m\n\u001b[1;31mSyntaxError\u001b[0m\u001b[1;31m:\u001b[0m invalid syntax\n"
     ]
    }
   ],
   "source": [
    "v1$ = 100"
   ]
  },
  {
   "cell_type": "code",
   "execution_count": 8,
   "id": "879060e5",
   "metadata": {},
   "outputs": [],
   "source": [
    "_v1 = 111"
   ]
  },
  {
   "cell_type": "code",
   "execution_count": 9,
   "id": "91652a5d",
   "metadata": {},
   "outputs": [
    {
     "name": "stdout",
     "output_type": "stream",
     "text": [
      "111\n"
     ]
    }
   ],
   "source": [
    "print(_v1)"
   ]
  },
  {
   "cell_type": "code",
   "execution_count": 10,
   "id": "c0705ee6",
   "metadata": {},
   "outputs": [],
   "source": [
    "_ = 222"
   ]
  },
  {
   "cell_type": "code",
   "execution_count": 11,
   "id": "a7451690",
   "metadata": {},
   "outputs": [
    {
     "name": "stdout",
     "output_type": "stream",
     "text": [
      "222\n"
     ]
    }
   ],
   "source": [
    "print(_)"
   ]
  },
  {
   "cell_type": "code",
   "execution_count": 12,
   "id": "8c1c5461",
   "metadata": {},
   "outputs": [],
   "source": [
    "__v1 = 333"
   ]
  },
  {
   "cell_type": "code",
   "execution_count": 13,
   "id": "157dd532",
   "metadata": {},
   "outputs": [
    {
     "name": "stdout",
     "output_type": "stream",
     "text": [
      "333\n"
     ]
    }
   ],
   "source": [
    "print(__v1)"
   ]
  },
  {
   "cell_type": "code",
   "execution_count": 14,
   "id": "8a665e56",
   "metadata": {},
   "outputs": [],
   "source": [
    "__v1__ = 444"
   ]
  },
  {
   "cell_type": "code",
   "execution_count": 15,
   "id": "d83357c0",
   "metadata": {},
   "outputs": [
    {
     "name": "stdout",
     "output_type": "stream",
     "text": [
      "444\n"
     ]
    }
   ],
   "source": [
    "print(__v1__)"
   ]
  },
  {
   "cell_type": "code",
   "execution_count": 16,
   "id": "70d6b290",
   "metadata": {},
   "outputs": [],
   "source": [
    "#to get the address of variable\n",
    "v1 = 100"
   ]
  },
  {
   "cell_type": "code",
   "execution_count": 17,
   "id": "d842857b",
   "metadata": {},
   "outputs": [
    {
     "name": "stdout",
     "output_type": "stream",
     "text": [
      "100\n"
     ]
    }
   ],
   "source": [
    "print(v1)"
   ]
  },
  {
   "cell_type": "code",
   "execution_count": 18,
   "id": "90c7314f",
   "metadata": {},
   "outputs": [
    {
     "data": {
      "text/plain": [
       "2112279696848"
      ]
     },
     "execution_count": 18,
     "metadata": {},
     "output_type": "execute_result"
    }
   ],
   "source": [
    "id(v1)"
   ]
  },
  {
   "cell_type": "code",
   "execution_count": null,
   "id": "6e29927c",
   "metadata": {},
   "outputs": [],
   "source": [
    "#loosely typed variables\n",
    "#a int; strongly typed variables"
   ]
  },
  {
   "cell_type": "code",
   "execution_count": 19,
   "id": "45c9db51",
   "metadata": {},
   "outputs": [],
   "source": [
    "a=100"
   ]
  },
  {
   "cell_type": "code",
   "execution_count": 20,
   "id": "b87225a8",
   "metadata": {},
   "outputs": [],
   "source": [
    "a=\"hi\""
   ]
  },
  {
   "cell_type": "code",
   "execution_count": 21,
   "id": "9ae79286",
   "metadata": {},
   "outputs": [],
   "source": [
    "a=10.45"
   ]
  },
  {
   "cell_type": "code",
   "execution_count": 22,
   "id": "cb38c449",
   "metadata": {},
   "outputs": [
    {
     "name": "stdout",
     "output_type": "stream",
     "text": [
      "10.45\n"
     ]
    }
   ],
   "source": [
    "print(a)"
   ]
  },
  {
   "cell_type": "raw",
   "id": "fe7f4829",
   "metadata": {},
   "source": [
    "#Data types\n",
    "integer(all numerics), Float(all decimals), string(single or double quoted data) , NoneType(None), Boolean(True,False)"
   ]
  },
  {
   "cell_type": "code",
   "execution_count": 23,
   "id": "938abfcf",
   "metadata": {},
   "outputs": [
    {
     "data": {
      "text/plain": [
       "int"
      ]
     },
     "execution_count": 23,
     "metadata": {},
     "output_type": "execute_result"
    }
   ],
   "source": [
    "v1 = 100\n",
    "type(v1)"
   ]
  },
  {
   "cell_type": "code",
   "execution_count": 24,
   "id": "4eaec188",
   "metadata": {},
   "outputs": [
    {
     "data": {
      "text/plain": [
       "float"
      ]
     },
     "execution_count": 24,
     "metadata": {},
     "output_type": "execute_result"
    }
   ],
   "source": [
    "v2=10.45\n",
    "type(v2)"
   ]
  },
  {
   "cell_type": "code",
   "execution_count": 25,
   "id": "ece2b12f",
   "metadata": {},
   "outputs": [],
   "source": [
    "v3=\"welcome\"\n",
    "v4='Good Morning'"
   ]
  },
  {
   "cell_type": "code",
   "execution_count": 26,
   "id": "1f962e75",
   "metadata": {},
   "outputs": [
    {
     "data": {
      "text/plain": [
       "str"
      ]
     },
     "execution_count": 26,
     "metadata": {},
     "output_type": "execute_result"
    }
   ],
   "source": [
    "type(v3)"
   ]
  },
  {
   "cell_type": "code",
   "execution_count": 27,
   "id": "9c544963",
   "metadata": {},
   "outputs": [
    {
     "data": {
      "text/plain": [
       "str"
      ]
     },
     "execution_count": 27,
     "metadata": {},
     "output_type": "execute_result"
    }
   ],
   "source": [
    "type(v4)"
   ]
  },
  {
   "cell_type": "code",
   "execution_count": 28,
   "id": "66d4e396",
   "metadata": {},
   "outputs": [
    {
     "data": {
      "text/plain": [
       "NoneType"
      ]
     },
     "execution_count": 28,
     "metadata": {},
     "output_type": "execute_result"
    }
   ],
   "source": [
    "v5 = None\n",
    "type(v5)"
   ]
  },
  {
   "cell_type": "code",
   "execution_count": 29,
   "id": "6f219001",
   "metadata": {},
   "outputs": [
    {
     "data": {
      "text/plain": [
       "bool"
      ]
     },
     "execution_count": 29,
     "metadata": {},
     "output_type": "execute_result"
    }
   ],
   "source": [
    "v6 = True\n",
    "type(v6)"
   ]
  },
  {
   "cell_type": "code",
   "execution_count": 30,
   "id": "d975f176",
   "metadata": {},
   "outputs": [
    {
     "data": {
      "text/plain": [
       "bool"
      ]
     },
     "execution_count": 30,
     "metadata": {},
     "output_type": "execute_result"
    }
   ],
   "source": [
    "v7=False\n",
    "type(v7)"
   ]
  },
  {
   "cell_type": "code",
   "execution_count": 31,
   "id": "df815f41",
   "metadata": {},
   "outputs": [],
   "source": [
    "v8=\"100\"\n",
    "v9='10.46'"
   ]
  },
  {
   "cell_type": "code",
   "execution_count": 32,
   "id": "19035d97",
   "metadata": {},
   "outputs": [
    {
     "data": {
      "text/plain": [
       "str"
      ]
     },
     "execution_count": 32,
     "metadata": {},
     "output_type": "execute_result"
    }
   ],
   "source": [
    "type(v8)"
   ]
  },
  {
   "cell_type": "code",
   "execution_count": 33,
   "id": "688d3216",
   "metadata": {},
   "outputs": [
    {
     "data": {
      "text/plain": [
       "str"
      ]
     },
     "execution_count": 33,
     "metadata": {},
     "output_type": "execute_result"
    }
   ],
   "source": [
    "type(v9)"
   ]
  },
  {
   "cell_type": "code",
   "execution_count": null,
   "id": "08c8b338",
   "metadata": {},
   "outputs": [],
   "source": [
    "#Operators\n",
    "#python is acts like basic caliculator\n",
    "#arthematic , relational , logical , comparision , assignment , "
   ]
  },
  {
   "cell_type": "code",
   "execution_count": 1,
   "id": "3d46239b",
   "metadata": {},
   "outputs": [
    {
     "data": {
      "text/plain": [
       "2"
      ]
     },
     "execution_count": 1,
     "metadata": {},
     "output_type": "execute_result"
    }
   ],
   "source": [
    "1+1"
   ]
  },
  {
   "cell_type": "code",
   "execution_count": 2,
   "id": "ba98717e",
   "metadata": {},
   "outputs": [
    {
     "data": {
      "text/plain": [
       "4"
      ]
     },
     "execution_count": 2,
     "metadata": {},
     "output_type": "execute_result"
    }
   ],
   "source": [
    "2*2"
   ]
  },
  {
   "cell_type": "code",
   "execution_count": 4,
   "id": "abf02c7e",
   "metadata": {},
   "outputs": [
    {
     "data": {
      "text/plain": [
       "8"
      ]
     },
     "execution_count": 4,
     "metadata": {},
     "output_type": "execute_result"
    }
   ],
   "source": [
    "2**3"
   ]
  },
  {
   "cell_type": "code",
   "execution_count": null,
   "id": "4c90f430",
   "metadata": {},
   "outputs": [],
   "source": [
    "#arthematic\n",
    "# + , - , * , / , % , ** , //"
   ]
  },
  {
   "cell_type": "code",
   "execution_count": 5,
   "id": "d87e7615",
   "metadata": {},
   "outputs": [
    {
     "name": "stdout",
     "output_type": "stream",
     "text": [
      "20\n"
     ]
    }
   ],
   "source": [
    "print(10+10)"
   ]
  },
  {
   "cell_type": "code",
   "execution_count": 6,
   "id": "88ae64c1",
   "metadata": {},
   "outputs": [
    {
     "name": "stdout",
     "output_type": "stream",
     "text": [
      "8\n"
     ]
    }
   ],
   "source": [
    "print(10-2)"
   ]
  },
  {
   "cell_type": "code",
   "execution_count": 7,
   "id": "31df40eb",
   "metadata": {},
   "outputs": [
    {
     "name": "stdout",
     "output_type": "stream",
     "text": [
      "6\n"
     ]
    }
   ],
   "source": [
    "print(2*3)"
   ]
  },
  {
   "cell_type": "code",
   "execution_count": 8,
   "id": "2b7d264c",
   "metadata": {},
   "outputs": [
    {
     "name": "stdout",
     "output_type": "stream",
     "text": [
      "8\n"
     ]
    }
   ],
   "source": [
    "print(2**3)"
   ]
  },
  {
   "cell_type": "code",
   "execution_count": 9,
   "id": "ccb3f419",
   "metadata": {},
   "outputs": [
    {
     "name": "stdout",
     "output_type": "stream",
     "text": [
      "4.0\n"
     ]
    }
   ],
   "source": [
    "print(16**(1/2))"
   ]
  },
  {
   "cell_type": "code",
   "execution_count": 10,
   "id": "8808b2c8",
   "metadata": {},
   "outputs": [
    {
     "data": {
      "text/plain": [
       "2.0"
      ]
     },
     "execution_count": 10,
     "metadata": {},
     "output_type": "execute_result"
    }
   ],
   "source": [
    "8**(1/3)"
   ]
  },
  {
   "cell_type": "code",
   "execution_count": 11,
   "id": "8da93af9",
   "metadata": {},
   "outputs": [
    {
     "name": "stdout",
     "output_type": "stream",
     "text": [
      "5.666666666666667\n"
     ]
    }
   ],
   "source": [
    "print(17/3)"
   ]
  },
  {
   "cell_type": "code",
   "execution_count": 12,
   "id": "49ab61b8",
   "metadata": {},
   "outputs": [
    {
     "name": "stdout",
     "output_type": "stream",
     "text": [
      "5\n"
     ]
    }
   ],
   "source": [
    "print(17//3)"
   ]
  },
  {
   "cell_type": "code",
   "execution_count": 13,
   "id": "d1f8413c",
   "metadata": {},
   "outputs": [
    {
     "name": "stdout",
     "output_type": "stream",
     "text": [
      "1\n"
     ]
    }
   ],
   "source": [
    "#remainder\n",
    "print(5%2)"
   ]
  },
  {
   "cell_type": "code",
   "execution_count": 14,
   "id": "6c939d03",
   "metadata": {},
   "outputs": [
    {
     "name": "stdout",
     "output_type": "stream",
     "text": [
      "HelloPython\n"
     ]
    }
   ],
   "source": [
    "print(\"Hello\"+\"Python\") #concatenation"
   ]
  },
  {
   "cell_type": "code",
   "execution_count": 15,
   "id": "03c7b4ff",
   "metadata": {},
   "outputs": [
    {
     "name": "stdout",
     "output_type": "stream",
     "text": [
      "20\n"
     ]
    }
   ],
   "source": [
    "print(10+10)"
   ]
  },
  {
   "cell_type": "code",
   "execution_count": 16,
   "id": "b624fb56",
   "metadata": {},
   "outputs": [
    {
     "name": "stdout",
     "output_type": "stream",
     "text": [
      "20.45\n"
     ]
    }
   ],
   "source": [
    "print(10+10.45)"
   ]
  },
  {
   "cell_type": "code",
   "execution_count": 17,
   "id": "0c8a09e0",
   "metadata": {},
   "outputs": [
    {
     "ename": "TypeError",
     "evalue": "unsupported operand type(s) for +: 'int' and 'str'",
     "output_type": "error",
     "traceback": [
      "\u001b[1;31m---------------------------------------------------------------------------\u001b[0m",
      "\u001b[1;31mTypeError\u001b[0m                                 Traceback (most recent call last)",
      "\u001b[1;32m~\\AppData\\Local\\Temp/ipykernel_10996/603298481.py\u001b[0m in \u001b[0;36m<module>\u001b[1;34m\u001b[0m\n\u001b[1;32m----> 1\u001b[1;33m \u001b[0mprint\u001b[0m\u001b[1;33m(\u001b[0m\u001b[1;36m10\u001b[0m\u001b[1;33m+\u001b[0m\u001b[1;34m\"hi\"\u001b[0m\u001b[1;33m)\u001b[0m\u001b[1;33m\u001b[0m\u001b[1;33m\u001b[0m\u001b[0m\n\u001b[0m",
      "\u001b[1;31mTypeError\u001b[0m: unsupported operand type(s) for +: 'int' and 'str'"
     ]
    }
   ],
   "source": [
    "print(10+\"hi\")"
   ]
  },
  {
   "cell_type": "raw",
   "id": "8eca5441",
   "metadata": {},
   "source": [
    "#comparison => output of any comparison is boolean value(True or False)\n",
    "> , < , == , != , >=, <=, is"
   ]
  },
  {
   "cell_type": "code",
   "execution_count": 18,
   "id": "c391d8ab",
   "metadata": {},
   "outputs": [
    {
     "name": "stdout",
     "output_type": "stream",
     "text": [
      "True\n"
     ]
    }
   ],
   "source": [
    "print(5>3)"
   ]
  },
  {
   "cell_type": "code",
   "execution_count": 19,
   "id": "056e240a",
   "metadata": {},
   "outputs": [
    {
     "name": "stdout",
     "output_type": "stream",
     "text": [
      "False\n"
     ]
    }
   ],
   "source": [
    "print(5<3)"
   ]
  },
  {
   "cell_type": "code",
   "execution_count": 20,
   "id": "b8708188",
   "metadata": {},
   "outputs": [
    {
     "name": "stdout",
     "output_type": "stream",
     "text": [
      "False\n"
     ]
    }
   ],
   "source": [
    "print(5==3)"
   ]
  },
  {
   "cell_type": "code",
   "execution_count": 21,
   "id": "b1181c45",
   "metadata": {},
   "outputs": [
    {
     "name": "stdout",
     "output_type": "stream",
     "text": [
      "True\n"
     ]
    }
   ],
   "source": [
    "print(5==5)"
   ]
  },
  {
   "cell_type": "code",
   "execution_count": 22,
   "id": "8f3ddbf3",
   "metadata": {},
   "outputs": [
    {
     "name": "stdout",
     "output_type": "stream",
     "text": [
      "True\n"
     ]
    }
   ],
   "source": [
    "print(5==5.0)"
   ]
  },
  {
   "cell_type": "code",
   "execution_count": 23,
   "id": "73545d3c",
   "metadata": {},
   "outputs": [
    {
     "name": "stdout",
     "output_type": "stream",
     "text": [
      "False\n"
     ]
    }
   ],
   "source": [
    "print(5==\"5\")"
   ]
  },
  {
   "cell_type": "code",
   "execution_count": 24,
   "id": "f63196c5",
   "metadata": {},
   "outputs": [
    {
     "name": "stdout",
     "output_type": "stream",
     "text": [
      "False\n"
     ]
    }
   ],
   "source": [
    "print(5>5)"
   ]
  },
  {
   "cell_type": "code",
   "execution_count": 25,
   "id": "a051e178",
   "metadata": {},
   "outputs": [
    {
     "name": "stdout",
     "output_type": "stream",
     "text": [
      "True\n"
     ]
    }
   ],
   "source": [
    "print(5>=5)"
   ]
  },
  {
   "cell_type": "code",
   "execution_count": 26,
   "id": "8bd8f90b",
   "metadata": {},
   "outputs": [
    {
     "name": "stdout",
     "output_type": "stream",
     "text": [
      "False\n"
     ]
    }
   ],
   "source": [
    "print(5!=5)"
   ]
  },
  {
   "cell_type": "code",
   "execution_count": null,
   "id": "b48da876",
   "metadata": {},
   "outputs": [],
   "source": [
    "# \"is\" operator or is not"
   ]
  },
  {
   "cell_type": "code",
   "execution_count": 27,
   "id": "76e41ffc",
   "metadata": {},
   "outputs": [
    {
     "name": "stdout",
     "output_type": "stream",
     "text": [
      "True\n"
     ]
    }
   ],
   "source": [
    "print(5==5)"
   ]
  },
  {
   "cell_type": "code",
   "execution_count": 28,
   "id": "ad9ce877",
   "metadata": {},
   "outputs": [
    {
     "name": "stdout",
     "output_type": "stream",
     "text": [
      "True\n"
     ]
    }
   ],
   "source": [
    "print(5==5.0)"
   ]
  },
  {
   "cell_type": "code",
   "execution_count": 29,
   "id": "3d4ca7af",
   "metadata": {},
   "outputs": [
    {
     "name": "stdout",
     "output_type": "stream",
     "text": [
      "True\n"
     ]
    },
    {
     "name": "stderr",
     "output_type": "stream",
     "text": [
      "<>:1: SyntaxWarning: \"is\" with a literal. Did you mean \"==\"?\n",
      "<>:1: SyntaxWarning: \"is\" with a literal. Did you mean \"==\"?\n",
      "C:\\Users\\User\\AppData\\Local\\Temp/ipykernel_10996/2244629256.py:1: SyntaxWarning: \"is\" with a literal. Did you mean \"==\"?\n",
      "  print(5 is 5)\n"
     ]
    }
   ],
   "source": [
    "print(5 is 5)"
   ]
  },
  {
   "cell_type": "code",
   "execution_count": 30,
   "id": "1fb46bf8",
   "metadata": {},
   "outputs": [
    {
     "name": "stdout",
     "output_type": "stream",
     "text": [
      "False\n"
     ]
    },
    {
     "name": "stderr",
     "output_type": "stream",
     "text": [
      "<>:1: SyntaxWarning: \"is\" with a literal. Did you mean \"==\"?\n",
      "<>:1: SyntaxWarning: \"is\" with a literal. Did you mean \"==\"?\n",
      "C:\\Users\\User\\AppData\\Local\\Temp/ipykernel_10996/3611934553.py:1: SyntaxWarning: \"is\" with a literal. Did you mean \"==\"?\n",
      "  print(5 is 5.0)\n"
     ]
    }
   ],
   "source": [
    "print(5 is 5.0)"
   ]
  },
  {
   "cell_type": "code",
   "execution_count": 31,
   "id": "ad5fdb11",
   "metadata": {},
   "outputs": [
    {
     "name": "stdout",
     "output_type": "stream",
     "text": [
      "True\n"
     ]
    },
    {
     "name": "stderr",
     "output_type": "stream",
     "text": [
      "<>:1: SyntaxWarning: \"is not\" with a literal. Did you mean \"!=\"?\n",
      "<>:1: SyntaxWarning: \"is not\" with a literal. Did you mean \"!=\"?\n",
      "C:\\Users\\User\\AppData\\Local\\Temp/ipykernel_10996/701066915.py:1: SyntaxWarning: \"is not\" with a literal. Did you mean \"!=\"?\n",
      "  print(5 is not 5.0)\n"
     ]
    }
   ],
   "source": [
    "print(5 is not 5.0)"
   ]
  },
  {
   "cell_type": "raw",
   "id": "f5c0a811",
   "metadata": {},
   "source": [
    "#logical operators => and , or "
   ]
  },
  {
   "cell_type": "raw",
   "id": "50a28d59",
   "metadata": {},
   "source": [
    "# and operator\n",
    "True and True => True\n",
    "True and False = False\n",
    "False and True = False\n",
    "False and False = False"
   ]
  },
  {
   "cell_type": "code",
   "execution_count": 33,
   "id": "28ce6531",
   "metadata": {},
   "outputs": [
    {
     "name": "stdout",
     "output_type": "stream",
     "text": [
      "True\n",
      "False\n"
     ]
    }
   ],
   "source": [
    "print(5>3 and 3<5)\n",
    "print(5>3 and 3>5)"
   ]
  },
  {
   "cell_type": "raw",
   "id": "0c0d20c2",
   "metadata": {},
   "source": [
    "#or operator\n",
    "True or True => True\n",
    "True or False = True\n",
    "False or True = True\n",
    "False or False = False"
   ]
  },
  {
   "cell_type": "code",
   "execution_count": 34,
   "id": "6335106e",
   "metadata": {},
   "outputs": [
    {
     "name": "stdout",
     "output_type": "stream",
     "text": [
      "True\n",
      "False\n"
     ]
    }
   ],
   "source": [
    "print(5>3 or 3>5)\n",
    "print(5<3 or 3>5)"
   ]
  },
  {
   "cell_type": "code",
   "execution_count": null,
   "id": "ce6068d1",
   "metadata": {},
   "outputs": [],
   "source": [
    "#List operator  => in , not in"
   ]
  },
  {
   "cell_type": "code",
   "execution_count": 35,
   "id": "0392bb90",
   "metadata": {},
   "outputs": [
    {
     "data": {
      "text/plain": [
       "True"
      ]
     },
     "execution_count": 35,
     "metadata": {},
     "output_type": "execute_result"
    }
   ],
   "source": [
    "\"e\" in \"welcome\""
   ]
  },
  {
   "cell_type": "code",
   "execution_count": 36,
   "id": "a20de5c1",
   "metadata": {},
   "outputs": [
    {
     "data": {
      "text/plain": [
       "False"
      ]
     },
     "execution_count": 36,
     "metadata": {},
     "output_type": "execute_result"
    }
   ],
   "source": [
    "\"e\" not in \"welcome\""
   ]
  },
  {
   "cell_type": "code",
   "execution_count": 37,
   "id": "97728aa7",
   "metadata": {},
   "outputs": [
    {
     "data": {
      "text/plain": [
       "True"
      ]
     },
     "execution_count": 37,
     "metadata": {},
     "output_type": "execute_result"
    }
   ],
   "source": [
    "\"z\" not in \"welcome\""
   ]
  },
  {
   "cell_type": "code",
   "execution_count": 38,
   "id": "b0c26371",
   "metadata": {},
   "outputs": [
    {
     "ename": "TypeError",
     "evalue": "argument of type 'int' is not iterable",
     "output_type": "error",
     "traceback": [
      "\u001b[1;31m---------------------------------------------------------------------------\u001b[0m",
      "\u001b[1;31mTypeError\u001b[0m                                 Traceback (most recent call last)",
      "\u001b[1;32m~\\AppData\\Local\\Temp/ipykernel_10996/3916461219.py\u001b[0m in \u001b[0;36m<module>\u001b[1;34m\u001b[0m\n\u001b[1;32m----> 1\u001b[1;33m \u001b[1;36m10\u001b[0m \u001b[1;32min\u001b[0m \u001b[1;36m100\u001b[0m\u001b[1;33m\u001b[0m\u001b[1;33m\u001b[0m\u001b[0m\n\u001b[0m",
      "\u001b[1;31mTypeError\u001b[0m: argument of type 'int' is not iterable"
     ]
    }
   ],
   "source": [
    "10 in 100"
   ]
  },
  {
   "cell_type": "code",
   "execution_count": 39,
   "id": "519ec41e",
   "metadata": {},
   "outputs": [
    {
     "data": {
      "text/plain": [
       "True"
      ]
     },
     "execution_count": 39,
     "metadata": {},
     "output_type": "execute_result"
    }
   ],
   "source": [
    "\"10\" in \"100\""
   ]
  },
  {
   "cell_type": "code",
   "execution_count": 40,
   "id": "bc56340f",
   "metadata": {},
   "outputs": [
    {
     "data": {
      "text/plain": [
       "True"
      ]
     },
     "execution_count": 40,
     "metadata": {},
     "output_type": "execute_result"
    }
   ],
   "source": [
    "\"10\" in \"6001000\""
   ]
  },
  {
   "cell_type": "raw",
   "id": "ebec32be",
   "metadata": {},
   "source": [
    "#Assignment operator\n",
    "= , += , -=, *=, /=, //=, **="
   ]
  },
  {
   "cell_type": "code",
   "execution_count": 41,
   "id": "145609ae",
   "metadata": {},
   "outputs": [
    {
     "name": "stdout",
     "output_type": "stream",
     "text": [
      "10\n"
     ]
    }
   ],
   "source": [
    "v1 = 10\n",
    "print(v1)"
   ]
  },
  {
   "cell_type": "code",
   "execution_count": 42,
   "id": "cb8bf21a",
   "metadata": {},
   "outputs": [
    {
     "name": "stdout",
     "output_type": "stream",
     "text": [
      "10\n",
      "25\n"
     ]
    }
   ],
   "source": [
    "v2=10\n",
    "print(v2)\n",
    "v2=v2+15\n",
    "print(v2)"
   ]
  },
  {
   "cell_type": "code",
   "execution_count": 43,
   "id": "afb0c8fd",
   "metadata": {},
   "outputs": [
    {
     "name": "stdout",
     "output_type": "stream",
     "text": [
      "25\n"
     ]
    }
   ],
   "source": [
    "v3=10\n",
    "v3+=15 #augmented assignment  => v3 = v3 + 15\n",
    "print(v3)"
   ]
  },
  {
   "cell_type": "code",
   "execution_count": 44,
   "id": "1850e5c8",
   "metadata": {},
   "outputs": [
    {
     "name": "stdout",
     "output_type": "stream",
     "text": [
      "5\n"
     ]
    }
   ],
   "source": [
    "v4=10\n",
    "v4-=5\n",
    "print(v4)"
   ]
  },
  {
   "cell_type": "code",
   "execution_count": 45,
   "id": "491a8793",
   "metadata": {},
   "outputs": [
    {
     "name": "stdout",
     "output_type": "stream",
     "text": [
      "15\n"
     ]
    }
   ],
   "source": [
    "v5=5\n",
    "v5*=3  # v5 = v5*3\n",
    "print(v5)"
   ]
  },
  {
   "cell_type": "code",
   "execution_count": 46,
   "id": "ea09488e",
   "metadata": {},
   "outputs": [
    {
     "name": "stdout",
     "output_type": "stream",
     "text": [
      "3.3333333333333335\n"
     ]
    }
   ],
   "source": [
    "v6=10\n",
    "v6/=3\n",
    "print(v6)"
   ]
  },
  {
   "cell_type": "code",
   "execution_count": 47,
   "id": "977011fd",
   "metadata": {},
   "outputs": [
    {
     "name": "stdout",
     "output_type": "stream",
     "text": [
      "3\n"
     ]
    }
   ],
   "source": [
    "v7=10\n",
    "v7//=3\n",
    "print(v7)"
   ]
  },
  {
   "cell_type": "code",
   "execution_count": 48,
   "id": "337f3877",
   "metadata": {},
   "outputs": [
    {
     "data": {
      "text/plain": [
       "8"
      ]
     },
     "execution_count": 48,
     "metadata": {},
     "output_type": "execute_result"
    }
   ],
   "source": [
    "2**3"
   ]
  },
  {
   "cell_type": "code",
   "execution_count": 49,
   "id": "b994a230",
   "metadata": {},
   "outputs": [
    {
     "name": "stdout",
     "output_type": "stream",
     "text": [
      "8\n"
     ]
    }
   ],
   "source": [
    "v8=2\n",
    "v8**=3\n",
    "print(v8)"
   ]
  },
  {
   "cell_type": "code",
   "execution_count": null,
   "id": "a5cc37c2",
   "metadata": {},
   "outputs": [],
   "source": [
    "#single and double quotes"
   ]
  },
  {
   "cell_type": "code",
   "execution_count": 50,
   "id": "47d98082",
   "metadata": {},
   "outputs": [
    {
     "name": "stdout",
     "output_type": "stream",
     "text": [
      "welcome to python classes\n"
     ]
    }
   ],
   "source": [
    "print('welcome to python classes')"
   ]
  },
  {
   "cell_type": "code",
   "execution_count": 51,
   "id": "b631a4df",
   "metadata": {},
   "outputs": [
    {
     "name": "stdout",
     "output_type": "stream",
     "text": [
      "welcome to python classes\n"
     ]
    }
   ],
   "source": [
    "print(\"welcome to python classes\")"
   ]
  },
  {
   "cell_type": "code",
   "execution_count": 52,
   "id": "d0c47fab",
   "metadata": {},
   "outputs": [
    {
     "ename": "SyntaxError",
     "evalue": "invalid syntax (Temp/ipykernel_10996/2074167259.py, line 1)",
     "output_type": "error",
     "traceback": [
      "\u001b[1;36m  File \u001b[1;32m\"C:\\Users\\User\\AppData\\Local\\Temp/ipykernel_10996/2074167259.py\"\u001b[1;36m, line \u001b[1;32m1\u001b[0m\n\u001b[1;33m    print('welcome to python's classes')\u001b[0m\n\u001b[1;37m                             ^\u001b[0m\n\u001b[1;31mSyntaxError\u001b[0m\u001b[1;31m:\u001b[0m invalid syntax\n"
     ]
    }
   ],
   "source": [
    "print('welcome to python's classes')"
   ]
  },
  {
   "cell_type": "code",
   "execution_count": 53,
   "id": "ccc22c75",
   "metadata": {},
   "outputs": [
    {
     "name": "stdout",
     "output_type": "stream",
     "text": [
      "welcome to python's classes\n"
     ]
    }
   ],
   "source": [
    "# \\ escape character\n",
    "print('welcome to python\\'s classes')"
   ]
  },
  {
   "cell_type": "code",
   "execution_count": 54,
   "id": "fc27d76c",
   "metadata": {},
   "outputs": [
    {
     "name": "stdout",
     "output_type": "stream",
     "text": [
      "welcome to python's classes\n"
     ]
    }
   ],
   "source": [
    "print(\"welcome to python's classes\")"
   ]
  },
  {
   "cell_type": "code",
   "execution_count": 55,
   "id": "82369df1",
   "metadata": {},
   "outputs": [
    {
     "ename": "SyntaxError",
     "evalue": "invalid syntax (Temp/ipykernel_10996/3787895714.py, line 1)",
     "output_type": "error",
     "traceback": [
      "\u001b[1;36m  File \u001b[1;32m\"C:\\Users\\User\\AppData\\Local\\Temp/ipykernel_10996/3787895714.py\"\u001b[1;36m, line \u001b[1;32m1\u001b[0m\n\u001b[1;33m    print(\"welcome to python\"s classes\")\u001b[0m\n\u001b[1;37m                             ^\u001b[0m\n\u001b[1;31mSyntaxError\u001b[0m\u001b[1;31m:\u001b[0m invalid syntax\n"
     ]
    }
   ],
   "source": [
    "print(\"welcome to python\"s classes\")"
   ]
  },
  {
   "cell_type": "code",
   "execution_count": 56,
   "id": "b4d2a43e",
   "metadata": {},
   "outputs": [
    {
     "name": "stdout",
     "output_type": "stream",
     "text": [
      "welcome to python\"s classes\n"
     ]
    }
   ],
   "source": [
    "print(\"welcome to python\\\"s classes\")"
   ]
  },
  {
   "cell_type": "code",
   "execution_count": 57,
   "id": "7e0a1212",
   "metadata": {},
   "outputs": [
    {
     "name": "stdout",
     "output_type": "stream",
     "text": [
      "welcome to python\"s classes\n"
     ]
    }
   ],
   "source": [
    "print('welcome to python\"s classes')"
   ]
  },
  {
   "cell_type": "code",
   "execution_count": 58,
   "id": "67928681",
   "metadata": {},
   "outputs": [
    {
     "name": "stdout",
     "output_type": "stream",
     "text": [
      "hello100\n"
     ]
    }
   ],
   "source": [
    "print(\"hello100\")"
   ]
  },
  {
   "cell_type": "code",
   "execution_count": 59,
   "id": "3209339d",
   "metadata": {},
   "outputs": [
    {
     "name": "stdout",
     "output_type": "stream",
     "text": [
      "100\n"
     ]
    }
   ],
   "source": [
    "print(\"100\")"
   ]
  },
  {
   "cell_type": "code",
   "execution_count": 60,
   "id": "d4f95075",
   "metadata": {},
   "outputs": [
    {
     "name": "stdout",
     "output_type": "stream",
     "text": [
      "10.45\n"
     ]
    }
   ],
   "source": [
    "print(\"10.45\")"
   ]
  },
  {
   "cell_type": "raw",
   "id": "0e1f4955",
   "metadata": {},
   "source": [
    "#type conversion\n",
    "int , float , string "
   ]
  },
  {
   "cell_type": "code",
   "execution_count": 61,
   "id": "28c6cdf4",
   "metadata": {},
   "outputs": [],
   "source": [
    "#int conversion\n",
    "v1=100"
   ]
  },
  {
   "cell_type": "code",
   "execution_count": 62,
   "id": "6bf5886b",
   "metadata": {},
   "outputs": [
    {
     "data": {
      "text/plain": [
       "'100'"
      ]
     },
     "execution_count": 62,
     "metadata": {},
     "output_type": "execute_result"
    }
   ],
   "source": [
    "str(v1)"
   ]
  },
  {
   "cell_type": "code",
   "execution_count": 63,
   "id": "6e493f47",
   "metadata": {},
   "outputs": [
    {
     "data": {
      "text/plain": [
       "100.0"
      ]
     },
     "execution_count": 63,
     "metadata": {},
     "output_type": "execute_result"
    }
   ],
   "source": [
    "float(v1)"
   ]
  },
  {
   "cell_type": "code",
   "execution_count": 64,
   "id": "1609aad2",
   "metadata": {},
   "outputs": [],
   "source": [
    "v2=10.45"
   ]
  },
  {
   "cell_type": "code",
   "execution_count": 65,
   "id": "5a9c7dfe",
   "metadata": {},
   "outputs": [
    {
     "data": {
      "text/plain": [
       "'10.45'"
      ]
     },
     "execution_count": 65,
     "metadata": {},
     "output_type": "execute_result"
    }
   ],
   "source": [
    "str(v2)"
   ]
  },
  {
   "cell_type": "code",
   "execution_count": 66,
   "id": "1e05ef42",
   "metadata": {},
   "outputs": [
    {
     "data": {
      "text/plain": [
       "10"
      ]
     },
     "execution_count": 66,
     "metadata": {},
     "output_type": "execute_result"
    }
   ],
   "source": [
    "int(v2)"
   ]
  },
  {
   "cell_type": "code",
   "execution_count": 67,
   "id": "e9bc825d",
   "metadata": {},
   "outputs": [],
   "source": [
    "v3=\"hi\""
   ]
  },
  {
   "cell_type": "code",
   "execution_count": 68,
   "id": "e13590e0",
   "metadata": {},
   "outputs": [
    {
     "ename": "ValueError",
     "evalue": "invalid literal for int() with base 10: 'hi'",
     "output_type": "error",
     "traceback": [
      "\u001b[1;31m---------------------------------------------------------------------------\u001b[0m",
      "\u001b[1;31mValueError\u001b[0m                                Traceback (most recent call last)",
      "\u001b[1;32m~\\AppData\\Local\\Temp/ipykernel_10996/3282414284.py\u001b[0m in \u001b[0;36m<module>\u001b[1;34m\u001b[0m\n\u001b[1;32m----> 1\u001b[1;33m \u001b[0mint\u001b[0m\u001b[1;33m(\u001b[0m\u001b[0mv3\u001b[0m\u001b[1;33m)\u001b[0m\u001b[1;33m\u001b[0m\u001b[1;33m\u001b[0m\u001b[0m\n\u001b[0m",
      "\u001b[1;31mValueError\u001b[0m: invalid literal for int() with base 10: 'hi'"
     ]
    }
   ],
   "source": [
    "int(v3)"
   ]
  },
  {
   "cell_type": "code",
   "execution_count": 69,
   "id": "d0f6a442",
   "metadata": {},
   "outputs": [
    {
     "ename": "ValueError",
     "evalue": "could not convert string to float: 'hi'",
     "output_type": "error",
     "traceback": [
      "\u001b[1;31m---------------------------------------------------------------------------\u001b[0m",
      "\u001b[1;31mValueError\u001b[0m                                Traceback (most recent call last)",
      "\u001b[1;32m~\\AppData\\Local\\Temp/ipykernel_10996/3824121224.py\u001b[0m in \u001b[0;36m<module>\u001b[1;34m\u001b[0m\n\u001b[1;32m----> 1\u001b[1;33m \u001b[0mfloat\u001b[0m\u001b[1;33m(\u001b[0m\u001b[0mv3\u001b[0m\u001b[1;33m)\u001b[0m\u001b[1;33m\u001b[0m\u001b[1;33m\u001b[0m\u001b[0m\n\u001b[0m",
      "\u001b[1;31mValueError\u001b[0m: could not convert string to float: 'hi'"
     ]
    }
   ],
   "source": [
    "float(v3)"
   ]
  },
  {
   "cell_type": "code",
   "execution_count": 70,
   "id": "a0294345",
   "metadata": {},
   "outputs": [],
   "source": [
    "v4=\"100\""
   ]
  },
  {
   "cell_type": "code",
   "execution_count": 71,
   "id": "64ff90da",
   "metadata": {},
   "outputs": [
    {
     "data": {
      "text/plain": [
       "100"
      ]
     },
     "execution_count": 71,
     "metadata": {},
     "output_type": "execute_result"
    }
   ],
   "source": [
    "int(v4)"
   ]
  },
  {
   "cell_type": "code",
   "execution_count": 72,
   "id": "b9b1fec2",
   "metadata": {},
   "outputs": [
    {
     "data": {
      "text/plain": [
       "100.0"
      ]
     },
     "execution_count": 72,
     "metadata": {},
     "output_type": "execute_result"
    }
   ],
   "source": [
    "float(v4)"
   ]
  },
  {
   "cell_type": "code",
   "execution_count": 73,
   "id": "5776ad40",
   "metadata": {},
   "outputs": [],
   "source": [
    "v4=\"10.45\""
   ]
  },
  {
   "cell_type": "code",
   "execution_count": 76,
   "id": "1fe5796d",
   "metadata": {},
   "outputs": [
    {
     "ename": "ValueError",
     "evalue": "invalid literal for int() with base 10: '10.45'",
     "output_type": "error",
     "traceback": [
      "\u001b[1;31m---------------------------------------------------------------------------\u001b[0m",
      "\u001b[1;31mValueError\u001b[0m                                Traceback (most recent call last)",
      "\u001b[1;32m~\\AppData\\Local\\Temp/ipykernel_10996/3195057810.py\u001b[0m in \u001b[0;36m<module>\u001b[1;34m\u001b[0m\n\u001b[1;32m----> 1\u001b[1;33m \u001b[0mint\u001b[0m\u001b[1;33m(\u001b[0m\u001b[0mv4\u001b[0m\u001b[1;33m)\u001b[0m\u001b[1;33m\u001b[0m\u001b[1;33m\u001b[0m\u001b[0m\n\u001b[0m",
      "\u001b[1;31mValueError\u001b[0m: invalid literal for int() with base 10: '10.45'"
     ]
    }
   ],
   "source": [
    "int(v4)"
   ]
  },
  {
   "cell_type": "code",
   "execution_count": 77,
   "id": "a71f6120",
   "metadata": {},
   "outputs": [
    {
     "data": {
      "text/plain": [
       "10.45"
      ]
     },
     "execution_count": 77,
     "metadata": {},
     "output_type": "execute_result"
    }
   ],
   "source": [
    "float(v4)"
   ]
  },
  {
   "cell_type": "code",
   "execution_count": 78,
   "id": "9a744207",
   "metadata": {},
   "outputs": [
    {
     "data": {
      "text/plain": [
       "10"
      ]
     },
     "execution_count": 78,
     "metadata": {},
     "output_type": "execute_result"
    }
   ],
   "source": [
    "int(float(v4))"
   ]
  },
  {
   "cell_type": "markdown",
   "id": "0fc3c619",
   "metadata": {},
   "source": [
    "# Indexing and slicing"
   ]
  },
  {
   "cell_type": "code",
   "execution_count": null,
   "id": "f255c400",
   "metadata": {},
   "outputs": [],
   "source": [
    "v1 = 10\n",
    "print(v1)"
   ]
  },
  {
   "cell_type": "code",
   "execution_count": null,
   "id": "df5a42a2",
   "metadata": {},
   "outputs": [],
   "source": [
    "id(v1)"
   ]
  },
  {
   "cell_type": "code",
   "execution_count": null,
   "id": "17f6d83c",
   "metadata": {},
   "outputs": [],
   "source": [
    "print(v1)"
   ]
  },
  {
   "cell_type": "code",
   "execution_count": null,
   "id": "a3ec3382",
   "metadata": {},
   "outputs": [],
   "source": [
    "v2 = \"python\"\n",
    "print(v2)"
   ]
  },
  {
   "cell_type": "code",
   "execution_count": null,
   "id": "40d1532d",
   "metadata": {},
   "outputs": [],
   "source": [
    "#indexing "
   ]
  },
  {
   "cell_type": "code",
   "execution_count": null,
   "id": "e6ddedbf",
   "metadata": {},
   "outputs": [],
   "source": [
    "id(v2)"
   ]
  },
  {
   "cell_type": "code",
   "execution_count": null,
   "id": "3369a137",
   "metadata": {},
   "outputs": [],
   "source": [
    "v2[0]"
   ]
  },
  {
   "cell_type": "code",
   "execution_count": null,
   "id": "f62bdc0a",
   "metadata": {},
   "outputs": [],
   "source": [
    "v2[-6]"
   ]
  },
  {
   "cell_type": "code",
   "execution_count": null,
   "id": "70c34be3",
   "metadata": {},
   "outputs": [],
   "source": [
    "id(v2[0])"
   ]
  },
  {
   "cell_type": "code",
   "execution_count": null,
   "id": "7d927000",
   "metadata": {},
   "outputs": [],
   "source": [
    "v2"
   ]
  },
  {
   "cell_type": "code",
   "execution_count": null,
   "id": "356de2c6",
   "metadata": {},
   "outputs": [],
   "source": [
    "v2[1]"
   ]
  },
  {
   "cell_type": "code",
   "execution_count": null,
   "id": "9c01e5fd",
   "metadata": {},
   "outputs": [],
   "source": [
    "v2[-5]"
   ]
  },
  {
   "cell_type": "code",
   "execution_count": null,
   "id": "a4937cdb",
   "metadata": {},
   "outputs": [],
   "source": [
    "id(v2)"
   ]
  },
  {
   "cell_type": "code",
   "execution_count": null,
   "id": "be683736",
   "metadata": {},
   "outputs": [],
   "source": [
    "id(v2[0])"
   ]
  },
  {
   "cell_type": "code",
   "execution_count": null,
   "id": "1c4a0780",
   "metadata": {},
   "outputs": [],
   "source": [
    "id(v2[-6])"
   ]
  },
  {
   "cell_type": "code",
   "execution_count": null,
   "id": "c15b4901",
   "metadata": {},
   "outputs": [],
   "source": [
    "id(v2[1])"
   ]
  },
  {
   "cell_type": "code",
   "execution_count": null,
   "id": "028642f2",
   "metadata": {},
   "outputs": [],
   "source": [
    "x='p'"
   ]
  },
  {
   "cell_type": "code",
   "execution_count": null,
   "id": "f9b2474f",
   "metadata": {},
   "outputs": [],
   "source": [
    "id(x)"
   ]
  },
  {
   "cell_type": "raw",
   "id": "cb47204a",
   "metadata": {},
   "source": [
    "#slicing : it is used to retrive more than one element\n",
    "object [ start=0 : stop=end : step=1 ]"
   ]
  },
  {
   "cell_type": "code",
   "execution_count": null,
   "id": "2e3bd22c",
   "metadata": {},
   "outputs": [],
   "source": [
    "v2 = \"pythoncourse\""
   ]
  },
  {
   "cell_type": "code",
   "execution_count": null,
   "id": "e74c60fc",
   "metadata": {},
   "outputs": [],
   "source": [
    "v2"
   ]
  },
  {
   "cell_type": "code",
   "execution_count": null,
   "id": "d25b6374",
   "metadata": {},
   "outputs": [],
   "source": [
    "v2[:]  # v2[0:end:1]  next = start + step"
   ]
  },
  {
   "cell_type": "code",
   "execution_count": null,
   "id": "e9dc1597",
   "metadata": {},
   "outputs": [],
   "source": [
    "v2[::] # v2[0:end:1]  next = start + step"
   ]
  },
  {
   "cell_type": "code",
   "execution_count": null,
   "id": "ba53f097",
   "metadata": {},
   "outputs": [],
   "source": [
    "v2[::1] # v2[0:end:1]  next = start + step"
   ]
  },
  {
   "cell_type": "code",
   "execution_count": null,
   "id": "04a141e0",
   "metadata": {},
   "outputs": [],
   "source": [
    "v2[::2] # v2[0:end:2]  next = start + step"
   ]
  },
  {
   "cell_type": "code",
   "execution_count": null,
   "id": "6c6df0b5",
   "metadata": {},
   "outputs": [],
   "source": [
    "v2[::3] # v2[0:end:3]  next = start + step"
   ]
  },
  {
   "cell_type": "code",
   "execution_count": null,
   "id": "4913bef4",
   "metadata": {},
   "outputs": [],
   "source": [
    "v2[:4] # v2[0:4:1] ==> 0(p),1(y),2(t),3(h)"
   ]
  },
  {
   "cell_type": "raw",
   "id": "1c77e503",
   "metadata": {},
   "source": [
    "v2 = \"pythoncourse\"\n",
    "0 1 2 3 4 5 6 7 8 9 10 11\n",
    "p y t h o n c o u r c  e\n",
    "-12-11-10-9-8-7-6-5-4-3-2-1"
   ]
  },
  {
   "cell_type": "code",
   "execution_count": null,
   "id": "338aa627",
   "metadata": {},
   "outputs": [],
   "source": [
    "v2[3:]  # v2[3:end:1] => 3,4,5,6,7,8,9,10,11"
   ]
  },
  {
   "cell_type": "code",
   "execution_count": null,
   "id": "b832e1b5",
   "metadata": {},
   "outputs": [],
   "source": [
    "v2[3::2]  # v2[3:end:2] => 3,5,7,9,11"
   ]
  },
  {
   "cell_type": "code",
   "execution_count": null,
   "id": "a31f5281",
   "metadata": {},
   "outputs": [],
   "source": [
    "v2[2:5]"
   ]
  },
  {
   "cell_type": "code",
   "execution_count": null,
   "id": "5fab7515",
   "metadata": {},
   "outputs": [],
   "source": [
    "v3=\"welcome to python\""
   ]
  },
  {
   "cell_type": "code",
   "execution_count": null,
   "id": "106c861c",
   "metadata": {},
   "outputs": [],
   "source": [
    "v3[::]"
   ]
  },
  {
   "cell_type": "code",
   "execution_count": null,
   "id": "cf451ec4",
   "metadata": {},
   "outputs": [],
   "source": [
    "v3[::1]"
   ]
  },
  {
   "cell_type": "code",
   "execution_count": null,
   "id": "1f8a722c",
   "metadata": {},
   "outputs": [],
   "source": [
    "v3[::2]"
   ]
  },
  {
   "cell_type": "code",
   "execution_count": null,
   "id": "c5ff50ea",
   "metadata": {},
   "outputs": [],
   "source": [
    "v3[7:2:1] # 7,8,9,10,..."
   ]
  },
  {
   "cell_type": "code",
   "execution_count": null,
   "id": "e51a2fa2",
   "metadata": {},
   "outputs": [],
   "source": [
    "v3[7:2:-1] # 7,6,5,4,3,2"
   ]
  },
  {
   "cell_type": "raw",
   "id": "df559382",
   "metadata": {},
   "source": [
    "v2 = \"pythoncourse\""
   ]
  },
  {
   "cell_type": "code",
   "execution_count": null,
   "id": "9fc2e93a",
   "metadata": {},
   "outputs": [],
   "source": [
    "v2[::-1]  # 17,16,15,14,....0"
   ]
  },
  {
   "cell_type": "code",
   "execution_count": null,
   "id": "cd23b82b",
   "metadata": {},
   "outputs": [],
   "source": [
    "v2[:3:-1]"
   ]
  },
  {
   "cell_type": "code",
   "execution_count": null,
   "id": "83f937f1",
   "metadata": {},
   "outputs": [],
   "source": []
  },
  {
   "cell_type": "code",
   "execution_count": null,
   "id": "ab6d861d",
   "metadata": {},
   "outputs": [],
   "source": []
  },
  {
   "cell_type": "code",
   "execution_count": null,
   "id": "edfb5c45",
   "metadata": {},
   "outputs": [],
   "source": []
  },
  {
   "cell_type": "code",
   "execution_count": null,
   "id": "5226636d",
   "metadata": {},
   "outputs": [],
   "source": []
  }
 ],
 "metadata": {
  "kernelspec": {
   "display_name": "Python 3 (ipykernel)",
   "language": "python",
   "name": "python3"
  },
  "language_info": {
   "codemirror_mode": {
    "name": "ipython",
    "version": 3
   },
   "file_extension": ".py",
   "mimetype": "text/x-python",
   "name": "python",
   "nbconvert_exporter": "python",
   "pygments_lexer": "ipython3",
   "version": "3.9.7"
  }
 },
 "nbformat": 4,
 "nbformat_minor": 5
}
